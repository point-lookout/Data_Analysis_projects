{
 "cells": [
  {
   "cell_type": "markdown",
   "metadata": {},
   "source": [
    "<div class=\"alert alert-info\">\n",
    "    \n",
    "\n",
    "<font size=\"5\"><b>ИЗУЧЕНИЕ ПОВЕДЕНИЯ ПОЛЬЗОВАТЕЛЕЙ МОБИЛЬНОГО ПРИЛОЖЕНИЯ.</b></font>"
   ]
  },
  {
   "cell_type": "markdown",
   "metadata": {},
   "source": [
    "<div style=\"border:solid green 2px; paddind: 20px\">\n",
    "    \n",
    "\n",
    "    \n",
    ">**Целью настоящего исследования является изучение поведения пользователей стартапа, продающего продукты питания.**\n",
    "\n",
    ">**Перед нами стоят четыре основные задачи:**\n",
    "\n",
    ">**1) знакомство с данными, проверка их полноты, корректности, их предварительная обработка;**  \n",
    ">**2) изучение воронки продаж, с целью понимания того, какие этапы проходят пользователи на пути к покупке, сколько пользователей доходят до покупки, а сколько теряется и на каких этапах;**  \n",
    ">**3) исследование результатов A/A/B-эксперимента, в процессе которого выясняется влияние изменения шрифта в мобильном приложении со старого на новый. В эксперименте участвуют три группы - две контрольные со старыми шрифтами и одна экспериментальная - с новыми.**  \n",
    "    >**4) формирование общих выводов и рекомендаций по итогам исследования.**"
   ]
  },
  {
   "cell_type": "markdown",
   "metadata": {
    "toc": true
   },
   "source": [
    "<h1>Table of Contents<span class=\"tocSkip\"></span></h1>\n",
    "<div class=\"toc\"><ul class=\"toc-item\"><li><span><a href=\"#ЗНАКОМСТВО-С-ДАННЫМИ.\" data-toc-modified-id=\"ЗНАКОМСТВО-С-ДАННЫМИ.-1\">ЗНАКОМСТВО С ДАННЫМИ.</a></span></li><li><span><a href=\"#ПОДГОТОВКА-ДАННЫХ.\" data-toc-modified-id=\"ПОДГОТОВКА-ДАННЫХ.-2\">ПОДГОТОВКА ДАННЫХ.</a></span></li><li><span><a href=\"#ИЗУЧЕНИЕ-И-ПРОВЕРКА-ДАННЫХ.\" data-toc-modified-id=\"ИЗУЧЕНИЕ-И-ПРОВЕРКА-ДАННЫХ.-3\">ИЗУЧЕНИЕ И ПРОВЕРКА ДАННЫХ.</a></span><ul class=\"toc-item\"><li><span><a href=\"#Проверим-количество-событий-и-количество-пользователей-в-логе\" data-toc-modified-id=\"Проверим-количество-событий-и-количество-пользователей-в-логе-3.1\">Проверим количество событий и количество пользователей в логе</a></span></li><li><span><a href=\"#Посчитаем,-сколько-в-среднем-событий-приходится-на-пользователя\" data-toc-modified-id=\"Посчитаем,-сколько-в-среднем-событий-приходится-на-пользователя-3.2\">Посчитаем, сколько в среднем событий приходится на пользователя</a></span></li><li><span><a href=\"#Проанализируем-характеристики-временных-периодов,-представленных-в-датасете\" data-toc-modified-id=\"Проанализируем-характеристики-временных-периодов,-представленных-в-датасете-3.3\">Проанализируем характеристики временных периодов, представленных в датасете</a></span></li></ul></li><li><span><a href=\"#ИЗУЧЕНИЕ-ВОРОНКИ-СОБЫТИЙ.\" data-toc-modified-id=\"ИЗУЧЕНИЕ-ВОРОНКИ-СОБЫТИЙ.-4\">ИЗУЧЕНИЕ ВОРОНКИ СОБЫТИЙ.</a></span><ul class=\"toc-item\"><li><span><a href=\"#Посмотрим,-какие-события-есть-в-логах,-как-часто-они-встречаются\" data-toc-modified-id=\"Посмотрим,-какие-события-есть-в-логах,-как-часто-они-встречаются-4.1\">Посмотрим, какие события есть в логах, как часто они встречаются</a></span></li><li><span><a href=\"#Посчитаем,-сколько-пользователей-совершали-каждое-из-этих-событий\" data-toc-modified-id=\"Посчитаем,-сколько-пользователей-совершали-каждое-из-этих-событий-4.2\">Посчитаем, сколько пользователей совершали каждое из этих событий</a></span></li><li><span><a href=\"#Посчитаем,-какая-доля-пользователей-проходит-по-всем-шагам-воронки.\" data-toc-modified-id=\"Посчитаем,-какая-доля-пользователей-проходит-по-всем-шагам-воронки.-4.3\">Посчитаем, какая доля пользователей проходит по всем шагам воронки.</a></span></li></ul></li><li><span><a href=\"#ИЗУЧЕНИЕ-РЕЗУЛЬТАТОВ-ЭКСПЕРИМЕНТА.\" data-toc-modified-id=\"ИЗУЧЕНИЕ-РЕЗУЛЬТАТОВ-ЭКСПЕРИМЕНТА.-5\">ИЗУЧЕНИЕ РЕЗУЛЬТАТОВ ЭКСПЕРИМЕНТА.</a></span><ul class=\"toc-item\"><li><span><a href=\"#Проверим,-находят-ли-статистические-критерии-разницу-между-двумя-контрольными-группами-для-А/А-эксперимента\" data-toc-modified-id=\"Проверим,-находят-ли-статистические-критерии-разницу-между-двумя-контрольными-группами-для-А/А-эксперимента-5.1\">Проверим, находят ли статистические критерии разницу между двумя контрольными группами для А/А-эксперимента</a></span></li><li><span><a href=\"#Проанализируем-самое-популярное-событие\" data-toc-modified-id=\"Проанализируем-самое-популярное-событие-5.2\">Проанализируем самое популярное событие</a></span></li><li><span><a href=\"#Сравнение-подгрупп-по-событиям-с-выявлением-статистически-значимых-различий\" data-toc-modified-id=\"Сравнение-подгрупп-по-событиям-с-выявлением-статистически-значимых-различий-5.3\">Сравнение подгрупп по событиям с выявлением статистически значимых различий</a></span><ul class=\"toc-item\"><li><span><a href=\"#Приступим-к-тестированию:\" data-toc-modified-id=\"Приступим-к-тестированию:-5.3.1\">Приступим к тестированию:</a></span></li><li><span><a href=\"#Сравнение-экспериментальной-и-объединённой-контрольной-группы\" data-toc-modified-id=\"Сравнение-экспериментальной-и-объединённой-контрольной-группы-5.3.2\">Сравнение экспериментальной и объединённой контрольной группы</a></span></li></ul></li></ul></li><li><span><a href=\"#ОБЩИЙ-ВЫВОД-И-РЕКОМЕНДАЦИИ.\" data-toc-modified-id=\"ОБЩИЙ-ВЫВОД-И-РЕКОМЕНДАЦИИ.-6\">ОБЩИЙ ВЫВОД И РЕКОМЕНДАЦИИ.</a></span></li></ul></div>"
   ]
  },
  {
   "cell_type": "markdown",
   "metadata": {},
   "source": [
    "<div class=\"alert alert-info\">\n",
    "<a id='an_dan'></a>\n",
    "\n",
    "## ЗНАКОМСТВО С ДАННЫМИ."
   ]
  },
  {
   "cell_type": "code",
   "execution_count": 1,
   "metadata": {},
   "outputs": [],
   "source": [
    "#импортируем нужные библиотеки\n",
    "\n",
    "import pandas as pd\n",
    "import seaborn as sns\n",
    "import scipy.stats as stats\n",
    "import datetime as dt\n",
    "import numpy as np\n",
    "import math as mth\n",
    "from IPython.display import Image\n",
    "import plotly.express as px\n",
    "from scipy import stats as st\n",
    "import matplotlib.pyplot as plt\n",
    "from matplotlib.figure import Figure\n",
    "from plotly import graph_objects as go"
   ]
  },
  {
   "cell_type": "code",
   "execution_count": 2,
   "metadata": {},
   "outputs": [],
   "source": [
    "#страхуем код от \"вылета\", предусматривая варианты онлайн-работы и скачивания датасета с сайта\n",
    "\n",
    "try:\n",
    "    logs = pd.read_csv ('/datasets/logs_exp.csv', sep = '\\t')\n",
    "except:\n",
    "    logs = pd.read_csv('https://code.s3.yandex.net/datasets/logs_exp.csv', sep = '\\t')"
   ]
  },
  {
   "cell_type": "code",
   "execution_count": 3,
   "metadata": {},
   "outputs": [
    {
     "data": {
      "text/html": [
       "<div>\n",
       "<style scoped>\n",
       "    .dataframe tbody tr th:only-of-type {\n",
       "        vertical-align: middle;\n",
       "    }\n",
       "\n",
       "    .dataframe tbody tr th {\n",
       "        vertical-align: top;\n",
       "    }\n",
       "\n",
       "    .dataframe thead th {\n",
       "        text-align: right;\n",
       "    }\n",
       "</style>\n",
       "<table border=\"1\" class=\"dataframe\">\n",
       "  <thead>\n",
       "    <tr style=\"text-align: right;\">\n",
       "      <th></th>\n",
       "      <th>EventName</th>\n",
       "      <th>DeviceIDHash</th>\n",
       "      <th>EventTimestamp</th>\n",
       "      <th>ExpId</th>\n",
       "    </tr>\n",
       "  </thead>\n",
       "  <tbody>\n",
       "    <tr>\n",
       "      <th>0</th>\n",
       "      <td>MainScreenAppear</td>\n",
       "      <td>4575588528974610257</td>\n",
       "      <td>1564029816</td>\n",
       "      <td>246</td>\n",
       "    </tr>\n",
       "    <tr>\n",
       "      <th>1</th>\n",
       "      <td>MainScreenAppear</td>\n",
       "      <td>7416695313311560658</td>\n",
       "      <td>1564053102</td>\n",
       "      <td>246</td>\n",
       "    </tr>\n",
       "    <tr>\n",
       "      <th>2</th>\n",
       "      <td>PaymentScreenSuccessful</td>\n",
       "      <td>3518123091307005509</td>\n",
       "      <td>1564054127</td>\n",
       "      <td>248</td>\n",
       "    </tr>\n",
       "    <tr>\n",
       "      <th>3</th>\n",
       "      <td>CartScreenAppear</td>\n",
       "      <td>3518123091307005509</td>\n",
       "      <td>1564054127</td>\n",
       "      <td>248</td>\n",
       "    </tr>\n",
       "    <tr>\n",
       "      <th>4</th>\n",
       "      <td>PaymentScreenSuccessful</td>\n",
       "      <td>6217807653094995999</td>\n",
       "      <td>1564055322</td>\n",
       "      <td>248</td>\n",
       "    </tr>\n",
       "  </tbody>\n",
       "</table>\n",
       "</div>"
      ],
      "text/plain": [
       "                 EventName         DeviceIDHash  EventTimestamp  ExpId\n",
       "0         MainScreenAppear  4575588528974610257      1564029816    246\n",
       "1         MainScreenAppear  7416695313311560658      1564053102    246\n",
       "2  PaymentScreenSuccessful  3518123091307005509      1564054127    248\n",
       "3         CartScreenAppear  3518123091307005509      1564054127    248\n",
       "4  PaymentScreenSuccessful  6217807653094995999      1564055322    248"
      ]
     },
     "execution_count": 3,
     "metadata": {},
     "output_type": "execute_result"
    }
   ],
   "source": [
    "#посмотрим первые пять строк\n",
    "\n",
    "logs.head()"
   ]
  },
  {
   "cell_type": "code",
   "execution_count": 4,
   "metadata": {},
   "outputs": [
    {
     "data": {
      "text/html": [
       "<div>\n",
       "<style scoped>\n",
       "    .dataframe tbody tr th:only-of-type {\n",
       "        vertical-align: middle;\n",
       "    }\n",
       "\n",
       "    .dataframe tbody tr th {\n",
       "        vertical-align: top;\n",
       "    }\n",
       "\n",
       "    .dataframe thead th {\n",
       "        text-align: right;\n",
       "    }\n",
       "</style>\n",
       "<table border=\"1\" class=\"dataframe\">\n",
       "  <thead>\n",
       "    <tr style=\"text-align: right;\">\n",
       "      <th></th>\n",
       "      <th>EventName</th>\n",
       "      <th>DeviceIDHash</th>\n",
       "      <th>EventTimestamp</th>\n",
       "      <th>ExpId</th>\n",
       "    </tr>\n",
       "  </thead>\n",
       "  <tbody>\n",
       "    <tr>\n",
       "      <th>36942</th>\n",
       "      <td>MainScreenAppear</td>\n",
       "      <td>5037320922135103681</td>\n",
       "      <td>1564690038</td>\n",
       "      <td>248</td>\n",
       "    </tr>\n",
       "    <tr>\n",
       "      <th>169629</th>\n",
       "      <td>PaymentScreenSuccessful</td>\n",
       "      <td>5746054600836820139</td>\n",
       "      <td>1565025069</td>\n",
       "      <td>246</td>\n",
       "    </tr>\n",
       "    <tr>\n",
       "      <th>92751</th>\n",
       "      <td>MainScreenAppear</td>\n",
       "      <td>1792961796426330538</td>\n",
       "      <td>1564838480</td>\n",
       "      <td>247</td>\n",
       "    </tr>\n",
       "    <tr>\n",
       "      <th>110455</th>\n",
       "      <td>MainScreenAppear</td>\n",
       "      <td>3057004097835785288</td>\n",
       "      <td>1564897411</td>\n",
       "      <td>248</td>\n",
       "    </tr>\n",
       "    <tr>\n",
       "      <th>85958</th>\n",
       "      <td>CartScreenAppear</td>\n",
       "      <td>7562231291070546369</td>\n",
       "      <td>1564828181</td>\n",
       "      <td>247</td>\n",
       "    </tr>\n",
       "  </tbody>\n",
       "</table>\n",
       "</div>"
      ],
      "text/plain": [
       "                      EventName         DeviceIDHash  EventTimestamp  ExpId\n",
       "36942          MainScreenAppear  5037320922135103681      1564690038    248\n",
       "169629  PaymentScreenSuccessful  5746054600836820139      1565025069    246\n",
       "92751          MainScreenAppear  1792961796426330538      1564838480    247\n",
       "110455         MainScreenAppear  3057004097835785288      1564897411    248\n",
       "85958          CartScreenAppear  7562231291070546369      1564828181    247"
      ]
     },
     "execution_count": 4,
     "metadata": {},
     "output_type": "execute_result"
    }
   ],
   "source": [
    "#посмотрим пять строк \"вразнобой\"\n",
    "\n",
    "logs.sample(5)"
   ]
  },
  {
   "cell_type": "code",
   "execution_count": 5,
   "metadata": {},
   "outputs": [
    {
     "data": {
      "text/plain": [
       "(244126, 4)"
      ]
     },
     "execution_count": 5,
     "metadata": {},
     "output_type": "execute_result"
    }
   ],
   "source": [
    "logs.shape"
   ]
  },
  {
   "cell_type": "code",
   "execution_count": 6,
   "metadata": {},
   "outputs": [
    {
     "data": {
      "text/plain": [
       "EventName         object\n",
       "DeviceIDHash       int64\n",
       "EventTimestamp     int64\n",
       "ExpId              int64\n",
       "dtype: object"
      ]
     },
     "execution_count": 6,
     "metadata": {},
     "output_type": "execute_result"
    }
   ],
   "source": [
    "logs.dtypes"
   ]
  },
  {
   "cell_type": "code",
   "execution_count": 7,
   "metadata": {},
   "outputs": [
    {
     "name": "stdout",
     "output_type": "stream",
     "text": [
      "<class 'pandas.core.frame.DataFrame'>\n",
      "RangeIndex: 244126 entries, 0 to 244125\n",
      "Data columns (total 4 columns):\n",
      " #   Column          Non-Null Count   Dtype \n",
      "---  ------          --------------   ----- \n",
      " 0   EventName       244126 non-null  object\n",
      " 1   DeviceIDHash    244126 non-null  int64 \n",
      " 2   EventTimestamp  244126 non-null  int64 \n",
      " 3   ExpId           244126 non-null  int64 \n",
      "dtypes: int64(3), object(1)\n",
      "memory usage: 7.5+ MB\n"
     ]
    }
   ],
   "source": [
    "logs.info()"
   ]
  },
  {
   "cell_type": "markdown",
   "metadata": {},
   "source": [
    "**Колонка со временем события находится в формате 'int'.  \n",
    "При этом, сам формат времени похож на unix time, что соответствует Всемирному координированному времени, или UTC.**"
   ]
  },
  {
   "cell_type": "code",
   "execution_count": 8,
   "metadata": {
    "scrolled": true
   },
   "outputs": [
    {
     "data": {
      "text/plain": [
       "EventName         0\n",
       "DeviceIDHash      0\n",
       "EventTimestamp    0\n",
       "ExpId             0\n",
       "dtype: int64"
      ]
     },
     "execution_count": 8,
     "metadata": {},
     "output_type": "execute_result"
    }
   ],
   "source": [
    "#посмотрим количество пропущенных значений\n",
    "\n",
    "logs.isna().sum()"
   ]
  },
  {
   "cell_type": "code",
   "execution_count": 9,
   "metadata": {
    "scrolled": true
   },
   "outputs": [
    {
     "data": {
      "text/plain": [
       "413"
      ]
     },
     "execution_count": 9,
     "metadata": {},
     "output_type": "execute_result"
    }
   ],
   "source": [
    "#проверим наличие явных дубликатов\n",
    "\n",
    "logs.duplicated().sum()"
   ]
  },
  {
   "cell_type": "markdown",
   "metadata": {},
   "source": [
    "**Избавимся от полных дубликатов (заодно обновив индексацию):**"
   ]
  },
  {
   "cell_type": "code",
   "execution_count": 10,
   "metadata": {},
   "outputs": [],
   "source": [
    "logs = logs.drop_duplicates().reset_index(drop=True)"
   ]
  },
  {
   "cell_type": "markdown",
   "metadata": {},
   "source": [
    "**Первичное знакомство с данными произведено, полные дубликаты удалены. Пропуски в данных отсутствуют. Нужно изменить названия колонок, для большего удобства, перевести формат даты из UTC в стандартный, а также выделить отдельную колонку с датой.**"
   ]
  },
  {
   "cell_type": "code",
   "execution_count": null,
   "metadata": {},
   "outputs": [],
   "source": []
  },
  {
   "cell_type": "code",
   "execution_count": null,
   "metadata": {},
   "outputs": [],
   "source": []
  },
  {
   "cell_type": "markdown",
   "metadata": {},
   "source": [
    "<div class=\"alert alert-info\">\n",
    "\n",
    "## ПОДГОТОВКА ДАННЫХ."
   ]
  },
  {
   "cell_type": "markdown",
   "metadata": {},
   "source": [
    "**Заменим названия столбцов на более удобные:**"
   ]
  },
  {
   "cell_type": "code",
   "execution_count": 11,
   "metadata": {},
   "outputs": [],
   "source": [
    "logs.columns = ['event_name', 'device_id_hash', 'event_timestamp', 'exp_id']"
   ]
  },
  {
   "cell_type": "markdown",
   "metadata": {},
   "source": [
    "**Приведём колонку со временем в корректный формат:**"
   ]
  },
  {
   "cell_type": "code",
   "execution_count": 12,
   "metadata": {},
   "outputs": [],
   "source": [
    "logs['event_timestamp'] = pd.to_datetime(logs['event_timestamp'], unit='s')"
   ]
  },
  {
   "cell_type": "markdown",
   "metadata": {},
   "source": [
    "**Добавим отдельный столбец дат:**"
   ]
  },
  {
   "cell_type": "code",
   "execution_count": 13,
   "metadata": {},
   "outputs": [],
   "source": [
    "logs['event_date'] = logs['event_timestamp'].dt.date"
   ]
  },
  {
   "cell_type": "code",
   "execution_count": 14,
   "metadata": {},
   "outputs": [],
   "source": [
    "logs['event_date'] = pd.to_datetime(logs['event_date'])"
   ]
  },
  {
   "cell_type": "markdown",
   "metadata": {},
   "source": [
    "**Теперь проверим, встречаются ли одни и те же пользователи, присутствующие более, чем в одной группе:**"
   ]
  },
  {
   "cell_type": "code",
   "execution_count": 15,
   "metadata": {},
   "outputs": [],
   "source": [
    "#сформируем список участников группы 246\n",
    "\n",
    "users_group_246 = logs.loc[logs['exp_id'] == 246, 'device_id_hash'].unique()"
   ]
  },
  {
   "cell_type": "code",
   "execution_count": 16,
   "metadata": {},
   "outputs": [],
   "source": [
    "#сформируем список участников группы 247\n",
    "\n",
    "users_group_247 = logs.loc[logs['exp_id'] == 247, 'device_id_hash'].unique()"
   ]
  },
  {
   "cell_type": "code",
   "execution_count": 17,
   "metadata": {},
   "outputs": [],
   "source": [
    "#сформируем список участников группы 248\n",
    "\n",
    "users_group_248 = logs.loc[logs['exp_id'] == 248, 'device_id_hash'].unique()"
   ]
  },
  {
   "cell_type": "code",
   "execution_count": 18,
   "metadata": {},
   "outputs": [
    {
     "data": {
      "text/html": [
       "<div>\n",
       "<style scoped>\n",
       "    .dataframe tbody tr th:only-of-type {\n",
       "        vertical-align: middle;\n",
       "    }\n",
       "\n",
       "    .dataframe tbody tr th {\n",
       "        vertical-align: top;\n",
       "    }\n",
       "\n",
       "    .dataframe thead th {\n",
       "        text-align: right;\n",
       "    }\n",
       "</style>\n",
       "<table border=\"1\" class=\"dataframe\">\n",
       "  <thead>\n",
       "    <tr style=\"text-align: right;\">\n",
       "      <th></th>\n",
       "      <th>event_name</th>\n",
       "      <th>device_id_hash</th>\n",
       "      <th>event_timestamp</th>\n",
       "      <th>exp_id</th>\n",
       "      <th>event_date</th>\n",
       "    </tr>\n",
       "  </thead>\n",
       "  <tbody>\n",
       "  </tbody>\n",
       "</table>\n",
       "</div>"
      ],
      "text/plain": [
       "Empty DataFrame\n",
       "Columns: [event_name, device_id_hash, event_timestamp, exp_id, event_date]\n",
       "Index: []"
      ]
     },
     "execution_count": 18,
     "metadata": {},
     "output_type": "execute_result"
    }
   ],
   "source": [
    "#проверим пересечение участников групп 246 и 247\n",
    "\n",
    "logs.loc[(logs['exp_id'] == 246) & (logs['device_id_hash'].isin(users_group_247))]"
   ]
  },
  {
   "cell_type": "code",
   "execution_count": 19,
   "metadata": {},
   "outputs": [
    {
     "data": {
      "text/html": [
       "<div>\n",
       "<style scoped>\n",
       "    .dataframe tbody tr th:only-of-type {\n",
       "        vertical-align: middle;\n",
       "    }\n",
       "\n",
       "    .dataframe tbody tr th {\n",
       "        vertical-align: top;\n",
       "    }\n",
       "\n",
       "    .dataframe thead th {\n",
       "        text-align: right;\n",
       "    }\n",
       "</style>\n",
       "<table border=\"1\" class=\"dataframe\">\n",
       "  <thead>\n",
       "    <tr style=\"text-align: right;\">\n",
       "      <th></th>\n",
       "      <th>event_name</th>\n",
       "      <th>device_id_hash</th>\n",
       "      <th>event_timestamp</th>\n",
       "      <th>exp_id</th>\n",
       "      <th>event_date</th>\n",
       "    </tr>\n",
       "  </thead>\n",
       "  <tbody>\n",
       "  </tbody>\n",
       "</table>\n",
       "</div>"
      ],
      "text/plain": [
       "Empty DataFrame\n",
       "Columns: [event_name, device_id_hash, event_timestamp, exp_id, event_date]\n",
       "Index: []"
      ]
     },
     "execution_count": 19,
     "metadata": {},
     "output_type": "execute_result"
    }
   ],
   "source": [
    "#проверим пересечение участников групп 246 и 248\n",
    "\n",
    "logs.loc[(logs['exp_id'] == 246) & (logs['device_id_hash'].isin(users_group_248))]"
   ]
  },
  {
   "cell_type": "code",
   "execution_count": 20,
   "metadata": {},
   "outputs": [
    {
     "data": {
      "text/html": [
       "<div>\n",
       "<style scoped>\n",
       "    .dataframe tbody tr th:only-of-type {\n",
       "        vertical-align: middle;\n",
       "    }\n",
       "\n",
       "    .dataframe tbody tr th {\n",
       "        vertical-align: top;\n",
       "    }\n",
       "\n",
       "    .dataframe thead th {\n",
       "        text-align: right;\n",
       "    }\n",
       "</style>\n",
       "<table border=\"1\" class=\"dataframe\">\n",
       "  <thead>\n",
       "    <tr style=\"text-align: right;\">\n",
       "      <th></th>\n",
       "      <th>event_name</th>\n",
       "      <th>device_id_hash</th>\n",
       "      <th>event_timestamp</th>\n",
       "      <th>exp_id</th>\n",
       "      <th>event_date</th>\n",
       "    </tr>\n",
       "  </thead>\n",
       "  <tbody>\n",
       "  </tbody>\n",
       "</table>\n",
       "</div>"
      ],
      "text/plain": [
       "Empty DataFrame\n",
       "Columns: [event_name, device_id_hash, event_timestamp, exp_id, event_date]\n",
       "Index: []"
      ]
     },
     "execution_count": 20,
     "metadata": {},
     "output_type": "execute_result"
    }
   ],
   "source": [
    "#проверим пересечение участников групп 247 и 248\n",
    "\n",
    "logs.loc[(logs['exp_id'] == 247) & (logs['device_id_hash'].isin(users_group_248))]"
   ]
  },
  {
   "cell_type": "markdown",
   "metadata": {},
   "source": [
    "**Таким образом, присутствие одних и тех же пользователей одновременно в нескольких группах мы исключаем.**"
   ]
  },
  {
   "cell_type": "markdown",
   "metadata": {},
   "source": [
    "**Данные надлежащим образом предобработаны, изменены названия колонок на более удобные, даты приведены к корректному формату, лог проверен на наличие одних и тех же уникальных пользователей более, ченм в одной экспериментальной группе.**"
   ]
  },
  {
   "cell_type": "code",
   "execution_count": null,
   "metadata": {},
   "outputs": [],
   "source": []
  },
  {
   "cell_type": "code",
   "execution_count": null,
   "metadata": {},
   "outputs": [],
   "source": []
  },
  {
   "cell_type": "markdown",
   "metadata": {},
   "source": [
    "<div class=\"alert alert-info\">\n",
    "<a id='izuch'></a>\n",
    "\n",
    "## ИЗУЧЕНИЕ И ПРОВЕРКА ДАННЫХ."
   ]
  },
  {
   "cell_type": "markdown",
   "metadata": {},
   "source": [
    "### Проверим количество событий и количество пользователей в логе"
   ]
  },
  {
   "cell_type": "code",
   "execution_count": 21,
   "metadata": {},
   "outputs": [
    {
     "name": "stdout",
     "output_type": "stream",
     "text": [
      "Общее количество уникальных событий, представленных в данных - 5\n"
     ]
    }
   ],
   "source": [
    "print(f'Общее количество уникальных событий, представленных в данных - {len(logs.event_name.unique())}')"
   ]
  },
  {
   "cell_type": "code",
   "execution_count": 22,
   "metadata": {},
   "outputs": [
    {
     "name": "stdout",
     "output_type": "stream",
     "text": [
      "Общее количество уникальных пользователей, представленных в данных - 7551\n"
     ]
    }
   ],
   "source": [
    "print(f'Общее количество уникальных пользователей, представленных в данных - {len(logs.device_id_hash.unique())}')"
   ]
  },
  {
   "cell_type": "markdown",
   "metadata": {},
   "source": [
    "**Выявлено 7551 уникальных пользователей и 5 уникальных событий.**"
   ]
  },
  {
   "cell_type": "code",
   "execution_count": null,
   "metadata": {},
   "outputs": [],
   "source": []
  },
  {
   "cell_type": "markdown",
   "metadata": {},
   "source": [
    "### Посчитаем, сколько в среднем событий приходится на пользователя"
   ]
  },
  {
   "cell_type": "code",
   "execution_count": 23,
   "metadata": {},
   "outputs": [],
   "source": [
    "#сгруппируем данные по id пользователей и узнаем количество событий для каджого пользователя\n",
    "\n",
    "events_per_user = logs.groupby('device_id_hash').agg({'event_name':'count'}).sort_values(by='event_name',ascending=False)"
   ]
  },
  {
   "cell_type": "code",
   "execution_count": 24,
   "metadata": {},
   "outputs": [
    {
     "data": {
      "text/html": [
       "<div>\n",
       "<style scoped>\n",
       "    .dataframe tbody tr th:only-of-type {\n",
       "        vertical-align: middle;\n",
       "    }\n",
       "\n",
       "    .dataframe tbody tr th {\n",
       "        vertical-align: top;\n",
       "    }\n",
       "\n",
       "    .dataframe thead th {\n",
       "        text-align: right;\n",
       "    }\n",
       "</style>\n",
       "<table border=\"1\" class=\"dataframe\">\n",
       "  <thead>\n",
       "    <tr style=\"text-align: right;\">\n",
       "      <th></th>\n",
       "      <th>event_name</th>\n",
       "    </tr>\n",
       "    <tr>\n",
       "      <th>device_id_hash</th>\n",
       "      <th></th>\n",
       "    </tr>\n",
       "  </thead>\n",
       "  <tbody>\n",
       "    <tr>\n",
       "      <th>6304868067479728361</th>\n",
       "      <td>2307</td>\n",
       "    </tr>\n",
       "    <tr>\n",
       "      <th>197027893265565660</th>\n",
       "      <td>1998</td>\n",
       "    </tr>\n",
       "    <tr>\n",
       "      <th>4623191541214045580</th>\n",
       "      <td>1768</td>\n",
       "    </tr>\n",
       "    <tr>\n",
       "      <th>6932517045703054087</th>\n",
       "      <td>1439</td>\n",
       "    </tr>\n",
       "    <tr>\n",
       "      <th>1754140665440434215</th>\n",
       "      <td>1221</td>\n",
       "    </tr>\n",
       "    <tr>\n",
       "      <th>...</th>\n",
       "      <td>...</td>\n",
       "    </tr>\n",
       "    <tr>\n",
       "      <th>7399061063341528729</th>\n",
       "      <td>1</td>\n",
       "    </tr>\n",
       "    <tr>\n",
       "      <th>2968164493349205501</th>\n",
       "      <td>1</td>\n",
       "    </tr>\n",
       "    <tr>\n",
       "      <th>8071397669512236988</th>\n",
       "      <td>1</td>\n",
       "    </tr>\n",
       "    <tr>\n",
       "      <th>425817683219936619</th>\n",
       "      <td>1</td>\n",
       "    </tr>\n",
       "    <tr>\n",
       "      <th>6888746892508752</th>\n",
       "      <td>1</td>\n",
       "    </tr>\n",
       "  </tbody>\n",
       "</table>\n",
       "<p>7551 rows × 1 columns</p>\n",
       "</div>"
      ],
      "text/plain": [
       "                     event_name\n",
       "device_id_hash                 \n",
       "6304868067479728361        2307\n",
       "197027893265565660         1998\n",
       "4623191541214045580        1768\n",
       "6932517045703054087        1439\n",
       "1754140665440434215        1221\n",
       "...                         ...\n",
       "7399061063341528729           1\n",
       "2968164493349205501           1\n",
       "8071397669512236988           1\n",
       "425817683219936619            1\n",
       "6888746892508752              1\n",
       "\n",
       "[7551 rows x 1 columns]"
      ]
     },
     "execution_count": 24,
     "metadata": {},
     "output_type": "execute_result"
    }
   ],
   "source": [
    "events_per_user"
   ]
  },
  {
   "cell_type": "code",
   "execution_count": 25,
   "metadata": {},
   "outputs": [
    {
     "name": "stdout",
     "output_type": "stream",
     "text": [
      "Среднее количество событий на одного пользователя составляет 32.28\n"
     ]
    }
   ],
   "source": [
    "#выясним среднее количество событий на одного пользоватeля\n",
    "\n",
    "print (f'Среднее количество событий на одного пользователя составляет {round(events_per_user.mean()[0], 2)}')"
   ]
  },
  {
   "cell_type": "markdown",
   "metadata": {},
   "source": [
    "**В получившихся данных мы видим и \"чемпионов\" с количеством событий более двух тысяч и пользователей со скромным одним событием.  \n",
    "В среднем получается 32 события на одного пользователя.**"
   ]
  },
  {
   "cell_type": "code",
   "execution_count": null,
   "metadata": {},
   "outputs": [],
   "source": []
  },
  {
   "cell_type": "markdown",
   "metadata": {},
   "source": [
    "### Проанализируем характеристики временных периодов, представленных в датасете"
   ]
  },
  {
   "cell_type": "markdown",
   "metadata": {},
   "source": [
    "**Для начала, выясним, данными за какой период мы располагаем:**"
   ]
  },
  {
   "cell_type": "code",
   "execution_count": 26,
   "metadata": {},
   "outputs": [
    {
     "name": "stdout",
     "output_type": "stream",
     "text": [
      "['2019-07-25T00:00:00.000000000' '2019-07-26T00:00:00.000000000'\n",
      " '2019-07-27T00:00:00.000000000' '2019-07-28T00:00:00.000000000'\n",
      " '2019-07-29T00:00:00.000000000' '2019-07-30T00:00:00.000000000'\n",
      " '2019-07-31T00:00:00.000000000' '2019-08-01T00:00:00.000000000'\n",
      " '2019-08-02T00:00:00.000000000' '2019-08-03T00:00:00.000000000'\n",
      " '2019-08-04T00:00:00.000000000' '2019-08-05T00:00:00.000000000'\n",
      " '2019-08-06T00:00:00.000000000' '2019-08-07T00:00:00.000000000']\n",
      "Общее количество наблюдаемых дат: 14\n"
     ]
    }
   ],
   "source": [
    "#запросим список уникальных дат и их общее количество\n",
    "\n",
    "print (logs.event_date.unique())\n",
    "print (f'Общее количество наблюдаемых дат: {len (logs.event_date.unique())}')"
   ]
  },
  {
   "cell_type": "code",
   "execution_count": 27,
   "metadata": {},
   "outputs": [
    {
     "name": "stdout",
     "output_type": "stream",
     "text": [
      "Минимальная наблюдаемая дата: 2019-07-25 00:00:00\n",
      "Максимальная наблюдаемая дата: 2019-08-07 00:00:00\n"
     ]
    }
   ],
   "source": [
    "#узнаем минимальную и максимальную наблюдаемые даты\n",
    "\n",
    "print (f'Минимальная наблюдаемая дата: {logs.event_date.min()}')\n",
    "print (f'Максимальная наблюдаемая дата: {logs.event_date.max()}')"
   ]
  },
  {
   "cell_type": "markdown",
   "metadata": {},
   "source": [
    "**В датасете всего 14 дат, с 25.07.2019г. по 07.08.2019г.  \n",
    "Построим гистограмму по наблюдаемым датам и времени:**"
   ]
  },
  {
   "cell_type": "code",
   "execution_count": 28,
   "metadata": {},
   "outputs": [
    {
     "data": {
      "image/png": "[encoded data removed]",
      "text/plain": [
       "<Figure size 1440x720 with 1 Axes>"
      ]
     },
     "metadata": {
      "needs_background": "light"
     },
     "output_type": "display_data"
    }
   ],
   "source": [
    "logs['event_timestamp'].hist(bins=14*24, figsize=(20, 10))\n",
    "\n",
    "plt.title('Наблюдаемые даты', fontsize= 20)\n",
    "plt.xlabel('Даты наблюдения')\n",
    "plt.ylabel('Объём данных')\n",
    "plt.xticks(rotation=45) \n",
    "plt.show()"
   ]
  },
  {
   "cell_type": "markdown",
   "metadata": {},
   "source": [
    "**Как видим, весь основной фактический объём данных, позволяющий произвести необходимый анализ, представлен,начиная с 01.08.2019г. и до конца всего наблюдаемого периода.  \n",
    "Вероятно, это связано с тем, что технически в логи новых дней по некоторым пользователям могут поступать события из более ранних дат, что может искажать данные.  \n",
    "Сравним объем данных, поступивших до 01.08.2019г. с теми, что поступили позже этой даты:**"
   ]
  },
  {
   "cell_type": "code",
   "execution_count": 29,
   "metadata": {},
   "outputs": [
    {
     "name": "stdout",
     "output_type": "stream",
     "text": [
      "Количество уникальных пользователей до 01.08.2019г. - 17 человек, что составляет 0.23% от общего числа уникальных пользователей\n"
     ]
    }
   ],
   "source": [
    "#сформируем список уникальных пользователей, которые присустствуют в данных после 01.08.2019г.\n",
    "#затем подсчитаем уникальных пользователей, не входящих в этот список\n",
    "\n",
    "users_after_010819 = logs.loc[logs['event_date'] >= '2019-08-01']['device_id_hash'].unique()\n",
    "len_users_before_010819 = len(logs.loc[np.logical_not(logs['device_id_hash']. \\\n",
    "                                                      isin(users_after_010819))]['device_id_hash'].unique())\n",
    "print(f'Количество уникальных пользователей до 01.08.2019г. - {len_users_before_010819} человек, что составляет {(len_users_before_010819 / len(logs.device_id_hash.unique())):.2%} от общего числа уникальных пользователей')"
   ]
  },
  {
   "cell_type": "code",
   "execution_count": 30,
   "metadata": {
    "scrolled": false
   },
   "outputs": [
    {
     "name": "stdout",
     "output_type": "stream",
     "text": [
      "Объём наблюдений до 01.08.2019г. составляет 1.17%\n"
     ]
    }
   ],
   "source": [
    "#посчитаем процент общих данных до 01.08.2019г.\n",
    "\n",
    "qw = len (logs.query('event_date < \"2019-08-01\"')) / len (logs.query('event_date >= \"2019-08-01\"'))\n",
    "print(f'Объём наблюдений до 01.08.2019г. составляет {qw:.2%}')"
   ]
  },
  {
   "cell_type": "markdown",
   "metadata": {},
   "source": [
    "**Объём данных до 01.08.2019г. составляет чуть больше одного процента, также в этом фрагменте находятся данные по 17 уникальным пользователям, не фигурирующим впоследствии (0.23% от общего количества уникальных пользователей).  \n",
    "Процент теряемых данных незначителен, исключим эти данные из анализа.  \n",
    "Таким образом, для дальнейшего анализа нам остаётся период с 01.08.2019г. по 07.08.2019г., то есть неделя наблюдений.**"
   ]
  },
  {
   "cell_type": "code",
   "execution_count": 31,
   "metadata": {},
   "outputs": [],
   "source": [
    "#исключаем из рассмотрения данные до 01.08.2019г.\n",
    "\n",
    "logs = logs.query('event_date >= \"2019-08-01\"')"
   ]
  },
  {
   "cell_type": "code",
   "execution_count": null,
   "metadata": {},
   "outputs": [],
   "source": []
  },
  {
   "cell_type": "markdown",
   "metadata": {},
   "source": [
    "**Проверим наличие пользователей всех трёх экспериментальных групп:**"
   ]
  },
  {
   "cell_type": "code",
   "execution_count": 32,
   "metadata": {},
   "outputs": [
    {
     "name": "stdout",
     "output_type": "stream",
     "text": [
      "Количество пользователей группы \"246\" равно 2484\n"
     ]
    }
   ],
   "source": [
    "#посчитаем количество участников группы 246\n",
    "\n",
    "users_group_246 = logs.loc[logs['exp_id'] == 246, 'device_id_hash'].unique()\n",
    "print(f'Количество пользователей группы \"246\" равно {len(users_group_246)}')"
   ]
  },
  {
   "cell_type": "code",
   "execution_count": 33,
   "metadata": {},
   "outputs": [
    {
     "name": "stdout",
     "output_type": "stream",
     "text": [
      "Количество пользователей группы \"247\" равно 2513\n"
     ]
    }
   ],
   "source": [
    "#посчитаем количество участников группы 247\n",
    "\n",
    "users_group_247 = logs.loc[logs['exp_id'] == 247, 'device_id_hash'].unique()\n",
    "print(f'Количество пользователей группы \"247\" равно {len(users_group_247)}')"
   ]
  },
  {
   "cell_type": "code",
   "execution_count": 34,
   "metadata": {},
   "outputs": [
    {
     "name": "stdout",
     "output_type": "stream",
     "text": [
      "Количество пользователей группы \"248\" равно 2537\n"
     ]
    }
   ],
   "source": [
    "#посчитаем количество участников группы 248\n",
    "\n",
    "users_group_248 = logs.loc[logs['exp_id'] == 248, 'device_id_hash'].unique()\n",
    "print(f'Количество пользователей группы \"248\" равно {len(users_group_248)}')"
   ]
  },
  {
   "cell_type": "code",
   "execution_count": 35,
   "metadata": {},
   "outputs": [
    {
     "data": {
      "text/plain": [
       "7534"
      ]
     },
     "execution_count": 35,
     "metadata": {},
     "output_type": "execute_result"
    }
   ],
   "source": [
    "#посчитаем общее количество уникальных пользователей всех трёх групп\n",
    "\n",
    "len(logs['device_id_hash'].unique())"
   ]
  },
  {
   "cell_type": "markdown",
   "metadata": {},
   "source": [
    "**Мы наблюдаем в данных представителей всех трёх групп в примерно равных долях.  \n",
    "Данные обработаны и готовы к дальнейшему анализу.**"
   ]
  },
  {
   "cell_type": "code",
   "execution_count": null,
   "metadata": {},
   "outputs": [],
   "source": []
  },
  {
   "cell_type": "code",
   "execution_count": null,
   "metadata": {},
   "outputs": [],
   "source": []
  },
  {
   "cell_type": "markdown",
   "metadata": {},
   "source": [
    "<div class=\"alert alert-info\">\n",
    "<a id='voronk'></a>\n",
    "\n",
    "## ИЗУЧЕНИЕ ВОРОНКИ СОБЫТИЙ."
   ]
  },
  {
   "cell_type": "markdown",
   "metadata": {},
   "source": [
    "###  Посмотрим, какие события есть в логах, как часто они встречаются"
   ]
  },
  {
   "cell_type": "code",
   "execution_count": 36,
   "metadata": {},
   "outputs": [
    {
     "data": {
      "text/plain": [
       "MainScreenAppear           117328\n",
       "OffersScreenAppear          46333\n",
       "CartScreenAppear            42303\n",
       "PaymentScreenSuccessful     33918\n",
       "Tutorial                     1005\n",
       "Name: event_name, dtype: int64"
      ]
     },
     "execution_count": 36,
     "metadata": {},
     "output_type": "execute_result"
    }
   ],
   "source": [
    "#выведем на экран уникальные значения и количество повторениё каждого события\n",
    "\n",
    "pd.Series(logs.event_name.value_counts())"
   ]
  },
  {
   "cell_type": "markdown",
   "metadata": {},
   "source": [
    "**Итого, в данных содержатся четыре события:**  \n",
    "* MainScreenAppear (Главная страница);\n",
    "* OffersScreenAppear (Страница предложения);\n",
    "* CartScreenAppear (Корзина);\n",
    "* PaymentScreenSuccessful (Страница успешной оплаты);\n",
    "* Tutorial (Страница обучения)\n",
    "\n",
    "**Эти стадии похожи на этапы маркетинговой воронки - сначала пользователь видит Главную страницу, затем некоторое количество переходит на страницу Предложения, затем, очевидно после выбора товара и добавления его в корзину - в саму Корзину, затем - после оплаты выбранного товара - собственно на экран оплаты.**\n",
    "\n",
    "**Отдельным пунктом здесь выступает страницв Обучения - вероятно он предназначен для той части пользователей, которые не очень отчётливо представляют себе процесс выбора товара и его покупки в Интернете. Об этом свидетельствуют как само название так и существенно меньшее количество повторений этого события, ввиду чего можно воспринимать его как необязательное звено маркетинговой воронки, которое игнорируют более опытные пользователи.**"
   ]
  },
  {
   "cell_type": "code",
   "execution_count": null,
   "metadata": {},
   "outputs": [],
   "source": []
  },
  {
   "cell_type": "markdown",
   "metadata": {},
   "source": [
    "###  Посчитаем, сколько пользователей совершали каждое из этих событий"
   ]
  },
  {
   "cell_type": "code",
   "execution_count": 37,
   "metadata": {},
   "outputs": [],
   "source": [
    "#подсчитаем количество уникальных пользователей для каждого события\n",
    "\n",
    "users_per_events = logs.pivot_table(index='event_name', values='device_id_hash',\n",
    "                 aggfunc='nunique').sort_values(by='device_id_hash',\n",
    "                                                ascending=False).reset_index().rename(columns={'device_id_hash': 'cnt_users'})"
   ]
  },
  {
   "cell_type": "code",
   "execution_count": 38,
   "metadata": {
    "scrolled": true
   },
   "outputs": [
    {
     "data": {
      "text/html": [
       "<div>\n",
       "<style scoped>\n",
       "    .dataframe tbody tr th:only-of-type {\n",
       "        vertical-align: middle;\n",
       "    }\n",
       "\n",
       "    .dataframe tbody tr th {\n",
       "        vertical-align: top;\n",
       "    }\n",
       "\n",
       "    .dataframe thead th {\n",
       "        text-align: right;\n",
       "    }\n",
       "</style>\n",
       "<table border=\"1\" class=\"dataframe\">\n",
       "  <thead>\n",
       "    <tr style=\"text-align: right;\">\n",
       "      <th></th>\n",
       "      <th>event_name</th>\n",
       "      <th>cnt_users</th>\n",
       "    </tr>\n",
       "  </thead>\n",
       "  <tbody>\n",
       "    <tr>\n",
       "      <th>0</th>\n",
       "      <td>MainScreenAppear</td>\n",
       "      <td>7419</td>\n",
       "    </tr>\n",
       "    <tr>\n",
       "      <th>1</th>\n",
       "      <td>OffersScreenAppear</td>\n",
       "      <td>4593</td>\n",
       "    </tr>\n",
       "    <tr>\n",
       "      <th>2</th>\n",
       "      <td>CartScreenAppear</td>\n",
       "      <td>3734</td>\n",
       "    </tr>\n",
       "    <tr>\n",
       "      <th>3</th>\n",
       "      <td>PaymentScreenSuccessful</td>\n",
       "      <td>3539</td>\n",
       "    </tr>\n",
       "    <tr>\n",
       "      <th>4</th>\n",
       "      <td>Tutorial</td>\n",
       "      <td>840</td>\n",
       "    </tr>\n",
       "  </tbody>\n",
       "</table>\n",
       "</div>"
      ],
      "text/plain": [
       "                event_name  cnt_users\n",
       "0         MainScreenAppear       7419\n",
       "1       OffersScreenAppear       4593\n",
       "2         CartScreenAppear       3734\n",
       "3  PaymentScreenSuccessful       3539\n",
       "4                 Tutorial        840"
      ]
     },
     "execution_count": 38,
     "metadata": {},
     "output_type": "execute_result"
    }
   ],
   "source": [
    "users_per_events"
   ]
  },
  {
   "cell_type": "code",
   "execution_count": 67,
   "metadata": {
    "scrolled": false
   },
   "outputs": [
    {
     "data": {
      "application/vnd.plotly.v1+json": {
       "config": {
        "plotlyServerURL": "https://plot.ly"
       },
       "data": [
        {
         "name": "Группа А",
         "textinfo": "value+percent initial",
         "type": "funnel",
         "x": [
          7419,
          4593,
          3734,
          3539
         ],
         "y": [
          "MainScreenAppear",
          "OffersScreenAppear",
          "CartScreenAppear",
          "PaymentScreenSuccessful"
         ]
        }
       ],
       "layout": {
        "template": {
         "data": {
          "bar": [
           {
            "error_x": {
             "color": "#2a3f5f"
            },
            "error_y": {
             "color": "#2a3f5f"
            },
            "marker": {
             "line": {
              "color": "#E5ECF6",
              "width": 0.5
             },
             "pattern": {
              "fillmode": "overlay",
              "size": 10,
              "solidity": 0.2
             }
            },
            "type": "bar"
           }
          ],
          "barpolar": [
           {
            "marker": {
             "line": {
              "color": "#E5ECF6",
              "width": 0.5
             },
             "pattern": {
              "fillmode": "overlay",
              "size": 10,
              "solidity": 0.2
             }
            },
            "type": "barpolar"
           }
          ],
          "carpet": [
           {
            "aaxis": {
             "endlinecolor": "#2a3f5f",
             "gridcolor": "white",
             "linecolor": "white",
             "minorgridcolor": "white",
             "startlinecolor": "#2a3f5f"
            },
            "baxis": {
             "endlinecolor": "#2a3f5f",
             "gridcolor": "white",
             "linecolor": "white",
             "minorgridcolor": "white",
             "startlinecolor": "#2a3f5f"
            },
            "type": "carpet"
           }
          ],
          "choropleth": [
           {
            "colorbar": {
             "outlinewidth": 0,
             "ticks": ""
            },
            "type": "choropleth"
           }
          ],
          "contour": [
           {
            "colorbar": {
             "outlinewidth": 0,
             "ticks": ""
            },
            "colorscale": [
             [
              0,
              "#0d0887"
             ],
             [
              0.1111111111111111,
              "#46039f"
             ],
             [
              0.2222222222222222,
              "#7201a8"
             ],
             [
              0.3333333333333333,
              "#9c179e"
             ],
             [
              0.4444444444444444,
              "#bd3786"
             ],
             [
              0.5555555555555556,
              "#d8576b"
             ],
             [
              0.6666666666666666,
              "#ed7953"
             ],
             [
              0.7777777777777778,
              "#fb9f3a"
             ],
             [
              0.8888888888888888,
              "#fdca26"
             ],
             [
              1,
              "#f0f921"
             ]
            ],
            "type": "contour"
           }
          ],
          "contourcarpet": [
           {
            "colorbar": {
             "outlinewidth": 0,
             "ticks": ""
            },
            "type": "contourcarpet"
           }
          ],
          "heatmap": [
           {
            "colorbar": {
             "outlinewidth": 0,
             "ticks": ""
            },
            "colorscale": [
             [
              0,
              "#0d0887"
             ],
             [
              0.1111111111111111,
              "#46039f"
             ],
             [
              0.2222222222222222,
              "#7201a8"
             ],
             [
              0.3333333333333333,
              "#9c179e"
             ],
             [
              0.4444444444444444,
              "#bd3786"
             ],
             [
              0.5555555555555556,
              "#d8576b"
             ],
             [
              0.6666666666666666,
              "#ed7953"
             ],
             [
              0.7777777777777778,
              "#fb9f3a"
             ],
             [
              0.8888888888888888,
              "#fdca26"
             ],
             [
              1,
              "#f0f921"
             ]
            ],
            "type": "heatmap"
           }
          ],
          "heatmapgl": [
           {
            "colorbar": {
             "outlinewidth": 0,
             "ticks": ""
            },
            "colorscale": [
             [
              0,
              "#0d0887"
             ],
             [
              0.1111111111111111,
              "#46039f"
             ],
             [
              0.2222222222222222,
              "#7201a8"
             ],
             [
              0.3333333333333333,
              "#9c179e"
             ],
             [
              0.4444444444444444,
              "#bd3786"
             ],
             [
              0.5555555555555556,
              "#d8576b"
             ],
             [
              0.6666666666666666,
              "#ed7953"
             ],
             [
              0.7777777777777778,
              "#fb9f3a"
             ],
             [
              0.8888888888888888,
              "#fdca26"
             ],
             [
              1,
              "#f0f921"
             ]
            ],
            "type": "heatmapgl"
           }
          ],
          "histogram": [
           {
            "marker": {
             "pattern": {
              "fillmode": "overlay",
              "size": 10,
              "solidity": 0.2
             }
            },
            "type": "histogram"
           }
          ],
          "histogram2d": [
           {
            "colorbar": {
             "outlinewidth": 0,
             "ticks": ""
            },
            "colorscale": [
             [
              0,
              "#0d0887"
             ],
             [
              0.1111111111111111,
              "#46039f"
             ],
             [
              0.2222222222222222,
              "#7201a8"
             ],
             [
              0.3333333333333333,
              "#9c179e"
             ],
             [
              0.4444444444444444,
              "#bd3786"
             ],
             [
              0.5555555555555556,
              "#d8576b"
             ],
             [
              0.6666666666666666,
              "#ed7953"
             ],
             [
              0.7777777777777778,
              "#fb9f3a"
             ],
             [
              0.8888888888888888,
              "#fdca26"
             ],
             [
              1,
              "#f0f921"
             ]
            ],
            "type": "histogram2d"
           }
          ],
          "histogram2dcontour": [
           {
            "colorbar": {
             "outlinewidth": 0,
             "ticks": ""
            },
            "colorscale": [
             [
              0,
              "#0d0887"
             ],
             [
              0.1111111111111111,
              "#46039f"
             ],
             [
              0.2222222222222222,
              "#7201a8"
             ],
             [
              0.3333333333333333,
              "#9c179e"
             ],
             [
              0.4444444444444444,
              "#bd3786"
             ],
             [
              0.5555555555555556,
              "#d8576b"
             ],
             [
              0.6666666666666666,
              "#ed7953"
             ],
             [
              0.7777777777777778,
              "#fb9f3a"
             ],
             [
              0.8888888888888888,
              "#fdca26"
             ],
             [
              1,
              "#f0f921"
             ]
            ],
            "type": "histogram2dcontour"
           }
          ],
          "mesh3d": [
           {
            "colorbar": {
             "outlinewidth": 0,
             "ticks": ""
            },
            "type": "mesh3d"
           }
          ],
          "parcoords": [
           {
            "line": {
             "colorbar": {
              "outlinewidth": 0,
              "ticks": ""
             }
            },
            "type": "parcoords"
           }
          ],
          "pie": [
           {
            "automargin": true,
            "type": "pie"
           }
          ],
          "scatter": [
           {
            "marker": {
             "colorbar": {
              "outlinewidth": 0,
              "ticks": ""
             }
            },
            "type": "scatter"
           }
          ],
          "scatter3d": [
           {
            "line": {
             "colorbar": {
              "outlinewidth": 0,
              "ticks": ""
             }
            },
            "marker": {
             "colorbar": {
              "outlinewidth": 0,
              "ticks": ""
             }
            },
            "type": "scatter3d"
           }
          ],
          "scattercarpet": [
           {
            "marker": {
             "colorbar": {
              "outlinewidth": 0,
              "ticks": ""
             }
            },
            "type": "scattercarpet"
           }
          ],
          "scattergeo": [
           {
            "marker": {
             "colorbar": {
              "outlinewidth": 0,
              "ticks": ""
             }
            },
            "type": "scattergeo"
           }
          ],
          "scattergl": [
           {
            "marker": {
             "colorbar": {
              "outlinewidth": 0,
              "ticks": ""
             }
            },
            "type": "scattergl"
           }
          ],
          "scattermapbox": [
           {
            "marker": {
             "colorbar": {
              "outlinewidth": 0,
              "ticks": ""
             }
            },
            "type": "scattermapbox"
           }
          ],
          "scatterpolar": [
           {
            "marker": {
             "colorbar": {
              "outlinewidth": 0,
              "ticks": ""
             }
            },
            "type": "scatterpolar"
           }
          ],
          "scatterpolargl": [
           {
            "marker": {
             "colorbar": {
              "outlinewidth": 0,
              "ticks": ""
             }
            },
            "type": "scatterpolargl"
           }
          ],
          "scatterternary": [
           {
            "marker": {
             "colorbar": {
              "outlinewidth": 0,
              "ticks": ""
             }
            },
            "type": "scatterternary"
           }
          ],
          "surface": [
           {
            "colorbar": {
             "outlinewidth": 0,
             "ticks": ""
            },
            "colorscale": [
             [
              0,
              "#0d0887"
             ],
             [
              0.1111111111111111,
              "#46039f"
             ],
             [
              0.2222222222222222,
              "#7201a8"
             ],
             [
              0.3333333333333333,
              "#9c179e"
             ],
             [
              0.4444444444444444,
              "#bd3786"
             ],
             [
              0.5555555555555556,
              "#d8576b"
             ],
             [
              0.6666666666666666,
              "#ed7953"
             ],
             [
              0.7777777777777778,
              "#fb9f3a"
             ],
             [
              0.8888888888888888,
              "#fdca26"
             ],
             [
              1,
              "#f0f921"
             ]
            ],
            "type": "surface"
           }
          ],
          "table": [
           {
            "cells": {
             "fill": {
              "color": "#EBF0F8"
             },
             "line": {
              "color": "white"
             }
            },
            "header": {
             "fill": {
              "color": "#C8D4E3"
             },
             "line": {
              "color": "white"
             }
            },
            "type": "table"
           }
          ]
         },
         "layout": {
          "annotationdefaults": {
           "arrowcolor": "#2a3f5f",
           "arrowhead": 0,
           "arrowwidth": 1
          },
          "autotypenumbers": "strict",
          "coloraxis": {
           "colorbar": {
            "outlinewidth": 0,
            "ticks": ""
           }
          },
          "colorscale": {
           "diverging": [
            [
             0,
             "#8e0152"
            ],
            [
             0.1,
             "#c51b7d"
            ],
            [
             0.2,
             "#de77ae"
            ],
            [
             0.3,
             "#f1b6da"
            ],
            [
             0.4,
             "#fde0ef"
            ],
            [
             0.5,
             "#f7f7f7"
            ],
            [
             0.6,
             "#e6f5d0"
            ],
            [
             0.7,
             "#b8e186"
            ],
            [
             0.8,
             "#7fbc41"
            ],
            [
             0.9,
             "#4d9221"
            ],
            [
             1,
             "#276419"
            ]
           ],
           "sequential": [
            [
             0,
             "#0d0887"
            ],
            [
             0.1111111111111111,
             "#46039f"
            ],
            [
             0.2222222222222222,
             "#7201a8"
            ],
            [
             0.3333333333333333,
             "#9c179e"
            ],
            [
             0.4444444444444444,
             "#bd3786"
            ],
            [
             0.5555555555555556,
             "#d8576b"
            ],
            [
             0.6666666666666666,
             "#ed7953"
            ],
            [
             0.7777777777777778,
             "#fb9f3a"
            ],
            [
             0.8888888888888888,
             "#fdca26"
            ],
            [
             1,
             "#f0f921"
            ]
           ],
           "sequentialminus": [
            [
             0,
             "#0d0887"
            ],
            [
             0.1111111111111111,
             "#46039f"
            ],
            [
             0.2222222222222222,
             "#7201a8"
            ],
            [
             0.3333333333333333,
             "#9c179e"
            ],
            [
             0.4444444444444444,
             "#bd3786"
            ],
            [
             0.5555555555555556,
             "#d8576b"
            ],
            [
             0.6666666666666666,
             "#ed7953"
            ],
            [
             0.7777777777777778,
             "#fb9f3a"
            ],
            [
             0.8888888888888888,
             "#fdca26"
            ],
            [
             1,
             "#f0f921"
            ]
           ]
          },
          "colorway": [
           "#636efa",
           "#EF553B",
           "#00cc96",
           "#ab63fa",
           "#FFA15A",
           "#19d3f3",
           "#FF6692",
           "#B6E880",
           "#FF97FF",
           "#FECB52"
          ],
          "font": {
           "color": "#2a3f5f"
          },
          "geo": {
           "bgcolor": "white",
           "lakecolor": "white",
           "landcolor": "#E5ECF6",
           "showlakes": true,
           "showland": true,
           "subunitcolor": "white"
          },
          "hoverlabel": {
           "align": "left"
          },
          "hovermode": "closest",
          "mapbox": {
           "style": "light"
          },
          "paper_bgcolor": "white",
          "plot_bgcolor": "#E5ECF6",
          "polar": {
           "angularaxis": {
            "gridcolor": "white",
            "linecolor": "white",
            "ticks": ""
           },
           "bgcolor": "#E5ECF6",
           "radialaxis": {
            "gridcolor": "white",
            "linecolor": "white",
            "ticks": ""
           }
          },
          "scene": {
           "xaxis": {
            "backgroundcolor": "#E5ECF6",
            "gridcolor": "white",
            "gridwidth": 2,
            "linecolor": "white",
            "showbackground": true,
            "ticks": "",
            "zerolinecolor": "white"
           },
           "yaxis": {
            "backgroundcolor": "#E5ECF6",
            "gridcolor": "white",
            "gridwidth": 2,
            "linecolor": "white",
            "showbackground": true,
            "ticks": "",
            "zerolinecolor": "white"
           },
           "zaxis": {
            "backgroundcolor": "#E5ECF6",
            "gridcolor": "white",
            "gridwidth": 2,
            "linecolor": "white",
            "showbackground": true,
            "ticks": "",
            "zerolinecolor": "white"
           }
          },
          "shapedefaults": {
           "line": {
            "color": "#2a3f5f"
           }
          },
          "ternary": {
           "aaxis": {
            "gridcolor": "white",
            "linecolor": "white",
            "ticks": ""
           },
           "baxis": {
            "gridcolor": "white",
            "linecolor": "white",
            "ticks": ""
           },
           "bgcolor": "#E5ECF6",
           "caxis": {
            "gridcolor": "white",
            "linecolor": "white",
            "ticks": ""
           }
          },
          "title": {
           "x": 0.05
          },
          "xaxis": {
           "automargin": true,
           "gridcolor": "white",
           "linecolor": "white",
           "ticks": "",
           "title": {
            "standoff": 15
           },
           "zerolinecolor": "white",
           "zerolinewidth": 2
          },
          "yaxis": {
           "automargin": true,
           "gridcolor": "white",
           "linecolor": "white",
           "ticks": "",
           "title": {
            "standoff": 15
           },
           "zerolinecolor": "white",
           "zerolinewidth": 2
          }
         }
        },
        "title": {
         "text": "ГРАФИК ИЗМЕНЕНИЯ КОНВЕРСИИ НА РАЗНЫХ ЭТАПАХ ВОРОНКИ"
        }
       }
      },
      "text/html": [
       "<div>                            <div id=\"abead0ea-7923-4e22-bab3-d2922221fe9e\" class=\"plotly-graph-div\" style=\"height:525px; width:100%;\"></div>            <script type=\"text/javascript\">                require([\"plotly\"], function(Plotly) {                    window.PLOTLYENV=window.PLOTLYENV || {};                                    if (document.getElementById(\"abead0ea-7923-4e22-bab3-d2922221fe9e\")) {                    Plotly.newPlot(                        \"abead0ea-7923-4e22-bab3-d2922221fe9e\",                        [{\"name\":\"\\u0413\\u0440\\u0443\\u043f\\u043f\\u0430 \\u0410\",\"textinfo\":\"value+percent initial\",\"x\":[7419,4593,3734,3539],\"y\":[\"MainScreenAppear\",\"OffersScreenAppear\",\"CartScreenAppear\",\"PaymentScreenSuccessful\"],\"type\":\"funnel\"}],                        {\"template\":{\"data\":{\"bar\":[{\"error_x\":{\"color\":\"#2a3f5f\"},\"error_y\":{\"color\":\"#2a3f5f\"},\"marker\":{\"line\":{\"color\":\"#E5ECF6\",\"width\":0.5},\"pattern\":{\"fillmode\":\"overlay\",\"size\":10,\"solidity\":0.2}},\"type\":\"bar\"}],\"barpolar\":[{\"marker\":{\"line\":{\"color\":\"#E5ECF6\",\"width\":0.5},\"pattern\":{\"fillmode\":\"overlay\",\"size\":10,\"solidity\":0.2}},\"type\":\"barpolar\"}],\"carpet\":[{\"aaxis\":{\"endlinecolor\":\"#2a3f5f\",\"gridcolor\":\"white\",\"linecolor\":\"white\",\"minorgridcolor\":\"white\",\"startlinecolor\":\"#2a3f5f\"},\"baxis\":{\"endlinecolor\":\"#2a3f5f\",\"gridcolor\":\"white\",\"linecolor\":\"white\",\"minorgridcolor\":\"white\",\"startlinecolor\":\"#2a3f5f\"},\"type\":\"carpet\"}],\"choropleth\":[{\"colorbar\":{\"outlinewidth\":0,\"ticks\":\"\"},\"type\":\"choropleth\"}],\"contour\":[{\"colorbar\":{\"outlinewidth\":0,\"ticks\":\"\"},\"colorscale\":[[0.0,\"#0d0887\"],[0.1111111111111111,\"#46039f\"],[0.2222222222222222,\"#7201a8\"],[0.3333333333333333,\"#9c179e\"],[0.4444444444444444,\"#bd3786\"],[0.5555555555555556,\"#d8576b\"],[0.6666666666666666,\"#ed7953\"],[0.7777777777777778,\"#fb9f3a\"],[0.8888888888888888,\"#fdca26\"],[1.0,\"#f0f921\"]],\"type\":\"contour\"}],\"contourcarpet\":[{\"colorbar\":{\"outlinewidth\":0,\"ticks\":\"\"},\"type\":\"contourcarpet\"}],\"heatmap\":[{\"colorbar\":{\"outlinewidth\":0,\"ticks\":\"\"},\"colorscale\":[[0.0,\"#0d0887\"],[0.1111111111111111,\"#46039f\"],[0.2222222222222222,\"#7201a8\"],[0.3333333333333333,\"#9c179e\"],[0.4444444444444444,\"#bd3786\"],[0.5555555555555556,\"#d8576b\"],[0.6666666666666666,\"#ed7953\"],[0.7777777777777778,\"#fb9f3a\"],[0.8888888888888888,\"#fdca26\"],[1.0,\"#f0f921\"]],\"type\":\"heatmap\"}],\"heatmapgl\":[{\"colorbar\":{\"outlinewidth\":0,\"ticks\":\"\"},\"colorscale\":[[0.0,\"#0d0887\"],[0.1111111111111111,\"#46039f\"],[0.2222222222222222,\"#7201a8\"],[0.3333333333333333,\"#9c179e\"],[0.4444444444444444,\"#bd3786\"],[0.5555555555555556,\"#d8576b\"],[0.6666666666666666,\"#ed7953\"],[0.7777777777777778,\"#fb9f3a\"],[0.8888888888888888,\"#fdca26\"],[1.0,\"#f0f921\"]],\"type\":\"heatmapgl\"}],\"histogram\":[{\"marker\":{\"pattern\":{\"fillmode\":\"overlay\",\"size\":10,\"solidity\":0.2}},\"type\":\"histogram\"}],\"histogram2d\":[{\"colorbar\":{\"outlinewidth\":0,\"ticks\":\"\"},\"colorscale\":[[0.0,\"#0d0887\"],[0.1111111111111111,\"#46039f\"],[0.2222222222222222,\"#7201a8\"],[0.3333333333333333,\"#9c179e\"],[0.4444444444444444,\"#bd3786\"],[0.5555555555555556,\"#d8576b\"],[0.6666666666666666,\"#ed7953\"],[0.7777777777777778,\"#fb9f3a\"],[0.8888888888888888,\"#fdca26\"],[1.0,\"#f0f921\"]],\"type\":\"histogram2d\"}],\"histogram2dcontour\":[{\"colorbar\":{\"outlinewidth\":0,\"ticks\":\"\"},\"colorscale\":[[0.0,\"#0d0887\"],[0.1111111111111111,\"#46039f\"],[0.2222222222222222,\"#7201a8\"],[0.3333333333333333,\"#9c179e\"],[0.4444444444444444,\"#bd3786\"],[0.5555555555555556,\"#d8576b\"],[0.6666666666666666,\"#ed7953\"],[0.7777777777777778,\"#fb9f3a\"],[0.8888888888888888,\"#fdca26\"],[1.0,\"#f0f921\"]],\"type\":\"histogram2dcontour\"}],\"mesh3d\":[{\"colorbar\":{\"outlinewidth\":0,\"ticks\":\"\"},\"type\":\"mesh3d\"}],\"parcoords\":[{\"line\":{\"colorbar\":{\"outlinewidth\":0,\"ticks\":\"\"}},\"type\":\"parcoords\"}],\"pie\":[{\"automargin\":true,\"type\":\"pie\"}],\"scatter\":[{\"marker\":{\"colorbar\":{\"outlinewidth\":0,\"ticks\":\"\"}},\"type\":\"scatter\"}],\"scatter3d\":[{\"line\":{\"colorbar\":{\"outlinewidth\":0,\"ticks\":\"\"}},\"marker\":{\"colorbar\":{\"outlinewidth\":0,\"ticks\":\"\"}},\"type\":\"scatter3d\"}],\"scattercarpet\":[{\"marker\":{\"colorbar\":{\"outlinewidth\":0,\"ticks\":\"\"}},\"type\":\"scattercarpet\"}],\"scattergeo\":[{\"marker\":{\"colorbar\":{\"outlinewidth\":0,\"ticks\":\"\"}},\"type\":\"scattergeo\"}],\"scattergl\":[{\"marker\":{\"colorbar\":{\"outlinewidth\":0,\"ticks\":\"\"}},\"type\":\"scattergl\"}],\"scattermapbox\":[{\"marker\":{\"colorbar\":{\"outlinewidth\":0,\"ticks\":\"\"}},\"type\":\"scattermapbox\"}],\"scatterpolar\":[{\"marker\":{\"colorbar\":{\"outlinewidth\":0,\"ticks\":\"\"}},\"type\":\"scatterpolar\"}],\"scatterpolargl\":[{\"marker\":{\"colorbar\":{\"outlinewidth\":0,\"ticks\":\"\"}},\"type\":\"scatterpolargl\"}],\"scatterternary\":[{\"marker\":{\"colorbar\":{\"outlinewidth\":0,\"ticks\":\"\"}},\"type\":\"scatterternary\"}],\"surface\":[{\"colorbar\":{\"outlinewidth\":0,\"ticks\":\"\"},\"colorscale\":[[0.0,\"#0d0887\"],[0.1111111111111111,\"#46039f\"],[0.2222222222222222,\"#7201a8\"],[0.3333333333333333,\"#9c179e\"],[0.4444444444444444,\"#bd3786\"],[0.5555555555555556,\"#d8576b\"],[0.6666666666666666,\"#ed7953\"],[0.7777777777777778,\"#fb9f3a\"],[0.8888888888888888,\"#fdca26\"],[1.0,\"#f0f921\"]],\"type\":\"surface\"}],\"table\":[{\"cells\":{\"fill\":{\"color\":\"#EBF0F8\"},\"line\":{\"color\":\"white\"}},\"header\":{\"fill\":{\"color\":\"#C8D4E3\"},\"line\":{\"color\":\"white\"}},\"type\":\"table\"}]},\"layout\":{\"annotationdefaults\":{\"arrowcolor\":\"#2a3f5f\",\"arrowhead\":0,\"arrowwidth\":1},\"autotypenumbers\":\"strict\",\"coloraxis\":{\"colorbar\":{\"outlinewidth\":0,\"ticks\":\"\"}},\"colorscale\":{\"diverging\":[[0,\"#8e0152\"],[0.1,\"#c51b7d\"],[0.2,\"#de77ae\"],[0.3,\"#f1b6da\"],[0.4,\"#fde0ef\"],[0.5,\"#f7f7f7\"],[0.6,\"#e6f5d0\"],[0.7,\"#b8e186\"],[0.8,\"#7fbc41\"],[0.9,\"#4d9221\"],[1,\"#276419\"]],\"sequential\":[[0.0,\"#0d0887\"],[0.1111111111111111,\"#46039f\"],[0.2222222222222222,\"#7201a8\"],[0.3333333333333333,\"#9c179e\"],[0.4444444444444444,\"#bd3786\"],[0.5555555555555556,\"#d8576b\"],[0.6666666666666666,\"#ed7953\"],[0.7777777777777778,\"#fb9f3a\"],[0.8888888888888888,\"#fdca26\"],[1.0,\"#f0f921\"]],\"sequentialminus\":[[0.0,\"#0d0887\"],[0.1111111111111111,\"#46039f\"],[0.2222222222222222,\"#7201a8\"],[0.3333333333333333,\"#9c179e\"],[0.4444444444444444,\"#bd3786\"],[0.5555555555555556,\"#d8576b\"],[0.6666666666666666,\"#ed7953\"],[0.7777777777777778,\"#fb9f3a\"],[0.8888888888888888,\"#fdca26\"],[1.0,\"#f0f921\"]]},\"colorway\":[\"#636efa\",\"#EF553B\",\"#00cc96\",\"#ab63fa\",\"#FFA15A\",\"#19d3f3\",\"#FF6692\",\"#B6E880\",\"#FF97FF\",\"#FECB52\"],\"font\":{\"color\":\"#2a3f5f\"},\"geo\":{\"bgcolor\":\"white\",\"lakecolor\":\"white\",\"landcolor\":\"#E5ECF6\",\"showlakes\":true,\"showland\":true,\"subunitcolor\":\"white\"},\"hoverlabel\":{\"align\":\"left\"},\"hovermode\":\"closest\",\"mapbox\":{\"style\":\"light\"},\"paper_bgcolor\":\"white\",\"plot_bgcolor\":\"#E5ECF6\",\"polar\":{\"angularaxis\":{\"gridcolor\":\"white\",\"linecolor\":\"white\",\"ticks\":\"\"},\"bgcolor\":\"#E5ECF6\",\"radialaxis\":{\"gridcolor\":\"white\",\"linecolor\":\"white\",\"ticks\":\"\"}},\"scene\":{\"xaxis\":{\"backgroundcolor\":\"#E5ECF6\",\"gridcolor\":\"white\",\"gridwidth\":2,\"linecolor\":\"white\",\"showbackground\":true,\"ticks\":\"\",\"zerolinecolor\":\"white\"},\"yaxis\":{\"backgroundcolor\":\"#E5ECF6\",\"gridcolor\":\"white\",\"gridwidth\":2,\"linecolor\":\"white\",\"showbackground\":true,\"ticks\":\"\",\"zerolinecolor\":\"white\"},\"zaxis\":{\"backgroundcolor\":\"#E5ECF6\",\"gridcolor\":\"white\",\"gridwidth\":2,\"linecolor\":\"white\",\"showbackground\":true,\"ticks\":\"\",\"zerolinecolor\":\"white\"}},\"shapedefaults\":{\"line\":{\"color\":\"#2a3f5f\"}},\"ternary\":{\"aaxis\":{\"gridcolor\":\"white\",\"linecolor\":\"white\",\"ticks\":\"\"},\"baxis\":{\"gridcolor\":\"white\",\"linecolor\":\"white\",\"ticks\":\"\"},\"bgcolor\":\"#E5ECF6\",\"caxis\":{\"gridcolor\":\"white\",\"linecolor\":\"white\",\"ticks\":\"\"}},\"title\":{\"x\":0.05},\"xaxis\":{\"automargin\":true,\"gridcolor\":\"white\",\"linecolor\":\"white\",\"ticks\":\"\",\"title\":{\"standoff\":15},\"zerolinecolor\":\"white\",\"zerolinewidth\":2},\"yaxis\":{\"automargin\":true,\"gridcolor\":\"white\",\"linecolor\":\"white\",\"ticks\":\"\",\"title\":{\"standoff\":15},\"zerolinecolor\":\"white\",\"zerolinewidth\":2}}},\"title\":{\"text\":\"\\u0413\\u0420\\u0410\\u0424\\u0418\\u041a \\u0418\\u0417\\u041c\\u0415\\u041d\\u0415\\u041d\\u0418\\u042f \\u041a\\u041e\\u041d\\u0412\\u0415\\u0420\\u0421\\u0418\\u0418 \\u041d\\u0410 \\u0420\\u0410\\u0417\\u041d\\u042b\\u0425 \\u042d\\u0422\\u0410\\u041f\\u0410\\u0425 \\u0412\\u041e\\u0420\\u041e\\u041d\\u041a\\u0418\"}},                        {\"responsive\": true}                    ).then(function(){\n",
       "                            \n",
       "var gd = document.getElementById('abead0ea-7923-4e22-bab3-d2922221fe9e');\n",
       "var x = new MutationObserver(function (mutations, observer) {{\n",
       "        var display = window.getComputedStyle(gd).display;\n",
       "        if (!display || display === 'none') {{\n",
       "            console.log([gd, 'removed!']);\n",
       "            Plotly.purge(gd);\n",
       "            observer.disconnect();\n",
       "        }}\n",
       "}});\n",
       "\n",
       "// Listen for the removal of the full notebook cells\n",
       "var notebookContainer = gd.closest('#notebook-container');\n",
       "if (notebookContainer) {{\n",
       "    x.observe(notebookContainer, {childList: true});\n",
       "}}\n",
       "\n",
       "// Listen for the clearing of the current output cell\n",
       "var outputEl = gd.closest('.output');\n",
       "if (outputEl) {{\n",
       "    x.observe(outputEl, {childList: true});\n",
       "}}\n",
       "\n",
       "                        })                };                });            </script>        </div>"
      ]
     },
     "metadata": {},
     "output_type": "display_data"
    },
    {
     "data": {
      "image/jpeg": "[encoded data removed]",
      "text/plain": [
       "<IPython.core.display.Image object>"
      ]
     },
     "execution_count": 67,
     "metadata": {
      "image/jpeg": {
       "height": 600,
       "width": 900
      }
     },
     "output_type": "execute_result"
    }
   ],
   "source": [
    "#построим сводный график продуктовой воронки для обеих групп\n",
    "#отобразим на нём абсолютные цифры и процент перешедших на следующую ступень, относительно первой ступени\n",
    "\n",
    "fig = go.Figure()\n",
    "\n",
    "fig.add_trace(go.Funnel(\n",
    "    name = 'Группа А',\n",
    "    y = users_per_events['event_name'],\n",
    "    x = users_per_events['cnt_users'],\n",
    "    textinfo = \"value+percent initial\"))\n",
    "\n",
    "fig.update_layout(title_text='ГРАФИК ИЗМЕНЕНИЯ КОНВЕРСИИ НА РАЗНЫХ ЭТАПАХ ВОРОНКИ')\n",
    "fig.show()\n",
    "\n",
    "# в связи с тем, что при загрузке на Гитхаб не отображаются графики, построенные в Plotly, мы приложим здесь \n",
    "# рисунок с получившимся графиком\n",
    "\n",
    "Image(r\"D:\\Datasets_for_Git\\voronka_konv_1.jpg\", width=900, height=600)"
   ]
  },
  {
   "cell_type": "code",
   "execution_count": 40,
   "metadata": {},
   "outputs": [
    {
     "data": {
      "image/jpeg": "[encoded data removed]",
      "text/plain": [
       "<IPython.core.display.Image object>"
      ]
     },
     "execution_count": 40,
     "metadata": {
      "image/jpeg": {
       "height": 600,
       "width": 900
      }
     },
     "output_type": "execute_result"
    }
   ],
   "source": [
    "# в связи с тем, что при загрузке на Гитхаб не отображаются графики, построенные в Plotly, мы приложим здесь \n",
    "# рисунок с получившимся графиком\n",
    "\n",
    "Image(r\"D:\\Datasets_for_Git\\voronka_konv_1.jpg\", width=900, height=600)"
   ]
  },
  {
   "cell_type": "markdown",
   "metadata": {},
   "source": [
    "**На выходе опять таки видим рисунок воронки - 100% посетителей бывали на главном экране, 62% - на экране предложения, 50% дошли до Корзины и сделали оплату 48% от общего количества посетителей.  \n",
    "Особняком, как и отмечалось ранее, стоит Обучение - очевидно, необязательный этап, на который выборочно заходят пользователи. желающие разобраться детальнее в механизме заказа товара и его оплаты. Этап Обучения, таким образом, не является обязательным для анализа воронки.**"
   ]
  },
  {
   "cell_type": "code",
   "execution_count": null,
   "metadata": {},
   "outputs": [],
   "source": []
  },
  {
   "cell_type": "markdown",
   "metadata": {},
   "source": [
    "### Посчитаем, какая доля пользователей проходит по всем шагам воронки."
   ]
  },
  {
   "cell_type": "markdown",
   "metadata": {},
   "source": [
    "**Посчитаем теперь, какая доля пользователей, относительно каждой предыдущей ступени, переходила на следующий этап воронки.  \n",
    "Заново сформируем нашу сводную таблицу-воронку, исключив из неё этап обучения (Tutorial):**"
   ]
  },
  {
   "cell_type": "code",
   "execution_count": 41,
   "metadata": {},
   "outputs": [],
   "source": [
    "users_per_events = logs.query('event_name != \"Tutorial\"').pivot_table(index='event_name', values='device_id_hash',\n",
    "                 aggfunc='nunique').sort_values(by='device_id_hash',\n",
    "                                                ascending=False).reset_index().rename(columns={'device_id_hash': 'cnt_users'})"
   ]
  },
  {
   "cell_type": "code",
   "execution_count": 42,
   "metadata": {},
   "outputs": [
    {
     "data": {
      "text/html": [
       "<div>\n",
       "<style scoped>\n",
       "    .dataframe tbody tr th:only-of-type {\n",
       "        vertical-align: middle;\n",
       "    }\n",
       "\n",
       "    .dataframe tbody tr th {\n",
       "        vertical-align: top;\n",
       "    }\n",
       "\n",
       "    .dataframe thead th {\n",
       "        text-align: right;\n",
       "    }\n",
       "</style>\n",
       "<table border=\"1\" class=\"dataframe\">\n",
       "  <thead>\n",
       "    <tr style=\"text-align: right;\">\n",
       "      <th></th>\n",
       "      <th>event_name</th>\n",
       "      <th>cnt_users</th>\n",
       "    </tr>\n",
       "  </thead>\n",
       "  <tbody>\n",
       "    <tr>\n",
       "      <th>0</th>\n",
       "      <td>MainScreenAppear</td>\n",
       "      <td>7419</td>\n",
       "    </tr>\n",
       "    <tr>\n",
       "      <th>1</th>\n",
       "      <td>OffersScreenAppear</td>\n",
       "      <td>4593</td>\n",
       "    </tr>\n",
       "    <tr>\n",
       "      <th>2</th>\n",
       "      <td>CartScreenAppear</td>\n",
       "      <td>3734</td>\n",
       "    </tr>\n",
       "    <tr>\n",
       "      <th>3</th>\n",
       "      <td>PaymentScreenSuccessful</td>\n",
       "      <td>3539</td>\n",
       "    </tr>\n",
       "  </tbody>\n",
       "</table>\n",
       "</div>"
      ],
      "text/plain": [
       "                event_name  cnt_users\n",
       "0         MainScreenAppear       7419\n",
       "1       OffersScreenAppear       4593\n",
       "2         CartScreenAppear       3734\n",
       "3  PaymentScreenSuccessful       3539"
      ]
     },
     "execution_count": 42,
     "metadata": {},
     "output_type": "execute_result"
    }
   ],
   "source": [
    "users_per_events = users_per_events.fillna(100)\n",
    "users_per_events"
   ]
  },
  {
   "cell_type": "code",
   "execution_count": 43,
   "metadata": {
    "scrolled": false
   },
   "outputs": [
    {
     "data": {
      "application/vnd.plotly.v1+json": {
       "config": {
        "plotlyServerURL": "https://plot.ly"
       },
       "data": [
        {
         "name": "Группа А",
         "textinfo": "value+percent previous",
         "type": "funnel",
         "x": [
          7419,
          4593,
          3734,
          3539
         ],
         "y": [
          "MainScreenAppear",
          "OffersScreenAppear",
          "CartScreenAppear",
          "PaymentScreenSuccessful"
         ]
        }
       ],
       "layout": {
        "template": {
         "data": {
          "bar": [
           {
            "error_x": {
             "color": "#2a3f5f"
            },
            "error_y": {
             "color": "#2a3f5f"
            },
            "marker": {
             "line": {
              "color": "#E5ECF6",
              "width": 0.5
             },
             "pattern": {
              "fillmode": "overlay",
              "size": 10,
              "solidity": 0.2
             }
            },
            "type": "bar"
           }
          ],
          "barpolar": [
           {
            "marker": {
             "line": {
              "color": "#E5ECF6",
              "width": 0.5
             },
             "pattern": {
              "fillmode": "overlay",
              "size": 10,
              "solidity": 0.2
             }
            },
            "type": "barpolar"
           }
          ],
          "carpet": [
           {
            "aaxis": {
             "endlinecolor": "#2a3f5f",
             "gridcolor": "white",
             "linecolor": "white",
             "minorgridcolor": "white",
             "startlinecolor": "#2a3f5f"
            },
            "baxis": {
             "endlinecolor": "#2a3f5f",
             "gridcolor": "white",
             "linecolor": "white",
             "minorgridcolor": "white",
             "startlinecolor": "#2a3f5f"
            },
            "type": "carpet"
           }
          ],
          "choropleth": [
           {
            "colorbar": {
             "outlinewidth": 0,
             "ticks": ""
            },
            "type": "choropleth"
           }
          ],
          "contour": [
           {
            "colorbar": {
             "outlinewidth": 0,
             "ticks": ""
            },
            "colorscale": [
             [
              0,
              "#0d0887"
             ],
             [
              0.1111111111111111,
              "#46039f"
             ],
             [
              0.2222222222222222,
              "#7201a8"
             ],
             [
              0.3333333333333333,
              "#9c179e"
             ],
             [
              0.4444444444444444,
              "#bd3786"
             ],
             [
              0.5555555555555556,
              "#d8576b"
             ],
             [
              0.6666666666666666,
              "#ed7953"
             ],
             [
              0.7777777777777778,
              "#fb9f3a"
             ],
             [
              0.8888888888888888,
              "#fdca26"
             ],
             [
              1,
              "#f0f921"
             ]
            ],
            "type": "contour"
           }
          ],
          "contourcarpet": [
           {
            "colorbar": {
             "outlinewidth": 0,
             "ticks": ""
            },
            "type": "contourcarpet"
           }
          ],
          "heatmap": [
           {
            "colorbar": {
             "outlinewidth": 0,
             "ticks": ""
            },
            "colorscale": [
             [
              0,
              "#0d0887"
             ],
             [
              0.1111111111111111,
              "#46039f"
             ],
             [
              0.2222222222222222,
              "#7201a8"
             ],
             [
              0.3333333333333333,
              "#9c179e"
             ],
             [
              0.4444444444444444,
              "#bd3786"
             ],
             [
              0.5555555555555556,
              "#d8576b"
             ],
             [
              0.6666666666666666,
              "#ed7953"
             ],
             [
              0.7777777777777778,
              "#fb9f3a"
             ],
             [
              0.8888888888888888,
              "#fdca26"
             ],
             [
              1,
              "#f0f921"
             ]
            ],
            "type": "heatmap"
           }
          ],
          "heatmapgl": [
           {
            "colorbar": {
             "outlinewidth": 0,
             "ticks": ""
            },
            "colorscale": [
             [
              0,
              "#0d0887"
             ],
             [
              0.1111111111111111,
              "#46039f"
             ],
             [
              0.2222222222222222,
              "#7201a8"
             ],
             [
              0.3333333333333333,
              "#9c179e"
             ],
             [
              0.4444444444444444,
              "#bd3786"
             ],
             [
              0.5555555555555556,
              "#d8576b"
             ],
             [
              0.6666666666666666,
              "#ed7953"
             ],
             [
              0.7777777777777778,
              "#fb9f3a"
             ],
             [
              0.8888888888888888,
              "#fdca26"
             ],
             [
              1,
              "#f0f921"
             ]
            ],
            "type": "heatmapgl"
           }
          ],
          "histogram": [
           {
            "marker": {
             "pattern": {
              "fillmode": "overlay",
              "size": 10,
              "solidity": 0.2
             }
            },
            "type": "histogram"
           }
          ],
          "histogram2d": [
           {
            "colorbar": {
             "outlinewidth": 0,
             "ticks": ""
            },
            "colorscale": [
             [
              0,
              "#0d0887"
             ],
             [
              0.1111111111111111,
              "#46039f"
             ],
             [
              0.2222222222222222,
              "#7201a8"
             ],
             [
              0.3333333333333333,
              "#9c179e"
             ],
             [
              0.4444444444444444,
              "#bd3786"
             ],
             [
              0.5555555555555556,
              "#d8576b"
             ],
             [
              0.6666666666666666,
              "#ed7953"
             ],
             [
              0.7777777777777778,
              "#fb9f3a"
             ],
             [
              0.8888888888888888,
              "#fdca26"
             ],
             [
              1,
              "#f0f921"
             ]
            ],
            "type": "histogram2d"
           }
          ],
          "histogram2dcontour": [
           {
            "colorbar": {
             "outlinewidth": 0,
             "ticks": ""
            },
            "colorscale": [
             [
              0,
              "#0d0887"
             ],
             [
              0.1111111111111111,
              "#46039f"
             ],
             [
              0.2222222222222222,
              "#7201a8"
             ],
             [
              0.3333333333333333,
              "#9c179e"
             ],
             [
              0.4444444444444444,
              "#bd3786"
             ],
             [
              0.5555555555555556,
              "#d8576b"
             ],
             [
              0.6666666666666666,
              "#ed7953"
             ],
             [
              0.7777777777777778,
              "#fb9f3a"
             ],
             [
              0.8888888888888888,
              "#fdca26"
             ],
             [
              1,
              "#f0f921"
             ]
            ],
            "type": "histogram2dcontour"
           }
          ],
          "mesh3d": [
           {
            "colorbar": {
             "outlinewidth": 0,
             "ticks": ""
            },
            "type": "mesh3d"
           }
          ],
          "parcoords": [
           {
            "line": {
             "colorbar": {
              "outlinewidth": 0,
              "ticks": ""
             }
            },
            "type": "parcoords"
           }
          ],
          "pie": [
           {
            "automargin": true,
            "type": "pie"
           }
          ],
          "scatter": [
           {
            "marker": {
             "colorbar": {
              "outlinewidth": 0,
              "ticks": ""
             }
            },
            "type": "scatter"
           }
          ],
          "scatter3d": [
           {
            "line": {
             "colorbar": {
              "outlinewidth": 0,
              "ticks": ""
             }
            },
            "marker": {
             "colorbar": {
              "outlinewidth": 0,
              "ticks": ""
             }
            },
            "type": "scatter3d"
           }
          ],
          "scattercarpet": [
           {
            "marker": {
             "colorbar": {
              "outlinewidth": 0,
              "ticks": ""
             }
            },
            "type": "scattercarpet"
           }
          ],
          "scattergeo": [
           {
            "marker": {
             "colorbar": {
              "outlinewidth": 0,
              "ticks": ""
             }
            },
            "type": "scattergeo"
           }
          ],
          "scattergl": [
           {
            "marker": {
             "colorbar": {
              "outlinewidth": 0,
              "ticks": ""
             }
            },
            "type": "scattergl"
           }
          ],
          "scattermapbox": [
           {
            "marker": {
             "colorbar": {
              "outlinewidth": 0,
              "ticks": ""
             }
            },
            "type": "scattermapbox"
           }
          ],
          "scatterpolar": [
           {
            "marker": {
             "colorbar": {
              "outlinewidth": 0,
              "ticks": ""
             }
            },
            "type": "scatterpolar"
           }
          ],
          "scatterpolargl": [
           {
            "marker": {
             "colorbar": {
              "outlinewidth": 0,
              "ticks": ""
             }
            },
            "type": "scatterpolargl"
           }
          ],
          "scatterternary": [
           {
            "marker": {
             "colorbar": {
              "outlinewidth": 0,
              "ticks": ""
             }
            },
            "type": "scatterternary"
           }
          ],
          "surface": [
           {
            "colorbar": {
             "outlinewidth": 0,
             "ticks": ""
            },
            "colorscale": [
             [
              0,
              "#0d0887"
             ],
             [
              0.1111111111111111,
              "#46039f"
             ],
             [
              0.2222222222222222,
              "#7201a8"
             ],
             [
              0.3333333333333333,
              "#9c179e"
             ],
             [
              0.4444444444444444,
              "#bd3786"
             ],
             [
              0.5555555555555556,
              "#d8576b"
             ],
             [
              0.6666666666666666,
              "#ed7953"
             ],
             [
              0.7777777777777778,
              "#fb9f3a"
             ],
             [
              0.8888888888888888,
              "#fdca26"
             ],
             [
              1,
              "#f0f921"
             ]
            ],
            "type": "surface"
           }
          ],
          "table": [
           {
            "cells": {
             "fill": {
              "color": "#EBF0F8"
             },
             "line": {
              "color": "white"
             }
            },
            "header": {
             "fill": {
              "color": "#C8D4E3"
             },
             "line": {
              "color": "white"
             }
            },
            "type": "table"
           }
          ]
         },
         "layout": {
          "annotationdefaults": {
           "arrowcolor": "#2a3f5f",
           "arrowhead": 0,
           "arrowwidth": 1
          },
          "autotypenumbers": "strict",
          "coloraxis": {
           "colorbar": {
            "outlinewidth": 0,
            "ticks": ""
           }
          },
          "colorscale": {
           "diverging": [
            [
             0,
             "#8e0152"
            ],
            [
             0.1,
             "#c51b7d"
            ],
            [
             0.2,
             "#de77ae"
            ],
            [
             0.3,
             "#f1b6da"
            ],
            [
             0.4,
             "#fde0ef"
            ],
            [
             0.5,
             "#f7f7f7"
            ],
            [
             0.6,
             "#e6f5d0"
            ],
            [
             0.7,
             "#b8e186"
            ],
            [
             0.8,
             "#7fbc41"
            ],
            [
             0.9,
             "#4d9221"
            ],
            [
             1,
             "#276419"
            ]
           ],
           "sequential": [
            [
             0,
             "#0d0887"
            ],
            [
             0.1111111111111111,
             "#46039f"
            ],
            [
             0.2222222222222222,
             "#7201a8"
            ],
            [
             0.3333333333333333,
             "#9c179e"
            ],
            [
             0.4444444444444444,
             "#bd3786"
            ],
            [
             0.5555555555555556,
             "#d8576b"
            ],
            [
             0.6666666666666666,
             "#ed7953"
            ],
            [
             0.7777777777777778,
             "#fb9f3a"
            ],
            [
             0.8888888888888888,
             "#fdca26"
            ],
            [
             1,
             "#f0f921"
            ]
           ],
           "sequentialminus": [
            [
             0,
             "#0d0887"
            ],
            [
             0.1111111111111111,
             "#46039f"
            ],
            [
             0.2222222222222222,
             "#7201a8"
            ],
            [
             0.3333333333333333,
             "#9c179e"
            ],
            [
             0.4444444444444444,
             "#bd3786"
            ],
            [
             0.5555555555555556,
             "#d8576b"
            ],
            [
             0.6666666666666666,
             "#ed7953"
            ],
            [
             0.7777777777777778,
             "#fb9f3a"
            ],
            [
             0.8888888888888888,
             "#fdca26"
            ],
            [
             1,
             "#f0f921"
            ]
           ]
          },
          "colorway": [
           "#636efa",
           "#EF553B",
           "#00cc96",
           "#ab63fa",
           "#FFA15A",
           "#19d3f3",
           "#FF6692",
           "#B6E880",
           "#FF97FF",
           "#FECB52"
          ],
          "font": {
           "color": "#2a3f5f"
          },
          "geo": {
           "bgcolor": "white",
           "lakecolor": "white",
           "landcolor": "#E5ECF6",
           "showlakes": true,
           "showland": true,
           "subunitcolor": "white"
          },
          "hoverlabel": {
           "align": "left"
          },
          "hovermode": "closest",
          "mapbox": {
           "style": "light"
          },
          "paper_bgcolor": "white",
          "plot_bgcolor": "#E5ECF6",
          "polar": {
           "angularaxis": {
            "gridcolor": "white",
            "linecolor": "white",
            "ticks": ""
           },
           "bgcolor": "#E5ECF6",
           "radialaxis": {
            "gridcolor": "white",
            "linecolor": "white",
            "ticks": ""
           }
          },
          "scene": {
           "xaxis": {
            "backgroundcolor": "#E5ECF6",
            "gridcolor": "white",
            "gridwidth": 2,
            "linecolor": "white",
            "showbackground": true,
            "ticks": "",
            "zerolinecolor": "white"
           },
           "yaxis": {
            "backgroundcolor": "#E5ECF6",
            "gridcolor": "white",
            "gridwidth": 2,
            "linecolor": "white",
            "showbackground": true,
            "ticks": "",
            "zerolinecolor": "white"
           },
           "zaxis": {
            "backgroundcolor": "#E5ECF6",
            "gridcolor": "white",
            "gridwidth": 2,
            "linecolor": "white",
            "showbackground": true,
            "ticks": "",
            "zerolinecolor": "white"
           }
          },
          "shapedefaults": {
           "line": {
            "color": "#2a3f5f"
           }
          },
          "ternary": {
           "aaxis": {
            "gridcolor": "white",
            "linecolor": "white",
            "ticks": ""
           },
           "baxis": {
            "gridcolor": "white",
            "linecolor": "white",
            "ticks": ""
           },
           "bgcolor": "#E5ECF6",
           "caxis": {
            "gridcolor": "white",
            "linecolor": "white",
            "ticks": ""
           }
          },
          "title": {
           "x": 0.05
          },
          "xaxis": {
           "automargin": true,
           "gridcolor": "white",
           "linecolor": "white",
           "ticks": "",
           "title": {
            "standoff": 15
           },
           "zerolinecolor": "white",
           "zerolinewidth": 2
          },
          "yaxis": {
           "automargin": true,
           "gridcolor": "white",
           "linecolor": "white",
           "ticks": "",
           "title": {
            "standoff": 15
           },
           "zerolinecolor": "white",
           "zerolinewidth": 2
          }
         }
        },
        "title": {
         "text": "ГРАФИК ИЗМЕНЕНИЯ КОНВЕРСИИ НА РАЗНЫХ ЭТАПАХ ВОРОНКИ"
        }
       }
      },
      "text/html": [
       "<div>                            <div id=\"963399e4-6424-42b1-aa1a-b3fc1a2a6aae\" class=\"plotly-graph-div\" style=\"height:525px; width:100%;\"></div>            <script type=\"text/javascript\">                require([\"plotly\"], function(Plotly) {                    window.PLOTLYENV=window.PLOTLYENV || {};                                    if (document.getElementById(\"963399e4-6424-42b1-aa1a-b3fc1a2a6aae\")) {                    Plotly.newPlot(                        \"963399e4-6424-42b1-aa1a-b3fc1a2a6aae\",                        [{\"name\":\"\\u0413\\u0440\\u0443\\u043f\\u043f\\u0430 \\u0410\",\"textinfo\":\"value+percent previous\",\"x\":[7419,4593,3734,3539],\"y\":[\"MainScreenAppear\",\"OffersScreenAppear\",\"CartScreenAppear\",\"PaymentScreenSuccessful\"],\"type\":\"funnel\"}],                        {\"template\":{\"data\":{\"bar\":[{\"error_x\":{\"color\":\"#2a3f5f\"},\"error_y\":{\"color\":\"#2a3f5f\"},\"marker\":{\"line\":{\"color\":\"#E5ECF6\",\"width\":0.5},\"pattern\":{\"fillmode\":\"overlay\",\"size\":10,\"solidity\":0.2}},\"type\":\"bar\"}],\"barpolar\":[{\"marker\":{\"line\":{\"color\":\"#E5ECF6\",\"width\":0.5},\"pattern\":{\"fillmode\":\"overlay\",\"size\":10,\"solidity\":0.2}},\"type\":\"barpolar\"}],\"carpet\":[{\"aaxis\":{\"endlinecolor\":\"#2a3f5f\",\"gridcolor\":\"white\",\"linecolor\":\"white\",\"minorgridcolor\":\"white\",\"startlinecolor\":\"#2a3f5f\"},\"baxis\":{\"endlinecolor\":\"#2a3f5f\",\"gridcolor\":\"white\",\"linecolor\":\"white\",\"minorgridcolor\":\"white\",\"startlinecolor\":\"#2a3f5f\"},\"type\":\"carpet\"}],\"choropleth\":[{\"colorbar\":{\"outlinewidth\":0,\"ticks\":\"\"},\"type\":\"choropleth\"}],\"contour\":[{\"colorbar\":{\"outlinewidth\":0,\"ticks\":\"\"},\"colorscale\":[[0.0,\"#0d0887\"],[0.1111111111111111,\"#46039f\"],[0.2222222222222222,\"#7201a8\"],[0.3333333333333333,\"#9c179e\"],[0.4444444444444444,\"#bd3786\"],[0.5555555555555556,\"#d8576b\"],[0.6666666666666666,\"#ed7953\"],[0.7777777777777778,\"#fb9f3a\"],[0.8888888888888888,\"#fdca26\"],[1.0,\"#f0f921\"]],\"type\":\"contour\"}],\"contourcarpet\":[{\"colorbar\":{\"outlinewidth\":0,\"ticks\":\"\"},\"type\":\"contourcarpet\"}],\"heatmap\":[{\"colorbar\":{\"outlinewidth\":0,\"ticks\":\"\"},\"colorscale\":[[0.0,\"#0d0887\"],[0.1111111111111111,\"#46039f\"],[0.2222222222222222,\"#7201a8\"],[0.3333333333333333,\"#9c179e\"],[0.4444444444444444,\"#bd3786\"],[0.5555555555555556,\"#d8576b\"],[0.6666666666666666,\"#ed7953\"],[0.7777777777777778,\"#fb9f3a\"],[0.8888888888888888,\"#fdca26\"],[1.0,\"#f0f921\"]],\"type\":\"heatmap\"}],\"heatmapgl\":[{\"colorbar\":{\"outlinewidth\":0,\"ticks\":\"\"},\"colorscale\":[[0.0,\"#0d0887\"],[0.1111111111111111,\"#46039f\"],[0.2222222222222222,\"#7201a8\"],[0.3333333333333333,\"#9c179e\"],[0.4444444444444444,\"#bd3786\"],[0.5555555555555556,\"#d8576b\"],[0.6666666666666666,\"#ed7953\"],[0.7777777777777778,\"#fb9f3a\"],[0.8888888888888888,\"#fdca26\"],[1.0,\"#f0f921\"]],\"type\":\"heatmapgl\"}],\"histogram\":[{\"marker\":{\"pattern\":{\"fillmode\":\"overlay\",\"size\":10,\"solidity\":0.2}},\"type\":\"histogram\"}],\"histogram2d\":[{\"colorbar\":{\"outlinewidth\":0,\"ticks\":\"\"},\"colorscale\":[[0.0,\"#0d0887\"],[0.1111111111111111,\"#46039f\"],[0.2222222222222222,\"#7201a8\"],[0.3333333333333333,\"#9c179e\"],[0.4444444444444444,\"#bd3786\"],[0.5555555555555556,\"#d8576b\"],[0.6666666666666666,\"#ed7953\"],[0.7777777777777778,\"#fb9f3a\"],[0.8888888888888888,\"#fdca26\"],[1.0,\"#f0f921\"]],\"type\":\"histogram2d\"}],\"histogram2dcontour\":[{\"colorbar\":{\"outlinewidth\":0,\"ticks\":\"\"},\"colorscale\":[[0.0,\"#0d0887\"],[0.1111111111111111,\"#46039f\"],[0.2222222222222222,\"#7201a8\"],[0.3333333333333333,\"#9c179e\"],[0.4444444444444444,\"#bd3786\"],[0.5555555555555556,\"#d8576b\"],[0.6666666666666666,\"#ed7953\"],[0.7777777777777778,\"#fb9f3a\"],[0.8888888888888888,\"#fdca26\"],[1.0,\"#f0f921\"]],\"type\":\"histogram2dcontour\"}],\"mesh3d\":[{\"colorbar\":{\"outlinewidth\":0,\"ticks\":\"\"},\"type\":\"mesh3d\"}],\"parcoords\":[{\"line\":{\"colorbar\":{\"outlinewidth\":0,\"ticks\":\"\"}},\"type\":\"parcoords\"}],\"pie\":[{\"automargin\":true,\"type\":\"pie\"}],\"scatter\":[{\"marker\":{\"colorbar\":{\"outlinewidth\":0,\"ticks\":\"\"}},\"type\":\"scatter\"}],\"scatter3d\":[{\"line\":{\"colorbar\":{\"outlinewidth\":0,\"ticks\":\"\"}},\"marker\":{\"colorbar\":{\"outlinewidth\":0,\"ticks\":\"\"}},\"type\":\"scatter3d\"}],\"scattercarpet\":[{\"marker\":{\"colorbar\":{\"outlinewidth\":0,\"ticks\":\"\"}},\"type\":\"scattercarpet\"}],\"scattergeo\":[{\"marker\":{\"colorbar\":{\"outlinewidth\":0,\"ticks\":\"\"}},\"type\":\"scattergeo\"}],\"scattergl\":[{\"marker\":{\"colorbar\":{\"outlinewidth\":0,\"ticks\":\"\"}},\"type\":\"scattergl\"}],\"scattermapbox\":[{\"marker\":{\"colorbar\":{\"outlinewidth\":0,\"ticks\":\"\"}},\"type\":\"scattermapbox\"}],\"scatterpolar\":[{\"marker\":{\"colorbar\":{\"outlinewidth\":0,\"ticks\":\"\"}},\"type\":\"scatterpolar\"}],\"scatterpolargl\":[{\"marker\":{\"colorbar\":{\"outlinewidth\":0,\"ticks\":\"\"}},\"type\":\"scatterpolargl\"}],\"scatterternary\":[{\"marker\":{\"colorbar\":{\"outlinewidth\":0,\"ticks\":\"\"}},\"type\":\"scatterternary\"}],\"surface\":[{\"colorbar\":{\"outlinewidth\":0,\"ticks\":\"\"},\"colorscale\":[[0.0,\"#0d0887\"],[0.1111111111111111,\"#46039f\"],[0.2222222222222222,\"#7201a8\"],[0.3333333333333333,\"#9c179e\"],[0.4444444444444444,\"#bd3786\"],[0.5555555555555556,\"#d8576b\"],[0.6666666666666666,\"#ed7953\"],[0.7777777777777778,\"#fb9f3a\"],[0.8888888888888888,\"#fdca26\"],[1.0,\"#f0f921\"]],\"type\":\"surface\"}],\"table\":[{\"cells\":{\"fill\":{\"color\":\"#EBF0F8\"},\"line\":{\"color\":\"white\"}},\"header\":{\"fill\":{\"color\":\"#C8D4E3\"},\"line\":{\"color\":\"white\"}},\"type\":\"table\"}]},\"layout\":{\"annotationdefaults\":{\"arrowcolor\":\"#2a3f5f\",\"arrowhead\":0,\"arrowwidth\":1},\"autotypenumbers\":\"strict\",\"coloraxis\":{\"colorbar\":{\"outlinewidth\":0,\"ticks\":\"\"}},\"colorscale\":{\"diverging\":[[0,\"#8e0152\"],[0.1,\"#c51b7d\"],[0.2,\"#de77ae\"],[0.3,\"#f1b6da\"],[0.4,\"#fde0ef\"],[0.5,\"#f7f7f7\"],[0.6,\"#e6f5d0\"],[0.7,\"#b8e186\"],[0.8,\"#7fbc41\"],[0.9,\"#4d9221\"],[1,\"#276419\"]],\"sequential\":[[0.0,\"#0d0887\"],[0.1111111111111111,\"#46039f\"],[0.2222222222222222,\"#7201a8\"],[0.3333333333333333,\"#9c179e\"],[0.4444444444444444,\"#bd3786\"],[0.5555555555555556,\"#d8576b\"],[0.6666666666666666,\"#ed7953\"],[0.7777777777777778,\"#fb9f3a\"],[0.8888888888888888,\"#fdca26\"],[1.0,\"#f0f921\"]],\"sequentialminus\":[[0.0,\"#0d0887\"],[0.1111111111111111,\"#46039f\"],[0.2222222222222222,\"#7201a8\"],[0.3333333333333333,\"#9c179e\"],[0.4444444444444444,\"#bd3786\"],[0.5555555555555556,\"#d8576b\"],[0.6666666666666666,\"#ed7953\"],[0.7777777777777778,\"#fb9f3a\"],[0.8888888888888888,\"#fdca26\"],[1.0,\"#f0f921\"]]},\"colorway\":[\"#636efa\",\"#EF553B\",\"#00cc96\",\"#ab63fa\",\"#FFA15A\",\"#19d3f3\",\"#FF6692\",\"#B6E880\",\"#FF97FF\",\"#FECB52\"],\"font\":{\"color\":\"#2a3f5f\"},\"geo\":{\"bgcolor\":\"white\",\"lakecolor\":\"white\",\"landcolor\":\"#E5ECF6\",\"showlakes\":true,\"showland\":true,\"subunitcolor\":\"white\"},\"hoverlabel\":{\"align\":\"left\"},\"hovermode\":\"closest\",\"mapbox\":{\"style\":\"light\"},\"paper_bgcolor\":\"white\",\"plot_bgcolor\":\"#E5ECF6\",\"polar\":{\"angularaxis\":{\"gridcolor\":\"white\",\"linecolor\":\"white\",\"ticks\":\"\"},\"bgcolor\":\"#E5ECF6\",\"radialaxis\":{\"gridcolor\":\"white\",\"linecolor\":\"white\",\"ticks\":\"\"}},\"scene\":{\"xaxis\":{\"backgroundcolor\":\"#E5ECF6\",\"gridcolor\":\"white\",\"gridwidth\":2,\"linecolor\":\"white\",\"showbackground\":true,\"ticks\":\"\",\"zerolinecolor\":\"white\"},\"yaxis\":{\"backgroundcolor\":\"#E5ECF6\",\"gridcolor\":\"white\",\"gridwidth\":2,\"linecolor\":\"white\",\"showbackground\":true,\"ticks\":\"\",\"zerolinecolor\":\"white\"},\"zaxis\":{\"backgroundcolor\":\"#E5ECF6\",\"gridcolor\":\"white\",\"gridwidth\":2,\"linecolor\":\"white\",\"showbackground\":true,\"ticks\":\"\",\"zerolinecolor\":\"white\"}},\"shapedefaults\":{\"line\":{\"color\":\"#2a3f5f\"}},\"ternary\":{\"aaxis\":{\"gridcolor\":\"white\",\"linecolor\":\"white\",\"ticks\":\"\"},\"baxis\":{\"gridcolor\":\"white\",\"linecolor\":\"white\",\"ticks\":\"\"},\"bgcolor\":\"#E5ECF6\",\"caxis\":{\"gridcolor\":\"white\",\"linecolor\":\"white\",\"ticks\":\"\"}},\"title\":{\"x\":0.05},\"xaxis\":{\"automargin\":true,\"gridcolor\":\"white\",\"linecolor\":\"white\",\"ticks\":\"\",\"title\":{\"standoff\":15},\"zerolinecolor\":\"white\",\"zerolinewidth\":2},\"yaxis\":{\"automargin\":true,\"gridcolor\":\"white\",\"linecolor\":\"white\",\"ticks\":\"\",\"title\":{\"standoff\":15},\"zerolinecolor\":\"white\",\"zerolinewidth\":2}}},\"title\":{\"text\":\"\\u0413\\u0420\\u0410\\u0424\\u0418\\u041a \\u0418\\u0417\\u041c\\u0415\\u041d\\u0415\\u041d\\u0418\\u042f \\u041a\\u041e\\u041d\\u0412\\u0415\\u0420\\u0421\\u0418\\u0418 \\u041d\\u0410 \\u0420\\u0410\\u0417\\u041d\\u042b\\u0425 \\u042d\\u0422\\u0410\\u041f\\u0410\\u0425 \\u0412\\u041e\\u0420\\u041e\\u041d\\u041a\\u0418\"}},                        {\"responsive\": true}                    ).then(function(){\n",
       "                            \n",
       "var gd = document.getElementById('963399e4-6424-42b1-aa1a-b3fc1a2a6aae');\n",
       "var x = new MutationObserver(function (mutations, observer) {{\n",
       "        var display = window.getComputedStyle(gd).display;\n",
       "        if (!display || display === 'none') {{\n",
       "            console.log([gd, 'removed!']);\n",
       "            Plotly.purge(gd);\n",
       "            observer.disconnect();\n",
       "        }}\n",
       "}});\n",
       "\n",
       "// Listen for the removal of the full notebook cells\n",
       "var notebookContainer = gd.closest('#notebook-container');\n",
       "if (notebookContainer) {{\n",
       "    x.observe(notebookContainer, {childList: true});\n",
       "}}\n",
       "\n",
       "// Listen for the clearing of the current output cell\n",
       "var outputEl = gd.closest('.output');\n",
       "if (outputEl) {{\n",
       "    x.observe(outputEl, {childList: true});\n",
       "}}\n",
       "\n",
       "                        })                };                });            </script>        </div>"
      ]
     },
     "metadata": {},
     "output_type": "display_data"
    }
   ],
   "source": [
    "#построим сводный график продуктовой воронки для обеих групп\n",
    "#отобразим на нём абсолютные цифры и процент перешедших на следующую ступень, относительно первой ступени\n",
    "\n",
    "fig = go.Figure()\n",
    "\n",
    "fig.add_trace(go.Funnel(\n",
    "    name = 'Группа А',\n",
    "    y = users_per_events['event_name'],\n",
    "    x = users_per_events['cnt_users'],\n",
    "     textinfo = \"value+percent previous\"))\n",
    "\n",
    "fig.update_layout(title_text='ГРАФИК ИЗМЕНЕНИЯ КОНВЕРСИИ НА РАЗНЫХ ЭТАПАХ ВОРОНКИ')\n",
    "fig.show()"
   ]
  },
  {
   "cell_type": "code",
   "execution_count": 44,
   "metadata": {},
   "outputs": [
    {
     "data": {
      "image/jpeg": "[encoded data removed]",
      "text/plain": [
       "<IPython.core.display.Image object>"
      ]
     },
     "execution_count": 44,
     "metadata": {
      "image/jpeg": {
       "height": 600,
       "width": 900
      }
     },
     "output_type": "execute_result"
    }
   ],
   "source": [
    "# здесь также приложим рисунок второго графика\n",
    "\n",
    "Image(r\"D:\\Datasets_for_Git\\voronka_konv_2.jpg\", width=900, height=600)"
   ]
  },
  {
   "cell_type": "markdown",
   "metadata": {},
   "source": [
    "**По итогу мы наблюдаем весьма впечатляющие показатели конверсии в целом.**\n",
    "\n",
    "**Однако, наибольший процент пользователей (почти 40% от изначального количества) уходит на этапе перехода от Главной страницы к странице Предложения. Стоит обратить на это особое внимание. Возможные причины: не слишком удачный дизайн главного экрана, неудобство для пользователя, недостаточно освещены специальные предложения.**\n",
    "\n",
    "**Также почти 20% пользователей теряется при переходе от страницы Предложения к Корзине.**\n",
    "\n",
    "**Стоит отметить высокий уровень конверсии при переходе от Корзины к странице Успешной Оплаты (почти 95%).**\n",
    "\n",
    "**Посмотрим теперь, какая доля пользователей переходит от первого события до оплаты:**"
   ]
  },
  {
   "cell_type": "code",
   "execution_count": 45,
   "metadata": {},
   "outputs": [
    {
     "name": "stdout",
     "output_type": "stream",
     "text": [
      "Доля пользователей, дошедших от первого события до оплаты составляет 47.70%\n"
     ]
    }
   ],
   "source": [
    "qw=users_per_events['cnt_users'][3] / users_per_events['cnt_users'][0]\n",
    "print(f'Доля пользователей, дошедших от первого события до оплаты составляет {qw:.2%}')"
   ]
  },
  {
   "cell_type": "markdown",
   "metadata": {},
   "source": [
    "**Мы видим в целом довольно приличный процент конверсии первичных посетителей сайта в покупателей - почти 48%.**"
   ]
  },
  {
   "cell_type": "code",
   "execution_count": null,
   "metadata": {},
   "outputs": [],
   "source": []
  },
  {
   "cell_type": "code",
   "execution_count": null,
   "metadata": {},
   "outputs": [],
   "source": []
  },
  {
   "cell_type": "markdown",
   "metadata": {},
   "source": [
    "<div class=\"alert alert-info\">\n",
    "<a id='result'></a>\n",
    "\n",
    "## ИЗУЧЕНИЕ РЕЗУЛЬТАТОВ ЭКСПЕРИМЕНТА."
   ]
  },
  {
   "cell_type": "markdown",
   "metadata": {},
   "source": [
    "**Ещё раз вернёмся к количеству участников каждой группы эсперимента:**"
   ]
  },
  {
   "cell_type": "code",
   "execution_count": 46,
   "metadata": {},
   "outputs": [
    {
     "name": "stdout",
     "output_type": "stream",
     "text": [
      "Количество пользователей группы \"246\" равно 2484\n"
     ]
    }
   ],
   "source": [
    "#посчитаем количество участников группы 246\n",
    "\n",
    "users_group_246 = logs.loc[logs['exp_id'] == 246, 'device_id_hash'].unique()\n",
    "print(f'Количество пользователей группы \"246\" равно {len(users_group_246)}')"
   ]
  },
  {
   "cell_type": "code",
   "execution_count": 47,
   "metadata": {},
   "outputs": [
    {
     "name": "stdout",
     "output_type": "stream",
     "text": [
      "Количество пользователей группы \"247\" равно 2513\n"
     ]
    }
   ],
   "source": [
    "#посчитаем количество участников группы 247\n",
    "\n",
    "users_group_247 = logs.loc[logs['exp_id'] == 247, 'device_id_hash'].unique()\n",
    "print(f'Количество пользователей группы \"247\" равно {len(users_group_247)}')"
   ]
  },
  {
   "cell_type": "code",
   "execution_count": 48,
   "metadata": {},
   "outputs": [
    {
     "name": "stdout",
     "output_type": "stream",
     "text": [
      "Количество пользователей группы \"248\" равно 2537\n"
     ]
    }
   ],
   "source": [
    "#посчитаем количество участников группы 248\n",
    "\n",
    "users_group_248 = logs.loc[logs['exp_id'] == 248, 'device_id_hash'].unique()\n",
    "print(f'Количество пользователей группы \"248\" равно {len(users_group_248)}')"
   ]
  },
  {
   "cell_type": "markdown",
   "metadata": {},
   "source": [
    "**Итак, все три группы представлены, примерно в равных долях.**"
   ]
  },
  {
   "cell_type": "code",
   "execution_count": null,
   "metadata": {},
   "outputs": [],
   "source": []
  },
  {
   "cell_type": "markdown",
   "metadata": {},
   "source": [
    "### Проверим, находят ли статистические критерии разницу между двумя контрольными группами для А/А-эксперимента"
   ]
  },
  {
   "cell_type": "markdown",
   "metadata": {},
   "source": [
    "**Проверим, найдут ли статистические критерии разницу между двумя контрольными группами для А/А-эксперимента (это выборки 246 и 247). Это необходимо сделать для проверки корректности всех механизмов и расчётов.**"
   ]
  },
  {
   "cell_type": "code",
   "execution_count": 49,
   "metadata": {},
   "outputs": [],
   "source": [
    "#внесём в переменную размер группы 246\n",
    "\n",
    "size_group_246 = logs.loc[logs['exp_id'] == 246]['device_id_hash'].nunique()"
   ]
  },
  {
   "cell_type": "code",
   "execution_count": 50,
   "metadata": {},
   "outputs": [],
   "source": [
    "#внесём в переменную количество оплат группы 246\n",
    "\n",
    "purch_group_246 = logs.loc[(logs['exp_id'] == 246) & (logs['event_name'] == 'PaymentScreenSuccessful')]['device_id_hash'].nunique()"
   ]
  },
  {
   "cell_type": "code",
   "execution_count": 51,
   "metadata": {},
   "outputs": [],
   "source": [
    "#внесём в переменную размер группы 247\n",
    "\n",
    "size_group_247 = logs.loc[logs['exp_id'] == 247]['device_id_hash'].nunique()"
   ]
  },
  {
   "cell_type": "code",
   "execution_count": 52,
   "metadata": {},
   "outputs": [],
   "source": [
    "#внесём в переменную количество оплат группы 247\n",
    "\n",
    "purch_group_247 = logs.loc[(logs['exp_id'] == 247) & (logs['event_name'] == 'PaymentScreenSuccessful')]['device_id_hash'].nunique()"
   ]
  },
  {
   "cell_type": "markdown",
   "metadata": {},
   "source": [
    "**Теперь используем Z-критерий на равенство долей, для проверки разницы меджу двумя контрольными группами.  \n",
    "В качестве уровня статистической значимости, установим 0,05.**"
   ]
  },
  {
   "cell_type": "code",
   "execution_count": 53,
   "metadata": {},
   "outputs": [
    {
     "name": "stdout",
     "output_type": "stream",
     "text": [
      "p-значение:  0.11456679313141849\n",
      "Не получилось отвергнуть нулевую гипотезу, нет оснований считать доли разными\n"
     ]
    }
   ],
   "source": [
    "alpha = 0.05  # критический уровень статистической значимости\n",
    "\n",
    "purchases = np.array([purch_group_246, purch_group_247])\n",
    "leads = np.array([size_group_246, size_group_247])\n",
    "\n",
    "# пропорция успехов в первой группе:\n",
    "p1 = purchases[0]/leads[0]\n",
    "\n",
    "# пропорция успехов во второй группе:\n",
    "p2 = purchases[1]/leads[1]\n",
    "\n",
    "# пропорция успехов в комбинированном датасете:\n",
    "p_combined = (purchases[0] + purchases[1]) / (leads[0] + leads[1])\n",
    "\n",
    "# разница пропорций в датасетах\n",
    "difference = p1 - p2 \n",
    "\n",
    "z_value = difference / mth.sqrt(p_combined * (1 - p_combined) * (1/leads[0] + 1/leads[1]))\n",
    "\n",
    "distr = st.norm(0, 1)  \n",
    "\n",
    "p_value = (1 - distr.cdf(abs(z_value))) * 2\n",
    "\n",
    "print('p-значение: ', p_value)\n",
    "\n",
    "if p_value < alpha:\n",
    "    print('Отвергаем нулевую гипотезу: между долями есть значимая разница')\n",
    "else:\n",
    "    print(\n",
    "        'Не получилось отвергнуть нулевую гипотезу, нет оснований считать доли разными'\n",
    "    )"
   ]
  },
  {
   "cell_type": "markdown",
   "metadata": {},
   "source": [
    "**Таким образом, у нас нет оснований говорить о статистически значимом различии между контрольными группами 246 и 247**."
   ]
  },
  {
   "cell_type": "code",
   "execution_count": null,
   "metadata": {},
   "outputs": [],
   "source": []
  },
  {
   "cell_type": "code",
   "execution_count": null,
   "metadata": {},
   "outputs": [],
   "source": []
  },
  {
   "cell_type": "markdown",
   "metadata": {},
   "source": [
    "### Проанализируем самое популярное событие"
   ]
  },
  {
   "cell_type": "markdown",
   "metadata": {},
   "source": [
    "**Для начала, посчитаем число пользователей, совершивших это событие в каждой из групп:**"
   ]
  },
  {
   "cell_type": "code",
   "execution_count": 54,
   "metadata": {},
   "outputs": [],
   "source": [
    "#сформируем сводную таблицу этапов нашей воронки\n",
    "\n",
    "aggr = logs.query('event_name != \"Tutorial\"').pivot_table(index='event_name',\n",
    "                                                          values='device_id_hash',\n",
    "                                                          columns='exp_id',\n",
    "                                                          aggfunc='nunique').sort_values(by=246,\n",
    "                                                                                         ascending=False).reset_index()"
   ]
  },
  {
   "cell_type": "code",
   "execution_count": 55,
   "metadata": {},
   "outputs": [],
   "source": [
    "#сформируем список общего количества участников каждой из трёх групп\n",
    "\n",
    "qwe = ['total_cnt_users']\n",
    "for qw in logs.exp_id.unique():\n",
    "    fr = len (logs.loc[logs['exp_id'] == qw]['device_id_hash'].unique())\n",
    "    qwe.append(fr)   "
   ]
  },
  {
   "cell_type": "code",
   "execution_count": 56,
   "metadata": {},
   "outputs": [],
   "source": [
    "#добавим список в получившуюся сводную таблицу\n",
    "\n",
    "aggr.loc[ len(aggr.index )] = qwe"
   ]
  },
  {
   "cell_type": "code",
   "execution_count": 57,
   "metadata": {},
   "outputs": [
    {
     "data": {
      "text/html": [
       "<div>\n",
       "<style scoped>\n",
       "    .dataframe tbody tr th:only-of-type {\n",
       "        vertical-align: middle;\n",
       "    }\n",
       "\n",
       "    .dataframe tbody tr th {\n",
       "        vertical-align: top;\n",
       "    }\n",
       "\n",
       "    .dataframe thead th {\n",
       "        text-align: right;\n",
       "    }\n",
       "</style>\n",
       "<table border=\"1\" class=\"dataframe\">\n",
       "  <thead>\n",
       "    <tr style=\"text-align: right;\">\n",
       "      <th>exp_id</th>\n",
       "      <th>event_name</th>\n",
       "      <th>246</th>\n",
       "      <th>247</th>\n",
       "      <th>248</th>\n",
       "    </tr>\n",
       "  </thead>\n",
       "  <tbody>\n",
       "    <tr>\n",
       "      <th>0</th>\n",
       "      <td>MainScreenAppear</td>\n",
       "      <td>2450</td>\n",
       "      <td>2476</td>\n",
       "      <td>2493</td>\n",
       "    </tr>\n",
       "    <tr>\n",
       "      <th>1</th>\n",
       "      <td>OffersScreenAppear</td>\n",
       "      <td>1542</td>\n",
       "      <td>1520</td>\n",
       "      <td>1531</td>\n",
       "    </tr>\n",
       "    <tr>\n",
       "      <th>2</th>\n",
       "      <td>CartScreenAppear</td>\n",
       "      <td>1266</td>\n",
       "      <td>1238</td>\n",
       "      <td>1230</td>\n",
       "    </tr>\n",
       "    <tr>\n",
       "      <th>3</th>\n",
       "      <td>PaymentScreenSuccessful</td>\n",
       "      <td>1200</td>\n",
       "      <td>1158</td>\n",
       "      <td>1181</td>\n",
       "    </tr>\n",
       "    <tr>\n",
       "      <th>4</th>\n",
       "      <td>total_cnt_users</td>\n",
       "      <td>2484</td>\n",
       "      <td>2513</td>\n",
       "      <td>2537</td>\n",
       "    </tr>\n",
       "  </tbody>\n",
       "</table>\n",
       "</div>"
      ],
      "text/plain": [
       "exp_id               event_name   246   247   248\n",
       "0              MainScreenAppear  2450  2476  2493\n",
       "1            OffersScreenAppear  1542  1520  1531\n",
       "2              CartScreenAppear  1266  1238  1230\n",
       "3       PaymentScreenSuccessful  1200  1158  1181\n",
       "4               total_cnt_users  2484  2513  2537"
      ]
     },
     "execution_count": 57,
     "metadata": {},
     "output_type": "execute_result"
    }
   ],
   "source": [
    "aggr"
   ]
  },
  {
   "cell_type": "code",
   "execution_count": null,
   "metadata": {},
   "outputs": [],
   "source": []
  },
  {
   "cell_type": "markdown",
   "metadata": {},
   "source": [
    "**Таким образом, мы видим, что во всех трёх группах самым частым событием является MainScreenAppear, т.е. посещение Главной страницы.**"
   ]
  },
  {
   "cell_type": "code",
   "execution_count": null,
   "metadata": {},
   "outputs": [],
   "source": []
  },
  {
   "cell_type": "code",
   "execution_count": null,
   "metadata": {},
   "outputs": [],
   "source": []
  },
  {
   "cell_type": "markdown",
   "metadata": {},
   "source": [
    "### Сравнение подгрупп по событиям с выявлением статистически значимых различий"
   ]
  },
  {
   "cell_type": "markdown",
   "metadata": {},
   "source": [
    "**Теперь проверим, будут ли отличия между двумя контрольными группами по разным событиям статистически достоверным.  \n",
    "Для этого напишем функцию и используем её последовательно на всех событиях и на всех группах:**"
   ]
  },
  {
   "cell_type": "code",
   "execution_count": 58,
   "metadata": {},
   "outputs": [],
   "source": [
    "def uspeh (first_group, second_group, sobytie):\n",
    "    \n",
    "    size_first_group = aggr[first_group][4]\n",
    "    success_first_group = aggr[aggr['event_name'] == sobytie][first_group].values [0]\n",
    "    size_second_group = aggr[second_group][4].astype('int')\n",
    "    success_second_group = aggr[aggr['event_name'] == sobytie][second_group].values [0]\n",
    "    \n",
    "    \n",
    "    alpha = 0.05  # критический уровень статистической значимости\n",
    "\n",
    "    purchases = np.array([success_first_group, success_second_group])\n",
    "    leads = np.array([size_first_group, size_second_group])\n",
    "\n",
    "    # пропорция успехов в первой группе:\n",
    "    p1 = purchases[0]/leads[0]\n",
    "\n",
    "    # пропорция успехов во второй группе:\n",
    "    p2 = purchases[1]/leads[1]\n",
    "\n",
    "    # пропорция успехов в комбинированном датасете:\n",
    "    p_combined = (purchases[0] + purchases[1]) / (leads[0] + leads[1])\n",
    "\n",
    "    # разница пропорций в датасетах\n",
    "    difference = p1 - p2 \n",
    "\n",
    "    z_value = difference / mth.sqrt(p_combined * (1 - p_combined) * (1/leads[0] + 1/leads[1]))\n",
    "\n",
    "    distr = st.norm(0, 1)  \n",
    "\n",
    "    p_value = (1 - distr.cdf(abs(z_value))) * 2\n",
    "    \n",
    "\n",
    "    if p_value < alpha:\n",
    "        return print(f'Сравнение групп {first_group} и {second_group} по событию {sobytie} показало следующее:', '\\np-значение: ', round(p_value, 3), '. Отвергаем нулевую гипотезу: между долями есть значимая разница')\n",
    "    else:\n",
    "        return print(f'Сравнение групп {first_group} и {second_group} по событию {sobytie} показало следующее:', '\\nP-значение равно ', round(p_value, 3), '. Не получилось отвергнуть нулевую гипотезу, нет оснований считать доли разными')"
   ]
  },
  {
   "cell_type": "markdown",
   "metadata": {},
   "source": [
    "**Функция готова, можно приступать.**"
   ]
  },
  {
   "cell_type": "markdown",
   "metadata": {},
   "source": [
    "<div style=\"border:solid green 2px; paddind: 20px\">\n",
    "\n",
    "**<p style=\"text-align: center;\">СФОРМУЛИРУЕМ ГИПОТЕЗЫ НАШЕГО ИССЛЕДОВАНИЯ:</p>**\n",
    "\n",
    ">**Нулевая гипотеза: доли уникальных посетителей, побывавших на этапе воронки, одинаковы.  \n",
    "    Альтернативная гипотеза: между долями уникальных посетителей, побывавших на этапе воронки, есть значимая разница.**\n",
    "\n",
    ">**Определим уровень статистической значимости для нашего тестирования: alpha = 0,05.**"
   ]
  },
  {
   "cell_type": "code",
   "execution_count": null,
   "metadata": {},
   "outputs": [],
   "source": []
  },
  {
   "cell_type": "markdown",
   "metadata": {},
   "source": [
    "#### Приступим к тестированию:"
   ]
  },
  {
   "cell_type": "markdown",
   "metadata": {},
   "source": [
    "**Последовательно сравним по всем событиям все три группы (две контрольные и одну испытуемую):**"
   ]
  },
  {
   "cell_type": "code",
   "execution_count": 59,
   "metadata": {},
   "outputs": [],
   "source": [
    "#добавим название групп и событий таблицы aggr в переменные\n",
    "\n",
    "groups = aggr.columns\n",
    "events = aggr.event_name.unique()"
   ]
  },
  {
   "cell_type": "code",
   "execution_count": 60,
   "metadata": {},
   "outputs": [
    {
     "name": "stdout",
     "output_type": "stream",
     "text": [
      "\n",
      "\n",
      "\u001b[1mСравним доли по событию MainScreenAppear:\u001b[0m\n",
      "=============================================================\n",
      "Сравнение групп 246 и 247 по событию MainScreenAppear показало следующее: \n",
      "P-значение равно  0.757 . Не получилось отвергнуть нулевую гипотезу, нет оснований считать доли разными\n",
      "\n",
      "\n",
      "Сравнение групп 247 и 248 по событию MainScreenAppear показало следующее: \n",
      "P-значение равно  0.459 . Не получилось отвергнуть нулевую гипотезу, нет оснований считать доли разными\n",
      "\n",
      "\n",
      "Сравнение групп 246 и 248 по событию MainScreenAppear показало следующее: \n",
      "P-значение равно  0.295 . Не получилось отвергнуть нулевую гипотезу, нет оснований считать доли разными\n",
      "\n",
      "\n",
      "\u001b[1mСравним доли по событию OffersScreenAppear:\u001b[0m\n",
      "=============================================================\n",
      "Сравнение групп 246 и 247 по событию OffersScreenAppear показало следующее: \n",
      "P-значение равно  0.248 . Не получилось отвергнуть нулевую гипотезу, нет оснований считать доли разными\n",
      "\n",
      "\n",
      "Сравнение групп 247 и 248 по событию OffersScreenAppear показало следующее: \n",
      "P-значение равно  0.92 . Не получилось отвергнуть нулевую гипотезу, нет оснований считать доли разными\n",
      "\n",
      "\n",
      "Сравнение групп 246 и 248 по событию OffersScreenAppear показало следующее: \n",
      "P-значение равно  0.208 . Не получилось отвергнуть нулевую гипотезу, нет оснований считать доли разными\n",
      "\n",
      "\n",
      "\u001b[1mСравним доли по событию CartScreenAppear:\u001b[0m\n",
      "=============================================================\n",
      "Сравнение групп 246 и 247 по событию CartScreenAppear показало следующее: \n",
      "P-значение равно  0.229 . Не получилось отвергнуть нулевую гипотезу, нет оснований считать доли разными\n",
      "\n",
      "\n",
      "Сравнение групп 247 и 248 по событию CartScreenAppear показало следующее: \n",
      "P-значение равно  0.579 . Не получилось отвергнуть нулевую гипотезу, нет оснований считать доли разными\n",
      "\n",
      "\n",
      "Сравнение групп 246 и 248 по событию CartScreenAppear показало следующее: \n",
      "P-значение равно  0.078 . Не получилось отвергнуть нулевую гипотезу, нет оснований считать доли разными\n",
      "\n",
      "\n",
      "\u001b[1mСравним доли по событию PaymentScreenSuccessful:\u001b[0m\n",
      "=============================================================\n",
      "Сравнение групп 246 и 247 по событию PaymentScreenSuccessful показало следующее: \n",
      "P-значение равно  0.115 . Не получилось отвергнуть нулевую гипотезу, нет оснований считать доли разными\n",
      "\n",
      "\n",
      "Сравнение групп 247 и 248 по событию PaymentScreenSuccessful показало следующее: \n",
      "P-значение равно  0.737 . Не получилось отвергнуть нулевую гипотезу, нет оснований считать доли разными\n",
      "\n",
      "\n",
      "Сравнение групп 246 и 248 по событию PaymentScreenSuccessful показало следующее: \n",
      "P-значение равно  0.212 . Не получилось отвергнуть нулевую гипотезу, нет оснований считать доли разными\n"
     ]
    }
   ],
   "source": [
    "#запустим цикл тестирования каждой доли попарно из всех трёх групп\n",
    "\n",
    "for i in events [:4]:\n",
    "    print('')\n",
    "    print('')\n",
    "    print('\\033[1m' + f'Сравним доли по событию {i}:' '\\033[0m')\n",
    "    print('=============================================================')\n",
    "    for j in groups[1:]:\n",
    "        q = j\n",
    "        e = j+1\n",
    "        if e == 249:\n",
    "            q = 246 \n",
    "            e = 248\n",
    "            uspeh (q, e, i)\n",
    "            break\n",
    "        uspeh (q, e, i)\n",
    "        print('')\n",
    "        print('')"
   ]
  },
  {
   "cell_type": "markdown",
   "metadata": {},
   "source": [
    "**Таким образом, ни в одном произведённом сравнении двух долей не удалось найти статистически значимого отличия меджу ними.**"
   ]
  },
  {
   "cell_type": "code",
   "execution_count": null,
   "metadata": {},
   "outputs": [],
   "source": []
  },
  {
   "cell_type": "markdown",
   "metadata": {},
   "source": [
    "#### Сравнение экспериментальной и объединённой контрольной группы"
   ]
  },
  {
   "cell_type": "markdown",
   "metadata": {},
   "source": [
    "**Попробуем теперь провести сравнение контрольной группы с объединённой экспериментальной.**"
   ]
  },
  {
   "cell_type": "code",
   "execution_count": 61,
   "metadata": {},
   "outputs": [],
   "source": [
    "#добавим в агрегированную таблицу aggr колонку, в которую просуммируем параметры двух тестовых групп - 246 и 247\n",
    "#присвоим новой объединённой контрольной группе номер 245\n",
    "\n",
    "aggr.insert(1, 245, aggr[246] + aggr[247])"
   ]
  },
  {
   "cell_type": "code",
   "execution_count": 62,
   "metadata": {},
   "outputs": [
    {
     "data": {
      "text/html": [
       "<div>\n",
       "<style scoped>\n",
       "    .dataframe tbody tr th:only-of-type {\n",
       "        vertical-align: middle;\n",
       "    }\n",
       "\n",
       "    .dataframe tbody tr th {\n",
       "        vertical-align: top;\n",
       "    }\n",
       "\n",
       "    .dataframe thead th {\n",
       "        text-align: right;\n",
       "    }\n",
       "</style>\n",
       "<table border=\"1\" class=\"dataframe\">\n",
       "  <thead>\n",
       "    <tr style=\"text-align: right;\">\n",
       "      <th>exp_id</th>\n",
       "      <th>event_name</th>\n",
       "      <th>245</th>\n",
       "      <th>246</th>\n",
       "      <th>247</th>\n",
       "      <th>248</th>\n",
       "    </tr>\n",
       "  </thead>\n",
       "  <tbody>\n",
       "    <tr>\n",
       "      <th>0</th>\n",
       "      <td>MainScreenAppear</td>\n",
       "      <td>4926</td>\n",
       "      <td>2450</td>\n",
       "      <td>2476</td>\n",
       "      <td>2493</td>\n",
       "    </tr>\n",
       "    <tr>\n",
       "      <th>1</th>\n",
       "      <td>OffersScreenAppear</td>\n",
       "      <td>3062</td>\n",
       "      <td>1542</td>\n",
       "      <td>1520</td>\n",
       "      <td>1531</td>\n",
       "    </tr>\n",
       "    <tr>\n",
       "      <th>2</th>\n",
       "      <td>CartScreenAppear</td>\n",
       "      <td>2504</td>\n",
       "      <td>1266</td>\n",
       "      <td>1238</td>\n",
       "      <td>1230</td>\n",
       "    </tr>\n",
       "    <tr>\n",
       "      <th>3</th>\n",
       "      <td>PaymentScreenSuccessful</td>\n",
       "      <td>2358</td>\n",
       "      <td>1200</td>\n",
       "      <td>1158</td>\n",
       "      <td>1181</td>\n",
       "    </tr>\n",
       "    <tr>\n",
       "      <th>4</th>\n",
       "      <td>total_cnt_users</td>\n",
       "      <td>4997</td>\n",
       "      <td>2484</td>\n",
       "      <td>2513</td>\n",
       "      <td>2537</td>\n",
       "    </tr>\n",
       "  </tbody>\n",
       "</table>\n",
       "</div>"
      ],
      "text/plain": [
       "exp_id               event_name   245   246   247   248\n",
       "0              MainScreenAppear  4926  2450  2476  2493\n",
       "1            OffersScreenAppear  3062  1542  1520  1531\n",
       "2              CartScreenAppear  2504  1266  1238  1230\n",
       "3       PaymentScreenSuccessful  2358  1200  1158  1181\n",
       "4               total_cnt_users  4997  2484  2513  2537"
      ]
     },
     "execution_count": 62,
     "metadata": {},
     "output_type": "execute_result"
    }
   ],
   "source": [
    "aggr"
   ]
  },
  {
   "cell_type": "code",
   "execution_count": 63,
   "metadata": {},
   "outputs": [
    {
     "name": "stdout",
     "output_type": "stream",
     "text": [
      "\n",
      "\n",
      "\u001b[1mСравним доли по событию MainScreenAppear:\u001b[0m\n",
      "=============================================================\n",
      "Сравнение групп 245 и 248 по событию MainScreenAppear показало следующее: \n",
      "P-значение равно  0.294 . Не получилось отвергнуть нулевую гипотезу, нет оснований считать доли разными\n",
      "\n",
      "\n",
      "\n",
      "\n",
      "\u001b[1mСравним доли по событию OffersScreenAppear:\u001b[0m\n",
      "=============================================================\n",
      "Сравнение групп 245 и 248 по событию OffersScreenAppear показало следующее: \n",
      "P-значение равно  0.434 . Не получилось отвергнуть нулевую гипотезу, нет оснований считать доли разными\n",
      "\n",
      "\n",
      "\n",
      "\n",
      "\u001b[1mСравним доли по событию CartScreenAppear:\u001b[0m\n",
      "=============================================================\n",
      "Сравнение групп 245 и 248 по событию CartScreenAppear показало следующее: \n",
      "P-значение равно  0.182 . Не получилось отвергнуть нулевую гипотезу, нет оснований считать доли разными\n",
      "\n",
      "\n",
      "\n",
      "\n",
      "\u001b[1mСравним доли по событию PaymentScreenSuccessful:\u001b[0m\n",
      "=============================================================\n",
      "Сравнение групп 245 и 248 по событию PaymentScreenSuccessful показало следующее: \n",
      "P-значение равно  0.6 . Не получилось отвергнуть нулевую гипотезу, нет оснований считать доли разными\n",
      "\n",
      "\n"
     ]
    }
   ],
   "source": [
    "#запустим цикл тестирования, в котором сравним доли объединённой контрольной группы (245) и экспериментальной (248)\n",
    "\n",
    "for i in events [:4]:\n",
    "    print('')\n",
    "    print('')\n",
    "    print('\\033[1m' + f'Сравним доли по событию {i}:' '\\033[0m')\n",
    "    print('=============================================================')\n",
    "    uspeh (245, 248, i)\n",
    "    print('')\n",
    "    print('')"
   ]
  },
  {
   "cell_type": "markdown",
   "metadata": {},
   "source": [
    "**Таким образом, по результатам смешанной группы мы также не увидели различий в долях.**"
   ]
  },
  {
   "cell_type": "markdown",
   "metadata": {},
   "source": [
    "**В качестве некоего вывода, можно сказать о том, что по итогам анализа результатов эксперимента, нами не было выявлено статистически значимых различий между контрольными группами и испытуемой.  \n",
    "Различий не было выявлено при последовательном сравнении участников каждого события маркетинговой воронки каждой из трёх групп друг с другом.  \n",
    "Не было выявлено различий и при сравнивании результатов объединённых двух контрольных групп с экспериментальной.\n",
    "В процессе анализов результатов нами была проведена дополнительная валидация двух контрольных групп на предмет отсутствия статистически значимых различий между ними.  \n",
    "Таким образом, можно сделать вывод, что использование нивых шрифтов не повлияло значимым образом на показатели экпериментальной группы.**\n",
    "\n",
    "**Проводя сравнение долей, мы определяем уровень статистической значимости – то есть некий порог, после которого мы считаем различия статистически достоверными.  Неудивительно, что иногда у нас попадаются такие выборки, которые значимо различаются между собой.**\n",
    "\n",
    "**При сравнении нескольких долей даже из одной генеральной совокупности, чем больше выборок мы сравниваем между собой, тем больше вероятность того, что одна из них будет статистически значимо различаться.\n",
    "При определении уровня статистической значимости в 0,05, даже при условии того, что выборки взяты из одной генеральной совокупности, то в 5% случаев при сравнении двух выборок мы бы получили стат значимое отличие случайно.\n",
    "Но если мы сравниваем между собой не две выборки, а больше, то в этом случае шанс получить статзначимое различие возрастает, пропорционально увеличению сравниваемых выборок.\n",
    "Чтобы этого избежать, нам нужно корректировать тот порог уровня значимости, ниже которого различие будет считаться достоверным.\n",
    "Одно из возможных решений – поправки на множественное сравнение.**\n",
    "\n",
    "**Самой популярной является поправка Бонферонни.\n",
    "Логика данной поправки заключается в следующем: если вероятность получить статзначимые различия там, где их нет (ошибка первого рода) возрастает пропорционально количеству групп, которые мы сравниваем между собой , то и уровень статистической значимости (альфа) надо как-то корректировать.\n",
    "Суть поправки в том. Что предлагается разделить уровень статистической значимости. Который мы берём, на количество попарных сравнений, которые мы производим в наше эксперименте.**"
   ]
  },
  {
   "cell_type": "markdown",
   "metadata": {},
   "source": [
    "**Применим поправку Бонферонни при сравнении долей объединённых контрольных групп и экспериментальной группы.  \n",
    "Немного изменим нашу функцию, чтобы ей можно было передавать количество попарных сравнений:**"
   ]
  },
  {
   "cell_type": "code",
   "execution_count": 64,
   "metadata": {},
   "outputs": [],
   "source": [
    "def uspeh_bonf (first_group, second_group, sobytie, sobytie_cnt):\n",
    "    \n",
    "    size_first_group = aggr[first_group][4]\n",
    "    success_first_group = aggr[aggr['event_name'] == sobytie][first_group].values [0]\n",
    "    size_second_group = aggr[second_group][4].astype('int')\n",
    "    success_second_group = aggr[aggr['event_name'] == sobytie][second_group].values [0]\n",
    "    \n",
    "    \n",
    "    alpha = 0.05  # критический уровень статистической значимости\n",
    "    \n",
    "    bonferroni_alpha = alpha / sobytie_cnt  #применяем поправку Бонферонни\n",
    "\n",
    "    purchases = np.array([success_first_group, success_second_group])\n",
    "    leads = np.array([size_first_group, size_second_group])\n",
    "\n",
    "    # пропорция успехов в первой группе:\n",
    "    p1 = purchases[0]/leads[0]\n",
    "\n",
    "    # пропорция успехов во второй группе:\n",
    "    p2 = purchases[1]/leads[1]\n",
    "\n",
    "    # пропорция успехов в комбинированном датасете:\n",
    "    p_combined = (purchases[0] + purchases[1]) / (leads[0] + leads[1])\n",
    "\n",
    "    # разница пропорций в датасетах\n",
    "    difference = p1 - p2 \n",
    "\n",
    "    z_value = difference / mth.sqrt(p_combined * (1 - p_combined) * (1/leads[0] + 1/leads[1]))\n",
    "\n",
    "    distr = st.norm(0, 1)  \n",
    "\n",
    "    p_value = (1 - distr.cdf(abs(z_value))) * 2\n",
    "    \n",
    "\n",
    "    if p_value < bonferroni_alpha:\n",
    "        return print(f'Сравнение групп {first_group} и {second_group} по событию {sobytie} показало следующее:', '\\np-значение: ', round(p_value, 3), '. Отвергаем нулевую гипотезу: между долями есть значимая разница')\n",
    "    else:\n",
    "        return print(f'Сравнение групп {first_group} и {second_group} по событию {sobytie} показало следующее:', '\\nP-значение равно ', round(p_value, 3), '. Не получилось отвергнуть нулевую гипотезу, нет оснований считать доли разными')"
   ]
  },
  {
   "cell_type": "markdown",
   "metadata": {},
   "source": [
    "**При каждом новом сравнении у нас увеличивается вероятность ложнопозитивного результата. Если использовать поправку Бонферрони, делить надо на количество сравнений, т.е. на 16.  \n",
    "Передадим это значение функции:**"
   ]
  },
  {
   "cell_type": "code",
   "execution_count": 65,
   "metadata": {},
   "outputs": [
    {
     "name": "stdout",
     "output_type": "stream",
     "text": [
      "\n",
      "\n",
      "\u001b[1mСравним доли по событию MainScreenAppear:\u001b[0m\n",
      "=============================================================\n",
      "Сравнение групп 245 и 248 по событию MainScreenAppear показало следующее: \n",
      "P-значение равно  0.294 . Не получилось отвергнуть нулевую гипотезу, нет оснований считать доли разными\n",
      "\n",
      "\n",
      "\n",
      "\n",
      "\u001b[1mСравним доли по событию OffersScreenAppear:\u001b[0m\n",
      "=============================================================\n",
      "Сравнение групп 245 и 248 по событию OffersScreenAppear показало следующее: \n",
      "P-значение равно  0.434 . Не получилось отвергнуть нулевую гипотезу, нет оснований считать доли разными\n",
      "\n",
      "\n",
      "\n",
      "\n",
      "\u001b[1mСравним доли по событию CartScreenAppear:\u001b[0m\n",
      "=============================================================\n",
      "Сравнение групп 245 и 248 по событию CartScreenAppear показало следующее: \n",
      "P-значение равно  0.182 . Не получилось отвергнуть нулевую гипотезу, нет оснований считать доли разными\n",
      "\n",
      "\n",
      "\n",
      "\n",
      "\u001b[1mСравним доли по событию PaymentScreenSuccessful:\u001b[0m\n",
      "=============================================================\n",
      "Сравнение групп 245 и 248 по событию PaymentScreenSuccessful показало следующее: \n",
      "P-значение равно  0.6 . Не получилось отвергнуть нулевую гипотезу, нет оснований считать доли разными\n",
      "\n",
      "\n"
     ]
    }
   ],
   "source": [
    "#запустим цикл тестирования, в котором сравним доли объединённой контрольной группы (245) и экспериментальной (248)\n",
    "#укажем также поправку Бонферонни\n",
    "\n",
    "for i in events [:4]:\n",
    "    print('')\n",
    "    print('')\n",
    "    print('\\033[1m' + f'Сравним доли по событию {i}:' '\\033[0m')\n",
    "    print('=============================================================')\n",
    "    uspeh_bonf (245, 248, i, 16)\n",
    "    print('')\n",
    "    print('')"
   ]
  },
  {
   "cell_type": "markdown",
   "metadata": {},
   "source": [
    "**Как видим, применив поправку Бонферонни, мы также не видим статистически значимых различий (что, в общем-то и логично, поскольку она уменьшает вероятность ложных \"срабатываний\", т.е. ошибок первого рода.)**"
   ]
  },
  {
   "cell_type": "code",
   "execution_count": null,
   "metadata": {},
   "outputs": [],
   "source": []
  },
  {
   "cell_type": "code",
   "execution_count": null,
   "metadata": {},
   "outputs": [],
   "source": []
  },
  {
   "cell_type": "markdown",
   "metadata": {},
   "source": [
    "<div class=\"alert alert-info\"> \n",
    "\n",
    "## ОБЩИЙ ВЫВОД И РЕКОМЕНДАЦИИ."
   ]
  },
  {
   "cell_type": "markdown",
   "metadata": {},
   "source": [
    "<div class=\"alert alert-info\"> \n",
    "\n",
    "    \n",
    "<font size=\"4\"><b>Знакомство с данными</b></font>  \n",
    "    **Нами были [рассмотрены](#an_dan) исходные данные - лог поведения на сайте участников трёх групп, включающих две контрольные и одну тестовую. Данные были проверены и предварительно обработаны для дальнейшего их анализа.** \n",
    "    \n",
    "---\n",
    "    \n",
    "<font size=\"4\"><b>Изучение и проверка данных</b></font>  \n",
    "    **На этапе [изучения и проверки данных](#izuch) мы выявили основные установочные моменты для дальнейшего анализа: общее количество событий в логах, сколько их в среднем приходится на одного пользователя, а также отсекли часть данных, не представляющих существенного интереса для исследования.**\n",
    "    \n",
    "---\n",
    "    \n",
    "<font size=\"4\"><b>Изучение воронки событий</b></font>  \n",
    "    **На этапе [изучения воронки событий](#voronk) нами был проведён анализ событийной воронки, в результате чего мы увидели довольно неплохие показатели конверсии (доля пользователей, дошедших от первого события до оплаты составляет 47.70%).  \n",
    "    Вместе с тем, обращает на себя внимание тот факт, что наибольший процент пользователей (почти 40% от изначального количества) уходит на этапе перехода от Главной страницы к странице Предложения. Стоит обратить на это особое внимание. Возможные причины: не слишком удачный дизайн главного экрана, неудобство для пользователя, недостаточно освещены специальные предложения.  \n",
    "    Также мы выстроили последовательность самой воронки и оставили лишь ключевые её ступени**\n",
    "    \n",
    "---\n",
    "\n",
    "<font size=\"4\"><b>Результаты эксперимента</b></font>  \n",
    "    **На этапе анализа [результатов эксперимента](#result) первым делом мы валидировали отсуствие статистически значимых различий между двумя контрольными группами, затем приступили к сравнению показателей котрольных и тестовой групп.  \n",
    "    Затем нами было проведено последовательное сравнение поведения участников контрольных групп (как по отдельности, так и обеих в сумме) с тестовой группой, в результате чего мы не нашли статистически значимых различий между контрольной и тестовой группами ни на одном этапе ранее структурированной событийной воронки.  \n",
    "    Таким образом, можно сделать вывод, что использование новых шрифтов не увеличивает активность среднего пользователя ни на одном этапе воронки (посещение Главной страницы ---> посещение страницы Предложения ---> Корзина ---> страница Успешной Оплаты) в отдельности, ни на конверсии посетителей в покупателей в целом.**\n",
    "\n",
    "---\n",
    "    \n",
    "<font size=\"4\"><b>Рекомендации:</b></font>  \n",
    "    **Исходя из результатов нашего иследования, не рекомендуется изменять шрифт со старого на новый, ввиду отсутствия значимого положительного эффекта.  \n",
    "    Рекомендуется дополнительное изучение главной страницы сайта, поскольку наибольшие потери потенциальных клиентов происходят при переходе от главной страницы к странице предложения. Возможные причины: не слишком удачный дизайн главной страницы, неудобство для пользователей, недостаточно освещены специальные предложения**"
   ]
  },
  {
   "cell_type": "code",
   "execution_count": null,
   "metadata": {},
   "outputs": [],
   "source": []
  },
  {
   "cell_type": "code",
   "execution_count": null,
   "metadata": {},
   "outputs": [],
   "source": []
  }
 ],
 "metadata": {
  "ExecuteTimeLog": [
   {
    "duration": 1123,
    "start_time": "2023-02-13T08:46:06.645Z"
   },
   {
    "duration": 700,
    "start_time": "2023-02-13T08:50:24.258Z"
   },
   {
    "duration": 10,
    "start_time": "2023-02-13T08:51:20.120Z"
   },
   {
    "duration": 333,
    "start_time": "2023-02-13T08:52:06.405Z"
   },
   {
    "duration": 6,
    "start_time": "2023-02-13T08:52:08.927Z"
   },
   {
    "duration": 6,
    "start_time": "2023-02-13T08:52:12.106Z"
   },
   {
    "duration": 84,
    "start_time": "2023-02-13T08:53:18.333Z"
   },
   {
    "duration": 281,
    "start_time": "2023-02-13T08:53:25.233Z"
   },
   {
    "duration": 7,
    "start_time": "2023-02-13T08:53:27.353Z"
   },
   {
    "duration": 164,
    "start_time": "2023-02-13T08:55:49.262Z"
   },
   {
    "duration": 8,
    "start_time": "2023-02-13T08:55:51.842Z"
   },
   {
    "duration": 150,
    "start_time": "2023-02-13T08:56:07.072Z"
   },
   {
    "duration": 8,
    "start_time": "2023-02-13T08:56:09.429Z"
   },
   {
    "duration": 8,
    "start_time": "2023-02-13T08:56:26.868Z"
   },
   {
    "duration": 13,
    "start_time": "2023-02-13T08:56:44.082Z"
   },
   {
    "duration": 13,
    "start_time": "2023-02-13T08:56:52.458Z"
   },
   {
    "duration": 76,
    "start_time": "2023-02-13T08:57:34.729Z"
   },
   {
    "duration": 12,
    "start_time": "2023-02-13T08:57:40.084Z"
   },
   {
    "duration": 4,
    "start_time": "2023-02-13T08:59:10.109Z"
   },
   {
    "duration": 5,
    "start_time": "2023-02-13T08:59:29.281Z"
   },
   {
    "duration": 19,
    "start_time": "2023-02-13T08:59:37.729Z"
   },
   {
    "duration": 14,
    "start_time": "2023-02-13T09:03:19.314Z"
   },
   {
    "duration": 53,
    "start_time": "2023-02-13T09:04:42.475Z"
   },
   {
    "duration": 52,
    "start_time": "2023-02-13T09:05:34.216Z"
   },
   {
    "duration": 60,
    "start_time": "2023-02-13T09:05:59.957Z"
   },
   {
    "duration": 65,
    "start_time": "2023-02-13T09:07:13.553Z"
   },
   {
    "duration": 2,
    "start_time": "2023-02-13T09:11:16.209Z"
   },
   {
    "duration": 121,
    "start_time": "2023-02-13T09:11:18.651Z"
   },
   {
    "duration": 83,
    "start_time": "2023-02-13T09:19:39.395Z"
   },
   {
    "duration": 88,
    "start_time": "2023-02-13T09:20:43.552Z"
   },
   {
    "duration": 3,
    "start_time": "2023-02-13T09:22:32.396Z"
   },
   {
    "duration": 61,
    "start_time": "2023-02-13T09:22:34.981Z"
   },
   {
    "duration": 3,
    "start_time": "2023-02-13T09:37:08.064Z"
   },
   {
    "duration": 4,
    "start_time": "2023-02-13T09:37:15.700Z"
   },
   {
    "duration": 3,
    "start_time": "2023-02-13T09:37:53.011Z"
   },
   {
    "duration": 4,
    "start_time": "2023-02-13T09:37:55.315Z"
   },
   {
    "duration": 3,
    "start_time": "2023-02-13T09:40:09.698Z"
   },
   {
    "duration": 4,
    "start_time": "2023-02-13T09:40:17.617Z"
   },
   {
    "duration": 4,
    "start_time": "2023-02-13T09:41:31.802Z"
   },
   {
    "duration": 5,
    "start_time": "2023-02-13T09:41:33.694Z"
   },
   {
    "duration": 24,
    "start_time": "2023-02-13T09:41:36.596Z"
   },
   {
    "duration": 15,
    "start_time": "2023-02-13T09:41:39.273Z"
   },
   {
    "duration": 53,
    "start_time": "2023-02-13T09:41:42.169Z"
   },
   {
    "duration": 60,
    "start_time": "2023-02-13T09:41:59.875Z"
   },
   {
    "duration": 98,
    "start_time": "2023-02-13T09:48:16.809Z"
   },
   {
    "duration": 36,
    "start_time": "2023-02-13T09:49:03.917Z"
   },
   {
    "duration": 10,
    "start_time": "2023-02-13T09:49:17.216Z"
   },
   {
    "duration": 12,
    "start_time": "2023-02-13T09:49:47.300Z"
   },
   {
    "duration": 16,
    "start_time": "2023-02-13T09:50:07.338Z"
   },
   {
    "duration": 1065,
    "start_time": "2023-02-13T09:51:56.685Z"
   },
   {
    "duration": 233,
    "start_time": "2023-02-13T09:51:57.752Z"
   },
   {
    "duration": 12,
    "start_time": "2023-02-13T09:51:57.986Z"
   },
   {
    "duration": 18,
    "start_time": "2023-02-13T09:51:57.999Z"
   },
   {
    "duration": 3,
    "start_time": "2023-02-13T09:51:58.020Z"
   },
   {
    "duration": 9,
    "start_time": "2023-02-13T09:51:58.025Z"
   },
   {
    "duration": 23,
    "start_time": "2023-02-13T09:51:58.035Z"
   },
   {
    "duration": 36,
    "start_time": "2023-02-13T09:51:58.060Z"
   },
   {
    "duration": 60,
    "start_time": "2023-02-13T09:51:58.097Z"
   },
   {
    "duration": 3,
    "start_time": "2023-02-13T09:51:58.159Z"
   },
   {
    "duration": 179,
    "start_time": "2023-02-13T09:51:58.164Z"
   },
   {
    "duration": 0,
    "start_time": "2023-02-13T09:51:58.344Z"
   },
   {
    "duration": 0,
    "start_time": "2023-02-13T09:51:58.345Z"
   },
   {
    "duration": 0,
    "start_time": "2023-02-13T09:51:58.346Z"
   },
   {
    "duration": 65,
    "start_time": "2023-02-13T09:52:21.929Z"
   },
   {
    "duration": 78,
    "start_time": "2023-02-13T09:52:26.391Z"
   },
   {
    "duration": 1189,
    "start_time": "2023-02-13T09:55:43.579Z"
   },
   {
    "duration": 2,
    "start_time": "2023-02-13T10:02:40.820Z"
   },
   {
    "duration": 13,
    "start_time": "2023-02-13T10:02:43.520Z"
   },
   {
    "duration": 11,
    "start_time": "2023-02-13T10:02:58.840Z"
   },
   {
    "duration": 7,
    "start_time": "2023-02-13T10:05:24.879Z"
   },
   {
    "duration": 5,
    "start_time": "2023-02-13T10:05:31.469Z"
   },
   {
    "duration": 8,
    "start_time": "2023-02-13T10:07:31.081Z"
   },
   {
    "duration": 72,
    "start_time": "2023-02-13T10:09:30.710Z"
   },
   {
    "duration": 10,
    "start_time": "2023-02-13T10:09:34.713Z"
   },
   {
    "duration": 997,
    "start_time": "2023-02-13T10:13:55.032Z"
   },
   {
    "duration": 205,
    "start_time": "2023-02-13T10:13:56.031Z"
   },
   {
    "duration": 11,
    "start_time": "2023-02-13T10:13:56.238Z"
   },
   {
    "duration": 14,
    "start_time": "2023-02-13T10:13:56.251Z"
   },
   {
    "duration": 4,
    "start_time": "2023-02-13T10:13:56.268Z"
   },
   {
    "duration": 8,
    "start_time": "2023-02-13T10:13:56.293Z"
   },
   {
    "duration": 34,
    "start_time": "2023-02-13T10:13:56.303Z"
   },
   {
    "duration": 21,
    "start_time": "2023-02-13T10:13:56.339Z"
   },
   {
    "duration": 93,
    "start_time": "2023-02-13T10:13:56.362Z"
   },
   {
    "duration": 3,
    "start_time": "2023-02-13T10:13:56.459Z"
   },
   {
    "duration": 90,
    "start_time": "2023-02-13T10:13:56.464Z"
   },
   {
    "duration": 4,
    "start_time": "2023-02-13T10:13:56.556Z"
   },
   {
    "duration": 17,
    "start_time": "2023-02-13T10:13:56.562Z"
   },
   {
    "duration": 9,
    "start_time": "2023-02-13T10:13:56.592Z"
   },
   {
    "duration": 74,
    "start_time": "2023-02-13T10:13:56.602Z"
   },
   {
    "duration": 9,
    "start_time": "2023-02-13T10:14:02.295Z"
   },
   {
    "duration": 65,
    "start_time": "2023-02-13T10:14:21.573Z"
   },
   {
    "duration": 9,
    "start_time": "2023-02-13T10:14:24.192Z"
   },
   {
    "duration": 92,
    "start_time": "2023-02-13T10:16:48.055Z"
   },
   {
    "duration": 10,
    "start_time": "2023-02-13T10:16:58.821Z"
   },
   {
    "duration": 8,
    "start_time": "2023-02-13T10:17:09.127Z"
   },
   {
    "duration": 22,
    "start_time": "2023-02-13T10:17:12.224Z"
   },
   {
    "duration": 8,
    "start_time": "2023-02-13T11:04:43.983Z"
   },
   {
    "duration": 6,
    "start_time": "2023-02-13T11:04:49.746Z"
   },
   {
    "duration": 5,
    "start_time": "2023-02-13T11:05:03.219Z"
   },
   {
    "duration": 11,
    "start_time": "2023-02-13T11:05:12.425Z"
   },
   {
    "duration": 5,
    "start_time": "2023-02-13T11:05:39.298Z"
   },
   {
    "duration": 33,
    "start_time": "2023-02-13T11:12:34.653Z"
   },
   {
    "duration": 11,
    "start_time": "2023-02-13T11:13:35.678Z"
   },
   {
    "duration": 13,
    "start_time": "2023-02-13T11:13:37.850Z"
   },
   {
    "duration": 14,
    "start_time": "2023-02-13T11:16:28.696Z"
   },
   {
    "duration": 11,
    "start_time": "2023-02-13T11:16:30.678Z"
   },
   {
    "duration": 13,
    "start_time": "2023-02-13T11:16:34.967Z"
   },
   {
    "duration": 5,
    "start_time": "2023-02-13T11:16:47.623Z"
   },
   {
    "duration": 9,
    "start_time": "2023-02-13T11:16:55.470Z"
   },
   {
    "duration": 14,
    "start_time": "2023-02-13T11:16:58.181Z"
   },
   {
    "duration": 18,
    "start_time": "2023-02-13T11:17:19.535Z"
   },
   {
    "duration": 21,
    "start_time": "2023-02-13T11:17:30.575Z"
   },
   {
    "duration": 5,
    "start_time": "2023-02-13T11:17:47.170Z"
   },
   {
    "duration": 6,
    "start_time": "2023-02-13T11:17:54.447Z"
   },
   {
    "duration": 6,
    "start_time": "2023-02-13T11:19:13.600Z"
   },
   {
    "duration": 5,
    "start_time": "2023-02-13T11:19:34.817Z"
   },
   {
    "duration": 971,
    "start_time": "2023-02-13T11:20:09.735Z"
   },
   {
    "duration": 7,
    "start_time": "2023-02-13T11:20:39.746Z"
   },
   {
    "duration": 5,
    "start_time": "2023-02-13T11:20:45.446Z"
   },
   {
    "duration": 1044,
    "start_time": "2023-02-13T11:20:47.344Z"
   },
   {
    "duration": 6,
    "start_time": "2023-02-13T11:21:06.010Z"
   },
   {
    "duration": 17,
    "start_time": "2023-02-13T11:23:11.256Z"
   },
   {
    "duration": 1465,
    "start_time": "2023-02-13T11:23:14.111Z"
   },
   {
    "duration": 1015,
    "start_time": "2023-02-13T11:23:39.240Z"
   },
   {
    "duration": 220,
    "start_time": "2023-02-13T11:23:40.257Z"
   },
   {
    "duration": 15,
    "start_time": "2023-02-13T11:23:40.479Z"
   },
   {
    "duration": 28,
    "start_time": "2023-02-13T11:23:40.496Z"
   },
   {
    "duration": 4,
    "start_time": "2023-02-13T11:23:40.526Z"
   },
   {
    "duration": 14,
    "start_time": "2023-02-13T11:23:40.532Z"
   },
   {
    "duration": 30,
    "start_time": "2023-02-13T11:23:40.548Z"
   },
   {
    "duration": 26,
    "start_time": "2023-02-13T11:23:40.579Z"
   },
   {
    "duration": 78,
    "start_time": "2023-02-13T11:23:40.608Z"
   },
   {
    "duration": 4,
    "start_time": "2023-02-13T11:23:40.691Z"
   },
   {
    "duration": 103,
    "start_time": "2023-02-13T11:23:40.697Z"
   },
   {
    "duration": 3,
    "start_time": "2023-02-13T11:23:40.802Z"
   },
   {
    "duration": 15,
    "start_time": "2023-02-13T11:23:40.807Z"
   },
   {
    "duration": 11,
    "start_time": "2023-02-13T11:23:40.825Z"
   },
   {
    "duration": 91,
    "start_time": "2023-02-13T11:23:40.837Z"
   },
   {
    "duration": 29,
    "start_time": "2023-02-13T11:23:40.931Z"
   },
   {
    "duration": 10,
    "start_time": "2023-02-13T11:23:40.962Z"
   },
   {
    "duration": 25,
    "start_time": "2023-02-13T11:23:40.974Z"
   },
   {
    "duration": 1049,
    "start_time": "2023-02-13T11:23:41.001Z"
   },
   {
    "duration": 0,
    "start_time": "2023-02-13T11:23:42.052Z"
   },
   {
    "duration": 0,
    "start_time": "2023-02-13T11:23:42.053Z"
   },
   {
    "duration": 0,
    "start_time": "2023-02-13T11:23:42.054Z"
   },
   {
    "duration": 0,
    "start_time": "2023-02-13T11:23:42.055Z"
   },
   {
    "duration": 0,
    "start_time": "2023-02-13T11:23:42.056Z"
   },
   {
    "duration": 0,
    "start_time": "2023-02-13T11:23:42.057Z"
   },
   {
    "duration": 0,
    "start_time": "2023-02-13T11:23:42.058Z"
   },
   {
    "duration": 0,
    "start_time": "2023-02-13T11:23:42.059Z"
   },
   {
    "duration": 5,
    "start_time": "2023-02-13T11:25:18.878Z"
   },
   {
    "duration": 4,
    "start_time": "2023-02-13T11:25:26.203Z"
   },
   {
    "duration": 5,
    "start_time": "2023-02-13T11:25:31.321Z"
   },
   {
    "duration": 10,
    "start_time": "2023-02-13T11:28:32.772Z"
   },
   {
    "duration": 22,
    "start_time": "2023-02-13T11:28:51.749Z"
   },
   {
    "duration": 10,
    "start_time": "2023-02-13T11:29:39.178Z"
   },
   {
    "duration": 10,
    "start_time": "2023-02-13T11:30:21.316Z"
   },
   {
    "duration": 22,
    "start_time": "2023-02-13T11:30:27.355Z"
   },
   {
    "duration": 10,
    "start_time": "2023-02-13T11:30:33.534Z"
   },
   {
    "duration": 10,
    "start_time": "2023-02-13T11:30:51.355Z"
   },
   {
    "duration": 21,
    "start_time": "2023-02-13T11:30:58.313Z"
   },
   {
    "duration": 11,
    "start_time": "2023-02-13T11:31:03.851Z"
   },
   {
    "duration": 4,
    "start_time": "2023-02-13T11:33:38.927Z"
   },
   {
    "duration": 18,
    "start_time": "2023-02-13T11:34:05.115Z"
   },
   {
    "duration": 7,
    "start_time": "2023-02-13T11:34:22.872Z"
   },
   {
    "duration": 4,
    "start_time": "2023-02-13T11:34:36.163Z"
   },
   {
    "duration": 4,
    "start_time": "2023-02-13T11:34:51.840Z"
   },
   {
    "duration": 5,
    "start_time": "2023-02-13T11:35:31.917Z"
   },
   {
    "duration": 5,
    "start_time": "2023-02-13T11:35:33.812Z"
   },
   {
    "duration": 9,
    "start_time": "2023-02-13T11:36:02.108Z"
   },
   {
    "duration": 6,
    "start_time": "2023-02-13T11:36:10.783Z"
   },
   {
    "duration": 7,
    "start_time": "2023-02-13T11:36:36.510Z"
   },
   {
    "duration": 5,
    "start_time": "2023-02-13T11:36:38.677Z"
   },
   {
    "duration": 8,
    "start_time": "2023-02-13T11:36:45.456Z"
   },
   {
    "duration": 4,
    "start_time": "2023-02-13T11:36:47.716Z"
   },
   {
    "duration": 7,
    "start_time": "2023-02-13T11:37:52.326Z"
   },
   {
    "duration": 6,
    "start_time": "2023-02-13T11:37:56.700Z"
   },
   {
    "duration": 6,
    "start_time": "2023-02-13T11:37:58.955Z"
   },
   {
    "duration": 13,
    "start_time": "2023-02-13T11:38:01.405Z"
   },
   {
    "duration": 12,
    "start_time": "2023-02-13T11:38:13.908Z"
   },
   {
    "duration": 12,
    "start_time": "2023-02-13T11:38:20.908Z"
   },
   {
    "duration": 12,
    "start_time": "2023-02-13T11:38:23.351Z"
   },
   {
    "duration": 4,
    "start_time": "2023-02-13T11:39:10.611Z"
   },
   {
    "duration": 3,
    "start_time": "2023-02-13T11:40:46.805Z"
   },
   {
    "duration": 5,
    "start_time": "2023-02-13T11:40:48.523Z"
   },
   {
    "duration": 65,
    "start_time": "2023-02-13T11:41:47.580Z"
   },
   {
    "duration": 23,
    "start_time": "2023-02-13T11:41:54.569Z"
   },
   {
    "duration": 21,
    "start_time": "2023-02-13T11:42:19.626Z"
   },
   {
    "duration": 16,
    "start_time": "2023-02-13T11:42:31.688Z"
   },
   {
    "duration": 22,
    "start_time": "2023-02-13T11:43:02.116Z"
   },
   {
    "duration": 20,
    "start_time": "2023-02-13T11:43:12.952Z"
   },
   {
    "duration": 6,
    "start_time": "2023-02-13T11:43:30.947Z"
   },
   {
    "duration": 10,
    "start_time": "2023-02-13T11:43:38.412Z"
   },
   {
    "duration": 6,
    "start_time": "2023-02-13T11:43:48.656Z"
   },
   {
    "duration": 23,
    "start_time": "2023-02-13T11:46:20.046Z"
   },
   {
    "duration": 8,
    "start_time": "2023-02-13T11:46:39.917Z"
   },
   {
    "duration": 8,
    "start_time": "2023-02-13T11:46:47.373Z"
   },
   {
    "duration": 10,
    "start_time": "2023-02-13T11:46:56.945Z"
   },
   {
    "duration": 15,
    "start_time": "2023-02-13T11:47:07.938Z"
   },
   {
    "duration": 29,
    "start_time": "2023-02-13T11:47:13.209Z"
   },
   {
    "duration": 14,
    "start_time": "2023-02-13T11:47:20.837Z"
   },
   {
    "duration": 27,
    "start_time": "2023-02-13T11:47:26.181Z"
   },
   {
    "duration": 12,
    "start_time": "2023-02-13T11:47:32.748Z"
   },
   {
    "duration": 11,
    "start_time": "2023-02-13T11:48:50.323Z"
   },
   {
    "duration": 4,
    "start_time": "2023-02-13T11:48:54.972Z"
   },
   {
    "duration": 3,
    "start_time": "2023-02-13T11:49:18.131Z"
   },
   {
    "duration": 3,
    "start_time": "2023-02-13T11:49:31.705Z"
   },
   {
    "duration": 3,
    "start_time": "2023-02-13T11:49:44.376Z"
   },
   {
    "duration": 98,
    "start_time": "2023-02-13T11:50:26.617Z"
   },
   {
    "duration": 218,
    "start_time": "2023-02-13T11:50:45.843Z"
   },
   {
    "duration": 65,
    "start_time": "2023-02-13T11:51:11.409Z"
   },
   {
    "duration": 65,
    "start_time": "2023-02-13T11:52:17.053Z"
   },
   {
    "duration": 83,
    "start_time": "2023-02-13T11:52:24.041Z"
   },
   {
    "duration": 7,
    "start_time": "2023-02-13T11:53:05.005Z"
   },
   {
    "duration": 71,
    "start_time": "2023-02-13T11:54:16.437Z"
   },
   {
    "duration": 89,
    "start_time": "2023-02-13T11:54:20.670Z"
   },
   {
    "duration": 12,
    "start_time": "2023-02-13T11:54:30.566Z"
   },
   {
    "duration": 8,
    "start_time": "2023-02-13T11:55:58.656Z"
   },
   {
    "duration": 994,
    "start_time": "2023-02-13T11:56:30.723Z"
   },
   {
    "duration": 218,
    "start_time": "2023-02-13T11:56:31.719Z"
   },
   {
    "duration": 11,
    "start_time": "2023-02-13T11:56:31.938Z"
   },
   {
    "duration": 21,
    "start_time": "2023-02-13T11:56:31.951Z"
   },
   {
    "duration": 11,
    "start_time": "2023-02-13T11:56:31.973Z"
   },
   {
    "duration": 25,
    "start_time": "2023-02-13T11:56:31.990Z"
   },
   {
    "duration": 32,
    "start_time": "2023-02-13T11:56:32.016Z"
   },
   {
    "duration": 13,
    "start_time": "2023-02-13T11:56:32.050Z"
   },
   {
    "duration": 62,
    "start_time": "2023-02-13T11:56:32.065Z"
   },
   {
    "duration": 2,
    "start_time": "2023-02-13T11:56:32.130Z"
   },
   {
    "duration": 69,
    "start_time": "2023-02-13T11:56:32.134Z"
   },
   {
    "duration": 3,
    "start_time": "2023-02-13T11:56:32.204Z"
   },
   {
    "duration": 18,
    "start_time": "2023-02-13T11:56:32.209Z"
   },
   {
    "duration": 7,
    "start_time": "2023-02-13T11:56:32.229Z"
   },
   {
    "duration": 80,
    "start_time": "2023-02-13T11:56:32.238Z"
   },
   {
    "duration": 8,
    "start_time": "2023-02-13T11:56:32.320Z"
   },
   {
    "duration": 6,
    "start_time": "2023-02-13T11:56:32.329Z"
   },
   {
    "duration": 5,
    "start_time": "2023-02-13T11:56:32.337Z"
   },
   {
    "duration": 26,
    "start_time": "2023-02-13T11:56:32.344Z"
   },
   {
    "duration": 10,
    "start_time": "2023-02-13T11:56:32.392Z"
   },
   {
    "duration": 16,
    "start_time": "2023-02-13T11:56:32.404Z"
   },
   {
    "duration": 3,
    "start_time": "2023-02-13T11:56:32.422Z"
   },
   {
    "duration": 25,
    "start_time": "2023-02-13T11:56:32.426Z"
   },
   {
    "duration": 6,
    "start_time": "2023-02-13T11:56:32.453Z"
   },
   {
    "duration": 12,
    "start_time": "2023-02-13T11:56:32.461Z"
   },
   {
    "duration": 24,
    "start_time": "2023-02-13T11:56:32.474Z"
   },
   {
    "duration": 10,
    "start_time": "2023-02-13T11:56:32.499Z"
   },
   {
    "duration": 70,
    "start_time": "2023-02-13T12:01:41.640Z"
   },
   {
    "duration": 24,
    "start_time": "2023-02-13T12:01:51.941Z"
   },
   {
    "duration": 106,
    "start_time": "2023-02-13T12:02:14.982Z"
   },
   {
    "duration": 26,
    "start_time": "2023-02-13T12:02:37.062Z"
   },
   {
    "duration": 20,
    "start_time": "2023-02-13T12:03:40.643Z"
   },
   {
    "duration": 9,
    "start_time": "2023-02-13T12:03:53.167Z"
   },
   {
    "duration": 19,
    "start_time": "2023-02-13T12:04:10.775Z"
   },
   {
    "duration": 7,
    "start_time": "2023-02-13T12:04:12.571Z"
   },
   {
    "duration": 6,
    "start_time": "2023-02-13T12:04:34.056Z"
   },
   {
    "duration": 9,
    "start_time": "2023-02-13T12:05:09.727Z"
   },
   {
    "duration": 6,
    "start_time": "2023-02-13T12:05:21.009Z"
   },
   {
    "duration": 7,
    "start_time": "2023-02-13T12:05:32.342Z"
   },
   {
    "duration": 5,
    "start_time": "2023-02-13T12:05:35.475Z"
   },
   {
    "duration": 8,
    "start_time": "2023-02-13T12:07:47.290Z"
   },
   {
    "duration": 8,
    "start_time": "2023-02-13T12:09:17.437Z"
   },
   {
    "duration": 9,
    "start_time": "2023-02-13T12:09:28.635Z"
   },
   {
    "duration": 8,
    "start_time": "2023-02-13T12:09:36.227Z"
   },
   {
    "duration": 82,
    "start_time": "2023-02-13T12:10:32.105Z"
   },
   {
    "duration": 5,
    "start_time": "2023-02-13T12:11:06.100Z"
   },
   {
    "duration": 5,
    "start_time": "2023-02-13T12:11:29.821Z"
   },
   {
    "duration": 5,
    "start_time": "2023-02-13T12:11:36.771Z"
   },
   {
    "duration": 13,
    "start_time": "2023-02-13T12:11:54.980Z"
   },
   {
    "duration": 3,
    "start_time": "2023-02-13T12:12:01.929Z"
   },
   {
    "duration": 5,
    "start_time": "2023-02-13T12:12:05.569Z"
   },
   {
    "duration": 4,
    "start_time": "2023-02-13T12:12:19.570Z"
   },
   {
    "duration": 1085,
    "start_time": "2023-02-13T12:16:36.002Z"
   },
   {
    "duration": 211,
    "start_time": "2023-02-13T12:16:37.088Z"
   },
   {
    "duration": 10,
    "start_time": "2023-02-13T12:16:37.301Z"
   },
   {
    "duration": 18,
    "start_time": "2023-02-13T12:16:37.314Z"
   },
   {
    "duration": 3,
    "start_time": "2023-02-13T12:16:37.334Z"
   },
   {
    "duration": 11,
    "start_time": "2023-02-13T12:16:37.338Z"
   },
   {
    "duration": 34,
    "start_time": "2023-02-13T12:16:37.351Z"
   },
   {
    "duration": 15,
    "start_time": "2023-02-13T12:16:37.390Z"
   },
   {
    "duration": 61,
    "start_time": "2023-02-13T12:16:37.407Z"
   },
   {
    "duration": 3,
    "start_time": "2023-02-13T12:16:37.469Z"
   },
   {
    "duration": 79,
    "start_time": "2023-02-13T12:16:37.474Z"
   },
   {
    "duration": 4,
    "start_time": "2023-02-13T12:16:37.554Z"
   },
   {
    "duration": 21,
    "start_time": "2023-02-13T12:16:37.561Z"
   },
   {
    "duration": 13,
    "start_time": "2023-02-13T12:16:37.584Z"
   },
   {
    "duration": 70,
    "start_time": "2023-02-13T12:16:37.599Z"
   },
   {
    "duration": 17,
    "start_time": "2023-02-13T12:16:37.670Z"
   },
   {
    "duration": 5,
    "start_time": "2023-02-13T12:16:37.691Z"
   },
   {
    "duration": 7,
    "start_time": "2023-02-13T12:16:37.698Z"
   },
   {
    "duration": 28,
    "start_time": "2023-02-13T12:16:37.706Z"
   },
   {
    "duration": 11,
    "start_time": "2023-02-13T12:16:37.736Z"
   },
   {
    "duration": 12,
    "start_time": "2023-02-13T12:16:37.748Z"
   },
   {
    "duration": 31,
    "start_time": "2023-02-13T12:16:37.762Z"
   },
   {
    "duration": 6,
    "start_time": "2023-02-13T12:16:37.794Z"
   },
   {
    "duration": 6,
    "start_time": "2023-02-13T12:16:37.801Z"
   },
   {
    "duration": 8,
    "start_time": "2023-02-13T12:16:37.809Z"
   },
   {
    "duration": 29,
    "start_time": "2023-02-13T12:16:37.819Z"
   },
   {
    "duration": 11,
    "start_time": "2023-02-13T12:16:37.850Z"
   },
   {
    "duration": 41,
    "start_time": "2023-02-13T12:16:37.862Z"
   },
   {
    "duration": 7,
    "start_time": "2023-02-13T12:16:37.905Z"
   },
   {
    "duration": 9,
    "start_time": "2023-02-13T12:16:37.914Z"
   },
   {
    "duration": 8,
    "start_time": "2023-02-13T12:58:53.093Z"
   },
   {
    "duration": 19,
    "start_time": "2023-02-13T13:00:18.140Z"
   },
   {
    "duration": 14,
    "start_time": "2023-02-13T13:00:56.767Z"
   },
   {
    "duration": 16,
    "start_time": "2023-02-13T13:01:18.187Z"
   },
   {
    "duration": 22,
    "start_time": "2023-02-13T13:02:01.719Z"
   },
   {
    "duration": 23,
    "start_time": "2023-02-13T13:02:20.350Z"
   },
   {
    "duration": 13,
    "start_time": "2023-02-13T13:03:23.010Z"
   },
   {
    "duration": 14,
    "start_time": "2023-02-13T13:03:35.181Z"
   },
   {
    "duration": 24,
    "start_time": "2023-02-13T13:03:50.666Z"
   },
   {
    "duration": 16,
    "start_time": "2023-02-13T13:05:35.453Z"
   },
   {
    "duration": 28,
    "start_time": "2023-02-13T13:05:59.178Z"
   },
   {
    "duration": 231,
    "start_time": "2023-02-13T13:08:53.945Z"
   },
   {
    "duration": 252,
    "start_time": "2023-02-13T13:10:13.530Z"
   },
   {
    "duration": 56,
    "start_time": "2023-02-13T13:10:35.148Z"
   },
   {
    "duration": 179,
    "start_time": "2023-02-13T13:10:43.150Z"
   },
   {
    "duration": 255,
    "start_time": "2023-02-13T13:11:30.811Z"
   },
   {
    "duration": 298,
    "start_time": "2023-02-13T13:11:44.010Z"
   },
   {
    "duration": 239,
    "start_time": "2023-02-13T13:12:02.054Z"
   },
   {
    "duration": 407,
    "start_time": "2023-02-13T13:12:10.961Z"
   },
   {
    "duration": 334,
    "start_time": "2023-02-13T13:12:25.910Z"
   },
   {
    "duration": 437,
    "start_time": "2023-02-13T13:14:19.207Z"
   },
   {
    "duration": 506,
    "start_time": "2023-02-13T13:14:30.204Z"
   },
   {
    "duration": 378,
    "start_time": "2023-02-13T13:15:38.478Z"
   },
   {
    "duration": 75,
    "start_time": "2023-02-13T13:16:20.573Z"
   },
   {
    "duration": 367,
    "start_time": "2023-02-13T13:16:25.051Z"
   },
   {
    "duration": 262,
    "start_time": "2023-02-13T13:16:55.292Z"
   },
   {
    "duration": 317,
    "start_time": "2023-02-13T13:18:06.276Z"
   },
   {
    "duration": 38,
    "start_time": "2023-02-13T13:18:56.446Z"
   },
   {
    "duration": 78,
    "start_time": "2023-02-13T13:19:17.602Z"
   },
   {
    "duration": 35,
    "start_time": "2023-02-13T13:21:37.300Z"
   },
   {
    "duration": 33,
    "start_time": "2023-02-13T13:21:51.733Z"
   },
   {
    "duration": 274,
    "start_time": "2023-02-13T13:22:09.399Z"
   },
   {
    "duration": 468,
    "start_time": "2023-02-13T13:23:07.549Z"
   },
   {
    "duration": 402,
    "start_time": "2023-02-13T13:31:05.808Z"
   },
   {
    "duration": 43,
    "start_time": "2023-02-13T13:31:24.261Z"
   },
   {
    "duration": 45,
    "start_time": "2023-02-13T13:31:51.893Z"
   },
   {
    "duration": 99,
    "start_time": "2023-02-13T13:32:30.673Z"
   },
   {
    "duration": 48,
    "start_time": "2023-02-13T13:32:37.616Z"
   },
   {
    "duration": 404,
    "start_time": "2023-02-13T13:32:46.446Z"
   },
   {
    "duration": 81,
    "start_time": "2023-02-13T13:34:10.530Z"
   },
   {
    "duration": 4,
    "start_time": "2023-02-13T13:34:15.409Z"
   },
   {
    "duration": 23,
    "start_time": "2023-02-13T13:34:31.068Z"
   },
   {
    "duration": 402,
    "start_time": "2023-02-13T13:34:54.842Z"
   },
   {
    "duration": 380,
    "start_time": "2023-02-13T13:35:16.662Z"
   },
   {
    "duration": 3,
    "start_time": "2023-02-13T13:35:31.373Z"
   },
   {
    "duration": 6,
    "start_time": "2023-02-13T13:36:27.745Z"
   },
   {
    "duration": 4,
    "start_time": "2023-02-13T13:36:45.308Z"
   },
   {
    "duration": 391,
    "start_time": "2023-02-13T13:37:05.391Z"
   },
   {
    "duration": 6,
    "start_time": "2023-02-13T13:37:37.029Z"
   },
   {
    "duration": 1161,
    "start_time": "2023-02-13T13:38:14.788Z"
   },
   {
    "duration": 163,
    "start_time": "2023-02-13T13:38:15.951Z"
   },
   {
    "duration": 10,
    "start_time": "2023-02-13T13:38:16.116Z"
   },
   {
    "duration": 14,
    "start_time": "2023-02-13T13:38:16.127Z"
   },
   {
    "duration": 13,
    "start_time": "2023-02-13T13:38:16.143Z"
   },
   {
    "duration": 20,
    "start_time": "2023-02-13T13:38:16.157Z"
   },
   {
    "duration": 26,
    "start_time": "2023-02-13T13:38:16.179Z"
   },
   {
    "duration": 27,
    "start_time": "2023-02-13T13:38:16.207Z"
   },
   {
    "duration": 74,
    "start_time": "2023-02-13T13:38:16.236Z"
   },
   {
    "duration": 2,
    "start_time": "2023-02-13T13:38:16.312Z"
   },
   {
    "duration": 81,
    "start_time": "2023-02-13T13:38:16.316Z"
   },
   {
    "duration": 2,
    "start_time": "2023-02-13T13:38:16.399Z"
   },
   {
    "duration": 23,
    "start_time": "2023-02-13T13:38:16.403Z"
   },
   {
    "duration": 8,
    "start_time": "2023-02-13T13:38:16.430Z"
   },
   {
    "duration": 72,
    "start_time": "2023-02-13T13:38:16.440Z"
   },
   {
    "duration": 8,
    "start_time": "2023-02-13T13:38:16.514Z"
   },
   {
    "duration": 5,
    "start_time": "2023-02-13T13:38:16.524Z"
   },
   {
    "duration": 6,
    "start_time": "2023-02-13T13:38:16.530Z"
   },
   {
    "duration": 28,
    "start_time": "2023-02-13T13:38:16.537Z"
   },
   {
    "duration": 34,
    "start_time": "2023-02-13T13:38:16.567Z"
   },
   {
    "duration": 16,
    "start_time": "2023-02-13T13:38:16.603Z"
   },
   {
    "duration": 10,
    "start_time": "2023-02-13T13:38:16.621Z"
   },
   {
    "duration": 17,
    "start_time": "2023-02-13T13:38:16.633Z"
   },
   {
    "duration": 18,
    "start_time": "2023-02-13T13:38:16.651Z"
   },
   {
    "duration": 28,
    "start_time": "2023-02-13T13:38:16.670Z"
   },
   {
    "duration": 37,
    "start_time": "2023-02-13T13:38:16.701Z"
   },
   {
    "duration": 10,
    "start_time": "2023-02-13T13:38:16.741Z"
   },
   {
    "duration": 36,
    "start_time": "2023-02-13T13:38:16.754Z"
   },
   {
    "duration": 10,
    "start_time": "2023-02-13T13:38:16.792Z"
   },
   {
    "duration": 10,
    "start_time": "2023-02-13T13:38:16.804Z"
   },
   {
    "duration": 20,
    "start_time": "2023-02-13T13:38:16.816Z"
   },
   {
    "duration": 35,
    "start_time": "2023-02-13T13:38:16.838Z"
   },
   {
    "duration": 37,
    "start_time": "2023-02-13T13:38:16.875Z"
   },
   {
    "duration": 453,
    "start_time": "2023-02-13T13:38:16.914Z"
   },
   {
    "duration": 5,
    "start_time": "2023-02-13T13:38:25.915Z"
   },
   {
    "duration": 1137,
    "start_time": "2023-02-13T13:39:48.179Z"
   },
   {
    "duration": 158,
    "start_time": "2023-02-13T13:39:49.317Z"
   },
   {
    "duration": 14,
    "start_time": "2023-02-13T13:39:49.477Z"
   },
   {
    "duration": 13,
    "start_time": "2023-02-13T13:39:49.493Z"
   },
   {
    "duration": 3,
    "start_time": "2023-02-13T13:39:49.508Z"
   },
   {
    "duration": 9,
    "start_time": "2023-02-13T13:39:49.513Z"
   },
   {
    "duration": 22,
    "start_time": "2023-02-13T13:39:49.523Z"
   },
   {
    "duration": 14,
    "start_time": "2023-02-13T13:39:49.546Z"
   },
   {
    "duration": 88,
    "start_time": "2023-02-13T13:39:49.562Z"
   },
   {
    "duration": 3,
    "start_time": "2023-02-13T13:39:49.651Z"
   },
   {
    "duration": 74,
    "start_time": "2023-02-13T13:39:49.656Z"
   },
   {
    "duration": 3,
    "start_time": "2023-02-13T13:39:49.731Z"
   },
   {
    "duration": 14,
    "start_time": "2023-02-13T13:39:49.735Z"
   },
   {
    "duration": 7,
    "start_time": "2023-02-13T13:39:49.752Z"
   },
   {
    "duration": 97,
    "start_time": "2023-02-13T13:39:49.761Z"
   },
   {
    "duration": 5,
    "start_time": "2023-02-13T13:40:02.305Z"
   },
   {
    "duration": 5,
    "start_time": "2023-02-13T13:41:15.231Z"
   },
   {
    "duration": 95,
    "start_time": "2023-02-13T13:41:19.447Z"
   },
   {
    "duration": 74,
    "start_time": "2023-02-13T13:41:25.657Z"
   },
   {
    "duration": 5,
    "start_time": "2023-02-13T13:41:28.974Z"
   },
   {
    "duration": 35,
    "start_time": "2023-02-13T13:43:31.113Z"
   },
   {
    "duration": 5,
    "start_time": "2023-02-13T13:43:33.419Z"
   },
   {
    "duration": 1129,
    "start_time": "2023-02-13T13:43:56.959Z"
   },
   {
    "duration": 163,
    "start_time": "2023-02-13T13:43:58.092Z"
   },
   {
    "duration": 10,
    "start_time": "2023-02-13T13:43:58.256Z"
   },
   {
    "duration": 25,
    "start_time": "2023-02-13T13:43:58.267Z"
   },
   {
    "duration": 4,
    "start_time": "2023-02-13T13:43:58.294Z"
   },
   {
    "duration": 9,
    "start_time": "2023-02-13T13:43:58.299Z"
   },
   {
    "duration": 25,
    "start_time": "2023-02-13T13:43:58.310Z"
   },
   {
    "duration": 24,
    "start_time": "2023-02-13T13:43:58.338Z"
   },
   {
    "duration": 88,
    "start_time": "2023-02-13T13:43:58.364Z"
   },
   {
    "duration": 3,
    "start_time": "2023-02-13T13:43:58.454Z"
   },
   {
    "duration": 85,
    "start_time": "2023-02-13T13:43:58.459Z"
   },
   {
    "duration": 3,
    "start_time": "2023-02-13T13:43:58.546Z"
   },
   {
    "duration": 13,
    "start_time": "2023-02-13T13:43:58.550Z"
   },
   {
    "duration": 8,
    "start_time": "2023-02-13T13:43:58.566Z"
   },
   {
    "duration": 72,
    "start_time": "2023-02-13T13:43:58.592Z"
   },
   {
    "duration": 63,
    "start_time": "2023-02-13T13:43:58.666Z"
   },
   {
    "duration": 8,
    "start_time": "2023-02-13T13:43:58.730Z"
   },
   {
    "duration": 6,
    "start_time": "2023-02-13T13:43:58.739Z"
   },
   {
    "duration": 6,
    "start_time": "2023-02-13T13:43:58.746Z"
   },
   {
    "duration": 18,
    "start_time": "2023-02-13T13:43:58.753Z"
   },
   {
    "duration": 31,
    "start_time": "2023-02-13T13:43:58.772Z"
   },
   {
    "duration": 12,
    "start_time": "2023-02-13T13:43:58.804Z"
   },
   {
    "duration": 3,
    "start_time": "2023-02-13T13:43:58.817Z"
   },
   {
    "duration": 6,
    "start_time": "2023-02-13T13:43:58.822Z"
   },
   {
    "duration": 9,
    "start_time": "2023-02-13T13:43:58.830Z"
   },
   {
    "duration": 12,
    "start_time": "2023-02-13T13:43:58.840Z"
   },
   {
    "duration": 49,
    "start_time": "2023-02-13T13:43:58.853Z"
   },
   {
    "duration": 9,
    "start_time": "2023-02-13T13:43:58.904Z"
   },
   {
    "duration": 21,
    "start_time": "2023-02-13T13:43:58.914Z"
   },
   {
    "duration": 8,
    "start_time": "2023-02-13T13:43:58.937Z"
   },
   {
    "duration": 7,
    "start_time": "2023-02-13T13:43:58.948Z"
   },
   {
    "duration": 23,
    "start_time": "2023-02-13T13:43:58.957Z"
   },
   {
    "duration": 7,
    "start_time": "2023-02-13T13:43:58.991Z"
   },
   {
    "duration": 5,
    "start_time": "2023-02-13T13:43:58.999Z"
   },
   {
    "duration": 549,
    "start_time": "2023-02-13T13:43:59.006Z"
   },
   {
    "duration": 23,
    "start_time": "2023-02-13T13:43:59.557Z"
   },
   {
    "duration": 4,
    "start_time": "2023-02-13T13:43:59.591Z"
   },
   {
    "duration": 17,
    "start_time": "2023-02-13T13:44:19.911Z"
   },
   {
    "duration": 20,
    "start_time": "2023-02-13T13:45:12.220Z"
   },
   {
    "duration": 22,
    "start_time": "2023-02-13T13:48:17.213Z"
   },
   {
    "duration": 32,
    "start_time": "2023-02-13T13:52:26.513Z"
   },
   {
    "duration": 18,
    "start_time": "2023-02-13T13:52:44.849Z"
   },
   {
    "duration": 5,
    "start_time": "2023-02-13T13:53:06.609Z"
   },
   {
    "duration": 13,
    "start_time": "2023-02-13T13:53:49.141Z"
   },
   {
    "duration": 22,
    "start_time": "2023-02-13T13:57:56.268Z"
   },
   {
    "duration": 714,
    "start_time": "2023-02-13T13:58:53.590Z"
   },
   {
    "duration": 9,
    "start_time": "2023-02-13T13:59:19.345Z"
   },
   {
    "duration": 842,
    "start_time": "2023-02-13T13:59:30.751Z"
   },
   {
    "duration": 1101,
    "start_time": "2023-02-13T13:59:55.124Z"
   },
   {
    "duration": 180,
    "start_time": "2023-02-13T13:59:56.227Z"
   },
   {
    "duration": 11,
    "start_time": "2023-02-13T13:59:56.408Z"
   },
   {
    "duration": 28,
    "start_time": "2023-02-13T13:59:56.420Z"
   },
   {
    "duration": 9,
    "start_time": "2023-02-13T13:59:56.450Z"
   },
   {
    "duration": 9,
    "start_time": "2023-02-13T13:59:56.460Z"
   },
   {
    "duration": 33,
    "start_time": "2023-02-13T13:59:56.471Z"
   },
   {
    "duration": 34,
    "start_time": "2023-02-13T13:59:56.507Z"
   },
   {
    "duration": 83,
    "start_time": "2023-02-13T13:59:56.543Z"
   },
   {
    "duration": 3,
    "start_time": "2023-02-13T13:59:56.628Z"
   },
   {
    "duration": 99,
    "start_time": "2023-02-13T13:59:56.634Z"
   },
   {
    "duration": 4,
    "start_time": "2023-02-13T13:59:56.735Z"
   },
   {
    "duration": 31,
    "start_time": "2023-02-13T13:59:56.741Z"
   },
   {
    "duration": 13,
    "start_time": "2023-02-13T13:59:56.775Z"
   },
   {
    "duration": 74,
    "start_time": "2023-02-13T13:59:56.789Z"
   },
   {
    "duration": 39,
    "start_time": "2023-02-13T13:59:56.865Z"
   },
   {
    "duration": 12,
    "start_time": "2023-02-13T13:59:56.906Z"
   },
   {
    "duration": 9,
    "start_time": "2023-02-13T13:59:56.920Z"
   },
   {
    "duration": 9,
    "start_time": "2023-02-13T13:59:56.930Z"
   },
   {
    "duration": 25,
    "start_time": "2023-02-13T13:59:56.941Z"
   },
   {
    "duration": 12,
    "start_time": "2023-02-13T13:59:56.967Z"
   },
   {
    "duration": 11,
    "start_time": "2023-02-13T13:59:56.992Z"
   },
   {
    "duration": 4,
    "start_time": "2023-02-13T13:59:57.005Z"
   },
   {
    "duration": 10,
    "start_time": "2023-02-13T13:59:57.011Z"
   },
   {
    "duration": 9,
    "start_time": "2023-02-13T13:59:57.022Z"
   },
   {
    "duration": 37,
    "start_time": "2023-02-13T13:59:57.033Z"
   },
   {
    "duration": 27,
    "start_time": "2023-02-13T13:59:57.072Z"
   },
   {
    "duration": 13,
    "start_time": "2023-02-13T13:59:57.101Z"
   },
   {
    "duration": 26,
    "start_time": "2023-02-13T13:59:57.116Z"
   },
   {
    "duration": 7,
    "start_time": "2023-02-13T13:59:57.144Z"
   },
   {
    "duration": 11,
    "start_time": "2023-02-13T13:59:57.153Z"
   },
   {
    "duration": 10,
    "start_time": "2023-02-13T13:59:57.166Z"
   },
   {
    "duration": 14,
    "start_time": "2023-02-13T13:59:57.178Z"
   },
   {
    "duration": 6,
    "start_time": "2023-02-13T13:59:57.193Z"
   },
   {
    "duration": 480,
    "start_time": "2023-02-13T13:59:57.200Z"
   },
   {
    "duration": 1023,
    "start_time": "2023-02-13T14:00:04.119Z"
   },
   {
    "duration": 10,
    "start_time": "2023-02-13T14:00:30.656Z"
   },
   {
    "duration": 1090,
    "start_time": "2023-02-13T14:01:00.726Z"
   },
   {
    "duration": 7,
    "start_time": "2023-02-13T14:01:49.908Z"
   },
   {
    "duration": 5,
    "start_time": "2023-02-13T14:01:56.037Z"
   },
   {
    "duration": 6,
    "start_time": "2023-02-13T14:02:52.063Z"
   },
   {
    "duration": 6,
    "start_time": "2023-02-13T14:03:08.220Z"
   },
   {
    "duration": 10,
    "start_time": "2023-02-13T14:03:38.865Z"
   },
   {
    "duration": 8,
    "start_time": "2023-02-13T14:04:15.910Z"
   },
   {
    "duration": 5,
    "start_time": "2023-02-13T14:04:18.036Z"
   },
   {
    "duration": 1147,
    "start_time": "2023-02-13T14:04:53.274Z"
   },
   {
    "duration": 155,
    "start_time": "2023-02-13T14:04:54.423Z"
   },
   {
    "duration": 17,
    "start_time": "2023-02-13T14:04:54.579Z"
   },
   {
    "duration": 12,
    "start_time": "2023-02-13T14:04:54.597Z"
   },
   {
    "duration": 8,
    "start_time": "2023-02-13T14:04:54.611Z"
   },
   {
    "duration": 13,
    "start_time": "2023-02-13T14:04:54.620Z"
   },
   {
    "duration": 35,
    "start_time": "2023-02-13T14:04:54.634Z"
   },
   {
    "duration": 22,
    "start_time": "2023-02-13T14:04:54.670Z"
   },
   {
    "duration": 59,
    "start_time": "2023-02-13T14:04:54.694Z"
   },
   {
    "duration": 3,
    "start_time": "2023-02-13T14:04:54.755Z"
   },
   {
    "duration": 79,
    "start_time": "2023-02-13T14:04:54.759Z"
   },
   {
    "duration": 3,
    "start_time": "2023-02-13T14:04:54.839Z"
   },
   {
    "duration": 17,
    "start_time": "2023-02-13T14:04:54.844Z"
   },
   {
    "duration": 9,
    "start_time": "2023-02-13T14:04:54.864Z"
   },
   {
    "duration": 78,
    "start_time": "2023-02-13T14:04:54.891Z"
   },
   {
    "duration": 66,
    "start_time": "2023-02-13T14:04:54.971Z"
   },
   {
    "duration": 7,
    "start_time": "2023-02-13T14:04:55.038Z"
   },
   {
    "duration": 16,
    "start_time": "2023-02-13T14:04:55.047Z"
   },
   {
    "duration": 7,
    "start_time": "2023-02-13T14:04:55.064Z"
   },
   {
    "duration": 26,
    "start_time": "2023-02-13T14:04:55.072Z"
   },
   {
    "duration": 12,
    "start_time": "2023-02-13T14:04:55.099Z"
   },
   {
    "duration": 13,
    "start_time": "2023-02-13T14:04:55.112Z"
   },
   {
    "duration": 5,
    "start_time": "2023-02-13T14:04:55.127Z"
   },
   {
    "duration": 19,
    "start_time": "2023-02-13T14:04:55.134Z"
   },
   {
    "duration": 17,
    "start_time": "2023-02-13T14:04:55.155Z"
   },
   {
    "duration": 28,
    "start_time": "2023-02-13T14:04:55.174Z"
   },
   {
    "duration": 44,
    "start_time": "2023-02-13T14:04:55.204Z"
   },
   {
    "duration": 9,
    "start_time": "2023-02-13T14:04:55.249Z"
   },
   {
    "duration": 23,
    "start_time": "2023-02-13T14:04:55.259Z"
   },
   {
    "duration": 13,
    "start_time": "2023-02-13T14:04:55.283Z"
   },
   {
    "duration": 5,
    "start_time": "2023-02-13T14:04:55.298Z"
   },
   {
    "duration": 20,
    "start_time": "2023-02-13T14:04:55.304Z"
   },
   {
    "duration": 15,
    "start_time": "2023-02-13T14:04:55.325Z"
   },
   {
    "duration": 5,
    "start_time": "2023-02-13T14:04:55.342Z"
   },
   {
    "duration": 477,
    "start_time": "2023-02-13T14:04:55.349Z"
   },
   {
    "duration": 9,
    "start_time": "2023-02-13T14:04:58.935Z"
   },
   {
    "duration": 9,
    "start_time": "2023-02-13T14:05:01.286Z"
   },
   {
    "duration": 5,
    "start_time": "2023-02-13T14:05:03.230Z"
   },
   {
    "duration": 14,
    "start_time": "2023-02-13T14:05:32.071Z"
   },
   {
    "duration": 18,
    "start_time": "2023-02-13T14:06:00.252Z"
   },
   {
    "duration": 103,
    "start_time": "2023-02-13T14:09:25.448Z"
   },
   {
    "duration": 12,
    "start_time": "2023-02-13T14:09:59.909Z"
   },
   {
    "duration": 16,
    "start_time": "2023-02-13T14:10:46.408Z"
   },
   {
    "duration": 12,
    "start_time": "2023-02-13T14:10:49.686Z"
   },
   {
    "duration": 14,
    "start_time": "2023-02-13T14:11:32.190Z"
   },
   {
    "duration": 11,
    "start_time": "2023-02-13T14:11:49.494Z"
   },
   {
    "duration": 23,
    "start_time": "2023-02-13T14:12:14.694Z"
   },
   {
    "duration": 87,
    "start_time": "2023-02-13T14:12:27.622Z"
   },
   {
    "duration": 141,
    "start_time": "2023-02-13T14:14:44.030Z"
   },
   {
    "duration": 10,
    "start_time": "2023-02-13T14:14:58.652Z"
   },
   {
    "duration": 10,
    "start_time": "2023-02-13T14:16:20.084Z"
   },
   {
    "duration": 10,
    "start_time": "2023-02-13T14:16:47.512Z"
   },
   {
    "duration": 16,
    "start_time": "2023-02-13T14:17:24.090Z"
   },
   {
    "duration": 16,
    "start_time": "2023-02-13T14:17:37.291Z"
   },
   {
    "duration": 17,
    "start_time": "2023-02-13T14:17:52.287Z"
   },
   {
    "duration": 5,
    "start_time": "2023-02-13T14:19:21.849Z"
   },
   {
    "duration": 26,
    "start_time": "2023-02-13T14:19:43.980Z"
   },
   {
    "duration": 14,
    "start_time": "2023-02-13T14:20:38.868Z"
   },
   {
    "duration": 15,
    "start_time": "2023-02-13T14:20:42.461Z"
   },
   {
    "duration": 15,
    "start_time": "2023-02-13T14:20:50.900Z"
   },
   {
    "duration": 16,
    "start_time": "2023-02-13T14:21:05.957Z"
   },
   {
    "duration": 9,
    "start_time": "2023-02-13T14:22:22.683Z"
   },
   {
    "duration": 1068,
    "start_time": "2023-02-13T14:23:41.145Z"
   },
   {
    "duration": 153,
    "start_time": "2023-02-13T14:23:42.215Z"
   },
   {
    "duration": 10,
    "start_time": "2023-02-13T14:23:42.370Z"
   },
   {
    "duration": 21,
    "start_time": "2023-02-13T14:23:42.381Z"
   },
   {
    "duration": 4,
    "start_time": "2023-02-13T14:23:42.404Z"
   },
   {
    "duration": 10,
    "start_time": "2023-02-13T14:23:42.409Z"
   },
   {
    "duration": 24,
    "start_time": "2023-02-13T14:23:42.421Z"
   },
   {
    "duration": 14,
    "start_time": "2023-02-13T14:23:42.447Z"
   },
   {
    "duration": 71,
    "start_time": "2023-02-13T14:23:42.463Z"
   },
   {
    "duration": 2,
    "start_time": "2023-02-13T14:23:42.536Z"
   },
   {
    "duration": 71,
    "start_time": "2023-02-13T14:23:42.539Z"
   },
   {
    "duration": 3,
    "start_time": "2023-02-13T14:23:42.611Z"
   },
   {
    "duration": 14,
    "start_time": "2023-02-13T14:23:42.615Z"
   },
   {
    "duration": 7,
    "start_time": "2023-02-13T14:23:42.631Z"
   },
   {
    "duration": 80,
    "start_time": "2023-02-13T14:23:42.640Z"
   },
   {
    "duration": 36,
    "start_time": "2023-02-13T14:23:42.721Z"
   },
   {
    "duration": 14,
    "start_time": "2023-02-13T14:23:42.759Z"
   },
   {
    "duration": 5,
    "start_time": "2023-02-13T14:23:42.774Z"
   },
   {
    "duration": 5,
    "start_time": "2023-02-13T14:23:42.792Z"
   },
   {
    "duration": 15,
    "start_time": "2023-02-13T14:23:42.799Z"
   },
   {
    "duration": 11,
    "start_time": "2023-02-13T14:23:42.815Z"
   },
   {
    "duration": 10,
    "start_time": "2023-02-13T14:23:42.827Z"
   },
   {
    "duration": 3,
    "start_time": "2023-02-13T14:23:42.839Z"
   },
   {
    "duration": 5,
    "start_time": "2023-02-13T14:23:42.844Z"
   },
   {
    "duration": 8,
    "start_time": "2023-02-13T14:23:42.851Z"
   },
   {
    "duration": 5,
    "start_time": "2023-02-13T14:23:42.892Z"
   },
   {
    "duration": 26,
    "start_time": "2023-02-13T14:23:42.898Z"
   },
   {
    "duration": 7,
    "start_time": "2023-02-13T14:23:42.926Z"
   },
   {
    "duration": 21,
    "start_time": "2023-02-13T14:23:42.934Z"
   },
   {
    "duration": 7,
    "start_time": "2023-02-13T14:23:42.957Z"
   },
   {
    "duration": 5,
    "start_time": "2023-02-13T14:23:42.991Z"
   },
   {
    "duration": 18,
    "start_time": "2023-02-13T14:23:42.997Z"
   },
   {
    "duration": 8,
    "start_time": "2023-02-13T14:23:43.017Z"
   },
   {
    "duration": 5,
    "start_time": "2023-02-13T14:23:43.026Z"
   },
   {
    "duration": 495,
    "start_time": "2023-02-13T14:23:43.032Z"
   },
   {
    "duration": 9,
    "start_time": "2023-02-13T14:23:43.528Z"
   },
   {
    "duration": 9,
    "start_time": "2023-02-13T14:23:43.539Z"
   },
   {
    "duration": 20,
    "start_time": "2023-02-13T14:23:43.550Z"
   },
   {
    "duration": 30,
    "start_time": "2023-02-13T14:23:43.572Z"
   },
   {
    "duration": 8,
    "start_time": "2023-02-13T14:23:43.604Z"
   },
   {
    "duration": 4,
    "start_time": "2023-02-13T14:23:43.616Z"
   },
   {
    "duration": 15,
    "start_time": "2023-02-13T14:23:43.621Z"
   },
   {
    "duration": 9,
    "start_time": "2023-02-13T14:23:43.637Z"
   },
   {
    "duration": 47,
    "start_time": "2023-02-13T14:23:43.648Z"
   },
   {
    "duration": 19,
    "start_time": "2023-02-13T14:23:43.697Z"
   },
   {
    "duration": 16,
    "start_time": "2023-02-13T14:23:43.718Z"
   },
   {
    "duration": 14,
    "start_time": "2023-02-13T14:23:43.736Z"
   },
   {
    "duration": 16,
    "start_time": "2023-02-13T14:26:17.828Z"
   },
   {
    "duration": 27,
    "start_time": "2023-02-13T14:26:56.445Z"
   },
   {
    "duration": 14,
    "start_time": "2023-02-13T14:27:32.813Z"
   },
   {
    "duration": 24,
    "start_time": "2023-02-13T14:27:58.264Z"
   },
   {
    "duration": 12,
    "start_time": "2023-02-13T14:28:37.169Z"
   },
   {
    "duration": 26,
    "start_time": "2023-02-13T14:30:47.214Z"
   },
   {
    "duration": 19,
    "start_time": "2023-02-13T14:31:25.052Z"
   },
   {
    "duration": 17,
    "start_time": "2023-02-13T14:31:33.237Z"
   },
   {
    "duration": 17,
    "start_time": "2023-02-13T14:31:57.444Z"
   },
   {
    "duration": 4,
    "start_time": "2023-02-13T14:32:26.674Z"
   },
   {
    "duration": 26,
    "start_time": "2023-02-13T14:33:08.340Z"
   },
   {
    "duration": 8,
    "start_time": "2023-02-13T14:33:28.433Z"
   },
   {
    "duration": 9,
    "start_time": "2023-02-13T14:36:15.114Z"
   },
   {
    "duration": 7,
    "start_time": "2023-02-13T14:36:35.736Z"
   },
   {
    "duration": 7,
    "start_time": "2023-02-13T14:37:15.671Z"
   },
   {
    "duration": 6,
    "start_time": "2023-02-13T14:37:53.229Z"
   },
   {
    "duration": 1074,
    "start_time": "2023-02-13T14:38:36.661Z"
   },
   {
    "duration": 182,
    "start_time": "2023-02-13T14:38:37.737Z"
   },
   {
    "duration": 13,
    "start_time": "2023-02-13T14:38:37.920Z"
   },
   {
    "duration": 29,
    "start_time": "2023-02-13T14:38:37.935Z"
   },
   {
    "duration": 7,
    "start_time": "2023-02-13T14:38:37.966Z"
   },
   {
    "duration": 12,
    "start_time": "2023-02-13T14:38:37.975Z"
   },
   {
    "duration": 41,
    "start_time": "2023-02-13T14:38:37.989Z"
   },
   {
    "duration": 14,
    "start_time": "2023-02-13T14:38:38.032Z"
   },
   {
    "duration": 68,
    "start_time": "2023-02-13T14:38:38.048Z"
   },
   {
    "duration": 2,
    "start_time": "2023-02-13T14:38:38.118Z"
   },
   {
    "duration": 83,
    "start_time": "2023-02-13T14:38:38.122Z"
   },
   {
    "duration": 5,
    "start_time": "2023-02-13T14:38:38.207Z"
   },
   {
    "duration": 11,
    "start_time": "2023-02-13T14:38:38.213Z"
   },
   {
    "duration": 7,
    "start_time": "2023-02-13T14:38:38.226Z"
   },
   {
    "duration": 78,
    "start_time": "2023-02-13T14:38:38.235Z"
   },
   {
    "duration": 38,
    "start_time": "2023-02-13T14:38:38.315Z"
   },
   {
    "duration": 7,
    "start_time": "2023-02-13T14:38:38.354Z"
   },
   {
    "duration": 8,
    "start_time": "2023-02-13T14:38:38.362Z"
   },
   {
    "duration": 27,
    "start_time": "2023-02-13T14:38:38.372Z"
   },
   {
    "duration": 32,
    "start_time": "2023-02-13T14:38:38.400Z"
   },
   {
    "duration": 11,
    "start_time": "2023-02-13T14:38:38.434Z"
   },
   {
    "duration": 12,
    "start_time": "2023-02-13T14:38:38.447Z"
   },
   {
    "duration": 12,
    "start_time": "2023-02-13T14:38:38.460Z"
   },
   {
    "duration": 6,
    "start_time": "2023-02-13T14:38:38.474Z"
   },
   {
    "duration": 13,
    "start_time": "2023-02-13T14:38:38.481Z"
   },
   {
    "duration": 6,
    "start_time": "2023-02-13T14:38:42.734Z"
   },
   {
    "duration": 32,
    "start_time": "2023-02-13T14:38:55.287Z"
   },
   {
    "duration": 7,
    "start_time": "2023-02-13T14:38:59.159Z"
   },
   {
    "duration": 29,
    "start_time": "2023-02-13T14:39:03.286Z"
   },
   {
    "duration": 7,
    "start_time": "2023-02-13T14:39:05.909Z"
   },
   {
    "duration": 4,
    "start_time": "2023-02-13T14:39:09.087Z"
   },
   {
    "duration": 9,
    "start_time": "2023-02-13T14:39:14.058Z"
   },
   {
    "duration": 7,
    "start_time": "2023-02-13T14:39:16.959Z"
   },
   {
    "duration": 5,
    "start_time": "2023-02-13T14:39:19.448Z"
   },
   {
    "duration": 475,
    "start_time": "2023-02-13T14:39:21.936Z"
   },
   {
    "duration": 11,
    "start_time": "2023-02-13T14:39:36.428Z"
   },
   {
    "duration": 8,
    "start_time": "2023-02-13T14:39:53.133Z"
   },
   {
    "duration": 19,
    "start_time": "2023-02-13T14:39:58.975Z"
   },
   {
    "duration": 4,
    "start_time": "2023-02-13T14:40:02.277Z"
   },
   {
    "duration": 8,
    "start_time": "2023-02-13T14:40:12.344Z"
   },
   {
    "duration": 12,
    "start_time": "2023-02-13T14:40:15.890Z"
   },
   {
    "duration": 6,
    "start_time": "2023-02-13T14:40:45.128Z"
   },
   {
    "duration": 7,
    "start_time": "2023-02-13T14:41:54.940Z"
   },
   {
    "duration": 23,
    "start_time": "2023-02-13T14:44:14.155Z"
   },
   {
    "duration": 16,
    "start_time": "2023-02-13T14:45:42.299Z"
   },
   {
    "duration": 9,
    "start_time": "2023-02-13T14:45:46.213Z"
   },
   {
    "duration": 19,
    "start_time": "2023-02-13T14:47:46.476Z"
   },
   {
    "duration": 7,
    "start_time": "2023-02-13T14:48:04.542Z"
   },
   {
    "duration": 1158,
    "start_time": "2023-02-13T14:49:01.559Z"
   },
   {
    "duration": 158,
    "start_time": "2023-02-13T14:49:02.720Z"
   },
   {
    "duration": 13,
    "start_time": "2023-02-13T14:49:02.879Z"
   },
   {
    "duration": 13,
    "start_time": "2023-02-13T14:49:02.893Z"
   },
   {
    "duration": 7,
    "start_time": "2023-02-13T14:49:02.908Z"
   },
   {
    "duration": 55,
    "start_time": "2023-02-13T14:49:02.916Z"
   },
   {
    "duration": 39,
    "start_time": "2023-02-13T14:49:02.972Z"
   },
   {
    "duration": 14,
    "start_time": "2023-02-13T14:49:03.013Z"
   },
   {
    "duration": 93,
    "start_time": "2023-02-13T14:49:03.028Z"
   },
   {
    "duration": 3,
    "start_time": "2023-02-13T14:49:03.122Z"
   },
   {
    "duration": 74,
    "start_time": "2023-02-13T14:49:03.126Z"
   },
   {
    "duration": 2,
    "start_time": "2023-02-13T14:49:03.202Z"
   },
   {
    "duration": 14,
    "start_time": "2023-02-13T14:49:03.206Z"
   },
   {
    "duration": 8,
    "start_time": "2023-02-13T14:49:03.223Z"
   },
   {
    "duration": 83,
    "start_time": "2023-02-13T14:49:03.232Z"
   },
   {
    "duration": 36,
    "start_time": "2023-02-13T14:49:03.317Z"
   },
   {
    "duration": 7,
    "start_time": "2023-02-13T14:49:03.355Z"
   },
   {
    "duration": 12,
    "start_time": "2023-02-13T14:49:03.364Z"
   },
   {
    "duration": 17,
    "start_time": "2023-02-13T14:49:03.377Z"
   },
   {
    "duration": 20,
    "start_time": "2023-02-13T14:49:03.396Z"
   },
   {
    "duration": 11,
    "start_time": "2023-02-13T14:49:03.417Z"
   },
   {
    "duration": 10,
    "start_time": "2023-02-13T14:49:03.429Z"
   },
   {
    "duration": 7,
    "start_time": "2023-02-13T14:49:03.441Z"
   },
   {
    "duration": 6,
    "start_time": "2023-02-13T14:49:03.450Z"
   },
   {
    "duration": 7,
    "start_time": "2023-02-13T14:49:03.457Z"
   },
   {
    "duration": 16,
    "start_time": "2023-02-13T14:49:03.466Z"
   },
   {
    "duration": 21,
    "start_time": "2023-02-13T14:49:03.491Z"
   },
   {
    "duration": 15,
    "start_time": "2023-02-13T14:49:03.514Z"
   },
   {
    "duration": 41,
    "start_time": "2023-02-13T14:49:03.530Z"
   },
   {
    "duration": 8,
    "start_time": "2023-02-13T14:49:03.572Z"
   },
   {
    "duration": 7,
    "start_time": "2023-02-13T14:49:03.582Z"
   },
   {
    "duration": 10,
    "start_time": "2023-02-13T14:49:03.591Z"
   },
   {
    "duration": 9,
    "start_time": "2023-02-13T14:49:03.602Z"
   },
   {
    "duration": 5,
    "start_time": "2023-02-13T14:49:03.612Z"
   },
   {
    "duration": 483,
    "start_time": "2023-02-13T14:49:03.618Z"
   },
   {
    "duration": 21,
    "start_time": "2023-02-13T14:49:04.103Z"
   },
   {
    "duration": 20,
    "start_time": "2023-02-13T14:49:04.126Z"
   },
   {
    "duration": 16,
    "start_time": "2023-02-13T14:49:04.148Z"
   },
   {
    "duration": 23,
    "start_time": "2023-02-13T14:53:33.699Z"
   },
   {
    "duration": 27,
    "start_time": "2023-02-13T14:56:21.693Z"
   },
   {
    "duration": 5,
    "start_time": "2023-02-13T14:56:44.307Z"
   },
   {
    "duration": 25,
    "start_time": "2023-02-13T14:57:09.095Z"
   },
   {
    "duration": 1136,
    "start_time": "2023-02-13T14:57:33.635Z"
   },
   {
    "duration": 178,
    "start_time": "2023-02-13T14:57:34.773Z"
   },
   {
    "duration": 11,
    "start_time": "2023-02-13T14:57:34.953Z"
   },
   {
    "duration": 28,
    "start_time": "2023-02-13T14:57:34.967Z"
   },
   {
    "duration": 6,
    "start_time": "2023-02-13T14:57:35.000Z"
   },
   {
    "duration": 12,
    "start_time": "2023-02-13T14:57:35.008Z"
   },
   {
    "duration": 42,
    "start_time": "2023-02-13T14:57:35.021Z"
   },
   {
    "duration": 23,
    "start_time": "2023-02-13T14:57:35.064Z"
   },
   {
    "duration": 86,
    "start_time": "2023-02-13T14:57:35.089Z"
   },
   {
    "duration": 2,
    "start_time": "2023-02-13T14:57:35.177Z"
   },
   {
    "duration": 84,
    "start_time": "2023-02-13T14:57:35.181Z"
   },
   {
    "duration": 3,
    "start_time": "2023-02-13T14:57:35.266Z"
   },
   {
    "duration": 32,
    "start_time": "2023-02-13T14:57:35.271Z"
   },
   {
    "duration": 16,
    "start_time": "2023-02-13T14:57:35.305Z"
   },
   {
    "duration": 89,
    "start_time": "2023-02-13T14:57:35.323Z"
   },
   {
    "duration": 37,
    "start_time": "2023-02-13T14:57:35.414Z"
   },
   {
    "duration": 6,
    "start_time": "2023-02-13T14:57:35.453Z"
   },
   {
    "duration": 8,
    "start_time": "2023-02-13T14:57:35.461Z"
   },
   {
    "duration": 22,
    "start_time": "2023-02-13T14:57:35.470Z"
   },
   {
    "duration": 34,
    "start_time": "2023-02-13T14:57:35.494Z"
   },
   {
    "duration": 11,
    "start_time": "2023-02-13T14:57:35.530Z"
   },
   {
    "duration": 13,
    "start_time": "2023-02-13T14:57:35.543Z"
   },
   {
    "duration": 3,
    "start_time": "2023-02-13T14:57:35.557Z"
   },
   {
    "duration": 6,
    "start_time": "2023-02-13T14:57:35.562Z"
   },
   {
    "duration": 5,
    "start_time": "2023-02-13T14:57:35.569Z"
   },
   {
    "duration": 35,
    "start_time": "2023-02-13T14:57:35.576Z"
   },
   {
    "duration": 28,
    "start_time": "2023-02-13T14:57:35.613Z"
   },
   {
    "duration": 31,
    "start_time": "2023-02-13T14:57:35.644Z"
   },
   {
    "duration": 36,
    "start_time": "2023-02-13T14:57:35.677Z"
   },
   {
    "duration": 8,
    "start_time": "2023-02-13T14:57:35.715Z"
   },
   {
    "duration": 14,
    "start_time": "2023-02-13T14:57:35.724Z"
   },
   {
    "duration": 17,
    "start_time": "2023-02-13T14:57:35.739Z"
   },
   {
    "duration": 15,
    "start_time": "2023-02-13T14:57:35.757Z"
   },
   {
    "duration": 14,
    "start_time": "2023-02-13T14:57:35.774Z"
   },
   {
    "duration": 526,
    "start_time": "2023-02-13T14:57:35.791Z"
   },
   {
    "duration": 28,
    "start_time": "2023-02-13T14:57:36.321Z"
   },
   {
    "duration": 49,
    "start_time": "2023-02-13T14:57:36.351Z"
   },
   {
    "duration": 22,
    "start_time": "2023-02-13T14:57:36.403Z"
   },
   {
    "duration": 3,
    "start_time": "2023-02-13T15:02:47.625Z"
   },
   {
    "duration": 3,
    "start_time": "2023-02-13T15:02:54.413Z"
   },
   {
    "duration": 3,
    "start_time": "2023-02-13T15:02:56.622Z"
   },
   {
    "duration": 6,
    "start_time": "2023-02-13T15:03:04.350Z"
   },
   {
    "duration": 4,
    "start_time": "2023-02-13T15:03:46.452Z"
   },
   {
    "duration": 3,
    "start_time": "2023-02-13T15:03:53.098Z"
   },
   {
    "duration": 3,
    "start_time": "2023-02-13T15:03:55.908Z"
   },
   {
    "duration": 75,
    "start_time": "2023-02-13T15:06:47.916Z"
   },
   {
    "duration": 9,
    "start_time": "2023-02-13T15:07:37.019Z"
   },
   {
    "duration": 6,
    "start_time": "2023-02-13T15:08:53.303Z"
   },
   {
    "duration": 6,
    "start_time": "2023-02-13T15:09:59.757Z"
   },
   {
    "duration": 6,
    "start_time": "2023-02-13T15:10:02.521Z"
   },
   {
    "duration": 3,
    "start_time": "2023-02-13T15:13:47.474Z"
   },
   {
    "duration": 18,
    "start_time": "2023-02-13T15:13:56.904Z"
   },
   {
    "duration": 5,
    "start_time": "2023-02-13T15:18:36.199Z"
   },
   {
    "duration": 4,
    "start_time": "2023-02-13T15:19:08.123Z"
   },
   {
    "duration": 8,
    "start_time": "2023-02-13T15:21:03.801Z"
   },
   {
    "duration": 7,
    "start_time": "2023-02-13T15:21:06.244Z"
   },
   {
    "duration": 6,
    "start_time": "2023-02-13T15:21:08.366Z"
   },
   {
    "duration": 135,
    "start_time": "2023-02-13T15:24:36.746Z"
   },
   {
    "duration": 64,
    "start_time": "2023-02-13T15:29:04.955Z"
   },
   {
    "duration": 9,
    "start_time": "2023-02-13T15:29:09.290Z"
   },
   {
    "duration": 9,
    "start_time": "2023-02-13T15:29:33.228Z"
   },
   {
    "duration": 62,
    "start_time": "2023-02-13T15:29:40.150Z"
   },
   {
    "duration": 14,
    "start_time": "2023-02-13T15:29:41.956Z"
   },
   {
    "duration": 1105,
    "start_time": "2023-02-13T15:33:17.830Z"
   },
   {
    "duration": 157,
    "start_time": "2023-02-13T15:33:18.937Z"
   },
   {
    "duration": 10,
    "start_time": "2023-02-13T15:33:19.095Z"
   },
   {
    "duration": 13,
    "start_time": "2023-02-13T15:33:19.107Z"
   },
   {
    "duration": 4,
    "start_time": "2023-02-13T15:33:19.121Z"
   },
   {
    "duration": 27,
    "start_time": "2023-02-13T15:33:19.126Z"
   },
   {
    "duration": 21,
    "start_time": "2023-02-13T15:33:19.154Z"
   },
   {
    "duration": 18,
    "start_time": "2023-02-13T15:33:19.177Z"
   },
   {
    "duration": 61,
    "start_time": "2023-02-13T15:33:19.196Z"
   },
   {
    "duration": 3,
    "start_time": "2023-02-13T15:33:19.259Z"
   },
   {
    "duration": 85,
    "start_time": "2023-02-13T15:33:19.264Z"
   },
   {
    "duration": 3,
    "start_time": "2023-02-13T15:33:19.350Z"
   },
   {
    "duration": 17,
    "start_time": "2023-02-13T15:33:19.355Z"
   },
   {
    "duration": 7,
    "start_time": "2023-02-13T15:33:19.375Z"
   },
   {
    "duration": 66,
    "start_time": "2023-02-13T15:33:19.391Z"
   },
   {
    "duration": 48,
    "start_time": "2023-02-13T15:33:19.459Z"
   },
   {
    "duration": 7,
    "start_time": "2023-02-13T15:33:19.509Z"
   },
   {
    "duration": 5,
    "start_time": "2023-02-13T15:33:19.517Z"
   },
   {
    "duration": 5,
    "start_time": "2023-02-13T15:33:19.524Z"
   },
   {
    "duration": 15,
    "start_time": "2023-02-13T15:33:19.530Z"
   },
   {
    "duration": 12,
    "start_time": "2023-02-13T15:33:19.547Z"
   },
   {
    "duration": 39,
    "start_time": "2023-02-13T15:33:19.561Z"
   },
   {
    "duration": 18,
    "start_time": "2023-02-13T15:33:19.604Z"
   },
   {
    "duration": 6,
    "start_time": "2023-02-13T15:33:19.624Z"
   },
   {
    "duration": 23,
    "start_time": "2023-02-13T15:33:19.631Z"
   },
   {
    "duration": 7,
    "start_time": "2023-02-13T15:33:19.656Z"
   },
   {
    "duration": 30,
    "start_time": "2023-02-13T15:33:19.665Z"
   },
   {
    "duration": 9,
    "start_time": "2023-02-13T15:33:19.697Z"
   },
   {
    "duration": 5,
    "start_time": "2023-02-13T15:33:19.708Z"
   },
   {
    "duration": 480,
    "start_time": "2023-02-13T15:33:19.715Z"
   },
   {
    "duration": 22,
    "start_time": "2023-02-13T15:33:20.196Z"
   },
   {
    "duration": 18,
    "start_time": "2023-02-13T15:33:20.220Z"
   },
   {
    "duration": 14,
    "start_time": "2023-02-13T15:33:20.240Z"
   },
   {
    "duration": 6,
    "start_time": "2023-02-13T15:33:20.256Z"
   },
   {
    "duration": 33,
    "start_time": "2023-02-13T15:33:20.263Z"
   },
   {
    "duration": 14,
    "start_time": "2023-02-13T15:33:20.298Z"
   },
   {
    "duration": 22,
    "start_time": "2023-02-13T15:33:20.314Z"
   },
   {
    "duration": 42,
    "start_time": "2023-02-13T15:33:20.338Z"
   },
   {
    "duration": 65,
    "start_time": "2023-02-13T17:33:35.401Z"
   },
   {
    "duration": 1292,
    "start_time": "2023-02-13T17:33:41.905Z"
   },
   {
    "duration": 522,
    "start_time": "2023-02-13T17:33:43.199Z"
   },
   {
    "duration": 11,
    "start_time": "2023-02-13T17:33:43.722Z"
   },
   {
    "duration": 14,
    "start_time": "2023-02-13T17:33:43.734Z"
   },
   {
    "duration": 4,
    "start_time": "2023-02-13T17:33:43.749Z"
   },
   {
    "duration": 9,
    "start_time": "2023-02-13T17:33:43.755Z"
   },
   {
    "duration": 27,
    "start_time": "2023-02-13T17:33:43.765Z"
   },
   {
    "duration": 14,
    "start_time": "2023-02-13T17:33:43.794Z"
   },
   {
    "duration": 86,
    "start_time": "2023-02-13T17:33:43.809Z"
   },
   {
    "duration": 3,
    "start_time": "2023-02-13T17:33:43.896Z"
   },
   {
    "duration": 136,
    "start_time": "2023-02-13T17:33:43.900Z"
   },
   {
    "duration": 3,
    "start_time": "2023-02-13T17:33:44.038Z"
   },
   {
    "duration": 22,
    "start_time": "2023-02-13T17:33:44.042Z"
   },
   {
    "duration": 8,
    "start_time": "2023-02-13T17:33:44.067Z"
   },
   {
    "duration": 73,
    "start_time": "2023-02-13T17:33:44.076Z"
   },
   {
    "duration": 51,
    "start_time": "2023-02-13T17:33:44.151Z"
   },
   {
    "duration": 10,
    "start_time": "2023-02-13T17:33:44.204Z"
   },
   {
    "duration": 10,
    "start_time": "2023-02-13T17:33:44.215Z"
   },
   {
    "duration": 5,
    "start_time": "2023-02-13T17:33:44.227Z"
   },
   {
    "duration": 18,
    "start_time": "2023-02-13T17:33:44.233Z"
   },
   {
    "duration": 12,
    "start_time": "2023-02-13T17:33:44.253Z"
   },
   {
    "duration": 35,
    "start_time": "2023-02-13T17:33:44.266Z"
   },
   {
    "duration": 20,
    "start_time": "2023-02-13T17:33:44.303Z"
   },
   {
    "duration": 5,
    "start_time": "2023-02-13T17:33:44.325Z"
   },
   {
    "duration": 22,
    "start_time": "2023-02-13T17:33:44.332Z"
   },
   {
    "duration": 282,
    "start_time": "2023-02-13T17:33:44.356Z"
   },
   {
    "duration": 4,
    "start_time": "2023-02-13T17:33:44.640Z"
   },
   {
    "duration": 13,
    "start_time": "2023-02-13T17:33:44.646Z"
   },
   {
    "duration": 34,
    "start_time": "2023-02-13T17:33:44.661Z"
   },
   {
    "duration": 520,
    "start_time": "2023-02-13T17:33:44.696Z"
   },
   {
    "duration": 22,
    "start_time": "2023-02-13T17:33:45.217Z"
   },
   {
    "duration": 21,
    "start_time": "2023-02-13T17:33:45.240Z"
   },
   {
    "duration": 41,
    "start_time": "2023-02-13T17:33:45.262Z"
   },
   {
    "duration": 7,
    "start_time": "2023-02-13T17:33:45.305Z"
   },
   {
    "duration": 7,
    "start_time": "2023-02-13T17:33:45.313Z"
   },
   {
    "duration": 9,
    "start_time": "2023-02-13T17:33:45.321Z"
   },
   {
    "duration": 6,
    "start_time": "2023-02-13T17:33:45.332Z"
   },
   {
    "duration": 53,
    "start_time": "2023-02-13T17:33:45.339Z"
   },
   {
    "duration": 1287,
    "start_time": "2023-02-14T07:32:39.015Z"
   },
   {
    "duration": 489,
    "start_time": "2023-02-14T07:32:40.304Z"
   },
   {
    "duration": 12,
    "start_time": "2023-02-14T07:32:40.794Z"
   },
   {
    "duration": 53,
    "start_time": "2023-02-14T07:32:40.807Z"
   },
   {
    "duration": 27,
    "start_time": "2023-02-14T07:32:40.862Z"
   },
   {
    "duration": 42,
    "start_time": "2023-02-14T07:32:40.891Z"
   },
   {
    "duration": 43,
    "start_time": "2023-02-14T07:32:40.934Z"
   },
   {
    "duration": 22,
    "start_time": "2023-02-14T07:32:40.979Z"
   },
   {
    "duration": 69,
    "start_time": "2023-02-14T07:32:41.003Z"
   },
   {
    "duration": 2,
    "start_time": "2023-02-14T07:32:41.074Z"
   },
   {
    "duration": 85,
    "start_time": "2023-02-14T07:32:41.077Z"
   },
   {
    "duration": 2,
    "start_time": "2023-02-14T07:32:41.164Z"
   },
   {
    "duration": 28,
    "start_time": "2023-02-14T07:32:41.168Z"
   },
   {
    "duration": 24,
    "start_time": "2023-02-14T07:32:41.199Z"
   },
   {
    "duration": 86,
    "start_time": "2023-02-14T07:32:41.225Z"
   },
   {
    "duration": 40,
    "start_time": "2023-02-14T07:32:41.313Z"
   },
   {
    "duration": 27,
    "start_time": "2023-02-14T07:32:41.354Z"
   },
   {
    "duration": 17,
    "start_time": "2023-02-14T07:32:41.383Z"
   },
   {
    "duration": 26,
    "start_time": "2023-02-14T07:32:41.402Z"
   },
   {
    "duration": 40,
    "start_time": "2023-02-14T07:32:41.430Z"
   },
   {
    "duration": 28,
    "start_time": "2023-02-14T07:32:41.472Z"
   },
   {
    "duration": 45,
    "start_time": "2023-02-14T07:32:41.502Z"
   },
   {
    "duration": 35,
    "start_time": "2023-02-14T07:32:41.549Z"
   },
   {
    "duration": 28,
    "start_time": "2023-02-14T07:32:41.586Z"
   },
   {
    "duration": 33,
    "start_time": "2023-02-14T07:32:41.616Z"
   },
   {
    "duration": 9,
    "start_time": "2023-02-14T07:32:41.651Z"
   },
   {
    "duration": 11,
    "start_time": "2023-02-14T07:32:41.661Z"
   },
   {
    "duration": 28,
    "start_time": "2023-02-14T07:32:41.673Z"
   },
   {
    "duration": 11,
    "start_time": "2023-02-14T07:32:41.703Z"
   },
   {
    "duration": 497,
    "start_time": "2023-02-14T07:32:41.716Z"
   },
   {
    "duration": 28,
    "start_time": "2023-02-14T07:32:42.215Z"
   },
   {
    "duration": 24,
    "start_time": "2023-02-14T07:32:42.244Z"
   },
   {
    "duration": 35,
    "start_time": "2023-02-14T07:32:42.269Z"
   },
   {
    "duration": 10,
    "start_time": "2023-02-14T07:32:42.305Z"
   },
   {
    "duration": 9,
    "start_time": "2023-02-14T07:32:42.318Z"
   },
   {
    "duration": 15,
    "start_time": "2023-02-14T07:32:42.329Z"
   },
   {
    "duration": 25,
    "start_time": "2023-02-14T07:32:42.345Z"
   },
   {
    "duration": 38,
    "start_time": "2023-02-14T07:32:42.372Z"
   },
   {
    "duration": 69,
    "start_time": "2023-02-14T07:33:06.484Z"
   },
   {
    "duration": 79,
    "start_time": "2023-02-14T07:33:32.268Z"
   },
   {
    "duration": 11,
    "start_time": "2023-02-14T07:36:20.421Z"
   },
   {
    "duration": 84,
    "start_time": "2023-02-14T07:37:59.565Z"
   },
   {
    "duration": 77,
    "start_time": "2023-02-14T07:38:36.425Z"
   },
   {
    "duration": 63,
    "start_time": "2023-02-14T07:39:23.224Z"
   },
   {
    "duration": 66,
    "start_time": "2023-02-14T07:43:20.313Z"
   },
   {
    "duration": 68,
    "start_time": "2023-02-14T07:47:41.540Z"
   },
   {
    "duration": 6,
    "start_time": "2023-02-14T07:47:43.848Z"
   },
   {
    "duration": 8,
    "start_time": "2023-02-14T07:47:48.772Z"
   },
   {
    "duration": 80,
    "start_time": "2023-02-14T07:49:01.595Z"
   },
   {
    "duration": 7,
    "start_time": "2023-02-14T07:49:03.675Z"
   },
   {
    "duration": 9,
    "start_time": "2023-02-14T07:49:05.515Z"
   },
   {
    "duration": 124,
    "start_time": "2023-02-14T07:53:37.412Z"
   },
   {
    "duration": 109,
    "start_time": "2023-02-14T07:54:06.929Z"
   },
   {
    "duration": 102,
    "start_time": "2023-02-14T07:54:39.004Z"
   },
   {
    "duration": 143,
    "start_time": "2023-02-14T08:32:40.807Z"
   },
   {
    "duration": 140,
    "start_time": "2023-02-14T08:32:50.654Z"
   },
   {
    "duration": 209,
    "start_time": "2023-02-14T08:34:52.261Z"
   },
   {
    "duration": 5,
    "start_time": "2023-02-14T08:51:45.962Z"
   },
   {
    "duration": 8,
    "start_time": "2023-02-14T08:51:53.001Z"
   },
   {
    "duration": 144,
    "start_time": "2023-02-14T08:55:03.134Z"
   },
   {
    "duration": 73,
    "start_time": "2023-02-14T08:55:37.166Z"
   },
   {
    "duration": 81,
    "start_time": "2023-02-14T08:55:47.430Z"
   },
   {
    "duration": 70,
    "start_time": "2023-02-14T08:55:51.134Z"
   },
   {
    "duration": 5,
    "start_time": "2023-02-14T08:57:08.538Z"
   },
   {
    "duration": 8,
    "start_time": "2023-02-14T08:57:10.944Z"
   },
   {
    "duration": 50,
    "start_time": "2023-02-14T09:04:10.569Z"
   },
   {
    "duration": 73,
    "start_time": "2023-02-14T09:04:24.421Z"
   },
   {
    "duration": 7,
    "start_time": "2023-02-14T09:04:30.359Z"
   },
   {
    "duration": 5,
    "start_time": "2023-02-14T09:07:02.509Z"
   },
   {
    "duration": 7,
    "start_time": "2023-02-14T09:07:11.061Z"
   },
   {
    "duration": 5,
    "start_time": "2023-02-14T09:08:00.735Z"
   },
   {
    "duration": 8,
    "start_time": "2023-02-14T09:08:02.631Z"
   },
   {
    "duration": 1175,
    "start_time": "2023-02-14T09:18:39.002Z"
   },
   {
    "duration": 1394,
    "start_time": "2023-02-14T09:18:50.951Z"
   },
   {
    "duration": 1173,
    "start_time": "2023-02-14T09:18:57.113Z"
   },
   {
    "duration": 5,
    "start_time": "2023-02-14T09:19:29.205Z"
   },
   {
    "duration": 4,
    "start_time": "2023-02-14T09:19:39.814Z"
   },
   {
    "duration": 5,
    "start_time": "2023-02-14T09:19:51.911Z"
   },
   {
    "duration": 3,
    "start_time": "2023-02-14T09:20:06.164Z"
   },
   {
    "duration": 71,
    "start_time": "2023-02-14T09:21:34.458Z"
   },
   {
    "duration": 4,
    "start_time": "2023-02-14T09:22:38.513Z"
   },
   {
    "duration": 5,
    "start_time": "2023-02-14T09:22:51.504Z"
   },
   {
    "duration": 3,
    "start_time": "2023-02-14T09:23:08.203Z"
   },
   {
    "duration": 1096,
    "start_time": "2023-02-14T09:30:48.547Z"
   },
   {
    "duration": 163,
    "start_time": "2023-02-14T09:30:49.646Z"
   },
   {
    "duration": 11,
    "start_time": "2023-02-14T09:30:49.811Z"
   },
   {
    "duration": 27,
    "start_time": "2023-02-14T09:30:49.824Z"
   },
   {
    "duration": 4,
    "start_time": "2023-02-14T09:30:49.853Z"
   },
   {
    "duration": 22,
    "start_time": "2023-02-14T09:30:49.858Z"
   },
   {
    "duration": 28,
    "start_time": "2023-02-14T09:30:49.882Z"
   },
   {
    "duration": 16,
    "start_time": "2023-02-14T09:30:49.911Z"
   },
   {
    "duration": 76,
    "start_time": "2023-02-14T09:30:49.929Z"
   },
   {
    "duration": 3,
    "start_time": "2023-02-14T09:30:50.007Z"
   },
   {
    "duration": 81,
    "start_time": "2023-02-14T09:30:50.011Z"
   },
   {
    "duration": 3,
    "start_time": "2023-02-14T09:30:50.094Z"
   },
   {
    "duration": 20,
    "start_time": "2023-02-14T09:30:50.099Z"
   },
   {
    "duration": 65,
    "start_time": "2023-02-14T09:30:56.464Z"
   },
   {
    "duration": 1225,
    "start_time": "2023-02-14T09:31:13.596Z"
   },
   {
    "duration": 160,
    "start_time": "2023-02-14T09:31:14.823Z"
   },
   {
    "duration": 10,
    "start_time": "2023-02-14T09:31:14.985Z"
   },
   {
    "duration": 24,
    "start_time": "2023-02-14T09:31:14.997Z"
   },
   {
    "duration": 12,
    "start_time": "2023-02-14T09:31:15.023Z"
   },
   {
    "duration": 19,
    "start_time": "2023-02-14T09:31:15.037Z"
   },
   {
    "duration": 23,
    "start_time": "2023-02-14T09:31:15.058Z"
   },
   {
    "duration": 14,
    "start_time": "2023-02-14T09:31:15.082Z"
   },
   {
    "duration": 62,
    "start_time": "2023-02-14T09:31:15.097Z"
   },
   {
    "duration": 2,
    "start_time": "2023-02-14T09:31:15.161Z"
   },
   {
    "duration": 78,
    "start_time": "2023-02-14T09:31:15.165Z"
   },
   {
    "duration": 3,
    "start_time": "2023-02-14T09:31:15.244Z"
   },
   {
    "duration": 14,
    "start_time": "2023-02-14T09:31:15.248Z"
   },
   {
    "duration": 8,
    "start_time": "2023-02-14T09:31:17.423Z"
   },
   {
    "duration": 83,
    "start_time": "2023-02-14T09:31:41.890Z"
   },
   {
    "duration": 1331,
    "start_time": "2023-02-14T09:31:47.274Z"
   },
   {
    "duration": 85,
    "start_time": "2023-02-14T09:32:09.755Z"
   },
   {
    "duration": 8,
    "start_time": "2023-02-14T09:32:13.433Z"
   },
   {
    "duration": 5,
    "start_time": "2023-02-14T09:32:25.179Z"
   },
   {
    "duration": 1142,
    "start_time": "2023-02-14T09:32:58.380Z"
   },
   {
    "duration": 190,
    "start_time": "2023-02-14T09:32:59.524Z"
   },
   {
    "duration": 11,
    "start_time": "2023-02-14T09:32:59.715Z"
   },
   {
    "duration": 13,
    "start_time": "2023-02-14T09:32:59.727Z"
   },
   {
    "duration": 3,
    "start_time": "2023-02-14T09:32:59.742Z"
   },
   {
    "duration": 16,
    "start_time": "2023-02-14T09:32:59.747Z"
   },
   {
    "duration": 36,
    "start_time": "2023-02-14T09:32:59.764Z"
   },
   {
    "duration": 14,
    "start_time": "2023-02-14T09:32:59.801Z"
   },
   {
    "duration": 80,
    "start_time": "2023-02-14T09:32:59.817Z"
   },
   {
    "duration": 2,
    "start_time": "2023-02-14T09:32:59.899Z"
   },
   {
    "duration": 70,
    "start_time": "2023-02-14T09:32:59.903Z"
   },
   {
    "duration": 3,
    "start_time": "2023-02-14T09:32:59.974Z"
   },
   {
    "duration": 11,
    "start_time": "2023-02-14T09:33:26.194Z"
   },
   {
    "duration": 6,
    "start_time": "2023-02-14T09:33:28.456Z"
   },
   {
    "duration": 85,
    "start_time": "2023-02-14T09:33:38.610Z"
   },
   {
    "duration": 5,
    "start_time": "2023-02-14T09:33:41.082Z"
   },
   {
    "duration": 38,
    "start_time": "2023-02-14T09:34:00.424Z"
   },
   {
    "duration": 4,
    "start_time": "2023-02-14T09:34:02.911Z"
   },
   {
    "duration": 1124,
    "start_time": "2023-02-14T09:34:41.591Z"
   },
   {
    "duration": 151,
    "start_time": "2023-02-14T09:34:42.717Z"
   },
   {
    "duration": 10,
    "start_time": "2023-02-14T09:34:42.870Z"
   },
   {
    "duration": 19,
    "start_time": "2023-02-14T09:34:42.881Z"
   },
   {
    "duration": 4,
    "start_time": "2023-02-14T09:34:42.902Z"
   },
   {
    "duration": 6,
    "start_time": "2023-02-14T09:34:42.907Z"
   },
   {
    "duration": 22,
    "start_time": "2023-02-14T09:34:42.915Z"
   },
   {
    "duration": 13,
    "start_time": "2023-02-14T09:34:42.939Z"
   },
   {
    "duration": 95,
    "start_time": "2023-02-14T09:34:42.954Z"
   },
   {
    "duration": 2,
    "start_time": "2023-02-14T09:34:43.051Z"
   },
   {
    "duration": 74,
    "start_time": "2023-02-14T09:34:43.055Z"
   },
   {
    "duration": 3,
    "start_time": "2023-02-14T09:34:43.130Z"
   },
   {
    "duration": 14,
    "start_time": "2023-02-14T09:34:43.135Z"
   },
   {
    "duration": 78,
    "start_time": "2023-02-14T09:34:43.152Z"
   },
   {
    "duration": 35,
    "start_time": "2023-02-14T09:34:43.232Z"
   },
   {
    "duration": 12,
    "start_time": "2023-02-14T09:34:43.268Z"
   },
   {
    "duration": 10,
    "start_time": "2023-02-14T09:34:43.281Z"
   },
   {
    "duration": 9,
    "start_time": "2023-02-14T09:34:43.292Z"
   },
   {
    "duration": 16,
    "start_time": "2023-02-14T09:34:43.303Z"
   },
   {
    "duration": 12,
    "start_time": "2023-02-14T09:34:43.321Z"
   },
   {
    "duration": 11,
    "start_time": "2023-02-14T09:34:43.334Z"
   },
   {
    "duration": 46,
    "start_time": "2023-02-14T09:34:43.346Z"
   },
   {
    "duration": 5,
    "start_time": "2023-02-14T09:34:43.394Z"
   },
   {
    "duration": 21,
    "start_time": "2023-02-14T09:34:43.400Z"
   },
   {
    "duration": 6,
    "start_time": "2023-02-14T09:34:43.422Z"
   },
   {
    "duration": 8,
    "start_time": "2023-02-14T09:34:43.430Z"
   },
   {
    "duration": 12,
    "start_time": "2023-02-14T09:34:43.439Z"
   },
   {
    "duration": 16,
    "start_time": "2023-02-14T09:34:43.452Z"
   },
   {
    "duration": 504,
    "start_time": "2023-02-14T09:34:43.469Z"
   },
   {
    "duration": 32,
    "start_time": "2023-02-14T09:34:43.975Z"
   },
   {
    "duration": 21,
    "start_time": "2023-02-14T09:34:44.008Z"
   },
   {
    "duration": 16,
    "start_time": "2023-02-14T09:34:44.031Z"
   },
   {
    "duration": 7,
    "start_time": "2023-02-14T09:34:44.049Z"
   },
   {
    "duration": 34,
    "start_time": "2023-02-14T09:34:44.058Z"
   },
   {
    "duration": 7,
    "start_time": "2023-02-14T09:34:44.093Z"
   },
   {
    "duration": 11,
    "start_time": "2023-02-14T09:34:44.101Z"
   },
   {
    "duration": 27,
    "start_time": "2023-02-14T09:34:44.113Z"
   },
   {
    "duration": 9,
    "start_time": "2023-02-14T09:34:44.141Z"
   },
   {
    "duration": 82,
    "start_time": "2023-02-14T09:34:44.152Z"
   },
   {
    "duration": 6,
    "start_time": "2023-02-14T09:34:44.235Z"
   },
   {
    "duration": 7,
    "start_time": "2023-02-14T09:34:44.244Z"
   },
   {
    "duration": 87,
    "start_time": "2023-02-14T09:34:44.253Z"
   },
   {
    "duration": 4,
    "start_time": "2023-02-14T09:34:44.342Z"
   },
   {
    "duration": 10,
    "start_time": "2023-02-14T09:34:44.347Z"
   },
   {
    "duration": 17,
    "start_time": "2023-02-14T09:34:44.358Z"
   },
   {
    "duration": 8,
    "start_time": "2023-02-14T09:44:50.570Z"
   },
   {
    "duration": 7,
    "start_time": "2023-02-14T09:44:53.335Z"
   },
   {
    "duration": 7,
    "start_time": "2023-02-14T09:44:56.605Z"
   },
   {
    "duration": 13,
    "start_time": "2023-02-14T09:53:38.577Z"
   },
   {
    "duration": 104,
    "start_time": "2023-02-14T10:02:44.922Z"
   },
   {
    "duration": 29,
    "start_time": "2023-02-14T10:02:52.282Z"
   },
   {
    "duration": 32,
    "start_time": "2023-02-14T10:03:25.890Z"
   },
   {
    "duration": 29,
    "start_time": "2023-02-14T10:04:26.469Z"
   },
   {
    "duration": 23,
    "start_time": "2023-02-14T10:04:29.314Z"
   },
   {
    "duration": 24,
    "start_time": "2023-02-14T10:05:01.861Z"
   },
   {
    "duration": 9,
    "start_time": "2023-02-14T10:12:31.417Z"
   },
   {
    "duration": 1308,
    "start_time": "2023-02-14T10:12:36.375Z"
   },
   {
    "duration": 1290,
    "start_time": "2023-02-14T10:12:40.356Z"
   },
   {
    "duration": 12,
    "start_time": "2023-02-14T10:13:55.476Z"
   },
   {
    "duration": 5,
    "start_time": "2023-02-14T10:18:11.694Z"
   },
   {
    "duration": 11,
    "start_time": "2023-02-14T10:18:24.008Z"
   },
   {
    "duration": 11,
    "start_time": "2023-02-14T10:18:41.940Z"
   },
   {
    "duration": 27,
    "start_time": "2023-02-14T10:21:55.039Z"
   },
   {
    "duration": 24,
    "start_time": "2023-02-14T10:21:57.343Z"
   },
   {
    "duration": 9,
    "start_time": "2023-02-14T10:22:02.820Z"
   },
   {
    "duration": 10,
    "start_time": "2023-02-14T10:22:11.404Z"
   },
   {
    "duration": 3,
    "start_time": "2023-02-14T10:23:11.172Z"
   },
   {
    "duration": 6,
    "start_time": "2023-02-14T10:23:15.656Z"
   },
   {
    "duration": 28,
    "start_time": "2023-02-14T10:25:09.436Z"
   },
   {
    "duration": 25,
    "start_time": "2023-02-14T10:25:11.400Z"
   },
   {
    "duration": 3,
    "start_time": "2023-02-14T10:26:13.385Z"
   },
   {
    "duration": 3,
    "start_time": "2023-02-14T10:26:15.696Z"
   },
   {
    "duration": 5,
    "start_time": "2023-02-14T10:26:23.110Z"
   },
   {
    "duration": 5,
    "start_time": "2023-02-14T10:26:28.116Z"
   },
   {
    "duration": 8,
    "start_time": "2023-02-14T10:32:52.854Z"
   },
   {
    "duration": 8,
    "start_time": "2023-02-14T10:33:02.657Z"
   },
   {
    "duration": 9,
    "start_time": "2023-02-14T10:34:44.673Z"
   },
   {
    "duration": 3,
    "start_time": "2023-02-14T10:35:10.505Z"
   },
   {
    "duration": 10,
    "start_time": "2023-02-14T10:35:17.124Z"
   },
   {
    "duration": 5,
    "start_time": "2023-02-14T10:35:29.227Z"
   },
   {
    "duration": 68,
    "start_time": "2023-02-14T12:03:16.533Z"
   },
   {
    "duration": 1331,
    "start_time": "2023-02-14T12:03:21.138Z"
   },
   {
    "duration": 567,
    "start_time": "2023-02-14T12:03:22.471Z"
   },
   {
    "duration": 12,
    "start_time": "2023-02-14T12:03:23.039Z"
   },
   {
    "duration": 19,
    "start_time": "2023-02-14T12:03:23.052Z"
   },
   {
    "duration": 4,
    "start_time": "2023-02-14T12:03:23.072Z"
   },
   {
    "duration": 9,
    "start_time": "2023-02-14T12:03:23.077Z"
   },
   {
    "duration": 34,
    "start_time": "2023-02-14T12:03:23.088Z"
   },
   {
    "duration": 21,
    "start_time": "2023-02-14T12:03:23.124Z"
   },
   {
    "duration": 86,
    "start_time": "2023-02-14T12:03:23.147Z"
   },
   {
    "duration": 6,
    "start_time": "2023-02-14T12:03:23.235Z"
   },
   {
    "duration": 81,
    "start_time": "2023-02-14T12:03:23.242Z"
   },
   {
    "duration": 3,
    "start_time": "2023-02-14T12:03:23.325Z"
   },
   {
    "duration": 19,
    "start_time": "2023-02-14T12:03:23.330Z"
   },
   {
    "duration": 77,
    "start_time": "2023-02-14T12:03:23.352Z"
   },
   {
    "duration": 45,
    "start_time": "2023-02-14T12:03:23.430Z"
   },
   {
    "duration": 8,
    "start_time": "2023-02-14T12:03:23.477Z"
   },
   {
    "duration": 18,
    "start_time": "2023-02-14T12:03:23.486Z"
   },
   {
    "duration": 11,
    "start_time": "2023-02-14T12:03:23.505Z"
   },
   {
    "duration": 22,
    "start_time": "2023-02-14T12:03:23.518Z"
   },
   {
    "duration": 12,
    "start_time": "2023-02-14T12:03:23.542Z"
   },
   {
    "duration": 10,
    "start_time": "2023-02-14T12:03:23.556Z"
   },
   {
    "duration": 39,
    "start_time": "2023-02-14T12:03:23.568Z"
   },
   {
    "duration": 5,
    "start_time": "2023-02-14T12:03:23.608Z"
   },
   {
    "duration": 26,
    "start_time": "2023-02-14T12:03:23.615Z"
   },
   {
    "duration": 8,
    "start_time": "2023-02-14T12:03:23.642Z"
   },
   {
    "duration": 7,
    "start_time": "2023-02-14T12:03:23.652Z"
   },
   {
    "duration": 10,
    "start_time": "2023-02-14T12:03:23.660Z"
   },
   {
    "duration": 37,
    "start_time": "2023-02-14T12:03:23.671Z"
   },
   {
    "duration": 485,
    "start_time": "2023-02-14T12:03:23.709Z"
   },
   {
    "duration": 30,
    "start_time": "2023-02-14T12:03:24.208Z"
   },
   {
    "duration": 22,
    "start_time": "2023-02-14T12:03:24.240Z"
   },
   {
    "duration": 15,
    "start_time": "2023-02-14T12:03:24.264Z"
   },
   {
    "duration": 23,
    "start_time": "2023-02-14T12:03:24.281Z"
   },
   {
    "duration": 8,
    "start_time": "2023-02-14T12:03:24.306Z"
   },
   {
    "duration": 13,
    "start_time": "2023-02-14T12:03:24.316Z"
   },
   {
    "duration": 7,
    "start_time": "2023-02-14T12:03:24.331Z"
   },
   {
    "duration": 29,
    "start_time": "2023-02-14T12:03:24.340Z"
   },
   {
    "duration": 96,
    "start_time": "2023-02-14T12:03:24.371Z"
   },
   {
    "duration": 80,
    "start_time": "2023-02-14T12:03:24.469Z"
   },
   {
    "duration": 0,
    "start_time": "2023-02-14T12:03:24.551Z"
   },
   {
    "duration": 0,
    "start_time": "2023-02-14T12:03:24.553Z"
   },
   {
    "duration": 0,
    "start_time": "2023-02-14T12:03:24.554Z"
   },
   {
    "duration": 0,
    "start_time": "2023-02-14T12:03:24.556Z"
   },
   {
    "duration": 0,
    "start_time": "2023-02-14T12:03:24.557Z"
   },
   {
    "duration": 0,
    "start_time": "2023-02-14T12:03:24.558Z"
   },
   {
    "duration": 0,
    "start_time": "2023-02-14T12:03:24.559Z"
   },
   {
    "duration": 0,
    "start_time": "2023-02-14T12:03:24.561Z"
   },
   {
    "duration": 0,
    "start_time": "2023-02-14T12:03:24.562Z"
   },
   {
    "duration": 0,
    "start_time": "2023-02-14T12:03:24.564Z"
   },
   {
    "duration": 0,
    "start_time": "2023-02-14T12:03:24.565Z"
   },
   {
    "duration": 0,
    "start_time": "2023-02-14T12:03:24.566Z"
   },
   {
    "duration": 0,
    "start_time": "2023-02-14T12:03:24.568Z"
   },
   {
    "duration": 0,
    "start_time": "2023-02-14T12:03:24.569Z"
   },
   {
    "duration": 0,
    "start_time": "2023-02-14T12:03:24.571Z"
   },
   {
    "duration": 0,
    "start_time": "2023-02-14T12:03:24.572Z"
   },
   {
    "duration": 8,
    "start_time": "2023-02-14T12:05:38.122Z"
   },
   {
    "duration": 80,
    "start_time": "2023-02-14T12:05:48.470Z"
   },
   {
    "duration": 79,
    "start_time": "2023-02-14T12:06:26.202Z"
   },
   {
    "duration": 4,
    "start_time": "2023-02-14T12:06:45.193Z"
   },
   {
    "duration": 88,
    "start_time": "2023-02-14T12:07:48.483Z"
   },
   {
    "duration": 9,
    "start_time": "2023-02-14T12:10:20.457Z"
   },
   {
    "duration": 1134,
    "start_time": "2023-02-14T12:11:02.432Z"
   },
   {
    "duration": 211,
    "start_time": "2023-02-14T12:11:03.568Z"
   },
   {
    "duration": 15,
    "start_time": "2023-02-14T12:11:03.781Z"
   },
   {
    "duration": 32,
    "start_time": "2023-02-14T12:11:03.805Z"
   },
   {
    "duration": 4,
    "start_time": "2023-02-14T12:11:03.839Z"
   },
   {
    "duration": 13,
    "start_time": "2023-02-14T12:11:03.845Z"
   },
   {
    "duration": 28,
    "start_time": "2023-02-14T12:11:03.860Z"
   },
   {
    "duration": 35,
    "start_time": "2023-02-14T12:11:03.890Z"
   },
   {
    "duration": 65,
    "start_time": "2023-02-14T12:11:03.928Z"
   },
   {
    "duration": 3,
    "start_time": "2023-02-14T12:11:03.995Z"
   },
   {
    "duration": 87,
    "start_time": "2023-02-14T12:11:03.999Z"
   },
   {
    "duration": 3,
    "start_time": "2023-02-14T12:11:04.088Z"
   },
   {
    "duration": 23,
    "start_time": "2023-02-14T12:11:04.094Z"
   },
   {
    "duration": 75,
    "start_time": "2023-02-14T12:11:04.121Z"
   },
   {
    "duration": 47,
    "start_time": "2023-02-14T12:11:04.198Z"
   },
   {
    "duration": 8,
    "start_time": "2023-02-14T12:11:04.246Z"
   },
   {
    "duration": 10,
    "start_time": "2023-02-14T12:11:04.255Z"
   },
   {
    "duration": 6,
    "start_time": "2023-02-14T12:11:04.267Z"
   },
   {
    "duration": 37,
    "start_time": "2023-02-14T12:11:04.274Z"
   },
   {
    "duration": 14,
    "start_time": "2023-02-14T12:11:04.316Z"
   },
   {
    "duration": 15,
    "start_time": "2023-02-14T12:11:04.331Z"
   },
   {
    "duration": 18,
    "start_time": "2023-02-14T12:11:04.348Z"
   },
   {
    "duration": 7,
    "start_time": "2023-02-14T12:11:04.367Z"
   },
   {
    "duration": 56,
    "start_time": "2023-02-14T12:11:04.375Z"
   },
   {
    "duration": 8,
    "start_time": "2023-02-14T12:11:04.433Z"
   },
   {
    "duration": 8,
    "start_time": "2023-02-14T12:11:04.442Z"
   },
   {
    "duration": 14,
    "start_time": "2023-02-14T12:11:04.452Z"
   },
   {
    "duration": 11,
    "start_time": "2023-02-14T12:11:04.468Z"
   },
   {
    "duration": 524,
    "start_time": "2023-02-14T12:11:04.481Z"
   },
   {
    "duration": 39,
    "start_time": "2023-02-14T12:11:05.014Z"
   },
   {
    "duration": 21,
    "start_time": "2023-02-14T12:11:05.054Z"
   },
   {
    "duration": 42,
    "start_time": "2023-02-14T12:11:05.080Z"
   },
   {
    "duration": 9,
    "start_time": "2023-02-14T12:11:05.124Z"
   },
   {
    "duration": 19,
    "start_time": "2023-02-14T12:11:05.136Z"
   },
   {
    "duration": 11,
    "start_time": "2023-02-14T12:11:05.156Z"
   },
   {
    "duration": 9,
    "start_time": "2023-02-14T12:11:05.169Z"
   },
   {
    "duration": 46,
    "start_time": "2023-02-14T12:11:05.179Z"
   },
   {
    "duration": 68,
    "start_time": "2023-02-14T12:11:05.227Z"
   },
   {
    "duration": 134,
    "start_time": "2023-02-14T12:11:05.297Z"
   },
   {
    "duration": 0,
    "start_time": "2023-02-14T12:11:05.433Z"
   },
   {
    "duration": 0,
    "start_time": "2023-02-14T12:11:05.434Z"
   },
   {
    "duration": 0,
    "start_time": "2023-02-14T12:11:05.435Z"
   },
   {
    "duration": 0,
    "start_time": "2023-02-14T12:11:05.436Z"
   },
   {
    "duration": 0,
    "start_time": "2023-02-14T12:11:05.438Z"
   },
   {
    "duration": 0,
    "start_time": "2023-02-14T12:11:05.439Z"
   },
   {
    "duration": 0,
    "start_time": "2023-02-14T12:11:05.440Z"
   },
   {
    "duration": 0,
    "start_time": "2023-02-14T12:11:05.441Z"
   },
   {
    "duration": 0,
    "start_time": "2023-02-14T12:11:05.443Z"
   },
   {
    "duration": 0,
    "start_time": "2023-02-14T12:11:05.444Z"
   },
   {
    "duration": 0,
    "start_time": "2023-02-14T12:11:05.445Z"
   },
   {
    "duration": 0,
    "start_time": "2023-02-14T12:11:05.446Z"
   },
   {
    "duration": 0,
    "start_time": "2023-02-14T12:11:05.447Z"
   },
   {
    "duration": 1,
    "start_time": "2023-02-14T12:11:05.447Z"
   },
   {
    "duration": 0,
    "start_time": "2023-02-14T12:11:05.449Z"
   },
   {
    "duration": 0,
    "start_time": "2023-02-14T12:11:05.450Z"
   },
   {
    "duration": 0,
    "start_time": "2023-02-14T12:11:05.451Z"
   },
   {
    "duration": 0,
    "start_time": "2023-02-14T12:11:05.451Z"
   },
   {
    "duration": 7,
    "start_time": "2023-02-14T12:12:27.890Z"
   },
   {
    "duration": 8,
    "start_time": "2023-02-14T12:12:34.920Z"
   },
   {
    "duration": 8,
    "start_time": "2023-02-14T12:12:55.727Z"
   },
   {
    "duration": 7,
    "start_time": "2023-02-14T12:13:01.082Z"
   },
   {
    "duration": 1173,
    "start_time": "2023-02-14T12:13:33.262Z"
   },
   {
    "duration": 175,
    "start_time": "2023-02-14T12:13:34.437Z"
   },
   {
    "duration": 12,
    "start_time": "2023-02-14T12:13:34.614Z"
   },
   {
    "duration": 22,
    "start_time": "2023-02-14T12:13:34.627Z"
   },
   {
    "duration": 6,
    "start_time": "2023-02-14T12:13:34.651Z"
   },
   {
    "duration": 14,
    "start_time": "2023-02-14T12:13:34.658Z"
   },
   {
    "duration": 40,
    "start_time": "2023-02-14T12:13:34.673Z"
   },
   {
    "duration": 43,
    "start_time": "2023-02-14T12:13:34.714Z"
   },
   {
    "duration": 99,
    "start_time": "2023-02-14T12:13:34.759Z"
   },
   {
    "duration": 3,
    "start_time": "2023-02-14T12:13:34.860Z"
   },
   {
    "duration": 106,
    "start_time": "2023-02-14T12:13:34.864Z"
   },
   {
    "duration": 3,
    "start_time": "2023-02-14T12:13:34.972Z"
   },
   {
    "duration": 67,
    "start_time": "2023-02-14T12:13:34.977Z"
   },
   {
    "duration": 217,
    "start_time": "2023-02-14T12:13:35.048Z"
   },
   {
    "duration": 61,
    "start_time": "2023-02-14T12:13:35.266Z"
   },
   {
    "duration": 32,
    "start_time": "2023-02-14T12:13:35.329Z"
   },
   {
    "duration": 52,
    "start_time": "2023-02-14T12:13:35.363Z"
   },
   {
    "duration": 26,
    "start_time": "2023-02-14T12:13:35.418Z"
   },
   {
    "duration": 78,
    "start_time": "2023-02-14T12:13:35.445Z"
   },
   {
    "duration": 43,
    "start_time": "2023-02-14T12:13:35.525Z"
   },
   {
    "duration": 76,
    "start_time": "2023-02-14T12:13:35.570Z"
   },
   {
    "duration": 44,
    "start_time": "2023-02-14T12:13:35.648Z"
   },
   {
    "duration": 50,
    "start_time": "2023-02-14T12:13:35.694Z"
   },
   {
    "duration": 37,
    "start_time": "2023-02-14T12:13:35.747Z"
   },
   {
    "duration": 43,
    "start_time": "2023-02-14T12:13:35.786Z"
   },
   {
    "duration": 28,
    "start_time": "2023-02-14T12:13:35.831Z"
   },
   {
    "duration": 46,
    "start_time": "2023-02-14T12:13:35.861Z"
   },
   {
    "duration": 38,
    "start_time": "2023-02-14T12:13:35.909Z"
   },
   {
    "duration": 537,
    "start_time": "2023-02-14T12:13:35.949Z"
   },
   {
    "duration": 33,
    "start_time": "2023-02-14T12:13:36.487Z"
   },
   {
    "duration": 20,
    "start_time": "2023-02-14T12:13:36.521Z"
   },
   {
    "duration": 23,
    "start_time": "2023-02-14T12:13:36.542Z"
   },
   {
    "duration": 16,
    "start_time": "2023-02-14T12:13:36.567Z"
   },
   {
    "duration": 16,
    "start_time": "2023-02-14T12:13:36.584Z"
   },
   {
    "duration": 34,
    "start_time": "2023-02-14T12:13:36.601Z"
   },
   {
    "duration": 17,
    "start_time": "2023-02-14T12:13:36.636Z"
   },
   {
    "duration": 30,
    "start_time": "2023-02-14T12:13:36.654Z"
   },
   {
    "duration": 109,
    "start_time": "2023-02-14T12:13:36.686Z"
   },
   {
    "duration": 10,
    "start_time": "2023-02-14T12:13:36.798Z"
   },
   {
    "duration": 52,
    "start_time": "2023-02-14T12:13:36.809Z"
   },
   {
    "duration": 102,
    "start_time": "2023-02-14T12:13:36.866Z"
   },
   {
    "duration": 6,
    "start_time": "2023-02-14T12:13:36.970Z"
   },
   {
    "duration": 30,
    "start_time": "2023-02-14T12:13:36.978Z"
   },
   {
    "duration": 30,
    "start_time": "2023-02-14T12:13:37.010Z"
   },
   {
    "duration": 23,
    "start_time": "2023-02-14T12:13:37.042Z"
   },
   {
    "duration": 21,
    "start_time": "2023-02-14T12:13:37.067Z"
   },
   {
    "duration": 10,
    "start_time": "2023-02-14T12:13:37.090Z"
   },
   {
    "duration": 36,
    "start_time": "2023-02-14T12:13:37.102Z"
   },
   {
    "duration": 24,
    "start_time": "2023-02-14T12:13:37.140Z"
   },
   {
    "duration": 2,
    "start_time": "2023-02-14T12:13:37.166Z"
   },
   {
    "duration": 10,
    "start_time": "2023-02-14T12:13:37.170Z"
   },
   {
    "duration": 41,
    "start_time": "2023-02-14T12:13:37.181Z"
   },
   {
    "duration": 4,
    "start_time": "2023-02-14T12:13:37.224Z"
   },
   {
    "duration": 20,
    "start_time": "2023-02-14T12:13:37.229Z"
   },
   {
    "duration": 14,
    "start_time": "2023-02-14T12:13:37.250Z"
   },
   {
    "duration": 26,
    "start_time": "2023-02-14T12:16:28.428Z"
   },
   {
    "duration": 13,
    "start_time": "2023-02-14T12:16:42.401Z"
   },
   {
    "duration": 9,
    "start_time": "2023-02-14T12:16:52.151Z"
   },
   {
    "duration": 7,
    "start_time": "2023-02-14T12:17:04.068Z"
   },
   {
    "duration": 9,
    "start_time": "2023-02-14T12:29:32.894Z"
   },
   {
    "duration": 63,
    "start_time": "2023-02-14T12:30:21.370Z"
   },
   {
    "duration": 61,
    "start_time": "2023-02-14T12:31:19.437Z"
   },
   {
    "duration": 56,
    "start_time": "2023-02-14T12:31:38.255Z"
   },
   {
    "duration": 1345,
    "start_time": "2023-02-14T12:31:47.521Z"
   },
   {
    "duration": 9,
    "start_time": "2023-02-14T12:32:07.962Z"
   },
   {
    "duration": 7,
    "start_time": "2023-02-14T12:32:19.457Z"
   },
   {
    "duration": 57,
    "start_time": "2023-02-14T12:33:27.135Z"
   },
   {
    "duration": 7,
    "start_time": "2023-02-14T12:33:29.809Z"
   },
   {
    "duration": 9,
    "start_time": "2023-02-14T12:33:37.815Z"
   },
   {
    "duration": 10,
    "start_time": "2023-02-14T12:33:44.553Z"
   },
   {
    "duration": 4,
    "start_time": "2023-02-14T12:33:50.577Z"
   },
   {
    "duration": 3,
    "start_time": "2023-02-14T12:34:18.996Z"
   },
   {
    "duration": 24,
    "start_time": "2023-02-14T12:35:17.178Z"
   },
   {
    "duration": 3,
    "start_time": "2023-02-14T12:37:42.601Z"
   },
   {
    "duration": 29,
    "start_time": "2023-02-14T12:37:52.961Z"
   },
   {
    "duration": 6,
    "start_time": "2023-02-14T12:37:59.818Z"
   },
   {
    "duration": 3,
    "start_time": "2023-02-14T12:38:48.571Z"
   },
   {
    "duration": 50,
    "start_time": "2023-02-14T12:38:50.554Z"
   },
   {
    "duration": 3,
    "start_time": "2023-02-14T12:39:10.423Z"
   },
   {
    "duration": 57,
    "start_time": "2023-02-14T12:39:16.683Z"
   },
   {
    "duration": 97,
    "start_time": "2023-02-14T12:43:47.708Z"
   },
   {
    "duration": 77,
    "start_time": "2023-02-14T12:44:48.287Z"
   },
   {
    "duration": 80,
    "start_time": "2023-02-14T12:45:23.969Z"
   },
   {
    "duration": 114,
    "start_time": "2023-02-14T12:45:51.937Z"
   },
   {
    "duration": 77,
    "start_time": "2023-02-14T12:47:11.775Z"
   },
   {
    "duration": 75,
    "start_time": "2023-02-14T12:47:40.705Z"
   },
   {
    "duration": 31,
    "start_time": "2023-02-14T12:48:21.614Z"
   },
   {
    "duration": 40,
    "start_time": "2023-02-14T12:48:34.127Z"
   },
   {
    "duration": 91,
    "start_time": "2023-02-14T12:48:43.468Z"
   },
   {
    "duration": 6,
    "start_time": "2023-02-14T12:48:49.523Z"
   },
   {
    "duration": 6,
    "start_time": "2023-02-14T12:49:56.573Z"
   },
   {
    "duration": 63,
    "start_time": "2023-02-14T12:50:09.663Z"
   },
   {
    "duration": 82,
    "start_time": "2023-02-14T12:50:14.834Z"
   },
   {
    "duration": 75,
    "start_time": "2023-02-14T12:50:20.545Z"
   },
   {
    "duration": 39,
    "start_time": "2023-02-14T12:58:27.098Z"
   },
   {
    "duration": 22,
    "start_time": "2023-02-14T12:58:44.451Z"
   },
   {
    "duration": 32,
    "start_time": "2023-02-14T12:59:23.459Z"
   },
   {
    "duration": 11,
    "start_time": "2023-02-14T13:04:19.847Z"
   },
   {
    "duration": 34,
    "start_time": "2023-02-14T13:04:39.712Z"
   },
   {
    "duration": 12,
    "start_time": "2023-02-14T13:04:55.997Z"
   },
   {
    "duration": 7,
    "start_time": "2023-02-14T13:07:40.647Z"
   },
   {
    "duration": 42,
    "start_time": "2023-02-14T13:07:58.730Z"
   },
   {
    "duration": 7,
    "start_time": "2023-02-14T13:16:31.940Z"
   },
   {
    "duration": 4,
    "start_time": "2023-02-14T13:17:15.630Z"
   },
   {
    "duration": 3,
    "start_time": "2023-02-14T13:19:04.260Z"
   },
   {
    "duration": 59,
    "start_time": "2023-02-14T13:19:16.725Z"
   },
   {
    "duration": 35,
    "start_time": "2023-02-14T13:19:32.736Z"
   },
   {
    "duration": 38,
    "start_time": "2023-02-14T13:19:50.943Z"
   },
   {
    "duration": 47,
    "start_time": "2023-02-14T13:21:49.231Z"
   },
   {
    "duration": 44,
    "start_time": "2023-02-14T13:21:57.002Z"
   },
   {
    "duration": 30,
    "start_time": "2023-02-14T13:22:01.975Z"
   },
   {
    "duration": 3,
    "start_time": "2023-02-14T13:26:35.850Z"
   },
   {
    "duration": 40,
    "start_time": "2023-02-14T13:26:40.181Z"
   },
   {
    "duration": 4,
    "start_time": "2023-02-14T13:27:03.680Z"
   },
   {
    "duration": 28,
    "start_time": "2023-02-14T13:27:06.028Z"
   },
   {
    "duration": 31,
    "start_time": "2023-02-14T13:28:22.936Z"
   },
   {
    "duration": 35,
    "start_time": "2023-02-14T13:28:37.421Z"
   },
   {
    "duration": 29,
    "start_time": "2023-02-14T13:29:01.232Z"
   },
   {
    "duration": 4,
    "start_time": "2023-02-14T14:09:11.724Z"
   },
   {
    "duration": 3,
    "start_time": "2023-02-14T14:11:04.691Z"
   },
   {
    "duration": 495,
    "start_time": "2023-02-14T14:11:04.696Z"
   },
   {
    "duration": 7,
    "start_time": "2023-02-14T14:11:05.193Z"
   },
   {
    "duration": 35,
    "start_time": "2023-02-14T14:11:05.202Z"
   },
   {
    "duration": 4,
    "start_time": "2023-02-14T14:11:05.239Z"
   },
   {
    "duration": 18,
    "start_time": "2023-02-14T14:11:05.245Z"
   },
   {
    "duration": 30,
    "start_time": "2023-02-14T14:11:05.265Z"
   },
   {
    "duration": 44,
    "start_time": "2023-02-14T14:11:05.298Z"
   },
   {
    "duration": 101,
    "start_time": "2023-02-14T14:11:05.345Z"
   },
   {
    "duration": 2,
    "start_time": "2023-02-14T14:11:05.448Z"
   },
   {
    "duration": 77,
    "start_time": "2023-02-14T14:11:05.452Z"
   },
   {
    "duration": 3,
    "start_time": "2023-02-14T14:11:05.531Z"
   },
   {
    "duration": 28,
    "start_time": "2023-02-14T14:11:05.536Z"
   },
   {
    "duration": 99,
    "start_time": "2023-02-14T14:11:05.569Z"
   },
   {
    "duration": 55,
    "start_time": "2023-02-14T14:11:05.670Z"
   },
   {
    "duration": 26,
    "start_time": "2023-02-14T14:11:05.727Z"
   },
   {
    "duration": 13,
    "start_time": "2023-02-14T14:11:05.755Z"
   },
   {
    "duration": 21,
    "start_time": "2023-02-14T14:11:05.770Z"
   },
   {
    "duration": 31,
    "start_time": "2023-02-14T14:11:05.793Z"
   },
   {
    "duration": 22,
    "start_time": "2023-02-14T14:11:05.827Z"
   },
   {
    "duration": 19,
    "start_time": "2023-02-14T14:11:05.851Z"
   },
   {
    "duration": 27,
    "start_time": "2023-02-14T14:11:05.872Z"
   },
   {
    "duration": 27,
    "start_time": "2023-02-14T14:11:05.900Z"
   },
   {
    "duration": 34,
    "start_time": "2023-02-14T14:11:05.929Z"
   },
   {
    "duration": 7,
    "start_time": "2023-02-14T14:11:05.965Z"
   },
   {
    "duration": 12,
    "start_time": "2023-02-14T14:11:05.974Z"
   },
   {
    "duration": 19,
    "start_time": "2023-02-14T14:11:05.988Z"
   },
   {
    "duration": 19,
    "start_time": "2023-02-14T14:11:06.010Z"
   },
   {
    "duration": 496,
    "start_time": "2023-02-14T14:11:06.031Z"
   },
   {
    "duration": 18,
    "start_time": "2023-02-14T14:11:06.529Z"
   },
   {
    "duration": 16,
    "start_time": "2023-02-14T14:11:06.549Z"
   },
   {
    "duration": 10,
    "start_time": "2023-02-14T14:11:06.567Z"
   },
   {
    "duration": 30,
    "start_time": "2023-02-14T14:11:06.579Z"
   },
   {
    "duration": 28,
    "start_time": "2023-02-14T14:11:06.611Z"
   },
   {
    "duration": 21,
    "start_time": "2023-02-14T14:11:06.641Z"
   },
   {
    "duration": 22,
    "start_time": "2023-02-14T14:11:06.664Z"
   },
   {
    "duration": 56,
    "start_time": "2023-02-14T14:11:06.688Z"
   },
   {
    "duration": 107,
    "start_time": "2023-02-14T14:11:06.746Z"
   },
   {
    "duration": 8,
    "start_time": "2023-02-14T14:11:06.856Z"
   },
   {
    "duration": 13,
    "start_time": "2023-02-14T14:11:06.866Z"
   },
   {
    "duration": 133,
    "start_time": "2023-02-14T14:11:06.884Z"
   },
   {
    "duration": 5,
    "start_time": "2023-02-14T14:11:07.018Z"
   },
   {
    "duration": 11,
    "start_time": "2023-02-14T14:11:07.025Z"
   },
   {
    "duration": 18,
    "start_time": "2023-02-14T14:11:07.038Z"
   },
   {
    "duration": 15,
    "start_time": "2023-02-14T14:11:07.058Z"
   },
   {
    "duration": 8,
    "start_time": "2023-02-14T14:11:07.075Z"
   },
   {
    "duration": 17,
    "start_time": "2023-02-14T14:11:07.085Z"
   },
   {
    "duration": 50,
    "start_time": "2023-02-14T14:11:07.104Z"
   },
   {
    "duration": 26,
    "start_time": "2023-02-14T14:11:07.156Z"
   },
   {
    "duration": 3,
    "start_time": "2023-02-14T14:11:07.183Z"
   },
   {
    "duration": 40,
    "start_time": "2023-02-14T14:11:07.187Z"
   },
   {
    "duration": 20,
    "start_time": "2023-02-14T14:11:07.229Z"
   },
   {
    "duration": 28,
    "start_time": "2023-02-14T14:11:07.251Z"
   },
   {
    "duration": 13,
    "start_time": "2023-02-14T14:11:34.093Z"
   },
   {
    "duration": 9,
    "start_time": "2023-02-14T14:12:35.835Z"
   },
   {
    "duration": 20,
    "start_time": "2023-02-14T14:16:04.331Z"
   },
   {
    "duration": 19,
    "start_time": "2023-02-14T14:16:18.147Z"
   },
   {
    "duration": 19,
    "start_time": "2023-02-14T14:17:33.838Z"
   },
   {
    "duration": 9,
    "start_time": "2023-02-14T14:18:39.727Z"
   },
   {
    "duration": 3,
    "start_time": "2023-02-14T14:18:52.562Z"
   },
   {
    "duration": 4,
    "start_time": "2023-02-14T14:18:57.588Z"
   },
   {
    "duration": 9,
    "start_time": "2023-02-14T14:19:47.762Z"
   },
   {
    "duration": 18,
    "start_time": "2023-02-14T14:19:49.928Z"
   },
   {
    "duration": 3,
    "start_time": "2023-02-14T14:19:56.587Z"
   },
   {
    "duration": 5,
    "start_time": "2023-02-14T14:20:00.046Z"
   },
   {
    "duration": 9,
    "start_time": "2023-02-14T14:21:39.737Z"
   },
   {
    "duration": 23,
    "start_time": "2023-02-14T14:21:41.493Z"
   },
   {
    "duration": 10,
    "start_time": "2023-02-14T14:21:44.283Z"
   },
   {
    "duration": 18,
    "start_time": "2023-02-14T14:21:46.038Z"
   },
   {
    "duration": 7,
    "start_time": "2023-02-14T14:23:00.535Z"
   },
   {
    "duration": 7,
    "start_time": "2023-02-14T14:53:46.474Z"
   },
   {
    "duration": 64,
    "start_time": "2023-02-14T14:54:33.395Z"
   },
   {
    "duration": 42,
    "start_time": "2023-02-14T14:54:52.750Z"
   },
   {
    "duration": 301,
    "start_time": "2023-02-14T14:55:30.208Z"
   },
   {
    "duration": 7,
    "start_time": "2023-02-14T14:57:46.289Z"
   },
   {
    "duration": 66,
    "start_time": "2023-02-14T14:57:49.104Z"
   },
   {
    "duration": 7,
    "start_time": "2023-02-14T15:00:09.561Z"
   },
   {
    "duration": 46,
    "start_time": "2023-02-14T15:00:12.325Z"
   },
   {
    "duration": 19,
    "start_time": "2023-02-14T15:02:54.403Z"
   },
   {
    "duration": 58,
    "start_time": "2023-02-14T15:03:11.670Z"
   },
   {
    "duration": 5,
    "start_time": "2023-02-14T15:04:27.040Z"
   },
   {
    "duration": 45,
    "start_time": "2023-02-14T15:04:29.724Z"
   },
   {
    "duration": 6,
    "start_time": "2023-02-14T15:04:41.047Z"
   },
   {
    "duration": 64,
    "start_time": "2023-02-14T15:04:45.009Z"
   },
   {
    "duration": 10,
    "start_time": "2023-02-14T15:05:25.267Z"
   },
   {
    "duration": 55,
    "start_time": "2023-02-14T15:05:27.484Z"
   },
   {
    "duration": 85,
    "start_time": "2023-02-14T15:06:37.821Z"
   },
   {
    "duration": 95,
    "start_time": "2023-02-14T15:06:51.093Z"
   },
   {
    "duration": 91,
    "start_time": "2023-02-14T15:07:24.363Z"
   },
   {
    "duration": 6,
    "start_time": "2023-02-14T15:10:05.047Z"
   },
   {
    "duration": 56,
    "start_time": "2023-02-14T15:10:07.581Z"
   },
   {
    "duration": 7,
    "start_time": "2023-02-14T15:10:24.420Z"
   },
   {
    "duration": 60,
    "start_time": "2023-02-14T15:10:26.992Z"
   },
   {
    "duration": 106,
    "start_time": "2023-02-14T15:13:09.117Z"
   },
   {
    "duration": 96,
    "start_time": "2023-02-14T15:14:03.833Z"
   },
   {
    "duration": 88,
    "start_time": "2023-02-14T15:14:27.312Z"
   },
   {
    "duration": 92,
    "start_time": "2023-02-14T15:14:34.221Z"
   },
   {
    "duration": 8,
    "start_time": "2023-02-14T15:14:50.569Z"
   },
   {
    "duration": 55,
    "start_time": "2023-02-14T15:14:52.972Z"
   },
   {
    "duration": 8,
    "start_time": "2023-02-14T15:15:39.815Z"
   },
   {
    "duration": 53,
    "start_time": "2023-02-14T15:15:41.984Z"
   },
   {
    "duration": 9,
    "start_time": "2023-02-14T15:15:57.713Z"
   },
   {
    "duration": 65,
    "start_time": "2023-02-14T15:16:00.153Z"
   },
   {
    "duration": 12,
    "start_time": "2023-02-14T15:16:34.103Z"
   },
   {
    "duration": 66,
    "start_time": "2023-02-14T15:16:37.051Z"
   },
   {
    "duration": 1387,
    "start_time": "2023-02-14T15:20:11.443Z"
   },
   {
    "duration": 18,
    "start_time": "2023-02-14T15:21:09.135Z"
   },
   {
    "duration": 47,
    "start_time": "2023-02-14T15:21:24.021Z"
   },
   {
    "duration": 12,
    "start_time": "2023-02-14T15:23:12.781Z"
   },
   {
    "duration": 7,
    "start_time": "2023-02-14T15:23:30.062Z"
   },
   {
    "duration": 7,
    "start_time": "2023-02-14T15:24:19.876Z"
   },
   {
    "duration": 9,
    "start_time": "2023-02-14T15:24:22.640Z"
   },
   {
    "duration": 14,
    "start_time": "2023-02-14T15:25:36.409Z"
   },
   {
    "duration": 52,
    "start_time": "2023-02-14T15:25:38.760Z"
   },
   {
    "duration": 20,
    "start_time": "2023-02-14T15:28:22.224Z"
   },
   {
    "duration": 50,
    "start_time": "2023-02-14T15:28:37.531Z"
   },
   {
    "duration": 6,
    "start_time": "2023-02-14T16:05:46.742Z"
   },
   {
    "duration": 598,
    "start_time": "2023-02-14T16:05:46.750Z"
   },
   {
    "duration": 8,
    "start_time": "2023-02-14T16:05:47.350Z"
   },
   {
    "duration": 13,
    "start_time": "2023-02-14T16:05:47.360Z"
   },
   {
    "duration": 4,
    "start_time": "2023-02-14T16:05:47.376Z"
   },
   {
    "duration": 6,
    "start_time": "2023-02-14T16:05:47.382Z"
   },
   {
    "duration": 28,
    "start_time": "2023-02-14T16:05:47.404Z"
   },
   {
    "duration": 16,
    "start_time": "2023-02-14T16:05:47.433Z"
   },
   {
    "duration": 89,
    "start_time": "2023-02-14T16:05:47.451Z"
   },
   {
    "duration": 2,
    "start_time": "2023-02-14T16:05:47.541Z"
   },
   {
    "duration": 78,
    "start_time": "2023-02-14T16:05:47.545Z"
   },
   {
    "duration": 3,
    "start_time": "2023-02-14T16:05:47.624Z"
   },
   {
    "duration": 10,
    "start_time": "2023-02-14T16:05:47.629Z"
   },
   {
    "duration": 92,
    "start_time": "2023-02-14T16:05:47.641Z"
   },
   {
    "duration": 38,
    "start_time": "2023-02-14T16:05:47.735Z"
   },
   {
    "duration": 6,
    "start_time": "2023-02-14T16:05:47.775Z"
   },
   {
    "duration": 25,
    "start_time": "2023-02-14T16:05:47.783Z"
   },
   {
    "duration": 20,
    "start_time": "2023-02-14T16:05:47.811Z"
   },
   {
    "duration": 23,
    "start_time": "2023-02-14T16:05:47.832Z"
   },
   {
    "duration": 12,
    "start_time": "2023-02-14T16:05:47.856Z"
   },
   {
    "duration": 12,
    "start_time": "2023-02-14T16:05:47.869Z"
   },
   {
    "duration": 34,
    "start_time": "2023-02-14T16:05:47.882Z"
   },
   {
    "duration": 9,
    "start_time": "2023-02-14T16:05:47.918Z"
   },
   {
    "duration": 19,
    "start_time": "2023-02-14T16:05:47.929Z"
   },
   {
    "duration": 8,
    "start_time": "2023-02-14T16:05:47.949Z"
   },
   {
    "duration": 6,
    "start_time": "2023-02-14T16:05:47.959Z"
   },
   {
    "duration": 38,
    "start_time": "2023-02-14T16:05:47.966Z"
   },
   {
    "duration": 12,
    "start_time": "2023-02-14T16:05:48.007Z"
   },
   {
    "duration": 451,
    "start_time": "2023-02-14T16:05:48.020Z"
   },
   {
    "duration": 31,
    "start_time": "2023-02-14T16:05:48.473Z"
   },
   {
    "duration": 21,
    "start_time": "2023-02-14T16:05:48.510Z"
   },
   {
    "duration": 12,
    "start_time": "2023-02-14T16:05:48.532Z"
   },
   {
    "duration": 7,
    "start_time": "2023-02-14T16:05:48.545Z"
   },
   {
    "duration": 6,
    "start_time": "2023-02-14T16:05:48.554Z"
   },
   {
    "duration": 6,
    "start_time": "2023-02-14T16:05:48.562Z"
   },
   {
    "duration": 42,
    "start_time": "2023-02-14T16:05:48.570Z"
   },
   {
    "duration": 38,
    "start_time": "2023-02-14T16:05:48.615Z"
   },
   {
    "duration": 84,
    "start_time": "2023-02-14T16:05:48.655Z"
   },
   {
    "duration": 7,
    "start_time": "2023-02-14T16:05:48.741Z"
   },
   {
    "duration": 7,
    "start_time": "2023-02-14T16:05:48.750Z"
   },
   {
    "duration": 97,
    "start_time": "2023-02-14T16:05:48.762Z"
   },
   {
    "duration": 5,
    "start_time": "2023-02-14T16:05:48.861Z"
   },
   {
    "duration": 37,
    "start_time": "2023-02-14T16:05:48.867Z"
   },
   {
    "duration": 23,
    "start_time": "2023-02-14T16:05:48.906Z"
   },
   {
    "duration": 10,
    "start_time": "2023-02-14T16:05:48.930Z"
   },
   {
    "duration": 6,
    "start_time": "2023-02-14T16:05:48.942Z"
   },
   {
    "duration": 8,
    "start_time": "2023-02-14T16:05:48.950Z"
   },
   {
    "duration": 27,
    "start_time": "2023-02-14T16:05:48.959Z"
   },
   {
    "duration": 47,
    "start_time": "2023-02-14T16:05:48.988Z"
   },
   {
    "duration": 3,
    "start_time": "2023-02-14T16:05:49.037Z"
   },
   {
    "duration": 9,
    "start_time": "2023-02-14T16:05:49.042Z"
   },
   {
    "duration": 27,
    "start_time": "2023-02-14T16:05:49.053Z"
   },
   {
    "duration": 25,
    "start_time": "2023-02-14T16:05:49.081Z"
   },
   {
    "duration": 18,
    "start_time": "2023-02-14T16:05:49.109Z"
   },
   {
    "duration": 35,
    "start_time": "2023-02-14T16:05:49.137Z"
   },
   {
    "duration": 14,
    "start_time": "2023-02-14T16:05:49.173Z"
   },
   {
    "duration": 19,
    "start_time": "2023-02-14T16:05:49.189Z"
   },
   {
    "duration": 22,
    "start_time": "2023-02-14T16:05:49.211Z"
   },
   {
    "duration": 8,
    "start_time": "2023-02-14T16:05:49.235Z"
   },
   {
    "duration": 43,
    "start_time": "2023-02-14T16:05:49.245Z"
   },
   {
    "duration": 36,
    "start_time": "2023-02-14T16:05:49.290Z"
   },
   {
    "duration": 29,
    "start_time": "2023-02-14T16:05:49.327Z"
   },
   {
    "duration": 4,
    "start_time": "2023-02-14T16:05:49.358Z"
   },
   {
    "duration": 53,
    "start_time": "2023-02-14T16:05:49.363Z"
   },
   {
    "duration": 33,
    "start_time": "2023-02-14T16:05:49.419Z"
   },
   {
    "duration": 26,
    "start_time": "2023-02-14T16:05:49.454Z"
   },
   {
    "duration": 26,
    "start_time": "2023-02-14T16:05:49.482Z"
   },
   {
    "duration": 64,
    "start_time": "2023-02-14T16:05:49.510Z"
   },
   {
    "duration": 10,
    "start_time": "2023-02-14T16:05:49.576Z"
   },
   {
    "duration": 3,
    "start_time": "2023-02-14T16:09:13.947Z"
   },
   {
    "duration": 72,
    "start_time": "2023-02-14T16:09:16.120Z"
   },
   {
    "duration": 4,
    "start_time": "2023-02-14T16:09:21.682Z"
   },
   {
    "duration": 83,
    "start_time": "2023-02-14T16:09:23.575Z"
   },
   {
    "duration": 1311,
    "start_time": "2023-02-15T06:35:02.282Z"
   },
   {
    "duration": 516,
    "start_time": "2023-02-15T06:35:03.595Z"
   },
   {
    "duration": 11,
    "start_time": "2023-02-15T06:35:04.113Z"
   },
   {
    "duration": 14,
    "start_time": "2023-02-15T06:35:04.125Z"
   },
   {
    "duration": 3,
    "start_time": "2023-02-15T06:35:04.142Z"
   },
   {
    "duration": 7,
    "start_time": "2023-02-15T06:35:04.146Z"
   },
   {
    "duration": 21,
    "start_time": "2023-02-15T06:35:04.155Z"
   },
   {
    "duration": 13,
    "start_time": "2023-02-15T06:35:04.178Z"
   },
   {
    "duration": 77,
    "start_time": "2023-02-15T06:35:04.193Z"
   },
   {
    "duration": 2,
    "start_time": "2023-02-15T06:35:04.272Z"
   },
   {
    "duration": 116,
    "start_time": "2023-02-15T06:35:04.276Z"
   },
   {
    "duration": 3,
    "start_time": "2023-02-15T06:35:04.394Z"
   },
   {
    "duration": 14,
    "start_time": "2023-02-15T06:35:04.398Z"
   },
   {
    "duration": 69,
    "start_time": "2023-02-15T06:35:04.414Z"
   },
   {
    "duration": 42,
    "start_time": "2023-02-15T06:35:04.485Z"
   },
   {
    "duration": 7,
    "start_time": "2023-02-15T06:35:04.528Z"
   },
   {
    "duration": 15,
    "start_time": "2023-02-15T06:35:04.537Z"
   },
   {
    "duration": 5,
    "start_time": "2023-02-15T06:35:04.554Z"
   },
   {
    "duration": 15,
    "start_time": "2023-02-15T06:35:04.561Z"
   },
   {
    "duration": 12,
    "start_time": "2023-02-15T06:35:04.577Z"
   },
   {
    "duration": 11,
    "start_time": "2023-02-15T06:35:04.590Z"
   },
   {
    "duration": 47,
    "start_time": "2023-02-15T06:35:04.602Z"
   },
   {
    "duration": 5,
    "start_time": "2023-02-15T06:35:04.650Z"
   },
   {
    "duration": 27,
    "start_time": "2023-02-15T06:35:04.657Z"
   },
   {
    "duration": 227,
    "start_time": "2023-02-15T06:35:04.685Z"
   },
   {
    "duration": 4,
    "start_time": "2023-02-15T06:35:04.914Z"
   },
   {
    "duration": 28,
    "start_time": "2023-02-15T06:35:04.920Z"
   },
   {
    "duration": 5,
    "start_time": "2023-02-15T06:35:04.950Z"
   },
   {
    "duration": 481,
    "start_time": "2023-02-15T06:35:04.957Z"
   },
   {
    "duration": 28,
    "start_time": "2023-02-15T06:35:05.440Z"
   },
   {
    "duration": 18,
    "start_time": "2023-02-15T06:35:05.470Z"
   },
   {
    "duration": 14,
    "start_time": "2023-02-15T06:35:05.490Z"
   },
   {
    "duration": 6,
    "start_time": "2023-02-15T06:35:05.505Z"
   },
   {
    "duration": 9,
    "start_time": "2023-02-15T06:35:05.513Z"
   },
   {
    "duration": 6,
    "start_time": "2023-02-15T06:35:05.548Z"
   },
   {
    "duration": 5,
    "start_time": "2023-02-15T06:35:05.556Z"
   },
   {
    "duration": 23,
    "start_time": "2023-02-15T06:35:05.563Z"
   },
   {
    "duration": 84,
    "start_time": "2023-02-15T06:35:05.588Z"
   },
   {
    "duration": 5,
    "start_time": "2023-02-15T06:35:05.674Z"
   },
   {
    "duration": 19,
    "start_time": "2023-02-15T06:35:05.681Z"
   },
   {
    "duration": 83,
    "start_time": "2023-02-15T06:35:05.704Z"
   },
   {
    "duration": 4,
    "start_time": "2023-02-15T06:35:05.789Z"
   },
   {
    "duration": 12,
    "start_time": "2023-02-15T06:35:05.795Z"
   },
   {
    "duration": 6,
    "start_time": "2023-02-15T06:35:05.808Z"
   },
   {
    "duration": 8,
    "start_time": "2023-02-15T06:35:05.815Z"
   },
   {
    "duration": 25,
    "start_time": "2023-02-15T06:35:05.824Z"
   },
   {
    "duration": 7,
    "start_time": "2023-02-15T06:35:05.850Z"
   },
   {
    "duration": 25,
    "start_time": "2023-02-15T06:35:05.858Z"
   },
   {
    "duration": 24,
    "start_time": "2023-02-15T06:35:05.884Z"
   },
   {
    "duration": 2,
    "start_time": "2023-02-15T06:35:05.910Z"
   },
   {
    "duration": 34,
    "start_time": "2023-02-15T06:35:05.914Z"
   },
   {
    "duration": 8,
    "start_time": "2023-02-15T06:35:05.950Z"
   },
   {
    "duration": 6,
    "start_time": "2023-02-15T06:35:05.959Z"
   },
   {
    "duration": 11,
    "start_time": "2023-02-15T06:35:05.966Z"
   },
   {
    "duration": 19,
    "start_time": "2023-02-15T06:35:05.978Z"
   },
   {
    "duration": 9,
    "start_time": "2023-02-15T06:35:05.998Z"
   },
   {
    "duration": 44,
    "start_time": "2023-02-15T06:35:06.009Z"
   },
   {
    "duration": 8,
    "start_time": "2023-02-15T06:35:06.054Z"
   },
   {
    "duration": 5,
    "start_time": "2023-02-15T06:35:06.063Z"
   },
   {
    "duration": 31,
    "start_time": "2023-02-15T06:35:06.070Z"
   },
   {
    "duration": 48,
    "start_time": "2023-02-15T06:35:06.102Z"
   },
   {
    "duration": 29,
    "start_time": "2023-02-15T06:35:06.152Z"
   },
   {
    "duration": 4,
    "start_time": "2023-02-15T06:35:06.183Z"
   },
   {
    "duration": 33,
    "start_time": "2023-02-15T06:35:06.188Z"
   },
   {
    "duration": 52,
    "start_time": "2023-02-15T06:35:06.223Z"
   },
   {
    "duration": 34,
    "start_time": "2023-02-15T06:35:06.278Z"
   },
   {
    "duration": 7,
    "start_time": "2023-02-15T06:35:06.314Z"
   },
   {
    "duration": 69,
    "start_time": "2023-02-15T06:35:06.322Z"
   },
   {
    "duration": 8,
    "start_time": "2023-02-15T06:35:06.393Z"
   },
   {
    "duration": 3,
    "start_time": "2023-02-15T06:35:19.628Z"
   },
   {
    "duration": 165,
    "start_time": "2023-02-15T06:35:53.922Z"
   },
   {
    "duration": 15,
    "start_time": "2023-02-15T06:36:09.901Z"
   },
   {
    "duration": 66,
    "start_time": "2023-02-15T06:36:21.228Z"
   },
   {
    "duration": 1133,
    "start_time": "2023-02-15T06:40:16.859Z"
   },
   {
    "duration": 158,
    "start_time": "2023-02-15T06:40:17.994Z"
   },
   {
    "duration": 11,
    "start_time": "2023-02-15T06:40:18.153Z"
   },
   {
    "duration": 14,
    "start_time": "2023-02-15T06:40:18.165Z"
   },
   {
    "duration": 4,
    "start_time": "2023-02-15T06:40:18.181Z"
   },
   {
    "duration": 8,
    "start_time": "2023-02-15T06:40:18.186Z"
   },
   {
    "duration": 25,
    "start_time": "2023-02-15T06:40:18.195Z"
   },
   {
    "duration": 31,
    "start_time": "2023-02-15T06:40:18.221Z"
   },
   {
    "duration": 64,
    "start_time": "2023-02-15T06:40:18.254Z"
   },
   {
    "duration": 68,
    "start_time": "2023-02-15T06:40:25.112Z"
   },
   {
    "duration": 10,
    "start_time": "2023-02-15T06:40:31.058Z"
   },
   {
    "duration": 1116,
    "start_time": "2023-02-15T06:42:07.000Z"
   },
   {
    "duration": 163,
    "start_time": "2023-02-15T06:42:08.118Z"
   },
   {
    "duration": 11,
    "start_time": "2023-02-15T06:42:08.283Z"
   },
   {
    "duration": 20,
    "start_time": "2023-02-15T06:42:08.296Z"
   },
   {
    "duration": 4,
    "start_time": "2023-02-15T06:42:08.317Z"
   },
   {
    "duration": 26,
    "start_time": "2023-02-15T06:42:08.323Z"
   },
   {
    "duration": 26,
    "start_time": "2023-02-15T06:42:08.351Z"
   },
   {
    "duration": 15,
    "start_time": "2023-02-15T06:42:08.379Z"
   },
   {
    "duration": 77,
    "start_time": "2023-02-15T06:42:08.396Z"
   },
   {
    "duration": 77,
    "start_time": "2023-02-15T06:42:08.475Z"
   },
   {
    "duration": 3,
    "start_time": "2023-02-15T06:42:08.554Z"
   },
   {
    "duration": 14,
    "start_time": "2023-02-15T06:42:08.558Z"
   },
   {
    "duration": 84,
    "start_time": "2023-02-15T06:42:08.574Z"
   },
   {
    "duration": 38,
    "start_time": "2023-02-15T06:42:08.660Z"
   },
   {
    "duration": 8,
    "start_time": "2023-02-15T06:42:08.700Z"
   },
   {
    "duration": 6,
    "start_time": "2023-02-15T06:42:08.709Z"
   },
   {
    "duration": 32,
    "start_time": "2023-02-15T06:42:08.717Z"
   },
   {
    "duration": 17,
    "start_time": "2023-02-15T06:42:08.751Z"
   },
   {
    "duration": 11,
    "start_time": "2023-02-15T06:42:08.770Z"
   },
   {
    "duration": 11,
    "start_time": "2023-02-15T06:42:08.783Z"
   },
   {
    "duration": 18,
    "start_time": "2023-02-15T06:42:08.796Z"
   },
   {
    "duration": 5,
    "start_time": "2023-02-15T06:42:08.849Z"
   },
   {
    "duration": 43,
    "start_time": "2023-02-15T06:42:08.856Z"
   },
   {
    "duration": 9,
    "start_time": "2023-02-15T06:42:08.901Z"
   },
   {
    "duration": 5,
    "start_time": "2023-02-15T06:42:08.912Z"
   },
   {
    "duration": 11,
    "start_time": "2023-02-15T06:42:08.919Z"
   },
   {
    "duration": 22,
    "start_time": "2023-02-15T06:42:08.931Z"
   },
   {
    "duration": 495,
    "start_time": "2023-02-15T06:42:08.956Z"
   },
   {
    "duration": 25,
    "start_time": "2023-02-15T06:42:09.452Z"
   },
   {
    "duration": 16,
    "start_time": "2023-02-15T06:42:09.480Z"
   },
   {
    "duration": 11,
    "start_time": "2023-02-15T06:42:09.501Z"
   },
   {
    "duration": 36,
    "start_time": "2023-02-15T06:42:09.514Z"
   },
   {
    "duration": 7,
    "start_time": "2023-02-15T06:42:09.551Z"
   },
   {
    "duration": 11,
    "start_time": "2023-02-15T06:42:09.560Z"
   },
   {
    "duration": 6,
    "start_time": "2023-02-15T06:42:09.572Z"
   },
   {
    "duration": 23,
    "start_time": "2023-02-15T06:42:09.580Z"
   },
   {
    "duration": 89,
    "start_time": "2023-02-15T06:42:09.605Z"
   },
   {
    "duration": 6,
    "start_time": "2023-02-15T06:42:09.695Z"
   },
   {
    "duration": 14,
    "start_time": "2023-02-15T06:42:09.702Z"
   },
   {
    "duration": 88,
    "start_time": "2023-02-15T06:42:09.717Z"
   },
   {
    "duration": 5,
    "start_time": "2023-02-15T06:42:09.807Z"
   },
   {
    "duration": 11,
    "start_time": "2023-02-15T06:42:09.813Z"
   },
   {
    "duration": 5,
    "start_time": "2023-02-15T06:42:09.826Z"
   },
   {
    "duration": 18,
    "start_time": "2023-02-15T06:42:09.832Z"
   },
   {
    "duration": 7,
    "start_time": "2023-02-15T06:42:09.851Z"
   },
   {
    "duration": 7,
    "start_time": "2023-02-15T06:42:09.859Z"
   },
   {
    "duration": 28,
    "start_time": "2023-02-15T06:42:09.867Z"
   },
   {
    "duration": 56,
    "start_time": "2023-02-15T06:42:09.897Z"
   },
   {
    "duration": 2,
    "start_time": "2023-02-15T06:42:09.955Z"
   },
   {
    "duration": 17,
    "start_time": "2023-02-15T06:42:09.959Z"
   },
   {
    "duration": 13,
    "start_time": "2023-02-15T06:42:09.978Z"
   },
   {
    "duration": 6,
    "start_time": "2023-02-15T06:42:09.993Z"
   },
   {
    "duration": 10,
    "start_time": "2023-02-15T06:42:10.001Z"
   },
   {
    "duration": 36,
    "start_time": "2023-02-15T06:42:10.013Z"
   },
   {
    "duration": 9,
    "start_time": "2023-02-15T06:42:10.050Z"
   },
   {
    "duration": 20,
    "start_time": "2023-02-15T06:42:10.061Z"
   },
   {
    "duration": 9,
    "start_time": "2023-02-15T06:42:10.083Z"
   },
   {
    "duration": 19,
    "start_time": "2023-02-15T06:42:10.093Z"
   },
   {
    "duration": 41,
    "start_time": "2023-02-15T06:42:10.114Z"
   },
   {
    "duration": 38,
    "start_time": "2023-02-15T06:42:10.157Z"
   },
   {
    "duration": 33,
    "start_time": "2023-02-15T06:42:10.196Z"
   },
   {
    "duration": 4,
    "start_time": "2023-02-15T06:42:10.248Z"
   },
   {
    "duration": 28,
    "start_time": "2023-02-15T06:42:10.254Z"
   },
   {
    "duration": 25,
    "start_time": "2023-02-15T06:42:10.284Z"
   },
   {
    "duration": 44,
    "start_time": "2023-02-15T06:42:10.310Z"
   },
   {
    "duration": 7,
    "start_time": "2023-02-15T06:42:10.356Z"
   },
   {
    "duration": 49,
    "start_time": "2023-02-15T06:42:10.365Z"
   },
   {
    "duration": 9,
    "start_time": "2023-02-15T06:42:10.416Z"
   },
   {
    "duration": 3,
    "start_time": "2023-02-15T07:16:33.938Z"
   },
   {
    "duration": 165,
    "start_time": "2023-02-15T07:16:33.942Z"
   },
   {
    "duration": 7,
    "start_time": "2023-02-15T07:16:34.109Z"
   },
   {
    "duration": 13,
    "start_time": "2023-02-15T07:16:34.118Z"
   },
   {
    "duration": 19,
    "start_time": "2023-02-15T07:16:34.132Z"
   },
   {
    "duration": 8,
    "start_time": "2023-02-15T07:16:34.152Z"
   },
   {
    "duration": 21,
    "start_time": "2023-02-15T07:16:34.161Z"
   },
   {
    "duration": 15,
    "start_time": "2023-02-15T07:16:34.183Z"
   },
   {
    "duration": 76,
    "start_time": "2023-02-15T07:16:34.200Z"
   },
   {
    "duration": 72,
    "start_time": "2023-02-15T07:16:34.278Z"
   },
   {
    "duration": 3,
    "start_time": "2023-02-15T07:16:34.352Z"
   },
   {
    "duration": 10,
    "start_time": "2023-02-15T07:16:34.356Z"
   },
   {
    "duration": 82,
    "start_time": "2023-02-15T07:16:34.367Z"
   },
   {
    "duration": 36,
    "start_time": "2023-02-15T07:16:34.450Z"
   },
   {
    "duration": 6,
    "start_time": "2023-02-15T07:16:34.488Z"
   },
   {
    "duration": 6,
    "start_time": "2023-02-15T07:16:34.496Z"
   },
   {
    "duration": 6,
    "start_time": "2023-02-15T07:16:34.503Z"
   },
   {
    "duration": 39,
    "start_time": "2023-02-15T07:16:34.511Z"
   },
   {
    "duration": 12,
    "start_time": "2023-02-15T07:16:34.552Z"
   },
   {
    "duration": 11,
    "start_time": "2023-02-15T07:16:34.565Z"
   },
   {
    "duration": 17,
    "start_time": "2023-02-15T07:16:34.578Z"
   },
   {
    "duration": 4,
    "start_time": "2023-02-15T07:16:34.597Z"
   },
   {
    "duration": 54,
    "start_time": "2023-02-15T07:16:34.602Z"
   },
   {
    "duration": 6,
    "start_time": "2023-02-15T07:16:34.658Z"
   },
   {
    "duration": 6,
    "start_time": "2023-02-15T07:16:34.666Z"
   },
   {
    "duration": 9,
    "start_time": "2023-02-15T07:16:34.673Z"
   },
   {
    "duration": 4,
    "start_time": "2023-02-15T07:16:34.683Z"
   },
   {
    "duration": 503,
    "start_time": "2023-02-15T07:16:34.691Z"
   },
   {
    "duration": 20,
    "start_time": "2023-02-15T07:16:35.196Z"
   },
   {
    "duration": 33,
    "start_time": "2023-02-15T07:16:35.218Z"
   },
   {
    "duration": 11,
    "start_time": "2023-02-15T07:16:35.253Z"
   },
   {
    "duration": 7,
    "start_time": "2023-02-15T07:16:35.266Z"
   },
   {
    "duration": 6,
    "start_time": "2023-02-15T07:16:35.275Z"
   },
   {
    "duration": 7,
    "start_time": "2023-02-15T07:16:35.283Z"
   },
   {
    "duration": 6,
    "start_time": "2023-02-15T07:16:35.292Z"
   },
   {
    "duration": 64,
    "start_time": "2023-02-15T07:16:35.300Z"
   },
   {
    "duration": 75,
    "start_time": "2023-02-15T07:16:35.366Z"
   },
   {
    "duration": 7,
    "start_time": "2023-02-15T07:16:35.449Z"
   },
   {
    "duration": 8,
    "start_time": "2023-02-15T07:16:35.458Z"
   },
   {
    "duration": 97,
    "start_time": "2023-02-15T07:16:35.467Z"
   },
   {
    "duration": 4,
    "start_time": "2023-02-15T07:16:35.566Z"
   },
   {
    "duration": 23,
    "start_time": "2023-02-15T07:16:35.572Z"
   },
   {
    "duration": 9,
    "start_time": "2023-02-15T07:16:35.596Z"
   },
   {
    "duration": 10,
    "start_time": "2023-02-15T07:16:35.606Z"
   },
   {
    "duration": 9,
    "start_time": "2023-02-15T07:16:35.617Z"
   },
   {
    "duration": 7,
    "start_time": "2023-02-15T07:16:35.627Z"
   },
   {
    "duration": 26,
    "start_time": "2023-02-15T07:16:35.648Z"
   },
   {
    "duration": 27,
    "start_time": "2023-02-15T07:16:35.676Z"
   },
   {
    "duration": 3,
    "start_time": "2023-02-15T07:16:35.705Z"
   },
   {
    "duration": 14,
    "start_time": "2023-02-15T07:16:35.709Z"
   },
   {
    "duration": 28,
    "start_time": "2023-02-15T07:16:35.724Z"
   },
   {
    "duration": 11,
    "start_time": "2023-02-15T07:16:35.754Z"
   },
   {
    "duration": 10,
    "start_time": "2023-02-15T07:16:35.766Z"
   },
   {
    "duration": 18,
    "start_time": "2023-02-15T07:16:35.778Z"
   },
   {
    "duration": 8,
    "start_time": "2023-02-15T07:16:35.798Z"
   },
   {
    "duration": 41,
    "start_time": "2023-02-15T07:16:35.808Z"
   },
   {
    "duration": 8,
    "start_time": "2023-02-15T07:16:35.850Z"
   },
   {
    "duration": 22,
    "start_time": "2023-02-15T07:16:35.859Z"
   },
   {
    "duration": 45,
    "start_time": "2023-02-15T07:16:35.882Z"
   },
   {
    "duration": 33,
    "start_time": "2023-02-15T07:16:35.929Z"
   },
   {
    "duration": 41,
    "start_time": "2023-02-15T07:16:35.963Z"
   },
   {
    "duration": 5,
    "start_time": "2023-02-15T07:16:36.005Z"
   },
   {
    "duration": 44,
    "start_time": "2023-02-15T07:16:36.011Z"
   },
   {
    "duration": 26,
    "start_time": "2023-02-15T07:16:36.057Z"
   },
   {
    "duration": 27,
    "start_time": "2023-02-15T07:16:36.085Z"
   },
   {
    "duration": 9,
    "start_time": "2023-02-15T07:16:36.114Z"
   },
   {
    "duration": 61,
    "start_time": "2023-02-15T07:16:36.124Z"
   },
   {
    "duration": 9,
    "start_time": "2023-02-15T07:16:36.187Z"
   },
   {
    "duration": 7,
    "start_time": "2023-02-15T07:21:00.321Z"
   },
   {
    "duration": 49,
    "start_time": "2023-02-15T07:23:43.222Z"
   },
   {
    "duration": 50,
    "start_time": "2023-02-15T07:24:44.522Z"
   },
   {
    "duration": 50,
    "start_time": "2023-02-15T07:25:12.740Z"
   },
   {
    "duration": 24,
    "start_time": "2023-02-15T07:30:49.571Z"
   },
   {
    "duration": 27,
    "start_time": "2023-02-15T07:31:06.272Z"
   },
   {
    "duration": 24,
    "start_time": "2023-02-15T07:31:14.104Z"
   },
   {
    "duration": 49,
    "start_time": "2023-02-15T07:33:47.592Z"
   },
   {
    "duration": 48,
    "start_time": "2023-02-15T07:34:04.931Z"
   },
   {
    "duration": 53,
    "start_time": "2023-02-15T07:34:25.923Z"
   },
   {
    "duration": 24,
    "start_time": "2023-02-15T07:41:57.674Z"
   },
   {
    "duration": 25,
    "start_time": "2023-02-15T07:42:47.472Z"
   },
   {
    "duration": 26,
    "start_time": "2023-02-15T07:42:56.598Z"
   },
   {
    "duration": 63,
    "start_time": "2023-02-15T07:45:11.483Z"
   },
   {
    "duration": 53,
    "start_time": "2023-02-15T07:45:43.559Z"
   },
   {
    "duration": 47,
    "start_time": "2023-02-15T07:46:01.490Z"
   },
   {
    "duration": 23,
    "start_time": "2023-02-15T07:50:42.666Z"
   },
   {
    "duration": 24,
    "start_time": "2023-02-15T07:51:07.041Z"
   },
   {
    "duration": 24,
    "start_time": "2023-02-15T07:51:14.087Z"
   },
   {
    "duration": 43,
    "start_time": "2023-02-15T07:52:04.334Z"
   },
   {
    "duration": 44,
    "start_time": "2023-02-15T07:52:18.735Z"
   },
   {
    "duration": 45,
    "start_time": "2023-02-15T07:52:30.982Z"
   },
   {
    "duration": 5,
    "start_time": "2023-02-15T08:05:15.943Z"
   },
   {
    "duration": 120,
    "start_time": "2023-02-15T08:05:39.489Z"
   },
   {
    "duration": 4,
    "start_time": "2023-02-15T08:06:14.871Z"
   },
   {
    "duration": 30,
    "start_time": "2023-02-15T08:06:17.169Z"
   },
   {
    "duration": 3,
    "start_time": "2023-02-15T08:07:45.895Z"
   },
   {
    "duration": 29,
    "start_time": "2023-02-15T08:07:48.657Z"
   },
   {
    "duration": 5,
    "start_time": "2023-02-15T08:08:43.620Z"
   },
   {
    "duration": 28,
    "start_time": "2023-02-15T08:08:45.656Z"
   },
   {
    "duration": 5,
    "start_time": "2023-02-15T08:10:32.771Z"
   },
   {
    "duration": 31,
    "start_time": "2023-02-15T08:10:35.105Z"
   },
   {
    "duration": 4,
    "start_time": "2023-02-15T08:12:42.928Z"
   },
   {
    "duration": 31,
    "start_time": "2023-02-15T08:12:45.002Z"
   },
   {
    "duration": 4,
    "start_time": "2023-02-15T08:13:55.441Z"
   },
   {
    "duration": 30,
    "start_time": "2023-02-15T08:13:57.796Z"
   },
   {
    "duration": 6,
    "start_time": "2023-02-15T08:14:28.148Z"
   },
   {
    "duration": 30,
    "start_time": "2023-02-15T08:14:29.994Z"
   },
   {
    "duration": 7,
    "start_time": "2023-02-15T08:18:33.060Z"
   },
   {
    "duration": 9,
    "start_time": "2023-02-15T08:21:22.455Z"
   },
   {
    "duration": 7,
    "start_time": "2023-02-15T08:21:30.507Z"
   },
   {
    "duration": 51,
    "start_time": "2023-02-15T08:22:08.424Z"
   },
   {
    "duration": 7,
    "start_time": "2023-02-15T08:25:18.365Z"
   },
   {
    "duration": 49,
    "start_time": "2023-02-15T08:25:21.628Z"
   },
   {
    "duration": 7,
    "start_time": "2023-02-15T08:27:23.841Z"
   },
   {
    "duration": 49,
    "start_time": "2023-02-15T08:27:26.554Z"
   },
   {
    "duration": 33,
    "start_time": "2023-02-15T08:32:01.073Z"
   },
   {
    "duration": 28,
    "start_time": "2023-02-15T08:32:37.108Z"
   },
   {
    "duration": 4,
    "start_time": "2023-02-15T08:32:53.813Z"
   },
   {
    "duration": 27,
    "start_time": "2023-02-15T08:34:22.126Z"
   },
   {
    "duration": 56,
    "start_time": "2023-02-15T08:35:01.595Z"
   },
   {
    "duration": 31,
    "start_time": "2023-02-15T08:39:27.505Z"
   },
   {
    "duration": 24,
    "start_time": "2023-02-15T08:39:31.137Z"
   },
   {
    "duration": 51,
    "start_time": "2023-02-15T08:39:34.866Z"
   },
   {
    "duration": 32,
    "start_time": "2023-02-15T08:41:46.598Z"
   },
   {
    "duration": 26,
    "start_time": "2023-02-15T08:41:51.476Z"
   },
   {
    "duration": 50,
    "start_time": "2023-02-15T08:41:54.332Z"
   },
   {
    "duration": 32,
    "start_time": "2023-02-15T08:44:24.872Z"
   },
   {
    "duration": 27,
    "start_time": "2023-02-15T08:44:26.902Z"
   },
   {
    "duration": 52,
    "start_time": "2023-02-15T08:44:30.033Z"
   },
   {
    "duration": 29,
    "start_time": "2023-02-15T08:44:50.139Z"
   },
   {
    "duration": 24,
    "start_time": "2023-02-15T08:44:52.812Z"
   },
   {
    "duration": 52,
    "start_time": "2023-02-15T08:44:58.701Z"
   },
   {
    "duration": 1158,
    "start_time": "2023-02-15T08:48:56.946Z"
   },
   {
    "duration": 170,
    "start_time": "2023-02-15T08:48:58.106Z"
   },
   {
    "duration": 11,
    "start_time": "2023-02-15T08:48:58.278Z"
   },
   {
    "duration": 16,
    "start_time": "2023-02-15T08:48:58.291Z"
   },
   {
    "duration": 5,
    "start_time": "2023-02-15T08:48:58.309Z"
   },
   {
    "duration": 7,
    "start_time": "2023-02-15T08:48:58.316Z"
   },
   {
    "duration": 48,
    "start_time": "2023-02-15T08:48:58.324Z"
   },
   {
    "duration": 17,
    "start_time": "2023-02-15T08:48:58.374Z"
   },
   {
    "duration": 93,
    "start_time": "2023-02-15T08:48:58.393Z"
   },
   {
    "duration": 81,
    "start_time": "2023-02-15T08:48:58.490Z"
   },
   {
    "duration": 3,
    "start_time": "2023-02-15T08:48:58.573Z"
   },
   {
    "duration": 15,
    "start_time": "2023-02-15T08:48:58.577Z"
   },
   {
    "duration": 82,
    "start_time": "2023-02-15T08:48:58.594Z"
   },
   {
    "duration": 46,
    "start_time": "2023-02-15T08:48:58.679Z"
   },
   {
    "duration": 21,
    "start_time": "2023-02-15T08:48:58.727Z"
   },
   {
    "duration": 7,
    "start_time": "2023-02-15T08:48:58.750Z"
   },
   {
    "duration": 6,
    "start_time": "2023-02-15T08:48:58.759Z"
   },
   {
    "duration": 17,
    "start_time": "2023-02-15T08:48:58.767Z"
   },
   {
    "duration": 12,
    "start_time": "2023-02-15T08:48:58.786Z"
   },
   {
    "duration": 12,
    "start_time": "2023-02-15T08:48:58.800Z"
   },
   {
    "duration": 21,
    "start_time": "2023-02-15T08:48:58.849Z"
   },
   {
    "duration": 5,
    "start_time": "2023-02-15T08:48:58.871Z"
   },
   {
    "duration": 24,
    "start_time": "2023-02-15T08:48:58.878Z"
   },
   {
    "duration": 6,
    "start_time": "2023-02-15T08:48:58.904Z"
   },
   {
    "duration": 6,
    "start_time": "2023-02-15T08:48:58.912Z"
   },
   {
    "duration": 30,
    "start_time": "2023-02-15T08:48:58.920Z"
   },
   {
    "duration": 6,
    "start_time": "2023-02-15T08:48:58.952Z"
   },
   {
    "duration": 529,
    "start_time": "2023-02-15T08:48:58.964Z"
   },
   {
    "duration": 31,
    "start_time": "2023-02-15T08:48:59.495Z"
   },
   {
    "duration": 33,
    "start_time": "2023-02-15T08:48:59.528Z"
   },
   {
    "duration": 14,
    "start_time": "2023-02-15T08:48:59.563Z"
   },
   {
    "duration": 7,
    "start_time": "2023-02-15T08:48:59.580Z"
   },
   {
    "duration": 7,
    "start_time": "2023-02-15T08:48:59.589Z"
   },
   {
    "duration": 11,
    "start_time": "2023-02-15T08:48:59.598Z"
   },
   {
    "duration": 38,
    "start_time": "2023-02-15T08:48:59.611Z"
   },
   {
    "duration": 24,
    "start_time": "2023-02-15T08:48:59.651Z"
   },
   {
    "duration": 74,
    "start_time": "2023-02-15T08:48:59.677Z"
   },
   {
    "duration": 5,
    "start_time": "2023-02-15T08:48:59.753Z"
   },
   {
    "duration": 8,
    "start_time": "2023-02-15T08:48:59.760Z"
   },
   {
    "duration": 98,
    "start_time": "2023-02-15T08:48:59.769Z"
   },
   {
    "duration": 5,
    "start_time": "2023-02-15T08:48:59.868Z"
   },
   {
    "duration": 14,
    "start_time": "2023-02-15T08:48:59.874Z"
   },
   {
    "duration": 6,
    "start_time": "2023-02-15T08:48:59.889Z"
   },
   {
    "duration": 7,
    "start_time": "2023-02-15T08:48:59.897Z"
   },
   {
    "duration": 6,
    "start_time": "2023-02-15T08:48:59.906Z"
   },
   {
    "duration": 13,
    "start_time": "2023-02-15T08:48:59.914Z"
   },
   {
    "duration": 8,
    "start_time": "2023-02-15T08:48:59.949Z"
   },
   {
    "duration": 18,
    "start_time": "2023-02-15T08:48:59.958Z"
   },
   {
    "duration": 11,
    "start_time": "2023-02-15T08:48:59.978Z"
   },
   {
    "duration": 20,
    "start_time": "2023-02-15T08:48:59.990Z"
   },
   {
    "duration": 30,
    "start_time": "2023-02-15T08:49:00.012Z"
   },
   {
    "duration": 22,
    "start_time": "2023-02-15T08:49:00.045Z"
   },
   {
    "duration": 51,
    "start_time": "2023-02-15T08:49:00.069Z"
   },
   {
    "duration": 28,
    "start_time": "2023-02-15T08:49:00.122Z"
   },
   {
    "duration": 29,
    "start_time": "2023-02-15T08:49:00.152Z"
   },
   {
    "duration": 4,
    "start_time": "2023-02-15T08:49:00.183Z"
   },
   {
    "duration": 56,
    "start_time": "2023-02-15T08:49:00.188Z"
   },
   {
    "duration": 25,
    "start_time": "2023-02-15T08:49:00.245Z"
   },
   {
    "duration": 50,
    "start_time": "2023-02-15T08:49:00.272Z"
   },
   {
    "duration": 10,
    "start_time": "2023-02-15T08:49:00.324Z"
   },
   {
    "duration": 68,
    "start_time": "2023-02-15T08:49:00.335Z"
   },
   {
    "duration": 51,
    "start_time": "2023-02-15T08:49:00.405Z"
   },
   {
    "duration": 50,
    "start_time": "2023-02-15T08:49:00.457Z"
   },
   {
    "duration": 48,
    "start_time": "2023-02-15T08:49:00.509Z"
   },
   {
    "duration": 27,
    "start_time": "2023-02-15T08:49:00.559Z"
   },
   {
    "duration": 45,
    "start_time": "2023-02-15T08:49:00.588Z"
   },
   {
    "duration": 79,
    "start_time": "2023-02-15T08:49:00.635Z"
   },
   {
    "duration": 48,
    "start_time": "2023-02-15T08:49:00.715Z"
   },
   {
    "duration": 47,
    "start_time": "2023-02-15T08:49:00.764Z"
   },
   {
    "duration": 41,
    "start_time": "2023-02-15T08:49:00.813Z"
   },
   {
    "duration": 48,
    "start_time": "2023-02-15T08:49:00.855Z"
   },
   {
    "duration": 67,
    "start_time": "2023-02-15T08:49:00.904Z"
   },
   {
    "duration": 81,
    "start_time": "2023-02-15T08:49:00.973Z"
   },
   {
    "duration": 47,
    "start_time": "2023-02-15T08:49:01.056Z"
   },
   {
    "duration": 61,
    "start_time": "2023-02-15T08:49:01.105Z"
   },
   {
    "duration": 24,
    "start_time": "2023-02-15T08:49:01.167Z"
   },
   {
    "duration": 25,
    "start_time": "2023-02-15T08:49:01.193Z"
   },
   {
    "duration": 43,
    "start_time": "2023-02-15T08:49:01.220Z"
   },
   {
    "duration": 51,
    "start_time": "2023-02-15T08:49:01.265Z"
   },
   {
    "duration": 81,
    "start_time": "2023-02-15T08:49:01.318Z"
   },
   {
    "duration": 52,
    "start_time": "2023-02-15T08:49:01.401Z"
   },
   {
    "duration": 4,
    "start_time": "2023-02-15T08:49:01.459Z"
   },
   {
    "duration": 71,
    "start_time": "2023-02-15T08:49:01.464Z"
   },
   {
    "duration": 71,
    "start_time": "2023-02-15T08:49:01.537Z"
   },
   {
    "duration": 39,
    "start_time": "2023-02-15T08:49:01.611Z"
   },
   {
    "duration": 67,
    "start_time": "2023-02-15T08:49:01.651Z"
   },
   {
    "duration": 31,
    "start_time": "2023-02-15T08:49:01.720Z"
   },
   {
    "duration": 31,
    "start_time": "2023-02-15T08:49:01.753Z"
   },
   {
    "duration": 63,
    "start_time": "2023-02-15T08:49:01.786Z"
   },
   {
    "duration": 31,
    "start_time": "2023-02-15T08:49:01.851Z"
   },
   {
    "duration": 27,
    "start_time": "2023-02-15T08:49:01.884Z"
   },
   {
    "duration": 76,
    "start_time": "2023-02-15T08:49:01.913Z"
   },
   {
    "duration": 30,
    "start_time": "2023-02-15T08:49:01.990Z"
   },
   {
    "duration": 38,
    "start_time": "2023-02-15T08:49:02.022Z"
   },
   {
    "duration": 53,
    "start_time": "2023-02-15T08:49:02.062Z"
   },
   {
    "duration": 9,
    "start_time": "2023-02-15T08:49:02.117Z"
   },
   {
    "duration": 33,
    "start_time": "2023-02-15T08:49:02.127Z"
   },
   {
    "duration": 9,
    "start_time": "2023-02-15T09:14:57.963Z"
   },
   {
    "duration": 57,
    "start_time": "2023-02-15T09:15:30.353Z"
   },
   {
    "duration": 52,
    "start_time": "2023-02-15T09:15:38.038Z"
   },
   {
    "duration": 86,
    "start_time": "2023-02-15T10:42:05.422Z"
   },
   {
    "duration": 201,
    "start_time": "2023-02-15T10:42:19.266Z"
   },
   {
    "duration": 131,
    "start_time": "2023-02-15T10:42:26.991Z"
   },
   {
    "duration": 102,
    "start_time": "2023-02-15T10:42:55.176Z"
   },
   {
    "duration": 105,
    "start_time": "2023-02-15T11:19:15.649Z"
   },
   {
    "duration": 4,
    "start_time": "2023-02-15T11:19:19.767Z"
   },
   {
    "duration": 198,
    "start_time": "2023-02-15T11:19:19.773Z"
   },
   {
    "duration": 9,
    "start_time": "2023-02-15T11:19:19.973Z"
   },
   {
    "duration": 16,
    "start_time": "2023-02-15T11:19:19.984Z"
   },
   {
    "duration": 4,
    "start_time": "2023-02-15T11:19:20.004Z"
   },
   {
    "duration": 50,
    "start_time": "2023-02-15T11:19:20.010Z"
   },
   {
    "duration": 34,
    "start_time": "2023-02-15T11:19:20.061Z"
   },
   {
    "duration": 19,
    "start_time": "2023-02-15T11:19:20.099Z"
   },
   {
    "duration": 82,
    "start_time": "2023-02-15T11:19:20.120Z"
   },
   {
    "duration": 86,
    "start_time": "2023-02-15T11:19:20.204Z"
   },
   {
    "duration": 3,
    "start_time": "2023-02-15T11:19:20.292Z"
   },
   {
    "duration": 16,
    "start_time": "2023-02-15T11:19:20.296Z"
   },
   {
    "duration": 90,
    "start_time": "2023-02-15T11:19:20.314Z"
   },
   {
    "duration": 56,
    "start_time": "2023-02-15T11:19:20.408Z"
   },
   {
    "duration": 20,
    "start_time": "2023-02-15T11:19:20.466Z"
   },
   {
    "duration": 5,
    "start_time": "2023-02-15T11:19:20.488Z"
   },
   {
    "duration": 12,
    "start_time": "2023-02-15T11:19:20.495Z"
   },
   {
    "duration": 15,
    "start_time": "2023-02-15T11:19:20.509Z"
   },
   {
    "duration": 12,
    "start_time": "2023-02-15T11:19:20.526Z"
   },
   {
    "duration": 19,
    "start_time": "2023-02-15T11:19:20.553Z"
   },
   {
    "duration": 20,
    "start_time": "2023-02-15T11:19:20.574Z"
   },
   {
    "duration": 17,
    "start_time": "2023-02-15T11:19:20.596Z"
   },
   {
    "duration": 44,
    "start_time": "2023-02-15T11:19:20.615Z"
   },
   {
    "duration": 9,
    "start_time": "2023-02-15T11:19:20.661Z"
   },
   {
    "duration": 8,
    "start_time": "2023-02-15T11:19:20.672Z"
   },
   {
    "duration": 15,
    "start_time": "2023-02-15T11:19:20.682Z"
   },
   {
    "duration": 5,
    "start_time": "2023-02-15T11:19:20.699Z"
   },
   {
    "duration": 496,
    "start_time": "2023-02-15T11:19:20.706Z"
   },
   {
    "duration": 19,
    "start_time": "2023-02-15T11:19:21.204Z"
   },
   {
    "duration": 38,
    "start_time": "2023-02-15T11:19:21.225Z"
   },
   {
    "duration": 12,
    "start_time": "2023-02-15T11:19:21.265Z"
   },
   {
    "duration": 7,
    "start_time": "2023-02-15T11:19:21.279Z"
   },
   {
    "duration": 6,
    "start_time": "2023-02-15T11:19:21.288Z"
   },
   {
    "duration": 8,
    "start_time": "2023-02-15T11:19:21.296Z"
   },
   {
    "duration": 7,
    "start_time": "2023-02-15T11:19:21.306Z"
   },
   {
    "duration": 66,
    "start_time": "2023-02-15T11:19:21.315Z"
   },
   {
    "duration": 81,
    "start_time": "2023-02-15T11:19:21.383Z"
   },
   {
    "duration": 6,
    "start_time": "2023-02-15T11:19:21.466Z"
   },
   {
    "duration": 20,
    "start_time": "2023-02-15T11:19:21.473Z"
   },
   {
    "duration": 93,
    "start_time": "2023-02-15T11:19:21.494Z"
   },
   {
    "duration": 4,
    "start_time": "2023-02-15T11:19:21.592Z"
   },
   {
    "duration": 13,
    "start_time": "2023-02-15T11:19:21.597Z"
   },
   {
    "duration": 6,
    "start_time": "2023-02-15T11:19:21.612Z"
   },
   {
    "duration": 9,
    "start_time": "2023-02-15T11:19:21.620Z"
   },
   {
    "duration": 27,
    "start_time": "2023-02-15T11:19:21.631Z"
   },
   {
    "duration": 14,
    "start_time": "2023-02-15T11:19:21.663Z"
   },
   {
    "duration": 14,
    "start_time": "2023-02-15T11:19:21.678Z"
   },
   {
    "duration": 18,
    "start_time": "2023-02-15T11:19:21.693Z"
   },
   {
    "duration": 8,
    "start_time": "2023-02-15T11:19:21.712Z"
   },
   {
    "duration": 30,
    "start_time": "2023-02-15T11:19:21.722Z"
   },
   {
    "duration": 8,
    "start_time": "2023-02-15T11:19:21.764Z"
   },
   {
    "duration": 9,
    "start_time": "2023-02-15T11:19:21.774Z"
   },
   {
    "duration": 34,
    "start_time": "2023-02-15T11:19:21.784Z"
   },
   {
    "duration": 46,
    "start_time": "2023-02-15T11:19:21.819Z"
   },
   {
    "duration": 43,
    "start_time": "2023-02-15T11:19:21.867Z"
   },
   {
    "duration": 6,
    "start_time": "2023-02-15T11:19:21.912Z"
   },
   {
    "duration": 51,
    "start_time": "2023-02-15T11:19:21.920Z"
   },
   {
    "duration": 26,
    "start_time": "2023-02-15T11:19:21.973Z"
   },
   {
    "duration": 27,
    "start_time": "2023-02-15T11:19:22.001Z"
   },
   {
    "duration": 12,
    "start_time": "2023-02-15T11:19:22.052Z"
   },
   {
    "duration": 54,
    "start_time": "2023-02-15T11:19:22.068Z"
   },
   {
    "duration": 68,
    "start_time": "2023-02-15T11:19:22.124Z"
   },
   {
    "duration": 75,
    "start_time": "2023-02-15T11:19:22.194Z"
   },
   {
    "duration": 24,
    "start_time": "2023-02-15T11:19:22.271Z"
   },
   {
    "duration": 25,
    "start_time": "2023-02-15T11:19:22.296Z"
   },
   {
    "duration": 45,
    "start_time": "2023-02-15T11:19:22.322Z"
   },
   {
    "duration": 45,
    "start_time": "2023-02-15T11:19:22.368Z"
   },
   {
    "duration": 85,
    "start_time": "2023-02-15T11:19:22.415Z"
   },
   {
    "duration": 73,
    "start_time": "2023-02-15T11:19:22.502Z"
   },
   {
    "duration": 33,
    "start_time": "2023-02-15T11:19:22.577Z"
   },
   {
    "duration": 52,
    "start_time": "2023-02-15T11:19:22.612Z"
   },
   {
    "duration": 25,
    "start_time": "2023-02-15T11:19:22.665Z"
   },
   {
    "duration": 65,
    "start_time": "2023-02-15T11:19:22.692Z"
   },
   {
    "duration": 53,
    "start_time": "2023-02-15T11:19:22.761Z"
   },
   {
    "duration": 58,
    "start_time": "2023-02-15T11:19:22.816Z"
   },
   {
    "duration": 22,
    "start_time": "2023-02-15T11:19:22.876Z"
   },
   {
    "duration": 23,
    "start_time": "2023-02-15T11:19:22.900Z"
   },
   {
    "duration": 52,
    "start_time": "2023-02-15T11:19:22.924Z"
   },
   {
    "duration": 43,
    "start_time": "2023-02-15T11:19:22.978Z"
   },
   {
    "duration": 73,
    "start_time": "2023-02-15T11:19:23.022Z"
   },
   {
    "duration": 66,
    "start_time": "2023-02-15T11:19:23.096Z"
   },
   {
    "duration": 4,
    "start_time": "2023-02-15T11:19:23.164Z"
   },
   {
    "duration": 9,
    "start_time": "2023-02-15T11:19:23.169Z"
   },
   {
    "duration": 40,
    "start_time": "2023-02-15T11:19:23.179Z"
   },
   {
    "duration": 40,
    "start_time": "2023-02-15T11:19:23.221Z"
   },
   {
    "duration": 55,
    "start_time": "2023-02-15T11:19:23.262Z"
   },
   {
    "duration": 49,
    "start_time": "2023-02-15T11:19:23.319Z"
   },
   {
    "duration": 26,
    "start_time": "2023-02-15T11:19:23.369Z"
   },
   {
    "duration": 89,
    "start_time": "2023-02-15T11:19:23.397Z"
   },
   {
    "duration": 37,
    "start_time": "2023-02-15T11:19:23.488Z"
   },
   {
    "duration": 50,
    "start_time": "2023-02-15T11:19:23.528Z"
   },
   {
    "duration": 70,
    "start_time": "2023-02-15T11:19:23.580Z"
   },
   {
    "duration": 34,
    "start_time": "2023-02-15T11:19:23.657Z"
   },
   {
    "duration": 30,
    "start_time": "2023-02-15T11:19:23.692Z"
   },
   {
    "duration": 77,
    "start_time": "2023-02-15T11:19:23.724Z"
   },
   {
    "duration": 1202,
    "start_time": "2023-02-15T11:57:41.948Z"
   },
   {
    "duration": 162,
    "start_time": "2023-02-15T11:57:43.152Z"
   },
   {
    "duration": 10,
    "start_time": "2023-02-15T11:57:43.316Z"
   },
   {
    "duration": 21,
    "start_time": "2023-02-15T11:57:43.328Z"
   },
   {
    "duration": 4,
    "start_time": "2023-02-15T11:57:43.351Z"
   },
   {
    "duration": 7,
    "start_time": "2023-02-15T11:57:43.356Z"
   },
   {
    "duration": 21,
    "start_time": "2023-02-15T11:57:43.364Z"
   },
   {
    "duration": 17,
    "start_time": "2023-02-15T11:57:43.387Z"
   },
   {
    "duration": 94,
    "start_time": "2023-02-15T11:57:43.406Z"
   },
   {
    "duration": 73,
    "start_time": "2023-02-15T11:57:43.502Z"
   },
   {
    "duration": 3,
    "start_time": "2023-02-15T11:57:43.577Z"
   },
   {
    "duration": 15,
    "start_time": "2023-02-15T11:57:43.582Z"
   },
   {
    "duration": 91,
    "start_time": "2023-02-15T11:57:43.598Z"
   },
   {
    "duration": 45,
    "start_time": "2023-02-15T11:57:43.694Z"
   },
   {
    "duration": 12,
    "start_time": "2023-02-15T11:57:43.741Z"
   },
   {
    "duration": 7,
    "start_time": "2023-02-15T11:57:43.755Z"
   },
   {
    "duration": 9,
    "start_time": "2023-02-15T11:57:43.764Z"
   },
   {
    "duration": 26,
    "start_time": "2023-02-15T11:57:43.775Z"
   },
   {
    "duration": 12,
    "start_time": "2023-02-15T11:57:43.802Z"
   },
   {
    "duration": 13,
    "start_time": "2023-02-15T11:57:43.815Z"
   },
   {
    "duration": 17,
    "start_time": "2023-02-15T11:57:43.849Z"
   },
   {
    "duration": 4,
    "start_time": "2023-02-15T11:57:43.868Z"
   },
   {
    "duration": 19,
    "start_time": "2023-02-15T11:57:43.874Z"
   },
   {
    "duration": 7,
    "start_time": "2023-02-15T11:57:43.895Z"
   },
   {
    "duration": 8,
    "start_time": "2023-02-15T11:57:43.904Z"
   },
   {
    "duration": 36,
    "start_time": "2023-02-15T11:57:43.913Z"
   },
   {
    "duration": 4,
    "start_time": "2023-02-15T11:57:43.951Z"
   },
   {
    "duration": 481,
    "start_time": "2023-02-15T11:57:43.957Z"
   },
   {
    "duration": 30,
    "start_time": "2023-02-15T11:57:44.440Z"
   },
   {
    "duration": 15,
    "start_time": "2023-02-15T11:57:44.471Z"
   },
   {
    "duration": 10,
    "start_time": "2023-02-15T11:57:44.488Z"
   },
   {
    "duration": 7,
    "start_time": "2023-02-15T11:57:44.499Z"
   },
   {
    "duration": 7,
    "start_time": "2023-02-15T11:57:44.507Z"
   },
   {
    "duration": 38,
    "start_time": "2023-02-15T11:57:44.515Z"
   },
   {
    "duration": 12,
    "start_time": "2023-02-15T11:57:44.554Z"
   },
   {
    "duration": 23,
    "start_time": "2023-02-15T11:57:44.568Z"
   },
   {
    "duration": 84,
    "start_time": "2023-02-15T11:57:44.593Z"
   },
   {
    "duration": 7,
    "start_time": "2023-02-15T11:57:44.678Z"
   },
   {
    "duration": 8,
    "start_time": "2023-02-15T11:57:44.686Z"
   },
   {
    "duration": 91,
    "start_time": "2023-02-15T11:57:44.696Z"
   },
   {
    "duration": 5,
    "start_time": "2023-02-15T11:57:44.792Z"
   },
   {
    "duration": 13,
    "start_time": "2023-02-15T11:57:44.799Z"
   },
   {
    "duration": 8,
    "start_time": "2023-02-15T11:57:44.813Z"
   },
   {
    "duration": 11,
    "start_time": "2023-02-15T11:57:44.823Z"
   },
   {
    "duration": 17,
    "start_time": "2023-02-15T11:57:44.836Z"
   },
   {
    "duration": 7,
    "start_time": "2023-02-15T11:57:44.855Z"
   },
   {
    "duration": 9,
    "start_time": "2023-02-15T11:57:44.864Z"
   },
   {
    "duration": 18,
    "start_time": "2023-02-15T11:57:44.874Z"
   },
   {
    "duration": 10,
    "start_time": "2023-02-15T11:57:44.894Z"
   },
   {
    "duration": 52,
    "start_time": "2023-02-15T11:57:44.906Z"
   },
   {
    "duration": 8,
    "start_time": "2023-02-15T11:57:44.960Z"
   },
   {
    "duration": 6,
    "start_time": "2023-02-15T11:57:44.970Z"
   },
   {
    "duration": 36,
    "start_time": "2023-02-15T11:57:44.977Z"
   },
   {
    "duration": 51,
    "start_time": "2023-02-15T11:57:45.015Z"
   },
   {
    "duration": 30,
    "start_time": "2023-02-15T11:57:45.067Z"
   },
   {
    "duration": 3,
    "start_time": "2023-02-15T11:57:45.099Z"
   },
   {
    "duration": 44,
    "start_time": "2023-02-15T11:57:45.104Z"
   },
   {
    "duration": 24,
    "start_time": "2023-02-15T11:57:45.150Z"
   },
   {
    "duration": 25,
    "start_time": "2023-02-15T11:57:45.176Z"
   },
   {
    "duration": 7,
    "start_time": "2023-02-15T11:57:45.203Z"
   },
   {
    "duration": 75,
    "start_time": "2023-02-15T11:57:45.212Z"
   },
   {
    "duration": 61,
    "start_time": "2023-02-15T11:57:45.289Z"
   },
   {
    "duration": 55,
    "start_time": "2023-02-15T11:57:45.352Z"
   },
   {
    "duration": 24,
    "start_time": "2023-02-15T11:57:45.409Z"
   },
   {
    "duration": 24,
    "start_time": "2023-02-15T11:57:45.449Z"
   },
   {
    "duration": 22,
    "start_time": "2023-02-15T11:57:45.475Z"
   },
   {
    "duration": 57,
    "start_time": "2023-02-15T11:57:45.499Z"
   },
   {
    "duration": 42,
    "start_time": "2023-02-15T11:57:45.558Z"
   },
   {
    "duration": 58,
    "start_time": "2023-02-15T11:57:45.602Z"
   },
   {
    "duration": 25,
    "start_time": "2023-02-15T11:57:45.661Z"
   },
   {
    "duration": 24,
    "start_time": "2023-02-15T11:57:45.687Z"
   },
   {
    "duration": 40,
    "start_time": "2023-02-15T11:57:45.712Z"
   },
   {
    "duration": 43,
    "start_time": "2023-02-15T11:57:45.753Z"
   },
   {
    "duration": 62,
    "start_time": "2023-02-15T11:57:45.797Z"
   },
   {
    "duration": 44,
    "start_time": "2023-02-15T11:57:45.861Z"
   },
   {
    "duration": 22,
    "start_time": "2023-02-15T11:57:45.906Z"
   },
   {
    "duration": 23,
    "start_time": "2023-02-15T11:57:45.948Z"
   },
   {
    "duration": 25,
    "start_time": "2023-02-15T11:57:45.972Z"
   },
   {
    "duration": 52,
    "start_time": "2023-02-15T11:57:45.999Z"
   },
   {
    "duration": 41,
    "start_time": "2023-02-15T11:57:46.052Z"
   },
   {
    "duration": 58,
    "start_time": "2023-02-15T11:57:46.095Z"
   },
   {
    "duration": 3,
    "start_time": "2023-02-15T11:57:46.155Z"
   },
   {
    "duration": 9,
    "start_time": "2023-02-15T11:57:46.160Z"
   },
   {
    "duration": 36,
    "start_time": "2023-02-15T11:57:46.171Z"
   },
   {
    "duration": 42,
    "start_time": "2023-02-15T11:57:46.209Z"
   },
   {
    "duration": 54,
    "start_time": "2023-02-15T11:57:46.253Z"
   },
   {
    "duration": 46,
    "start_time": "2023-02-15T11:57:46.309Z"
   },
   {
    "duration": 21,
    "start_time": "2023-02-15T11:57:46.357Z"
   },
   {
    "duration": 49,
    "start_time": "2023-02-15T11:57:46.380Z"
   },
   {
    "duration": 47,
    "start_time": "2023-02-15T11:57:46.430Z"
   },
   {
    "duration": 24,
    "start_time": "2023-02-15T11:57:46.479Z"
   },
   {
    "duration": 74,
    "start_time": "2023-02-15T11:57:46.505Z"
   },
   {
    "duration": 27,
    "start_time": "2023-02-15T11:57:46.580Z"
   },
   {
    "duration": 22,
    "start_time": "2023-02-15T11:57:46.608Z"
   },
   {
    "duration": 66,
    "start_time": "2023-02-15T11:57:46.632Z"
   },
   {
    "duration": 429,
    "start_time": "2023-02-15T12:02:25.263Z"
   },
   {
    "duration": 1653,
    "start_time": "2023-02-15T12:04:16.137Z"
   },
   {
    "duration": 1369,
    "start_time": "2023-02-15T12:04:45.024Z"
   },
   {
    "duration": 193,
    "start_time": "2023-02-15T12:04:46.396Z"
   },
   {
    "duration": 11,
    "start_time": "2023-02-15T12:04:46.591Z"
   },
   {
    "duration": 17,
    "start_time": "2023-02-15T12:04:46.604Z"
   },
   {
    "duration": 5,
    "start_time": "2023-02-15T12:04:46.623Z"
   },
   {
    "duration": 29,
    "start_time": "2023-02-15T12:04:46.630Z"
   },
   {
    "duration": 33,
    "start_time": "2023-02-15T12:04:46.661Z"
   },
   {
    "duration": 17,
    "start_time": "2023-02-15T12:04:46.695Z"
   },
   {
    "duration": 83,
    "start_time": "2023-02-15T12:04:46.714Z"
   },
   {
    "duration": 79,
    "start_time": "2023-02-15T12:04:46.800Z"
   },
   {
    "duration": 3,
    "start_time": "2023-02-15T12:04:46.881Z"
   },
   {
    "duration": 17,
    "start_time": "2023-02-15T12:04:46.886Z"
   },
   {
    "duration": 84,
    "start_time": "2023-02-15T12:04:46.905Z"
   },
   {
    "duration": 41,
    "start_time": "2023-02-15T12:04:46.991Z"
   },
   {
    "duration": 20,
    "start_time": "2023-02-15T12:04:47.034Z"
   },
   {
    "duration": 6,
    "start_time": "2023-02-15T12:04:47.055Z"
   },
   {
    "duration": 6,
    "start_time": "2023-02-15T12:04:47.063Z"
   },
   {
    "duration": 22,
    "start_time": "2023-02-15T12:04:47.070Z"
   },
   {
    "duration": 12,
    "start_time": "2023-02-15T12:04:47.094Z"
   },
   {
    "duration": 48,
    "start_time": "2023-02-15T12:04:47.108Z"
   },
   {
    "duration": 24,
    "start_time": "2023-02-15T12:04:47.158Z"
   },
   {
    "duration": 5,
    "start_time": "2023-02-15T12:04:47.184Z"
   },
   {
    "duration": 19,
    "start_time": "2023-02-15T12:04:47.190Z"
   },
   {
    "duration": 13,
    "start_time": "2023-02-15T12:04:47.210Z"
   },
   {
    "duration": 26,
    "start_time": "2023-02-15T12:04:47.225Z"
   },
   {
    "duration": 15,
    "start_time": "2023-02-15T12:04:47.253Z"
   },
   {
    "duration": 7,
    "start_time": "2023-02-15T12:04:47.270Z"
   },
   {
    "duration": 509,
    "start_time": "2023-02-15T12:04:47.283Z"
   },
   {
    "duration": 23,
    "start_time": "2023-02-15T12:04:47.794Z"
   },
   {
    "duration": 34,
    "start_time": "2023-02-15T12:04:47.819Z"
   },
   {
    "duration": 13,
    "start_time": "2023-02-15T12:04:47.854Z"
   },
   {
    "duration": 8,
    "start_time": "2023-02-15T12:04:47.869Z"
   },
   {
    "duration": 21,
    "start_time": "2023-02-15T12:04:47.879Z"
   },
   {
    "duration": 7,
    "start_time": "2023-02-15T12:04:47.902Z"
   },
   {
    "duration": 7,
    "start_time": "2023-02-15T12:04:47.910Z"
   },
   {
    "duration": 56,
    "start_time": "2023-02-15T12:04:47.918Z"
   },
   {
    "duration": 453,
    "start_time": "2023-02-15T12:04:47.976Z"
   },
   {
    "duration": 61,
    "start_time": "2023-02-15T12:04:48.431Z"
   },
   {
    "duration": 61,
    "start_time": "2023-02-15T12:04:48.494Z"
   },
   {
    "duration": 7,
    "start_time": "2023-02-15T12:04:48.557Z"
   },
   {
    "duration": 183,
    "start_time": "2023-02-15T12:04:48.566Z"
   },
   {
    "duration": 0,
    "start_time": "2023-02-15T12:04:48.751Z"
   },
   {
    "duration": 0,
    "start_time": "2023-02-15T12:04:48.752Z"
   },
   {
    "duration": 0,
    "start_time": "2023-02-15T12:04:48.753Z"
   },
   {
    "duration": 0,
    "start_time": "2023-02-15T12:04:48.754Z"
   },
   {
    "duration": 0,
    "start_time": "2023-02-15T12:04:48.755Z"
   },
   {
    "duration": 0,
    "start_time": "2023-02-15T12:04:48.756Z"
   },
   {
    "duration": 0,
    "start_time": "2023-02-15T12:04:48.757Z"
   },
   {
    "duration": 0,
    "start_time": "2023-02-15T12:04:48.758Z"
   },
   {
    "duration": 0,
    "start_time": "2023-02-15T12:04:48.759Z"
   },
   {
    "duration": 0,
    "start_time": "2023-02-15T12:04:48.760Z"
   },
   {
    "duration": 0,
    "start_time": "2023-02-15T12:04:48.761Z"
   },
   {
    "duration": 0,
    "start_time": "2023-02-15T12:04:48.762Z"
   },
   {
    "duration": 0,
    "start_time": "2023-02-15T12:04:48.763Z"
   },
   {
    "duration": 0,
    "start_time": "2023-02-15T12:04:48.765Z"
   },
   {
    "duration": 0,
    "start_time": "2023-02-15T12:04:48.765Z"
   },
   {
    "duration": 0,
    "start_time": "2023-02-15T12:04:48.766Z"
   },
   {
    "duration": 0,
    "start_time": "2023-02-15T12:04:48.767Z"
   },
   {
    "duration": 0,
    "start_time": "2023-02-15T12:04:48.769Z"
   },
   {
    "duration": 0,
    "start_time": "2023-02-15T12:04:48.769Z"
   },
   {
    "duration": 0,
    "start_time": "2023-02-15T12:04:48.770Z"
   },
   {
    "duration": 0,
    "start_time": "2023-02-15T12:04:48.772Z"
   },
   {
    "duration": 0,
    "start_time": "2023-02-15T12:04:48.773Z"
   },
   {
    "duration": 0,
    "start_time": "2023-02-15T12:04:48.774Z"
   },
   {
    "duration": 0,
    "start_time": "2023-02-15T12:04:48.775Z"
   },
   {
    "duration": 0,
    "start_time": "2023-02-15T12:04:48.776Z"
   },
   {
    "duration": 0,
    "start_time": "2023-02-15T12:04:48.777Z"
   },
   {
    "duration": 0,
    "start_time": "2023-02-15T12:04:48.778Z"
   },
   {
    "duration": 0,
    "start_time": "2023-02-15T12:04:48.779Z"
   },
   {
    "duration": 0,
    "start_time": "2023-02-15T12:04:48.780Z"
   },
   {
    "duration": 0,
    "start_time": "2023-02-15T12:04:48.781Z"
   },
   {
    "duration": 0,
    "start_time": "2023-02-15T12:04:48.781Z"
   },
   {
    "duration": 0,
    "start_time": "2023-02-15T12:04:48.783Z"
   },
   {
    "duration": 0,
    "start_time": "2023-02-15T12:04:48.784Z"
   },
   {
    "duration": 0,
    "start_time": "2023-02-15T12:04:48.785Z"
   },
   {
    "duration": 0,
    "start_time": "2023-02-15T12:04:48.786Z"
   },
   {
    "duration": 0,
    "start_time": "2023-02-15T12:04:48.787Z"
   },
   {
    "duration": 0,
    "start_time": "2023-02-15T12:04:48.848Z"
   },
   {
    "duration": 0,
    "start_time": "2023-02-15T12:04:48.849Z"
   },
   {
    "duration": 0,
    "start_time": "2023-02-15T12:04:48.850Z"
   },
   {
    "duration": 0,
    "start_time": "2023-02-15T12:04:48.852Z"
   },
   {
    "duration": 0,
    "start_time": "2023-02-15T12:04:48.853Z"
   },
   {
    "duration": 0,
    "start_time": "2023-02-15T12:04:48.854Z"
   },
   {
    "duration": 0,
    "start_time": "2023-02-15T12:04:48.855Z"
   },
   {
    "duration": 0,
    "start_time": "2023-02-15T12:04:48.856Z"
   },
   {
    "duration": 0,
    "start_time": "2023-02-15T12:04:48.857Z"
   },
   {
    "duration": 0,
    "start_time": "2023-02-15T12:04:48.859Z"
   },
   {
    "duration": 1,
    "start_time": "2023-02-15T12:04:48.859Z"
   },
   {
    "duration": 0,
    "start_time": "2023-02-15T12:04:48.861Z"
   },
   {
    "duration": 0,
    "start_time": "2023-02-15T12:04:48.862Z"
   },
   {
    "duration": 0,
    "start_time": "2023-02-15T12:04:48.863Z"
   },
   {
    "duration": 0,
    "start_time": "2023-02-15T12:04:48.864Z"
   },
   {
    "duration": 0,
    "start_time": "2023-02-15T12:04:48.865Z"
   },
   {
    "duration": 0,
    "start_time": "2023-02-15T12:04:48.866Z"
   },
   {
    "duration": 0,
    "start_time": "2023-02-15T12:04:48.867Z"
   },
   {
    "duration": 0,
    "start_time": "2023-02-15T12:04:48.869Z"
   },
   {
    "duration": 0,
    "start_time": "2023-02-15T12:04:48.870Z"
   },
   {
    "duration": 46,
    "start_time": "2023-02-15T12:05:41.660Z"
   },
   {
    "duration": 45,
    "start_time": "2023-02-15T12:06:27.444Z"
   },
   {
    "duration": 4,
    "start_time": "2023-02-15T12:07:11.469Z"
   },
   {
    "duration": 175,
    "start_time": "2023-02-15T12:07:11.474Z"
   },
   {
    "duration": 8,
    "start_time": "2023-02-15T12:07:11.650Z"
   },
   {
    "duration": 14,
    "start_time": "2023-02-15T12:07:11.660Z"
   },
   {
    "duration": 4,
    "start_time": "2023-02-15T12:07:11.677Z"
   },
   {
    "duration": 8,
    "start_time": "2023-02-15T12:07:11.682Z"
   },
   {
    "duration": 23,
    "start_time": "2023-02-15T12:07:11.692Z"
   },
   {
    "duration": 40,
    "start_time": "2023-02-15T12:07:11.717Z"
   },
   {
    "duration": 54,
    "start_time": "2023-02-15T12:07:11.760Z"
   },
   {
    "duration": 75,
    "start_time": "2023-02-15T12:07:11.815Z"
   },
   {
    "duration": 3,
    "start_time": "2023-02-15T12:07:11.892Z"
   },
   {
    "duration": 10,
    "start_time": "2023-02-15T12:07:11.898Z"
   },
   {
    "duration": 149,
    "start_time": "2023-02-15T12:07:11.910Z"
   },
   {
    "duration": 62,
    "start_time": "2023-02-15T12:07:12.064Z"
   },
   {
    "duration": 6,
    "start_time": "2023-02-15T12:07:12.149Z"
   },
   {
    "duration": 5,
    "start_time": "2023-02-15T12:07:12.157Z"
   },
   {
    "duration": 5,
    "start_time": "2023-02-15T12:07:12.163Z"
   },
   {
    "duration": 15,
    "start_time": "2023-02-15T12:07:12.170Z"
   },
   {
    "duration": 13,
    "start_time": "2023-02-15T12:07:12.187Z"
   },
   {
    "duration": 11,
    "start_time": "2023-02-15T12:07:12.201Z"
   },
   {
    "duration": 18,
    "start_time": "2023-02-15T12:07:12.214Z"
   },
   {
    "duration": 14,
    "start_time": "2023-02-15T12:07:12.234Z"
   },
   {
    "duration": 19,
    "start_time": "2023-02-15T12:07:12.250Z"
   },
   {
    "duration": 8,
    "start_time": "2023-02-15T12:07:12.270Z"
   },
   {
    "duration": 8,
    "start_time": "2023-02-15T12:07:12.279Z"
   },
   {
    "duration": 14,
    "start_time": "2023-02-15T12:07:12.288Z"
   },
   {
    "duration": 5,
    "start_time": "2023-02-15T12:07:12.304Z"
   },
   {
    "duration": 425,
    "start_time": "2023-02-15T12:07:12.310Z"
   },
   {
    "duration": 25,
    "start_time": "2023-02-15T12:07:12.737Z"
   },
   {
    "duration": 16,
    "start_time": "2023-02-15T12:07:12.764Z"
   },
   {
    "duration": 10,
    "start_time": "2023-02-15T12:07:12.781Z"
   },
   {
    "duration": 7,
    "start_time": "2023-02-15T12:07:12.793Z"
   },
   {
    "duration": 7,
    "start_time": "2023-02-15T12:07:12.801Z"
   },
   {
    "duration": 6,
    "start_time": "2023-02-15T12:07:12.809Z"
   },
   {
    "duration": 6,
    "start_time": "2023-02-15T12:07:12.816Z"
   },
   {
    "duration": 37,
    "start_time": "2023-02-15T12:07:12.824Z"
   },
   {
    "duration": 46,
    "start_time": "2023-02-15T12:07:12.862Z"
   },
   {
    "duration": 72,
    "start_time": "2023-02-15T12:07:12.910Z"
   },
   {
    "duration": 6,
    "start_time": "2023-02-15T12:07:12.984Z"
   },
   {
    "duration": 9,
    "start_time": "2023-02-15T12:07:12.991Z"
   },
   {
    "duration": 78,
    "start_time": "2023-02-15T12:07:13.004Z"
   },
   {
    "duration": 180,
    "start_time": "2023-02-15T12:07:13.084Z"
   },
   {
    "duration": 5,
    "start_time": "2023-02-15T12:07:13.266Z"
   },
   {
    "duration": 12,
    "start_time": "2023-02-15T12:07:16.246Z"
   },
   {
    "duration": 45,
    "start_time": "2023-02-15T12:07:57.154Z"
   },
   {
    "duration": 2511,
    "start_time": "2023-02-15T12:11:48.705Z"
   },
   {
    "duration": 1265,
    "start_time": "2023-02-15T12:11:51.218Z"
   },
   {
    "duration": 173,
    "start_time": "2023-02-15T12:11:52.485Z"
   },
   {
    "duration": 11,
    "start_time": "2023-02-15T12:11:52.660Z"
   },
   {
    "duration": 14,
    "start_time": "2023-02-15T12:11:52.673Z"
   },
   {
    "duration": 4,
    "start_time": "2023-02-15T12:11:52.688Z"
   },
   {
    "duration": 13,
    "start_time": "2023-02-15T12:11:52.693Z"
   },
   {
    "duration": 50,
    "start_time": "2023-02-15T12:11:52.707Z"
   },
   {
    "duration": 15,
    "start_time": "2023-02-15T12:11:52.759Z"
   },
   {
    "duration": 74,
    "start_time": "2023-02-15T12:11:52.776Z"
   },
   {
    "duration": 68,
    "start_time": "2023-02-15T12:11:52.851Z"
   },
   {
    "duration": 3,
    "start_time": "2023-02-15T12:11:52.921Z"
   },
   {
    "duration": 33,
    "start_time": "2023-02-15T12:11:52.926Z"
   },
   {
    "duration": 72,
    "start_time": "2023-02-15T12:11:52.960Z"
   },
   {
    "duration": 49,
    "start_time": "2023-02-15T12:11:53.034Z"
   },
   {
    "duration": 8,
    "start_time": "2023-02-15T12:11:53.085Z"
   },
   {
    "duration": 8,
    "start_time": "2023-02-15T12:11:53.094Z"
   },
   {
    "duration": 6,
    "start_time": "2023-02-15T12:11:53.103Z"
   },
   {
    "duration": 38,
    "start_time": "2023-02-15T12:11:53.111Z"
   },
   {
    "duration": 13,
    "start_time": "2023-02-15T12:11:53.151Z"
   },
   {
    "duration": 15,
    "start_time": "2023-02-15T12:11:53.165Z"
   },
   {
    "duration": 19,
    "start_time": "2023-02-15T12:11:53.182Z"
   },
   {
    "duration": 5,
    "start_time": "2023-02-15T12:11:53.203Z"
   },
   {
    "duration": 54,
    "start_time": "2023-02-15T12:11:53.210Z"
   },
   {
    "duration": 8,
    "start_time": "2023-02-15T12:11:53.265Z"
   },
   {
    "duration": 7,
    "start_time": "2023-02-15T12:11:53.274Z"
   },
   {
    "duration": 9,
    "start_time": "2023-02-15T12:11:53.282Z"
   },
   {
    "duration": 5,
    "start_time": "2023-02-15T12:11:53.296Z"
   },
   {
    "duration": 537,
    "start_time": "2023-02-15T12:11:53.302Z"
   },
   {
    "duration": 29,
    "start_time": "2023-02-15T12:11:53.840Z"
   },
   {
    "duration": 16,
    "start_time": "2023-02-15T12:11:53.872Z"
   },
   {
    "duration": 11,
    "start_time": "2023-02-15T12:11:53.890Z"
   },
   {
    "duration": 8,
    "start_time": "2023-02-15T12:11:53.902Z"
   },
   {
    "duration": 39,
    "start_time": "2023-02-15T12:11:53.912Z"
   },
   {
    "duration": 6,
    "start_time": "2023-02-15T12:11:53.953Z"
   },
   {
    "duration": 10,
    "start_time": "2023-02-15T12:11:53.961Z"
   },
   {
    "duration": 24,
    "start_time": "2023-02-15T12:11:53.973Z"
   },
   {
    "duration": 443,
    "start_time": "2023-02-15T12:11:53.999Z"
   },
   {
    "duration": 108,
    "start_time": "2023-02-15T12:11:54.444Z"
   },
   {
    "duration": 6,
    "start_time": "2023-02-15T12:11:54.554Z"
   },
   {
    "duration": 12,
    "start_time": "2023-02-15T12:11:54.561Z"
   },
   {
    "duration": 77,
    "start_time": "2023-02-15T12:11:54.575Z"
   },
   {
    "duration": 78,
    "start_time": "2023-02-15T12:11:54.653Z"
   },
   {
    "duration": 16,
    "start_time": "2023-02-15T12:11:54.733Z"
   },
   {
    "duration": 11,
    "start_time": "2023-02-15T12:11:54.751Z"
   },
   {
    "duration": 43,
    "start_time": "2023-02-15T12:11:54.764Z"
   },
   {
    "duration": 5,
    "start_time": "2023-02-15T12:11:54.809Z"
   },
   {
    "duration": 32,
    "start_time": "2023-02-15T12:11:54.816Z"
   },
   {
    "duration": 7,
    "start_time": "2023-02-15T12:11:54.851Z"
   },
   {
    "duration": 20,
    "start_time": "2023-02-15T12:11:54.860Z"
   },
   {
    "duration": 11,
    "start_time": "2023-02-15T12:11:54.882Z"
   },
   {
    "duration": 18,
    "start_time": "2023-02-15T12:11:54.894Z"
   },
   {
    "duration": 12,
    "start_time": "2023-02-15T12:11:54.914Z"
   },
   {
    "duration": 37,
    "start_time": "2023-02-15T12:11:54.928Z"
   },
   {
    "duration": 10,
    "start_time": "2023-02-15T12:11:54.967Z"
   },
   {
    "duration": 10,
    "start_time": "2023-02-15T12:11:54.979Z"
   },
   {
    "duration": 39,
    "start_time": "2023-02-15T12:11:54.991Z"
   },
   {
    "duration": 46,
    "start_time": "2023-02-15T12:11:55.032Z"
   },
   {
    "duration": 30,
    "start_time": "2023-02-15T12:11:55.081Z"
   },
   {
    "duration": 4,
    "start_time": "2023-02-15T12:11:55.113Z"
   },
   {
    "duration": 53,
    "start_time": "2023-02-15T12:11:55.119Z"
   },
   {
    "duration": 26,
    "start_time": "2023-02-15T12:11:55.174Z"
   },
   {
    "duration": 48,
    "start_time": "2023-02-15T12:11:55.202Z"
   },
   {
    "duration": 7,
    "start_time": "2023-02-15T12:11:55.252Z"
   },
   {
    "duration": 73,
    "start_time": "2023-02-15T12:11:55.260Z"
   },
   {
    "duration": 51,
    "start_time": "2023-02-15T12:11:55.334Z"
   },
   {
    "duration": 50,
    "start_time": "2023-02-15T12:11:55.387Z"
   },
   {
    "duration": 27,
    "start_time": "2023-02-15T12:11:55.439Z"
   },
   {
    "duration": 38,
    "start_time": "2023-02-15T12:11:55.469Z"
   },
   {
    "duration": 45,
    "start_time": "2023-02-15T12:11:55.510Z"
   },
   {
    "duration": 45,
    "start_time": "2023-02-15T12:11:55.556Z"
   },
   {
    "duration": 65,
    "start_time": "2023-02-15T12:11:55.603Z"
   },
   {
    "duration": 44,
    "start_time": "2023-02-15T12:11:55.670Z"
   },
   {
    "duration": 43,
    "start_time": "2023-02-15T12:11:55.716Z"
   },
   {
    "duration": 26,
    "start_time": "2023-02-15T12:11:55.761Z"
   },
   {
    "duration": 29,
    "start_time": "2023-02-15T12:11:55.789Z"
   },
   {
    "duration": 70,
    "start_time": "2023-02-15T12:11:55.820Z"
   },
   {
    "duration": 57,
    "start_time": "2023-02-15T12:11:55.892Z"
   },
   {
    "duration": 48,
    "start_time": "2023-02-15T12:11:55.950Z"
   },
   {
    "duration": 24,
    "start_time": "2023-02-15T12:11:55.999Z"
   },
   {
    "duration": 25,
    "start_time": "2023-02-15T12:11:56.049Z"
   },
   {
    "duration": 23,
    "start_time": "2023-02-15T12:11:56.079Z"
   },
   {
    "duration": 66,
    "start_time": "2023-02-15T12:11:56.104Z"
   },
   {
    "duration": 46,
    "start_time": "2023-02-15T12:11:56.172Z"
   },
   {
    "duration": 74,
    "start_time": "2023-02-15T12:11:56.219Z"
   },
   {
    "duration": 6,
    "start_time": "2023-02-15T12:11:56.295Z"
   },
   {
    "duration": 20,
    "start_time": "2023-02-15T12:11:56.303Z"
   },
   {
    "duration": 68,
    "start_time": "2023-02-15T12:11:56.326Z"
   },
   {
    "duration": 32,
    "start_time": "2023-02-15T12:11:56.397Z"
   },
   {
    "duration": 94,
    "start_time": "2023-02-15T12:11:56.431Z"
   },
   {
    "duration": 49,
    "start_time": "2023-02-15T12:11:56.527Z"
   },
   {
    "duration": 40,
    "start_time": "2023-02-15T12:11:56.578Z"
   },
   {
    "duration": 89,
    "start_time": "2023-02-15T12:11:56.620Z"
   },
   {
    "duration": 48,
    "start_time": "2023-02-15T12:11:56.711Z"
   },
   {
    "duration": 25,
    "start_time": "2023-02-15T12:11:56.761Z"
   },
   {
    "duration": 72,
    "start_time": "2023-02-15T12:11:56.788Z"
   },
   {
    "duration": 28,
    "start_time": "2023-02-15T12:11:56.862Z"
   },
   {
    "duration": 24,
    "start_time": "2023-02-15T12:11:56.892Z"
   },
   {
    "duration": 80,
    "start_time": "2023-02-15T12:11:56.918Z"
   },
   {
    "duration": 45,
    "start_time": "2023-02-15T12:19:59.557Z"
   },
   {
    "duration": 1437,
    "start_time": "2023-02-15T12:20:17.633Z"
   },
   {
    "duration": 2272,
    "start_time": "2023-02-15T12:22:32.002Z"
   },
   {
    "duration": 1224,
    "start_time": "2023-02-15T12:22:34.276Z"
   },
   {
    "duration": 175,
    "start_time": "2023-02-15T12:22:35.502Z"
   },
   {
    "duration": 11,
    "start_time": "2023-02-15T12:22:35.679Z"
   },
   {
    "duration": 18,
    "start_time": "2023-02-15T12:22:35.691Z"
   },
   {
    "duration": 4,
    "start_time": "2023-02-15T12:22:35.710Z"
   },
   {
    "duration": 13,
    "start_time": "2023-02-15T12:22:35.715Z"
   },
   {
    "duration": 25,
    "start_time": "2023-02-15T12:22:35.749Z"
   },
   {
    "duration": 16,
    "start_time": "2023-02-15T12:22:35.776Z"
   },
   {
    "duration": 77,
    "start_time": "2023-02-15T12:22:35.794Z"
   },
   {
    "duration": 80,
    "start_time": "2023-02-15T12:22:35.873Z"
   },
   {
    "duration": 3,
    "start_time": "2023-02-15T12:22:35.955Z"
   },
   {
    "duration": 12,
    "start_time": "2023-02-15T12:22:35.959Z"
   },
   {
    "duration": 82,
    "start_time": "2023-02-15T12:22:35.972Z"
   },
   {
    "duration": 55,
    "start_time": "2023-02-15T12:22:36.056Z"
   },
   {
    "duration": 17,
    "start_time": "2023-02-15T12:22:36.113Z"
   },
   {
    "duration": 7,
    "start_time": "2023-02-15T12:22:36.131Z"
   },
   {
    "duration": 9,
    "start_time": "2023-02-15T12:22:36.139Z"
   },
   {
    "duration": 19,
    "start_time": "2023-02-15T12:22:36.150Z"
   },
   {
    "duration": 12,
    "start_time": "2023-02-15T12:22:36.170Z"
   },
   {
    "duration": 12,
    "start_time": "2023-02-15T12:22:36.183Z"
   },
   {
    "duration": 20,
    "start_time": "2023-02-15T12:22:36.196Z"
   },
   {
    "duration": 5,
    "start_time": "2023-02-15T12:22:36.218Z"
   },
   {
    "duration": 43,
    "start_time": "2023-02-15T12:22:36.224Z"
   },
   {
    "duration": 8,
    "start_time": "2023-02-15T12:22:36.269Z"
   },
   {
    "duration": 17,
    "start_time": "2023-02-15T12:22:36.278Z"
   },
   {
    "duration": 13,
    "start_time": "2023-02-15T12:22:36.297Z"
   },
   {
    "duration": 5,
    "start_time": "2023-02-15T12:22:36.315Z"
   },
   {
    "duration": 580,
    "start_time": "2023-02-15T12:22:36.321Z"
   },
   {
    "duration": 33,
    "start_time": "2023-02-15T12:22:36.902Z"
   },
   {
    "duration": 15,
    "start_time": "2023-02-15T12:22:36.948Z"
   },
   {
    "duration": 28,
    "start_time": "2023-02-15T12:22:36.965Z"
   },
   {
    "duration": 21,
    "start_time": "2023-02-15T12:22:36.995Z"
   },
   {
    "duration": 29,
    "start_time": "2023-02-15T12:22:37.017Z"
   },
   {
    "duration": 16,
    "start_time": "2023-02-15T12:22:37.047Z"
   },
   {
    "duration": 29,
    "start_time": "2023-02-15T12:22:37.064Z"
   },
   {
    "duration": 47,
    "start_time": "2023-02-15T12:22:37.094Z"
   },
   {
    "duration": 475,
    "start_time": "2023-02-15T12:22:37.142Z"
   },
   {
    "duration": 132,
    "start_time": "2023-02-15T12:22:37.620Z"
   },
   {
    "duration": 5,
    "start_time": "2023-02-15T12:22:37.754Z"
   },
   {
    "duration": 24,
    "start_time": "2023-02-15T12:22:37.761Z"
   },
   {
    "duration": 59,
    "start_time": "2023-02-15T12:22:37.787Z"
   },
   {
    "duration": 88,
    "start_time": "2023-02-15T12:22:37.848Z"
   },
   {
    "duration": 5,
    "start_time": "2023-02-15T12:22:37.938Z"
   },
   {
    "duration": 28,
    "start_time": "2023-02-15T12:22:37.945Z"
   },
   {
    "duration": 69,
    "start_time": "2023-02-15T12:22:37.974Z"
   },
   {
    "duration": 12,
    "start_time": "2023-02-15T12:22:38.045Z"
   },
   {
    "duration": 30,
    "start_time": "2023-02-15T12:22:38.059Z"
   },
   {
    "duration": 7,
    "start_time": "2023-02-15T12:22:38.091Z"
   },
   {
    "duration": 29,
    "start_time": "2023-02-15T12:22:38.100Z"
   },
   {
    "duration": 21,
    "start_time": "2023-02-15T12:22:38.131Z"
   },
   {
    "duration": 25,
    "start_time": "2023-02-15T12:22:38.154Z"
   },
   {
    "duration": 32,
    "start_time": "2023-02-15T12:22:38.181Z"
   },
   {
    "duration": 29,
    "start_time": "2023-02-15T12:22:38.215Z"
   },
   {
    "duration": 26,
    "start_time": "2023-02-15T12:22:38.245Z"
   },
   {
    "duration": 47,
    "start_time": "2023-02-15T12:22:38.273Z"
   },
   {
    "duration": 47,
    "start_time": "2023-02-15T12:22:38.322Z"
   },
   {
    "duration": 28,
    "start_time": "2023-02-15T12:22:38.371Z"
   },
   {
    "duration": 50,
    "start_time": "2023-02-15T12:22:38.401Z"
   },
   {
    "duration": 3,
    "start_time": "2023-02-15T12:22:38.453Z"
   },
   {
    "duration": 55,
    "start_time": "2023-02-15T12:22:38.458Z"
   },
   {
    "duration": 26,
    "start_time": "2023-02-15T12:22:38.514Z"
   },
   {
    "duration": 28,
    "start_time": "2023-02-15T12:22:38.542Z"
   },
   {
    "duration": 7,
    "start_time": "2023-02-15T12:22:38.572Z"
   },
   {
    "duration": 89,
    "start_time": "2023-02-15T12:22:38.580Z"
   },
   {
    "duration": 50,
    "start_time": "2023-02-15T12:22:38.671Z"
   },
   {
    "duration": 60,
    "start_time": "2023-02-15T12:22:38.723Z"
   },
   {
    "duration": 23,
    "start_time": "2023-02-15T12:22:38.784Z"
   },
   {
    "duration": 39,
    "start_time": "2023-02-15T12:22:38.809Z"
   },
   {
    "duration": 22,
    "start_time": "2023-02-15T12:22:38.850Z"
   },
   {
    "duration": 44,
    "start_time": "2023-02-15T12:22:38.873Z"
   },
   {
    "duration": 67,
    "start_time": "2023-02-15T12:22:38.919Z"
   },
   {
    "duration": 47,
    "start_time": "2023-02-15T12:22:38.988Z"
   },
   {
    "duration": 25,
    "start_time": "2023-02-15T12:22:39.048Z"
   },
   {
    "duration": 25,
    "start_time": "2023-02-15T12:22:39.075Z"
   },
   {
    "duration": 54,
    "start_time": "2023-02-15T12:22:39.102Z"
   },
   {
    "duration": 49,
    "start_time": "2023-02-15T12:22:39.158Z"
   },
   {
    "duration": 66,
    "start_time": "2023-02-15T12:22:39.209Z"
   },
   {
    "duration": 47,
    "start_time": "2023-02-15T12:22:39.277Z"
   },
   {
    "duration": 38,
    "start_time": "2023-02-15T12:22:39.326Z"
   },
   {
    "duration": 30,
    "start_time": "2023-02-15T12:22:39.366Z"
   },
   {
    "duration": 25,
    "start_time": "2023-02-15T12:22:39.404Z"
   },
   {
    "duration": 58,
    "start_time": "2023-02-15T12:22:39.431Z"
   },
   {
    "duration": 44,
    "start_time": "2023-02-15T12:22:39.490Z"
   },
   {
    "duration": 47,
    "start_time": "2023-02-15T12:22:39.549Z"
   },
   {
    "duration": 5,
    "start_time": "2023-02-15T12:22:39.597Z"
   },
   {
    "duration": 20,
    "start_time": "2023-02-15T12:22:39.603Z"
   },
   {
    "duration": 55,
    "start_time": "2023-02-15T12:22:39.624Z"
   },
   {
    "duration": 32,
    "start_time": "2023-02-15T12:22:39.681Z"
   },
   {
    "duration": 106,
    "start_time": "2023-02-15T12:22:39.715Z"
   },
   {
    "duration": 30,
    "start_time": "2023-02-15T12:22:39.823Z"
   },
   {
    "duration": 25,
    "start_time": "2023-02-15T12:22:39.854Z"
   },
   {
    "duration": 68,
    "start_time": "2023-02-15T12:22:39.881Z"
   },
   {
    "duration": 31,
    "start_time": "2023-02-15T12:22:39.952Z"
   },
   {
    "duration": 26,
    "start_time": "2023-02-15T12:22:39.986Z"
   },
   {
    "duration": 79,
    "start_time": "2023-02-15T12:22:40.014Z"
   },
   {
    "duration": 29,
    "start_time": "2023-02-15T12:22:40.095Z"
   },
   {
    "duration": 32,
    "start_time": "2023-02-15T12:22:40.126Z"
   },
   {
    "duration": 50,
    "start_time": "2023-02-15T12:22:40.160Z"
   },
   {
    "duration": 1424,
    "start_time": "2023-02-15T20:12:10.504Z"
   },
   {
    "duration": 189,
    "start_time": "2023-02-15T20:12:11.943Z"
   },
   {
    "duration": 20,
    "start_time": "2023-02-15T20:12:12.134Z"
   },
   {
    "duration": 21,
    "start_time": "2023-02-15T20:12:12.155Z"
   },
   {
    "duration": 5,
    "start_time": "2023-02-15T20:12:12.178Z"
   },
   {
    "duration": 8,
    "start_time": "2023-02-15T20:12:12.184Z"
   },
   {
    "duration": 26,
    "start_time": "2023-02-15T20:12:12.193Z"
   },
   {
    "duration": 27,
    "start_time": "2023-02-15T20:12:12.239Z"
   },
   {
    "duration": 99,
    "start_time": "2023-02-15T20:12:12.268Z"
   },
   {
    "duration": 90,
    "start_time": "2023-02-15T20:12:12.369Z"
   },
   {
    "duration": 4,
    "start_time": "2023-02-15T20:12:12.464Z"
   },
   {
    "duration": 24,
    "start_time": "2023-02-15T20:12:12.469Z"
   },
   {
    "duration": 90,
    "start_time": "2023-02-15T20:12:12.496Z"
   },
   {
    "duration": 68,
    "start_time": "2023-02-15T20:12:12.590Z"
   },
   {
    "duration": 14,
    "start_time": "2023-02-15T20:12:12.661Z"
   },
   {
    "duration": 52,
    "start_time": "2023-02-15T20:12:12.676Z"
   },
   {
    "duration": 19,
    "start_time": "2023-02-15T20:12:12.730Z"
   },
   {
    "duration": 19,
    "start_time": "2023-02-15T20:12:12.752Z"
   },
   {
    "duration": 14,
    "start_time": "2023-02-15T20:12:12.773Z"
   },
   {
    "duration": 24,
    "start_time": "2023-02-15T20:12:12.789Z"
   },
   {
    "duration": 40,
    "start_time": "2023-02-15T20:12:12.815Z"
   },
   {
    "duration": 14,
    "start_time": "2023-02-15T20:12:12.859Z"
   },
   {
    "duration": 25,
    "start_time": "2023-02-15T20:12:12.874Z"
   },
   {
    "duration": 8,
    "start_time": "2023-02-15T20:12:12.900Z"
   },
   {
    "duration": 16,
    "start_time": "2023-02-15T20:12:12.910Z"
   },
   {
    "duration": 18,
    "start_time": "2023-02-15T20:12:12.928Z"
   },
   {
    "duration": 7,
    "start_time": "2023-02-15T20:12:12.957Z"
   },
   {
    "duration": 540,
    "start_time": "2023-02-15T20:12:12.965Z"
   },
   {
    "duration": 41,
    "start_time": "2023-02-15T20:12:13.507Z"
   },
   {
    "duration": 30,
    "start_time": "2023-02-15T20:12:13.550Z"
   },
   {
    "duration": 15,
    "start_time": "2023-02-15T20:12:13.582Z"
   },
   {
    "duration": 9,
    "start_time": "2023-02-15T20:12:13.599Z"
   },
   {
    "duration": 33,
    "start_time": "2023-02-15T20:12:13.610Z"
   },
   {
    "duration": 31,
    "start_time": "2023-02-15T20:12:13.654Z"
   },
   {
    "duration": 9,
    "start_time": "2023-02-15T20:12:13.687Z"
   },
   {
    "duration": 28,
    "start_time": "2023-02-15T20:12:13.699Z"
   },
   {
    "duration": 2032,
    "start_time": "2023-02-15T20:12:13.729Z"
   },
   {
    "duration": 123,
    "start_time": "2023-02-15T20:12:15.763Z"
   },
   {
    "duration": 61,
    "start_time": "2023-02-15T20:12:15.889Z"
   },
   {
    "duration": 20,
    "start_time": "2023-02-15T20:12:15.952Z"
   },
   {
    "duration": 75,
    "start_time": "2023-02-15T20:12:15.977Z"
   },
   {
    "duration": 96,
    "start_time": "2023-02-15T20:12:16.060Z"
   },
   {
    "duration": 7,
    "start_time": "2023-02-15T20:12:16.158Z"
   },
   {
    "duration": 12,
    "start_time": "2023-02-15T20:12:16.167Z"
   },
   {
    "duration": 47,
    "start_time": "2023-02-15T20:12:16.180Z"
   },
   {
    "duration": 17,
    "start_time": "2023-02-15T20:12:16.228Z"
   },
   {
    "duration": 18,
    "start_time": "2023-02-15T20:12:16.247Z"
   },
   {
    "duration": 7,
    "start_time": "2023-02-15T20:12:16.267Z"
   },
   {
    "duration": 11,
    "start_time": "2023-02-15T20:12:16.275Z"
   },
   {
    "duration": 9,
    "start_time": "2023-02-15T20:12:16.288Z"
   },
   {
    "duration": 53,
    "start_time": "2023-02-15T20:12:16.299Z"
   },
   {
    "duration": 10,
    "start_time": "2023-02-15T20:12:16.354Z"
   },
   {
    "duration": 19,
    "start_time": "2023-02-15T20:12:16.366Z"
   },
   {
    "duration": 9,
    "start_time": "2023-02-15T20:12:16.387Z"
   },
   {
    "duration": 9,
    "start_time": "2023-02-15T20:12:16.398Z"
   },
   {
    "duration": 60,
    "start_time": "2023-02-15T20:12:16.408Z"
   },
   {
    "duration": 32,
    "start_time": "2023-02-15T20:12:16.470Z"
   },
   {
    "duration": 54,
    "start_time": "2023-02-15T20:12:16.504Z"
   },
   {
    "duration": 6,
    "start_time": "2023-02-15T20:12:16.561Z"
   },
   {
    "duration": 35,
    "start_time": "2023-02-15T20:12:16.569Z"
   },
   {
    "duration": 49,
    "start_time": "2023-02-15T20:12:16.606Z"
   },
   {
    "duration": 29,
    "start_time": "2023-02-15T20:12:16.658Z"
   },
   {
    "duration": 8,
    "start_time": "2023-02-15T20:12:16.689Z"
   },
   {
    "duration": 81,
    "start_time": "2023-02-15T20:12:16.699Z"
   },
   {
    "duration": 71,
    "start_time": "2023-02-15T20:12:16.782Z"
   },
   {
    "duration": 54,
    "start_time": "2023-02-15T20:12:16.856Z"
   },
   {
    "duration": 33,
    "start_time": "2023-02-15T20:12:16.912Z"
   },
   {
    "duration": 30,
    "start_time": "2023-02-15T20:12:16.956Z"
   },
   {
    "duration": 26,
    "start_time": "2023-02-15T20:12:16.988Z"
   },
   {
    "duration": 83,
    "start_time": "2023-02-15T20:12:17.016Z"
   },
   {
    "duration": 71,
    "start_time": "2023-02-15T20:12:17.101Z"
   },
   {
    "duration": 51,
    "start_time": "2023-02-15T20:12:17.174Z"
   },
   {
    "duration": 35,
    "start_time": "2023-02-15T20:12:17.240Z"
   },
   {
    "duration": 27,
    "start_time": "2023-02-15T20:12:17.277Z"
   },
   {
    "duration": 63,
    "start_time": "2023-02-15T20:12:17.306Z"
   },
   {
    "duration": 51,
    "start_time": "2023-02-15T20:12:17.371Z"
   },
   {
    "duration": 71,
    "start_time": "2023-02-15T20:12:17.424Z"
   },
   {
    "duration": 70,
    "start_time": "2023-02-15T20:12:17.497Z"
   },
   {
    "duration": 27,
    "start_time": "2023-02-15T20:12:17.569Z"
   },
   {
    "duration": 59,
    "start_time": "2023-02-15T20:12:17.597Z"
   },
   {
    "duration": 28,
    "start_time": "2023-02-15T20:12:17.661Z"
   },
   {
    "duration": 72,
    "start_time": "2023-02-15T20:12:17.690Z"
   },
   {
    "duration": 51,
    "start_time": "2023-02-15T20:12:17.764Z"
   },
   {
    "duration": 69,
    "start_time": "2023-02-15T20:12:17.817Z"
   },
   {
    "duration": 5,
    "start_time": "2023-02-15T20:12:17.888Z"
   },
   {
    "duration": 21,
    "start_time": "2023-02-15T20:12:17.895Z"
   },
   {
    "duration": 70,
    "start_time": "2023-02-15T20:12:17.918Z"
   },
   {
    "duration": 31,
    "start_time": "2023-02-15T20:12:17.990Z"
   },
   {
    "duration": 100,
    "start_time": "2023-02-15T20:12:18.023Z"
   },
   {
    "duration": 47,
    "start_time": "2023-02-15T20:12:18.125Z"
   },
   {
    "duration": 47,
    "start_time": "2023-02-15T20:12:18.175Z"
   },
   {
    "duration": 101,
    "start_time": "2023-02-15T20:12:18.225Z"
   },
   {
    "duration": 57,
    "start_time": "2023-02-15T20:12:18.329Z"
   },
   {
    "duration": 30,
    "start_time": "2023-02-15T20:12:18.388Z"
   },
   {
    "duration": 87,
    "start_time": "2023-02-15T20:12:18.420Z"
   },
   {
    "duration": 50,
    "start_time": "2023-02-15T20:12:18.509Z"
   },
   {
    "duration": 27,
    "start_time": "2023-02-15T20:12:18.561Z"
   },
   {
    "duration": 86,
    "start_time": "2023-02-15T20:12:18.590Z"
   },
   {
    "duration": 609,
    "start_time": "2023-02-15T20:20:45.096Z"
   },
   {
    "duration": 1649,
    "start_time": "2023-02-16T07:02:25.331Z"
   },
   {
    "duration": 760,
    "start_time": "2023-02-16T07:02:26.982Z"
   },
   {
    "duration": 11,
    "start_time": "2023-02-16T07:02:27.744Z"
   },
   {
    "duration": 14,
    "start_time": "2023-02-16T07:02:27.757Z"
   },
   {
    "duration": 5,
    "start_time": "2023-02-16T07:02:27.773Z"
   },
   {
    "duration": 9,
    "start_time": "2023-02-16T07:02:27.779Z"
   },
   {
    "duration": 61,
    "start_time": "2023-02-16T07:02:27.789Z"
   },
   {
    "duration": 15,
    "start_time": "2023-02-16T07:02:27.852Z"
   },
   {
    "duration": 80,
    "start_time": "2023-02-16T07:02:27.869Z"
   },
   {
    "duration": 87,
    "start_time": "2023-02-16T07:02:27.951Z"
   },
   {
    "duration": 4,
    "start_time": "2023-02-16T07:02:28.041Z"
   },
   {
    "duration": 14,
    "start_time": "2023-02-16T07:02:28.047Z"
   },
   {
    "duration": 116,
    "start_time": "2023-02-16T07:02:28.064Z"
   },
   {
    "duration": 62,
    "start_time": "2023-02-16T07:02:28.182Z"
   },
   {
    "duration": 10,
    "start_time": "2023-02-16T07:02:28.249Z"
   },
   {
    "duration": 6,
    "start_time": "2023-02-16T07:02:28.261Z"
   },
   {
    "duration": 6,
    "start_time": "2023-02-16T07:02:28.268Z"
   },
   {
    "duration": 44,
    "start_time": "2023-02-16T07:02:28.276Z"
   },
   {
    "duration": 18,
    "start_time": "2023-02-16T07:02:28.326Z"
   },
   {
    "duration": 11,
    "start_time": "2023-02-16T07:02:28.345Z"
   },
   {
    "duration": 17,
    "start_time": "2023-02-16T07:02:28.358Z"
   },
   {
    "duration": 5,
    "start_time": "2023-02-16T07:02:28.377Z"
   },
   {
    "duration": 31,
    "start_time": "2023-02-16T07:02:28.397Z"
   },
   {
    "duration": 22,
    "start_time": "2023-02-16T07:02:28.430Z"
   },
   {
    "duration": 6,
    "start_time": "2023-02-16T07:02:28.454Z"
   },
   {
    "duration": 11,
    "start_time": "2023-02-16T07:02:28.462Z"
   },
   {
    "duration": 8,
    "start_time": "2023-02-16T07:02:28.474Z"
   },
   {
    "duration": 541,
    "start_time": "2023-02-16T07:02:28.486Z"
   },
   {
    "duration": 750,
    "start_time": "2023-02-16T07:02:29.029Z"
   },
   {
    "duration": 21,
    "start_time": "2023-02-16T07:02:29.781Z"
   },
   {
    "duration": 53,
    "start_time": "2023-02-16T07:02:29.804Z"
   },
   {
    "duration": 10,
    "start_time": "2023-02-16T07:02:29.859Z"
   },
   {
    "duration": 7,
    "start_time": "2023-02-16T07:02:29.870Z"
   },
   {
    "duration": 17,
    "start_time": "2023-02-16T07:02:29.878Z"
   },
   {
    "duration": 48,
    "start_time": "2023-02-16T07:02:29.897Z"
   },
   {
    "duration": 6,
    "start_time": "2023-02-16T07:02:29.947Z"
   },
   {
    "duration": 21,
    "start_time": "2023-02-16T07:02:29.954Z"
   },
   {
    "duration": 778,
    "start_time": "2023-02-16T07:02:29.977Z"
   },
   {
    "duration": 92,
    "start_time": "2023-02-16T07:02:30.756Z"
   },
   {
    "duration": 47,
    "start_time": "2023-02-16T07:02:30.850Z"
   },
   {
    "duration": 75,
    "start_time": "2023-02-16T07:02:30.899Z"
   },
   {
    "duration": 151,
    "start_time": "2023-02-16T07:02:30.976Z"
   },
   {
    "duration": 115,
    "start_time": "2023-02-16T07:02:31.129Z"
   },
   {
    "duration": 5,
    "start_time": "2023-02-16T07:02:31.246Z"
   },
   {
    "duration": 51,
    "start_time": "2023-02-16T07:02:31.253Z"
   },
   {
    "duration": 102,
    "start_time": "2023-02-16T07:02:31.314Z"
   },
   {
    "duration": 26,
    "start_time": "2023-02-16T07:02:31.418Z"
   },
   {
    "duration": 42,
    "start_time": "2023-02-16T07:02:31.447Z"
   },
   {
    "duration": 52,
    "start_time": "2023-02-16T07:02:31.490Z"
   },
   {
    "duration": 91,
    "start_time": "2023-02-16T07:02:31.544Z"
   },
   {
    "duration": 41,
    "start_time": "2023-02-16T07:02:31.637Z"
   },
   {
    "duration": 85,
    "start_time": "2023-02-16T07:02:31.680Z"
   },
   {
    "duration": 12,
    "start_time": "2023-02-16T07:02:31.767Z"
   },
   {
    "duration": 88,
    "start_time": "2023-02-16T07:02:31.780Z"
   },
   {
    "duration": 20,
    "start_time": "2023-02-16T07:02:31.870Z"
   },
   {
    "duration": 51,
    "start_time": "2023-02-16T07:02:31.897Z"
   },
   {
    "duration": 56,
    "start_time": "2023-02-16T07:02:31.950Z"
   },
   {
    "duration": 39,
    "start_time": "2023-02-16T07:02:32.013Z"
   },
   {
    "duration": 29,
    "start_time": "2023-02-16T07:02:32.054Z"
   },
   {
    "duration": 4,
    "start_time": "2023-02-16T07:02:32.085Z"
   },
   {
    "duration": 85,
    "start_time": "2023-02-16T07:02:32.090Z"
   },
   {
    "duration": 51,
    "start_time": "2023-02-16T07:02:32.176Z"
   },
   {
    "duration": 41,
    "start_time": "2023-02-16T07:02:32.229Z"
   },
   {
    "duration": 7,
    "start_time": "2023-02-16T07:02:32.272Z"
   },
   {
    "duration": 108,
    "start_time": "2023-02-16T07:02:32.282Z"
   },
   {
    "duration": 72,
    "start_time": "2023-02-16T07:02:32.391Z"
   },
   {
    "duration": 58,
    "start_time": "2023-02-16T07:02:32.465Z"
   },
   {
    "duration": 33,
    "start_time": "2023-02-16T07:02:32.525Z"
   },
   {
    "duration": 41,
    "start_time": "2023-02-16T07:02:32.559Z"
   },
   {
    "duration": 36,
    "start_time": "2023-02-16T07:02:32.602Z"
   },
   {
    "duration": 48,
    "start_time": "2023-02-16T07:02:32.640Z"
   },
   {
    "duration": 66,
    "start_time": "2023-02-16T07:02:32.694Z"
   },
   {
    "duration": 70,
    "start_time": "2023-02-16T07:02:32.762Z"
   },
   {
    "duration": 31,
    "start_time": "2023-02-16T07:02:32.834Z"
   },
   {
    "duration": 35,
    "start_time": "2023-02-16T07:02:32.866Z"
   },
   {
    "duration": 44,
    "start_time": "2023-02-16T07:02:32.904Z"
   },
   {
    "duration": 49,
    "start_time": "2023-02-16T07:02:32.950Z"
   },
   {
    "duration": 62,
    "start_time": "2023-02-16T07:02:33.001Z"
   },
   {
    "duration": 86,
    "start_time": "2023-02-16T07:02:33.065Z"
   },
   {
    "duration": 25,
    "start_time": "2023-02-16T07:02:33.153Z"
   },
   {
    "duration": 36,
    "start_time": "2023-02-16T07:02:33.180Z"
   },
   {
    "duration": 48,
    "start_time": "2023-02-16T07:02:33.225Z"
   },
   {
    "duration": 59,
    "start_time": "2023-02-16T07:02:33.275Z"
   },
   {
    "duration": 48,
    "start_time": "2023-02-16T07:02:33.338Z"
   },
   {
    "duration": 61,
    "start_time": "2023-02-16T07:02:33.388Z"
   },
   {
    "duration": 4,
    "start_time": "2023-02-16T07:02:33.451Z"
   },
   {
    "duration": 18,
    "start_time": "2023-02-16T07:02:33.457Z"
   },
   {
    "duration": 90,
    "start_time": "2023-02-16T07:02:33.477Z"
   },
   {
    "duration": 36,
    "start_time": "2023-02-16T07:02:33.569Z"
   },
   {
    "duration": 76,
    "start_time": "2023-02-16T07:02:33.610Z"
   },
   {
    "duration": 50,
    "start_time": "2023-02-16T07:02:33.688Z"
   },
   {
    "duration": 31,
    "start_time": "2023-02-16T07:02:33.743Z"
   },
   {
    "duration": 77,
    "start_time": "2023-02-16T07:02:33.776Z"
   },
   {
    "duration": 33,
    "start_time": "2023-02-16T07:02:33.854Z"
   },
   {
    "duration": 36,
    "start_time": "2023-02-16T07:02:33.891Z"
   },
   {
    "duration": 63,
    "start_time": "2023-02-16T07:02:33.929Z"
   },
   {
    "duration": 43,
    "start_time": "2023-02-16T07:02:33.994Z"
   },
   {
    "duration": 32,
    "start_time": "2023-02-16T07:02:34.039Z"
   },
   {
    "duration": 79,
    "start_time": "2023-02-16T07:02:34.073Z"
   },
   {
    "duration": 81,
    "start_time": "2023-02-16T07:04:02.468Z"
   },
   {
    "duration": 1463,
    "start_time": "2023-02-16T12:10:27.275Z"
   },
   {
    "duration": 759,
    "start_time": "2023-02-16T12:10:28.740Z"
   },
   {
    "duration": 10,
    "start_time": "2023-02-16T12:10:29.501Z"
   },
   {
    "duration": 13,
    "start_time": "2023-02-16T12:10:29.513Z"
   },
   {
    "duration": 4,
    "start_time": "2023-02-16T12:10:29.527Z"
   },
   {
    "duration": 8,
    "start_time": "2023-02-16T12:10:29.532Z"
   },
   {
    "duration": 24,
    "start_time": "2023-02-16T12:10:29.541Z"
   },
   {
    "duration": 13,
    "start_time": "2023-02-16T12:10:29.566Z"
   },
   {
    "duration": 80,
    "start_time": "2023-02-16T12:10:29.581Z"
   },
   {
    "duration": 74,
    "start_time": "2023-02-16T12:10:29.663Z"
   },
   {
    "duration": 3,
    "start_time": "2023-02-16T12:10:29.739Z"
   },
   {
    "duration": 13,
    "start_time": "2023-02-16T12:10:29.744Z"
   },
   {
    "duration": 80,
    "start_time": "2023-02-16T12:10:29.759Z"
   },
   {
    "duration": 46,
    "start_time": "2023-02-16T12:10:29.840Z"
   },
   {
    "duration": 10,
    "start_time": "2023-02-16T12:10:29.888Z"
   },
   {
    "duration": 6,
    "start_time": "2023-02-16T12:10:29.900Z"
   },
   {
    "duration": 6,
    "start_time": "2023-02-16T12:10:29.907Z"
   },
   {
    "duration": 27,
    "start_time": "2023-02-16T12:10:29.915Z"
   },
   {
    "duration": 11,
    "start_time": "2023-02-16T12:10:29.944Z"
   },
   {
    "duration": 12,
    "start_time": "2023-02-16T12:10:29.957Z"
   },
   {
    "duration": 18,
    "start_time": "2023-02-16T12:10:29.970Z"
   },
   {
    "duration": 5,
    "start_time": "2023-02-16T12:10:29.990Z"
   },
   {
    "duration": 57,
    "start_time": "2023-02-16T12:10:29.997Z"
   },
   {
    "duration": 7,
    "start_time": "2023-02-16T12:10:30.056Z"
   },
   {
    "duration": 10,
    "start_time": "2023-02-16T12:10:30.065Z"
   },
   {
    "duration": 16,
    "start_time": "2023-02-16T12:10:30.077Z"
   },
   {
    "duration": 5,
    "start_time": "2023-02-16T12:10:30.095Z"
   },
   {
    "duration": 472,
    "start_time": "2023-02-16T12:10:30.104Z"
   },
   {
    "duration": 631,
    "start_time": "2023-02-16T12:10:30.579Z"
   },
   {
    "duration": 18,
    "start_time": "2023-02-16T12:10:31.211Z"
   },
   {
    "duration": 15,
    "start_time": "2023-02-16T12:10:31.238Z"
   },
   {
    "duration": 12,
    "start_time": "2023-02-16T12:10:31.255Z"
   },
   {
    "duration": 28,
    "start_time": "2023-02-16T12:10:31.269Z"
   },
   {
    "duration": 17,
    "start_time": "2023-02-16T12:10:31.299Z"
   },
   {
    "duration": 21,
    "start_time": "2023-02-16T12:10:31.317Z"
   },
   {
    "duration": 9,
    "start_time": "2023-02-16T12:10:31.340Z"
   },
   {
    "duration": 45,
    "start_time": "2023-02-16T12:10:31.351Z"
   },
   {
    "duration": 397,
    "start_time": "2023-02-16T12:10:31.398Z"
   },
   {
    "duration": 67,
    "start_time": "2023-02-16T12:10:31.797Z"
   },
   {
    "duration": 8,
    "start_time": "2023-02-16T12:10:31.867Z"
   },
   {
    "duration": 62,
    "start_time": "2023-02-16T12:10:31.877Z"
   },
   {
    "duration": 44,
    "start_time": "2023-02-16T12:10:31.941Z"
   },
   {
    "duration": 98,
    "start_time": "2023-02-16T12:10:31.987Z"
   },
   {
    "duration": 4,
    "start_time": "2023-02-16T12:10:32.087Z"
   },
   {
    "duration": 17,
    "start_time": "2023-02-16T12:10:32.093Z"
   },
   {
    "duration": 54,
    "start_time": "2023-02-16T12:10:32.111Z"
   },
   {
    "duration": 3,
    "start_time": "2023-02-16T12:10:32.167Z"
   },
   {
    "duration": 8,
    "start_time": "2023-02-16T12:10:32.172Z"
   },
   {
    "duration": 20,
    "start_time": "2023-02-16T12:10:32.182Z"
   },
   {
    "duration": 13,
    "start_time": "2023-02-16T12:10:32.204Z"
   },
   {
    "duration": 22,
    "start_time": "2023-02-16T12:10:32.219Z"
   },
   {
    "duration": 18,
    "start_time": "2023-02-16T12:10:32.243Z"
   },
   {
    "duration": 16,
    "start_time": "2023-02-16T12:10:32.262Z"
   },
   {
    "duration": 23,
    "start_time": "2023-02-16T12:10:32.281Z"
   },
   {
    "duration": 12,
    "start_time": "2023-02-16T12:10:32.305Z"
   },
   {
    "duration": 19,
    "start_time": "2023-02-16T12:10:32.318Z"
   },
   {
    "duration": 98,
    "start_time": "2023-02-16T12:10:32.339Z"
   },
   {
    "duration": 21,
    "start_time": "2023-02-16T12:10:32.440Z"
   },
   {
    "duration": 7,
    "start_time": "2023-02-16T12:10:32.465Z"
   },
   {
    "duration": 18,
    "start_time": "2023-02-16T12:10:32.474Z"
   },
   {
    "duration": 206,
    "start_time": "2023-02-16T12:10:32.494Z"
   },
   {
    "duration": 0,
    "start_time": "2023-02-16T12:10:32.703Z"
   },
   {
    "duration": 0,
    "start_time": "2023-02-16T12:10:32.704Z"
   },
   {
    "duration": 0,
    "start_time": "2023-02-16T12:10:32.706Z"
   },
   {
    "duration": 0,
    "start_time": "2023-02-16T12:10:32.707Z"
   },
   {
    "duration": 0,
    "start_time": "2023-02-16T12:10:32.708Z"
   },
   {
    "duration": 0,
    "start_time": "2023-02-16T12:10:32.710Z"
   },
   {
    "duration": 0,
    "start_time": "2023-02-16T12:10:32.711Z"
   },
   {
    "duration": 0,
    "start_time": "2023-02-16T12:10:32.712Z"
   },
   {
    "duration": 0,
    "start_time": "2023-02-16T12:10:32.713Z"
   },
   {
    "duration": 0,
    "start_time": "2023-02-16T12:10:32.715Z"
   },
   {
    "duration": 0,
    "start_time": "2023-02-16T12:10:32.715Z"
   },
   {
    "duration": 0,
    "start_time": "2023-02-16T12:10:32.737Z"
   },
   {
    "duration": 0,
    "start_time": "2023-02-16T12:10:32.739Z"
   },
   {
    "duration": 0,
    "start_time": "2023-02-16T12:10:32.740Z"
   },
   {
    "duration": 0,
    "start_time": "2023-02-16T12:10:32.740Z"
   },
   {
    "duration": 0,
    "start_time": "2023-02-16T12:10:32.741Z"
   },
   {
    "duration": 0,
    "start_time": "2023-02-16T12:10:32.743Z"
   },
   {
    "duration": 0,
    "start_time": "2023-02-16T12:10:32.744Z"
   },
   {
    "duration": 0,
    "start_time": "2023-02-16T12:10:32.744Z"
   },
   {
    "duration": 0,
    "start_time": "2023-02-16T12:10:32.745Z"
   },
   {
    "duration": 0,
    "start_time": "2023-02-16T12:10:32.747Z"
   },
   {
    "duration": 0,
    "start_time": "2023-02-16T12:10:32.747Z"
   },
   {
    "duration": 0,
    "start_time": "2023-02-16T12:10:32.748Z"
   },
   {
    "duration": 0,
    "start_time": "2023-02-16T12:10:32.749Z"
   },
   {
    "duration": 0,
    "start_time": "2023-02-16T12:10:32.750Z"
   },
   {
    "duration": 0,
    "start_time": "2023-02-16T12:10:32.752Z"
   },
   {
    "duration": 0,
    "start_time": "2023-02-16T12:10:32.753Z"
   },
   {
    "duration": 0,
    "start_time": "2023-02-16T12:10:32.754Z"
   },
   {
    "duration": 0,
    "start_time": "2023-02-16T12:10:32.755Z"
   },
   {
    "duration": 0,
    "start_time": "2023-02-16T12:10:32.756Z"
   },
   {
    "duration": 0,
    "start_time": "2023-02-16T12:10:32.756Z"
   },
   {
    "duration": 0,
    "start_time": "2023-02-16T12:10:32.758Z"
   },
   {
    "duration": 0,
    "start_time": "2023-02-16T12:10:32.759Z"
   },
   {
    "duration": 0,
    "start_time": "2023-02-16T12:10:32.760Z"
   },
   {
    "duration": 0,
    "start_time": "2023-02-16T12:10:32.761Z"
   },
   {
    "duration": 0,
    "start_time": "2023-02-16T12:10:32.762Z"
   },
   {
    "duration": 0,
    "start_time": "2023-02-16T12:10:32.763Z"
   },
   {
    "duration": 0,
    "start_time": "2023-02-16T12:10:32.764Z"
   },
   {
    "duration": 6,
    "start_time": "2023-02-16T12:12:29.853Z"
   },
   {
    "duration": 4,
    "start_time": "2023-02-16T12:19:52.518Z"
   },
   {
    "duration": 45,
    "start_time": "2023-02-16T12:19:54.956Z"
   },
   {
    "duration": 36,
    "start_time": "2023-02-16T12:22:45.367Z"
   },
   {
    "duration": 4,
    "start_time": "2023-02-16T12:29:55.199Z"
   },
   {
    "duration": 9,
    "start_time": "2023-02-16T12:29:57.683Z"
   },
   {
    "duration": 17,
    "start_time": "2023-02-16T12:30:00.420Z"
   },
   {
    "duration": 1198,
    "start_time": "2023-02-16T12:39:38.540Z"
   },
   {
    "duration": 165,
    "start_time": "2023-02-16T12:39:39.740Z"
   },
   {
    "duration": 12,
    "start_time": "2023-02-16T12:39:39.907Z"
   },
   {
    "duration": 26,
    "start_time": "2023-02-16T12:39:39.921Z"
   },
   {
    "duration": 5,
    "start_time": "2023-02-16T12:39:39.949Z"
   },
   {
    "duration": 12,
    "start_time": "2023-02-16T12:39:39.955Z"
   },
   {
    "duration": 20,
    "start_time": "2023-02-16T12:39:39.969Z"
   },
   {
    "duration": 15,
    "start_time": "2023-02-16T12:39:39.990Z"
   },
   {
    "duration": 89,
    "start_time": "2023-02-16T12:39:40.006Z"
   },
   {
    "duration": 97,
    "start_time": "2023-02-16T12:39:40.099Z"
   },
   {
    "duration": 3,
    "start_time": "2023-02-16T12:39:40.197Z"
   },
   {
    "duration": 14,
    "start_time": "2023-02-16T12:39:40.202Z"
   },
   {
    "duration": 77,
    "start_time": "2023-02-16T12:39:40.218Z"
   },
   {
    "duration": 60,
    "start_time": "2023-02-16T12:39:40.297Z"
   },
   {
    "duration": 18,
    "start_time": "2023-02-16T12:39:40.358Z"
   },
   {
    "duration": 7,
    "start_time": "2023-02-16T12:39:40.378Z"
   },
   {
    "duration": 9,
    "start_time": "2023-02-16T12:39:40.387Z"
   },
   {
    "duration": 16,
    "start_time": "2023-02-16T12:39:40.397Z"
   },
   {
    "duration": 27,
    "start_time": "2023-02-16T12:39:40.414Z"
   },
   {
    "duration": 11,
    "start_time": "2023-02-16T12:39:40.442Z"
   },
   {
    "duration": 19,
    "start_time": "2023-02-16T12:39:40.455Z"
   },
   {
    "duration": 5,
    "start_time": "2023-02-16T12:39:40.476Z"
   },
   {
    "duration": 18,
    "start_time": "2023-02-16T12:39:40.483Z"
   },
   {
    "duration": 40,
    "start_time": "2023-02-16T12:39:40.502Z"
   },
   {
    "duration": 7,
    "start_time": "2023-02-16T12:39:40.544Z"
   },
   {
    "duration": 11,
    "start_time": "2023-02-16T12:39:40.552Z"
   },
   {
    "duration": 6,
    "start_time": "2023-02-16T12:39:40.565Z"
   },
   {
    "duration": 517,
    "start_time": "2023-02-16T12:39:40.576Z"
   },
   {
    "duration": 660,
    "start_time": "2023-02-16T12:39:41.094Z"
   },
   {
    "duration": 20,
    "start_time": "2023-02-16T12:39:41.756Z"
   },
   {
    "duration": 15,
    "start_time": "2023-02-16T12:39:41.778Z"
   },
   {
    "duration": 10,
    "start_time": "2023-02-16T12:39:41.795Z"
   },
   {
    "duration": 34,
    "start_time": "2023-02-16T12:39:41.807Z"
   },
   {
    "duration": 8,
    "start_time": "2023-02-16T12:39:41.844Z"
   },
   {
    "duration": 7,
    "start_time": "2023-02-16T12:39:41.854Z"
   },
   {
    "duration": 6,
    "start_time": "2023-02-16T12:39:41.863Z"
   },
   {
    "duration": 29,
    "start_time": "2023-02-16T12:39:41.871Z"
   },
   {
    "duration": 389,
    "start_time": "2023-02-16T12:39:41.902Z"
   },
   {
    "duration": 83,
    "start_time": "2023-02-16T12:39:42.293Z"
   },
   {
    "duration": 7,
    "start_time": "2023-02-16T12:39:42.378Z"
   },
   {
    "duration": 59,
    "start_time": "2023-02-16T12:39:42.387Z"
   },
   {
    "duration": 56,
    "start_time": "2023-02-16T12:39:42.447Z"
   },
   {
    "duration": 103,
    "start_time": "2023-02-16T12:39:42.505Z"
   },
   {
    "duration": 4,
    "start_time": "2023-02-16T12:39:42.611Z"
   },
   {
    "duration": 24,
    "start_time": "2023-02-16T12:39:42.617Z"
   },
   {
    "duration": 100,
    "start_time": "2023-02-16T12:39:42.644Z"
   },
   {
    "duration": 4,
    "start_time": "2023-02-16T12:39:42.745Z"
   },
   {
    "duration": 10,
    "start_time": "2023-02-16T12:39:42.751Z"
   },
   {
    "duration": 7,
    "start_time": "2023-02-16T12:39:42.763Z"
   },
   {
    "duration": 6,
    "start_time": "2023-02-16T12:39:42.771Z"
   },
   {
    "duration": 8,
    "start_time": "2023-02-16T12:39:42.779Z"
   },
   {
    "duration": 49,
    "start_time": "2023-02-16T12:39:42.788Z"
   },
   {
    "duration": 9,
    "start_time": "2023-02-16T12:39:42.839Z"
   },
   {
    "duration": 15,
    "start_time": "2023-02-16T12:39:42.850Z"
   },
   {
    "duration": 7,
    "start_time": "2023-02-16T12:39:42.867Z"
   },
   {
    "duration": 8,
    "start_time": "2023-02-16T12:39:42.875Z"
   },
   {
    "duration": 108,
    "start_time": "2023-02-16T12:39:42.884Z"
   },
   {
    "duration": 18,
    "start_time": "2023-02-16T12:39:42.994Z"
   },
   {
    "duration": 5,
    "start_time": "2023-02-16T12:39:43.014Z"
   },
   {
    "duration": 18,
    "start_time": "2023-02-16T12:39:43.021Z"
   },
   {
    "duration": 6,
    "start_time": "2023-02-16T12:39:43.040Z"
   },
   {
    "duration": 10,
    "start_time": "2023-02-16T12:39:43.048Z"
   },
   {
    "duration": 8,
    "start_time": "2023-02-16T12:39:43.059Z"
   },
   {
    "duration": 9,
    "start_time": "2023-02-16T12:39:43.069Z"
   },
   {
    "duration": 36,
    "start_time": "2023-02-16T12:39:43.080Z"
   },
   {
    "duration": 4,
    "start_time": "2023-02-16T12:39:43.136Z"
   },
   {
    "duration": 7,
    "start_time": "2023-02-16T12:39:43.142Z"
   },
   {
    "duration": 11,
    "start_time": "2023-02-16T12:39:43.151Z"
   },
   {
    "duration": 12,
    "start_time": "2023-02-16T12:39:43.164Z"
   },
   {
    "duration": 21,
    "start_time": "2023-02-16T12:39:43.177Z"
   },
   {
    "duration": 7,
    "start_time": "2023-02-16T13:07:09.256Z"
   },
   {
    "duration": 17,
    "start_time": "2023-02-16T13:09:35.260Z"
   },
   {
    "duration": 1398,
    "start_time": "2023-02-16T13:22:00.922Z"
   },
   {
    "duration": 191,
    "start_time": "2023-02-16T13:22:02.322Z"
   },
   {
    "duration": 14,
    "start_time": "2023-02-16T13:22:02.515Z"
   },
   {
    "duration": 22,
    "start_time": "2023-02-16T13:22:02.532Z"
   },
   {
    "duration": 33,
    "start_time": "2023-02-16T13:22:02.556Z"
   },
   {
    "duration": 10,
    "start_time": "2023-02-16T13:22:02.592Z"
   },
   {
    "duration": 48,
    "start_time": "2023-02-16T13:22:02.604Z"
   },
   {
    "duration": 30,
    "start_time": "2023-02-16T13:22:02.656Z"
   },
   {
    "duration": 146,
    "start_time": "2023-02-16T13:22:02.689Z"
   },
   {
    "duration": 100,
    "start_time": "2023-02-16T13:22:02.837Z"
   },
   {
    "duration": 4,
    "start_time": "2023-02-16T13:22:02.940Z"
   },
   {
    "duration": 23,
    "start_time": "2023-02-16T13:22:02.946Z"
   },
   {
    "duration": 83,
    "start_time": "2023-02-16T13:22:02.972Z"
   },
   {
    "duration": 61,
    "start_time": "2023-02-16T13:22:03.057Z"
   },
   {
    "duration": 12,
    "start_time": "2023-02-16T13:22:03.119Z"
   },
   {
    "duration": 11,
    "start_time": "2023-02-16T13:22:03.133Z"
   },
   {
    "duration": 21,
    "start_time": "2023-02-16T13:22:03.147Z"
   },
   {
    "duration": 28,
    "start_time": "2023-02-16T13:22:03.171Z"
   },
   {
    "duration": 18,
    "start_time": "2023-02-16T13:22:03.201Z"
   },
   {
    "duration": 29,
    "start_time": "2023-02-16T13:22:03.221Z"
   },
   {
    "duration": 27,
    "start_time": "2023-02-16T13:22:03.252Z"
   },
   {
    "duration": 8,
    "start_time": "2023-02-16T13:22:03.282Z"
   },
   {
    "duration": 50,
    "start_time": "2023-02-16T13:22:03.291Z"
   },
   {
    "duration": 8,
    "start_time": "2023-02-16T13:22:03.343Z"
   },
   {
    "duration": 12,
    "start_time": "2023-02-16T13:22:03.353Z"
   },
   {
    "duration": 17,
    "start_time": "2023-02-16T13:22:03.367Z"
   },
   {
    "duration": 11,
    "start_time": "2023-02-16T13:22:03.386Z"
   },
   {
    "duration": 530,
    "start_time": "2023-02-16T13:22:03.404Z"
   },
   {
    "duration": 815,
    "start_time": "2023-02-16T13:22:03.938Z"
   },
   {
    "duration": 20,
    "start_time": "2023-02-16T13:22:04.755Z"
   },
   {
    "duration": 16,
    "start_time": "2023-02-16T13:22:04.777Z"
   },
   {
    "duration": 12,
    "start_time": "2023-02-16T13:22:04.794Z"
   },
   {
    "duration": 7,
    "start_time": "2023-02-16T13:22:04.807Z"
   },
   {
    "duration": 10,
    "start_time": "2023-02-16T13:22:04.816Z"
   },
   {
    "duration": 9,
    "start_time": "2023-02-16T13:22:04.837Z"
   },
   {
    "duration": 28,
    "start_time": "2023-02-16T13:22:04.849Z"
   },
   {
    "duration": 53,
    "start_time": "2023-02-16T13:22:04.879Z"
   },
   {
    "duration": 610,
    "start_time": "2023-02-16T13:22:04.934Z"
   },
   {
    "duration": 113,
    "start_time": "2023-02-16T13:22:05.546Z"
   },
   {
    "duration": 8,
    "start_time": "2023-02-16T13:22:05.661Z"
   },
   {
    "duration": 22,
    "start_time": "2023-02-16T13:22:05.671Z"
   },
   {
    "duration": 157,
    "start_time": "2023-02-16T13:22:05.696Z"
   },
   {
    "duration": 210,
    "start_time": "2023-02-16T13:22:05.857Z"
   },
   {
    "duration": 6,
    "start_time": "2023-02-16T13:22:06.069Z"
   },
   {
    "duration": 21,
    "start_time": "2023-02-16T13:22:06.077Z"
   },
   {
    "duration": 76,
    "start_time": "2023-02-16T13:22:06.100Z"
   },
   {
    "duration": 4,
    "start_time": "2023-02-16T13:22:06.178Z"
   },
   {
    "duration": 9,
    "start_time": "2023-02-16T13:22:06.185Z"
   },
   {
    "duration": 40,
    "start_time": "2023-02-16T13:22:06.197Z"
   },
   {
    "duration": 10,
    "start_time": "2023-02-16T13:22:06.240Z"
   },
   {
    "duration": 14,
    "start_time": "2023-02-16T13:22:06.252Z"
   },
   {
    "duration": 19,
    "start_time": "2023-02-16T13:22:06.270Z"
   },
   {
    "duration": 12,
    "start_time": "2023-02-16T13:22:06.291Z"
   },
   {
    "duration": 45,
    "start_time": "2023-02-16T13:22:06.304Z"
   },
   {
    "duration": 15,
    "start_time": "2023-02-16T13:22:06.352Z"
   },
   {
    "duration": 14,
    "start_time": "2023-02-16T13:22:06.370Z"
   },
   {
    "duration": 98,
    "start_time": "2023-02-16T13:22:06.386Z"
   },
   {
    "duration": 21,
    "start_time": "2023-02-16T13:22:06.486Z"
   },
   {
    "duration": 6,
    "start_time": "2023-02-16T13:22:06.509Z"
   },
   {
    "duration": 28,
    "start_time": "2023-02-16T13:22:06.517Z"
   },
   {
    "duration": 6,
    "start_time": "2023-02-16T13:22:06.547Z"
   },
   {
    "duration": 15,
    "start_time": "2023-02-16T13:22:06.556Z"
   },
   {
    "duration": 16,
    "start_time": "2023-02-16T13:22:06.573Z"
   },
   {
    "duration": 14,
    "start_time": "2023-02-16T13:22:06.592Z"
   },
   {
    "duration": 53,
    "start_time": "2023-02-16T13:22:06.607Z"
   },
   {
    "duration": 5,
    "start_time": "2023-02-16T13:22:06.662Z"
   },
   {
    "duration": 13,
    "start_time": "2023-02-16T13:22:06.670Z"
   },
   {
    "duration": 16,
    "start_time": "2023-02-16T13:22:06.686Z"
   },
   {
    "duration": 11,
    "start_time": "2023-02-16T13:22:06.704Z"
   },
   {
    "duration": 39,
    "start_time": "2023-02-16T13:22:06.716Z"
   },
   {
    "duration": 11,
    "start_time": "2023-02-16T13:22:06.757Z"
   },
   {
    "duration": 30,
    "start_time": "2023-02-16T13:22:06.770Z"
   },
   {
    "duration": 1303,
    "start_time": "2023-02-17T10:59:35.882Z"
   },
   {
    "duration": 158,
    "start_time": "2023-02-17T10:59:37.187Z"
   },
   {
    "duration": 10,
    "start_time": "2023-02-17T10:59:37.346Z"
   },
   {
    "duration": 32,
    "start_time": "2023-02-17T10:59:37.357Z"
   },
   {
    "duration": 30,
    "start_time": "2023-02-17T10:59:37.391Z"
   },
   {
    "duration": 10,
    "start_time": "2023-02-17T10:59:37.423Z"
   },
   {
    "duration": 38,
    "start_time": "2023-02-17T10:59:37.435Z"
   },
   {
    "duration": 16,
    "start_time": "2023-02-17T10:59:37.475Z"
   },
   {
    "duration": 62,
    "start_time": "2023-02-17T10:59:37.493Z"
   },
   {
    "duration": 77,
    "start_time": "2023-02-17T10:59:37.557Z"
   },
   {
    "duration": 4,
    "start_time": "2023-02-17T10:59:37.636Z"
   },
   {
    "duration": 35,
    "start_time": "2023-02-17T10:59:37.641Z"
   },
   {
    "duration": 76,
    "start_time": "2023-02-17T10:59:37.678Z"
   },
   {
    "duration": 38,
    "start_time": "2023-02-17T10:59:37.758Z"
   },
   {
    "duration": 8,
    "start_time": "2023-02-17T10:59:37.798Z"
   },
   {
    "duration": 6,
    "start_time": "2023-02-17T10:59:37.808Z"
   },
   {
    "duration": 6,
    "start_time": "2023-02-17T10:59:37.816Z"
   },
   {
    "duration": 20,
    "start_time": "2023-02-17T10:59:37.824Z"
   },
   {
    "duration": 12,
    "start_time": "2023-02-17T10:59:37.846Z"
   },
   {
    "duration": 42,
    "start_time": "2023-02-17T10:59:37.859Z"
   },
   {
    "duration": 16,
    "start_time": "2023-02-17T10:59:37.903Z"
   },
   {
    "duration": 5,
    "start_time": "2023-02-17T10:59:37.921Z"
   },
   {
    "duration": 22,
    "start_time": "2023-02-17T10:59:37.928Z"
   },
   {
    "duration": 6,
    "start_time": "2023-02-17T10:59:37.952Z"
   },
   {
    "duration": 32,
    "start_time": "2023-02-17T10:59:37.960Z"
   },
   {
    "duration": 6,
    "start_time": "2023-02-17T10:59:37.993Z"
   },
   {
    "duration": 5,
    "start_time": "2023-02-17T10:59:38.000Z"
   },
   {
    "duration": 469,
    "start_time": "2023-02-17T10:59:38.006Z"
   },
   {
    "duration": 646,
    "start_time": "2023-02-17T10:59:38.477Z"
   },
   {
    "duration": 17,
    "start_time": "2023-02-17T10:59:39.125Z"
   },
   {
    "duration": 14,
    "start_time": "2023-02-17T10:59:39.144Z"
   },
   {
    "duration": 33,
    "start_time": "2023-02-17T10:59:39.159Z"
   },
   {
    "duration": 10,
    "start_time": "2023-02-17T10:59:39.194Z"
   },
   {
    "duration": 16,
    "start_time": "2023-02-17T10:59:39.206Z"
   },
   {
    "duration": 13,
    "start_time": "2023-02-17T10:59:39.224Z"
   },
   {
    "duration": 6,
    "start_time": "2023-02-17T10:59:39.239Z"
   },
   {
    "duration": 19,
    "start_time": "2023-02-17T10:59:39.247Z"
   },
   {
    "duration": 496,
    "start_time": "2023-02-17T10:59:39.268Z"
   },
   {
    "duration": 60,
    "start_time": "2023-02-17T10:59:39.766Z"
   },
   {
    "duration": 5,
    "start_time": "2023-02-17T10:59:39.828Z"
   },
   {
    "duration": 63,
    "start_time": "2023-02-17T10:59:39.837Z"
   },
   {
    "duration": 55,
    "start_time": "2023-02-17T10:59:39.901Z"
   },
   {
    "duration": 87,
    "start_time": "2023-02-17T10:59:39.957Z"
   },
   {
    "duration": 5,
    "start_time": "2023-02-17T10:59:40.047Z"
   },
   {
    "duration": 40,
    "start_time": "2023-02-17T10:59:40.055Z"
   },
   {
    "duration": 54,
    "start_time": "2023-02-17T10:59:40.097Z"
   },
   {
    "duration": 4,
    "start_time": "2023-02-17T10:59:40.153Z"
   },
   {
    "duration": 52,
    "start_time": "2023-02-17T10:59:40.159Z"
   },
   {
    "duration": 13,
    "start_time": "2023-02-17T10:59:40.213Z"
   },
   {
    "duration": 7,
    "start_time": "2023-02-17T10:59:40.228Z"
   },
   {
    "duration": 22,
    "start_time": "2023-02-17T10:59:40.237Z"
   },
   {
    "duration": 17,
    "start_time": "2023-02-17T10:59:40.261Z"
   },
   {
    "duration": 14,
    "start_time": "2023-02-17T10:59:40.280Z"
   },
   {
    "duration": 17,
    "start_time": "2023-02-17T10:59:40.296Z"
   },
   {
    "duration": 17,
    "start_time": "2023-02-17T10:59:40.315Z"
   },
   {
    "duration": 10,
    "start_time": "2023-02-17T10:59:40.334Z"
   },
   {
    "duration": 91,
    "start_time": "2023-02-17T10:59:40.346Z"
   },
   {
    "duration": 17,
    "start_time": "2023-02-17T10:59:40.439Z"
   },
   {
    "duration": 6,
    "start_time": "2023-02-17T10:59:40.458Z"
   },
   {
    "duration": 26,
    "start_time": "2023-02-17T10:59:40.466Z"
   },
   {
    "duration": 15,
    "start_time": "2023-02-17T10:59:40.494Z"
   },
   {
    "duration": 28,
    "start_time": "2023-02-17T10:59:40.511Z"
   },
   {
    "duration": 13,
    "start_time": "2023-02-17T10:59:40.541Z"
   },
   {
    "duration": 14,
    "start_time": "2023-02-17T10:59:40.556Z"
   },
   {
    "duration": 41,
    "start_time": "2023-02-17T10:59:40.572Z"
   },
   {
    "duration": 4,
    "start_time": "2023-02-17T10:59:40.615Z"
   },
   {
    "duration": 24,
    "start_time": "2023-02-17T10:59:40.621Z"
   },
   {
    "duration": 14,
    "start_time": "2023-02-17T10:59:40.647Z"
   },
   {
    "duration": 10,
    "start_time": "2023-02-17T10:59:40.663Z"
   },
   {
    "duration": 18,
    "start_time": "2023-02-17T10:59:40.675Z"
   },
   {
    "duration": 6,
    "start_time": "2023-02-17T10:59:40.695Z"
   },
   {
    "duration": 34,
    "start_time": "2023-02-17T10:59:40.703Z"
   }
  ],
  "kernelspec": {
   "display_name": "Python 3 (ipykernel)",
   "language": "python",
   "name": "python3"
  },
  "language_info": {
   "codemirror_mode": {
    "name": "ipython",
    "version": 3
   },
   "file_extension": ".py",
   "mimetype": "text/x-python",
   "name": "python",
   "nbconvert_exporter": "python",
   "pygments_lexer": "ipython3",
   "version": "3.9.12"
  },
  "toc": {
   "base_numbering": 1,
   "nav_menu": {},
   "number_sections": false,
   "sideBar": true,
   "skip_h1_title": false,
   "title_cell": "Table of Contents",
   "title_sidebar": "Contents",
   "toc_cell": true,
   "toc_position": {
    "height": "calc(100% - 180px)",
    "left": "10px",
    "top": "150px",
    "width": "222.433px"
   },
   "toc_section_display": true,
   "toc_window_display": false
  }
 },
 "nbformat": 4,
 "nbformat_minor": 2
}
