{
 "cells": [
  {
   "cell_type": "markdown",
   "metadata": {},
   "source": [
    "<div class=\"alert alert-info\"> \n",
    "\n",
    "<font size=\"5\"><b><p style=\"text-align: center;\">ИССЛЕДОВАНИЕ РЫНКА ВИДЕОИГР И ВЫЯВЛЕНИЕ КРИТЕРИЕВ ИХ УСПЕШНОЙ ПРОДАЖИ</p></b></font>"
   ]
  },
  {
   "cell_type": "markdown",
   "metadata": {},
   "source": [
    "**ЦЕЛИ И ЗАДАЧИ ИССЛЕДОВАНИЯ:**\n",
    "\n",
    "**Целью настоящего исследования является выявление закономерностей, определяющих успешность продажи видеоигр, что в дальнейшем позволит сделать ставку на потенциально популярный продукт и спланировать рекламные кампании.  \n",
    "Перед нами стоит задача проанализировать датасет, содержащий исторические данные о продажах видеоигр, оценки пользователей и экспертов, жанры и платформы, с 1980 по 2016 год.  \n",
    "Также необходимо смоделировать ситуацию прогнозирования продаж на 2017 год и определить наиболее перспективные платформы и жанры.**"
   ]
  },
  {
   "cell_type": "markdown",
   "metadata": {
    "toc": true
   },
   "source": [
    "<h1>Table of Contents<span class=\"tocSkip\"></span></h1>\n",
    "<div class=\"toc\"><ul class=\"toc-item\"><li><span><a href=\"#ЗНАКОМСТВО-С-ДАННЫМИ\" data-toc-modified-id=\"ЗНАКОМСТВО-С-ДАННЫМИ-1\"><span class=\"toc-item-num\">1&nbsp;&nbsp;</span>ЗНАКОМСТВО С ДАННЫМИ</a></span></li><li><span><a href=\"#ПРЕДВАРИТЕЛЬНАЯ-ОБРАБОТКА-ДАННЫХ\" data-toc-modified-id=\"ПРЕДВАРИТЕЛЬНАЯ-ОБРАБОТКА-ДАННЫХ-2\"><span class=\"toc-item-num\">2&nbsp;&nbsp;</span>ПРЕДВАРИТЕЛЬНАЯ ОБРАБОТКА ДАННЫХ</a></span></li><li><span><a href=\"#ИССЛЕДОВАТЕЛЬСКИЙ-АНАЛИЗ-ДАННЫХ\" data-toc-modified-id=\"ИССЛЕДОВАТЕЛЬСКИЙ-АНАЛИЗ-ДАННЫХ-3\"><span class=\"toc-item-num\">3&nbsp;&nbsp;</span>ИССЛЕДОВАТЕЛЬСКИЙ АНАЛИЗ ДАННЫХ</a></span><ul class=\"toc-item\"><li><span><a href=\"#Оценка-количества-игр,-выпускаемых-в-разные-годы\" data-toc-modified-id=\"Оценка-количества-игр,-выпускаемых-в-разные-годы-3.1\"><span class=\"toc-item-num\">3.1&nbsp;&nbsp;</span>Оценка количества игр, выпускаемых в разные годы</a></span></li><li><span><a href=\"#Оценка-изменений-продаж-в-зависимости-от-платформы\" data-toc-modified-id=\"Оценка-изменений-продаж-в-зависимости-от-платформы-3.2\"><span class=\"toc-item-num\">3.2&nbsp;&nbsp;</span>Оценка изменений продаж в зависимости от платформы</a></span></li><li><span><a href=\"#Анализ-данных-за-актуальный-период\" data-toc-modified-id=\"Анализ-данных-за-актуальный-период-3.3\"><span class=\"toc-item-num\">3.3&nbsp;&nbsp;</span>Анализ данных за актуальный период</a></span></li><li><span><a href=\"#Оценка-глобальных-продаж-игр-с-помощью-диаграммы-размаха\" data-toc-modified-id=\"Оценка-глобальных-продаж-игр-с-помощью-диаграммы-размаха-3.4\"><span class=\"toc-item-num\">3.4&nbsp;&nbsp;</span>Оценка глобальных продаж игр с помощью диаграммы размаха</a></span></li><li><span><a href=\"#Оценка-связи-продаж-внутри-одной-популярной-платформы-с-отзывами-пользователей-и-критиков\" data-toc-modified-id=\"Оценка-связи-продаж-внутри-одной-популярной-платформы-с-отзывами-пользователей-и-критиков-3.5\"><span class=\"toc-item-num\">3.5&nbsp;&nbsp;</span>Оценка связи продаж внутри одной популярной платформы с отзывами пользователей и критиков</a></span></li><li><span><a href=\"#Изучение-соотношения-жанра-игр-и-прибыльности\" data-toc-modified-id=\"Изучение-соотношения-жанра-игр-и-прибыльности-3.6\"><span class=\"toc-item-num\">3.6&nbsp;&nbsp;</span>Изучение соотношения жанра игр и прибыльности</a></span></li></ul></li><li><span><a href=\"#СОСТАВЛЕНИЕ-ПОРТРЕТОВ-ПОЛЬЗОВАТЕЛЕЙ-ПО-РЕГИОНАМ\" data-toc-modified-id=\"СОСТАВЛЕНИЕ-ПОРТРЕТОВ-ПОЛЬЗОВАТЕЛЕЙ-ПО-РЕГИОНАМ-4\"><span class=\"toc-item-num\">4&nbsp;&nbsp;</span>СОСТАВЛЕНИЕ ПОРТРЕТОВ ПОЛЬЗОВАТЕЛЕЙ ПО РЕГИОНАМ</a></span><ul class=\"toc-item\"><li><span><a href=\"#Самые-популярные-платформы-(топ-5)\" data-toc-modified-id=\"Самые-популярные-платформы-(топ-5)-4.1\"><span class=\"toc-item-num\">4.1&nbsp;&nbsp;</span>Самые популярные платформы (топ-5)</a></span><ul class=\"toc-item\"><li><span><a href=\"#Оценка-продаж-в-Северной-Америке:\" data-toc-modified-id=\"Оценка-продаж-в-Северной-Америке:-4.1.1\"><span class=\"toc-item-num\">4.1.1&nbsp;&nbsp;</span>Оценка продаж в Северной Америке:</a></span></li><li><span><a href=\"#Оценка-продаж-в-Европе:\" data-toc-modified-id=\"Оценка-продаж-в-Европе:-4.1.2\"><span class=\"toc-item-num\">4.1.2&nbsp;&nbsp;</span>Оценка продаж в Европе:</a></span></li><li><span><a href=\"#Оценка-продаж-в-Японии\" data-toc-modified-id=\"Оценка-продаж-в-Японии-4.1.3\"><span class=\"toc-item-num\">4.1.3&nbsp;&nbsp;</span>Оценка продаж в Японии</a></span></li></ul></li><li><span><a href=\"#Самые-популярные-жанры-(топ-5)\" data-toc-modified-id=\"Самые-популярные-жанры-(топ-5)-4.2\"><span class=\"toc-item-num\">4.2&nbsp;&nbsp;</span>Самые популярные жанры (топ-5)</a></span><ul class=\"toc-item\"><li><span><a href=\"#Самые-популярные-жанры-в-Северной-Америке\" data-toc-modified-id=\"Самые-популярные-жанры-в-Северной-Америке-4.2.1\"><span class=\"toc-item-num\">4.2.1&nbsp;&nbsp;</span>Самые популярные жанры в Северной Америке</a></span></li><li><span><a href=\"#Самые-популярные-жанры-в-Европе\" data-toc-modified-id=\"Самые-популярные-жанры-в-Европе-4.2.2\"><span class=\"toc-item-num\">4.2.2&nbsp;&nbsp;</span>Самые популярные жанры в Европе</a></span></li><li><span><a href=\"#Самые-популярные-жанры-в-Японии\" data-toc-modified-id=\"Самые-популярные-жанры-в-Японии-4.2.3\"><span class=\"toc-item-num\">4.2.3&nbsp;&nbsp;</span>Самые популярные жанры в Японии</a></span></li></ul></li><li><span><a href=\"#Оценка-влияния-рейтинга-ESRB-на-продажи-в-отдельном-регионе\" data-toc-modified-id=\"Оценка-влияния-рейтинга-ESRB-на-продажи-в-отдельном-регионе-4.3\"><span class=\"toc-item-num\">4.3&nbsp;&nbsp;</span>Оценка влияния рейтинга ESRB на продажи в отдельном регионе</a></span><ul class=\"toc-item\"><li><span><a href=\"#Проверим-влияние-рейтинга-ESRB-на-продажи-в-Северной-Америке\" data-toc-modified-id=\"Проверим-влияние-рейтинга-ESRB-на-продажи-в-Северной-Америке-4.3.1\"><span class=\"toc-item-num\">4.3.1&nbsp;&nbsp;</span>Проверим влияние рейтинга ESRB на продажи в Северной Америке</a></span></li><li><span><a href=\"#Проверим-влияние-рейтинга-ESRB-на-продажи-в-Европе\" data-toc-modified-id=\"Проверим-влияние-рейтинга-ESRB-на-продажи-в-Европе-4.3.2\"><span class=\"toc-item-num\">4.3.2&nbsp;&nbsp;</span>Проверим влияние рейтинга ESRB на продажи в Европе</a></span></li><li><span><a href=\"#Проверим-влияние-рейтинга-ESRB-на-продажи-в-Японии\" data-toc-modified-id=\"Проверим-влияние-рейтинга-ESRB-на-продажи-в-Японии-4.3.3\"><span class=\"toc-item-num\">4.3.3&nbsp;&nbsp;</span>Проверим влияние рейтинга ESRB на продажи в Японии</a></span></li></ul></li></ul></li><li><span><a href=\"#ПРОВЕРКА-ГИПОТЕЗ\" data-toc-modified-id=\"ПРОВЕРКА-ГИПОТЕЗ-5\"><span class=\"toc-item-num\">5&nbsp;&nbsp;</span>ПРОВЕРКА ГИПОТЕЗ</a></span><ul class=\"toc-item\"><li><span><a href=\"#Проверка-гипотезы-о-том,-что-средние-пользовательские-рейтинги-платформ-Xbox-One-и-PC-одинаковые\" data-toc-modified-id=\"Проверка-гипотезы-о-том,-что-средние-пользовательские-рейтинги-платформ-Xbox-One-и-PC-одинаковые-5.1\"><span class=\"toc-item-num\">5.1&nbsp;&nbsp;</span>Проверка гипотезы о том, что средние пользовательские рейтинги платформ Xbox One и PC одинаковые</a></span></li><li><span><a href=\"#Проверка-гипотезы-о-том,-что-средние-пользовательские-рейтинги-жанров-Action-и-Sports---разные\" data-toc-modified-id=\"Проверка-гипотезы-о-том,-что-средние-пользовательские-рейтинги-жанров-Action-и-Sports---разные-5.2\"><span class=\"toc-item-num\">5.2&nbsp;&nbsp;</span>Проверка гипотезы о том, что средние пользовательские рейтинги жанров Action и Sports - разные</a></span></li></ul></li><li><span><a href=\"#ОБЩИЙ-ВЫВОД\" data-toc-modified-id=\"ОБЩИЙ-ВЫВОД-6\"><span class=\"toc-item-num\">6&nbsp;&nbsp;</span>ОБЩИЙ ВЫВОД</a></span></li></ul></div>"
   ]
  },
  {
   "cell_type": "markdown",
   "metadata": {},
   "source": [
    "<div class=\"alert alert-info\">\n",
    "\n",
    "## ЗНАКОМСТВО С ДАННЫМИ"
   ]
  },
  {
   "cell_type": "markdown",
   "metadata": {},
   "source": [
    "**Для начала импортируем набор необходимых для работы библиотек, затем загрузим датасет:**"
   ]
  },
  {
   "cell_type": "code",
   "execution_count": null,
   "metadata": {},
   "outputs": [],
   "source": [
    "#импортируем необходимые библиотеки\n",
    "\n",
    "import pandas as pd\n",
    "import matplotlib.pyplot as plt\n",
    "from matplotlib.pyplot import figure\n",
    "from scipy import stats as st\n",
    "import seaborn as sns"
   ]
  },
  {
   "cell_type": "code",
   "execution_count": null,
   "metadata": {},
   "outputs": [],
   "source": [
    "#загрузим датасет\n",
    "data = pd.read_csv ('D:\\Datasets_for_Git\\games.csv')"
   ]
  },
  {
   "cell_type": "code",
   "execution_count": null,
   "metadata": {},
   "outputs": [],
   "source": [
    "#сразу настроим полный вывод всех колонок на экран по ширине\n",
    "pd.set_option('display.max_columns', None)"
   ]
  },
  {
   "cell_type": "markdown",
   "metadata": {},
   "source": [
    "**Ознакомимся с датасетом**"
   ]
  },
  {
   "cell_type": "code",
   "execution_count": null,
   "metadata": {},
   "outputs": [],
   "source": [
    "#посмотрим объём\n",
    "\n",
    "data.shape"
   ]
  },
  {
   "cell_type": "code",
   "execution_count": null,
   "metadata": {},
   "outputs": [],
   "source": [
    "#посмотрим колонки\n",
    "\n",
    "data.columns"
   ]
  },
  {
   "cell_type": "markdown",
   "metadata": {},
   "source": [
    "**Сразу бросается в глаза большие буквы в названиях колонок**"
   ]
  },
  {
   "cell_type": "code",
   "execution_count": null,
   "metadata": {},
   "outputs": [],
   "source": [
    "#посмотрим типы данных\n",
    "\n",
    "data.dtypes"
   ]
  },
  {
   "cell_type": "markdown",
   "metadata": {},
   "source": [
    "**Колонка Year_of_Release представлена в формате вещественных чисел, а не даты. User_Score - в формате строки, а не числа**"
   ]
  },
  {
   "cell_type": "code",
   "execution_count": null,
   "metadata": {},
   "outputs": [],
   "source": [
    "#получим общую сводную информацию\n",
    "\n",
    "data.info()"
   ]
  },
  {
   "cell_type": "markdown",
   "metadata": {},
   "source": [
    "**В датасете присутствуют колонки с пропусками**"
   ]
  },
  {
   "cell_type": "code",
   "execution_count": null,
   "metadata": {},
   "outputs": [],
   "source": [
    "#для наглядности выведем первые 10 строк датасета\n",
    "\n",
    "data.head(10)"
   ]
  },
  {
   "cell_type": "code",
   "execution_count": null,
   "metadata": {
    "scrolled": false
   },
   "outputs": [],
   "source": [
    "#для предваительной оценки распределённости данных, построим сводные гистограммы по тем колонкам, которые позволяют это\n",
    "\n",
    "data.hist(figsize=(15, 20))\n",
    "plt.show()"
   ]
  },
  {
   "cell_type": "markdown",
   "metadata": {},
   "source": [
    "**Отметим тот факт, что в колонке года выпуска представлено некоторое количество релизов аж с 1980 года.  \n",
    "Распределение данных в колонке Critic_Score близко к нормальному, при этом смещено влево.**"
   ]
  },
  {
   "cell_type": "code",
   "execution_count": null,
   "metadata": {},
   "outputs": [],
   "source": []
  },
  {
   "cell_type": "code",
   "execution_count": null,
   "metadata": {},
   "outputs": [],
   "source": []
  },
  {
   "cell_type": "markdown",
   "metadata": {},
   "source": [
    "<div class=\"alert alert-info\">\n",
    "<a id='predv'></a>\n",
    "    \n",
    "## ПРЕДВАРИТЕЛЬНАЯ ОБРАБОТКА ДАННЫХ"
   ]
  },
  {
   "cell_type": "markdown",
   "metadata": {},
   "source": [
    "**Для начала, приведём названия колонок к нижнему регистру:**"
   ]
  },
  {
   "cell_type": "code",
   "execution_count": null,
   "metadata": {},
   "outputs": [],
   "source": [
    "#используем метод map, после чего выведем новый список названий столбцов\n",
    "\n",
    "data.columns = map(str.lower, data.columns)\n",
    "list(data)"
   ]
  },
  {
   "cell_type": "markdown",
   "metadata": {},
   "source": [
    "**Проверим датасет на наличие явных дубликатов:**"
   ]
  },
  {
   "cell_type": "code",
   "execution_count": null,
   "metadata": {},
   "outputs": [],
   "source": [
    "print (data.duplicated().sum())"
   ]
  },
  {
   "cell_type": "markdown",
   "metadata": {},
   "source": [
    "**Преобразуем данные в соответствующих колонках, в нужные типы:**\n",
    "\n",
    "***- year_of_release из float в  datetime, затем оставим лишь год***  \n",
    "***- user_score - из object во float, поскольку оценка пользователей - это не целое число***"
   ]
  },
  {
   "cell_type": "code",
   "execution_count": null,
   "metadata": {},
   "outputs": [],
   "source": [
    "#для начала, проверим колонку year_of_release на наличие пропусков (для удобства - сразу в процентах)\n",
    "\n",
    "data['year_of_release'].isna().mean()"
   ]
  },
  {
   "cell_type": "markdown",
   "metadata": {},
   "source": [
    "**Как видим, здесь пропущен всего около 1,6% значений, серьёзного влияния на общую картину они не оказывают. Удалим строки с пропущенными годами**"
   ]
  },
  {
   "cell_type": "code",
   "execution_count": null,
   "metadata": {},
   "outputs": [],
   "source": [
    "data.dropna(subset=['year_of_release'], inplace=True) "
   ]
  },
  {
   "cell_type": "code",
   "execution_count": null,
   "metadata": {},
   "outputs": [],
   "source": [
    "#переведём данные колонки в формат datetime, затем оставим в колонке лишь год релиза, для более удобной последующей обработки\n",
    "\n",
    "data['year_of_release'] = pd.to_datetime(data ['year_of_release'], format='%Y')\n",
    "data['year_of_release'] = data['year_of_release'].dt.year"
   ]
  },
  {
   "cell_type": "markdown",
   "metadata": {},
   "source": [
    "**Далее займёмся колонкой user_score:**"
   ]
  },
  {
   "cell_type": "code",
   "execution_count": null,
   "metadata": {},
   "outputs": [],
   "source": [
    "#во избежание сбоя при выполнении преобразования, подстрахуемся дополнительным условием\n",
    "\n",
    "try:\n",
    "    data['user_score'] = pd.to_numeric (data['user_score'])\n",
    "except:\n",
    "    print ('Не удалось преобразовать все имеющиеся значения')\n"
   ]
  },
  {
   "cell_type": "markdown",
   "metadata": {},
   "source": [
    "**При попытке преобразования, программа выдаёт ошибку.  \n",
    "Попытаемся разобраться, в чём дело. Выведем на экран список всех уникальных значений столбца:**"
   ]
  },
  {
   "cell_type": "code",
   "execution_count": null,
   "metadata": {
    "scrolled": true
   },
   "outputs": [],
   "source": [
    "data['user_score'].unique()"
   ]
  },
  {
   "cell_type": "markdown",
   "metadata": {},
   "source": [
    "**В колонке присутствует значение 'tbd'.  \n",
    "Посмотрим, сколько строк имеют обозначение 'tbd' и какой процент от общего количества они составляют:**"
   ]
  },
  {
   "cell_type": "code",
   "execution_count": null,
   "metadata": {},
   "outputs": [],
   "source": [
    "print (data.loc[data['user_score'] == 'tbd', 'user_score'].count())\n",
    "print (data.loc[data['user_score'] == 'tbd', 'user_score'].count() / len(data['user_score']))"
   ]
  },
  {
   "cell_type": "markdown",
   "metadata": {},
   "source": [
    "**Как видим, суммарно это составляет 2376 записей, т.е.чуть больше 14% от общего количества. Это достаточно большой процент, его удаление может существенно повлиять на итоговые показатели исследования.  \n",
    "Результаты поиска в Интернете говорят о том, что это, очевидно, расшифровывается как To Be Determined, то есть \"Будет определено\".  \n",
    "Очень часто подобное сокращение можно встретить в анонсах компьютерных игр в графе \"Дата выхода\", в тех случаях, когда разработчик той или иной игры уже сообщил о том, что она готовится к выходу, но пока еще не может назвать точную дату, именно это сокращение и используется.  \n",
    "Похоже на то, что пользовательский рейтинг по данным играм ещё не определён, они могут быть относително новыми. В этом случае, гды выпуска должен быть последним или предпоследним.  \n",
    "Проверим, так ли это:**"
   ]
  },
  {
   "cell_type": "code",
   "execution_count": null,
   "metadata": {
    "scrolled": true
   },
   "outputs": [],
   "source": [
    "print(sorted(data.loc[data['user_score'] == 'tbd', 'year_of_release'].unique()))"
   ]
  },
  {
   "cell_type": "markdown",
   "metadata": {},
   "source": [
    "**Версия о том, что обозначение 'tbd' присвоено новым играм, не успевшим получить рейтинг, не подтвердилась.  \n",
    "Но, может быть, значениям \"tbd\" в колонке зрительского рейтинга соответствуют такие же значения в колонке рейтинга критиков? Это позволило бы нам сделать вывод о том, что в данном сегменте датасета были массово пропущены рейтинги в принципе.  \n",
    "Проверим:**"
   ]
  },
  {
   "cell_type": "code",
   "execution_count": null,
   "metadata": {
    "scrolled": true
   },
   "outputs": [],
   "source": [
    "data['critic_score'].unique()"
   ]
  },
  {
   "cell_type": "markdown",
   "metadata": {},
   "source": [
    "**И эта версия не подтвердилась - в колонке с рейтингами критиков ткого значения нет.  \n",
    "Похоже на то, что по данным играм просто не были проставлены показатели оценок пользователей. Это могло произойти из-за технического сбоя, либо человеческого фактора.  \n",
    "Проверим ещё пару возможных взаимосвязей:**"
   ]
  },
  {
   "cell_type": "code",
   "execution_count": null,
   "metadata": {},
   "outputs": [],
   "source": [
    "#проверим взаимосвязь tbd с жанром игр\n",
    "\n",
    "data.loc[data['user_score'] == 'tbd'].groupby('genre').agg({'genre':['count']})"
   ]
  },
  {
   "cell_type": "code",
   "execution_count": null,
   "metadata": {
    "scrolled": false
   },
   "outputs": [],
   "source": [
    "#проверим взаимосвязь tbd с платформой\n",
    "\n",
    "data.loc[data['user_score'] == 'tbd'].groupby('platform').agg({'platform':['count']})"
   ]
  },
  {
   "cell_type": "markdown",
   "metadata": {},
   "source": [
    "**Как мы можем видеть, каких-то явных взаимосвязей значений 'tbd' с другими факторами не выявлено.  \n",
    "Это позволяет нам воспринимать данные обозначения как просто некорректные значения и обрабатывать их, наряду с другими пропущенными значениями.**"
   ]
  },
  {
   "cell_type": "code",
   "execution_count": null,
   "metadata": {},
   "outputs": [],
   "source": [
    "#преобразум данные колонки в формат float\n",
    "#выставим параметр errors='coerce', что автоматически заменит все некорректные значения на NAN'ы\n",
    "\n",
    "data['user_score'] = pd.to_numeric(data['user_score'], errors='coerce')"
   ]
  },
  {
   "cell_type": "code",
   "execution_count": null,
   "metadata": {},
   "outputs": [],
   "source": []
  },
  {
   "cell_type": "markdown",
   "metadata": {},
   "source": [
    "**Оценим общее количество пропущенных значений в датасете, для удобства - сразу в процентном отношении:**"
   ]
  },
  {
   "cell_type": "code",
   "execution_count": null,
   "metadata": {},
   "outputs": [],
   "source": [
    "data.isna().mean()"
   ]
  },
  {
   "cell_type": "markdown",
   "metadata": {},
   "source": [
    "**Как видим, очень большие проценты пропущенных значений - в графах с оценками критиков (critic_score) и пользователей (user_score)  - больше половины пропусков по каждой из категорий. Также около 40% пропусков - в графе рейтинга.**\n",
    "\n",
    "**В остальных колонках процент пропущенных значений составляет менее одного процента и существенного влияния на общую картину оказать не может.**"
   ]
  },
  {
   "cell_type": "markdown",
   "metadata": {},
   "source": [
    "**Обратим внимание на то, что в колонках name и genre - одинаковый процент пропусков. Проверим, одни и те же эти строки или нет?**"
   ]
  },
  {
   "cell_type": "code",
   "execution_count": null,
   "metadata": {},
   "outputs": [],
   "source": [
    "data.loc[(data['name'].isna()) & (data['genre'].isna())]"
   ]
  },
  {
   "cell_type": "markdown",
   "metadata": {},
   "source": [
    "**Как видим, это одни и те же строки, удалим их.**"
   ]
  },
  {
   "cell_type": "code",
   "execution_count": null,
   "metadata": {},
   "outputs": [],
   "source": [
    "data.dropna(subset=['name'], inplace=True)"
   ]
  },
  {
   "cell_type": "markdown",
   "metadata": {},
   "source": [
    "**Теперь определимся, что делать с пропусками в оценках и рейтинге.  \n",
    "Колонка 'rating' содержит рейтинг от организации ESRB. Эта ассоциация определяет рейтинг компьютерных игр и присваивает им подходящую возрастную категорию. Посмотрим уникальные значения переменной:**\n"
   ]
  },
  {
   "cell_type": "code",
   "execution_count": null,
   "metadata": {},
   "outputs": [],
   "source": [
    "data.rating.unique()"
   ]
  },
  {
   "cell_type": "markdown",
   "metadata": {},
   "source": [
    "**Как мы можем видеть, данная переменная относится к категориальным и имеет фиксированный набор значений. По всей видимости, итоговый рейтинг является некоторой агрегацией других составляющих (определённым образом рассчитанный рейтинг, категория возраста).  \n",
    "В данном случае мы не можем запонить пропуски релевантными значениями, поэтому просто пометим их как \"Unknown\".**"
   ]
  },
  {
   "cell_type": "code",
   "execution_count": null,
   "metadata": {},
   "outputs": [],
   "source": [
    "data['rating'] = data['rating'].fillna('Unknown')"
   ]
  },
  {
   "cell_type": "markdown",
   "metadata": {},
   "source": [
    "**В колонках 'critic_score' и 'user_score' мы видим примерно одинаковый процент пропущенных значений.  \n",
    "Оценим, насколько эти пропуски пересекаются друг с другом:**"
   ]
  },
  {
   "cell_type": "code",
   "execution_count": null,
   "metadata": {},
   "outputs": [],
   "source": [
    "#оценим абсолютную цифру пересечения и процентное соотношение к общему количеству\n",
    "\n",
    "print (len(data.loc[(data['critic_score'].isna()) & (data['user_score'].isna())]))\n",
    "print (len(data.loc[(data['critic_score'].isna()) & (data['user_score'].isna())]) / len(data))"
   ]
  },
  {
   "cell_type": "markdown",
   "metadata": {},
   "source": [
    "**Как мы можем видеть, подавляющая часть строк, имеющих пропуски в 'critic_score', имеют такие же пропуски и в 'user_score'.  \n",
    "Причиной пропусков могли стать как технические проблемы, так и человеческий фактор, точно установить сейчас этого мы не можем.**\n",
    "**Вместе с тем, сейчас мы не имеем возможности запросить отсутствующую информацию у людей, ответственных за это.**\n",
    "\n",
    "**Данные переменные являются количественными. В целях минимального искажения общей картины, можно было бы заполнить их медианными значениями, характерными для игр соответствующего года выпуска и соответствующего жанра, но, учитывая количество пропущенных значений (более половины), есть риск существенно исказить результаты исследования. Поэтому оставляем пропуски.**\n",
    "\n",
    "\n",
    "**P.S.: в реальной ситуации имело бы смысл запросить отсустствующие данные у коллег, ответственных за это, поскольку доля пропущенных значений слишком велика, что может критично сказаться на качестве сделанных выводов.**"
   ]
  },
  {
   "cell_type": "markdown",
   "metadata": {},
   "source": [
    "**Повторно оценим картину с пропущенными значениями:**"
   ]
  },
  {
   "cell_type": "code",
   "execution_count": null,
   "metadata": {},
   "outputs": [],
   "source": [
    "data.isna().mean()"
   ]
  },
  {
   "cell_type": "markdown",
   "metadata": {},
   "source": [
    "**Как видим, мы обработали все возможные пропущенные значения.**"
   ]
  },
  {
   "cell_type": "code",
   "execution_count": null,
   "metadata": {},
   "outputs": [],
   "source": []
  },
  {
   "cell_type": "markdown",
   "metadata": {},
   "source": [
    "**Теперь посчитаем суммарные продажи во всех регионах и запишем их в отдельный столбец:**"
   ]
  },
  {
   "cell_type": "code",
   "execution_count": null,
   "metadata": {},
   "outputs": [],
   "source": [
    "#создадим функцию для одной строки, суммирующую продажи по каждому региону\n",
    "\n",
    "def sales(row):\n",
    "    return row['na_sales']+row['eu_sales']+row['jp_sales']+row['other_sales']"
   ]
  },
  {
   "cell_type": "code",
   "execution_count": null,
   "metadata": {},
   "outputs": [],
   "source": [
    "#применим функцию к датасету и создадим новый столбец\n",
    "\n",
    "data['total_sales'] = data.apply(sales, axis=1) "
   ]
  },
  {
   "cell_type": "markdown",
   "metadata": {},
   "source": [
    "**В процессе предварительной обработки данных, предоставленный датасет был проверен на наличие явных дубликатов, некоторые колонки были приведены к корректным форматам данных. Также была произведена работа с пропусками в данных, там, где это возможно, они были удалены либюо заменены условным обозначением ('Unknown' в колонке с рейтингами ESRB).  \n",
    "Также был произведен анализ некорректных обозначений ('tbd' в колонке пользовательских отзывов), их природы и возможной взаимосвзяи с другими имеющимися данными.  \n",
    "По итогам этого этапа, данные подготовлены к исследовательскому анализу.**"
   ]
  },
  {
   "cell_type": "code",
   "execution_count": null,
   "metadata": {},
   "outputs": [],
   "source": []
  },
  {
   "cell_type": "code",
   "execution_count": null,
   "metadata": {},
   "outputs": [],
   "source": []
  },
  {
   "cell_type": "markdown",
   "metadata": {},
   "source": [
    "<div class=\"alert alert-info\">\n",
    "<a id='an_dan'></a>    \n",
    "\n",
    "## ИССЛЕДОВАТЕЛЬСКИЙ АНАЛИЗ ДАННЫХ"
   ]
  },
  {
   "cell_type": "markdown",
   "metadata": {},
   "source": [
    "### Оценка количества игр, выпускаемых в разные годы"
   ]
  },
  {
   "cell_type": "code",
   "execution_count": null,
   "metadata": {},
   "outputs": [],
   "source": [
    "games = data.pivot_table(index='year_of_release', values='name', aggfunc='count').reset_index()\n",
    "games.columns = ['year', 'count']"
   ]
  },
  {
   "cell_type": "code",
   "execution_count": null,
   "metadata": {},
   "outputs": [],
   "source": [
    "games"
   ]
  },
  {
   "cell_type": "markdown",
   "metadata": {},
   "source": [
    "<a id='rost'></a>\n",
    "\n",
    "**Как видим, здесь представлены игры с 1980 по 2016 год. \n",
    "Отразим информацию в виде графика:**"
   ]
  },
  {
   "cell_type": "code",
   "execution_count": null,
   "metadata": {},
   "outputs": [],
   "source": [
    "figure(figsize=(15, 8))\n",
    "plt.bar(x=games['year'], height=games['count'],)\n",
    "plt.title('Количество игр по годам', fontsize=15)\n",
    "plt.xlabel('Годы')\n",
    "plt.ylabel('Количество игр')\n",
    "plt.show()"
   ]
  },
  {
   "cell_type": "markdown",
   "metadata": {},
   "source": [
    "**Как видим, наибольшее количество игр было выпущено в период с 2005 по 2011 годы.  \n",
    "Мы также можем наблюдать, что существенный всплеск роста выпускаемых игр начался с 2002 года (почти двукратный рост).  \n",
    "Налицо также и явный нисходящий тренд, в 2010-2011 годах. После этого падения, начиная с 2012 года, картина стабилизируется и в дальнейшем, вплоть до 2016 года, отсутствуют существенные перепады.\n",
    "Резюмируя, можно сказать, что основная масса релизов была выпущена, начиная с 2002.  \n",
    "Данные до этого момента, представляются не столь существенными для анализа.**"
   ]
  },
  {
   "cell_type": "code",
   "execution_count": null,
   "metadata": {},
   "outputs": [],
   "source": []
  },
  {
   "cell_type": "markdown",
   "metadata": {},
   "source": [
    "### Оценка изменений продаж в зависимости от платформы"
   ]
  },
  {
   "cell_type": "markdown",
   "metadata": {},
   "source": [
    "<a id='totalleaders'></a>\n",
    "\n",
    "**Для начала, посмотрим как распределены продажи, в зависимости от конкретной платформы:**"
   ]
  },
  {
   "cell_type": "code",
   "execution_count": null,
   "metadata": {},
   "outputs": [],
   "source": [
    "# сгруппируем данные продаж по платформам, отсортировав по мере убывания общей суммы продаж\n",
    "\n",
    "       \n",
    "platform = data.pivot_table(index='platform',\n",
    "                            values='total_sales',\n",
    "                            aggfunc='sum').sort_values(by='total_sales', ascending=False)"
   ]
  },
  {
   "cell_type": "code",
   "execution_count": null,
   "metadata": {},
   "outputs": [],
   "source": [
    "#посмотрим на получившуюся таблицу\n",
    "\n",
    "platform"
   ]
  },
  {
   "cell_type": "markdown",
   "metadata": {},
   "source": [
    "**Наибольший интерес представляют первые 6 позиций - среди них самые высокие совокупные цифры продаж.  \n",
    "Это видно по цифрам роста - если до пятой позиции рост идёт плавно, либо цифры продаж минимальны, то с шестой позиции мы видим почти двукратный прирост продаж.**\n",
    "\n",
    "**Теперь построим распределение продаж по годам среди лидеров продаж - первых шести платформ:**"
   ]
  },
  {
   "cell_type": "code",
   "execution_count": null,
   "metadata": {},
   "outputs": [],
   "source": [
    "#для начала, оставим в таблице platform только платформы-лидеры продаж\n",
    "\n",
    "platform = platform[:6]"
   ]
  },
  {
   "cell_type": "code",
   "execution_count": null,
   "metadata": {},
   "outputs": [],
   "source": [
    "#затем выберем из общего датасета те данные, которые относятя к платформам-лидерам продаж:\n",
    "\n",
    "sales_leaders = data.loc[data['platform'].isin(platform.index)]"
   ]
  },
  {
   "cell_type": "code",
   "execution_count": null,
   "metadata": {},
   "outputs": [],
   "source": [
    "#построим таблицу с распределением продаж среди лидеров, по годам\n",
    "\n",
    "sales_leaders_table = sales_leaders.pivot_table(index='year_of_release',\n",
    "                                                columns = 'platform',\n",
    "                                                values='total_sales',\n",
    "                                                aggfunc='sum')"
   ]
  },
  {
   "cell_type": "code",
   "execution_count": null,
   "metadata": {},
   "outputs": [],
   "source": [
    "#посмотрим получившуюся таблицу\n",
    "\n",
    "sales_leaders_table"
   ]
  },
  {
   "cell_type": "code",
   "execution_count": null,
   "metadata": {},
   "outputs": [],
   "source": [
    "#теперь визуализируем полученное распределение\n",
    "\n",
    "sales_leaders_table.plot(grid=True, figsize=(15, 10))\n",
    "plt.title('Продажи \"Лидеров\" по годам', fontsize=15)\n",
    "plt.xlabel('Годы')\n",
    "plt.ylabel('Объёмы продаж')\n",
    "plt.show()"
   ]
  },
  {
   "cell_type": "markdown",
   "metadata": {},
   "source": [
    "**На графике мы наглядно видим, что продажи по \"лидерам\" шли циклично, вероятно, это связано с ротацией платформ - на смену одним приходили другие, ввиду чего продажи по более старым платформам падали.  \n",
    "В число лидеров неизменно входили платформы линейки PS - по характерным волнам мы можем видеть, как на смену одному поколению данной линейки, приходило другое.  \n",
    "Также можно отметить всеобщий спад продаж, начиная с 2010 года.**"
   ]
  },
  {
   "cell_type": "markdown",
   "metadata": {},
   "source": [
    "**Теперь попытаемся определить характерный срок появления и исчезновения платформ. Для этого возьмём данные по всем платформам, а не только по \"лидерам\"**"
   ]
  },
  {
   "cell_type": "code",
   "execution_count": null,
   "metadata": {},
   "outputs": [],
   "source": [
    "sales = data.pivot_table(index='year_of_release',\n",
    "                                                columns = 'platform',\n",
    "                                                values='total_sales',\n",
    "                                                aggfunc='sum')"
   ]
  },
  {
   "cell_type": "code",
   "execution_count": null,
   "metadata": {
    "scrolled": false
   },
   "outputs": [],
   "source": [
    "sales.plot (grid=True, figsize=(15, 10))\n",
    "plt.title('Продажи всех платформ по годам', fontsize=15)\n",
    "plt.xlabel('Годы')\n",
    "plt.ylabel('Объёмы продаж')\n",
    "plt.show()"
   ]
  },
  {
   "cell_type": "markdown",
   "metadata": {},
   "source": [
    "<a id='life'></a>\n",
    "\n",
    "**Как мы можем видеть из двух графиков (график \"лидеров\" и всеобщий график), примерная средняя длительность \"жизни\" платформы находится в диапазоне от 6 до 10 лет.**\n",
    "\n",
    "**На всякий случай, перепроверим эти цифры:**\n",
    "    "
   ]
  },
  {
   "cell_type": "code",
   "execution_count": null,
   "metadata": {},
   "outputs": [],
   "source": [
    "#поместим список уникальных названий платформ в список\n",
    "\n",
    "names = data.platform.unique()\n",
    "sales = sales.reset_index()"
   ]
  },
  {
   "cell_type": "code",
   "execution_count": null,
   "metadata": {},
   "outputs": [],
   "source": [
    "#пройдёмся циклом по сводной таблице и вычтем из общего количества рассматирваемых лет количество пропущенных значений \n",
    "#получив тем самым, срок жизни каждой платформы\n",
    "#затем найдём среднее\n",
    "\n",
    "years_of_life=[]\n",
    "\n",
    "for name in names:\n",
    "    qwe = len(sales)-sales[name].isna().sum()\n",
    "    years_of_life.append(qwe)\n",
    "\n",
    "print ('среднее время жизни платформы', sum (years_of_life) / len(years_of_life))    "
   ]
  },
  {
   "cell_type": "markdown",
   "metadata": {},
   "source": [
    "**Итак, среднее время жизни платформы - около 8 лет.  \n",
    "Далее, посмотрим, с какой периодичностью появлялись новые платформы:**"
   ]
  },
  {
   "cell_type": "code",
   "execution_count": null,
   "metadata": {},
   "outputs": [],
   "source": [
    "#для удобства дальнейшей обработки, заполним пропуски нулями\n",
    "\n",
    "sales = sales.fillna(0)\n"
   ]
  },
  {
   "cell_type": "code",
   "execution_count": null,
   "metadata": {},
   "outputs": [],
   "source": [
    "#получим список лет, в каждый из которых происходили первые продажи по одной из платформ\n",
    "\n",
    "life=[]\n",
    "\n",
    "for name in names:\n",
    "    for year in range(len(sales)):\n",
    "        if sales.loc[year, name] != 0:\n",
    "            life.append(sales.loc[year, 'year_of_release'])\n",
    "            break"
   ]
  },
  {
   "cell_type": "code",
   "execution_count": null,
   "metadata": {},
   "outputs": [],
   "source": [
    "#выведем список годов, в которые появлялась та или иная платформа\n",
    "\n",
    "life = (sorted(life))\n",
    "print (life)"
   ]
  },
  {
   "cell_type": "code",
   "execution_count": null,
   "metadata": {
    "scrolled": false
   },
   "outputs": [],
   "source": [
    "#отразим полученные данные в виде гистограммы\n",
    "\n",
    "figure(figsize=(15, 10))\n",
    "pd.Series(life).plot(y='life', kind='hist', bins=len(life))\n",
    "plt.title('Возникновение игровых платформ', fontsize=15)\n",
    "plt.xlabel('Годы')\n",
    "plt.ylabel('Количество')\n",
    "plt.show()"
   ]
  },
  {
   "cell_type": "markdown",
   "metadata": {},
   "source": [
    "**Как мы можем видеть, новые платформы появлялись с разной периодичностью, в среднем примерно одна в два года**"
   ]
  },
  {
   "cell_type": "code",
   "execution_count": null,
   "metadata": {},
   "outputs": [],
   "source": []
  },
  {
   "cell_type": "code",
   "execution_count": null,
   "metadata": {},
   "outputs": [],
   "source": []
  },
  {
   "cell_type": "markdown",
   "metadata": {},
   "source": [
    "<a id='act_period'></a>\n",
    "\n",
    "### Анализ данных за актуальный период"
   ]
  },
  {
   "cell_type": "markdown",
   "metadata": {},
   "source": [
    "**Из ранее сделанных выводов, мы видим, что основная масса релизов была выпущена позднее 2002 года. В то же, время, начиная с 2010 года, рынок в общем и целом демонстрирует падение продаж.  \n",
    "Вмсесте с тем, мы видим выраженную цикличность \"жизни\" платформ - когда при сравнительно быстром наборе популярности платформы, затем происходит и довольно стремительная потеря популярности.  \n",
    "Учитывая вышеозначенные факты, а также руководствуясь необходимостью собрать данные для работы в 2017 году, представляется целесообразным выделить в качестве актуального периода для нашего исследования, последние два года - с 2015 по 2016 годы.  \n",
    "Столь сравнительно короткий период позволит отразить существующие тренды в игровой индустрии, в то же время минимизируя влияние отживших трендов.**"
   ]
  },
  {
   "cell_type": "markdown",
   "metadata": {},
   "source": [
    "**Проанализируем поведение игроков рынка за выбранный период (с 2015 по 2016 гг.):**"
   ]
  },
  {
   "cell_type": "code",
   "execution_count": null,
   "metadata": {},
   "outputs": [],
   "source": [
    "#по аналогии с прошлым разделом, сгруппируем данные продаж по платформам, отсортировав по мере убывания общей суммы продаж\n",
    "\n",
    "       \n",
    "platform15_16 = data.query(\"2015 <= year_of_release <= 2016\").pivot_table(index='platform',\n",
    "                                                                              values='total_sales',\n",
    "                                                                              aggfunc='sum') \\\n",
    ".sort_values(by='total_sales', ascending=False)"
   ]
  },
  {
   "cell_type": "code",
   "execution_count": null,
   "metadata": {},
   "outputs": [],
   "source": [
    "platform15_16"
   ]
  },
  {
   "cell_type": "code",
   "execution_count": null,
   "metadata": {},
   "outputs": [],
   "source": [
    "figure(figsize=(15, 10))\n",
    "plt.bar(x=platform15_16.index, height=platform15_16['total_sales'],)\n",
    "plt.title('Продажи по платформам 2015-2016гг.', fontsize=15)\n",
    "plt.xlabel('Платформы')\n",
    "plt.ylabel('Продажи')\n",
    "plt.show()"
   ]
  },
  {
   "cell_type": "markdown",
   "metadata": {},
   "source": [
    "**Видим тройку явных лидеров по продажам.\n",
    "Для большей репрезентативности, оставим первые 8 платформ, затем запросим построим график распределения продаж по ним за актуальный период.**"
   ]
  },
  {
   "cell_type": "code",
   "execution_count": null,
   "metadata": {},
   "outputs": [],
   "source": [
    "platform15_16 = platform15_16[:8]"
   ]
  },
  {
   "cell_type": "code",
   "execution_count": null,
   "metadata": {},
   "outputs": [],
   "source": [
    "platform15_16"
   ]
  },
  {
   "cell_type": "code",
   "execution_count": null,
   "metadata": {},
   "outputs": [],
   "source": [
    "#затем выберем из общего датасета те данные, которые относятя к платформам-лидерам продаж:\n",
    "\n",
    "sales15_16 = data.loc[data['platform'].isin(platform15_16.index)].pivot_table(index='year_of_release',\n",
    "                                                columns = 'platform',\n",
    "                                                values='total_sales',\n",
    "                                                aggfunc='sum')"
   ]
  },
  {
   "cell_type": "code",
   "execution_count": null,
   "metadata": {},
   "outputs": [],
   "source": [
    "sales15_16 = sales15_16.query(\"2015 <= year_of_release <= 2016\")"
   ]
  },
  {
   "cell_type": "code",
   "execution_count": null,
   "metadata": {
    "scrolled": true
   },
   "outputs": [],
   "source": [
    "sales15_16"
   ]
  },
  {
   "cell_type": "code",
   "execution_count": null,
   "metadata": {
    "scrolled": false
   },
   "outputs": [],
   "source": [
    "sales15_16.plot (grid=True, figsize=(15, 10))\n",
    "plt.title('Продажи платформ 2015-2016гг.')\n",
    "plt.xlabel('Годы')\n",
    "plt.ylabel('Объёмы продаж')\n",
    "plt.show()"
   ]
  },
  {
   "cell_type": "markdown",
   "metadata": {},
   "source": [
    "<a id='persp'></a>\n",
    "\n",
    "**Как мы можем наблюдать, тренд к падению платформ- \"лидеров\" продаж в данный промежуток времени продолжается, находясь в период 2015-2016 года на абсолютном минимуме с момента начала падения, и продолжая снижаться.  \n",
    "Учитывая цикличность \"жизненного цикла\" платформ, не стоит ожидать какого-то существенного подъёма продаж по платформам-\"лидерам\" на 2017 год.**\n",
    "\n",
    "**Вместе с тем, падение продаж демонстрируют все имеющиеся платформы со сколь-нибудь существенным объёмом продаж.  \n",
    "На графике видно, что наиболее высокие результаты за 2015-2016 год демонстрируют две платформы: PS4 и XOne.  \n",
    "Не будучи изначально включёнными в число 'лидеров', они, в силу цикличности \"жизни\" платформ вообще, достигли пиковых показателей продаж в 2015 году и затем начали постепенное снижение.**\n",
    "\n",
    "**Данная динамика, исходя из анализа модели \"жизни\" платформы, предполагает плавное снижение, что, в совокупности с самыми высокими показателями продаж в 2016 году, делает их наиболее перспективными, с точки зрения продаж в 2017 году.  \n",
    "Определённый интерес вызывает также '3DS' - платформа давно \"на спаде\", но спад происходит очень плавно и её показатели до сих пор почти в два раза превышают показатели оставшихся платформ.  \n",
    "Рассмотрим подробнее эти три платформы:**"
   ]
  },
  {
   "cell_type": "code",
   "execution_count": null,
   "metadata": {},
   "outputs": [],
   "source": [
    "sales15_16[['PS4','XOne', '3DS']].plot (grid=True, figsize=(15, 10))\n",
    "plt.title('Продажи PS4, XOne и 3DS')\n",
    "plt.xlabel('Годы')\n",
    "plt.ylabel('Объёмы продаж')\n",
    "plt.show()"
   ]
  },
  {
   "cell_type": "markdown",
   "metadata": {},
   "source": [
    "**На графике явно видно, что 'PS4' демонстрирует более высокий уровень продаж, таким образом, выступая наиболее перспективной платформой в 2017 году. Второе место занимает 'XOne', на третьем - '3DS'**"
   ]
  },
  {
   "cell_type": "code",
   "execution_count": null,
   "metadata": {},
   "outputs": [],
   "source": []
  },
  {
   "cell_type": "markdown",
   "metadata": {},
   "source": [
    "### Оценка глобальных продаж игр с помощью диаграммы размаха"
   ]
  },
  {
   "cell_type": "code",
   "execution_count": null,
   "metadata": {},
   "outputs": [],
   "source": [
    "#для начала, возьмём данный за 2015-2016 годы по основным 'продающимся' платформам\n",
    "\n",
    "df = data.loc[(data['platform'].isin(platform15_16.index)) &\n",
    "         ((data['year_of_release'] >= 2015) &\n",
    "          (data['year_of_release'] <= 2016))]"
   ]
  },
  {
   "cell_type": "code",
   "execution_count": null,
   "metadata": {},
   "outputs": [],
   "source": [
    "plt.figure(figsize=(13, 8))\n",
    "(sns.boxplot(data =df, y = 'total_sales', x='platform')\n",
    "    .set(title = 'Продажи по платформам', xlabel = 'Платформы', ylabel = 'Общие продажи'))\n",
    "\n",
    "plt.show()"
   ]
  },
  {
   "cell_type": "markdown",
   "metadata": {},
   "source": [
    "**На диаграмме размаха мы видим ощутимые выбросы, то есть продажи по трём, выделенным нами ранее платформам - PS4, XOne и 3DS. Возможно, выбросы обозначают очень популярные игры, которые могли продаваться огромными тиражами.  \n",
    "Для более наглядной оценки, построим ещё один график размаха по тем же данным, задав меньший масштаб отображения общих продаж:**"
   ]
  },
  {
   "cell_type": "code",
   "execution_count": null,
   "metadata": {},
   "outputs": [],
   "source": [
    "plt.figure(figsize=(13, 8))\n",
    "(sns.boxplot(data =df, y = 'total_sales', x='platform')\n",
    "    .set(title = 'Продажи по платформам', xlabel = 'Платформы', ylabel = 'Общие продажи', ylim=(0, 2)))\n",
    "\n",
    "plt.show()"
   ]
  },
  {
   "cell_type": "markdown",
   "metadata": {},
   "source": [
    "**По этому графику мы можем сделать выводы о характере продаж по платформам. \n",
    "Так медианные значения у всех этих игр ближе к нижнему квантилю, что говорит о преобладании игр с небольшими продажами.  \n",
    "Медианная продажа у платформ-лидеров (PS4, XOne и 3DS) невелика (не выше 0,125), но датасет скошен вправо, т.е. по отдельным играм наблюдаются очень высокие продажи, которые вероятно и \"вытягивают\" столь высокий уровень продаж.  \n",
    "На практике это означает, что большинство продаж происходят за счёт игр с небольшими продажами, но продажи популярных игр тянут эти показатели вправо, обеспечивая основную прибыль.**"
   ]
  },
  {
   "cell_type": "code",
   "execution_count": null,
   "metadata": {},
   "outputs": [],
   "source": []
  },
  {
   "cell_type": "markdown",
   "metadata": {},
   "source": [
    "<div class=\"alert alert-info\"> \n",
    "\n",
    "<font size=\"5\"><b>Комментарий ученика</b></font>\n",
    "    \n",
    "Для большей наглядности был нарисован дополнительный график размаха, в котором были минимизированы выбросы, для понимания межквартильного распределения продаж по платформам.  \n",
    "При приближении картина показала сильную скошенность датасетов по всем платформам вправо, что предполагает количественное преобладание игр с небольшими продажами (структурная характеристика данных) и, в то же время, основные продажи за счёт популярных игр - средний показатель продаж формируется под влиянием боьших продаж популярных игр (алгебраическая характеристика данных).  \n",
    "Для большей наглядности и красоты был использован график размаха из библиотеки seaborn.\n",
    "    \n",
    "**P.S.: Марат, прошу твой комментарий по моей аналитике здесь, для более полного понимания, что я понял правильно, а что нет?**"
   ]
  },
  {
   "cell_type": "code",
   "execution_count": null,
   "metadata": {},
   "outputs": [],
   "source": []
  },
  {
   "cell_type": "markdown",
   "metadata": {},
   "source": [
    "<a id='corr'></a>\n",
    "\n",
    "###  Оценка связи продаж внутри одной популярной платформы с отзывами пользователей и критиков"
   ]
  },
  {
   "cell_type": "markdown",
   "metadata": {},
   "source": [
    "**Возьмём платформу PS4 и посмотрим на взаимосвязь продаж с отзывами:**"
   ]
  },
  {
   "cell_type": "code",
   "execution_count": null,
   "metadata": {},
   "outputs": [],
   "source": [
    "#для начала, оценим связь продаж с отзывами критиков\n",
    "\n",
    "PS4 = data.loc[(data['platform'] == 'PS4') &\n",
    "         ((data['year_of_release'] >= 2015) &\n",
    "          (data['year_of_release'] <= 2016))]"
   ]
  },
  {
   "cell_type": "code",
   "execution_count": null,
   "metadata": {},
   "outputs": [],
   "source": [
    "PS4.plot(x='total_sales',\n",
    "                y='critic_score',\n",
    "                kind='scatter',\n",
    "                title='Продажи - Отзывы критиков',\n",
    "                grid=True,\n",
    "                legend=True,       \n",
    "                figsize=(9, 5)\n",
    "               )\n",
    "\n",
    "plt.show()"
   ]
  },
  {
   "cell_type": "code",
   "execution_count": null,
   "metadata": {},
   "outputs": [],
   "source": [
    "#найдём коэффициент корреляции Пирсона\n",
    "\n",
    "PS4['total_sales'].corr(PS4['critic_score'])"
   ]
  },
  {
   "cell_type": "markdown",
   "metadata": {},
   "source": [
    "**Как видим, обнаружена умеренная прямая корреляция между оценками критиков и уровнем продаж на платформе.  \n",
    "Вывод - этия явления связаны, но слабо.**\n",
    "\n",
    "**Теперь проверим взаимосвязь с отзывами пользователей:**"
   ]
  },
  {
   "cell_type": "code",
   "execution_count": null,
   "metadata": {},
   "outputs": [],
   "source": [
    "PS4.plot(x='total_sales',\n",
    "                y='user_score',\n",
    "                kind='scatter',\n",
    "                title='Продажи - Отзывы покупателей',\n",
    "                grid=True,\n",
    "                legend=True,       \n",
    "                figsize=(9, 5)\n",
    "               )\n",
    "\n",
    "plt.show()"
   ]
  },
  {
   "cell_type": "code",
   "execution_count": null,
   "metadata": {},
   "outputs": [],
   "source": [
    "PS4['total_sales'].corr(PS4['user_score'])"
   ]
  },
  {
   "cell_type": "markdown",
   "metadata": {},
   "source": [
    "**Между продажами и отзывами покупателей взаимосвязи практически не выявлено.**"
   ]
  },
  {
   "cell_type": "markdown",
   "metadata": {},
   "source": [
    "**Для наглядности возьмём ещё 2 крупных платформы и проведём на них подобный анализ.  \n",
    "Сначала возьмём XOne:**"
   ]
  },
  {
   "cell_type": "code",
   "execution_count": null,
   "metadata": {},
   "outputs": [],
   "source": [
    "XOne = data.loc[(data['platform'] == 'XOne') &\n",
    "         ((data['year_of_release'] >= 2015) &\n",
    "          (data['year_of_release'] <= 2016))]"
   ]
  },
  {
   "cell_type": "code",
   "execution_count": null,
   "metadata": {},
   "outputs": [],
   "source": [
    "XOne.plot(x='total_sales',\n",
    "                y='critic_score',\n",
    "                kind='scatter',\n",
    "                title='Продажи - Отзывы критиков',\n",
    "                grid=True,\n",
    "                legend=True,       \n",
    "                figsize=(9, 5)\n",
    "               )\n",
    "\n",
    "plt.show()"
   ]
  },
  {
   "cell_type": "code",
   "execution_count": null,
   "metadata": {},
   "outputs": [],
   "source": [
    "XOne['total_sales'].corr(XOne['critic_score'])"
   ]
  },
  {
   "cell_type": "code",
   "execution_count": null,
   "metadata": {},
   "outputs": [],
   "source": [
    "XOne.plot(x='total_sales',\n",
    "                y='user_score',\n",
    "                kind='scatter',\n",
    "                title='Продажи - Отзывы покупателей',\n",
    "                grid=True,\n",
    "                legend=True,       \n",
    "                figsize=(9, 5)\n",
    "               )\n",
    "\n",
    "plt.show()"
   ]
  },
  {
   "cell_type": "code",
   "execution_count": null,
   "metadata": {},
   "outputs": [],
   "source": [
    "XOne['total_sales'].corr(XOne['user_score'])"
   ]
  },
  {
   "cell_type": "markdown",
   "metadata": {},
   "source": [
    "**На платформе XOne видна умеренная положительная корреляция продаж с оценками критиков и практически отсутствующая - с оценками пользователей.**"
   ]
  },
  {
   "cell_type": "markdown",
   "metadata": {},
   "source": [
    "**Посмотрим ещё платформу 3DS:**"
   ]
  },
  {
   "cell_type": "code",
   "execution_count": null,
   "metadata": {},
   "outputs": [],
   "source": [
    "TrheeDS = data.loc[(data['platform'] == '3DS') &\n",
    "         ((data['year_of_release'] >= 2014) &\n",
    "          (data['year_of_release'] <= 2016))]"
   ]
  },
  {
   "cell_type": "code",
   "execution_count": null,
   "metadata": {},
   "outputs": [],
   "source": [
    "TrheeDS.plot(x='total_sales',\n",
    "                y='critic_score',\n",
    "                kind='scatter',\n",
    "                title='Продажи - Отзывы критиков',\n",
    "                grid=True,\n",
    "                legend=True,       \n",
    "                figsize=(9, 5)\n",
    "               )\n",
    "\n",
    "plt.show()"
   ]
  },
  {
   "cell_type": "code",
   "execution_count": null,
   "metadata": {},
   "outputs": [],
   "source": [
    "TrheeDS['total_sales'].corr(TrheeDS['critic_score'])"
   ]
  },
  {
   "cell_type": "code",
   "execution_count": null,
   "metadata": {},
   "outputs": [],
   "source": [
    "TrheeDS.plot(x='total_sales',\n",
    "                y='user_score',\n",
    "                kind='scatter',\n",
    "                title='Продажи - Отзывы покупателей',\n",
    "                grid=True,\n",
    "                legend=True,       \n",
    "                figsize=(9, 5)\n",
    "               )\n",
    "\n",
    "plt.show()"
   ]
  },
  {
   "cell_type": "code",
   "execution_count": null,
   "metadata": {},
   "outputs": [],
   "source": [
    "TrheeDS['total_sales'].corr(TrheeDS['user_score'])"
   ]
  },
  {
   "cell_type": "markdown",
   "metadata": {},
   "source": [
    "**Здесь та же картина - слабая положительная корреляция с оценками критиков и слабая положительная - с оценками пользователей.**"
   ]
  },
  {
   "cell_type": "markdown",
   "metadata": {},
   "source": [
    "**Напоследок, посмотрим общий уровень корреляции между оценками и уровнем продаж:**"
   ]
  },
  {
   "cell_type": "code",
   "execution_count": null,
   "metadata": {
    "scrolled": true
   },
   "outputs": [],
   "source": [
    "data[['name', 'platform', 'critic_score', 'user_score', 'total_sales']].corr()"
   ]
  },
  {
   "cell_type": "markdown",
   "metadata": {},
   "source": [
    "**На последней матрице корреляции видна опять же, слабая положительная корреляция уровня продаж с оценками критиков, и очень слабая, почти отсутствующя - с оценками пользователей.**\n",
    "\n",
    "**Подытоживая, можно сказать, что нами выявлена слабая - умеренная положительная корреляция  продаж с оценками критиков, и очень слабая - с оценками покупателей.**"
   ]
  },
  {
   "cell_type": "code",
   "execution_count": null,
   "metadata": {},
   "outputs": [],
   "source": []
  },
  {
   "cell_type": "markdown",
   "metadata": {},
   "source": [
    "<a id='genres'></a>\n",
    "\n",
    "### Изучение соотношения жанра игр и прибыльности"
   ]
  },
  {
   "cell_type": "code",
   "execution_count": null,
   "metadata": {},
   "outputs": [],
   "source": [
    "#для начала, посмотрим общее распределение игр по жанрам\n",
    "\n",
    "genres = \\\n",
    "data.query('2015 <= year_of_release <= 2016').groupby('genre').agg(quantity__of_games=('name',\n",
    "                                                                                       'count')).sort_values(by='quantity__of_games',\n",
    "                                                                                                                      ascending=False)"
   ]
  },
  {
   "cell_type": "code",
   "execution_count": null,
   "metadata": {},
   "outputs": [],
   "source": [
    "genres"
   ]
  },
  {
   "cell_type": "code",
   "execution_count": null,
   "metadata": {},
   "outputs": [],
   "source": [
    "figure(figsize=(15, 10))\n",
    "plt.bar(x=genres.index, height=genres['quantity__of_games'],)\n",
    "plt.title('Распределение игр по жанрам', fontsize=15)\n",
    "plt.xlabel('Жанр')\n",
    "plt.ylabel('Количество игр')\n",
    "plt.show()"
   ]
  },
  {
   "cell_type": "markdown",
   "metadata": {},
   "source": [
    "**Как видим, самыми распространёнными являются экшны и спортивные игры, в наименьшей степени представлены стратегии и паззлы.  Попробуем оценить, какие жанры наиболее выгодны:**"
   ]
  },
  {
   "cell_type": "code",
   "execution_count": null,
   "metadata": {},
   "outputs": [],
   "source": [
    "#сгруппируем данные об средней прибыли по жанрам\n",
    "\n",
    "genre_profit = data.query('2015 <= year_of_release <= 2016').pivot_table(index='genre',\n",
    "                                                                         values='total_sales',\n",
    "                                                                         aggfunc='mean').sort_values(by='total_sales',\n",
    "                                                                                                    ascending=False)"
   ]
  },
  {
   "cell_type": "code",
   "execution_count": null,
   "metadata": {},
   "outputs": [],
   "source": [
    "#представим полученную информацию в виде графика\n",
    "figure(figsize=(15, 10))\n",
    "plt.bar(x=genre_profit.index, height=genre_profit['total_sales'],)\n",
    "plt.title('Продажи по жанрам')\n",
    "plt.xlabel('Жанр')\n",
    "plt.ylabel('Общие продажи')\n",
    "plt.show()\n"
   ]
  },
  {
   "cell_type": "markdown",
   "metadata": {},
   "source": [
    "**Теперь мы можем видеть список наиболее продающихся игр по жанрам.**  \n",
    "**Лидеры:**\n",
    "  - Shooter (c более, чем двукратным перевесом),\n",
    "  - Sports,\n",
    "  - Role-Playing\n",
    "  \n",
    "**Аутсайдеры:**\n",
    "  - Adventure,\n",
    "  - Puzzle,\n",
    "  - Strategy  \n"
   ]
  },
  {
   "cell_type": "code",
   "execution_count": null,
   "metadata": {},
   "outputs": [],
   "source": []
  },
  {
   "cell_type": "markdown",
   "metadata": {},
   "source": [
    "<div class=\"alert alert-info\">\n",
    "<a id='portrety'></a>    \n",
    "\n",
    "## СОСТАВЛЕНИЕ ПОРТРЕТОВ ПОЛЬЗОВАТЕЛЕЙ ПО РЕГИОНАМ"
   ]
  },
  {
   "cell_type": "markdown",
   "metadata": {},
   "source": [
    "###  Самые популярные платформы (топ-5)"
   ]
  },
  {
   "cell_type": "markdown",
   "metadata": {},
   "source": [
    "#### Оценка продаж в Северной Америке:"
   ]
  },
  {
   "cell_type": "code",
   "execution_count": null,
   "metadata": {},
   "outputs": [],
   "source": [
    "na_platforms = data.query('2015 <= year_of_release <= 2016').pivot_table(index='platform',\n",
    "                                                                         values='na_sales',\n",
    "                                                                         aggfunc='sum').sort_values(by='na_sales',\n",
    "                                                                                                    ascending=False)"
   ]
  },
  {
   "cell_type": "code",
   "execution_count": null,
   "metadata": {},
   "outputs": [],
   "source": [
    "na_platforms"
   ]
  },
  {
   "cell_type": "code",
   "execution_count": null,
   "metadata": {},
   "outputs": [],
   "source": [
    "#выделим пятёрку платформ-лидеров и сбросим индексы\n",
    "\n",
    "na_platforms = na_platforms[:5]"
   ]
  },
  {
   "cell_type": "code",
   "execution_count": null,
   "metadata": {
    "scrolled": true
   },
   "outputs": [],
   "source": [
    "na_platforms"
   ]
  },
  {
   "cell_type": "markdown",
   "metadata": {},
   "source": [
    "**Теперь заново сделаем эту таблицу, объединив все платформы - НЕ лидеры под названием \"Другие\", для отображения всех долей рынка:**"
   ]
  },
  {
   "cell_type": "code",
   "execution_count": null,
   "metadata": {},
   "outputs": [],
   "source": [
    "#для того, чтобы без особой надобности не вносить изменения в оригинальный датасет, создадим его копию\n",
    "\n",
    "data_copy = data.copy()"
   ]
  },
  {
   "cell_type": "code",
   "execution_count": null,
   "metadata": {},
   "outputs": [],
   "source": [
    "#заменим в дубликате названия платформ НЕ лидеров на \"Другие\"\n",
    "\n",
    "data_copy['platform'] = data_copy['platform'].where(data_copy['platform'].isin(na_platforms.index), 'Другие')"
   ]
  },
  {
   "cell_type": "code",
   "execution_count": null,
   "metadata": {},
   "outputs": [],
   "source": [
    "#обновим группиировку\n",
    "\n",
    "na_platforms = data_copy.query('2015 <= year_of_release <= 2016').pivot_table(index='platform',\n",
    "                                                                         values='na_sales',\n",
    "                                                                         aggfunc='sum').sort_values(by='na_sales',\n",
    "                                                                                                    ascending=False)"
   ]
  },
  {
   "cell_type": "code",
   "execution_count": null,
   "metadata": {},
   "outputs": [],
   "source": [
    "#посмотрим на обновлённую таблицу, убедимся, что все НЕ лидеру находятся в категории \"Другие\"\n",
    "\n",
    "na_platforms"
   ]
  },
  {
   "cell_type": "code",
   "execution_count": null,
   "metadata": {},
   "outputs": [],
   "source": [
    "#отобразим графически распределение платформ\n",
    "\n",
    "figure(figsize=(20, 10))\n",
    "na_platforms['na_sales'].plot(kind='pie', autopct='%1.0f%%')\n",
    "plt.title('Распределение платформ Северная Америка', fontsize=20)\n",
    "plt.ylabel('')\n",
    "plt.show()"
   ]
  },
  {
   "cell_type": "markdown",
   "metadata": {},
   "source": [
    "**Доминируют две платформы, входящие в нашу тройку лидеров - PS4 (на первом месте) и XOne, совокупно занимая около 75% рынка.  \n",
    "Оставшиеся 25% распределены равномерно между \"Другими\" и ещё двумя участниками**"
   ]
  },
  {
   "cell_type": "code",
   "execution_count": null,
   "metadata": {},
   "outputs": [],
   "source": []
  },
  {
   "cell_type": "markdown",
   "metadata": {},
   "source": [
    "#### Оценка продаж в Европе:"
   ]
  },
  {
   "cell_type": "code",
   "execution_count": null,
   "metadata": {},
   "outputs": [],
   "source": [
    "eu_platforms = data.query('2015 <= year_of_release <= 2016').pivot_table(index='platform',\n",
    "                                                                         values='eu_sales',\n",
    "                                                                         aggfunc='sum').sort_values(by='eu_sales',\n",
    "                                                                                                    ascending=False)"
   ]
  },
  {
   "cell_type": "code",
   "execution_count": null,
   "metadata": {},
   "outputs": [],
   "source": [
    "#сразу оставим пятёрку лидеров\n",
    "\n",
    "eu_platforms = eu_platforms[:5]"
   ]
  },
  {
   "cell_type": "code",
   "execution_count": null,
   "metadata": {},
   "outputs": [],
   "source": [
    "data_copy = data.copy()"
   ]
  },
  {
   "cell_type": "code",
   "execution_count": null,
   "metadata": {},
   "outputs": [],
   "source": [
    "data_copy['platform'] = data_copy['platform'].where(data_copy['platform'].isin(eu_platforms.index), 'Другие')"
   ]
  },
  {
   "cell_type": "code",
   "execution_count": null,
   "metadata": {},
   "outputs": [],
   "source": [
    "eu_platforms = data_copy.query('2015 <= year_of_release <= 2016').pivot_table(index='platform',\n",
    "                                                                         values='eu_sales',\n",
    "                                                                         aggfunc='sum').sort_values(by='eu_sales',\n",
    "                                                                                                    ascending=False)"
   ]
  },
  {
   "cell_type": "code",
   "execution_count": null,
   "metadata": {},
   "outputs": [],
   "source": [
    "figure(figsize=(20, 10))\n",
    "eu_platforms['eu_sales'].plot(kind='pie', autopct='%1.0f%%')\n",
    "plt.title('Распределение платформ Европа', fontsize=20)\n",
    "plt.ylabel('')\n",
    "plt.show()"
   ]
  },
  {
   "cell_type": "markdown",
   "metadata": {},
   "source": [
    "**Здесь самая большая доля рынка (более 56%) принадлежит PS4, на втором месте XOne с 19%.**"
   ]
  },
  {
   "cell_type": "code",
   "execution_count": null,
   "metadata": {},
   "outputs": [],
   "source": []
  },
  {
   "cell_type": "markdown",
   "metadata": {},
   "source": [
    "#### Оценка продаж в Японии"
   ]
  },
  {
   "cell_type": "code",
   "execution_count": null,
   "metadata": {},
   "outputs": [],
   "source": [
    "jp_platforms = data.query('2015 <= year_of_release <= 2016').pivot_table(index='platform',\n",
    "                                                                         values='jp_sales',\n",
    "                                                                         aggfunc='sum').sort_values(by='jp_sales',\n",
    "                                                                                                    ascending=False)"
   ]
  },
  {
   "cell_type": "code",
   "execution_count": null,
   "metadata": {},
   "outputs": [],
   "source": [
    "jp_platforms = jp_platforms[:5]"
   ]
  },
  {
   "cell_type": "code",
   "execution_count": null,
   "metadata": {},
   "outputs": [],
   "source": [
    "data_copy = data.copy()"
   ]
  },
  {
   "cell_type": "code",
   "execution_count": null,
   "metadata": {},
   "outputs": [],
   "source": [
    "data_copy['platform'] = data_copy['platform'].where(data_copy['platform'].isin(jp_platforms.index), 'Другие')"
   ]
  },
  {
   "cell_type": "code",
   "execution_count": null,
   "metadata": {},
   "outputs": [],
   "source": [
    "jp_platforms = data_copy.query('2015 <= year_of_release <= 2016').pivot_table(index='platform',\n",
    "                                                                         values='jp_sales',\n",
    "                                                                         aggfunc='sum').sort_values(by='jp_sales',\n",
    "                                                                                                    ascending=False)"
   ]
  },
  {
   "cell_type": "code",
   "execution_count": null,
   "metadata": {},
   "outputs": [],
   "source": [
    "figure(figsize=(20, 10))\n",
    "jp_platforms['jp_sales'].plot(kind='pie', autopct='%1.0f%%')\n",
    "plt.title('Распределение платформ Япония', fontsize=20)\n",
    "plt.ylabel('')\n",
    "plt.show()"
   ]
  },
  {
   "cell_type": "markdown",
   "metadata": {},
   "source": [
    "**В Японии ощутимо доминирует 3DS (44%), PS4 на втором месте, с 23%.  \n",
    "В тройку лидеров здесь входит PSV, со своими 16%.**"
   ]
  },
  {
   "cell_type": "markdown",
   "metadata": {},
   "source": [
    "**Теперь посмотрим сводные данные:**"
   ]
  },
  {
   "cell_type": "code",
   "execution_count": null,
   "metadata": {},
   "outputs": [],
   "source": [
    "figure (figsize=(20, 15))\n",
    "\n",
    "plt.subplot(2,2,2)\n",
    "plt.pie(x='na_sales', labels=na_platforms.index, data=na_platforms, autopct='%1.0f%%')\n",
    "plt.title('Северная Америка', fontsize=15)\n",
    "\n",
    "plt.subplot(2,2,1)\n",
    "plt.pie(x='eu_sales',labels=eu_platforms.index, data=eu_platforms, autopct='%1.0f%%')\n",
    "plt.figsize=(20, 7)\n",
    "plt.title('Европа', fontsize=15)\n",
    "\n",
    "plt.subplot(2,1,2)\n",
    "plt.pie(x='jp_sales',labels=jp_platforms.index, data=jp_platforms, autopct='%1.0f%%')\n",
    "plt.figsize=(20, 7)\n",
    "plt.title('Япония', fontsize=15)\n",
    "plt.show()"
   ]
  },
  {
   "cell_type": "markdown",
   "metadata": {},
   "source": [
    "**Вывод: на всех трёх рынках наблюдается доминирование двух основных игровых платформ, которые в сумме занимают примерно 70% рынка.  \n",
    "В этом плане схожи рынки Северной Америки и Европы - на них доминируют PS4, на втором месте XOne.  \n",
    "Несколько в стороне стоит Япония, безусловным лидером в котрой является 3DS, а XOne не представлена вообще. Существенную долю здесь также занимаеь PSV.**"
   ]
  },
  {
   "cell_type": "code",
   "execution_count": null,
   "metadata": {},
   "outputs": [],
   "source": []
  },
  {
   "cell_type": "code",
   "execution_count": null,
   "metadata": {},
   "outputs": [],
   "source": []
  },
  {
   "cell_type": "markdown",
   "metadata": {},
   "source": [
    "###  Самые популярные жанры (топ-5)"
   ]
  },
  {
   "cell_type": "markdown",
   "metadata": {},
   "source": [
    "#### Самые популярные жанры в Северной Америке"
   ]
  },
  {
   "cell_type": "code",
   "execution_count": null,
   "metadata": {},
   "outputs": [],
   "source": [
    "sales_na = data.query('2015 <= year_of_release <= 2016').pivot_table(index='genre',\n",
    "                                                                         values='na_sales',\n",
    "                                                                         aggfunc='sum').sort_values(by='na_sales',\n",
    "                                                                                                    ascending=False)"
   ]
  },
  {
   "cell_type": "code",
   "execution_count": null,
   "metadata": {},
   "outputs": [],
   "source": [
    "sales_na"
   ]
  },
  {
   "cell_type": "code",
   "execution_count": null,
   "metadata": {},
   "outputs": [],
   "source": [
    "sales_na = sales_na[:5]"
   ]
  },
  {
   "cell_type": "code",
   "execution_count": null,
   "metadata": {},
   "outputs": [],
   "source": [
    "data_copy = data.copy()"
   ]
  },
  {
   "cell_type": "code",
   "execution_count": null,
   "metadata": {},
   "outputs": [],
   "source": [
    "data_copy['genre'] = data_copy['genre'].where(data_copy['genre'].isin(sales_na.index), 'Другие')"
   ]
  },
  {
   "cell_type": "code",
   "execution_count": null,
   "metadata": {},
   "outputs": [],
   "source": [
    "sales_na = data_copy.query('2015 <= year_of_release <= 2016').pivot_table(index='genre',\n",
    "                                                                         values='na_sales',\n",
    "                                                                         aggfunc='sum').sort_values(by='na_sales',\n",
    "                                                                                                    ascending=False)"
   ]
  },
  {
   "cell_type": "code",
   "execution_count": null,
   "metadata": {},
   "outputs": [],
   "source": [
    "figure(figsize=(20, 10))\n",
    "sales_na['na_sales'].plot(kind='pie', autopct='%1.0f%%')\n",
    "plt.title('Топ 5 жанров Северная Америка', fontsize=20)\n",
    "plt.ylabel('')\n",
    "plt.show()"
   ]
  },
  {
   "cell_type": "markdown",
   "metadata": {},
   "source": [
    "**В Северной Америке преобладают жанры Action и Shooter (совокупно более 50% от всей доли пятёрки лидеров).  \n",
    "Существенную долю (17%) занимает жанр Sports.**"
   ]
  },
  {
   "cell_type": "code",
   "execution_count": null,
   "metadata": {},
   "outputs": [],
   "source": []
  },
  {
   "cell_type": "markdown",
   "metadata": {},
   "source": [
    "#### Самые популярные жанры в Европе"
   ]
  },
  {
   "cell_type": "code",
   "execution_count": null,
   "metadata": {},
   "outputs": [],
   "source": [
    "sales_eu = data.query('2015 <= year_of_release <= 2016').pivot_table(index='genre',\n",
    "                                                                         values='eu_sales',\n",
    "                                                                         aggfunc='sum').sort_values(by='eu_sales',\n",
    "                                                                                                    ascending=False)"
   ]
  },
  {
   "cell_type": "code",
   "execution_count": null,
   "metadata": {},
   "outputs": [],
   "source": [
    "sales_eu = sales_eu[:5]"
   ]
  },
  {
   "cell_type": "code",
   "execution_count": null,
   "metadata": {},
   "outputs": [],
   "source": [
    "data_copy = data.copy()"
   ]
  },
  {
   "cell_type": "code",
   "execution_count": null,
   "metadata": {},
   "outputs": [],
   "source": [
    "data_copy['genre'] = data_copy['genre'].where(data_copy['genre'].isin(sales_eu.index), 'Другие')"
   ]
  },
  {
   "cell_type": "code",
   "execution_count": null,
   "metadata": {},
   "outputs": [],
   "source": [
    "sales_eu = data_copy.query('2015 <= year_of_release <= 2016').pivot_table(index='genre',\n",
    "                                                                         values='eu_sales',\n",
    "                                                                         aggfunc='sum').sort_values(by='eu_sales',\n",
    "                                                                                                    ascending=False)"
   ]
  },
  {
   "cell_type": "code",
   "execution_count": null,
   "metadata": {},
   "outputs": [],
   "source": [
    "figure(figsize=(20, 10))\n",
    "sales_eu['eu_sales'].plot(kind='pie', autopct='%1.0f%%')\n",
    "plt.title('Топ 5 жанров Европа', fontsize=20)\n",
    "plt.ylabel('')\n",
    "plt.show()"
   ]
  },
  {
   "cell_type": "markdown",
   "metadata": {},
   "source": [
    "**В Европе первые три места также делят Action, Shooter и Sports.  \n",
    "Сопоставимую с североамериканским рынком долю занимают игры в жанре Role-Playing.**"
   ]
  },
  {
   "cell_type": "code",
   "execution_count": null,
   "metadata": {},
   "outputs": [],
   "source": []
  },
  {
   "cell_type": "markdown",
   "metadata": {},
   "source": [
    "#### Самые популярные жанры в Японии"
   ]
  },
  {
   "cell_type": "code",
   "execution_count": null,
   "metadata": {},
   "outputs": [],
   "source": [
    "sales_jp = data.query('2015 <= year_of_release <= 2016').pivot_table(index='genre',\n",
    "                                                                         values='jp_sales',\n",
    "                                                                         aggfunc='sum').sort_values(by='jp_sales',\n",
    "                                                                                                    ascending=False)"
   ]
  },
  {
   "cell_type": "code",
   "execution_count": null,
   "metadata": {},
   "outputs": [],
   "source": [
    "sales_jp = sales_jp[:5]"
   ]
  },
  {
   "cell_type": "code",
   "execution_count": null,
   "metadata": {},
   "outputs": [],
   "source": [
    "data_copy = data.copy()"
   ]
  },
  {
   "cell_type": "code",
   "execution_count": null,
   "metadata": {},
   "outputs": [],
   "source": [
    "data_copy['genre'] = data_copy['genre'].where(data_copy['genre'].isin(sales_jp.index), 'Другие')"
   ]
  },
  {
   "cell_type": "code",
   "execution_count": null,
   "metadata": {},
   "outputs": [],
   "source": [
    "sales_jp = data_copy.query('2015 <= year_of_release <= 2016').pivot_table(index='genre',\n",
    "                                                                         values='jp_sales',\n",
    "                                                                         aggfunc='sum').sort_values(by='jp_sales',\n",
    "                                                                                                    ascending=False)"
   ]
  },
  {
   "cell_type": "code",
   "execution_count": null,
   "metadata": {},
   "outputs": [],
   "source": [
    "figure(figsize=(20, 10))\n",
    "sales_jp['jp_sales'].plot(kind='pie', autopct='%1.0f%%')\n",
    "plt.title('Топ 5 жанров Япония', fontsize=20)\n",
    "plt.ylabel('')\n",
    "plt.show()"
   ]
  },
  {
   "cell_type": "markdown",
   "metadata": {},
   "source": [
    "**В Японии картина довольно сильно отличается от двух предыдущих: первое место, с большим отрывом, занимает жанр Action, на втором месте - Role-Playing (более чем в два раза превышает долю этого жарна в Европе и Северной Америке).**"
   ]
  },
  {
   "cell_type": "markdown",
   "metadata": {},
   "source": [
    "**Теперь посмотрим сводные данные:**"
   ]
  },
  {
   "cell_type": "code",
   "execution_count": null,
   "metadata": {},
   "outputs": [],
   "source": [
    "figure (figsize=(20, 15))\n",
    "\n",
    "plt.subplot(2,2,2)\n",
    "plt.pie(x='na_sales', labels=sales_na.index, data=sales_na, autopct='%1.0f%%')\n",
    "plt.title('Северная Америка', fontsize=15)\n",
    "\n",
    "plt.subplot(2,2,1)\n",
    "plt.pie(x='eu_sales',labels=sales_eu.index, data=sales_eu, autopct='%1.0f%%')\n",
    "plt.figsize=(20, 7)\n",
    "plt.title('Европа', fontsize=15)\n",
    "\n",
    "plt.subplot(2,1,2)\n",
    "plt.pie(x='jp_sales',labels=sales_jp.index, data=sales_jp, autopct='%1.0f%%')\n",
    "plt.figsize=(20, 7)\n",
    "plt.title('Япония', fontsize=15)\n",
    "plt.show()\n"
   ]
  },
  {
   "cell_type": "markdown",
   "metadata": {},
   "source": [
    "**Вывод: игровые предпочтения Северной Америки и Европы во многом схожи, первые три места делят Action, Shooter и Sports.  \n",
    "Особняком стоит Япония - первое место с существеным отрывом удерживает Action, на втором - Role-Playing.  \n",
    "Стратегии продаж и рекламных кампаний в Европе и Северной Америке, очевидно, можно применять схожие, а вот к рынку Японии следует подходить особо.  \n",
    "Вероятно, сказывается разница культур - европейской (в общем смысле) и японской (изолированной тысячелетиями на ограниченной территории), отразившаяся на культурных предпочтениях, в широком смысле.  \n",
    "Не зря, видимо, родилась фраза 'Big in Japan'..**"
   ]
  },
  {
   "cell_type": "code",
   "execution_count": null,
   "metadata": {},
   "outputs": [],
   "source": []
  },
  {
   "cell_type": "markdown",
   "metadata": {},
   "source": [
    "###  Оценка влияния рейтинга ESRB на продажи в отдельном регионе"
   ]
  },
  {
   "cell_type": "markdown",
   "metadata": {},
   "source": [
    "#### Проверим влияние рейтинга ESRB на продажи в Северной Америке"
   ]
  },
  {
   "cell_type": "code",
   "execution_count": null,
   "metadata": {},
   "outputs": [],
   "source": [
    "#для начала, отсортируем таблицу по рейтингам\n",
    "\n",
    "na_rating = data.query('2015 <= year_of_release <= 2016').pivot_table(index='rating',\n",
    "                                                                         values='na_sales',\n",
    "                                                                         aggfunc='sum').sort_values(by='na_sales',\n",
    "                                                                                                    ascending=False)"
   ]
  },
  {
   "cell_type": "code",
   "execution_count": null,
   "metadata": {
    "scrolled": true
   },
   "outputs": [],
   "source": [
    "na_rating"
   ]
  },
  {
   "cell_type": "code",
   "execution_count": null,
   "metadata": {},
   "outputs": [],
   "source": [
    "figure(figsize=(20, 10))\n",
    "na_rating['na_sales'].plot(kind='pie', autopct='%1.0f%%')\n",
    "plt.title('Рейтинги ESRB в Северной Америки', fontsize=20)\n",
    "plt.ylabel('')\n",
    "plt.show()"
   ]
  },
  {
   "cell_type": "markdown",
   "metadata": {},
   "source": [
    "**В Северной Америке из известных нам, доминируют рейтинги M, Е и T.**"
   ]
  },
  {
   "cell_type": "code",
   "execution_count": null,
   "metadata": {},
   "outputs": [],
   "source": []
  },
  {
   "cell_type": "markdown",
   "metadata": {},
   "source": [
    "#### Проверим влияние рейтинга ESRB на продажи в Европе"
   ]
  },
  {
   "cell_type": "code",
   "execution_count": null,
   "metadata": {},
   "outputs": [],
   "source": [
    "eu_rating = data.query('2015 <= year_of_release <= 2016').pivot_table(index='rating',\n",
    "                                                                         values='eu_sales',\n",
    "                                                                         aggfunc='sum').sort_values(by='eu_sales',\n",
    "                                                                                                    ascending=False)"
   ]
  },
  {
   "cell_type": "code",
   "execution_count": null,
   "metadata": {},
   "outputs": [],
   "source": [
    "eu_rating"
   ]
  },
  {
   "cell_type": "code",
   "execution_count": null,
   "metadata": {},
   "outputs": [],
   "source": [
    "figure(figsize=(20, 10))\n",
    "eu_rating['eu_sales'].plot(kind='pie', autopct='%1.0f%%')\n",
    "plt.title('Рейтинги ESRB в Европе', fontsize=20)\n",
    "plt.ylabel('')\n",
    "plt.show()"
   ]
  },
  {
   "cell_type": "markdown",
   "metadata": {},
   "source": [
    "**В Европе также доминируют те же самые рейтинги, что и в Северной Америке, примерно в тех же долях.**"
   ]
  },
  {
   "cell_type": "code",
   "execution_count": null,
   "metadata": {},
   "outputs": [],
   "source": []
  },
  {
   "cell_type": "markdown",
   "metadata": {},
   "source": [
    "#### Проверим влияние рейтинга ESRB на продажи в Японии"
   ]
  },
  {
   "cell_type": "code",
   "execution_count": null,
   "metadata": {},
   "outputs": [],
   "source": [
    "jp_rating = data.query('2015 <= year_of_release <= 2016').pivot_table(index='rating',\n",
    "                                                                         values='jp_sales',\n",
    "                                                                         aggfunc='sum').sort_values(by='jp_sales',\n",
    "                                                                                                    ascending=False)"
   ]
  },
  {
   "cell_type": "code",
   "execution_count": null,
   "metadata": {},
   "outputs": [],
   "source": [
    "jp_rating"
   ]
  },
  {
   "cell_type": "code",
   "execution_count": null,
   "metadata": {},
   "outputs": [],
   "source": [
    "figure(figsize=(20, 10))\n",
    "jp_rating['jp_sales'].plot(kind='pie', autopct='%1.0f%%')\n",
    "plt.title('Рейтинги ESRB в Японии', fontsize=20)\n",
    "plt.ylabel('')\n",
    "plt.show()"
   ]
  },
  {
   "cell_type": "markdown",
   "metadata": {},
   "source": [
    "**В Японии доминирует со значительным перевесом рейтинг, помеченный в нашем исследовании как Unknown.  \n",
    "Вероятно, именно в данных по Японии была основная доля пропущенных значений в соответствующей колонке.  \n",
    "На втором месте здесь традиционный рейтинг T, за ним следует E.**"
   ]
  },
  {
   "cell_type": "markdown",
   "metadata": {},
   "source": [
    "**Посмотрим общую картину:**"
   ]
  },
  {
   "cell_type": "code",
   "execution_count": null,
   "metadata": {},
   "outputs": [],
   "source": [
    "figure (figsize=(20, 15))\n",
    "\n",
    "plt.subplot(2,2,2)\n",
    "plt.pie(x='na_sales', labels=na_rating.index, data=na_rating, autopct='%1.0f%%')\n",
    "plt.title('Северная Америка', fontsize=15)\n",
    "\n",
    "plt.subplot(2,2,1)\n",
    "plt.pie(x='eu_sales',labels=eu_rating.index, data=eu_rating, autopct='%1.0f%%')\n",
    "plt.figsize=(20, 7)\n",
    "plt.title('Европа', fontsize=15)\n",
    "\n",
    "plt.subplot(2,1,2)\n",
    "plt.pie(x='jp_sales',labels=jp_rating.index, data=jp_rating, autopct='%1.0f%%')\n",
    "plt.figsize=(20, 7)\n",
    "plt.title('Япония', fontsize=15)\n",
    "plt.show()"
   ]
  },
  {
   "cell_type": "markdown",
   "metadata": {},
   "source": [
    "**Вывод: картины продаж, в зависимости от рейтинга игр, схожи в Европе и Северной Америке. В этих двух регионах первые два места делят рейтинги М и Е, от 12 до 14 процентов принадлежит играм с рейтингом Е10+.  \n",
    "Существенные доли занимают пропущенные значения, помеченные нами как Unknown.**\n",
    "\n",
    "**Достоверную картину по Японии выявить не удаётся, т.к. больше половины данных имеют пропуски в графе Rating. По имеющимся данным, мы можем сделать вывод, что категория T занимает там место, соспоставимое с рынками Северной Америки и Европы, а категории Е и Е10 представлены в сопоставимых размерах.**"
   ]
  },
  {
   "cell_type": "code",
   "execution_count": null,
   "metadata": {},
   "outputs": [],
   "source": []
  },
  {
   "cell_type": "code",
   "execution_count": null,
   "metadata": {},
   "outputs": [],
   "source": []
  },
  {
   "cell_type": "markdown",
   "metadata": {},
   "source": [
    "<div class=\"alert alert-info\">\n",
    "<a id='static'></a>    \n",
    "\n",
    "## ПРОВЕРКА ГИПОТЕЗ"
   ]
  },
  {
   "cell_type": "markdown",
   "metadata": {},
   "source": [
    "### Проверка гипотезы о том, что средние пользовательские рейтинги платформ Xbox One и PC одинаковые"
   ]
  },
  {
   "cell_type": "code",
   "execution_count": null,
   "metadata": {},
   "outputs": [],
   "source": [
    "#для начала получим нужные срезы данных и сохраним их в переменные\n",
    "\n",
    "XOne = data.query(('2015 <= year_of_release <= 2016') and ('platform == \"XOne\"'))\n",
    "PC = data.query(('2015 <= year_of_release <= 2016') and ('platform == \"PC\"'))"
   ]
  },
  {
   "cell_type": "markdown",
   "metadata": {},
   "source": [
    "**Затем сформулируем гипотезы для проверки:**\n",
    " - нулевой гипотезой (H₀) у нас будем предположение, что средние пользовательские рейтинги платформ Xbox One и PC одинаковы;\n",
    " - альтернативной гипотезой (H₁) будет предположение, что средние рейтинги НЕ равны.\n",
    " \n",
    "**Поскольку, сейчас нас не интересует, больше или меньше одно значение, чем другое, мы формулируем двустороннюю альтернативную гипотезу.  \n",
    "Таким образом, нам нужно просто доказать или опровергнуть факт равенства.**"
   ]
  },
  {
   "cell_type": "markdown",
   "metadata": {},
   "source": [
    "**Для проверки наших гипотез мы используем метод scipy.stats.ttest_ind. специально предназначенный для проверки гипотезы о равенстве среднего двух генеральных совокупностей по взятым из них выборкам.**\n",
    "\n",
    "**Наши выборки не равны по размерам, хотя и достаточно велики. Поэтому будем считать дисперсию в них НЕ одинаковой (параметр equal_var будет равен False).**\n",
    "\n",
    "**Поскольку анализируемые выборки содержат NAN, добавим параметр nan_policy со значением \"omit\", что позволит нам игнорировать NAN'ы при выполнении теста.**\n",
    "\n",
    "**учитывая тот факт, что существенная часть данных в колонке user_score была заполнена медианными значениями, в процессе предварительной обработки данных, установим более высокое пороговое значение alpha - в 0,05.**"
   ]
  },
  {
   "cell_type": "code",
   "execution_count": null,
   "metadata": {},
   "outputs": [],
   "source": [
    "# вызовем метод scipy.stats.ttest_ind для проверки гипотезы\n",
    "results = st.ttest_ind(\n",
    "    XOne['user_score'], \n",
    "    PC['user_score'],\n",
    "    equal_var = False,\n",
    "    nan_policy=\"omit\")\n",
    "\n",
    "\n",
    "# зададим уровень значимоссти alpha\n",
    "alpha=0.05\n",
    "\n",
    "# выведем значение p-value на экран \n",
    "print (f'Значение p-value равно {results.pvalue}')\n",
    "\n",
    "# условный оператор с выводом строки с ответом\n",
    "if results.pvalue < alpha:\n",
    "    print ('Отвергаем нулевую гипотезу')\n",
    "else:\n",
    "    print ('Не получилось отвергнуть нулевую гипотезу')"
   ]
  },
  {
   "cell_type": "markdown",
   "metadata": {},
   "source": [
    "**Таким образом, нулевая гипотеза не подтвердилась - средние рейтинги пользователей по платформам Xbox One и PC - различаются.  Разница между этими значениями достаточно велика, то есть вероятность её получить случайно очень низка. Стало быть, эта разница статистически значима.**"
   ]
  },
  {
   "cell_type": "code",
   "execution_count": null,
   "metadata": {},
   "outputs": [],
   "source": []
  },
  {
   "cell_type": "code",
   "execution_count": null,
   "metadata": {},
   "outputs": [],
   "source": []
  },
  {
   "cell_type": "markdown",
   "metadata": {},
   "source": [
    "###  Проверка гипотезы о том, что средние пользовательские рейтинги жанров Action и Sports - разные"
   ]
  },
  {
   "cell_type": "code",
   "execution_count": null,
   "metadata": {},
   "outputs": [],
   "source": [
    "#опять получим нужные срезы данных и сохраним их в переменные\n",
    "\n",
    "Action = data.query(('2015 <= year_of_release <= 2016') and ('genre == \"Action\"'))\n",
    "Sports = data.query(('2015 <= year_of_release <= 2016') and ('genre == \"Sports\"'))"
   ]
  },
  {
   "cell_type": "markdown",
   "metadata": {},
   "source": [
    "**Перед нами стоит задача подтвердить или опровергнуть то, что рейтинги разные. На первый взгляд, это и должно стать нулевой теорией. Однако, придерживаясь логики выдвижения гипотез в статистике, правильнее будет, в качестве нулевой гипотезы обозначить то, что средние этих двух совокупностей - одинаковые, а вспоследствии - подтвердить или опровергнуть данную гипотезу.  \n",
    "Так и сделаем.**\n",
    "\n",
    "**Сформулируем гипотезы:**\n",
    " - нулевой гипотезой (H₀) у нас будем предположение, что средние пользовательские рейтинги платформ Action и Sports одинаковы;\n",
    " - альтернативной гипотезой (H₁) будет предположение, что средние рейтинги НЕ равны.\n",
    " \n",
    "**Опять же, нас не интересует, больше или меньше одно значение, чем другое, поэтому формулируем двустороннюю альтернативную гипотезу.**"
   ]
  },
  {
   "cell_type": "markdown",
   "metadata": {},
   "source": [
    "**Для проверки наших гипотез мы опять используем метод scipy.stats.ttest_ind.**\n",
    "\n",
    "**Наши выборки не равны по размерам, хотя и достаточно велики. Поэтому будем считать дисперсию в них НЕ одинаковой (параметр equal_var будет равен False).**\n",
    "\n",
    "**Здесь также установим пороговое значение 0,05, т.к.выборки аналогичны тем, что были в примере ранее.**"
   ]
  },
  {
   "cell_type": "code",
   "execution_count": null,
   "metadata": {},
   "outputs": [],
   "source": [
    "results = st.ttest_ind(\n",
    "    Action['user_score'], \n",
    "    Sports['user_score'],\n",
    "    equal_var = False,\n",
    "    nan_policy=\"omit\")\n",
    "\n",
    "alpha=0.05\n",
    "\n",
    "print (f'Значение p-value равно {results.pvalue}')\n",
    "\n",
    "if results.pvalue < alpha:\n",
    "    print ('Отвергаем нулевую гипотезу')\n",
    "else:\n",
    "    print ('Не получилось отвергнуть нулевую гипотезу')"
   ]
  },
  {
   "cell_type": "markdown",
   "metadata": {},
   "source": [
    "**По результатам теста не получилось отвергнуть нулевую гипотезу, как видим, p-value превышает 0,4, это более 40%, что сушественно выше порогового значения в 5%.  \n",
    "Таким образом, средние пользовательские рейтинги жанров Action и Sports статистически значимо не различаются.**"
   ]
  },
  {
   "cell_type": "code",
   "execution_count": null,
   "metadata": {},
   "outputs": [],
   "source": []
  },
  {
   "cell_type": "code",
   "execution_count": null,
   "metadata": {},
   "outputs": [],
   "source": []
  },
  {
   "cell_type": "markdown",
   "metadata": {},
   "source": [
    "<div class=\"alert alert-info\">\n",
    "\n",
    "## ОБЩИЙ ВЫВОД"
   ]
  },
  {
   "cell_type": "markdown",
   "metadata": {},
   "source": [
    "<div class=\"alert alert-info\"> \n",
    "\n",
    "> <font size=\"4\"><b>Знакомство с данными</b></font>  \n",
    "    **Нами был рассмотрен датасет, хранящий информацию о продаже видеоигр с 1980 по 2016 год, с информацией об объёмах продаж на разных рынках, платформах, жанрах и т.д.**  \n",
    "    \n",
    "> <font size=\"4\"><b>Предобработка данных</b></font>     \n",
    "**После знакомства с данными, анализа параметров датасета, нами была произведена [предварительная обработка данных](#predv), в ходе которой, были устранены имеющиеся пробелы в данных (частично удалены, частично заполнены релевантными значениями).**\n",
    "    \n",
    "> <font size=\"4\"><b>Исследовательский анализ данных</b></font>     \n",
    "**Далее мы произвели [исследовательский анализ данных](#an_dan), в ходе которого было сделано несколько интересных наблюдений.**   \n",
    "**По представленным данным мы [можем видеть](#rost), что существенный рост производства видеоигр начался примерно c 2002 года. Возможно, это связано с ростом и повышением доступности технологий и, как следствием, резким повышением популярности игр  и доходов от их продажи.\n",
    "В ходе исследования нами были выделены [платформы-лидеры](#totalleaders) по числу продаж за всё рассматриваемое время. Любопытно, что в число лидеров последовательно входили продукты PS – в сумме все платформы данной линейки (PS, PS2, PS3 и PS4), если рассматривать их  в контексте общего производителя, являются безусловным лидером среди всех представленных платформ за изучаемый промежуток времени.  \n",
    "    Также, мы выяснили, что [‘срок жизни’ игровой платформы](#life) в среднем составляет от 7 до 9 лет и что период их «жизни» цикличен, в разрезе продаж. Это знание позволяет с высокой степенью вероятности прогнозировать дальнейшую динамику продаж по конкретной платформе (например, если после подъёма начался устойчивый спад, скорее всего он будет продолжаться, до минимальных отметок).**\n",
    "    \n",
    "> <font size=\"4\"><b>Актуальный период</b></font>  \n",
    "    **В ходе исследований нами был определён так называемый [«актуальный период»](#act_period) - в него вошли данные по продажам за последние два года. Такой период позволяет отразить существующие тренды в игровой индустрии, в то же время минимизируя влияние отживших трендов.**\n",
    "    \n",
    "> <font size=\"4\"><b>Наиболее перспективные платформы</b></font>  \n",
    "    **Далее, проанализировав динамику за два последдних года, мы попытались определить [наиболее перспективные платформы для 2017 года](#persp).  \n",
    "    В результате, нами были выявлены три платформы, как и все демонстрирующие динамику к снижению, но наиболее финансово активные по сравнению с прочими. Ими оказались PS4, XOne, 3DS.**\n",
    "    \n",
    "> <font size=\"4\"><b>Корреляция продаж с отзывами</b></font>  \n",
    "    **Затем мы изучили [корреляцию между уровнем продажи видеоигр в одной стороны и отзывами пользователей и критиков](#corr) – с другой. Нами были выявлены умеренная положительная корреляция продаж с оценками критиков, и очень слабая - с оценками покупателей.**\n",
    "\n",
    "> <font size=\"4\"><b>Самые продающиеся жанры</b></font>  \n",
    "    **Также мы выявили [самые «продающиеся» жанры игр](#genres) – ими оказались Shooter (c более, чем двукратным перевесом), Sports и Role-Playing. В числе аутсайдеров оказались Adventure, Puzzle и Strategy**\n",
    "\n",
    "> <font size=\"4\"><b>Портреты пользователей по регионам</b></font>  \n",
    "    **Далее, мы поставили цель составить [«портреты» пользователей](#portrety) по регионам – выявить в каждом регионе платформы-лидеры, наиболее продаваемые жанры, а также влияние рейтинга ESRB на продажи.  \n",
    "    По платформам был сделан вывод, о схожести рынков Северной Америки и Европы, - там лидерами, в совокупности занимающими окоо 75% рынка, оказались PS4 (на первом месте) и XOne.  \n",
    "    В Японии доминируют 3DS (первое место) и PS4.  \n",
    "    Игровые предпочтения Северной Америки и Европы во многом схожи, первые три места делят Action, Shooter и Sports.  \n",
    "    Особняком стоит Япония - первое место с существеным отрывом удерживает Action, на втором - Role-Playing.  \n",
    "    Что касается рейтинга игр, опять же, отметим схожесть рынков Европы и Северной Америки. В этих двух регионах первые два места делят рейтинги М и Е.  \n",
    "    Достоверную картину по Японии выявить не удаётся, т.к. больше половины данных имеют пропуски в графе Rating. По имеющимся данным, мы можем сделать вывод, что категория T занимает там место, соспоставимое с рынками Северной Америки и Европы, а категории Е и Е10 представлены в сопоставимых размерах.  \n",
    "    В общем и целом,  был сделан вывод о схожести рынков Северной Америки и Европы, что позволяет использовать на них схожие стратегии продаж и рекламных кампаний.  \n",
    "    Япония же представляет собой отдельный рынок, со своими вкусами и пристрастиями, поэтому к нему нужно подходить очень индивидуально.**\n",
    "\n",
    "> <font size=\"4\"><b>Проверка гипотез</b></font>  \n",
    "    **В качестве завершающего шага нашего исследования, [были проведены два статистических теста](#static). В результате, было выявлено, что средние рейтинги пользователей по платформам Xbox One и PC – различаются, а средние пользовательские рейтинги жанров Action и Sports статистически значимо не различаются.**\n",
    "    \n",
    "> <font size=\"4\"><b>Итоги исследования</b></font>  \n",
    "    **Подводя итоги нашего исследования, можно сказать, что нам удалось в общем и целом исследовать общую картину рынка видеоигр (с 1980 по 2016 годы) и картину за актуальный период, позволяющий видеть последние тенденции в игровой индустрии (с 2015 по 2016 годы).**  \n",
    "    **Нами были выявлены платформы - лидеры в разрезе разных временных промежутков, а также выявлены некоторые общие закономерности и предпочтения пользователей, позволяющие в дельнейшем эффективно выстраивать стратегию продаж и рекламных компаний.**\n",
    "    \n",
    "> <font size=\"4\"><b>Рекомендации по итогам исследования</b></font>  \n",
    "    **В качестве рекомендаций магазину видеоигр \"Стримчик\", мы бы посоветовали в новом 2017 году сконцентрироваться на платформах PS4, XOne, 3DS.  \n",
    "    Ввиду схожести рынков Европы и Северной Америки, для этих двух регионов лучше заострить внимание на платформах PS4 и XOne. Для Японии рекомендуем сосредоточиться на 3DS и PS4.  \n",
    "    Рекомендуемые жанры игр для Европы и Северной Америки - Action, Shooter и Sports, для Японии - Action и Role-Playing.  \n",
    "    При планировании продаж и построении рекламных компаний можно посоветовать использовать в Европе и Северной Америке схожие модели, для Японии же разрабатывать индивидуальные решения.**\n",
    "</div>\n"
   ]
  },
  {
   "cell_type": "markdown",
   "metadata": {},
   "source": [
    "<div class=\"alert alert-info\"> \n",
    "\n",
    "<font size=\"4\"><b>Знакомство с данными</b></font>  \n",
    "    **Нами был рассмотрен датасет, хранящий информацию о продаже видеоигр с 1980 по 2016 год, с информацией об объёмах продаж на разных рынках, платформах, жанрах и т.д.**  \n",
    "    \n",
    "---    \n",
    "  \n",
    "<font size=\"4\"><b>Предобработка данных</b></font>     \n",
    "**После знакомства с данными, анализа параметров датасета, нами была произведена [предварительная обработка данных](#predv), в ходе которой, были устранены имеющиеся пробелы в данных (частично удалены, частично заполнены релевантными значениями).**\n",
    "\n",
    "---    \n",
    "    \n",
    "<font size=\"4\"><b>Исследовательский анализ данных</b></font>     \n",
    "**Далее мы произвели [исследовательский анализ данных](#an_dan), в ходе которого было сделано несколько интересных наблюдений.**   \n",
    "**По представленным данным мы [можем видеть](#rost), что существенный рост производства видеоигр начался примерно c 2002 года. Возможно, это связано с ростом и повышением доступности технологий и, как следствием, резким повышением популярности игр  и доходов от их продажи.\n",
    "В ходе исследования нами были выделены [платформы-лидеры](#totalleaders) по числу продаж за всё рассматриваемое время. Любопытно, что в число лидеров последовательно входили продукты PS – в сумме все платформы данной линейки (PS, PS2, PS3 и PS4), если рассматривать их  в контексте общего производителя, являются безусловным лидером среди всех представленных платформ за изучаемый промежуток времени.  \n",
    "    Также, мы выяснили, что [‘срок жизни’ игровой платформы](#life) в среднем составляет от 7 до 9 лет и что период их «жизни» цикличен, в разрезе продаж. Это знание позволяет с высокой степенью вероятности прогнозировать дальнейшую динамику продаж по конкретной платформе (например, если после подъёма начался устойчивый спад, скорее всего он будет продолжаться, до минимальных отметок).**\n",
    "    \n",
    "<font size=\"4\"><b>Актуальный период</b></font>  \n",
    "    **В ходе исследований нами был определён так называемый [«актуальный период»](#act_period) - в него вошли данные по продажам за последние два года. Такой период позволяет отразить существующие тренды в игровой индустрии, в то же время минимизируя влияние отживших трендов.**\n",
    "    \n",
    "<font size=\"4\"><b>Наиболее перспективные платформы</b></font>  \n",
    "    **Далее, проанализировав динамику за два последних года, мы попытались определить [наиболее перспективные платформы для 2017 года](#persp).  \n",
    "    В результате, нами были выявлены три платформы, как и все демонстрирующие динамику к снижению, но наиболее финансово активные по сравнению с прочими. Ими оказались PS4, XOne, 3DS.**\n",
    "    \n",
    "<font size=\"4\"><b>Корреляция продаж с отзывами</b></font>  \n",
    "    **Затем мы изучили [корреляцию между уровнем продажи видеоигр в одной стороны и отзывами пользователей и критиков](#corr) – с другой. Нами были выявлены умеренная положительная корреляция продаж с оценками критиков, и очень слабая - с оценками покупателей.**\n",
    "\n",
    "<font size=\"4\"><b>Самые продающиеся жанры</b></font>  \n",
    "    **Также мы выявили [самые «продающиеся» жанры игр](#genres) – ими оказались Shooter (c более, чем двукратным перевесом), Sports и Role-Playing. В числе аутсайдеров оказались Adventure, Puzzle и Strategy**\n",
    "\n",
    "<font size=\"4\"><b>Портреты пользователей по регионам</b></font>  \n",
    "    **Далее, мы поставили цель составить [«портреты» пользователей](#portrety) по регионам – выявить в каждом регионе платформы-лидеры, наиболее продаваемые жанры, а также влияние рейтинга ESRB на продажи.  \n",
    "    По платформам был сделан вывод, о схожести рынков Северной Америки и Европы, - там лидерами, в совокупности занимающими окоо 75% рынка, оказались PS4 (на первом месте) и XOne.  \n",
    "    В Японии доминируют 3DS (первое место) и PS4.  \n",
    "    Игровые предпочтения Северной Америки и Европы во многом схожи, первые три места делят Action, Shooter и Sports.  \n",
    "    Особняком стоит Япония - первое место с существеным отрывом удерживает Action, на втором - Role-Playing.  \n",
    "    Что касается рейтинга игр, опять же, отметим схожесть рынков Европы и Северной Америки. В этих двух регионах первые два места делят рейтинги М и Е.  \n",
    "    Достоверную картину по Японии выявить не удаётся, т.к. больше половины данных имеют пропуски в графе Rating. По имеющимся данным, мы можем сделать вывод, что категория T занимает там место, соспоставимое с рынками Северной Америки и Европы, а категории Е и Е10 представлены в сопоставимых размерах.  \n",
    "    В общем и целом,  был сделан вывод о схожести рынков Северной Америки и Европы, что позволяет использовать на них схожие стратегии продаж и рекламных кампаний.  \n",
    "    Япония же представляет собой отдельный рынок, со своими вкусами и пристрастиями, поэтому к нему нужно подходить очень индивидуально.**\n",
    "    \n",
    "---    \n",
    "\n",
    "<font size=\"4\"><b>Проверка гипотез</b></font>  \n",
    "    **В качестве завершающего шага нашего исследования, [были проведены два статистических теста](#static). В результате, было выявлено, что средние рейтинги пользователей по платформам Xbox One и PC – различаются, а средние пользовательские рейтинги жанров Action и Sports статистически значимо не различаются.**\n",
    "    \n",
    "---    \n",
    "    \n",
    "<font size=\"4\"><b>Итоги исследования</b></font>  \n",
    "    **Подводя итоги нашего исследования, можно сказать, что нам удалось в общем и целом исследовать общую картину рынка видеоигр (с 1980 по 2016 годы) и картину за актуальный период, позволяющий видеть последние тенденции в игровой индустрии (с 2015 по 2016 годы).**  \n",
    "    **Нами были выявлены платформы - лидеры в разрезе разных временных промежутков, а также выявлены некоторые общие закономерности и предпочтения пользователей, позволяющие в дельнейшем эффективно выстраивать стратегию продаж и рекламных компаний.**\n",
    "    \n",
    "---    \n",
    "    \n",
    "<font size=\"4\"><b>Рекомендации по итогам исследования</b></font>  \n",
    "    **В качестве рекомендаций магазину видеоигр \"Стримчик\", мы бы посоветовали в новом 2017 году сконцентрироваться на платформах PS4, XOne, 3DS.  \n",
    "    Ввиду схожести рынков Европы и Северной Америки, для этих двух регионов лучше заострить внимание на платформах PS4 и XOne. Для Японии рекомендуем сосредоточиться на 3DS и PS4.  \n",
    "    Рекомендуемые жанры игр для Европы и Северной Америки - Action, Shooter и Sports, для Японии - Action и Role-Playing.  \n",
    "    При планировании продаж и построении рекламных компаний можно посоветовать использовать в Европе и Северной Америке схожие модели, для Японии же разрабатывать индивидуальные решения.**\n",
    "</div>\n"
   ]
  },
  {
   "cell_type": "code",
   "execution_count": null,
   "metadata": {},
   "outputs": [],
   "source": []
  },
  {
   "cell_type": "code",
   "execution_count": null,
   "metadata": {},
   "outputs": [],
   "source": []
  }
 ],
 "metadata": {
  "ExecuteTimeLog": [
   {
    "duration": 501,
    "start_time": "2022-11-28T09:47:40.426Z"
   },
   {
    "duration": 91,
    "start_time": "2022-11-28T09:48:09.549Z"
   },
   {
    "duration": 15,
    "start_time": "2022-11-28T09:48:16.856Z"
   },
   {
    "duration": 49,
    "start_time": "2022-11-28T09:48:39.278Z"
   },
   {
    "duration": 20,
    "start_time": "2022-11-28T09:48:41.263Z"
   },
   {
    "duration": 3,
    "start_time": "2022-11-28T09:50:27.371Z"
   },
   {
    "duration": 25,
    "start_time": "2022-11-28T09:50:34.010Z"
   },
   {
    "duration": 4,
    "start_time": "2022-11-28T09:55:56.769Z"
   },
   {
    "duration": 4,
    "start_time": "2022-11-28T09:56:26.609Z"
   },
   {
    "duration": 4,
    "start_time": "2022-11-28T09:58:06.999Z"
   },
   {
    "duration": 14,
    "start_time": "2022-11-28T10:03:03.289Z"
   },
   {
    "duration": 18,
    "start_time": "2022-11-28T10:04:41.038Z"
   },
   {
    "duration": 1145,
    "start_time": "2022-11-28T10:12:43.527Z"
   },
   {
    "duration": 17,
    "start_time": "2022-11-28T11:20:09.189Z"
   },
   {
    "duration": 3,
    "start_time": "2022-11-28T11:24:15.289Z"
   },
   {
    "duration": 6,
    "start_time": "2022-11-28T11:24:25.942Z"
   },
   {
    "duration": 17,
    "start_time": "2022-11-28T11:29:27.639Z"
   },
   {
    "duration": 14,
    "start_time": "2022-11-28T11:30:34.373Z"
   },
   {
    "duration": 5,
    "start_time": "2022-11-28T11:40:21.034Z"
   },
   {
    "duration": 16,
    "start_time": "2022-11-28T11:42:05.898Z"
   },
   {
    "duration": 422,
    "start_time": "2022-11-28T11:42:15.560Z"
   },
   {
    "duration": 5,
    "start_time": "2022-11-28T11:43:29.381Z"
   },
   {
    "duration": 1242,
    "start_time": "2022-11-28T11:45:10.026Z"
   },
   {
    "duration": 5,
    "start_time": "2022-11-28T11:47:45.208Z"
   },
   {
    "duration": 4,
    "start_time": "2022-11-28T11:48:05.678Z"
   },
   {
    "duration": 5,
    "start_time": "2022-11-28T11:48:16.634Z"
   },
   {
    "duration": 9,
    "start_time": "2022-11-28T11:49:25.234Z"
   },
   {
    "duration": 450,
    "start_time": "2022-11-28T11:49:32.374Z"
   },
   {
    "duration": 5,
    "start_time": "2022-11-28T11:56:31.976Z"
   },
   {
    "duration": 17,
    "start_time": "2022-11-28T11:56:51.899Z"
   },
   {
    "duration": 5,
    "start_time": "2022-11-28T11:58:20.938Z"
   },
   {
    "duration": 4,
    "start_time": "2022-11-28T11:59:41.260Z"
   },
   {
    "duration": 5,
    "start_time": "2022-11-28T12:02:14.436Z"
   },
   {
    "duration": 8,
    "start_time": "2022-11-28T12:03:13.109Z"
   },
   {
    "duration": 9,
    "start_time": "2022-11-28T12:03:19.134Z"
   },
   {
    "duration": 6,
    "start_time": "2022-11-28T12:03:55.996Z"
   },
   {
    "duration": 5,
    "start_time": "2022-11-28T12:04:48.513Z"
   },
   {
    "duration": 5,
    "start_time": "2022-11-28T12:05:19.999Z"
   },
   {
    "duration": 5,
    "start_time": "2022-11-28T12:05:25.402Z"
   },
   {
    "duration": 5,
    "start_time": "2022-11-28T12:07:42.012Z"
   },
   {
    "duration": 12,
    "start_time": "2022-11-28T12:08:16.187Z"
   },
   {
    "duration": 3,
    "start_time": "2022-11-28T12:17:43.314Z"
   },
   {
    "duration": 7,
    "start_time": "2022-11-28T12:17:45.751Z"
   },
   {
    "duration": 2,
    "start_time": "2022-11-28T12:18:13.368Z"
   },
   {
    "duration": 10,
    "start_time": "2022-11-28T12:18:15.169Z"
   },
   {
    "duration": 3,
    "start_time": "2022-11-28T12:21:03.473Z"
   },
   {
    "duration": 6,
    "start_time": "2022-11-28T12:21:05.552Z"
   },
   {
    "duration": 5,
    "start_time": "2022-11-28T12:22:20.042Z"
   },
   {
    "duration": 5,
    "start_time": "2022-11-28T12:23:45.808Z"
   },
   {
    "duration": 52,
    "start_time": "2022-11-28T12:30:53.070Z"
   },
   {
    "duration": 7,
    "start_time": "2022-11-28T12:31:31.515Z"
   },
   {
    "duration": 5,
    "start_time": "2022-11-28T12:33:38.599Z"
   },
   {
    "duration": 467,
    "start_time": "2022-11-28T12:34:15.596Z"
   },
   {
    "duration": 3,
    "start_time": "2022-11-28T12:34:16.066Z"
   },
   {
    "duration": 13,
    "start_time": "2022-11-28T12:34:16.070Z"
   },
   {
    "duration": 8,
    "start_time": "2022-11-28T12:34:16.085Z"
   },
   {
    "duration": 10,
    "start_time": "2022-11-28T12:34:16.095Z"
   },
   {
    "duration": 18,
    "start_time": "2022-11-28T12:34:16.106Z"
   },
   {
    "duration": 18,
    "start_time": "2022-11-28T12:34:16.125Z"
   },
   {
    "duration": 1042,
    "start_time": "2022-11-28T12:34:16.144Z"
   },
   {
    "duration": 8,
    "start_time": "2022-11-28T12:34:17.188Z"
   },
   {
    "duration": 19,
    "start_time": "2022-11-28T12:34:17.198Z"
   },
   {
    "duration": 3,
    "start_time": "2022-11-28T12:34:17.219Z"
   },
   {
    "duration": 7,
    "start_time": "2022-11-28T12:34:17.223Z"
   },
   {
    "duration": 6,
    "start_time": "2022-11-28T12:34:17.232Z"
   },
   {
    "duration": 8,
    "start_time": "2022-11-28T12:34:17.240Z"
   },
   {
    "duration": 12,
    "start_time": "2022-11-28T12:34:17.250Z"
   },
   {
    "duration": 34,
    "start_time": "2022-11-28T12:34:17.264Z"
   },
   {
    "duration": 2,
    "start_time": "2022-11-28T12:34:17.300Z"
   },
   {
    "duration": 12,
    "start_time": "2022-11-28T12:34:17.304Z"
   },
   {
    "duration": 8,
    "start_time": "2022-11-28T12:34:17.318Z"
   },
   {
    "duration": 505,
    "start_time": "2022-11-28T12:35:51.083Z"
   },
   {
    "duration": 6,
    "start_time": "2022-11-28T12:36:00.191Z"
   },
   {
    "duration": 6,
    "start_time": "2022-11-28T12:36:08.043Z"
   },
   {
    "duration": 594,
    "start_time": "2022-11-28T12:37:47.495Z"
   },
   {
    "duration": 12,
    "start_time": "2022-11-28T12:38:18.408Z"
   },
   {
    "duration": 47,
    "start_time": "2022-11-28T12:38:34.819Z"
   },
   {
    "duration": 376,
    "start_time": "2022-11-28T12:38:53.588Z"
   },
   {
    "duration": 6,
    "start_time": "2022-11-28T12:41:05.490Z"
   },
   {
    "duration": 4,
    "start_time": "2022-11-28T12:41:09.311Z"
   },
   {
    "duration": 13,
    "start_time": "2022-11-28T12:41:30.442Z"
   },
   {
    "duration": 405,
    "start_time": "2022-11-28T12:43:46.347Z"
   },
   {
    "duration": 3,
    "start_time": "2022-11-28T12:43:46.754Z"
   },
   {
    "duration": 31,
    "start_time": "2022-11-28T12:43:46.759Z"
   },
   {
    "duration": 6,
    "start_time": "2022-11-28T12:43:46.792Z"
   },
   {
    "duration": 8,
    "start_time": "2022-11-28T12:43:46.800Z"
   },
   {
    "duration": 16,
    "start_time": "2022-11-28T12:43:46.809Z"
   },
   {
    "duration": 19,
    "start_time": "2022-11-28T12:43:46.828Z"
   },
   {
    "duration": 998,
    "start_time": "2022-11-28T12:43:46.849Z"
   },
   {
    "duration": 4,
    "start_time": "2022-11-28T12:43:47.849Z"
   },
   {
    "duration": 19,
    "start_time": "2022-11-28T12:43:47.854Z"
   },
   {
    "duration": 2,
    "start_time": "2022-11-28T12:43:47.875Z"
   },
   {
    "duration": 20,
    "start_time": "2022-11-28T12:43:47.879Z"
   },
   {
    "duration": 7,
    "start_time": "2022-11-28T12:43:47.900Z"
   },
   {
    "duration": 8,
    "start_time": "2022-11-28T12:43:47.910Z"
   },
   {
    "duration": 6,
    "start_time": "2022-11-28T12:43:47.920Z"
   },
   {
    "duration": 11,
    "start_time": "2022-11-28T12:43:47.928Z"
   },
   {
    "duration": 12,
    "start_time": "2022-11-28T12:43:47.941Z"
   },
   {
    "duration": 25,
    "start_time": "2022-11-28T12:43:47.954Z"
   },
   {
    "duration": 20,
    "start_time": "2022-11-28T12:43:47.981Z"
   },
   {
    "duration": 11,
    "start_time": "2022-11-28T12:43:48.003Z"
   },
   {
    "duration": 7,
    "start_time": "2022-11-28T12:43:48.016Z"
   },
   {
    "duration": 458,
    "start_time": "2022-11-28T12:44:35.009Z"
   },
   {
    "duration": 2,
    "start_time": "2022-11-28T12:44:35.469Z"
   },
   {
    "duration": 18,
    "start_time": "2022-11-28T12:44:35.473Z"
   },
   {
    "duration": 9,
    "start_time": "2022-11-28T12:44:35.493Z"
   },
   {
    "duration": 10,
    "start_time": "2022-11-28T12:44:35.504Z"
   },
   {
    "duration": 18,
    "start_time": "2022-11-28T12:44:35.515Z"
   },
   {
    "duration": 19,
    "start_time": "2022-11-28T12:44:35.535Z"
   },
   {
    "duration": 1170,
    "start_time": "2022-11-28T12:44:35.556Z"
   },
   {
    "duration": 6,
    "start_time": "2022-11-28T12:44:36.728Z"
   },
   {
    "duration": 20,
    "start_time": "2022-11-28T12:44:36.736Z"
   },
   {
    "duration": 4,
    "start_time": "2022-11-28T12:44:36.757Z"
   },
   {
    "duration": 33,
    "start_time": "2022-11-28T12:44:36.763Z"
   },
   {
    "duration": 7,
    "start_time": "2022-11-28T12:44:36.798Z"
   },
   {
    "duration": 5,
    "start_time": "2022-11-28T12:44:36.808Z"
   },
   {
    "duration": 7,
    "start_time": "2022-11-28T12:44:36.815Z"
   },
   {
    "duration": 9,
    "start_time": "2022-11-28T12:44:36.823Z"
   },
   {
    "duration": 6,
    "start_time": "2022-11-28T12:44:36.834Z"
   },
   {
    "duration": 4,
    "start_time": "2022-11-28T12:44:36.842Z"
   },
   {
    "duration": 48,
    "start_time": "2022-11-28T12:44:36.848Z"
   },
   {
    "duration": 6,
    "start_time": "2022-11-28T12:44:36.899Z"
   },
   {
    "duration": 5,
    "start_time": "2022-11-28T12:45:31.452Z"
   },
   {
    "duration": 5,
    "start_time": "2022-11-28T12:45:36.449Z"
   },
   {
    "duration": 7,
    "start_time": "2022-11-28T12:46:02.360Z"
   },
   {
    "duration": 4,
    "start_time": "2022-11-28T12:47:05.614Z"
   },
   {
    "duration": 6,
    "start_time": "2022-11-28T12:47:16.622Z"
   },
   {
    "duration": 5,
    "start_time": "2022-11-28T12:47:25.403Z"
   },
   {
    "duration": 4,
    "start_time": "2022-11-28T12:47:27.754Z"
   },
   {
    "duration": 5,
    "start_time": "2022-11-28T12:47:29.967Z"
   },
   {
    "duration": 6,
    "start_time": "2022-11-28T12:47:32.177Z"
   },
   {
    "duration": 533,
    "start_time": "2022-11-28T12:49:55.878Z"
   },
   {
    "duration": 4,
    "start_time": "2022-11-28T12:49:56.413Z"
   },
   {
    "duration": 21,
    "start_time": "2022-11-28T12:49:56.418Z"
   },
   {
    "duration": 14,
    "start_time": "2022-11-28T12:49:56.441Z"
   },
   {
    "duration": 13,
    "start_time": "2022-11-28T12:49:56.458Z"
   },
   {
    "duration": 21,
    "start_time": "2022-11-28T12:49:56.473Z"
   },
   {
    "duration": 18,
    "start_time": "2022-11-28T12:49:56.496Z"
   },
   {
    "duration": 990,
    "start_time": "2022-11-28T12:49:56.516Z"
   },
   {
    "duration": 4,
    "start_time": "2022-11-28T12:49:57.508Z"
   },
   {
    "duration": 19,
    "start_time": "2022-11-28T12:49:57.514Z"
   },
   {
    "duration": 3,
    "start_time": "2022-11-28T12:49:57.535Z"
   },
   {
    "duration": 470,
    "start_time": "2022-11-28T12:49:57.539Z"
   },
   {
    "duration": 1,
    "start_time": "2022-11-28T12:49:58.011Z"
   },
   {
    "duration": 0,
    "start_time": "2022-11-28T12:49:58.013Z"
   },
   {
    "duration": 0,
    "start_time": "2022-11-28T12:49:58.015Z"
   },
   {
    "duration": 0,
    "start_time": "2022-11-28T12:49:58.016Z"
   },
   {
    "duration": 0,
    "start_time": "2022-11-28T12:49:58.017Z"
   },
   {
    "duration": 0,
    "start_time": "2022-11-28T12:49:58.018Z"
   },
   {
    "duration": 0,
    "start_time": "2022-11-28T12:49:58.019Z"
   },
   {
    "duration": 0,
    "start_time": "2022-11-28T12:49:58.020Z"
   },
   {
    "duration": 0,
    "start_time": "2022-11-28T12:49:58.021Z"
   },
   {
    "duration": 0,
    "start_time": "2022-11-28T12:49:58.022Z"
   },
   {
    "duration": 416,
    "start_time": "2022-11-28T12:51:15.741Z"
   },
   {
    "duration": 3,
    "start_time": "2022-11-28T12:51:16.159Z"
   },
   {
    "duration": 11,
    "start_time": "2022-11-28T12:51:16.163Z"
   },
   {
    "duration": 7,
    "start_time": "2022-11-28T12:51:16.175Z"
   },
   {
    "duration": 17,
    "start_time": "2022-11-28T12:51:16.184Z"
   },
   {
    "duration": 22,
    "start_time": "2022-11-28T12:51:16.202Z"
   },
   {
    "duration": 17,
    "start_time": "2022-11-28T12:51:16.226Z"
   },
   {
    "duration": 1077,
    "start_time": "2022-11-28T12:51:16.245Z"
   },
   {
    "duration": 4,
    "start_time": "2022-11-28T12:51:17.324Z"
   },
   {
    "duration": 20,
    "start_time": "2022-11-28T12:51:17.330Z"
   },
   {
    "duration": 3,
    "start_time": "2022-11-28T12:51:17.351Z"
   },
   {
    "duration": 6,
    "start_time": "2022-11-28T12:51:17.356Z"
   },
   {
    "duration": 5,
    "start_time": "2022-11-28T12:51:17.364Z"
   },
   {
    "duration": 26,
    "start_time": "2022-11-28T12:51:17.371Z"
   },
   {
    "duration": 7,
    "start_time": "2022-11-28T12:51:17.399Z"
   },
   {
    "duration": 13,
    "start_time": "2022-11-28T12:51:17.413Z"
   },
   {
    "duration": 7,
    "start_time": "2022-11-28T12:51:17.428Z"
   },
   {
    "duration": 10,
    "start_time": "2022-11-28T12:51:17.436Z"
   },
   {
    "duration": 6,
    "start_time": "2022-11-28T12:51:17.447Z"
   },
   {
    "duration": 4,
    "start_time": "2022-11-28T12:51:17.454Z"
   },
   {
    "duration": 10,
    "start_time": "2022-11-28T12:51:17.460Z"
   },
   {
    "duration": 7,
    "start_time": "2022-11-28T12:51:17.471Z"
   },
   {
    "duration": 77,
    "start_time": "2022-11-28T12:52:19.772Z"
   },
   {
    "duration": 6,
    "start_time": "2022-11-28T12:54:55.890Z"
   },
   {
    "duration": 5890,
    "start_time": "2022-11-28T12:56:21.636Z"
   },
   {
    "duration": 6,
    "start_time": "2022-11-28T12:56:32.968Z"
   },
   {
    "duration": 7,
    "start_time": "2022-11-28T12:56:52.604Z"
   },
   {
    "duration": 6,
    "start_time": "2022-11-28T12:56:57.394Z"
   },
   {
    "duration": 5,
    "start_time": "2022-11-28T12:57:00.296Z"
   },
   {
    "duration": 519,
    "start_time": "2022-11-28T12:57:13.018Z"
   },
   {
    "duration": 4,
    "start_time": "2022-11-28T12:58:06.364Z"
   },
   {
    "duration": 3,
    "start_time": "2022-11-28T12:59:53.195Z"
   },
   {
    "duration": 7,
    "start_time": "2022-11-28T13:00:25.119Z"
   },
   {
    "duration": 4,
    "start_time": "2022-11-28T13:00:29.994Z"
   },
   {
    "duration": 457,
    "start_time": "2022-11-28T13:03:25.727Z"
   },
   {
    "duration": 4,
    "start_time": "2022-11-28T13:03:26.186Z"
   },
   {
    "duration": 37,
    "start_time": "2022-11-28T13:03:26.192Z"
   },
   {
    "duration": 22,
    "start_time": "2022-11-28T13:03:26.231Z"
   },
   {
    "duration": 33,
    "start_time": "2022-11-28T13:03:26.256Z"
   },
   {
    "duration": 42,
    "start_time": "2022-11-28T13:03:26.291Z"
   },
   {
    "duration": 20,
    "start_time": "2022-11-28T13:03:26.335Z"
   },
   {
    "duration": 1027,
    "start_time": "2022-11-28T13:03:26.356Z"
   },
   {
    "duration": 13,
    "start_time": "2022-11-28T13:03:27.384Z"
   },
   {
    "duration": 16,
    "start_time": "2022-11-28T13:03:27.398Z"
   },
   {
    "duration": 6,
    "start_time": "2022-11-28T13:03:27.416Z"
   },
   {
    "duration": 12,
    "start_time": "2022-11-28T13:03:27.424Z"
   },
   {
    "duration": 6,
    "start_time": "2022-11-28T13:03:36.282Z"
   },
   {
    "duration": 23,
    "start_time": "2022-11-28T13:04:36.462Z"
   },
   {
    "duration": 6,
    "start_time": "2022-11-28T13:04:46.253Z"
   },
   {
    "duration": 423,
    "start_time": "2022-11-28T13:05:37.335Z"
   },
   {
    "duration": 4,
    "start_time": "2022-11-28T13:05:37.760Z"
   },
   {
    "duration": 17,
    "start_time": "2022-11-28T13:05:37.765Z"
   },
   {
    "duration": 9,
    "start_time": "2022-11-28T13:05:37.784Z"
   },
   {
    "duration": 8,
    "start_time": "2022-11-28T13:05:37.795Z"
   },
   {
    "duration": 23,
    "start_time": "2022-11-28T13:05:37.804Z"
   },
   {
    "duration": 19,
    "start_time": "2022-11-28T13:05:37.829Z"
   },
   {
    "duration": 985,
    "start_time": "2022-11-28T13:05:37.850Z"
   },
   {
    "duration": 5,
    "start_time": "2022-11-28T13:05:38.837Z"
   },
   {
    "duration": 25,
    "start_time": "2022-11-28T13:05:38.844Z"
   },
   {
    "duration": 7,
    "start_time": "2022-11-28T13:05:38.871Z"
   },
   {
    "duration": 16,
    "start_time": "2022-11-28T13:05:38.896Z"
   },
   {
    "duration": 5,
    "start_time": "2022-11-28T13:05:46.710Z"
   },
   {
    "duration": 522,
    "start_time": "2022-11-28T13:08:11.412Z"
   },
   {
    "duration": 408,
    "start_time": "2022-11-28T13:11:12.539Z"
   },
   {
    "duration": 3,
    "start_time": "2022-11-28T13:11:12.949Z"
   },
   {
    "duration": 14,
    "start_time": "2022-11-28T13:11:12.953Z"
   },
   {
    "duration": 7,
    "start_time": "2022-11-28T13:11:12.969Z"
   },
   {
    "duration": 6,
    "start_time": "2022-11-28T13:11:12.978Z"
   },
   {
    "duration": 18,
    "start_time": "2022-11-28T13:11:12.986Z"
   },
   {
    "duration": 18,
    "start_time": "2022-11-28T13:11:13.005Z"
   },
   {
    "duration": 950,
    "start_time": "2022-11-28T13:11:13.024Z"
   },
   {
    "duration": 5,
    "start_time": "2022-11-28T13:11:13.976Z"
   },
   {
    "duration": 25,
    "start_time": "2022-11-28T13:11:13.983Z"
   },
   {
    "duration": 8,
    "start_time": "2022-11-28T13:11:19.803Z"
   },
   {
    "duration": 5,
    "start_time": "2022-11-28T13:11:29.543Z"
   },
   {
    "duration": 5,
    "start_time": "2022-11-28T13:11:34.427Z"
   },
   {
    "duration": 6,
    "start_time": "2022-11-28T13:11:59.554Z"
   },
   {
    "duration": 5,
    "start_time": "2022-11-28T13:12:04.343Z"
   },
   {
    "duration": 7,
    "start_time": "2022-11-28T13:12:15.145Z"
   },
   {
    "duration": 526,
    "start_time": "2022-11-28T13:12:38.903Z"
   },
   {
    "duration": 12,
    "start_time": "2022-11-28T13:12:50.582Z"
   },
   {
    "duration": 6,
    "start_time": "2022-11-28T13:13:03.177Z"
   },
   {
    "duration": 5,
    "start_time": "2022-11-28T13:13:05.802Z"
   },
   {
    "duration": 7,
    "start_time": "2022-11-28T13:13:10.679Z"
   },
   {
    "duration": 6,
    "start_time": "2022-11-28T13:13:30.025Z"
   },
   {
    "duration": 5,
    "start_time": "2022-11-28T13:13:56.940Z"
   },
   {
    "duration": 6,
    "start_time": "2022-11-28T13:14:03.153Z"
   },
   {
    "duration": 478,
    "start_time": "2022-11-28T13:16:53.564Z"
   },
   {
    "duration": 3,
    "start_time": "2022-11-28T13:16:54.045Z"
   },
   {
    "duration": 15,
    "start_time": "2022-11-28T13:16:54.050Z"
   },
   {
    "duration": 13,
    "start_time": "2022-11-28T13:16:54.067Z"
   },
   {
    "duration": 6,
    "start_time": "2022-11-28T13:16:54.083Z"
   },
   {
    "duration": 16,
    "start_time": "2022-11-28T13:16:54.091Z"
   },
   {
    "duration": 18,
    "start_time": "2022-11-28T13:16:54.109Z"
   },
   {
    "duration": 995,
    "start_time": "2022-11-28T13:16:54.129Z"
   },
   {
    "duration": 5,
    "start_time": "2022-11-28T13:16:55.126Z"
   },
   {
    "duration": 22,
    "start_time": "2022-11-28T13:16:55.133Z"
   },
   {
    "duration": 10,
    "start_time": "2022-11-28T13:16:55.157Z"
   },
   {
    "duration": 32,
    "start_time": "2022-11-28T13:16:55.169Z"
   },
   {
    "duration": 6,
    "start_time": "2022-11-28T13:16:55.203Z"
   },
   {
    "duration": 6,
    "start_time": "2022-11-28T13:16:55.211Z"
   },
   {
    "duration": 9,
    "start_time": "2022-11-28T13:16:55.219Z"
   },
   {
    "duration": 462,
    "start_time": "2022-11-28T13:16:55.229Z"
   },
   {
    "duration": 482,
    "start_time": "2022-11-28T13:17:58.966Z"
   },
   {
    "duration": 3,
    "start_time": "2022-11-28T13:17:59.450Z"
   },
   {
    "duration": 12,
    "start_time": "2022-11-28T13:17:59.454Z"
   },
   {
    "duration": 10,
    "start_time": "2022-11-28T13:17:59.467Z"
   },
   {
    "duration": 7,
    "start_time": "2022-11-28T13:17:59.480Z"
   },
   {
    "duration": 20,
    "start_time": "2022-11-28T13:17:59.488Z"
   },
   {
    "duration": 18,
    "start_time": "2022-11-28T13:17:59.510Z"
   },
   {
    "duration": 1053,
    "start_time": "2022-11-28T13:17:59.530Z"
   },
   {
    "duration": 10,
    "start_time": "2022-11-28T13:18:00.585Z"
   },
   {
    "duration": 37,
    "start_time": "2022-11-28T13:18:00.598Z"
   },
   {
    "duration": 10,
    "start_time": "2022-11-28T13:18:00.637Z"
   },
   {
    "duration": 7,
    "start_time": "2022-11-28T13:18:27.794Z"
   },
   {
    "duration": 6,
    "start_time": "2022-11-28T13:18:30.328Z"
   },
   {
    "duration": 5,
    "start_time": "2022-11-28T13:18:34.978Z"
   },
   {
    "duration": 6,
    "start_time": "2022-11-28T13:19:37.438Z"
   },
   {
    "duration": 5,
    "start_time": "2022-11-28T13:21:13.808Z"
   },
   {
    "duration": 423,
    "start_time": "2022-11-28T13:21:37.240Z"
   },
   {
    "duration": 4,
    "start_time": "2022-11-28T13:21:37.665Z"
   },
   {
    "duration": 10,
    "start_time": "2022-11-28T13:21:37.671Z"
   },
   {
    "duration": 6,
    "start_time": "2022-11-28T13:21:37.683Z"
   },
   {
    "duration": 8,
    "start_time": "2022-11-28T13:21:37.692Z"
   },
   {
    "duration": 16,
    "start_time": "2022-11-28T13:21:37.702Z"
   },
   {
    "duration": 19,
    "start_time": "2022-11-28T13:21:37.720Z"
   },
   {
    "duration": 1025,
    "start_time": "2022-11-28T13:21:37.741Z"
   },
   {
    "duration": 5,
    "start_time": "2022-11-28T13:21:38.768Z"
   },
   {
    "duration": 34,
    "start_time": "2022-11-28T13:21:38.776Z"
   },
   {
    "duration": 5,
    "start_time": "2022-11-28T13:21:38.811Z"
   },
   {
    "duration": 497,
    "start_time": "2022-11-28T13:27:03.666Z"
   },
   {
    "duration": 3,
    "start_time": "2022-11-28T13:27:04.165Z"
   },
   {
    "duration": 15,
    "start_time": "2022-11-28T13:27:04.169Z"
   },
   {
    "duration": 6,
    "start_time": "2022-11-28T13:27:04.186Z"
   },
   {
    "duration": 9,
    "start_time": "2022-11-28T13:27:04.194Z"
   },
   {
    "duration": 17,
    "start_time": "2022-11-28T13:27:04.204Z"
   },
   {
    "duration": 18,
    "start_time": "2022-11-28T13:27:04.223Z"
   },
   {
    "duration": 1057,
    "start_time": "2022-11-28T13:27:04.242Z"
   },
   {
    "duration": 5,
    "start_time": "2022-11-28T13:27:05.301Z"
   },
   {
    "duration": 19,
    "start_time": "2022-11-28T13:27:05.308Z"
   },
   {
    "duration": 6,
    "start_time": "2022-11-28T13:27:05.329Z"
   },
   {
    "duration": 8,
    "start_time": "2022-11-28T13:27:05.336Z"
   },
   {
    "duration": 10,
    "start_time": "2022-11-28T13:27:05.346Z"
   },
   {
    "duration": 51,
    "start_time": "2022-11-28T13:27:05.359Z"
   },
   {
    "duration": 40,
    "start_time": "2022-11-28T13:27:05.412Z"
   },
   {
    "duration": 30,
    "start_time": "2022-11-28T13:27:05.454Z"
   },
   {
    "duration": 8,
    "start_time": "2022-11-28T13:38:49.292Z"
   },
   {
    "duration": 5,
    "start_time": "2022-11-28T13:38:59.678Z"
   },
   {
    "duration": 6,
    "start_time": "2022-11-28T13:39:14.744Z"
   },
   {
    "duration": 13,
    "start_time": "2022-11-28T13:42:38.617Z"
   },
   {
    "duration": 5,
    "start_time": "2022-11-28T13:43:21.782Z"
   },
   {
    "duration": 8,
    "start_time": "2022-11-28T13:47:03.238Z"
   },
   {
    "duration": 8,
    "start_time": "2022-11-28T13:47:29.606Z"
   },
   {
    "duration": 7,
    "start_time": "2022-11-28T13:47:37.753Z"
   },
   {
    "duration": 54,
    "start_time": "2022-11-28T13:48:28.976Z"
   },
   {
    "duration": 7,
    "start_time": "2022-11-28T13:48:43.586Z"
   },
   {
    "duration": 12,
    "start_time": "2022-11-28T13:48:56.110Z"
   },
   {
    "duration": 6,
    "start_time": "2022-11-28T13:56:52.631Z"
   },
   {
    "duration": 4,
    "start_time": "2022-11-28T14:01:46.326Z"
   },
   {
    "duration": 840,
    "start_time": "2022-11-28T14:02:14.185Z"
   },
   {
    "duration": 19,
    "start_time": "2022-11-28T14:03:14.771Z"
   },
   {
    "duration": 135,
    "start_time": "2022-11-28T14:06:15.217Z"
   },
   {
    "duration": 5,
    "start_time": "2022-11-28T14:06:25.197Z"
   },
   {
    "duration": 17,
    "start_time": "2022-11-28T14:06:28.374Z"
   },
   {
    "duration": 6,
    "start_time": "2022-11-28T14:06:58.550Z"
   },
   {
    "duration": 19,
    "start_time": "2022-11-28T14:07:01.569Z"
   },
   {
    "duration": 18,
    "start_time": "2022-11-28T14:07:58.745Z"
   },
   {
    "duration": 5,
    "start_time": "2022-11-28T14:08:54.366Z"
   },
   {
    "duration": 4,
    "start_time": "2022-11-28T14:09:03.284Z"
   },
   {
    "duration": 5,
    "start_time": "2022-11-28T14:09:05.777Z"
   },
   {
    "duration": 8,
    "start_time": "2022-11-28T14:09:47.718Z"
   },
   {
    "duration": 6,
    "start_time": "2022-11-28T14:09:51.110Z"
   },
   {
    "duration": 993,
    "start_time": "2022-11-28T14:09:56.438Z"
   },
   {
    "duration": 5,
    "start_time": "2022-11-28T14:10:13.081Z"
   },
   {
    "duration": 5,
    "start_time": "2022-11-28T14:10:52.090Z"
   },
   {
    "duration": 5,
    "start_time": "2022-11-28T14:11:13.806Z"
   },
   {
    "duration": 8,
    "start_time": "2022-11-28T14:17:11.822Z"
   },
   {
    "duration": 6,
    "start_time": "2022-11-28T14:17:17.023Z"
   },
   {
    "duration": 6,
    "start_time": "2022-11-28T14:18:48.598Z"
   },
   {
    "duration": 514,
    "start_time": "2022-11-28T14:19:35.495Z"
   },
   {
    "duration": 4,
    "start_time": "2022-11-28T14:19:36.012Z"
   },
   {
    "duration": 47,
    "start_time": "2022-11-28T14:19:36.019Z"
   },
   {
    "duration": 24,
    "start_time": "2022-11-28T14:19:36.068Z"
   },
   {
    "duration": 18,
    "start_time": "2022-11-28T14:19:36.095Z"
   },
   {
    "duration": 55,
    "start_time": "2022-11-28T14:19:36.115Z"
   },
   {
    "duration": 29,
    "start_time": "2022-11-28T14:19:36.172Z"
   },
   {
    "duration": 1041,
    "start_time": "2022-11-28T14:19:36.203Z"
   },
   {
    "duration": 5,
    "start_time": "2022-11-28T14:19:37.245Z"
   },
   {
    "duration": 51,
    "start_time": "2022-11-28T14:19:37.252Z"
   },
   {
    "duration": 19,
    "start_time": "2022-11-28T14:19:37.305Z"
   },
   {
    "duration": 24,
    "start_time": "2022-11-28T14:19:37.325Z"
   },
   {
    "duration": 28,
    "start_time": "2022-11-28T14:19:37.351Z"
   },
   {
    "duration": 37,
    "start_time": "2022-11-28T14:19:37.382Z"
   },
   {
    "duration": 23,
    "start_time": "2022-11-28T14:19:37.421Z"
   },
   {
    "duration": 25,
    "start_time": "2022-11-28T14:19:37.445Z"
   },
   {
    "duration": 27,
    "start_time": "2022-11-28T14:19:37.472Z"
   },
   {
    "duration": 34,
    "start_time": "2022-11-28T14:19:37.501Z"
   },
   {
    "duration": 5,
    "start_time": "2022-11-28T14:21:55.574Z"
   },
   {
    "duration": 6,
    "start_time": "2022-11-28T14:27:41.493Z"
   },
   {
    "duration": 6,
    "start_time": "2022-11-28T14:28:38.837Z"
   },
   {
    "duration": 11,
    "start_time": "2022-11-28T14:28:45.536Z"
   },
   {
    "duration": 8,
    "start_time": "2022-11-28T14:29:35.493Z"
   },
   {
    "duration": 50,
    "start_time": "2022-11-28T14:31:36.316Z"
   },
   {
    "duration": 34,
    "start_time": "2022-11-28T14:31:45.925Z"
   },
   {
    "duration": 10,
    "start_time": "2022-11-28T14:32:05.383Z"
   },
   {
    "duration": 11,
    "start_time": "2022-11-28T14:32:50.068Z"
   },
   {
    "duration": 21,
    "start_time": "2022-11-28T14:33:04.880Z"
   },
   {
    "duration": 15,
    "start_time": "2022-11-28T14:34:37.231Z"
   },
   {
    "duration": 13,
    "start_time": "2022-11-28T14:35:28.633Z"
   },
   {
    "duration": 15,
    "start_time": "2022-11-28T14:35:41.122Z"
   },
   {
    "duration": 80,
    "start_time": "2022-11-28T14:35:47.236Z"
   },
   {
    "duration": 13,
    "start_time": "2022-11-28T14:35:55.289Z"
   },
   {
    "duration": 11,
    "start_time": "2022-11-28T14:42:16.510Z"
   },
   {
    "duration": 6,
    "start_time": "2022-11-28T14:42:19.137Z"
   },
   {
    "duration": 5,
    "start_time": "2022-11-28T14:46:08.795Z"
   },
   {
    "duration": 5,
    "start_time": "2022-11-28T14:46:25.456Z"
   },
   {
    "duration": 6,
    "start_time": "2022-11-28T14:47:18.766Z"
   },
   {
    "duration": 13,
    "start_time": "2022-11-28T14:47:34.545Z"
   },
   {
    "duration": 10,
    "start_time": "2022-11-28T14:47:44.767Z"
   },
   {
    "duration": 6,
    "start_time": "2022-11-28T14:47:59.870Z"
   },
   {
    "duration": 6,
    "start_time": "2022-11-28T14:48:12.709Z"
   },
   {
    "duration": 5,
    "start_time": "2022-11-28T14:49:03.037Z"
   },
   {
    "duration": 7,
    "start_time": "2022-11-28T14:49:49.119Z"
   },
   {
    "duration": 6,
    "start_time": "2022-11-28T14:50:26.366Z"
   },
   {
    "duration": 5,
    "start_time": "2022-11-28T14:50:35.797Z"
   },
   {
    "duration": 5,
    "start_time": "2022-11-28T14:51:57.169Z"
   },
   {
    "duration": 8,
    "start_time": "2022-11-28T14:53:28.645Z"
   },
   {
    "duration": 9,
    "start_time": "2022-11-28T14:55:30.968Z"
   },
   {
    "duration": 44,
    "start_time": "2022-11-29T07:24:29.894Z"
   },
   {
    "duration": 6,
    "start_time": "2022-11-29T07:24:42.533Z"
   },
   {
    "duration": 541,
    "start_time": "2022-11-29T07:24:57.836Z"
   },
   {
    "duration": 2,
    "start_time": "2022-11-29T07:24:58.379Z"
   },
   {
    "duration": 11,
    "start_time": "2022-11-29T07:24:58.382Z"
   },
   {
    "duration": 6,
    "start_time": "2022-11-29T07:24:58.394Z"
   },
   {
    "duration": 6,
    "start_time": "2022-11-29T07:24:58.401Z"
   },
   {
    "duration": 13,
    "start_time": "2022-11-29T07:24:58.409Z"
   },
   {
    "duration": 15,
    "start_time": "2022-11-29T07:24:58.423Z"
   },
   {
    "duration": 1031,
    "start_time": "2022-11-29T07:24:58.439Z"
   },
   {
    "duration": 6,
    "start_time": "2022-11-29T07:24:59.472Z"
   },
   {
    "duration": 19,
    "start_time": "2022-11-29T07:24:59.479Z"
   },
   {
    "duration": 4,
    "start_time": "2022-11-29T07:24:59.500Z"
   },
   {
    "duration": 7,
    "start_time": "2022-11-29T07:24:59.506Z"
   },
   {
    "duration": 7,
    "start_time": "2022-11-29T07:24:59.515Z"
   },
   {
    "duration": 3,
    "start_time": "2022-11-29T07:24:59.603Z"
   },
   {
    "duration": 7,
    "start_time": "2022-11-29T07:24:59.608Z"
   },
   {
    "duration": 8,
    "start_time": "2022-11-29T07:24:59.617Z"
   },
   {
    "duration": 5,
    "start_time": "2022-11-29T07:24:59.627Z"
   },
   {
    "duration": 6,
    "start_time": "2022-11-29T07:24:59.633Z"
   },
   {
    "duration": 39,
    "start_time": "2022-11-29T07:24:59.640Z"
   },
   {
    "duration": 12,
    "start_time": "2022-11-29T07:24:59.680Z"
   },
   {
    "duration": 7,
    "start_time": "2022-11-29T07:24:59.694Z"
   },
   {
    "duration": 10,
    "start_time": "2022-11-29T07:24:59.702Z"
   },
   {
    "duration": 8,
    "start_time": "2022-11-29T07:24:59.714Z"
   },
   {
    "duration": 6,
    "start_time": "2022-11-29T07:24:59.724Z"
   },
   {
    "duration": 7,
    "start_time": "2022-11-29T07:24:59.731Z"
   },
   {
    "duration": 7,
    "start_time": "2022-11-29T07:24:59.739Z"
   },
   {
    "duration": 35,
    "start_time": "2022-11-29T07:24:59.747Z"
   },
   {
    "duration": 7,
    "start_time": "2022-11-29T07:24:59.783Z"
   },
   {
    "duration": 7,
    "start_time": "2022-11-29T07:24:59.791Z"
   },
   {
    "duration": 5,
    "start_time": "2022-11-29T07:24:59.799Z"
   },
   {
    "duration": 6,
    "start_time": "2022-11-29T07:24:59.805Z"
   },
   {
    "duration": 932,
    "start_time": "2022-11-29T07:24:59.812Z"
   },
   {
    "duration": 5,
    "start_time": "2022-11-29T07:25:00.745Z"
   },
   {
    "duration": 34,
    "start_time": "2022-11-29T07:25:00.751Z"
   },
   {
    "duration": 35,
    "start_time": "2022-11-29T07:25:00.787Z"
   },
   {
    "duration": 23,
    "start_time": "2022-11-29T07:25:00.824Z"
   },
   {
    "duration": 48,
    "start_time": "2022-11-29T07:25:00.849Z"
   },
   {
    "duration": 16,
    "start_time": "2022-11-29T07:25:00.898Z"
   },
   {
    "duration": 11,
    "start_time": "2022-11-29T07:25:00.915Z"
   },
   {
    "duration": 41,
    "start_time": "2022-11-29T07:25:00.927Z"
   },
   {
    "duration": 23,
    "start_time": "2022-11-29T07:25:00.971Z"
   },
   {
    "duration": 4,
    "start_time": "2022-11-29T07:25:26.883Z"
   },
   {
    "duration": 4,
    "start_time": "2022-11-29T07:25:31.084Z"
   },
   {
    "duration": 15,
    "start_time": "2022-11-29T07:28:44.302Z"
   },
   {
    "duration": 87,
    "start_time": "2022-11-29T07:31:41.030Z"
   },
   {
    "duration": 7,
    "start_time": "2022-11-29T07:32:16.606Z"
   },
   {
    "duration": 11,
    "start_time": "2022-11-29T07:32:23.042Z"
   },
   {
    "duration": 2,
    "start_time": "2022-11-29T07:33:29.300Z"
   },
   {
    "duration": 9,
    "start_time": "2022-11-29T07:33:35.966Z"
   },
   {
    "duration": 4,
    "start_time": "2022-11-29T07:37:51.166Z"
   },
   {
    "duration": 3,
    "start_time": "2022-11-29T07:42:38.216Z"
   },
   {
    "duration": 2,
    "start_time": "2022-11-29T07:42:40.245Z"
   },
   {
    "duration": 6,
    "start_time": "2022-11-29T07:44:18.658Z"
   },
   {
    "duration": 7,
    "start_time": "2022-11-29T07:45:08.340Z"
   },
   {
    "duration": 1568,
    "start_time": "2022-11-29T07:57:00.010Z"
   },
   {
    "duration": 40,
    "start_time": "2022-11-29T07:59:40.725Z"
   },
   {
    "duration": 11,
    "start_time": "2022-11-29T07:59:58.305Z"
   },
   {
    "duration": 37,
    "start_time": "2022-11-29T08:01:23.547Z"
   },
   {
    "duration": 15,
    "start_time": "2022-11-29T08:01:29.783Z"
   },
   {
    "duration": 9,
    "start_time": "2022-11-29T08:05:50.719Z"
   },
   {
    "duration": 494,
    "start_time": "2022-11-29T08:07:58.569Z"
   },
   {
    "duration": 2,
    "start_time": "2022-11-29T08:07:59.065Z"
   },
   {
    "duration": 34,
    "start_time": "2022-11-29T08:07:59.069Z"
   },
   {
    "duration": 8,
    "start_time": "2022-11-29T08:07:59.105Z"
   },
   {
    "duration": 8,
    "start_time": "2022-11-29T08:07:59.115Z"
   },
   {
    "duration": 18,
    "start_time": "2022-11-29T08:07:59.124Z"
   },
   {
    "duration": 17,
    "start_time": "2022-11-29T08:07:59.143Z"
   },
   {
    "duration": 970,
    "start_time": "2022-11-29T08:07:59.162Z"
   },
   {
    "duration": 5,
    "start_time": "2022-11-29T08:08:00.133Z"
   },
   {
    "duration": 23,
    "start_time": "2022-11-29T08:08:00.139Z"
   },
   {
    "duration": 15,
    "start_time": "2022-11-29T08:08:00.164Z"
   },
   {
    "duration": 21,
    "start_time": "2022-11-29T08:08:00.181Z"
   },
   {
    "duration": 14,
    "start_time": "2022-11-29T08:08:00.204Z"
   },
   {
    "duration": 6,
    "start_time": "2022-11-29T08:08:00.221Z"
   },
   {
    "duration": 10,
    "start_time": "2022-11-29T08:08:00.228Z"
   },
   {
    "duration": 22,
    "start_time": "2022-11-29T08:08:00.240Z"
   },
   {
    "duration": 12,
    "start_time": "2022-11-29T08:08:00.263Z"
   },
   {
    "duration": 14,
    "start_time": "2022-11-29T08:08:00.276Z"
   },
   {
    "duration": 30,
    "start_time": "2022-11-29T08:08:00.293Z"
   },
   {
    "duration": 12,
    "start_time": "2022-11-29T08:08:00.325Z"
   },
   {
    "duration": 8,
    "start_time": "2022-11-29T08:08:00.338Z"
   },
   {
    "duration": 14,
    "start_time": "2022-11-29T08:08:00.347Z"
   },
   {
    "duration": 20,
    "start_time": "2022-11-29T08:08:00.363Z"
   },
   {
    "duration": 7,
    "start_time": "2022-11-29T08:08:00.385Z"
   },
   {
    "duration": 35,
    "start_time": "2022-11-29T08:08:00.394Z"
   },
   {
    "duration": 30,
    "start_time": "2022-11-29T08:08:00.430Z"
   },
   {
    "duration": 45,
    "start_time": "2022-11-29T08:08:00.462Z"
   },
   {
    "duration": 39,
    "start_time": "2022-11-29T08:08:00.509Z"
   },
   {
    "duration": 9,
    "start_time": "2022-11-29T08:08:00.550Z"
   },
   {
    "duration": 13,
    "start_time": "2022-11-29T08:15:07.357Z"
   },
   {
    "duration": 2,
    "start_time": "2022-11-29T08:17:47.642Z"
   },
   {
    "duration": 213,
    "start_time": "2022-11-29T08:21:42.405Z"
   },
   {
    "duration": 13,
    "start_time": "2022-11-29T08:21:52.056Z"
   },
   {
    "duration": 5,
    "start_time": "2022-11-29T08:24:45.940Z"
   },
   {
    "duration": 15,
    "start_time": "2022-11-29T08:52:52.388Z"
   },
   {
    "duration": 15,
    "start_time": "2022-11-29T08:56:16.774Z"
   },
   {
    "duration": 30,
    "start_time": "2022-11-29T08:56:27.127Z"
   },
   {
    "duration": 14,
    "start_time": "2022-11-29T08:56:31.705Z"
   },
   {
    "duration": 9,
    "start_time": "2022-11-29T08:57:34.919Z"
   },
   {
    "duration": 3,
    "start_time": "2022-11-29T08:57:44.306Z"
   },
   {
    "duration": 9,
    "start_time": "2022-11-29T08:58:20.223Z"
   },
   {
    "duration": 3,
    "start_time": "2022-11-29T08:58:22.344Z"
   },
   {
    "duration": 6,
    "start_time": "2022-11-29T08:58:28.470Z"
   },
   {
    "duration": 10,
    "start_time": "2022-11-29T09:04:44.423Z"
   },
   {
    "duration": 15,
    "start_time": "2022-11-29T09:04:46.688Z"
   },
   {
    "duration": 166,
    "start_time": "2022-11-29T09:05:44.362Z"
   },
   {
    "duration": 76,
    "start_time": "2022-11-29T09:08:25.843Z"
   },
   {
    "duration": 300,
    "start_time": "2022-11-29T09:09:20.074Z"
   },
   {
    "duration": 177,
    "start_time": "2022-11-29T09:09:35.843Z"
   },
   {
    "duration": 280,
    "start_time": "2022-11-29T09:10:54.721Z"
   },
   {
    "duration": 212,
    "start_time": "2022-11-29T09:11:24.013Z"
   },
   {
    "duration": 165,
    "start_time": "2022-11-29T09:12:40.911Z"
   },
   {
    "duration": 3,
    "start_time": "2022-11-29T09:13:37.917Z"
   },
   {
    "duration": 284,
    "start_time": "2022-11-29T09:13:39.899Z"
   },
   {
    "duration": 185,
    "start_time": "2022-11-29T09:13:54.276Z"
   },
   {
    "duration": 184,
    "start_time": "2022-11-29T09:16:21.280Z"
   },
   {
    "duration": 11,
    "start_time": "2022-11-29T09:22:17.455Z"
   },
   {
    "duration": 16,
    "start_time": "2022-11-29T09:22:23.926Z"
   },
   {
    "duration": 4,
    "start_time": "2022-11-29T09:22:50.135Z"
   },
   {
    "duration": 8,
    "start_time": "2022-11-29T09:23:21.145Z"
   },
   {
    "duration": 13,
    "start_time": "2022-11-29T09:23:37.158Z"
   },
   {
    "duration": 5,
    "start_time": "2022-11-29T09:23:43.101Z"
   },
   {
    "duration": 11,
    "start_time": "2022-11-29T09:23:50.393Z"
   },
   {
    "duration": 11,
    "start_time": "2022-11-29T09:24:05.128Z"
   },
   {
    "duration": 10,
    "start_time": "2022-11-29T09:24:28.052Z"
   },
   {
    "duration": 86,
    "start_time": "2022-11-29T09:26:23.440Z"
   },
   {
    "duration": 19,
    "start_time": "2022-11-29T09:26:53.781Z"
   },
   {
    "duration": 9,
    "start_time": "2022-11-29T09:27:02.242Z"
   },
   {
    "duration": 13,
    "start_time": "2022-11-29T09:27:38.976Z"
   },
   {
    "duration": 9,
    "start_time": "2022-11-29T09:27:41.203Z"
   },
   {
    "duration": 9,
    "start_time": "2022-11-29T09:47:35.140Z"
   },
   {
    "duration": 7,
    "start_time": "2022-11-29T09:47:37.408Z"
   },
   {
    "duration": 3,
    "start_time": "2022-11-29T09:48:55.003Z"
   },
   {
    "duration": 6,
    "start_time": "2022-11-29T09:49:01.306Z"
   },
   {
    "duration": 72,
    "start_time": "2022-11-29T09:54:07.464Z"
   },
   {
    "duration": 7,
    "start_time": "2022-11-29T09:54:15.159Z"
   },
   {
    "duration": 22,
    "start_time": "2022-11-29T09:54:23.249Z"
   },
   {
    "duration": 5,
    "start_time": "2022-11-29T09:54:54.864Z"
   },
   {
    "duration": 22,
    "start_time": "2022-11-29T09:58:36.165Z"
   },
   {
    "duration": 97,
    "start_time": "2022-11-29T10:00:14.974Z"
   },
   {
    "duration": 17,
    "start_time": "2022-11-29T10:01:01.194Z"
   },
   {
    "duration": 10,
    "start_time": "2022-11-29T10:01:03.865Z"
   },
   {
    "duration": 10,
    "start_time": "2022-11-29T10:03:41.836Z"
   },
   {
    "duration": 8,
    "start_time": "2022-11-29T10:03:43.911Z"
   },
   {
    "duration": 2,
    "start_time": "2022-11-29T10:03:47.639Z"
   },
   {
    "duration": 10,
    "start_time": "2022-11-29T10:03:49.392Z"
   },
   {
    "duration": 6,
    "start_time": "2022-11-29T10:03:51.788Z"
   },
   {
    "duration": 18,
    "start_time": "2022-11-29T10:04:35.725Z"
   },
   {
    "duration": 783,
    "start_time": "2022-11-29T10:23:13.477Z"
   },
   {
    "duration": 11,
    "start_time": "2022-11-29T10:23:44.939Z"
   },
   {
    "duration": 145,
    "start_time": "2022-11-29T10:23:47.411Z"
   },
   {
    "duration": 131,
    "start_time": "2022-11-29T10:24:40.044Z"
   },
   {
    "duration": 19,
    "start_time": "2022-11-29T10:24:54.165Z"
   },
   {
    "duration": 778,
    "start_time": "2022-11-29T10:27:57.825Z"
   },
   {
    "duration": 5,
    "start_time": "2022-11-29T10:29:21.350Z"
   },
   {
    "duration": 0,
    "start_time": "2022-11-29T10:31:44.403Z"
   },
   {
    "duration": 6,
    "start_time": "2022-11-29T10:31:47.040Z"
   },
   {
    "duration": 437,
    "start_time": "2022-11-29T10:32:09.191Z"
   },
   {
    "duration": 3,
    "start_time": "2022-11-29T10:32:09.630Z"
   },
   {
    "duration": 13,
    "start_time": "2022-11-29T10:32:09.634Z"
   },
   {
    "duration": 6,
    "start_time": "2022-11-29T10:32:09.648Z"
   },
   {
    "duration": 7,
    "start_time": "2022-11-29T10:32:09.656Z"
   },
   {
    "duration": 26,
    "start_time": "2022-11-29T10:32:09.664Z"
   },
   {
    "duration": 20,
    "start_time": "2022-11-29T10:32:09.693Z"
   },
   {
    "duration": 926,
    "start_time": "2022-11-29T10:32:09.715Z"
   },
   {
    "duration": 5,
    "start_time": "2022-11-29T10:32:10.642Z"
   },
   {
    "duration": 18,
    "start_time": "2022-11-29T10:32:10.649Z"
   },
   {
    "duration": 5,
    "start_time": "2022-11-29T10:32:10.677Z"
   },
   {
    "duration": 17,
    "start_time": "2022-11-29T10:32:10.683Z"
   },
   {
    "duration": 11,
    "start_time": "2022-11-29T10:32:10.702Z"
   },
   {
    "duration": 3,
    "start_time": "2022-11-29T10:32:10.715Z"
   },
   {
    "duration": 8,
    "start_time": "2022-11-29T10:32:10.720Z"
   },
   {
    "duration": 9,
    "start_time": "2022-11-29T10:32:10.730Z"
   },
   {
    "duration": 9,
    "start_time": "2022-11-29T10:32:10.740Z"
   },
   {
    "duration": 9,
    "start_time": "2022-11-29T10:32:10.750Z"
   },
   {
    "duration": 23,
    "start_time": "2022-11-29T10:32:10.777Z"
   },
   {
    "duration": 12,
    "start_time": "2022-11-29T10:32:10.802Z"
   },
   {
    "duration": 6,
    "start_time": "2022-11-29T10:32:10.816Z"
   },
   {
    "duration": 11,
    "start_time": "2022-11-29T10:32:10.824Z"
   },
   {
    "duration": 45,
    "start_time": "2022-11-29T10:32:10.837Z"
   },
   {
    "duration": 11,
    "start_time": "2022-11-29T10:32:10.884Z"
   },
   {
    "duration": 18,
    "start_time": "2022-11-29T10:32:10.898Z"
   },
   {
    "duration": 19,
    "start_time": "2022-11-29T10:32:10.917Z"
   },
   {
    "duration": 54,
    "start_time": "2022-11-29T10:32:10.937Z"
   },
   {
    "duration": 41,
    "start_time": "2022-11-29T10:32:10.995Z"
   },
   {
    "duration": 12,
    "start_time": "2022-11-29T10:32:11.038Z"
   },
   {
    "duration": 9,
    "start_time": "2022-11-29T10:32:11.052Z"
   },
   {
    "duration": 270,
    "start_time": "2022-11-29T10:32:11.063Z"
   },
   {
    "duration": 11,
    "start_time": "2022-11-29T10:32:11.334Z"
   },
   {
    "duration": 8,
    "start_time": "2022-11-29T10:32:11.346Z"
   },
   {
    "duration": 20,
    "start_time": "2022-11-29T10:32:11.356Z"
   },
   {
    "duration": 252,
    "start_time": "2022-11-29T10:32:11.378Z"
   },
   {
    "duration": 10,
    "start_time": "2022-11-29T10:32:11.632Z"
   },
   {
    "duration": 19,
    "start_time": "2022-11-29T10:32:11.643Z"
   },
   {
    "duration": 20,
    "start_time": "2022-11-29T10:32:11.663Z"
   },
   {
    "duration": 29,
    "start_time": "2022-11-29T10:32:11.685Z"
   },
   {
    "duration": 22,
    "start_time": "2022-11-29T10:32:11.715Z"
   },
   {
    "duration": 18,
    "start_time": "2022-11-29T10:32:11.739Z"
   },
   {
    "duration": 19,
    "start_time": "2022-11-29T10:32:11.759Z"
   },
   {
    "duration": 1320,
    "start_time": "2022-11-29T10:32:11.779Z"
   },
   {
    "duration": 0,
    "start_time": "2022-11-29T10:32:13.101Z"
   },
   {
    "duration": 13,
    "start_time": "2022-11-29T10:32:26.018Z"
   },
   {
    "duration": 2845,
    "start_time": "2022-11-29T10:32:37.876Z"
   },
   {
    "duration": 1237,
    "start_time": "2022-11-29T10:37:20.698Z"
   },
   {
    "duration": 1269,
    "start_time": "2022-11-29T10:38:03.174Z"
   },
   {
    "duration": 9,
    "start_time": "2022-11-29T10:38:35.279Z"
   },
   {
    "duration": 4,
    "start_time": "2022-11-29T10:38:38.549Z"
   },
   {
    "duration": 10,
    "start_time": "2022-11-29T10:38:53.574Z"
   },
   {
    "duration": 16,
    "start_time": "2022-11-29T10:39:02.154Z"
   },
   {
    "duration": 13,
    "start_time": "2022-11-29T10:39:51.071Z"
   },
   {
    "duration": 12,
    "start_time": "2022-11-29T10:39:56.958Z"
   },
   {
    "duration": 4,
    "start_time": "2022-11-29T10:40:10.261Z"
   },
   {
    "duration": 8,
    "start_time": "2022-11-29T10:40:13.853Z"
   },
   {
    "duration": 13,
    "start_time": "2022-11-29T10:40:41.901Z"
   },
   {
    "duration": 1613,
    "start_time": "2022-11-29T10:41:13.112Z"
   },
   {
    "duration": 135,
    "start_time": "2022-11-29T10:43:56.070Z"
   },
   {
    "duration": 203,
    "start_time": "2022-11-29T10:44:13.392Z"
   },
   {
    "duration": 231,
    "start_time": "2022-11-29T10:45:04.039Z"
   },
   {
    "duration": 12,
    "start_time": "2022-11-29T10:50:55.889Z"
   },
   {
    "duration": 230,
    "start_time": "2022-11-29T10:51:03.159Z"
   },
   {
    "duration": 114,
    "start_time": "2022-11-29T11:02:12.757Z"
   },
   {
    "duration": 551,
    "start_time": "2022-11-29T11:03:10.698Z"
   },
   {
    "duration": 82,
    "start_time": "2022-11-29T11:03:51.773Z"
   },
   {
    "duration": 3,
    "start_time": "2022-11-29T11:05:54.776Z"
   },
   {
    "duration": 12,
    "start_time": "2022-11-29T11:05:57.399Z"
   },
   {
    "duration": 509,
    "start_time": "2022-11-29T11:07:00.694Z"
   },
   {
    "duration": 3,
    "start_time": "2022-11-29T11:07:01.205Z"
   },
   {
    "duration": 44,
    "start_time": "2022-11-29T11:07:01.209Z"
   },
   {
    "duration": 18,
    "start_time": "2022-11-29T11:07:01.255Z"
   },
   {
    "duration": 18,
    "start_time": "2022-11-29T11:07:01.276Z"
   },
   {
    "duration": 37,
    "start_time": "2022-11-29T11:07:01.296Z"
   },
   {
    "duration": 29,
    "start_time": "2022-11-29T11:07:01.335Z"
   },
   {
    "duration": 1057,
    "start_time": "2022-11-29T11:07:01.365Z"
   },
   {
    "duration": 4,
    "start_time": "2022-11-29T11:07:02.423Z"
   },
   {
    "duration": 20,
    "start_time": "2022-11-29T11:07:02.429Z"
   },
   {
    "duration": 4,
    "start_time": "2022-11-29T11:07:02.450Z"
   },
   {
    "duration": 14,
    "start_time": "2022-11-29T11:07:02.455Z"
   },
   {
    "duration": 26,
    "start_time": "2022-11-29T11:07:02.470Z"
   },
   {
    "duration": 4,
    "start_time": "2022-11-29T11:07:02.501Z"
   },
   {
    "duration": 19,
    "start_time": "2022-11-29T11:07:02.506Z"
   },
   {
    "duration": 13,
    "start_time": "2022-11-29T11:07:02.527Z"
   },
   {
    "duration": 7,
    "start_time": "2022-11-29T11:07:02.542Z"
   },
   {
    "duration": 5,
    "start_time": "2022-11-29T11:07:02.551Z"
   },
   {
    "duration": 27,
    "start_time": "2022-11-29T11:07:02.558Z"
   },
   {
    "duration": 28,
    "start_time": "2022-11-29T11:07:02.587Z"
   },
   {
    "duration": 11,
    "start_time": "2022-11-29T11:07:02.617Z"
   },
   {
    "duration": 20,
    "start_time": "2022-11-29T11:07:02.629Z"
   },
   {
    "duration": 14,
    "start_time": "2022-11-29T11:07:02.650Z"
   },
   {
    "duration": 7,
    "start_time": "2022-11-29T11:07:02.665Z"
   },
   {
    "duration": 21,
    "start_time": "2022-11-29T11:07:02.673Z"
   },
   {
    "duration": 12,
    "start_time": "2022-11-29T11:07:02.696Z"
   },
   {
    "duration": 39,
    "start_time": "2022-11-29T11:07:02.710Z"
   },
   {
    "duration": 98,
    "start_time": "2022-11-29T11:07:02.751Z"
   },
   {
    "duration": 14,
    "start_time": "2022-11-29T11:07:02.851Z"
   },
   {
    "duration": 4,
    "start_time": "2022-11-29T11:07:02.867Z"
   },
   {
    "duration": 273,
    "start_time": "2022-11-29T11:07:02.872Z"
   },
   {
    "duration": 11,
    "start_time": "2022-11-29T11:07:03.146Z"
   },
   {
    "duration": 7,
    "start_time": "2022-11-29T11:07:03.158Z"
   },
   {
    "duration": 11,
    "start_time": "2022-11-29T11:07:03.167Z"
   },
   {
    "duration": 243,
    "start_time": "2022-11-29T11:07:03.180Z"
   },
   {
    "duration": 11,
    "start_time": "2022-11-29T11:07:03.424Z"
   },
   {
    "duration": 8,
    "start_time": "2022-11-29T11:07:03.436Z"
   },
   {
    "duration": 13,
    "start_time": "2022-11-29T11:07:03.445Z"
   },
   {
    "duration": 8,
    "start_time": "2022-11-29T11:07:03.459Z"
   },
   {
    "duration": 88,
    "start_time": "2022-11-29T11:08:44.259Z"
   },
   {
    "duration": 26,
    "start_time": "2022-11-29T11:09:02.635Z"
   },
   {
    "duration": 13,
    "start_time": "2022-11-29T11:10:28.194Z"
   },
   {
    "duration": 16,
    "start_time": "2022-11-29T11:11:04.650Z"
   },
   {
    "duration": 221,
    "start_time": "2022-11-29T11:11:45.372Z"
   },
   {
    "duration": 453,
    "start_time": "2022-11-29T11:16:36.047Z"
   },
   {
    "duration": 221,
    "start_time": "2022-11-29T12:11:55.037Z"
   },
   {
    "duration": 24,
    "start_time": "2022-11-29T12:13:16.080Z"
   },
   {
    "duration": 77,
    "start_time": "2022-11-29T12:13:25.881Z"
   },
   {
    "duration": 21,
    "start_time": "2022-11-29T12:16:35.374Z"
   },
   {
    "duration": 79,
    "start_time": "2022-11-29T12:17:21.163Z"
   },
   {
    "duration": 767,
    "start_time": "2022-11-29T12:17:28.503Z"
   },
   {
    "duration": 72,
    "start_time": "2022-11-29T12:19:08.327Z"
   },
   {
    "duration": 221,
    "start_time": "2022-11-29T12:20:05.584Z"
   },
   {
    "duration": 12,
    "start_time": "2022-11-29T12:20:13.956Z"
   },
   {
    "duration": 74,
    "start_time": "2022-11-29T12:20:37.684Z"
   },
   {
    "duration": 424,
    "start_time": "2022-11-29T12:20:56.134Z"
   },
   {
    "duration": 502,
    "start_time": "2022-11-29T12:22:04.999Z"
   },
   {
    "duration": 500,
    "start_time": "2022-11-29T12:22:25.414Z"
   },
   {
    "duration": 600,
    "start_time": "2022-11-29T12:22:36.615Z"
   },
   {
    "duration": 477,
    "start_time": "2022-11-29T12:23:28.933Z"
   },
   {
    "duration": 76,
    "start_time": "2022-11-29T12:47:14.860Z"
   },
   {
    "duration": 21,
    "start_time": "2022-11-29T12:48:37.179Z"
   },
   {
    "duration": 76,
    "start_time": "2022-11-29T12:48:39.852Z"
   },
   {
    "duration": 15,
    "start_time": "2022-11-29T12:50:51.073Z"
   },
   {
    "duration": 10,
    "start_time": "2022-11-29T12:52:48.602Z"
   },
   {
    "duration": 8,
    "start_time": "2022-11-29T12:53:06.990Z"
   },
   {
    "duration": 17,
    "start_time": "2022-11-29T12:54:14.358Z"
   },
   {
    "duration": 760,
    "start_time": "2022-11-29T12:54:16.218Z"
   },
   {
    "duration": 14,
    "start_time": "2022-11-29T13:27:40.802Z"
   },
   {
    "duration": 11,
    "start_time": "2022-11-29T13:55:33.097Z"
   },
   {
    "duration": 12,
    "start_time": "2022-11-29T13:57:52.916Z"
   },
   {
    "duration": 8,
    "start_time": "2022-11-29T13:58:03.410Z"
   },
   {
    "duration": 76,
    "start_time": "2022-11-29T13:59:47.177Z"
   },
   {
    "duration": 11,
    "start_time": "2022-11-29T14:00:02.234Z"
   },
   {
    "duration": 7,
    "start_time": "2022-11-29T14:00:05.508Z"
   },
   {
    "duration": 12,
    "start_time": "2022-11-29T14:00:08.265Z"
   },
   {
    "duration": 7,
    "start_time": "2022-11-29T14:00:13.097Z"
   },
   {
    "duration": 107,
    "start_time": "2022-11-29T14:01:27.271Z"
   },
   {
    "duration": 569,
    "start_time": "2022-11-29T14:05:39.468Z"
   },
   {
    "duration": 80,
    "start_time": "2022-11-29T14:05:47.341Z"
   },
   {
    "duration": 106,
    "start_time": "2022-11-29T14:06:15.236Z"
   },
   {
    "duration": 116,
    "start_time": "2022-11-29T14:06:58.492Z"
   },
   {
    "duration": 14,
    "start_time": "2022-11-29T14:07:47.340Z"
   },
   {
    "duration": 7,
    "start_time": "2022-11-29T14:07:49.412Z"
   },
   {
    "duration": 158,
    "start_time": "2022-11-29T14:09:08.639Z"
   },
   {
    "duration": 159,
    "start_time": "2022-11-29T14:09:30.220Z"
   },
   {
    "duration": 143,
    "start_time": "2022-11-29T14:10:57.904Z"
   },
   {
    "duration": 150,
    "start_time": "2022-11-29T14:12:05.228Z"
   },
   {
    "duration": 157,
    "start_time": "2022-11-29T14:12:11.394Z"
   },
   {
    "duration": 140,
    "start_time": "2022-11-29T14:12:29.204Z"
   },
   {
    "duration": 13,
    "start_time": "2022-11-29T14:13:58.031Z"
   },
   {
    "duration": 10,
    "start_time": "2022-11-29T14:14:00.065Z"
   },
   {
    "duration": 3,
    "start_time": "2022-11-29T14:17:47.097Z"
   },
   {
    "duration": 6,
    "start_time": "2022-11-29T14:17:49.910Z"
   },
   {
    "duration": 3,
    "start_time": "2022-11-29T14:18:26.271Z"
   },
   {
    "duration": 7,
    "start_time": "2022-11-29T14:18:27.964Z"
   },
   {
    "duration": 7,
    "start_time": "2022-11-29T14:18:32.009Z"
   },
   {
    "duration": 456,
    "start_time": "2022-11-29T14:18:54.947Z"
   },
   {
    "duration": 3,
    "start_time": "2022-11-29T14:18:55.405Z"
   },
   {
    "duration": 12,
    "start_time": "2022-11-29T14:18:55.409Z"
   },
   {
    "duration": 6,
    "start_time": "2022-11-29T14:18:55.423Z"
   },
   {
    "duration": 7,
    "start_time": "2022-11-29T14:18:55.430Z"
   },
   {
    "duration": 15,
    "start_time": "2022-11-29T14:18:55.439Z"
   },
   {
    "duration": 35,
    "start_time": "2022-11-29T14:18:55.455Z"
   },
   {
    "duration": 924,
    "start_time": "2022-11-29T14:18:55.492Z"
   },
   {
    "duration": 5,
    "start_time": "2022-11-29T14:18:56.418Z"
   },
   {
    "duration": 18,
    "start_time": "2022-11-29T14:18:56.425Z"
   },
   {
    "duration": 5,
    "start_time": "2022-11-29T14:18:56.445Z"
   },
   {
    "duration": 27,
    "start_time": "2022-11-29T14:18:56.451Z"
   },
   {
    "duration": 11,
    "start_time": "2022-11-29T14:18:56.480Z"
   },
   {
    "duration": 10,
    "start_time": "2022-11-29T14:18:56.493Z"
   },
   {
    "duration": 8,
    "start_time": "2022-11-29T14:18:56.505Z"
   },
   {
    "duration": 8,
    "start_time": "2022-11-29T14:18:56.515Z"
   },
   {
    "duration": 4,
    "start_time": "2022-11-29T14:18:56.525Z"
   },
   {
    "duration": 6,
    "start_time": "2022-11-29T14:18:56.531Z"
   },
   {
    "duration": 14,
    "start_time": "2022-11-29T14:18:56.538Z"
   },
   {
    "duration": 14,
    "start_time": "2022-11-29T14:18:56.578Z"
   },
   {
    "duration": 8,
    "start_time": "2022-11-29T14:18:56.593Z"
   },
   {
    "duration": 12,
    "start_time": "2022-11-29T14:18:56.602Z"
   },
   {
    "duration": 14,
    "start_time": "2022-11-29T14:18:56.616Z"
   },
   {
    "duration": 7,
    "start_time": "2022-11-29T14:18:56.631Z"
   },
   {
    "duration": 5,
    "start_time": "2022-11-29T14:18:56.640Z"
   },
   {
    "duration": 37,
    "start_time": "2022-11-29T14:18:56.647Z"
   },
   {
    "duration": 38,
    "start_time": "2022-11-29T14:18:56.686Z"
   },
   {
    "duration": 57,
    "start_time": "2022-11-29T14:18:56.728Z"
   },
   {
    "duration": 11,
    "start_time": "2022-11-29T14:18:56.787Z"
   },
   {
    "duration": 3,
    "start_time": "2022-11-29T14:18:56.800Z"
   },
   {
    "duration": 237,
    "start_time": "2022-11-29T14:18:56.805Z"
   },
   {
    "duration": 15,
    "start_time": "2022-11-29T14:18:57.044Z"
   },
   {
    "duration": 17,
    "start_time": "2022-11-29T14:18:57.061Z"
   },
   {
    "duration": 4,
    "start_time": "2022-11-29T14:18:57.080Z"
   },
   {
    "duration": 219,
    "start_time": "2022-11-29T14:18:57.086Z"
   },
   {
    "duration": 10,
    "start_time": "2022-11-29T14:18:57.307Z"
   },
   {
    "duration": 7,
    "start_time": "2022-11-29T14:18:57.319Z"
   },
   {
    "duration": 6,
    "start_time": "2022-11-29T14:18:57.328Z"
   },
   {
    "duration": 7,
    "start_time": "2022-11-29T14:18:57.335Z"
   },
   {
    "duration": 14,
    "start_time": "2022-11-29T14:18:57.343Z"
   },
   {
    "duration": 14,
    "start_time": "2022-11-29T14:18:57.378Z"
   },
   {
    "duration": 248,
    "start_time": "2022-11-29T14:18:57.393Z"
   },
   {
    "duration": 14,
    "start_time": "2022-11-29T14:18:57.643Z"
   },
   {
    "duration": 583,
    "start_time": "2022-11-29T14:18:57.659Z"
   },
   {
    "duration": 13,
    "start_time": "2022-11-29T14:18:58.243Z"
   },
   {
    "duration": 7,
    "start_time": "2022-11-29T14:18:58.257Z"
   },
   {
    "duration": 2,
    "start_time": "2022-11-29T14:18:58.278Z"
   },
   {
    "duration": 6,
    "start_time": "2022-11-29T14:18:58.281Z"
   },
   {
    "duration": 11,
    "start_time": "2022-11-29T14:18:58.288Z"
   },
   {
    "duration": 15,
    "start_time": "2022-11-29T14:21:16.725Z"
   },
   {
    "duration": 20,
    "start_time": "2022-11-29T14:21:23.922Z"
   },
   {
    "duration": 6,
    "start_time": "2022-11-29T14:22:10.522Z"
   },
   {
    "duration": 22,
    "start_time": "2022-11-29T14:22:23.216Z"
   },
   {
    "duration": 8,
    "start_time": "2022-11-29T14:22:49.362Z"
   },
   {
    "duration": 21,
    "start_time": "2022-11-29T14:22:51.580Z"
   },
   {
    "duration": 14,
    "start_time": "2022-11-29T14:22:57.878Z"
   },
   {
    "duration": 6,
    "start_time": "2022-11-29T14:22:59.951Z"
   },
   {
    "duration": 12,
    "start_time": "2022-11-29T14:23:01.986Z"
   },
   {
    "duration": 254,
    "start_time": "2022-11-29T14:25:13.604Z"
   },
   {
    "duration": 537,
    "start_time": "2022-11-30T06:47:32.639Z"
   },
   {
    "duration": 2,
    "start_time": "2022-11-30T06:47:33.178Z"
   },
   {
    "duration": 11,
    "start_time": "2022-11-30T06:47:33.181Z"
   },
   {
    "duration": 7,
    "start_time": "2022-11-30T06:47:33.193Z"
   },
   {
    "duration": 13,
    "start_time": "2022-11-30T06:47:33.202Z"
   },
   {
    "duration": 17,
    "start_time": "2022-11-30T06:47:33.217Z"
   },
   {
    "duration": 15,
    "start_time": "2022-11-30T06:47:33.236Z"
   },
   {
    "duration": 1037,
    "start_time": "2022-11-30T06:47:33.252Z"
   },
   {
    "duration": 5,
    "start_time": "2022-11-30T06:47:34.291Z"
   },
   {
    "duration": 16,
    "start_time": "2022-11-30T06:47:34.305Z"
   },
   {
    "duration": 4,
    "start_time": "2022-11-30T06:47:34.323Z"
   },
   {
    "duration": 9,
    "start_time": "2022-11-30T06:47:34.329Z"
   },
   {
    "duration": 9,
    "start_time": "2022-11-30T06:47:34.339Z"
   },
   {
    "duration": 4,
    "start_time": "2022-11-30T06:47:34.425Z"
   },
   {
    "duration": 12,
    "start_time": "2022-11-30T06:47:34.430Z"
   },
   {
    "duration": 10,
    "start_time": "2022-11-30T06:47:34.444Z"
   },
   {
    "duration": 24,
    "start_time": "2022-11-30T06:47:34.455Z"
   },
   {
    "duration": 21,
    "start_time": "2022-11-30T06:47:34.480Z"
   },
   {
    "duration": 17,
    "start_time": "2022-11-30T06:47:34.503Z"
   },
   {
    "duration": 11,
    "start_time": "2022-11-30T06:47:34.521Z"
   },
   {
    "duration": 6,
    "start_time": "2022-11-30T06:47:34.533Z"
   },
   {
    "duration": 17,
    "start_time": "2022-11-30T06:47:34.541Z"
   },
   {
    "duration": 22,
    "start_time": "2022-11-30T06:47:34.559Z"
   },
   {
    "duration": 9,
    "start_time": "2022-11-30T06:47:34.583Z"
   },
   {
    "duration": 30,
    "start_time": "2022-11-30T06:47:34.593Z"
   },
   {
    "duration": 10,
    "start_time": "2022-11-30T06:47:34.624Z"
   },
   {
    "duration": 43,
    "start_time": "2022-11-30T06:47:34.636Z"
   },
   {
    "duration": 40,
    "start_time": "2022-11-30T06:47:34.681Z"
   },
   {
    "duration": 8,
    "start_time": "2022-11-30T06:47:34.723Z"
   },
   {
    "duration": 23,
    "start_time": "2022-11-30T06:47:34.736Z"
   },
   {
    "duration": 236,
    "start_time": "2022-11-30T06:47:34.761Z"
   },
   {
    "duration": 12,
    "start_time": "2022-11-30T06:47:34.999Z"
   },
   {
    "duration": 16,
    "start_time": "2022-11-30T06:47:35.013Z"
   },
   {
    "duration": 7,
    "start_time": "2022-11-30T06:47:35.031Z"
   },
   {
    "duration": 192,
    "start_time": "2022-11-30T06:47:35.040Z"
   },
   {
    "duration": 10,
    "start_time": "2022-11-30T06:47:35.233Z"
   },
   {
    "duration": 12,
    "start_time": "2022-11-30T06:47:35.244Z"
   },
   {
    "duration": 6,
    "start_time": "2022-11-30T06:47:35.258Z"
   },
   {
    "duration": 13,
    "start_time": "2022-11-30T06:47:35.265Z"
   },
   {
    "duration": 14,
    "start_time": "2022-11-30T06:47:35.280Z"
   },
   {
    "duration": 13,
    "start_time": "2022-11-30T06:47:35.305Z"
   },
   {
    "duration": 242,
    "start_time": "2022-11-30T06:47:35.319Z"
   },
   {
    "duration": 12,
    "start_time": "2022-11-30T06:47:35.563Z"
   },
   {
    "duration": 466,
    "start_time": "2022-11-30T06:47:35.577Z"
   },
   {
    "duration": 14,
    "start_time": "2022-11-30T06:47:36.045Z"
   },
   {
    "duration": 7,
    "start_time": "2022-11-30T06:47:36.060Z"
   },
   {
    "duration": 6,
    "start_time": "2022-11-30T06:47:36.069Z"
   },
   {
    "duration": 8,
    "start_time": "2022-11-30T06:47:36.076Z"
   },
   {
    "duration": 7,
    "start_time": "2022-11-30T06:47:36.105Z"
   },
   {
    "duration": 20,
    "start_time": "2022-11-30T06:47:36.113Z"
   },
   {
    "duration": 9,
    "start_time": "2022-11-30T06:47:36.135Z"
   },
   {
    "duration": 267,
    "start_time": "2022-11-30T06:47:36.146Z"
   },
   {
    "duration": 13,
    "start_time": "2022-11-30T06:48:55.194Z"
   },
   {
    "duration": 83,
    "start_time": "2022-11-30T07:27:22.609Z"
   },
   {
    "duration": 17,
    "start_time": "2022-11-30T07:28:27.344Z"
   },
   {
    "duration": 14,
    "start_time": "2022-11-30T07:28:29.696Z"
   },
   {
    "duration": 15,
    "start_time": "2022-11-30T07:28:34.298Z"
   },
   {
    "duration": 74,
    "start_time": "2022-11-30T07:29:26.248Z"
   },
   {
    "duration": 1191,
    "start_time": "2022-11-30T07:29:31.812Z"
   },
   {
    "duration": 4,
    "start_time": "2022-11-30T07:29:51.885Z"
   },
   {
    "duration": 165,
    "start_time": "2022-11-30T07:30:10.768Z"
   },
   {
    "duration": 1380,
    "start_time": "2022-11-30T07:31:15.421Z"
   },
   {
    "duration": 205,
    "start_time": "2022-11-30T07:31:44.438Z"
   },
   {
    "duration": 211,
    "start_time": "2022-11-30T07:47:45.230Z"
   },
   {
    "duration": 556,
    "start_time": "2022-11-30T07:55:56.254Z"
   },
   {
    "duration": 209,
    "start_time": "2022-11-30T07:56:56.996Z"
   },
   {
    "duration": 14,
    "start_time": "2022-11-30T08:03:26.406Z"
   },
   {
    "duration": 4,
    "start_time": "2022-11-30T08:05:11.882Z"
   },
   {
    "duration": 4,
    "start_time": "2022-11-30T08:05:52.209Z"
   },
   {
    "duration": 3,
    "start_time": "2022-11-30T08:06:27.295Z"
   },
   {
    "duration": 547,
    "start_time": "2022-11-30T08:08:32.353Z"
   },
   {
    "duration": 3,
    "start_time": "2022-11-30T08:08:32.901Z"
   },
   {
    "duration": 30,
    "start_time": "2022-11-30T08:08:32.905Z"
   },
   {
    "duration": 24,
    "start_time": "2022-11-30T08:08:32.936Z"
   },
   {
    "duration": 22,
    "start_time": "2022-11-30T08:08:32.962Z"
   },
   {
    "duration": 37,
    "start_time": "2022-11-30T08:08:32.985Z"
   },
   {
    "duration": 23,
    "start_time": "2022-11-30T08:08:33.023Z"
   },
   {
    "duration": 936,
    "start_time": "2022-11-30T08:08:33.047Z"
   },
   {
    "duration": 4,
    "start_time": "2022-11-30T08:08:33.985Z"
   },
   {
    "duration": 33,
    "start_time": "2022-11-30T08:08:33.991Z"
   },
   {
    "duration": 16,
    "start_time": "2022-11-30T08:08:34.025Z"
   },
   {
    "duration": 29,
    "start_time": "2022-11-30T08:08:34.043Z"
   },
   {
    "duration": 23,
    "start_time": "2022-11-30T08:08:34.073Z"
   },
   {
    "duration": 32,
    "start_time": "2022-11-30T08:08:34.099Z"
   },
   {
    "duration": 10,
    "start_time": "2022-11-30T08:08:34.133Z"
   },
   {
    "duration": 35,
    "start_time": "2022-11-30T08:08:34.145Z"
   },
   {
    "duration": 25,
    "start_time": "2022-11-30T08:08:34.182Z"
   },
   {
    "duration": 36,
    "start_time": "2022-11-30T08:08:34.208Z"
   },
   {
    "duration": 32,
    "start_time": "2022-11-30T08:08:34.245Z"
   },
   {
    "duration": 39,
    "start_time": "2022-11-30T08:08:34.279Z"
   },
   {
    "duration": 21,
    "start_time": "2022-11-30T08:08:34.320Z"
   },
   {
    "duration": 34,
    "start_time": "2022-11-30T08:08:34.342Z"
   },
   {
    "duration": 41,
    "start_time": "2022-11-30T08:08:34.377Z"
   },
   {
    "duration": 14,
    "start_time": "2022-11-30T08:08:34.420Z"
   },
   {
    "duration": 29,
    "start_time": "2022-11-30T08:08:34.436Z"
   },
   {
    "duration": 17,
    "start_time": "2022-11-30T08:08:34.467Z"
   },
   {
    "duration": 60,
    "start_time": "2022-11-30T08:08:34.486Z"
   },
   {
    "duration": 42,
    "start_time": "2022-11-30T08:08:34.548Z"
   },
   {
    "duration": 13,
    "start_time": "2022-11-30T08:08:34.592Z"
   },
   {
    "duration": 12,
    "start_time": "2022-11-30T08:08:34.607Z"
   },
   {
    "duration": 232,
    "start_time": "2022-11-30T08:08:34.621Z"
   },
   {
    "duration": 10,
    "start_time": "2022-11-30T08:08:34.855Z"
   },
   {
    "duration": 36,
    "start_time": "2022-11-30T08:08:34.866Z"
   },
   {
    "duration": 31,
    "start_time": "2022-11-30T08:08:34.904Z"
   },
   {
    "duration": 262,
    "start_time": "2022-11-30T08:08:34.938Z"
   },
   {
    "duration": 11,
    "start_time": "2022-11-30T08:08:35.202Z"
   },
   {
    "duration": 27,
    "start_time": "2022-11-30T08:08:35.214Z"
   },
   {
    "duration": 37,
    "start_time": "2022-11-30T08:08:35.243Z"
   },
   {
    "duration": 32,
    "start_time": "2022-11-30T08:08:35.282Z"
   },
   {
    "duration": 23,
    "start_time": "2022-11-30T08:08:35.315Z"
   },
   {
    "duration": 32,
    "start_time": "2022-11-30T08:08:35.342Z"
   },
   {
    "duration": 279,
    "start_time": "2022-11-30T08:08:35.375Z"
   },
   {
    "duration": 12,
    "start_time": "2022-11-30T08:08:35.655Z"
   },
   {
    "duration": 540,
    "start_time": "2022-11-30T08:08:35.669Z"
   },
   {
    "duration": 12,
    "start_time": "2022-11-30T08:08:36.210Z"
   },
   {
    "duration": 6,
    "start_time": "2022-11-30T08:08:36.224Z"
   },
   {
    "duration": 14,
    "start_time": "2022-11-30T08:08:36.231Z"
   },
   {
    "duration": 11,
    "start_time": "2022-11-30T08:08:36.247Z"
   },
   {
    "duration": 13,
    "start_time": "2022-11-30T08:08:36.260Z"
   },
   {
    "duration": 21,
    "start_time": "2022-11-30T08:08:36.275Z"
   },
   {
    "duration": 7,
    "start_time": "2022-11-30T08:08:36.298Z"
   },
   {
    "duration": 26,
    "start_time": "2022-11-30T08:08:36.306Z"
   },
   {
    "duration": 8,
    "start_time": "2022-11-30T08:08:36.334Z"
   },
   {
    "duration": 270,
    "start_time": "2022-11-30T08:08:36.343Z"
   },
   {
    "duration": 227,
    "start_time": "2022-11-30T08:08:36.615Z"
   },
   {
    "duration": 79,
    "start_time": "2022-11-30T08:10:13.103Z"
   },
   {
    "duration": 43,
    "start_time": "2022-11-30T08:11:16.384Z"
   },
   {
    "duration": 604,
    "start_time": "2022-11-30T08:11:31.801Z"
   },
   {
    "duration": 3,
    "start_time": "2022-11-30T08:11:32.407Z"
   },
   {
    "duration": 14,
    "start_time": "2022-11-30T08:11:32.411Z"
   },
   {
    "duration": 9,
    "start_time": "2022-11-30T08:11:32.426Z"
   },
   {
    "duration": 11,
    "start_time": "2022-11-30T08:11:32.437Z"
   },
   {
    "duration": 31,
    "start_time": "2022-11-30T08:11:32.450Z"
   },
   {
    "duration": 21,
    "start_time": "2022-11-30T08:11:32.483Z"
   },
   {
    "duration": 936,
    "start_time": "2022-11-30T08:11:32.506Z"
   },
   {
    "duration": 5,
    "start_time": "2022-11-30T08:11:33.443Z"
   },
   {
    "duration": 25,
    "start_time": "2022-11-30T08:11:33.449Z"
   },
   {
    "duration": 5,
    "start_time": "2022-11-30T08:11:33.476Z"
   },
   {
    "duration": 23,
    "start_time": "2022-11-30T08:11:33.485Z"
   },
   {
    "duration": 7,
    "start_time": "2022-11-30T08:11:33.509Z"
   },
   {
    "duration": 8,
    "start_time": "2022-11-30T08:11:33.519Z"
   },
   {
    "duration": 20,
    "start_time": "2022-11-30T08:11:33.528Z"
   },
   {
    "duration": 26,
    "start_time": "2022-11-30T08:11:33.549Z"
   },
   {
    "duration": 16,
    "start_time": "2022-11-30T08:11:33.577Z"
   },
   {
    "duration": 7,
    "start_time": "2022-11-30T08:11:33.594Z"
   },
   {
    "duration": 15,
    "start_time": "2022-11-30T08:11:33.603Z"
   },
   {
    "duration": 11,
    "start_time": "2022-11-30T08:11:33.620Z"
   },
   {
    "duration": 7,
    "start_time": "2022-11-30T08:11:33.632Z"
   },
   {
    "duration": 15,
    "start_time": "2022-11-30T08:11:33.641Z"
   },
   {
    "duration": 21,
    "start_time": "2022-11-30T08:11:33.658Z"
   },
   {
    "duration": 25,
    "start_time": "2022-11-30T08:11:33.680Z"
   },
   {
    "duration": 5,
    "start_time": "2022-11-30T08:11:33.706Z"
   },
   {
    "duration": 9,
    "start_time": "2022-11-30T08:11:33.712Z"
   },
   {
    "duration": 40,
    "start_time": "2022-11-30T08:11:33.722Z"
   },
   {
    "duration": 55,
    "start_time": "2022-11-30T08:11:33.763Z"
   },
   {
    "duration": 8,
    "start_time": "2022-11-30T08:11:33.820Z"
   },
   {
    "duration": 17,
    "start_time": "2022-11-30T08:11:33.829Z"
   },
   {
    "duration": 233,
    "start_time": "2022-11-30T08:11:33.847Z"
   },
   {
    "duration": 10,
    "start_time": "2022-11-30T08:11:34.081Z"
   },
   {
    "duration": 15,
    "start_time": "2022-11-30T08:11:34.093Z"
   },
   {
    "duration": 6,
    "start_time": "2022-11-30T08:11:34.109Z"
   },
   {
    "duration": 251,
    "start_time": "2022-11-30T08:11:34.116Z"
   },
   {
    "duration": 9,
    "start_time": "2022-11-30T08:11:34.369Z"
   },
   {
    "duration": 8,
    "start_time": "2022-11-30T08:11:34.380Z"
   },
   {
    "duration": 3,
    "start_time": "2022-11-30T08:11:34.405Z"
   },
   {
    "duration": 9,
    "start_time": "2022-11-30T08:11:34.409Z"
   },
   {
    "duration": 15,
    "start_time": "2022-11-30T08:11:34.420Z"
   },
   {
    "duration": 16,
    "start_time": "2022-11-30T08:11:34.439Z"
   },
   {
    "duration": 256,
    "start_time": "2022-11-30T08:11:34.457Z"
   },
   {
    "duration": 13,
    "start_time": "2022-11-30T08:11:34.715Z"
   },
   {
    "duration": 490,
    "start_time": "2022-11-30T08:11:34.730Z"
   },
   {
    "duration": 11,
    "start_time": "2022-11-30T08:11:35.222Z"
   },
   {
    "duration": 15,
    "start_time": "2022-11-30T08:11:35.234Z"
   },
   {
    "duration": 10,
    "start_time": "2022-11-30T08:11:35.252Z"
   },
   {
    "duration": 8,
    "start_time": "2022-11-30T08:11:35.264Z"
   },
   {
    "duration": 13,
    "start_time": "2022-11-30T08:11:35.274Z"
   },
   {
    "duration": 24,
    "start_time": "2022-11-30T08:11:35.289Z"
   },
   {
    "duration": 9,
    "start_time": "2022-11-30T08:11:35.314Z"
   },
   {
    "duration": 17,
    "start_time": "2022-11-30T08:11:35.324Z"
   },
   {
    "duration": 25,
    "start_time": "2022-11-30T08:11:35.343Z"
   },
   {
    "duration": 258,
    "start_time": "2022-11-30T08:11:35.369Z"
   },
   {
    "duration": 211,
    "start_time": "2022-11-30T08:11:35.628Z"
   },
   {
    "duration": 195,
    "start_time": "2022-11-30T08:11:35.841Z"
   },
   {
    "duration": 14,
    "start_time": "2022-11-30T08:11:36.038Z"
   },
   {
    "duration": 80,
    "start_time": "2022-11-30T08:13:58.436Z"
   },
   {
    "duration": 75,
    "start_time": "2022-11-30T08:14:02.485Z"
   },
   {
    "duration": 190,
    "start_time": "2022-11-30T08:16:09.025Z"
   },
   {
    "duration": 186,
    "start_time": "2022-11-30T08:16:34.270Z"
   },
   {
    "duration": 91,
    "start_time": "2022-11-30T08:23:07.353Z"
   },
   {
    "duration": 10,
    "start_time": "2022-11-30T08:23:16.338Z"
   },
   {
    "duration": 5,
    "start_time": "2022-11-30T08:25:43.999Z"
   },
   {
    "duration": 7,
    "start_time": "2022-11-30T08:25:48.331Z"
   },
   {
    "duration": 7,
    "start_time": "2022-11-30T08:26:27.073Z"
   },
   {
    "duration": 742,
    "start_time": "2022-11-30T08:26:44.689Z"
   },
   {
    "duration": 184,
    "start_time": "2022-11-30T08:27:08.962Z"
   },
   {
    "duration": 293,
    "start_time": "2022-11-30T08:31:02.940Z"
   },
   {
    "duration": 209,
    "start_time": "2022-11-30T08:31:44.787Z"
   },
   {
    "duration": 191,
    "start_time": "2022-11-30T08:32:18.934Z"
   },
   {
    "duration": 212,
    "start_time": "2022-11-30T08:32:27.958Z"
   },
   {
    "duration": 69,
    "start_time": "2022-11-30T08:41:54.164Z"
   },
   {
    "duration": 41,
    "start_time": "2022-11-30T08:41:59.416Z"
   },
   {
    "duration": 14,
    "start_time": "2022-11-30T08:42:16.515Z"
   },
   {
    "duration": 14,
    "start_time": "2022-11-30T08:42:27.050Z"
   },
   {
    "duration": 12,
    "start_time": "2022-11-30T08:43:05.212Z"
   },
   {
    "duration": 151,
    "start_time": "2022-11-30T08:44:03.207Z"
   },
   {
    "duration": 84,
    "start_time": "2022-11-30T09:00:44.312Z"
   },
   {
    "duration": 72,
    "start_time": "2022-11-30T09:00:53.241Z"
   },
   {
    "duration": 83,
    "start_time": "2022-11-30T09:01:04.856Z"
   },
   {
    "duration": 80,
    "start_time": "2022-11-30T09:01:18.850Z"
   },
   {
    "duration": 77,
    "start_time": "2022-11-30T09:01:26.672Z"
   },
   {
    "duration": 70,
    "start_time": "2022-11-30T09:01:29.817Z"
   },
   {
    "duration": 82,
    "start_time": "2022-11-30T09:01:32.767Z"
   },
   {
    "duration": 90,
    "start_time": "2022-11-30T09:01:35.635Z"
   },
   {
    "duration": 74,
    "start_time": "2022-11-30T09:01:39.613Z"
   },
   {
    "duration": 72,
    "start_time": "2022-11-30T09:01:43.297Z"
   },
   {
    "duration": 154,
    "start_time": "2022-11-30T09:02:33.302Z"
   },
   {
    "duration": 141,
    "start_time": "2022-11-30T09:02:45.566Z"
   },
   {
    "duration": 232,
    "start_time": "2022-11-30T09:03:00.910Z"
   },
   {
    "duration": 37,
    "start_time": "2022-11-30T09:04:30.852Z"
   },
   {
    "duration": 20,
    "start_time": "2022-11-30T09:10:31.896Z"
   },
   {
    "duration": 25,
    "start_time": "2022-11-30T09:11:15.208Z"
   },
   {
    "duration": 19,
    "start_time": "2022-11-30T09:12:22.536Z"
   },
   {
    "duration": 139,
    "start_time": "2022-11-30T09:12:52.532Z"
   },
   {
    "duration": 27,
    "start_time": "2022-11-30T09:13:03.059Z"
   },
   {
    "duration": 20,
    "start_time": "2022-11-30T09:13:29.841Z"
   },
   {
    "duration": 45,
    "start_time": "2022-11-30T09:15:07.331Z"
   },
   {
    "duration": 35,
    "start_time": "2022-11-30T09:15:57.944Z"
   },
   {
    "duration": 169,
    "start_time": "2022-11-30T09:16:06.484Z"
   },
   {
    "duration": 198,
    "start_time": "2022-11-30T09:17:39.389Z"
   },
   {
    "duration": 193,
    "start_time": "2022-11-30T09:21:59.544Z"
   },
   {
    "duration": 44,
    "start_time": "2022-11-30T09:22:46.803Z"
   },
   {
    "duration": 36,
    "start_time": "2022-11-30T09:23:09.004Z"
   },
   {
    "duration": 198,
    "start_time": "2022-11-30T09:28:06.923Z"
   },
   {
    "duration": 7,
    "start_time": "2022-11-30T09:39:45.415Z"
   },
   {
    "duration": 4,
    "start_time": "2022-11-30T09:40:29.174Z"
   },
   {
    "duration": 5,
    "start_time": "2022-11-30T09:40:40.713Z"
   },
   {
    "duration": 162,
    "start_time": "2022-11-30T09:52:08.188Z"
   },
   {
    "duration": 10,
    "start_time": "2022-11-30T09:53:59.703Z"
   },
   {
    "duration": 5,
    "start_time": "2022-11-30T09:54:04.163Z"
   },
   {
    "duration": 159,
    "start_time": "2022-11-30T09:54:06.009Z"
   },
   {
    "duration": 5,
    "start_time": "2022-11-30T09:54:59.775Z"
   },
   {
    "duration": 5,
    "start_time": "2022-11-30T09:55:21.922Z"
   },
   {
    "duration": 4,
    "start_time": "2022-11-30T09:55:36.448Z"
   },
   {
    "duration": 261,
    "start_time": "2022-11-30T09:58:37.914Z"
   },
   {
    "duration": 184,
    "start_time": "2022-11-30T09:58:47.401Z"
   },
   {
    "duration": 164,
    "start_time": "2022-11-30T09:58:56.406Z"
   },
   {
    "duration": 153,
    "start_time": "2022-11-30T09:59:08.820Z"
   },
   {
    "duration": 148,
    "start_time": "2022-11-30T09:59:20.118Z"
   },
   {
    "duration": 5,
    "start_time": "2022-11-30T09:59:43.961Z"
   },
   {
    "duration": 6,
    "start_time": "2022-11-30T10:04:04.622Z"
   },
   {
    "duration": 141,
    "start_time": "2022-11-30T10:04:51.902Z"
   },
   {
    "duration": 5,
    "start_time": "2022-11-30T10:05:13.600Z"
   },
   {
    "duration": 5,
    "start_time": "2022-11-30T10:05:18.996Z"
   },
   {
    "duration": 126,
    "start_time": "2022-11-30T10:06:28.327Z"
   },
   {
    "duration": 5,
    "start_time": "2022-11-30T10:06:50.950Z"
   },
   {
    "duration": 6,
    "start_time": "2022-11-30T10:11:03.615Z"
   },
   {
    "duration": 148,
    "start_time": "2022-11-30T10:11:06.363Z"
   },
   {
    "duration": 5,
    "start_time": "2022-11-30T10:11:09.397Z"
   },
   {
    "duration": 4,
    "start_time": "2022-11-30T10:12:03.906Z"
   },
   {
    "duration": 6,
    "start_time": "2022-11-30T10:12:15.484Z"
   },
   {
    "duration": 118,
    "start_time": "2022-11-30T10:12:17.925Z"
   },
   {
    "duration": 6,
    "start_time": "2022-11-30T10:12:20.693Z"
   },
   {
    "duration": 119,
    "start_time": "2022-11-30T10:12:25.108Z"
   },
   {
    "duration": 5,
    "start_time": "2022-11-30T10:12:28.095Z"
   },
   {
    "duration": 5,
    "start_time": "2022-11-30T10:13:10.440Z"
   },
   {
    "duration": 169,
    "start_time": "2022-11-30T10:13:30.013Z"
   },
   {
    "duration": 6,
    "start_time": "2022-11-30T10:13:42.564Z"
   },
   {
    "duration": 5,
    "start_time": "2022-11-30T10:14:34.954Z"
   },
   {
    "duration": 5,
    "start_time": "2022-11-30T10:15:33.831Z"
   },
   {
    "duration": 142,
    "start_time": "2022-11-30T10:15:48.962Z"
   },
   {
    "duration": 145,
    "start_time": "2022-11-30T10:16:24.597Z"
   },
   {
    "duration": 4,
    "start_time": "2022-11-30T10:16:29.715Z"
   },
   {
    "duration": 141,
    "start_time": "2022-11-30T10:17:45.980Z"
   },
   {
    "duration": 4,
    "start_time": "2022-11-30T10:17:59.717Z"
   },
   {
    "duration": 148,
    "start_time": "2022-11-30T10:20:31.146Z"
   },
   {
    "duration": 6,
    "start_time": "2022-11-30T10:20:33.915Z"
   },
   {
    "duration": 5,
    "start_time": "2022-11-30T10:20:41.037Z"
   },
   {
    "duration": 12,
    "start_time": "2022-11-30T10:31:25.560Z"
   },
   {
    "duration": 5,
    "start_time": "2022-11-30T10:31:52.941Z"
   },
   {
    "duration": 14,
    "start_time": "2022-11-30T10:31:57.918Z"
   },
   {
    "duration": 9,
    "start_time": "2022-11-30T10:32:37.263Z"
   },
   {
    "duration": 39,
    "start_time": "2022-11-30T10:35:02.001Z"
   },
   {
    "duration": 50,
    "start_time": "2022-11-30T10:35:47.262Z"
   },
   {
    "duration": 176,
    "start_time": "2022-11-30T11:41:56.745Z"
   },
   {
    "duration": 14,
    "start_time": "2022-11-30T11:42:19.617Z"
   },
   {
    "duration": 4,
    "start_time": "2022-11-30T11:44:55.407Z"
   },
   {
    "duration": 10,
    "start_time": "2022-11-30T11:44:57.252Z"
   },
   {
    "duration": 10,
    "start_time": "2022-11-30T11:47:58.872Z"
   },
   {
    "duration": 10,
    "start_time": "2022-11-30T11:48:07.053Z"
   },
   {
    "duration": 14,
    "start_time": "2022-11-30T11:57:11.147Z"
   },
   {
    "duration": 31,
    "start_time": "2022-11-30T11:57:29.409Z"
   },
   {
    "duration": 9,
    "start_time": "2022-11-30T11:57:36.549Z"
   },
   {
    "duration": 10,
    "start_time": "2022-11-30T11:57:42.639Z"
   },
   {
    "duration": 6,
    "start_time": "2022-11-30T11:57:44.897Z"
   },
   {
    "duration": 10,
    "start_time": "2022-11-30T11:58:32.610Z"
   },
   {
    "duration": 6,
    "start_time": "2022-11-30T11:58:34.775Z"
   },
   {
    "duration": 14,
    "start_time": "2022-11-30T11:58:47.453Z"
   },
   {
    "duration": 6,
    "start_time": "2022-11-30T11:58:49.622Z"
   },
   {
    "duration": 115,
    "start_time": "2022-11-30T11:59:26.625Z"
   },
   {
    "duration": 228,
    "start_time": "2022-11-30T11:59:39.471Z"
   },
   {
    "duration": 167,
    "start_time": "2022-11-30T12:00:16.633Z"
   },
   {
    "duration": 1317,
    "start_time": "2022-11-30T12:03:01.574Z"
   },
   {
    "duration": 143,
    "start_time": "2022-11-30T12:03:25.611Z"
   },
   {
    "duration": 171,
    "start_time": "2022-11-30T12:04:17.225Z"
   },
   {
    "duration": 176,
    "start_time": "2022-11-30T12:04:31.461Z"
   },
   {
    "duration": 189,
    "start_time": "2022-11-30T12:04:41.944Z"
   },
   {
    "duration": 184,
    "start_time": "2022-11-30T12:04:47.830Z"
   },
   {
    "duration": 178,
    "start_time": "2022-11-30T12:05:13.145Z"
   },
   {
    "duration": 16,
    "start_time": "2022-11-30T12:10:58.910Z"
   },
   {
    "duration": 72,
    "start_time": "2022-11-30T12:12:07.635Z"
   },
   {
    "duration": 91,
    "start_time": "2022-11-30T12:12:30.215Z"
   },
   {
    "duration": 16,
    "start_time": "2022-11-30T12:12:39.256Z"
   },
   {
    "duration": 15,
    "start_time": "2022-11-30T12:15:39.420Z"
   },
   {
    "duration": 9,
    "start_time": "2022-11-30T12:15:47.339Z"
   },
   {
    "duration": 289,
    "start_time": "2022-11-30T12:16:07.702Z"
   },
   {
    "duration": 12,
    "start_time": "2022-11-30T12:16:39.633Z"
   },
   {
    "duration": 8,
    "start_time": "2022-11-30T12:16:41.803Z"
   },
   {
    "duration": 190,
    "start_time": "2022-11-30T12:16:44.563Z"
   },
   {
    "duration": 20,
    "start_time": "2022-11-30T12:32:05.998Z"
   },
   {
    "duration": 16,
    "start_time": "2022-11-30T12:32:25.719Z"
   },
   {
    "duration": 12,
    "start_time": "2022-11-30T12:32:32.162Z"
   },
   {
    "duration": 7,
    "start_time": "2022-11-30T12:32:38.696Z"
   },
   {
    "duration": 3,
    "start_time": "2022-11-30T12:34:32.172Z"
   },
   {
    "duration": 6,
    "start_time": "2022-11-30T12:34:39.166Z"
   },
   {
    "duration": 14,
    "start_time": "2022-11-30T12:34:45.827Z"
   },
   {
    "duration": 9,
    "start_time": "2022-11-30T12:34:48.090Z"
   },
   {
    "duration": 4,
    "start_time": "2022-11-30T12:34:55.444Z"
   },
   {
    "duration": 9,
    "start_time": "2022-11-30T12:34:57.840Z"
   },
   {
    "duration": 76,
    "start_time": "2022-11-30T12:36:50.355Z"
   },
   {
    "duration": 11,
    "start_time": "2022-11-30T12:37:03.218Z"
   },
   {
    "duration": 4,
    "start_time": "2022-11-30T12:38:07.095Z"
   },
   {
    "duration": 7,
    "start_time": "2022-11-30T12:38:09.061Z"
   },
   {
    "duration": 9,
    "start_time": "2022-11-30T12:38:11.229Z"
   },
   {
    "duration": 83,
    "start_time": "2022-11-30T12:40:23.683Z"
   },
   {
    "duration": 374,
    "start_time": "2022-11-30T12:40:37.243Z"
   },
   {
    "duration": 11,
    "start_time": "2022-11-30T12:40:53.004Z"
   },
   {
    "duration": 4,
    "start_time": "2022-11-30T12:40:57.732Z"
   },
   {
    "duration": 7,
    "start_time": "2022-11-30T12:40:59.894Z"
   },
   {
    "duration": 90,
    "start_time": "2022-11-30T12:41:07.760Z"
   },
   {
    "duration": 111,
    "start_time": "2022-11-30T12:42:41.879Z"
   },
   {
    "duration": 111,
    "start_time": "2022-11-30T12:42:57.894Z"
   },
   {
    "duration": 109,
    "start_time": "2022-11-30T12:43:11.406Z"
   },
   {
    "duration": 121,
    "start_time": "2022-11-30T12:43:16.359Z"
   },
   {
    "duration": 105,
    "start_time": "2022-11-30T12:43:23.970Z"
   },
   {
    "duration": 17,
    "start_time": "2022-11-30T12:57:30.354Z"
   },
   {
    "duration": 12,
    "start_time": "2022-11-30T12:57:40.874Z"
   },
   {
    "duration": 2,
    "start_time": "2022-11-30T12:58:21.202Z"
   },
   {
    "duration": 109,
    "start_time": "2022-11-30T12:58:44.769Z"
   },
   {
    "duration": 105,
    "start_time": "2022-11-30T13:01:45.113Z"
   },
   {
    "duration": 109,
    "start_time": "2022-11-30T13:02:05.282Z"
   },
   {
    "duration": 11,
    "start_time": "2022-11-30T13:03:19.508Z"
   },
   {
    "duration": 3,
    "start_time": "2022-11-30T13:03:34.897Z"
   },
   {
    "duration": 109,
    "start_time": "2022-11-30T13:04:07.600Z"
   },
   {
    "duration": 211,
    "start_time": "2022-11-30T13:07:57.098Z"
   },
   {
    "duration": 183,
    "start_time": "2022-11-30T13:08:45.936Z"
   },
   {
    "duration": 189,
    "start_time": "2022-11-30T13:11:06.999Z"
   },
   {
    "duration": 333,
    "start_time": "2022-11-30T13:12:59.573Z"
   },
   {
    "duration": 192,
    "start_time": "2022-11-30T13:13:31.771Z"
   },
   {
    "duration": 91,
    "start_time": "2022-11-30T13:14:05.686Z"
   },
   {
    "duration": 21,
    "start_time": "2022-11-30T13:14:14.693Z"
   },
   {
    "duration": 17,
    "start_time": "2022-11-30T13:14:48.912Z"
   },
   {
    "duration": 18,
    "start_time": "2022-11-30T13:16:42.544Z"
   },
   {
    "duration": 150,
    "start_time": "2022-11-30T13:20:01.683Z"
   },
   {
    "duration": 166,
    "start_time": "2022-11-30T13:20:49.163Z"
   },
   {
    "duration": 173,
    "start_time": "2022-11-30T13:20:59.930Z"
   },
   {
    "duration": 18,
    "start_time": "2022-11-30T13:21:19.655Z"
   },
   {
    "duration": 18,
    "start_time": "2022-11-30T13:21:51.121Z"
   },
   {
    "duration": 19,
    "start_time": "2022-11-30T13:22:12.733Z"
   },
   {
    "duration": 156,
    "start_time": "2022-11-30T13:23:08.162Z"
   },
   {
    "duration": 197,
    "start_time": "2022-11-30T13:23:16.619Z"
   },
   {
    "duration": 178,
    "start_time": "2022-11-30T13:23:25.756Z"
   },
   {
    "duration": 160,
    "start_time": "2022-11-30T13:23:29.166Z"
   },
   {
    "duration": 13,
    "start_time": "2022-11-30T13:50:43.361Z"
   },
   {
    "duration": 17,
    "start_time": "2022-11-30T13:51:07.870Z"
   },
   {
    "duration": 9,
    "start_time": "2022-11-30T13:51:12.889Z"
   },
   {
    "duration": 4,
    "start_time": "2022-11-30T13:51:29.984Z"
   },
   {
    "duration": 115,
    "start_time": "2022-11-30T13:52:21.690Z"
   },
   {
    "duration": 11,
    "start_time": "2022-11-30T13:55:27.346Z"
   },
   {
    "duration": 3,
    "start_time": "2022-11-30T13:55:39.321Z"
   },
   {
    "duration": 115,
    "start_time": "2022-11-30T13:56:13.720Z"
   },
   {
    "duration": 13,
    "start_time": "2022-11-30T13:59:37.196Z"
   },
   {
    "duration": 3,
    "start_time": "2022-11-30T13:59:48.965Z"
   },
   {
    "duration": 263,
    "start_time": "2022-11-30T14:00:16.186Z"
   },
   {
    "duration": 12,
    "start_time": "2022-11-30T14:18:15.165Z"
   },
   {
    "duration": 7,
    "start_time": "2022-11-30T14:18:20.363Z"
   },
   {
    "duration": 5,
    "start_time": "2022-11-30T14:18:56.346Z"
   },
   {
    "duration": 7,
    "start_time": "2022-11-30T14:19:33.161Z"
   },
   {
    "duration": 15,
    "start_time": "2022-11-30T14:23:10.560Z"
   },
   {
    "duration": 10,
    "start_time": "2022-11-30T14:23:43.499Z"
   },
   {
    "duration": 7,
    "start_time": "2022-11-30T14:23:48.737Z"
   },
   {
    "duration": 17,
    "start_time": "2022-11-30T14:24:49.289Z"
   },
   {
    "duration": 41,
    "start_time": "2022-11-30T14:24:58.713Z"
   },
   {
    "duration": 2823,
    "start_time": "2022-11-30T14:25:01.812Z"
   },
   {
    "duration": 72,
    "start_time": "2022-11-30T14:25:26.303Z"
   },
   {
    "duration": 13,
    "start_time": "2022-11-30T14:25:34.674Z"
   },
   {
    "duration": 4,
    "start_time": "2022-11-30T14:26:51.677Z"
   },
   {
    "duration": 7,
    "start_time": "2022-11-30T14:26:59.790Z"
   },
   {
    "duration": 70,
    "start_time": "2022-12-01T07:12:43.603Z"
   },
   {
    "duration": 583,
    "start_time": "2022-12-01T07:12:49.613Z"
   },
   {
    "duration": 3,
    "start_time": "2022-12-01T07:12:50.198Z"
   },
   {
    "duration": 21,
    "start_time": "2022-12-01T07:12:50.203Z"
   },
   {
    "duration": 14,
    "start_time": "2022-12-01T07:12:50.227Z"
   },
   {
    "duration": 10,
    "start_time": "2022-12-01T07:12:50.243Z"
   },
   {
    "duration": 21,
    "start_time": "2022-12-01T07:12:50.255Z"
   },
   {
    "duration": 35,
    "start_time": "2022-12-01T07:12:50.278Z"
   },
   {
    "duration": 1304,
    "start_time": "2022-12-01T07:12:50.315Z"
   },
   {
    "duration": 6,
    "start_time": "2022-12-01T07:12:51.621Z"
   },
   {
    "duration": 43,
    "start_time": "2022-12-01T07:12:51.629Z"
   },
   {
    "duration": 4,
    "start_time": "2022-12-01T07:12:51.675Z"
   },
   {
    "duration": 11,
    "start_time": "2022-12-01T07:12:51.681Z"
   },
   {
    "duration": 82,
    "start_time": "2022-12-01T07:12:51.696Z"
   },
   {
    "duration": 69,
    "start_time": "2022-12-01T07:12:51.780Z"
   },
   {
    "duration": 18,
    "start_time": "2022-12-01T07:12:51.851Z"
   },
   {
    "duration": 23,
    "start_time": "2022-12-01T07:12:51.872Z"
   },
   {
    "duration": 8,
    "start_time": "2022-12-01T07:12:51.897Z"
   },
   {
    "duration": 13,
    "start_time": "2022-12-01T07:12:51.907Z"
   },
   {
    "duration": 51,
    "start_time": "2022-12-01T07:12:51.922Z"
   },
   {
    "duration": 14,
    "start_time": "2022-12-01T07:12:51.974Z"
   },
   {
    "duration": 12,
    "start_time": "2022-12-01T07:12:51.990Z"
   },
   {
    "duration": 20,
    "start_time": "2022-12-01T07:12:52.005Z"
   },
   {
    "duration": 33,
    "start_time": "2022-12-01T07:12:52.027Z"
   },
   {
    "duration": 21,
    "start_time": "2022-12-01T07:12:52.062Z"
   },
   {
    "duration": 13,
    "start_time": "2022-12-01T07:12:52.085Z"
   },
   {
    "duration": 18,
    "start_time": "2022-12-01T07:12:52.100Z"
   },
   {
    "duration": 17,
    "start_time": "2022-12-01T07:12:52.120Z"
   },
   {
    "duration": 94,
    "start_time": "2022-12-01T07:12:52.144Z"
   },
   {
    "duration": 58,
    "start_time": "2022-12-01T07:12:52.240Z"
   },
   {
    "duration": 10,
    "start_time": "2022-12-01T07:12:52.300Z"
   },
   {
    "duration": 7,
    "start_time": "2022-12-01T07:12:52.311Z"
   },
   {
    "duration": 266,
    "start_time": "2022-12-01T07:12:52.320Z"
   },
   {
    "duration": 11,
    "start_time": "2022-12-01T07:12:52.588Z"
   },
   {
    "duration": 13,
    "start_time": "2022-12-01T07:12:52.601Z"
   },
   {
    "duration": 12,
    "start_time": "2022-12-01T07:12:52.616Z"
   },
   {
    "duration": 236,
    "start_time": "2022-12-01T07:12:52.630Z"
   },
   {
    "duration": 18,
    "start_time": "2022-12-01T07:12:52.867Z"
   },
   {
    "duration": 11,
    "start_time": "2022-12-01T07:12:52.887Z"
   },
   {
    "duration": 9,
    "start_time": "2022-12-01T07:12:52.900Z"
   },
   {
    "duration": 9,
    "start_time": "2022-12-01T07:12:52.911Z"
   },
   {
    "duration": 20,
    "start_time": "2022-12-01T07:12:52.921Z"
   },
   {
    "duration": 35,
    "start_time": "2022-12-01T07:12:52.943Z"
   },
   {
    "duration": 277,
    "start_time": "2022-12-01T07:12:52.980Z"
   },
   {
    "duration": 15,
    "start_time": "2022-12-01T07:12:53.259Z"
   },
   {
    "duration": 589,
    "start_time": "2022-12-01T07:12:53.277Z"
   },
   {
    "duration": 10,
    "start_time": "2022-12-01T07:12:53.868Z"
   },
   {
    "duration": 29,
    "start_time": "2022-12-01T07:12:53.881Z"
   },
   {
    "duration": 100,
    "start_time": "2022-12-01T07:12:53.912Z"
   },
   {
    "duration": 19,
    "start_time": "2022-12-01T07:12:54.014Z"
   },
   {
    "duration": 13,
    "start_time": "2022-12-01T07:12:54.035Z"
   },
   {
    "duration": 6,
    "start_time": "2022-12-01T07:12:54.050Z"
   },
   {
    "duration": 18,
    "start_time": "2022-12-01T07:12:54.058Z"
   },
   {
    "duration": 14,
    "start_time": "2022-12-01T07:12:54.078Z"
   },
   {
    "duration": 26,
    "start_time": "2022-12-01T07:12:54.094Z"
   },
   {
    "duration": 14,
    "start_time": "2022-12-01T07:12:54.122Z"
   },
   {
    "duration": 17,
    "start_time": "2022-12-01T07:12:54.137Z"
   },
   {
    "duration": 6,
    "start_time": "2022-12-01T07:12:54.156Z"
   },
   {
    "duration": 297,
    "start_time": "2022-12-01T07:12:54.175Z"
   },
   {
    "duration": 248,
    "start_time": "2022-12-01T07:12:54.474Z"
   },
   {
    "duration": 315,
    "start_time": "2022-12-01T07:12:54.724Z"
   },
   {
    "duration": 71,
    "start_time": "2022-12-01T07:12:55.041Z"
   },
   {
    "duration": 324,
    "start_time": "2022-12-01T07:12:55.113Z"
   },
   {
    "duration": 64,
    "start_time": "2022-12-01T07:12:55.439Z"
   },
   {
    "duration": 14,
    "start_time": "2022-12-01T07:12:55.506Z"
   },
   {
    "duration": 321,
    "start_time": "2022-12-01T07:12:55.522Z"
   },
   {
    "duration": 6,
    "start_time": "2022-12-01T07:12:55.846Z"
   },
   {
    "duration": 211,
    "start_time": "2022-12-01T07:12:55.853Z"
   },
   {
    "duration": 14,
    "start_time": "2022-12-01T07:12:56.067Z"
   },
   {
    "duration": 14,
    "start_time": "2022-12-01T07:12:56.083Z"
   },
   {
    "duration": 216,
    "start_time": "2022-12-01T07:12:56.100Z"
   },
   {
    "duration": 6,
    "start_time": "2022-12-01T07:12:56.318Z"
   },
   {
    "duration": 231,
    "start_time": "2022-12-01T07:12:56.326Z"
   },
   {
    "duration": 17,
    "start_time": "2022-12-01T07:12:56.559Z"
   },
   {
    "duration": 20,
    "start_time": "2022-12-01T07:12:56.578Z"
   },
   {
    "duration": 231,
    "start_time": "2022-12-01T07:12:56.600Z"
   },
   {
    "duration": 7,
    "start_time": "2022-12-01T07:12:56.836Z"
   },
   {
    "duration": 195,
    "start_time": "2022-12-01T07:12:56.846Z"
   },
   {
    "duration": 7,
    "start_time": "2022-12-01T07:12:57.043Z"
   },
   {
    "duration": 31,
    "start_time": "2022-12-01T07:12:57.052Z"
   },
   {
    "duration": 24,
    "start_time": "2022-12-01T07:12:57.085Z"
   },
   {
    "duration": 15,
    "start_time": "2022-12-01T07:12:57.111Z"
   },
   {
    "duration": 289,
    "start_time": "2022-12-01T07:12:57.132Z"
   },
   {
    "duration": 18,
    "start_time": "2022-12-01T07:12:57.423Z"
   },
   {
    "duration": 23,
    "start_time": "2022-12-01T07:12:57.444Z"
   },
   {
    "duration": 297,
    "start_time": "2022-12-01T07:12:57.477Z"
   },
   {
    "duration": 20,
    "start_time": "2022-12-01T07:12:57.776Z"
   },
   {
    "duration": 52,
    "start_time": "2022-12-01T07:12:57.801Z"
   },
   {
    "duration": 21,
    "start_time": "2022-12-01T07:12:57.855Z"
   },
   {
    "duration": 29,
    "start_time": "2022-12-01T07:12:57.878Z"
   },
   {
    "duration": 167,
    "start_time": "2022-12-01T07:12:57.909Z"
   },
   {
    "duration": 17,
    "start_time": "2022-12-01T07:12:58.079Z"
   },
   {
    "duration": 18,
    "start_time": "2022-12-01T07:12:58.098Z"
   },
   {
    "duration": 230,
    "start_time": "2022-12-01T07:12:58.118Z"
   },
   {
    "duration": 26,
    "start_time": "2022-12-01T07:12:58.350Z"
   },
   {
    "duration": 6,
    "start_time": "2022-12-01T07:12:58.378Z"
   },
   {
    "duration": 152,
    "start_time": "2022-12-01T07:12:58.386Z"
   },
   {
    "duration": 13,
    "start_time": "2022-12-01T07:12:58.543Z"
   },
   {
    "duration": 21,
    "start_time": "2022-12-01T07:12:58.558Z"
   },
   {
    "duration": 19,
    "start_time": "2022-12-01T07:12:58.581Z"
   },
   {
    "duration": 285,
    "start_time": "2022-12-01T07:12:58.602Z"
   },
   {
    "duration": 17,
    "start_time": "2022-12-01T07:12:58.890Z"
   },
   {
    "duration": 23,
    "start_time": "2022-12-01T07:12:58.909Z"
   },
   {
    "duration": 169,
    "start_time": "2022-12-01T07:12:58.933Z"
   },
   {
    "duration": 20,
    "start_time": "2022-12-01T07:12:59.105Z"
   },
   {
    "duration": 18,
    "start_time": "2022-12-01T07:12:59.128Z"
   },
   {
    "duration": 178,
    "start_time": "2022-12-01T07:12:59.148Z"
   },
   {
    "duration": 15,
    "start_time": "2022-12-01T07:12:59.328Z"
   },
   {
    "duration": 7,
    "start_time": "2022-12-01T07:12:59.346Z"
   },
   {
    "duration": 39,
    "start_time": "2022-12-01T07:12:59.355Z"
   },
   {
    "duration": 9,
    "start_time": "2022-12-01T07:14:01.918Z"
   },
   {
    "duration": 4,
    "start_time": "2022-12-01T07:14:10.967Z"
   },
   {
    "duration": 4,
    "start_time": "2022-12-01T07:19:02.123Z"
   },
   {
    "duration": 1314,
    "start_time": "2022-12-01T07:20:49.901Z"
   },
   {
    "duration": 83,
    "start_time": "2022-12-01T07:21:39.096Z"
   },
   {
    "duration": 809,
    "start_time": "2022-12-01T07:22:34.571Z"
   },
   {
    "duration": 867,
    "start_time": "2022-12-01T07:23:44.372Z"
   },
   {
    "duration": 6,
    "start_time": "2022-12-01T07:25:40.709Z"
   },
   {
    "duration": 11,
    "start_time": "2022-12-01T07:26:56.035Z"
   },
   {
    "duration": 5,
    "start_time": "2022-12-01T07:27:00.961Z"
   },
   {
    "duration": 14,
    "start_time": "2022-12-01T07:27:25.885Z"
   },
   {
    "duration": 8,
    "start_time": "2022-12-01T07:27:57.054Z"
   },
   {
    "duration": 8,
    "start_time": "2022-12-01T07:28:04.893Z"
   },
   {
    "duration": 9,
    "start_time": "2022-12-01T07:28:07.147Z"
   },
   {
    "duration": 7,
    "start_time": "2022-12-01T07:28:16.991Z"
   },
   {
    "duration": 4,
    "start_time": "2022-12-01T07:31:51.092Z"
   },
   {
    "duration": 67,
    "start_time": "2022-12-01T07:31:52.995Z"
   },
   {
    "duration": 550,
    "start_time": "2022-12-01T07:32:34.996Z"
   },
   {
    "duration": 3,
    "start_time": "2022-12-01T07:32:35.548Z"
   },
   {
    "duration": 18,
    "start_time": "2022-12-01T07:32:35.553Z"
   },
   {
    "duration": 11,
    "start_time": "2022-12-01T07:32:35.573Z"
   },
   {
    "duration": 13,
    "start_time": "2022-12-01T07:32:35.586Z"
   },
   {
    "duration": 17,
    "start_time": "2022-12-01T07:32:35.601Z"
   },
   {
    "duration": 26,
    "start_time": "2022-12-01T07:32:35.620Z"
   },
   {
    "duration": 970,
    "start_time": "2022-12-01T07:32:35.648Z"
   },
   {
    "duration": 5,
    "start_time": "2022-12-01T07:32:36.619Z"
   },
   {
    "duration": 42,
    "start_time": "2022-12-01T07:32:36.626Z"
   },
   {
    "duration": 4,
    "start_time": "2022-12-01T07:32:36.670Z"
   },
   {
    "duration": 14,
    "start_time": "2022-12-01T07:32:36.675Z"
   },
   {
    "duration": 11,
    "start_time": "2022-12-01T07:32:36.690Z"
   },
   {
    "duration": 5,
    "start_time": "2022-12-01T07:32:36.704Z"
   },
   {
    "duration": 7,
    "start_time": "2022-12-01T07:32:36.710Z"
   },
   {
    "duration": 12,
    "start_time": "2022-12-01T07:32:36.718Z"
   },
   {
    "duration": 13,
    "start_time": "2022-12-01T07:32:36.731Z"
   },
   {
    "duration": 8,
    "start_time": "2022-12-01T07:32:36.745Z"
   },
   {
    "duration": 13,
    "start_time": "2022-12-01T07:32:36.755Z"
   },
   {
    "duration": 15,
    "start_time": "2022-12-01T07:32:36.769Z"
   },
   {
    "duration": 6,
    "start_time": "2022-12-01T07:32:36.785Z"
   },
   {
    "duration": 20,
    "start_time": "2022-12-01T07:32:36.793Z"
   },
   {
    "duration": 13,
    "start_time": "2022-12-01T07:32:36.815Z"
   },
   {
    "duration": 6,
    "start_time": "2022-12-01T07:32:36.829Z"
   },
   {
    "duration": 15,
    "start_time": "2022-12-01T07:32:36.837Z"
   },
   {
    "duration": 13,
    "start_time": "2022-12-01T07:32:36.853Z"
   },
   {
    "duration": 10,
    "start_time": "2022-12-01T07:32:36.868Z"
   },
   {
    "duration": 39,
    "start_time": "2022-12-01T07:32:36.880Z"
   },
   {
    "duration": 39,
    "start_time": "2022-12-01T07:32:36.920Z"
   },
   {
    "duration": 23,
    "start_time": "2022-12-01T07:32:36.961Z"
   },
   {
    "duration": 3,
    "start_time": "2022-12-01T07:32:36.986Z"
   },
   {
    "duration": 231,
    "start_time": "2022-12-01T07:32:36.991Z"
   },
   {
    "duration": 11,
    "start_time": "2022-12-01T07:32:37.224Z"
   },
   {
    "duration": 19,
    "start_time": "2022-12-01T07:32:37.237Z"
   },
   {
    "duration": 19,
    "start_time": "2022-12-01T07:32:37.258Z"
   },
   {
    "duration": 232,
    "start_time": "2022-12-01T07:32:37.278Z"
   },
   {
    "duration": 11,
    "start_time": "2022-12-01T07:32:37.512Z"
   },
   {
    "duration": 12,
    "start_time": "2022-12-01T07:32:37.525Z"
   },
   {
    "duration": 13,
    "start_time": "2022-12-01T07:32:37.539Z"
   },
   {
    "duration": 9,
    "start_time": "2022-12-01T07:32:37.554Z"
   },
   {
    "duration": 14,
    "start_time": "2022-12-01T07:32:37.576Z"
   },
   {
    "duration": 16,
    "start_time": "2022-12-01T07:32:37.591Z"
   },
   {
    "duration": 300,
    "start_time": "2022-12-01T07:32:37.609Z"
   },
   {
    "duration": 12,
    "start_time": "2022-12-01T07:32:37.911Z"
   },
   {
    "duration": 468,
    "start_time": "2022-12-01T07:32:37.924Z"
   },
   {
    "duration": 6,
    "start_time": "2022-12-01T07:32:38.394Z"
   },
   {
    "duration": 17,
    "start_time": "2022-12-01T07:32:38.402Z"
   },
   {
    "duration": 20,
    "start_time": "2022-12-01T07:32:38.421Z"
   },
   {
    "duration": 69,
    "start_time": "2022-12-01T07:32:38.442Z"
   },
   {
    "duration": 32,
    "start_time": "2022-12-01T07:32:38.512Z"
   },
   {
    "duration": 12,
    "start_time": "2022-12-01T07:32:38.546Z"
   },
   {
    "duration": 16,
    "start_time": "2022-12-01T07:32:38.559Z"
   },
   {
    "duration": 7,
    "start_time": "2022-12-01T07:32:38.577Z"
   },
   {
    "duration": 9,
    "start_time": "2022-12-01T07:32:38.585Z"
   },
   {
    "duration": 33,
    "start_time": "2022-12-01T07:32:38.595Z"
   },
   {
    "duration": 12,
    "start_time": "2022-12-01T07:32:38.629Z"
   },
   {
    "duration": 16,
    "start_time": "2022-12-01T07:32:38.642Z"
   },
   {
    "duration": 15,
    "start_time": "2022-12-01T07:32:38.659Z"
   },
   {
    "duration": 18,
    "start_time": "2022-12-01T07:32:38.675Z"
   },
   {
    "duration": 7,
    "start_time": "2022-12-01T07:32:38.695Z"
   },
   {
    "duration": 265,
    "start_time": "2022-12-01T07:32:38.704Z"
   },
   {
    "duration": 205,
    "start_time": "2022-12-01T07:32:38.971Z"
   },
   {
    "duration": 205,
    "start_time": "2022-12-01T07:32:39.177Z"
   },
   {
    "duration": 34,
    "start_time": "2022-12-01T07:32:39.383Z"
   },
   {
    "duration": 219,
    "start_time": "2022-12-01T07:32:39.418Z"
   },
   {
    "duration": 49,
    "start_time": "2022-12-01T07:32:39.639Z"
   },
   {
    "duration": 6,
    "start_time": "2022-12-01T07:32:39.690Z"
   },
   {
    "duration": 153,
    "start_time": "2022-12-01T07:32:39.698Z"
   },
   {
    "duration": 5,
    "start_time": "2022-12-01T07:32:39.852Z"
   },
   {
    "duration": 225,
    "start_time": "2022-12-01T07:32:39.858Z"
   },
   {
    "duration": 4,
    "start_time": "2022-12-01T07:32:40.085Z"
   },
   {
    "duration": 15,
    "start_time": "2022-12-01T07:32:40.091Z"
   },
   {
    "duration": 134,
    "start_time": "2022-12-01T07:32:40.108Z"
   },
   {
    "duration": 6,
    "start_time": "2022-12-01T07:32:40.243Z"
   },
   {
    "duration": 140,
    "start_time": "2022-12-01T07:32:40.251Z"
   },
   {
    "duration": 5,
    "start_time": "2022-12-01T07:32:40.393Z"
   },
   {
    "duration": 10,
    "start_time": "2022-12-01T07:32:40.400Z"
   },
   {
    "duration": 167,
    "start_time": "2022-12-01T07:32:40.412Z"
   },
   {
    "duration": 5,
    "start_time": "2022-12-01T07:32:40.581Z"
   },
   {
    "duration": 142,
    "start_time": "2022-12-01T07:32:40.587Z"
   },
   {
    "duration": 5,
    "start_time": "2022-12-01T07:32:40.730Z"
   },
   {
    "duration": 18,
    "start_time": "2022-12-01T07:32:40.736Z"
   },
   {
    "duration": 29,
    "start_time": "2022-12-01T07:32:40.755Z"
   },
   {
    "duration": 7,
    "start_time": "2022-12-01T07:32:40.786Z"
   },
   {
    "duration": 205,
    "start_time": "2022-12-01T07:32:40.795Z"
   },
   {
    "duration": 13,
    "start_time": "2022-12-01T07:32:41.002Z"
   },
   {
    "duration": 7,
    "start_time": "2022-12-01T07:32:41.016Z"
   },
   {
    "duration": 184,
    "start_time": "2022-12-01T07:32:41.025Z"
   },
   {
    "duration": 12,
    "start_time": "2022-12-01T07:32:41.211Z"
   },
   {
    "duration": 12,
    "start_time": "2022-12-01T07:32:41.225Z"
   },
   {
    "duration": 5,
    "start_time": "2022-12-01T07:32:41.238Z"
   },
   {
    "duration": 12,
    "start_time": "2022-12-01T07:32:41.245Z"
   },
   {
    "duration": 121,
    "start_time": "2022-12-01T07:32:41.258Z"
   },
   {
    "duration": 12,
    "start_time": "2022-12-01T07:32:41.381Z"
   },
   {
    "duration": 5,
    "start_time": "2022-12-01T07:32:41.394Z"
   },
   {
    "duration": 130,
    "start_time": "2022-12-01T07:32:41.401Z"
   },
   {
    "duration": 13,
    "start_time": "2022-12-01T07:32:41.533Z"
   },
   {
    "duration": 5,
    "start_time": "2022-12-01T07:32:41.547Z"
   },
   {
    "duration": 112,
    "start_time": "2022-12-01T07:32:41.553Z"
   },
   {
    "duration": 18,
    "start_time": "2022-12-01T07:32:41.667Z"
   },
   {
    "duration": 8,
    "start_time": "2022-12-01T07:32:41.686Z"
   },
   {
    "duration": 6,
    "start_time": "2022-12-01T07:32:41.695Z"
   },
   {
    "duration": 136,
    "start_time": "2022-12-01T07:32:41.702Z"
   },
   {
    "duration": 11,
    "start_time": "2022-12-01T07:32:41.840Z"
   },
   {
    "duration": 6,
    "start_time": "2022-12-01T07:32:41.853Z"
   },
   {
    "duration": 176,
    "start_time": "2022-12-01T07:32:41.861Z"
   },
   {
    "duration": 10,
    "start_time": "2022-12-01T07:32:42.039Z"
   },
   {
    "duration": 10,
    "start_time": "2022-12-01T07:32:42.051Z"
   },
   {
    "duration": 122,
    "start_time": "2022-12-01T07:32:42.062Z"
   },
   {
    "duration": 11,
    "start_time": "2022-12-01T07:32:42.186Z"
   },
   {
    "duration": 7,
    "start_time": "2022-12-01T07:32:42.199Z"
   },
   {
    "duration": 58,
    "start_time": "2022-12-01T07:32:42.207Z"
   },
   {
    "duration": 66,
    "start_time": "2022-12-01T07:33:18.027Z"
   },
   {
    "duration": 3,
    "start_time": "2022-12-01T07:33:26.700Z"
   },
   {
    "duration": 7,
    "start_time": "2022-12-01T07:33:39.907Z"
   },
   {
    "duration": 11,
    "start_time": "2022-12-01T07:34:34.475Z"
   },
   {
    "duration": 4,
    "start_time": "2022-12-01T07:34:57.025Z"
   },
   {
    "duration": 5,
    "start_time": "2022-12-01T07:35:07.238Z"
   },
   {
    "duration": 3,
    "start_time": "2022-12-01T07:35:26.673Z"
   },
   {
    "duration": 3,
    "start_time": "2022-12-01T07:35:47.209Z"
   },
   {
    "duration": 7,
    "start_time": "2022-12-01T07:36:06.495Z"
   },
   {
    "duration": 3,
    "start_time": "2022-12-01T07:36:08.667Z"
   },
   {
    "duration": 7,
    "start_time": "2022-12-01T07:37:08.600Z"
   },
   {
    "duration": 8,
    "start_time": "2022-12-01T07:37:25.214Z"
   },
   {
    "duration": 145,
    "start_time": "2022-12-01T07:37:44.079Z"
   },
   {
    "duration": 85,
    "start_time": "2022-12-01T07:38:08.205Z"
   },
   {
    "duration": 102,
    "start_time": "2022-12-01T07:38:26.766Z"
   },
   {
    "duration": 74,
    "start_time": "2022-12-01T07:38:40.973Z"
   },
   {
    "duration": 89,
    "start_time": "2022-12-01T07:40:53.343Z"
   },
   {
    "duration": 9,
    "start_time": "2022-12-01T07:41:10.386Z"
   },
   {
    "duration": 8,
    "start_time": "2022-12-01T07:41:18.216Z"
   },
   {
    "duration": 9,
    "start_time": "2022-12-01T07:41:28.925Z"
   },
   {
    "duration": 199,
    "start_time": "2022-12-01T07:41:58.073Z"
   },
   {
    "duration": 178,
    "start_time": "2022-12-01T07:42:11.969Z"
   },
   {
    "duration": 172,
    "start_time": "2022-12-01T07:42:22.125Z"
   },
   {
    "duration": 214,
    "start_time": "2022-12-01T07:42:34.853Z"
   },
   {
    "duration": 167,
    "start_time": "2022-12-01T07:43:34.085Z"
   },
   {
    "duration": 4,
    "start_time": "2022-12-01T07:45:56.781Z"
   },
   {
    "duration": 279,
    "start_time": "2022-12-01T07:52:30.300Z"
   },
   {
    "duration": 531,
    "start_time": "2022-12-01T07:53:44.947Z"
   },
   {
    "duration": 2,
    "start_time": "2022-12-01T07:53:45.480Z"
   },
   {
    "duration": 12,
    "start_time": "2022-12-01T07:53:45.484Z"
   },
   {
    "duration": 11,
    "start_time": "2022-12-01T07:53:45.498Z"
   },
   {
    "duration": 9,
    "start_time": "2022-12-01T07:53:45.511Z"
   },
   {
    "duration": 27,
    "start_time": "2022-12-01T07:53:45.521Z"
   },
   {
    "duration": 30,
    "start_time": "2022-12-01T07:53:45.550Z"
   },
   {
    "duration": 947,
    "start_time": "2022-12-01T07:53:45.582Z"
   },
   {
    "duration": 4,
    "start_time": "2022-12-01T07:53:46.531Z"
   },
   {
    "duration": 40,
    "start_time": "2022-12-01T07:53:46.537Z"
   },
   {
    "duration": 43,
    "start_time": "2022-12-01T07:53:46.578Z"
   },
   {
    "duration": 35,
    "start_time": "2022-12-01T07:53:46.622Z"
   },
   {
    "duration": 14,
    "start_time": "2022-12-01T07:53:46.659Z"
   },
   {
    "duration": 19,
    "start_time": "2022-12-01T07:53:46.674Z"
   },
   {
    "duration": 20,
    "start_time": "2022-12-01T07:53:46.695Z"
   },
   {
    "duration": 11,
    "start_time": "2022-12-01T07:53:46.716Z"
   },
   {
    "duration": 9,
    "start_time": "2022-12-01T07:53:46.728Z"
   },
   {
    "duration": 25,
    "start_time": "2022-12-01T07:53:46.738Z"
   },
   {
    "duration": 21,
    "start_time": "2022-12-01T07:53:46.764Z"
   },
   {
    "duration": 12,
    "start_time": "2022-12-01T07:53:46.787Z"
   },
   {
    "duration": 10,
    "start_time": "2022-12-01T07:53:46.801Z"
   },
   {
    "duration": 12,
    "start_time": "2022-12-01T07:53:46.812Z"
   },
   {
    "duration": 25,
    "start_time": "2022-12-01T07:53:46.826Z"
   },
   {
    "duration": 21,
    "start_time": "2022-12-01T07:53:46.853Z"
   },
   {
    "duration": 23,
    "start_time": "2022-12-01T07:53:46.876Z"
   },
   {
    "duration": 16,
    "start_time": "2022-12-01T07:53:46.900Z"
   },
   {
    "duration": 21,
    "start_time": "2022-12-01T07:53:46.918Z"
   },
   {
    "duration": 42,
    "start_time": "2022-12-01T07:53:46.944Z"
   },
   {
    "duration": 41,
    "start_time": "2022-12-01T07:53:46.988Z"
   },
   {
    "duration": 9,
    "start_time": "2022-12-01T07:53:47.031Z"
   },
   {
    "duration": 25,
    "start_time": "2022-12-01T07:53:47.041Z"
   },
   {
    "duration": 236,
    "start_time": "2022-12-01T07:53:47.067Z"
   },
   {
    "duration": 10,
    "start_time": "2022-12-01T07:53:47.304Z"
   },
   {
    "duration": 21,
    "start_time": "2022-12-01T07:53:47.315Z"
   },
   {
    "duration": 8,
    "start_time": "2022-12-01T07:53:47.337Z"
   },
   {
    "duration": 243,
    "start_time": "2022-12-01T07:53:47.346Z"
   },
   {
    "duration": 10,
    "start_time": "2022-12-01T07:53:47.590Z"
   },
   {
    "duration": 28,
    "start_time": "2022-12-01T07:53:47.602Z"
   },
   {
    "duration": 29,
    "start_time": "2022-12-01T07:53:47.631Z"
   },
   {
    "duration": 25,
    "start_time": "2022-12-01T07:53:47.662Z"
   },
   {
    "duration": 35,
    "start_time": "2022-12-01T07:53:47.688Z"
   },
   {
    "duration": 26,
    "start_time": "2022-12-01T07:53:47.725Z"
   },
   {
    "duration": 268,
    "start_time": "2022-12-01T07:53:47.753Z"
   },
   {
    "duration": 13,
    "start_time": "2022-12-01T07:53:48.023Z"
   },
   {
    "duration": 520,
    "start_time": "2022-12-01T07:53:48.038Z"
   },
   {
    "duration": 5,
    "start_time": "2022-12-01T07:53:48.559Z"
   },
   {
    "duration": 49,
    "start_time": "2022-12-01T07:53:48.566Z"
   },
   {
    "duration": 16,
    "start_time": "2022-12-01T07:53:48.617Z"
   },
   {
    "duration": 16,
    "start_time": "2022-12-01T07:53:48.635Z"
   },
   {
    "duration": 35,
    "start_time": "2022-12-01T07:53:48.653Z"
   },
   {
    "duration": 179,
    "start_time": "2022-12-01T07:53:48.689Z"
   },
   {
    "duration": 18,
    "start_time": "2022-12-01T07:53:48.870Z"
   },
   {
    "duration": 24,
    "start_time": "2022-12-01T07:53:48.889Z"
   },
   {
    "duration": 14,
    "start_time": "2022-12-01T07:53:48.915Z"
   },
   {
    "duration": 9,
    "start_time": "2022-12-01T07:53:48.931Z"
   },
   {
    "duration": 26,
    "start_time": "2022-12-01T07:53:48.942Z"
   },
   {
    "duration": 23,
    "start_time": "2022-12-01T07:53:48.969Z"
   },
   {
    "duration": 6,
    "start_time": "2022-12-01T07:53:48.993Z"
   },
   {
    "duration": 26,
    "start_time": "2022-12-01T07:53:49.000Z"
   },
   {
    "duration": 18,
    "start_time": "2022-12-01T07:53:49.028Z"
   },
   {
    "duration": 371,
    "start_time": "2022-12-01T07:53:49.048Z"
   },
   {
    "duration": 227,
    "start_time": "2022-12-01T07:53:49.421Z"
   },
   {
    "duration": 208,
    "start_time": "2022-12-01T07:53:49.650Z"
   },
   {
    "duration": 46,
    "start_time": "2022-12-01T07:53:49.859Z"
   },
   {
    "duration": 213,
    "start_time": "2022-12-01T07:53:49.907Z"
   },
   {
    "duration": 39,
    "start_time": "2022-12-01T07:53:50.122Z"
   },
   {
    "duration": 17,
    "start_time": "2022-12-01T07:53:50.163Z"
   },
   {
    "duration": 234,
    "start_time": "2022-12-01T07:53:50.182Z"
   },
   {
    "duration": 5,
    "start_time": "2022-12-01T07:53:50.418Z"
   },
   {
    "duration": 168,
    "start_time": "2022-12-01T07:53:50.425Z"
   },
   {
    "duration": 7,
    "start_time": "2022-12-01T07:53:50.595Z"
   },
   {
    "duration": 13,
    "start_time": "2022-12-01T07:53:50.604Z"
   },
   {
    "duration": 153,
    "start_time": "2022-12-01T07:53:50.619Z"
   },
   {
    "duration": 5,
    "start_time": "2022-12-01T07:53:50.776Z"
   },
   {
    "duration": 147,
    "start_time": "2022-12-01T07:53:50.783Z"
   },
   {
    "duration": 5,
    "start_time": "2022-12-01T07:53:50.932Z"
   },
   {
    "duration": 9,
    "start_time": "2022-12-01T07:53:50.939Z"
   },
   {
    "duration": 172,
    "start_time": "2022-12-01T07:53:50.949Z"
   },
   {
    "duration": 5,
    "start_time": "2022-12-01T07:53:51.123Z"
   },
   {
    "duration": 148,
    "start_time": "2022-12-01T07:53:51.130Z"
   },
   {
    "duration": 5,
    "start_time": "2022-12-01T07:53:51.279Z"
   },
   {
    "duration": 10,
    "start_time": "2022-12-01T07:53:51.291Z"
   },
   {
    "duration": 29,
    "start_time": "2022-12-01T07:53:51.302Z"
   },
   {
    "duration": 12,
    "start_time": "2022-12-01T07:53:51.332Z"
   },
   {
    "duration": 207,
    "start_time": "2022-12-01T07:53:51.346Z"
   },
   {
    "duration": 24,
    "start_time": "2022-12-01T07:53:51.555Z"
   },
   {
    "duration": 7,
    "start_time": "2022-12-01T07:53:51.581Z"
   },
   {
    "duration": 203,
    "start_time": "2022-12-01T07:53:51.589Z"
   },
   {
    "duration": 13,
    "start_time": "2022-12-01T07:53:51.794Z"
   },
   {
    "duration": 16,
    "start_time": "2022-12-01T07:53:51.809Z"
   },
   {
    "duration": 13,
    "start_time": "2022-12-01T07:53:51.827Z"
   },
   {
    "duration": 19,
    "start_time": "2022-12-01T07:53:51.842Z"
   },
   {
    "duration": 130,
    "start_time": "2022-12-01T07:53:51.863Z"
   },
   {
    "duration": 12,
    "start_time": "2022-12-01T07:53:51.994Z"
   },
   {
    "duration": 34,
    "start_time": "2022-12-01T07:53:52.007Z"
   },
   {
    "duration": 118,
    "start_time": "2022-12-01T07:53:52.043Z"
   },
   {
    "duration": 20,
    "start_time": "2022-12-01T07:53:52.162Z"
   },
   {
    "duration": 3,
    "start_time": "2022-12-01T07:53:52.183Z"
   },
   {
    "duration": 123,
    "start_time": "2022-12-01T07:53:52.188Z"
   },
   {
    "duration": 338,
    "start_time": "2022-12-01T07:53:52.313Z"
   },
   {
    "duration": 23,
    "start_time": "2022-12-01T07:53:52.653Z"
   },
   {
    "duration": 10,
    "start_time": "2022-12-01T07:53:52.678Z"
   },
   {
    "duration": 21,
    "start_time": "2022-12-01T07:53:52.689Z"
   },
   {
    "duration": 120,
    "start_time": "2022-12-01T07:53:52.712Z"
   },
   {
    "duration": 12,
    "start_time": "2022-12-01T07:53:52.833Z"
   },
   {
    "duration": 7,
    "start_time": "2022-12-01T07:53:52.847Z"
   },
   {
    "duration": 130,
    "start_time": "2022-12-01T07:53:52.856Z"
   },
   {
    "duration": 11,
    "start_time": "2022-12-01T07:53:52.988Z"
   },
   {
    "duration": 43,
    "start_time": "2022-12-01T07:53:53.001Z"
   },
   {
    "duration": 126,
    "start_time": "2022-12-01T07:53:53.046Z"
   },
   {
    "duration": 281,
    "start_time": "2022-12-01T07:53:53.173Z"
   },
   {
    "duration": 25,
    "start_time": "2022-12-01T07:53:53.456Z"
   },
   {
    "duration": 6,
    "start_time": "2022-12-01T07:53:53.483Z"
   },
   {
    "duration": 15,
    "start_time": "2022-12-01T07:53:53.491Z"
   },
   {
    "duration": 287,
    "start_time": "2022-12-01T07:58:58.834Z"
   },
   {
    "duration": 268,
    "start_time": "2022-12-01T07:59:35.603Z"
   },
   {
    "duration": 342,
    "start_time": "2022-12-01T07:59:56.808Z"
   },
   {
    "duration": 274,
    "start_time": "2022-12-01T08:00:39.668Z"
   },
   {
    "duration": 251,
    "start_time": "2022-12-01T08:00:53.540Z"
   },
   {
    "duration": 450,
    "start_time": "2022-12-01T08:01:33.828Z"
   },
   {
    "duration": 2,
    "start_time": "2022-12-01T08:01:34.281Z"
   },
   {
    "duration": 18,
    "start_time": "2022-12-01T08:01:34.285Z"
   },
   {
    "duration": 7,
    "start_time": "2022-12-01T08:01:34.306Z"
   },
   {
    "duration": 12,
    "start_time": "2022-12-01T08:01:34.315Z"
   },
   {
    "duration": 33,
    "start_time": "2022-12-01T08:01:34.328Z"
   },
   {
    "duration": 33,
    "start_time": "2022-12-01T08:01:34.363Z"
   },
   {
    "duration": 1090,
    "start_time": "2022-12-01T08:01:34.398Z"
   },
   {
    "duration": 5,
    "start_time": "2022-12-01T08:01:35.490Z"
   },
   {
    "duration": 17,
    "start_time": "2022-12-01T08:01:35.499Z"
   },
   {
    "duration": 7,
    "start_time": "2022-12-01T08:01:35.519Z"
   },
   {
    "duration": 10,
    "start_time": "2022-12-01T08:01:35.528Z"
   },
   {
    "duration": 38,
    "start_time": "2022-12-01T08:01:35.539Z"
   },
   {
    "duration": 4,
    "start_time": "2022-12-01T08:01:35.578Z"
   },
   {
    "duration": 12,
    "start_time": "2022-12-01T08:01:35.584Z"
   },
   {
    "duration": 14,
    "start_time": "2022-12-01T08:01:35.598Z"
   },
   {
    "duration": 7,
    "start_time": "2022-12-01T08:01:35.613Z"
   },
   {
    "duration": 18,
    "start_time": "2022-12-01T08:01:35.621Z"
   },
   {
    "duration": 27,
    "start_time": "2022-12-01T08:01:35.641Z"
   },
   {
    "duration": 13,
    "start_time": "2022-12-01T08:01:35.669Z"
   },
   {
    "duration": 8,
    "start_time": "2022-12-01T08:01:35.683Z"
   },
   {
    "duration": 20,
    "start_time": "2022-12-01T08:01:35.693Z"
   },
   {
    "duration": 15,
    "start_time": "2022-12-01T08:01:35.715Z"
   },
   {
    "duration": 7,
    "start_time": "2022-12-01T08:01:35.732Z"
   },
   {
    "duration": 6,
    "start_time": "2022-12-01T08:01:35.741Z"
   },
   {
    "duration": 28,
    "start_time": "2022-12-01T08:01:35.748Z"
   },
   {
    "duration": 7,
    "start_time": "2022-12-01T08:01:35.778Z"
   },
   {
    "duration": 44,
    "start_time": "2022-12-01T08:01:35.789Z"
   },
   {
    "duration": 51,
    "start_time": "2022-12-01T08:01:35.835Z"
   },
   {
    "duration": 9,
    "start_time": "2022-12-01T08:01:35.887Z"
   },
   {
    "duration": 11,
    "start_time": "2022-12-01T08:01:35.897Z"
   },
   {
    "duration": 239,
    "start_time": "2022-12-01T08:01:35.910Z"
   },
   {
    "duration": 10,
    "start_time": "2022-12-01T08:01:36.150Z"
   },
   {
    "duration": 7,
    "start_time": "2022-12-01T08:01:36.161Z"
   },
   {
    "duration": 3,
    "start_time": "2022-12-01T08:01:36.176Z"
   },
   {
    "duration": 212,
    "start_time": "2022-12-01T08:01:36.180Z"
   },
   {
    "duration": 9,
    "start_time": "2022-12-01T08:01:36.394Z"
   },
   {
    "duration": 27,
    "start_time": "2022-12-01T08:01:36.405Z"
   },
   {
    "duration": 6,
    "start_time": "2022-12-01T08:01:36.434Z"
   },
   {
    "duration": 10,
    "start_time": "2022-12-01T08:01:36.442Z"
   },
   {
    "duration": 16,
    "start_time": "2022-12-01T08:01:36.453Z"
   },
   {
    "duration": 13,
    "start_time": "2022-12-01T08:01:36.471Z"
   },
   {
    "duration": 259,
    "start_time": "2022-12-01T08:01:36.486Z"
   },
   {
    "duration": 13,
    "start_time": "2022-12-01T08:01:36.747Z"
   },
   {
    "duration": 536,
    "start_time": "2022-12-01T08:01:36.762Z"
   },
   {
    "duration": 5,
    "start_time": "2022-12-01T08:01:37.300Z"
   },
   {
    "duration": 21,
    "start_time": "2022-12-01T08:01:37.307Z"
   },
   {
    "duration": 16,
    "start_time": "2022-12-01T08:01:37.330Z"
   },
   {
    "duration": 14,
    "start_time": "2022-12-01T08:01:37.348Z"
   },
   {
    "duration": 16,
    "start_time": "2022-12-01T08:01:37.363Z"
   },
   {
    "duration": 201,
    "start_time": "2022-12-01T08:01:37.381Z"
   },
   {
    "duration": 16,
    "start_time": "2022-12-01T08:01:37.584Z"
   },
   {
    "duration": 9,
    "start_time": "2022-12-01T08:01:37.602Z"
   },
   {
    "duration": 11,
    "start_time": "2022-12-01T08:01:37.613Z"
   },
   {
    "duration": 7,
    "start_time": "2022-12-01T08:01:37.626Z"
   },
   {
    "duration": 11,
    "start_time": "2022-12-01T08:01:37.635Z"
   },
   {
    "duration": 33,
    "start_time": "2022-12-01T08:01:37.648Z"
   },
   {
    "duration": 6,
    "start_time": "2022-12-01T08:01:37.683Z"
   },
   {
    "duration": 24,
    "start_time": "2022-12-01T08:01:37.691Z"
   },
   {
    "duration": 8,
    "start_time": "2022-12-01T08:01:37.716Z"
   },
   {
    "duration": 278,
    "start_time": "2022-12-01T08:01:37.725Z"
   },
   {
    "duration": 206,
    "start_time": "2022-12-01T08:01:38.005Z"
   },
   {
    "duration": 200,
    "start_time": "2022-12-01T08:01:38.213Z"
   },
   {
    "duration": 36,
    "start_time": "2022-12-01T08:01:38.415Z"
   },
   {
    "duration": 209,
    "start_time": "2022-12-01T08:01:38.452Z"
   },
   {
    "duration": 39,
    "start_time": "2022-12-01T08:01:38.663Z"
   },
   {
    "duration": 5,
    "start_time": "2022-12-01T08:01:38.704Z"
   },
   {
    "duration": 248,
    "start_time": "2022-12-01T08:01:38.710Z"
   },
   {
    "duration": 5,
    "start_time": "2022-12-01T08:01:38.960Z"
   },
   {
    "duration": 168,
    "start_time": "2022-12-01T08:01:38.967Z"
   },
   {
    "duration": 5,
    "start_time": "2022-12-01T08:01:39.136Z"
   },
   {
    "duration": 8,
    "start_time": "2022-12-01T08:01:39.142Z"
   },
   {
    "duration": 144,
    "start_time": "2022-12-01T08:01:39.151Z"
   },
   {
    "duration": 5,
    "start_time": "2022-12-01T08:01:39.296Z"
   },
   {
    "duration": 149,
    "start_time": "2022-12-01T08:01:39.303Z"
   },
   {
    "duration": 5,
    "start_time": "2022-12-01T08:01:39.453Z"
   },
   {
    "duration": 20,
    "start_time": "2022-12-01T08:01:39.459Z"
   },
   {
    "duration": 164,
    "start_time": "2022-12-01T08:01:39.481Z"
   },
   {
    "duration": 6,
    "start_time": "2022-12-01T08:01:39.647Z"
   },
   {
    "duration": 161,
    "start_time": "2022-12-01T08:01:39.654Z"
   },
   {
    "duration": 6,
    "start_time": "2022-12-01T08:01:39.817Z"
   },
   {
    "duration": 25,
    "start_time": "2022-12-01T08:01:39.828Z"
   },
   {
    "duration": 12,
    "start_time": "2022-12-01T08:01:39.854Z"
   },
   {
    "duration": 10,
    "start_time": "2022-12-01T08:01:39.867Z"
   },
   {
    "duration": 191,
    "start_time": "2022-12-01T08:01:39.878Z"
   },
   {
    "duration": 15,
    "start_time": "2022-12-01T08:01:40.070Z"
   },
   {
    "duration": 13,
    "start_time": "2022-12-01T08:01:40.086Z"
   },
   {
    "duration": 197,
    "start_time": "2022-12-01T08:01:40.100Z"
   },
   {
    "duration": 10,
    "start_time": "2022-12-01T08:01:40.299Z"
   },
   {
    "duration": 12,
    "start_time": "2022-12-01T08:01:40.311Z"
   },
   {
    "duration": 10,
    "start_time": "2022-12-01T08:01:40.324Z"
   },
   {
    "duration": 34,
    "start_time": "2022-12-01T08:01:40.335Z"
   },
   {
    "duration": 143,
    "start_time": "2022-12-01T08:01:40.370Z"
   },
   {
    "duration": 10,
    "start_time": "2022-12-01T08:01:40.514Z"
   },
   {
    "duration": 2,
    "start_time": "2022-12-01T08:01:40.526Z"
   },
   {
    "duration": 119,
    "start_time": "2022-12-01T08:01:40.530Z"
   },
   {
    "duration": 11,
    "start_time": "2022-12-01T08:01:40.651Z"
   },
   {
    "duration": 14,
    "start_time": "2022-12-01T08:01:40.663Z"
   },
   {
    "duration": 117,
    "start_time": "2022-12-01T08:01:40.679Z"
   },
   {
    "duration": 310,
    "start_time": "2022-12-01T08:01:40.798Z"
   },
   {
    "duration": 11,
    "start_time": "2022-12-01T08:01:41.110Z"
   },
   {
    "duration": 12,
    "start_time": "2022-12-01T08:01:41.123Z"
   },
   {
    "duration": 7,
    "start_time": "2022-12-01T08:01:41.136Z"
   },
   {
    "duration": 119,
    "start_time": "2022-12-01T08:01:41.145Z"
   },
   {
    "duration": 14,
    "start_time": "2022-12-01T08:01:41.266Z"
   },
   {
    "duration": 5,
    "start_time": "2022-12-01T08:01:41.282Z"
   },
   {
    "duration": 114,
    "start_time": "2022-12-01T08:01:41.289Z"
   },
   {
    "duration": 12,
    "start_time": "2022-12-01T08:01:41.404Z"
   },
   {
    "duration": 3,
    "start_time": "2022-12-01T08:01:41.417Z"
   },
   {
    "duration": 125,
    "start_time": "2022-12-01T08:01:41.421Z"
   },
   {
    "duration": 307,
    "start_time": "2022-12-01T08:01:41.548Z"
   },
   {
    "duration": 20,
    "start_time": "2022-12-01T08:01:41.857Z"
   },
   {
    "duration": 10,
    "start_time": "2022-12-01T08:01:41.879Z"
   },
   {
    "duration": 22,
    "start_time": "2022-12-01T08:01:41.892Z"
   },
   {
    "duration": 124,
    "start_time": "2022-12-01T08:09:52.216Z"
   },
   {
    "duration": 117,
    "start_time": "2022-12-01T08:10:16.321Z"
   },
   {
    "duration": 3,
    "start_time": "2022-12-01T08:11:47.543Z"
   },
   {
    "duration": 18,
    "start_time": "2022-12-01T08:13:10.684Z"
   },
   {
    "duration": 87,
    "start_time": "2022-12-01T08:13:12.846Z"
   },
   {
    "duration": 138,
    "start_time": "2022-12-01T08:13:20.912Z"
   },
   {
    "duration": 8,
    "start_time": "2022-12-01T08:14:27.917Z"
   },
   {
    "duration": 3,
    "start_time": "2022-12-01T08:16:07.016Z"
   },
   {
    "duration": 13,
    "start_time": "2022-12-01T08:16:45.938Z"
   },
   {
    "duration": 8,
    "start_time": "2022-12-01T08:16:50.585Z"
   },
   {
    "duration": 123,
    "start_time": "2022-12-01T08:17:21.967Z"
   },
   {
    "duration": 5,
    "start_time": "2022-12-01T08:25:25.678Z"
   },
   {
    "duration": 237,
    "start_time": "2022-12-01T08:29:17.334Z"
   },
   {
    "duration": 111,
    "start_time": "2022-12-01T08:31:14.366Z"
   },
   {
    "duration": 7,
    "start_time": "2022-12-01T08:32:22.291Z"
   },
   {
    "duration": 107,
    "start_time": "2022-12-01T08:34:30.422Z"
   },
   {
    "duration": 313,
    "start_time": "2022-12-01T08:34:46.432Z"
   },
   {
    "duration": 7,
    "start_time": "2022-12-01T08:49:59.043Z"
   },
   {
    "duration": 7,
    "start_time": "2022-12-01T09:04:04.969Z"
   },
   {
    "duration": 7,
    "start_time": "2022-12-01T09:04:21.902Z"
   },
   {
    "duration": 8,
    "start_time": "2022-12-01T09:04:40.002Z"
   },
   {
    "duration": 29,
    "start_time": "2022-12-01T09:04:44.895Z"
   },
   {
    "duration": 24,
    "start_time": "2022-12-01T09:06:16.651Z"
   },
   {
    "duration": 8,
    "start_time": "2022-12-01T09:09:04.576Z"
   },
   {
    "duration": 5,
    "start_time": "2022-12-01T09:09:44.802Z"
   },
   {
    "duration": 10,
    "start_time": "2022-12-01T09:09:59.126Z"
   },
   {
    "duration": 8,
    "start_time": "2022-12-01T09:10:01.431Z"
   },
   {
    "duration": 18,
    "start_time": "2022-12-01T09:10:23.675Z"
   },
   {
    "duration": 9,
    "start_time": "2022-12-01T09:11:32.667Z"
   },
   {
    "duration": 414,
    "start_time": "2022-12-01T09:12:29.021Z"
   },
   {
    "duration": 5,
    "start_time": "2022-12-01T09:29:11.416Z"
   },
   {
    "duration": 5,
    "start_time": "2022-12-01T09:41:27.613Z"
   },
   {
    "duration": 12,
    "start_time": "2022-12-01T09:42:04.963Z"
   },
   {
    "duration": 9,
    "start_time": "2022-12-01T09:42:11.323Z"
   },
   {
    "duration": 13,
    "start_time": "2022-12-01T09:42:51.102Z"
   },
   {
    "duration": 13,
    "start_time": "2022-12-01T09:42:54.094Z"
   },
   {
    "duration": 7,
    "start_time": "2022-12-01T09:43:23.273Z"
   },
   {
    "duration": 14,
    "start_time": "2022-12-01T09:43:25.255Z"
   },
   {
    "duration": 15,
    "start_time": "2022-12-01T09:43:27.742Z"
   },
   {
    "duration": 14,
    "start_time": "2022-12-01T09:44:00.136Z"
   },
   {
    "duration": 13,
    "start_time": "2022-12-01T09:44:02.791Z"
   },
   {
    "duration": 5,
    "start_time": "2022-12-01T10:39:03.009Z"
   },
   {
    "duration": 4,
    "start_time": "2022-12-01T12:00:47.245Z"
   },
   {
    "duration": 6,
    "start_time": "2022-12-01T12:01:00.661Z"
   },
   {
    "duration": 12,
    "start_time": "2022-12-01T12:01:16.555Z"
   },
   {
    "duration": 7,
    "start_time": "2022-12-01T12:01:24.191Z"
   },
   {
    "duration": 187,
    "start_time": "2022-12-01T12:01:30.121Z"
   },
   {
    "duration": 5,
    "start_time": "2022-12-01T12:04:14.101Z"
   },
   {
    "duration": 6,
    "start_time": "2022-12-01T12:04:23.571Z"
   },
   {
    "duration": 8,
    "start_time": "2022-12-01T12:04:38.175Z"
   },
   {
    "duration": 14,
    "start_time": "2022-12-01T12:06:12.768Z"
   },
   {
    "duration": 7,
    "start_time": "2022-12-01T12:06:57.274Z"
   },
   {
    "duration": 13,
    "start_time": "2022-12-01T12:07:15.531Z"
   },
   {
    "duration": 7,
    "start_time": "2022-12-01T12:07:17.610Z"
   },
   {
    "duration": 111,
    "start_time": "2022-12-01T12:07:22.158Z"
   },
   {
    "duration": 3,
    "start_time": "2022-12-01T12:10:03.748Z"
   },
   {
    "duration": 5,
    "start_time": "2022-12-01T12:10:19.344Z"
   },
   {
    "duration": 9,
    "start_time": "2022-12-01T12:10:29.585Z"
   },
   {
    "duration": 4,
    "start_time": "2022-12-01T12:10:31.501Z"
   },
   {
    "duration": 56,
    "start_time": "2022-12-01T12:10:48.937Z"
   },
   {
    "duration": 12,
    "start_time": "2022-12-01T12:10:58.292Z"
   },
   {
    "duration": 7,
    "start_time": "2022-12-01T12:11:00.646Z"
   },
   {
    "duration": 129,
    "start_time": "2022-12-01T12:11:03.542Z"
   },
   {
    "duration": 4,
    "start_time": "2022-12-01T12:12:45.431Z"
   },
   {
    "duration": 4,
    "start_time": "2022-12-01T12:12:47.735Z"
   },
   {
    "duration": 12,
    "start_time": "2022-12-01T12:12:50.522Z"
   },
   {
    "duration": 134,
    "start_time": "2022-12-01T12:12:53.974Z"
   },
   {
    "duration": 297,
    "start_time": "2022-12-01T12:13:01.697Z"
   },
   {
    "duration": 3,
    "start_time": "2022-12-01T12:15:02.156Z"
   },
   {
    "duration": 6,
    "start_time": "2022-12-01T12:15:04.598Z"
   },
   {
    "duration": 13,
    "start_time": "2022-12-01T12:15:06.761Z"
   },
   {
    "duration": 7,
    "start_time": "2022-12-01T12:15:13.668Z"
   },
   {
    "duration": 123,
    "start_time": "2022-12-01T12:15:28.045Z"
   },
   {
    "duration": 3,
    "start_time": "2022-12-01T12:16:40.268Z"
   },
   {
    "duration": 5,
    "start_time": "2022-12-01T12:16:42.371Z"
   },
   {
    "duration": 12,
    "start_time": "2022-12-01T12:16:44.541Z"
   },
   {
    "duration": 115,
    "start_time": "2022-12-01T12:16:48.906Z"
   },
   {
    "duration": 4,
    "start_time": "2022-12-01T12:18:11.217Z"
   },
   {
    "duration": 5,
    "start_time": "2022-12-01T12:18:13.660Z"
   },
   {
    "duration": 12,
    "start_time": "2022-12-01T12:18:16.195Z"
   },
   {
    "duration": 156,
    "start_time": "2022-12-01T12:18:19.379Z"
   },
   {
    "duration": 311,
    "start_time": "2022-12-01T12:19:57.848Z"
   },
   {
    "duration": 53,
    "start_time": "2022-12-01T15:05:19.484Z"
   },
   {
    "duration": 578,
    "start_time": "2022-12-01T15:14:14.908Z"
   },
   {
    "duration": 2,
    "start_time": "2022-12-01T15:14:15.488Z"
   },
   {
    "duration": 15,
    "start_time": "2022-12-01T15:14:15.492Z"
   },
   {
    "duration": 6,
    "start_time": "2022-12-01T15:14:15.509Z"
   },
   {
    "duration": 11,
    "start_time": "2022-12-01T15:14:15.517Z"
   },
   {
    "duration": 28,
    "start_time": "2022-12-01T15:14:15.530Z"
   },
   {
    "duration": 25,
    "start_time": "2022-12-01T15:14:15.560Z"
   },
   {
    "duration": 1175,
    "start_time": "2022-12-01T15:14:15.587Z"
   },
   {
    "duration": 14,
    "start_time": "2022-12-01T15:14:16.764Z"
   },
   {
    "duration": 21,
    "start_time": "2022-12-01T15:14:16.780Z"
   },
   {
    "duration": 4,
    "start_time": "2022-12-01T15:14:16.802Z"
   },
   {
    "duration": 11,
    "start_time": "2022-12-01T15:14:16.808Z"
   },
   {
    "duration": 79,
    "start_time": "2022-12-01T15:14:16.821Z"
   },
   {
    "duration": 18,
    "start_time": "2022-12-01T15:14:16.902Z"
   },
   {
    "duration": 10,
    "start_time": "2022-12-01T15:14:16.921Z"
   },
   {
    "duration": 13,
    "start_time": "2022-12-01T15:14:16.932Z"
   },
   {
    "duration": 11,
    "start_time": "2022-12-01T15:14:16.947Z"
   },
   {
    "duration": 8,
    "start_time": "2022-12-01T15:14:16.959Z"
   },
   {
    "duration": 15,
    "start_time": "2022-12-01T15:14:16.968Z"
   },
   {
    "duration": 11,
    "start_time": "2022-12-01T15:14:16.984Z"
   },
   {
    "duration": 7,
    "start_time": "2022-12-01T15:14:16.997Z"
   },
   {
    "duration": 14,
    "start_time": "2022-12-01T15:14:17.005Z"
   },
   {
    "duration": 20,
    "start_time": "2022-12-01T15:14:17.020Z"
   },
   {
    "duration": 6,
    "start_time": "2022-12-01T15:14:17.041Z"
   },
   {
    "duration": 10,
    "start_time": "2022-12-01T15:14:17.048Z"
   },
   {
    "duration": 4,
    "start_time": "2022-12-01T15:14:17.076Z"
   },
   {
    "duration": 13,
    "start_time": "2022-12-01T15:14:17.081Z"
   },
   {
    "duration": 41,
    "start_time": "2022-12-01T15:14:17.098Z"
   },
   {
    "duration": 45,
    "start_time": "2022-12-01T15:14:17.140Z"
   },
   {
    "duration": 8,
    "start_time": "2022-12-01T15:14:17.186Z"
   },
   {
    "duration": 6,
    "start_time": "2022-12-01T15:14:17.196Z"
   },
   {
    "duration": 224,
    "start_time": "2022-12-01T15:14:17.203Z"
   },
   {
    "duration": 11,
    "start_time": "2022-12-01T15:14:17.428Z"
   },
   {
    "duration": 12,
    "start_time": "2022-12-01T15:14:17.441Z"
   },
   {
    "duration": 4,
    "start_time": "2022-12-01T15:14:17.454Z"
   },
   {
    "duration": 218,
    "start_time": "2022-12-01T15:14:17.460Z"
   },
   {
    "duration": 11,
    "start_time": "2022-12-01T15:14:17.679Z"
   },
   {
    "duration": 14,
    "start_time": "2022-12-01T15:14:17.692Z"
   },
   {
    "duration": 6,
    "start_time": "2022-12-01T15:14:17.708Z"
   },
   {
    "duration": 8,
    "start_time": "2022-12-01T15:14:17.716Z"
   },
   {
    "duration": 18,
    "start_time": "2022-12-01T15:14:17.726Z"
   },
   {
    "duration": 33,
    "start_time": "2022-12-01T15:14:17.745Z"
   },
   {
    "duration": 273,
    "start_time": "2022-12-01T15:14:17.780Z"
   },
   {
    "duration": 14,
    "start_time": "2022-12-01T15:14:18.055Z"
   },
   {
    "duration": 513,
    "start_time": "2022-12-01T15:14:18.071Z"
   },
   {
    "duration": 6,
    "start_time": "2022-12-01T15:14:18.586Z"
   },
   {
    "duration": 13,
    "start_time": "2022-12-01T15:14:18.594Z"
   },
   {
    "duration": 5,
    "start_time": "2022-12-01T15:14:18.609Z"
   },
   {
    "duration": 14,
    "start_time": "2022-12-01T15:14:18.615Z"
   },
   {
    "duration": 14,
    "start_time": "2022-12-01T15:14:18.630Z"
   },
   {
    "duration": 206,
    "start_time": "2022-12-01T15:14:18.645Z"
   },
   {
    "duration": 13,
    "start_time": "2022-12-01T15:14:18.853Z"
   },
   {
    "duration": 32,
    "start_time": "2022-12-01T15:14:18.867Z"
   },
   {
    "duration": 12,
    "start_time": "2022-12-01T15:14:18.901Z"
   },
   {
    "duration": 18,
    "start_time": "2022-12-01T15:14:18.914Z"
   },
   {
    "duration": 36,
    "start_time": "2022-12-01T15:14:18.933Z"
   },
   {
    "duration": 28,
    "start_time": "2022-12-01T15:14:18.971Z"
   },
   {
    "duration": 25,
    "start_time": "2022-12-01T15:14:19.001Z"
   },
   {
    "duration": 25,
    "start_time": "2022-12-01T15:14:19.028Z"
   },
   {
    "duration": 32,
    "start_time": "2022-12-01T15:14:19.055Z"
   },
   {
    "duration": 310,
    "start_time": "2022-12-01T15:14:19.089Z"
   },
   {
    "duration": 233,
    "start_time": "2022-12-01T15:14:19.401Z"
   },
   {
    "duration": 207,
    "start_time": "2022-12-01T15:14:19.636Z"
   },
   {
    "duration": 46,
    "start_time": "2022-12-01T15:14:19.844Z"
   },
   {
    "duration": 280,
    "start_time": "2022-12-01T15:14:19.892Z"
   },
   {
    "duration": 38,
    "start_time": "2022-12-01T15:14:20.175Z"
   },
   {
    "duration": 6,
    "start_time": "2022-12-01T15:14:20.215Z"
   },
   {
    "duration": 181,
    "start_time": "2022-12-01T15:14:20.222Z"
   },
   {
    "duration": 5,
    "start_time": "2022-12-01T15:14:20.404Z"
   },
   {
    "duration": 167,
    "start_time": "2022-12-01T15:14:20.411Z"
   },
   {
    "duration": 5,
    "start_time": "2022-12-01T15:14:20.580Z"
   },
   {
    "duration": 17,
    "start_time": "2022-12-01T15:14:20.586Z"
   },
   {
    "duration": 136,
    "start_time": "2022-12-01T15:14:20.604Z"
   },
   {
    "duration": 5,
    "start_time": "2022-12-01T15:14:20.742Z"
   },
   {
    "duration": 150,
    "start_time": "2022-12-01T15:14:20.749Z"
   },
   {
    "duration": 4,
    "start_time": "2022-12-01T15:14:20.901Z"
   },
   {
    "duration": 24,
    "start_time": "2022-12-01T15:14:20.907Z"
   },
   {
    "duration": 162,
    "start_time": "2022-12-01T15:14:20.933Z"
   },
   {
    "duration": 5,
    "start_time": "2022-12-01T15:14:21.097Z"
   },
   {
    "duration": 153,
    "start_time": "2022-12-01T15:14:21.104Z"
   },
   {
    "duration": 5,
    "start_time": "2022-12-01T15:14:21.259Z"
   },
   {
    "duration": 9,
    "start_time": "2022-12-01T15:14:21.281Z"
   },
   {
    "duration": 11,
    "start_time": "2022-12-01T15:14:21.292Z"
   },
   {
    "duration": 6,
    "start_time": "2022-12-01T15:14:21.305Z"
   },
   {
    "duration": 206,
    "start_time": "2022-12-01T15:14:21.313Z"
   },
   {
    "duration": 14,
    "start_time": "2022-12-01T15:14:21.521Z"
   },
   {
    "duration": 21,
    "start_time": "2022-12-01T15:14:21.537Z"
   },
   {
    "duration": 200,
    "start_time": "2022-12-01T15:14:21.560Z"
   },
   {
    "duration": 20,
    "start_time": "2022-12-01T15:14:21.762Z"
   },
   {
    "duration": 7,
    "start_time": "2022-12-01T15:14:21.783Z"
   },
   {
    "duration": 8,
    "start_time": "2022-12-01T15:14:21.792Z"
   },
   {
    "duration": 25,
    "start_time": "2022-12-01T15:14:21.801Z"
   },
   {
    "duration": 6,
    "start_time": "2022-12-01T15:14:21.827Z"
   },
   {
    "duration": 6,
    "start_time": "2022-12-01T15:14:21.835Z"
   },
   {
    "duration": 17,
    "start_time": "2022-12-01T15:14:21.842Z"
   },
   {
    "duration": 6,
    "start_time": "2022-12-01T15:14:21.860Z"
   },
   {
    "duration": 130,
    "start_time": "2022-12-01T15:14:21.868Z"
   },
   {
    "duration": 12,
    "start_time": "2022-12-01T15:14:22.000Z"
   },
   {
    "duration": 7,
    "start_time": "2022-12-01T15:14:22.013Z"
   },
   {
    "duration": 6,
    "start_time": "2022-12-01T15:14:22.021Z"
   },
   {
    "duration": 9,
    "start_time": "2022-12-01T15:14:22.028Z"
   },
   {
    "duration": 19,
    "start_time": "2022-12-01T15:14:22.038Z"
   },
   {
    "duration": 132,
    "start_time": "2022-12-01T15:14:22.058Z"
   },
   {
    "duration": 12,
    "start_time": "2022-12-01T15:14:22.191Z"
   },
   {
    "duration": 2,
    "start_time": "2022-12-01T15:14:22.205Z"
   },
   {
    "duration": 6,
    "start_time": "2022-12-01T15:14:22.209Z"
   },
   {
    "duration": 8,
    "start_time": "2022-12-01T15:14:22.216Z"
   },
   {
    "duration": 16,
    "start_time": "2022-12-01T15:14:22.226Z"
   },
   {
    "duration": 204,
    "start_time": "2022-12-01T15:14:22.244Z"
   },
   {
    "duration": 296,
    "start_time": "2022-12-01T15:14:22.449Z"
   },
   {
    "duration": 12,
    "start_time": "2022-12-01T15:14:22.747Z"
   },
   {
    "duration": 26,
    "start_time": "2022-12-01T15:14:22.761Z"
   },
   {
    "duration": 8,
    "start_time": "2022-12-01T15:14:22.788Z"
   },
   {
    "duration": 14,
    "start_time": "2022-12-01T15:14:22.798Z"
   },
   {
    "duration": 12,
    "start_time": "2022-12-01T15:14:22.814Z"
   },
   {
    "duration": 21,
    "start_time": "2022-12-01T15:14:22.827Z"
   },
   {
    "duration": 125,
    "start_time": "2022-12-01T15:14:22.850Z"
   },
   {
    "duration": 13,
    "start_time": "2022-12-01T15:14:22.977Z"
   },
   {
    "duration": 3,
    "start_time": "2022-12-01T15:14:22.991Z"
   },
   {
    "duration": 6,
    "start_time": "2022-12-01T15:14:22.995Z"
   },
   {
    "duration": 12,
    "start_time": "2022-12-01T15:14:23.003Z"
   },
   {
    "duration": 17,
    "start_time": "2022-12-01T15:14:23.016Z"
   },
   {
    "duration": 131,
    "start_time": "2022-12-01T15:14:23.035Z"
   },
   {
    "duration": 13,
    "start_time": "2022-12-01T15:14:23.175Z"
   },
   {
    "duration": 4,
    "start_time": "2022-12-01T15:14:23.189Z"
   },
   {
    "duration": 10,
    "start_time": "2022-12-01T15:14:23.194Z"
   },
   {
    "duration": 9,
    "start_time": "2022-12-01T15:14:23.205Z"
   },
   {
    "duration": 17,
    "start_time": "2022-12-01T15:14:23.215Z"
   },
   {
    "duration": 128,
    "start_time": "2022-12-01T15:14:23.233Z"
   },
   {
    "duration": 310,
    "start_time": "2022-12-01T15:14:23.362Z"
   },
   {
    "duration": 14,
    "start_time": "2022-12-01T15:14:23.673Z"
   },
   {
    "duration": 15,
    "start_time": "2022-12-01T15:14:23.689Z"
   },
   {
    "duration": 141,
    "start_time": "2022-12-01T15:14:23.706Z"
   },
   {
    "duration": 13,
    "start_time": "2022-12-01T15:14:23.849Z"
   },
   {
    "duration": 6,
    "start_time": "2022-12-01T15:14:23.876Z"
   },
   {
    "duration": 137,
    "start_time": "2022-12-01T15:14:23.884Z"
   },
   {
    "duration": 12,
    "start_time": "2022-12-01T15:14:24.023Z"
   },
   {
    "duration": 6,
    "start_time": "2022-12-01T15:14:24.037Z"
   },
   {
    "duration": 137,
    "start_time": "2022-12-01T15:14:24.045Z"
   },
   {
    "duration": 375,
    "start_time": "2022-12-01T15:14:24.183Z"
   },
   {
    "duration": 19,
    "start_time": "2022-12-01T15:14:24.560Z"
   },
   {
    "duration": 435,
    "start_time": "2022-12-01T15:14:24.581Z"
   },
   {
    "duration": 11,
    "start_time": "2022-12-01T15:14:25.019Z"
   },
   {
    "duration": 11,
    "start_time": "2022-12-01T15:14:25.032Z"
   },
   {
    "duration": 7,
    "start_time": "2022-12-01T15:18:19.917Z"
   },
   {
    "duration": 12,
    "start_time": "2022-12-01T15:18:35.170Z"
   },
   {
    "duration": 8,
    "start_time": "2022-12-01T15:18:44.053Z"
   },
   {
    "duration": 503,
    "start_time": "2022-12-01T15:19:27.787Z"
   },
   {
    "duration": 3,
    "start_time": "2022-12-01T15:19:28.292Z"
   },
   {
    "duration": 12,
    "start_time": "2022-12-01T15:19:28.297Z"
   },
   {
    "duration": 12,
    "start_time": "2022-12-01T15:19:28.311Z"
   },
   {
    "duration": 12,
    "start_time": "2022-12-01T15:19:28.324Z"
   },
   {
    "duration": 19,
    "start_time": "2022-12-01T15:19:28.338Z"
   },
   {
    "duration": 29,
    "start_time": "2022-12-01T15:19:28.359Z"
   },
   {
    "duration": 961,
    "start_time": "2022-12-01T15:19:28.390Z"
   },
   {
    "duration": 5,
    "start_time": "2022-12-01T15:19:29.352Z"
   },
   {
    "duration": 35,
    "start_time": "2022-12-01T15:19:29.359Z"
   },
   {
    "duration": 4,
    "start_time": "2022-12-01T15:19:29.396Z"
   },
   {
    "duration": 9,
    "start_time": "2022-12-01T15:19:29.402Z"
   },
   {
    "duration": 13,
    "start_time": "2022-12-01T15:19:29.413Z"
   },
   {
    "duration": 6,
    "start_time": "2022-12-01T15:19:29.428Z"
   },
   {
    "duration": 7,
    "start_time": "2022-12-01T15:19:29.436Z"
   },
   {
    "duration": 35,
    "start_time": "2022-12-01T15:19:29.444Z"
   },
   {
    "duration": 5,
    "start_time": "2022-12-01T15:19:29.481Z"
   },
   {
    "duration": 10,
    "start_time": "2022-12-01T15:19:29.488Z"
   },
   {
    "duration": 26,
    "start_time": "2022-12-01T15:19:29.499Z"
   },
   {
    "duration": 20,
    "start_time": "2022-12-01T15:19:29.527Z"
   },
   {
    "duration": 17,
    "start_time": "2022-12-01T15:19:29.549Z"
   },
   {
    "duration": 16,
    "start_time": "2022-12-01T15:19:29.569Z"
   },
   {
    "duration": 19,
    "start_time": "2022-12-01T15:19:29.586Z"
   },
   {
    "duration": 7,
    "start_time": "2022-12-01T15:19:29.606Z"
   },
   {
    "duration": 6,
    "start_time": "2022-12-01T15:19:29.615Z"
   },
   {
    "duration": 7,
    "start_time": "2022-12-01T15:19:29.622Z"
   },
   {
    "duration": 46,
    "start_time": "2022-12-01T15:19:29.630Z"
   },
   {
    "duration": 74,
    "start_time": "2022-12-01T15:19:29.681Z"
   },
   {
    "duration": 72,
    "start_time": "2022-12-01T15:19:29.758Z"
   },
   {
    "duration": 9,
    "start_time": "2022-12-01T15:19:29.832Z"
   },
   {
    "duration": 3,
    "start_time": "2022-12-01T15:19:29.843Z"
   },
   {
    "duration": 254,
    "start_time": "2022-12-01T15:19:29.847Z"
   },
   {
    "duration": 9,
    "start_time": "2022-12-01T15:19:30.103Z"
   },
   {
    "duration": 37,
    "start_time": "2022-12-01T15:19:30.114Z"
   },
   {
    "duration": 20,
    "start_time": "2022-12-01T15:19:30.153Z"
   },
   {
    "duration": 293,
    "start_time": "2022-12-01T15:19:30.174Z"
   },
   {
    "duration": 11,
    "start_time": "2022-12-01T15:19:30.476Z"
   },
   {
    "duration": 27,
    "start_time": "2022-12-01T15:19:30.488Z"
   },
   {
    "duration": 14,
    "start_time": "2022-12-01T15:19:30.516Z"
   },
   {
    "duration": 33,
    "start_time": "2022-12-01T15:19:30.531Z"
   },
   {
    "duration": 41,
    "start_time": "2022-12-01T15:19:30.566Z"
   },
   {
    "duration": 58,
    "start_time": "2022-12-01T15:19:30.609Z"
   },
   {
    "duration": 292,
    "start_time": "2022-12-01T15:19:30.669Z"
   },
   {
    "duration": 16,
    "start_time": "2022-12-01T15:19:30.963Z"
   },
   {
    "duration": 617,
    "start_time": "2022-12-01T15:19:30.983Z"
   },
   {
    "duration": 6,
    "start_time": "2022-12-01T15:19:31.601Z"
   },
   {
    "duration": 44,
    "start_time": "2022-12-01T15:19:31.608Z"
   },
   {
    "duration": 50,
    "start_time": "2022-12-01T15:19:31.653Z"
   },
   {
    "duration": 63,
    "start_time": "2022-12-01T15:19:31.704Z"
   },
   {
    "duration": 28,
    "start_time": "2022-12-01T15:19:31.769Z"
   },
   {
    "duration": 183,
    "start_time": "2022-12-01T15:19:31.799Z"
   },
   {
    "duration": 13,
    "start_time": "2022-12-01T15:19:31.983Z"
   },
   {
    "duration": 24,
    "start_time": "2022-12-01T15:19:31.998Z"
   },
   {
    "duration": 11,
    "start_time": "2022-12-01T15:19:32.023Z"
   },
   {
    "duration": 25,
    "start_time": "2022-12-01T15:19:32.035Z"
   },
   {
    "duration": 36,
    "start_time": "2022-12-01T15:19:32.061Z"
   },
   {
    "duration": 37,
    "start_time": "2022-12-01T15:19:32.099Z"
   },
   {
    "duration": 12,
    "start_time": "2022-12-01T15:19:32.138Z"
   },
   {
    "duration": 29,
    "start_time": "2022-12-01T15:19:32.152Z"
   },
   {
    "duration": 18,
    "start_time": "2022-12-01T15:19:32.182Z"
   },
   {
    "duration": 324,
    "start_time": "2022-12-01T15:19:32.202Z"
   },
   {
    "duration": 233,
    "start_time": "2022-12-01T15:19:32.528Z"
   },
   {
    "duration": 226,
    "start_time": "2022-12-01T15:19:32.764Z"
   },
   {
    "duration": 41,
    "start_time": "2022-12-01T15:19:32.992Z"
   },
   {
    "duration": 234,
    "start_time": "2022-12-01T15:19:33.034Z"
   },
   {
    "duration": 44,
    "start_time": "2022-12-01T15:19:33.269Z"
   },
   {
    "duration": 41,
    "start_time": "2022-12-01T15:19:33.314Z"
   },
   {
    "duration": 260,
    "start_time": "2022-12-01T15:19:33.356Z"
   },
   {
    "duration": 5,
    "start_time": "2022-12-01T15:19:33.618Z"
   },
   {
    "duration": 209,
    "start_time": "2022-12-01T15:19:33.625Z"
   },
   {
    "duration": 6,
    "start_time": "2022-12-01T15:19:33.836Z"
   },
   {
    "duration": 17,
    "start_time": "2022-12-01T15:19:33.843Z"
   },
   {
    "duration": 160,
    "start_time": "2022-12-01T15:19:33.861Z"
   },
   {
    "duration": 5,
    "start_time": "2022-12-01T15:19:34.022Z"
   },
   {
    "duration": 150,
    "start_time": "2022-12-01T15:19:34.028Z"
   },
   {
    "duration": 6,
    "start_time": "2022-12-01T15:19:34.179Z"
   },
   {
    "duration": 15,
    "start_time": "2022-12-01T15:19:34.186Z"
   },
   {
    "duration": 186,
    "start_time": "2022-12-01T15:19:34.204Z"
   },
   {
    "duration": 7,
    "start_time": "2022-12-01T15:19:34.391Z"
   },
   {
    "duration": 166,
    "start_time": "2022-12-01T15:19:34.400Z"
   },
   {
    "duration": 9,
    "start_time": "2022-12-01T15:19:34.568Z"
   },
   {
    "duration": 18,
    "start_time": "2022-12-01T15:19:34.583Z"
   },
   {
    "duration": 11,
    "start_time": "2022-12-01T15:19:34.603Z"
   },
   {
    "duration": 13,
    "start_time": "2022-12-01T15:19:34.616Z"
   },
   {
    "duration": 259,
    "start_time": "2022-12-01T15:19:34.631Z"
   },
   {
    "duration": 17,
    "start_time": "2022-12-01T15:19:34.893Z"
   },
   {
    "duration": 28,
    "start_time": "2022-12-01T15:19:34.913Z"
   },
   {
    "duration": 295,
    "start_time": "2022-12-01T15:19:34.944Z"
   },
   {
    "duration": 19,
    "start_time": "2022-12-01T15:19:35.241Z"
   },
   {
    "duration": 24,
    "start_time": "2022-12-01T15:19:35.262Z"
   },
   {
    "duration": 7,
    "start_time": "2022-12-01T15:19:35.288Z"
   },
   {
    "duration": 30,
    "start_time": "2022-12-01T15:19:35.297Z"
   },
   {
    "duration": 13,
    "start_time": "2022-12-01T15:19:35.329Z"
   },
   {
    "duration": 9,
    "start_time": "2022-12-01T15:19:35.344Z"
   },
   {
    "duration": 17,
    "start_time": "2022-12-01T15:19:35.354Z"
   },
   {
    "duration": 14,
    "start_time": "2022-12-01T15:19:35.373Z"
   },
   {
    "duration": 166,
    "start_time": "2022-12-01T15:19:35.390Z"
   },
   {
    "duration": 22,
    "start_time": "2022-12-01T15:19:35.558Z"
   },
   {
    "duration": 4,
    "start_time": "2022-12-01T15:19:35.582Z"
   },
   {
    "duration": 13,
    "start_time": "2022-12-01T15:19:35.587Z"
   },
   {
    "duration": 8,
    "start_time": "2022-12-01T15:19:35.601Z"
   },
   {
    "duration": 14,
    "start_time": "2022-12-01T15:19:35.611Z"
   },
   {
    "duration": 140,
    "start_time": "2022-12-01T15:19:35.627Z"
   },
   {
    "duration": 19,
    "start_time": "2022-12-01T15:19:35.769Z"
   },
   {
    "duration": 62,
    "start_time": "2022-12-01T15:19:35.790Z"
   },
   {
    "duration": 102,
    "start_time": "2022-12-01T15:19:35.853Z"
   },
   {
    "duration": 6,
    "start_time": "2022-12-01T15:19:35.957Z"
   },
   {
    "duration": 19,
    "start_time": "2022-12-01T15:19:35.965Z"
   },
   {
    "duration": 139,
    "start_time": "2022-12-01T15:19:35.986Z"
   },
   {
    "duration": 400,
    "start_time": "2022-12-01T15:19:36.127Z"
   },
   {
    "duration": 15,
    "start_time": "2022-12-01T15:19:36.529Z"
   },
   {
    "duration": 9,
    "start_time": "2022-12-01T15:19:36.545Z"
   },
   {
    "duration": 23,
    "start_time": "2022-12-01T15:19:36.556Z"
   },
   {
    "duration": 10,
    "start_time": "2022-12-01T15:19:36.581Z"
   },
   {
    "duration": 9,
    "start_time": "2022-12-01T15:19:36.593Z"
   },
   {
    "duration": 14,
    "start_time": "2022-12-01T15:19:36.604Z"
   },
   {
    "duration": 156,
    "start_time": "2022-12-01T15:19:36.620Z"
   },
   {
    "duration": 14,
    "start_time": "2022-12-01T15:19:36.778Z"
   },
   {
    "duration": 10,
    "start_time": "2022-12-01T15:19:36.793Z"
   },
   {
    "duration": 7,
    "start_time": "2022-12-01T15:19:36.804Z"
   },
   {
    "duration": 8,
    "start_time": "2022-12-01T15:19:36.813Z"
   },
   {
    "duration": 16,
    "start_time": "2022-12-01T15:19:36.823Z"
   },
   {
    "duration": 154,
    "start_time": "2022-12-01T15:19:36.841Z"
   },
   {
    "duration": 13,
    "start_time": "2022-12-01T15:19:36.997Z"
   },
   {
    "duration": 3,
    "start_time": "2022-12-01T15:19:37.012Z"
   },
   {
    "duration": 10,
    "start_time": "2022-12-01T15:19:37.017Z"
   },
   {
    "duration": 9,
    "start_time": "2022-12-01T15:19:37.029Z"
   },
   {
    "duration": 38,
    "start_time": "2022-12-01T15:19:37.039Z"
   },
   {
    "duration": 149,
    "start_time": "2022-12-01T15:19:37.079Z"
   },
   {
    "duration": 350,
    "start_time": "2022-12-01T15:19:37.230Z"
   },
   {
    "duration": 16,
    "start_time": "2022-12-01T15:19:37.582Z"
   },
   {
    "duration": 11,
    "start_time": "2022-12-01T15:19:37.600Z"
   },
   {
    "duration": 172,
    "start_time": "2022-12-01T15:19:37.614Z"
   },
   {
    "duration": 17,
    "start_time": "2022-12-01T15:19:37.788Z"
   },
   {
    "duration": 9,
    "start_time": "2022-12-01T15:19:37.808Z"
   },
   {
    "duration": 187,
    "start_time": "2022-12-01T15:19:37.820Z"
   },
   {
    "duration": 15,
    "start_time": "2022-12-01T15:19:38.009Z"
   },
   {
    "duration": 10,
    "start_time": "2022-12-01T15:19:38.026Z"
   },
   {
    "duration": 172,
    "start_time": "2022-12-01T15:19:38.039Z"
   },
   {
    "duration": 412,
    "start_time": "2022-12-01T15:19:38.213Z"
   },
   {
    "duration": 9,
    "start_time": "2022-12-01T15:19:38.627Z"
   },
   {
    "duration": 455,
    "start_time": "2022-12-01T15:19:38.638Z"
   },
   {
    "duration": 10,
    "start_time": "2022-12-01T15:19:39.094Z"
   },
   {
    "duration": 8,
    "start_time": "2022-12-01T15:19:39.105Z"
   },
   {
    "duration": 753,
    "start_time": "2022-12-01T15:36:27.505Z"
   },
   {
    "duration": 6,
    "start_time": "2022-12-01T15:36:28.260Z"
   },
   {
    "duration": 25,
    "start_time": "2022-12-01T15:36:28.268Z"
   },
   {
    "duration": 12,
    "start_time": "2022-12-01T15:36:28.296Z"
   },
   {
    "duration": 36,
    "start_time": "2022-12-01T15:36:28.311Z"
   },
   {
    "duration": 60,
    "start_time": "2022-12-01T15:36:28.349Z"
   },
   {
    "duration": 53,
    "start_time": "2022-12-01T15:36:28.411Z"
   },
   {
    "duration": 1281,
    "start_time": "2022-12-01T15:36:28.466Z"
   },
   {
    "duration": 5,
    "start_time": "2022-12-01T15:36:29.749Z"
   },
   {
    "duration": 25,
    "start_time": "2022-12-01T15:36:29.758Z"
   },
   {
    "duration": 6,
    "start_time": "2022-12-01T15:36:29.785Z"
   },
   {
    "duration": 33,
    "start_time": "2022-12-01T15:36:29.793Z"
   },
   {
    "duration": 83,
    "start_time": "2022-12-01T15:36:29.828Z"
   },
   {
    "duration": 12,
    "start_time": "2022-12-01T15:36:29.913Z"
   },
   {
    "duration": 8,
    "start_time": "2022-12-01T15:36:29.927Z"
   },
   {
    "duration": 13,
    "start_time": "2022-12-01T15:36:29.938Z"
   },
   {
    "duration": 5,
    "start_time": "2022-12-01T15:36:29.953Z"
   },
   {
    "duration": 25,
    "start_time": "2022-12-01T15:36:29.960Z"
   },
   {
    "duration": 16,
    "start_time": "2022-12-01T15:36:29.986Z"
   },
   {
    "duration": 13,
    "start_time": "2022-12-01T15:36:30.004Z"
   },
   {
    "duration": 27,
    "start_time": "2022-12-01T15:36:30.018Z"
   },
   {
    "duration": 46,
    "start_time": "2022-12-01T15:36:30.047Z"
   },
   {
    "duration": 53,
    "start_time": "2022-12-01T15:36:30.094Z"
   },
   {
    "duration": 38,
    "start_time": "2022-12-01T15:36:30.149Z"
   },
   {
    "duration": 103,
    "start_time": "2022-12-01T15:36:30.190Z"
   },
   {
    "duration": 74,
    "start_time": "2022-12-01T15:36:30.295Z"
   },
   {
    "duration": 15,
    "start_time": "2022-12-01T15:36:30.371Z"
   },
   {
    "duration": 84,
    "start_time": "2022-12-01T15:36:30.390Z"
   },
   {
    "duration": 61,
    "start_time": "2022-12-01T15:36:30.476Z"
   },
   {
    "duration": 9,
    "start_time": "2022-12-01T15:36:30.543Z"
   },
   {
    "duration": 107,
    "start_time": "2022-12-01T15:36:30.554Z"
   },
   {
    "duration": 435,
    "start_time": "2022-12-01T15:36:30.664Z"
   },
   {
    "duration": 18,
    "start_time": "2022-12-01T15:36:31.101Z"
   },
   {
    "duration": 36,
    "start_time": "2022-12-01T15:36:31.123Z"
   },
   {
    "duration": 36,
    "start_time": "2022-12-01T15:36:31.161Z"
   },
   {
    "duration": 249,
    "start_time": "2022-12-01T15:36:31.198Z"
   },
   {
    "duration": 10,
    "start_time": "2022-12-01T15:36:31.448Z"
   },
   {
    "duration": 13,
    "start_time": "2022-12-01T15:36:31.460Z"
   },
   {
    "duration": 14,
    "start_time": "2022-12-01T15:36:31.475Z"
   },
   {
    "duration": 8,
    "start_time": "2022-12-01T15:36:31.491Z"
   },
   {
    "duration": 24,
    "start_time": "2022-12-01T15:36:31.501Z"
   },
   {
    "duration": 18,
    "start_time": "2022-12-01T15:36:31.527Z"
   },
   {
    "duration": 317,
    "start_time": "2022-12-01T15:36:31.547Z"
   },
   {
    "duration": 16,
    "start_time": "2022-12-01T15:36:31.865Z"
   },
   {
    "duration": 632,
    "start_time": "2022-12-01T15:36:31.883Z"
   },
   {
    "duration": 7,
    "start_time": "2022-12-01T15:36:32.520Z"
   },
   {
    "duration": 51,
    "start_time": "2022-12-01T15:36:32.529Z"
   },
   {
    "duration": 22,
    "start_time": "2022-12-01T15:36:32.583Z"
   },
   {
    "duration": 23,
    "start_time": "2022-12-01T15:36:32.607Z"
   },
   {
    "duration": 30,
    "start_time": "2022-12-01T15:36:32.632Z"
   },
   {
    "duration": 212,
    "start_time": "2022-12-01T15:36:32.664Z"
   },
   {
    "duration": 14,
    "start_time": "2022-12-01T15:36:32.878Z"
   },
   {
    "duration": 23,
    "start_time": "2022-12-01T15:36:32.893Z"
   },
   {
    "duration": 3,
    "start_time": "2022-12-01T15:36:32.918Z"
   },
   {
    "duration": 18,
    "start_time": "2022-12-01T15:36:32.923Z"
   },
   {
    "duration": 14,
    "start_time": "2022-12-01T15:36:32.943Z"
   },
   {
    "duration": 29,
    "start_time": "2022-12-01T15:36:32.959Z"
   },
   {
    "duration": 7,
    "start_time": "2022-12-01T15:36:32.990Z"
   },
   {
    "duration": 23,
    "start_time": "2022-12-01T15:36:32.999Z"
   },
   {
    "duration": 36,
    "start_time": "2022-12-01T15:36:33.026Z"
   },
   {
    "duration": 314,
    "start_time": "2022-12-01T15:36:33.064Z"
   },
   {
    "duration": 314,
    "start_time": "2022-12-01T15:36:33.380Z"
   },
   {
    "duration": 300,
    "start_time": "2022-12-01T15:36:33.696Z"
   },
   {
    "duration": 62,
    "start_time": "2022-12-01T15:36:33.998Z"
   },
   {
    "duration": 399,
    "start_time": "2022-12-01T15:36:34.064Z"
   },
   {
    "duration": 63,
    "start_time": "2022-12-01T15:36:34.465Z"
   },
   {
    "duration": 8,
    "start_time": "2022-12-01T15:36:34.531Z"
   },
   {
    "duration": 277,
    "start_time": "2022-12-01T15:36:34.542Z"
   },
   {
    "duration": 6,
    "start_time": "2022-12-01T15:36:34.822Z"
   },
   {
    "duration": 249,
    "start_time": "2022-12-01T15:36:34.830Z"
   },
   {
    "duration": 8,
    "start_time": "2022-12-01T15:36:35.081Z"
   },
   {
    "duration": 21,
    "start_time": "2022-12-01T15:36:35.091Z"
   },
   {
    "duration": 219,
    "start_time": "2022-12-01T15:36:35.115Z"
   },
   {
    "duration": 5,
    "start_time": "2022-12-01T15:36:35.337Z"
   },
   {
    "duration": 195,
    "start_time": "2022-12-01T15:36:35.344Z"
   },
   {
    "duration": 11,
    "start_time": "2022-12-01T15:36:35.541Z"
   },
   {
    "duration": 28,
    "start_time": "2022-12-01T15:36:35.555Z"
   },
   {
    "duration": 275,
    "start_time": "2022-12-01T15:36:35.586Z"
   },
   {
    "duration": 6,
    "start_time": "2022-12-01T15:36:35.863Z"
   },
   {
    "duration": 251,
    "start_time": "2022-12-01T15:36:35.871Z"
   },
   {
    "duration": 6,
    "start_time": "2022-12-01T15:36:36.124Z"
   },
   {
    "duration": 23,
    "start_time": "2022-12-01T15:36:36.142Z"
   },
   {
    "duration": 19,
    "start_time": "2022-12-01T15:36:36.167Z"
   },
   {
    "duration": 8,
    "start_time": "2022-12-01T15:36:36.188Z"
   },
   {
    "duration": 303,
    "start_time": "2022-12-01T15:36:36.198Z"
   },
   {
    "duration": 32,
    "start_time": "2022-12-01T15:36:36.503Z"
   },
   {
    "duration": 46,
    "start_time": "2022-12-01T15:36:36.543Z"
   },
   {
    "duration": 386,
    "start_time": "2022-12-01T15:36:36.592Z"
   },
   {
    "duration": 16,
    "start_time": "2022-12-01T15:36:36.980Z"
   },
   {
    "duration": 57,
    "start_time": "2022-12-01T15:36:36.998Z"
   },
   {
    "duration": 34,
    "start_time": "2022-12-01T15:36:37.057Z"
   },
   {
    "duration": 46,
    "start_time": "2022-12-01T15:36:37.093Z"
   },
   {
    "duration": 36,
    "start_time": "2022-12-01T15:36:37.141Z"
   },
   {
    "duration": 21,
    "start_time": "2022-12-01T15:36:37.180Z"
   },
   {
    "duration": 40,
    "start_time": "2022-12-01T15:36:37.203Z"
   },
   {
    "duration": 24,
    "start_time": "2022-12-01T15:36:37.245Z"
   },
   {
    "duration": 175,
    "start_time": "2022-12-01T15:36:37.271Z"
   },
   {
    "duration": 21,
    "start_time": "2022-12-01T15:36:37.448Z"
   },
   {
    "duration": 26,
    "start_time": "2022-12-01T15:36:37.472Z"
   },
   {
    "duration": 16,
    "start_time": "2022-12-01T15:36:37.500Z"
   },
   {
    "duration": 46,
    "start_time": "2022-12-01T15:36:37.517Z"
   },
   {
    "duration": 34,
    "start_time": "2022-12-01T15:36:37.565Z"
   },
   {
    "duration": 209,
    "start_time": "2022-12-01T15:36:37.601Z"
   },
   {
    "duration": 16,
    "start_time": "2022-12-01T15:36:37.812Z"
   },
   {
    "duration": 10,
    "start_time": "2022-12-01T15:36:37.831Z"
   },
   {
    "duration": 24,
    "start_time": "2022-12-01T15:36:37.843Z"
   },
   {
    "duration": 37,
    "start_time": "2022-12-01T15:36:37.870Z"
   },
   {
    "duration": 46,
    "start_time": "2022-12-01T15:36:37.913Z"
   },
   {
    "duration": 284,
    "start_time": "2022-12-01T15:36:37.961Z"
   },
   {
    "duration": 357,
    "start_time": "2022-12-01T15:36:38.248Z"
   },
   {
    "duration": 26,
    "start_time": "2022-12-01T15:36:38.607Z"
   },
   {
    "duration": 72,
    "start_time": "2022-12-01T15:36:38.637Z"
   },
   {
    "duration": 73,
    "start_time": "2022-12-01T15:36:38.712Z"
   },
   {
    "duration": 32,
    "start_time": "2022-12-01T15:36:38.788Z"
   },
   {
    "duration": 31,
    "start_time": "2022-12-01T15:36:38.822Z"
   },
   {
    "duration": 36,
    "start_time": "2022-12-01T15:36:38.855Z"
   },
   {
    "duration": 193,
    "start_time": "2022-12-01T15:36:38.893Z"
   },
   {
    "duration": 17,
    "start_time": "2022-12-01T15:36:39.088Z"
   },
   {
    "duration": 9,
    "start_time": "2022-12-01T15:36:39.115Z"
   },
   {
    "duration": 35,
    "start_time": "2022-12-01T15:36:39.126Z"
   },
   {
    "duration": 18,
    "start_time": "2022-12-01T15:36:39.163Z"
   },
   {
    "duration": 26,
    "start_time": "2022-12-01T15:36:39.183Z"
   },
   {
    "duration": 130,
    "start_time": "2022-12-01T15:36:39.211Z"
   },
   {
    "duration": 20,
    "start_time": "2022-12-01T15:36:39.343Z"
   },
   {
    "duration": 25,
    "start_time": "2022-12-01T15:36:39.365Z"
   },
   {
    "duration": 13,
    "start_time": "2022-12-01T15:36:39.392Z"
   },
   {
    "duration": 12,
    "start_time": "2022-12-01T15:36:39.408Z"
   },
   {
    "duration": 38,
    "start_time": "2022-12-01T15:36:39.422Z"
   },
   {
    "duration": 152,
    "start_time": "2022-12-01T15:36:39.464Z"
   },
   {
    "duration": 414,
    "start_time": "2022-12-01T15:36:39.617Z"
   },
   {
    "duration": 17,
    "start_time": "2022-12-01T15:36:40.034Z"
   },
   {
    "duration": 47,
    "start_time": "2022-12-01T15:36:40.053Z"
   },
   {
    "duration": 187,
    "start_time": "2022-12-01T15:36:40.102Z"
   },
   {
    "duration": 11,
    "start_time": "2022-12-01T15:36:40.291Z"
   },
   {
    "duration": 32,
    "start_time": "2022-12-01T15:36:40.304Z"
   },
   {
    "duration": 165,
    "start_time": "2022-12-01T15:36:40.338Z"
   },
   {
    "duration": 20,
    "start_time": "2022-12-01T15:36:40.505Z"
   },
   {
    "duration": 15,
    "start_time": "2022-12-01T15:36:40.527Z"
   },
   {
    "duration": 202,
    "start_time": "2022-12-01T15:36:40.545Z"
   },
   {
    "duration": 390,
    "start_time": "2022-12-01T15:36:40.749Z"
   },
   {
    "duration": 9,
    "start_time": "2022-12-01T15:36:41.140Z"
   },
   {
    "duration": 449,
    "start_time": "2022-12-01T15:36:41.151Z"
   },
   {
    "duration": 13,
    "start_time": "2022-12-01T15:36:41.602Z"
   },
   {
    "duration": 8,
    "start_time": "2022-12-01T15:36:41.617Z"
   },
   {
    "duration": 460,
    "start_time": "2022-12-02T02:18:13.669Z"
   },
   {
    "duration": 3,
    "start_time": "2022-12-02T02:18:14.131Z"
   },
   {
    "duration": 12,
    "start_time": "2022-12-02T02:18:14.334Z"
   },
   {
    "duration": 4,
    "start_time": "2022-12-02T02:18:14.509Z"
   },
   {
    "duration": 5,
    "start_time": "2022-12-02T02:18:14.820Z"
   },
   {
    "duration": 21,
    "start_time": "2022-12-02T02:18:15.178Z"
   },
   {
    "duration": 18,
    "start_time": "2022-12-02T02:18:15.526Z"
   },
   {
    "duration": 1138,
    "start_time": "2022-12-02T02:18:15.695Z"
   },
   {
    "duration": 4,
    "start_time": "2022-12-02T02:18:17.141Z"
   },
   {
    "duration": 17,
    "start_time": "2022-12-02T02:18:17.701Z"
   },
   {
    "duration": 4,
    "start_time": "2022-12-02T02:18:18.149Z"
   },
   {
    "duration": 7,
    "start_time": "2022-12-02T02:18:18.597Z"
   },
   {
    "duration": 8,
    "start_time": "2022-12-02T02:18:18.814Z"
   },
   {
    "duration": 4,
    "start_time": "2022-12-02T02:18:19.117Z"
   },
   {
    "duration": 4,
    "start_time": "2022-12-02T02:18:19.501Z"
   },
   {
    "duration": 7,
    "start_time": "2022-12-02T02:18:19.861Z"
   },
   {
    "duration": 4,
    "start_time": "2022-12-02T02:18:20.229Z"
   },
   {
    "duration": 60,
    "start_time": "2022-12-02T02:18:20.596Z"
   },
   {
    "duration": 13,
    "start_time": "2022-12-02T02:18:20.989Z"
   },
   {
    "duration": 12,
    "start_time": "2022-12-02T02:18:21.160Z"
   },
   {
    "duration": 7,
    "start_time": "2022-12-02T02:18:21.525Z"
   },
   {
    "duration": 14,
    "start_time": "2022-12-02T02:18:22.254Z"
   },
   {
    "duration": 14,
    "start_time": "2022-12-02T02:18:22.821Z"
   },
   {
    "duration": 7,
    "start_time": "2022-12-02T02:18:23.213Z"
   },
   {
    "duration": 5,
    "start_time": "2022-12-02T02:18:23.749Z"
   },
   {
    "duration": 4,
    "start_time": "2022-12-02T02:18:24.110Z"
   },
   {
    "duration": 10,
    "start_time": "2022-12-02T02:18:24.669Z"
   },
   {
    "duration": 39,
    "start_time": "2022-12-02T02:18:25.239Z"
   },
   {
    "duration": 42,
    "start_time": "2022-12-02T02:18:25.389Z"
   },
   {
    "duration": 8,
    "start_time": "2022-12-02T02:18:25.942Z"
   },
   {
    "duration": 3,
    "start_time": "2022-12-02T02:18:26.687Z"
   },
   {
    "duration": 216,
    "start_time": "2022-12-02T02:18:27.467Z"
   },
   {
    "duration": 30,
    "start_time": "2022-12-02T02:18:29.159Z"
   },
   {
    "duration": 9,
    "start_time": "2022-12-02T02:36:16.126Z"
   },
   {
    "duration": 416,
    "start_time": "2022-12-02T02:36:17.967Z"
   },
   {
    "duration": 8,
    "start_time": "2022-12-02T02:36:25.974Z"
   },
   {
    "duration": 5,
    "start_time": "2022-12-02T02:36:26.846Z"
   },
   {
    "duration": 7,
    "start_time": "2022-12-02T02:37:57.707Z"
   },
   {
    "duration": 6,
    "start_time": "2022-12-02T02:38:00.307Z"
   },
   {
    "duration": 8,
    "start_time": "2022-12-02T02:38:10.900Z"
   },
   {
    "duration": 5,
    "start_time": "2022-12-02T02:38:15.118Z"
   },
   {
    "duration": 489,
    "start_time": "2022-12-02T02:39:59.896Z"
   },
   {
    "duration": 3,
    "start_time": "2022-12-02T02:40:00.387Z"
   },
   {
    "duration": 31,
    "start_time": "2022-12-02T02:40:00.392Z"
   },
   {
    "duration": 40,
    "start_time": "2022-12-02T02:40:00.424Z"
   },
   {
    "duration": 63,
    "start_time": "2022-12-02T02:40:00.466Z"
   },
   {
    "duration": 71,
    "start_time": "2022-12-02T02:40:00.531Z"
   },
   {
    "duration": 35,
    "start_time": "2022-12-02T02:40:00.604Z"
   },
   {
    "duration": 1025,
    "start_time": "2022-12-02T02:40:00.641Z"
   },
   {
    "duration": 5,
    "start_time": "2022-12-02T02:40:01.667Z"
   },
   {
    "duration": 67,
    "start_time": "2022-12-02T02:40:01.673Z"
   },
   {
    "duration": 34,
    "start_time": "2022-12-02T02:40:01.741Z"
   },
   {
    "duration": 19,
    "start_time": "2022-12-02T02:40:01.776Z"
   },
   {
    "duration": 29,
    "start_time": "2022-12-02T02:40:01.797Z"
   },
   {
    "duration": 43,
    "start_time": "2022-12-02T02:40:01.830Z"
   },
   {
    "duration": 49,
    "start_time": "2022-12-02T02:40:01.875Z"
   },
   {
    "duration": 91,
    "start_time": "2022-12-02T02:40:01.925Z"
   },
   {
    "duration": 49,
    "start_time": "2022-12-02T02:40:02.017Z"
   },
   {
    "duration": 34,
    "start_time": "2022-12-02T02:40:02.068Z"
   },
   {
    "duration": 32,
    "start_time": "2022-12-02T02:40:02.104Z"
   },
   {
    "duration": 39,
    "start_time": "2022-12-02T02:40:02.138Z"
   },
   {
    "duration": 12,
    "start_time": "2022-12-02T02:40:02.179Z"
   },
   {
    "duration": 41,
    "start_time": "2022-12-02T02:40:02.192Z"
   },
   {
    "duration": 49,
    "start_time": "2022-12-02T02:40:02.235Z"
   },
   {
    "duration": 6,
    "start_time": "2022-12-02T02:40:02.286Z"
   },
   {
    "duration": 7,
    "start_time": "2022-12-02T02:40:02.293Z"
   },
   {
    "duration": 9,
    "start_time": "2022-12-02T02:40:02.301Z"
   },
   {
    "duration": 14,
    "start_time": "2022-12-02T02:40:02.312Z"
   },
   {
    "duration": 61,
    "start_time": "2022-12-02T02:40:02.328Z"
   },
   {
    "duration": 47,
    "start_time": "2022-12-02T02:40:02.391Z"
   },
   {
    "duration": 9,
    "start_time": "2022-12-02T02:40:02.440Z"
   },
   {
    "duration": 15,
    "start_time": "2022-12-02T02:40:02.452Z"
   },
   {
    "duration": 236,
    "start_time": "2022-12-02T02:40:02.469Z"
   },
   {
    "duration": 14,
    "start_time": "2022-12-02T02:40:02.707Z"
   },
   {
    "duration": 9,
    "start_time": "2022-12-02T02:40:02.722Z"
   },
   {
    "duration": 11,
    "start_time": "2022-12-02T02:40:02.732Z"
   },
   {
    "duration": 255,
    "start_time": "2022-12-02T02:40:02.745Z"
   },
   {
    "duration": 15,
    "start_time": "2022-12-02T02:40:03.002Z"
   },
   {
    "duration": 10,
    "start_time": "2022-12-02T02:40:03.019Z"
   },
   {
    "duration": 15,
    "start_time": "2022-12-02T02:40:03.031Z"
   },
   {
    "duration": 10,
    "start_time": "2022-12-02T02:40:03.047Z"
   },
   {
    "duration": 13,
    "start_time": "2022-12-02T02:40:03.062Z"
   },
   {
    "duration": 15,
    "start_time": "2022-12-02T02:40:03.077Z"
   },
   {
    "duration": 282,
    "start_time": "2022-12-02T02:40:03.093Z"
   },
   {
    "duration": 14,
    "start_time": "2022-12-02T02:40:03.377Z"
   },
   {
    "duration": 495,
    "start_time": "2022-12-02T02:40:03.393Z"
   },
   {
    "duration": 5,
    "start_time": "2022-12-02T02:40:03.890Z"
   },
   {
    "duration": 22,
    "start_time": "2022-12-02T02:40:03.897Z"
   },
   {
    "duration": 8,
    "start_time": "2022-12-02T02:40:03.920Z"
   },
   {
    "duration": 13,
    "start_time": "2022-12-02T02:40:03.929Z"
   },
   {
    "duration": 6,
    "start_time": "2022-12-02T02:40:03.943Z"
   },
   {
    "duration": 187,
    "start_time": "2022-12-02T02:40:03.951Z"
   },
   {
    "duration": 13,
    "start_time": "2022-12-02T02:40:04.139Z"
   },
   {
    "duration": 7,
    "start_time": "2022-12-02T02:40:04.153Z"
   },
   {
    "duration": 6,
    "start_time": "2022-12-02T02:40:04.162Z"
   },
   {
    "duration": 7,
    "start_time": "2022-12-02T02:40:04.169Z"
   },
   {
    "duration": 11,
    "start_time": "2022-12-02T02:40:04.177Z"
   },
   {
    "duration": 33,
    "start_time": "2022-12-02T02:40:04.189Z"
   },
   {
    "duration": 5,
    "start_time": "2022-12-02T02:40:04.224Z"
   },
   {
    "duration": 17,
    "start_time": "2022-12-02T02:40:04.231Z"
   },
   {
    "duration": 6,
    "start_time": "2022-12-02T02:40:04.250Z"
   },
   {
    "duration": 283,
    "start_time": "2022-12-02T02:40:04.257Z"
   },
   {
    "duration": 210,
    "start_time": "2022-12-02T02:40:04.542Z"
   },
   {
    "duration": 205,
    "start_time": "2022-12-02T02:40:04.754Z"
   },
   {
    "duration": 36,
    "start_time": "2022-12-02T02:40:04.961Z"
   },
   {
    "duration": 218,
    "start_time": "2022-12-02T02:40:04.999Z"
   },
   {
    "duration": 35,
    "start_time": "2022-12-02T02:40:05.219Z"
   },
   {
    "duration": 5,
    "start_time": "2022-12-02T02:40:05.256Z"
   },
   {
    "duration": 241,
    "start_time": "2022-12-02T02:40:05.263Z"
   },
   {
    "duration": 11,
    "start_time": "2022-12-02T02:40:05.506Z"
   },
   {
    "duration": 169,
    "start_time": "2022-12-02T02:40:05.519Z"
   },
   {
    "duration": 5,
    "start_time": "2022-12-02T02:40:05.690Z"
   },
   {
    "duration": 19,
    "start_time": "2022-12-02T02:40:05.697Z"
   },
   {
    "duration": 132,
    "start_time": "2022-12-02T02:40:05.718Z"
   },
   {
    "duration": 5,
    "start_time": "2022-12-02T02:40:05.852Z"
   },
   {
    "duration": 139,
    "start_time": "2022-12-02T02:40:05.858Z"
   },
   {
    "duration": 5,
    "start_time": "2022-12-02T02:40:05.999Z"
   },
   {
    "duration": 6,
    "start_time": "2022-12-02T02:40:06.015Z"
   },
   {
    "duration": 169,
    "start_time": "2022-12-02T02:40:06.022Z"
   },
   {
    "duration": 6,
    "start_time": "2022-12-02T02:40:06.192Z"
   },
   {
    "duration": 192,
    "start_time": "2022-12-02T02:40:06.200Z"
   },
   {
    "duration": 7,
    "start_time": "2022-12-02T02:40:06.393Z"
   },
   {
    "duration": 24,
    "start_time": "2022-12-02T02:40:06.401Z"
   },
   {
    "duration": 12,
    "start_time": "2022-12-02T02:40:06.426Z"
   },
   {
    "duration": 6,
    "start_time": "2022-12-02T02:40:06.440Z"
   },
   {
    "duration": 206,
    "start_time": "2022-12-02T02:40:06.448Z"
   },
   {
    "duration": 13,
    "start_time": "2022-12-02T02:40:06.656Z"
   },
   {
    "duration": 44,
    "start_time": "2022-12-02T02:40:06.670Z"
   },
   {
    "duration": 180,
    "start_time": "2022-12-02T02:40:06.716Z"
   },
   {
    "duration": 11,
    "start_time": "2022-12-02T02:40:06.898Z"
   },
   {
    "duration": 7,
    "start_time": "2022-12-02T02:40:06.916Z"
   },
   {
    "duration": 11,
    "start_time": "2022-12-02T02:40:06.924Z"
   },
   {
    "duration": 11,
    "start_time": "2022-12-02T02:40:06.936Z"
   },
   {
    "duration": 5,
    "start_time": "2022-12-02T02:40:06.948Z"
   },
   {
    "duration": 7,
    "start_time": "2022-12-02T02:40:06.954Z"
   },
   {
    "duration": 13,
    "start_time": "2022-12-02T02:40:06.963Z"
   },
   {
    "duration": 6,
    "start_time": "2022-12-02T02:40:06.977Z"
   },
   {
    "duration": 141,
    "start_time": "2022-12-02T02:40:06.985Z"
   },
   {
    "duration": 12,
    "start_time": "2022-12-02T02:40:07.127Z"
   },
   {
    "duration": 3,
    "start_time": "2022-12-02T02:40:07.140Z"
   },
   {
    "duration": 6,
    "start_time": "2022-12-02T02:40:07.144Z"
   },
   {
    "duration": 7,
    "start_time": "2022-12-02T02:40:07.151Z"
   },
   {
    "duration": 14,
    "start_time": "2022-12-02T02:40:07.159Z"
   },
   {
    "duration": 135,
    "start_time": "2022-12-02T02:40:07.174Z"
   },
   {
    "duration": 13,
    "start_time": "2022-12-02T02:40:07.315Z"
   },
   {
    "duration": 3,
    "start_time": "2022-12-02T02:40:07.329Z"
   },
   {
    "duration": 9,
    "start_time": "2022-12-02T02:40:07.333Z"
   },
   {
    "duration": 19,
    "start_time": "2022-12-02T02:40:07.343Z"
   },
   {
    "duration": 16,
    "start_time": "2022-12-02T02:40:07.363Z"
   },
   {
    "duration": 120,
    "start_time": "2022-12-02T02:40:07.381Z"
   },
   {
    "duration": 364,
    "start_time": "2022-12-02T02:40:07.502Z"
   },
   {
    "duration": 12,
    "start_time": "2022-12-02T02:40:07.868Z"
   },
   {
    "duration": 6,
    "start_time": "2022-12-02T02:40:07.882Z"
   },
   {
    "duration": 8,
    "start_time": "2022-12-02T02:40:07.889Z"
   },
   {
    "duration": 29,
    "start_time": "2022-12-02T02:40:07.899Z"
   },
   {
    "duration": 17,
    "start_time": "2022-12-02T02:40:07.930Z"
   },
   {
    "duration": 33,
    "start_time": "2022-12-02T02:40:07.949Z"
   },
   {
    "duration": 129,
    "start_time": "2022-12-02T02:40:07.984Z"
   },
   {
    "duration": 11,
    "start_time": "2022-12-02T02:40:08.114Z"
   },
   {
    "duration": 3,
    "start_time": "2022-12-02T02:40:08.127Z"
   },
   {
    "duration": 6,
    "start_time": "2022-12-02T02:40:08.131Z"
   },
   {
    "duration": 7,
    "start_time": "2022-12-02T02:40:08.139Z"
   },
   {
    "duration": 11,
    "start_time": "2022-12-02T02:40:08.152Z"
   },
   {
    "duration": 138,
    "start_time": "2022-12-02T02:40:08.165Z"
   },
   {
    "duration": 19,
    "start_time": "2022-12-02T02:40:08.304Z"
   },
   {
    "duration": 5,
    "start_time": "2022-12-02T02:40:08.324Z"
   },
   {
    "duration": 6,
    "start_time": "2022-12-02T02:40:08.330Z"
   },
   {
    "duration": 6,
    "start_time": "2022-12-02T02:40:08.338Z"
   },
   {
    "duration": 12,
    "start_time": "2022-12-02T02:40:08.345Z"
   },
   {
    "duration": 135,
    "start_time": "2022-12-02T02:40:08.359Z"
   },
   {
    "duration": 295,
    "start_time": "2022-12-02T02:40:08.496Z"
   },
   {
    "duration": 13,
    "start_time": "2022-12-02T02:40:08.792Z"
   },
   {
    "duration": 18,
    "start_time": "2022-12-02T02:40:08.806Z"
   },
   {
    "duration": 121,
    "start_time": "2022-12-02T02:40:08.826Z"
   },
   {
    "duration": 11,
    "start_time": "2022-12-02T02:40:08.948Z"
   },
   {
    "duration": 6,
    "start_time": "2022-12-02T02:40:08.961Z"
   },
   {
    "duration": 138,
    "start_time": "2022-12-02T02:40:08.969Z"
   },
   {
    "duration": 30,
    "start_time": "2022-12-02T02:40:09.108Z"
   },
   {
    "duration": 7,
    "start_time": "2022-12-02T02:40:09.139Z"
   },
   {
    "duration": 134,
    "start_time": "2022-12-02T02:40:09.148Z"
   },
   {
    "duration": 359,
    "start_time": "2022-12-02T02:40:09.284Z"
   },
   {
    "duration": 10,
    "start_time": "2022-12-02T02:40:09.645Z"
   },
   {
    "duration": 425,
    "start_time": "2022-12-02T02:40:09.656Z"
   },
   {
    "duration": 8,
    "start_time": "2022-12-02T02:40:10.082Z"
   },
   {
    "duration": 5,
    "start_time": "2022-12-02T02:40:10.092Z"
   },
   {
    "duration": 1398,
    "start_time": "2022-12-02T09:58:42.452Z"
   },
   {
    "duration": 108,
    "start_time": "2022-12-02T09:58:43.852Z"
   },
   {
    "duration": 3,
    "start_time": "2022-12-02T09:58:43.962Z"
   },
   {
    "duration": 11,
    "start_time": "2022-12-02T09:58:43.967Z"
   },
   {
    "duration": 24,
    "start_time": "2022-12-02T09:58:43.980Z"
   },
   {
    "duration": 12,
    "start_time": "2022-12-02T09:58:44.006Z"
   },
   {
    "duration": 22,
    "start_time": "2022-12-02T09:58:44.020Z"
   },
   {
    "duration": 18,
    "start_time": "2022-12-02T09:58:44.044Z"
   },
   {
    "duration": 816,
    "start_time": "2022-12-02T09:58:44.063Z"
   },
   {
    "duration": 5,
    "start_time": "2022-12-02T09:58:44.881Z"
   },
   {
    "duration": 18,
    "start_time": "2022-12-02T09:58:44.888Z"
   },
   {
    "duration": 6,
    "start_time": "2022-12-02T09:58:44.908Z"
   },
   {
    "duration": 14,
    "start_time": "2022-12-02T09:58:44.916Z"
   },
   {
    "duration": 33,
    "start_time": "2022-12-02T09:58:44.931Z"
   },
   {
    "duration": 4,
    "start_time": "2022-12-02T09:58:44.966Z"
   },
   {
    "duration": 19,
    "start_time": "2022-12-02T09:58:44.972Z"
   },
   {
    "duration": 14,
    "start_time": "2022-12-02T09:58:44.993Z"
   },
   {
    "duration": 20,
    "start_time": "2022-12-02T09:58:45.009Z"
   },
   {
    "duration": 14,
    "start_time": "2022-12-02T09:58:45.030Z"
   },
   {
    "duration": 17,
    "start_time": "2022-12-02T09:58:45.046Z"
   },
   {
    "duration": 12,
    "start_time": "2022-12-02T09:58:45.065Z"
   },
   {
    "duration": 7,
    "start_time": "2022-12-02T09:58:45.078Z"
   },
   {
    "duration": 29,
    "start_time": "2022-12-02T09:58:45.087Z"
   },
   {
    "duration": 17,
    "start_time": "2022-12-02T09:58:45.118Z"
   },
   {
    "duration": 18,
    "start_time": "2022-12-02T09:58:45.137Z"
   },
   {
    "duration": 6,
    "start_time": "2022-12-02T09:58:45.156Z"
   },
   {
    "duration": 7,
    "start_time": "2022-12-02T09:58:45.164Z"
   },
   {
    "duration": 9,
    "start_time": "2022-12-02T09:58:45.175Z"
   },
   {
    "duration": 44,
    "start_time": "2022-12-02T09:58:45.185Z"
   },
   {
    "duration": 62,
    "start_time": "2022-12-02T09:58:45.230Z"
   },
   {
    "duration": 9,
    "start_time": "2022-12-02T09:58:45.294Z"
   },
   {
    "duration": 3,
    "start_time": "2022-12-02T09:58:45.305Z"
   },
   {
    "duration": 256,
    "start_time": "2022-12-02T09:58:45.310Z"
   },
   {
    "duration": 11,
    "start_time": "2022-12-02T09:58:45.568Z"
   },
   {
    "duration": 17,
    "start_time": "2022-12-02T09:58:45.581Z"
   },
   {
    "duration": 212,
    "start_time": "2022-12-02T09:58:45.600Z"
   },
   {
    "duration": 11,
    "start_time": "2022-12-02T09:58:45.814Z"
   },
   {
    "duration": 14,
    "start_time": "2022-12-02T09:58:45.826Z"
   },
   {
    "duration": 13,
    "start_time": "2022-12-02T09:58:45.842Z"
   },
   {
    "duration": 10,
    "start_time": "2022-12-02T09:58:45.857Z"
   },
   {
    "duration": 17,
    "start_time": "2022-12-02T09:58:45.869Z"
   },
   {
    "duration": 16,
    "start_time": "2022-12-02T09:58:45.887Z"
   },
   {
    "duration": 289,
    "start_time": "2022-12-02T09:58:45.905Z"
   },
   {
    "duration": 14,
    "start_time": "2022-12-02T09:58:46.196Z"
   },
   {
    "duration": 551,
    "start_time": "2022-12-02T09:58:46.212Z"
   },
   {
    "duration": 7,
    "start_time": "2022-12-02T09:58:46.766Z"
   },
   {
    "duration": 32,
    "start_time": "2022-12-02T09:58:46.775Z"
   },
   {
    "duration": 29,
    "start_time": "2022-12-02T09:58:46.809Z"
   },
   {
    "duration": 38,
    "start_time": "2022-12-02T09:58:46.839Z"
   },
   {
    "duration": 38,
    "start_time": "2022-12-02T09:58:46.879Z"
   },
   {
    "duration": 211,
    "start_time": "2022-12-02T09:58:46.919Z"
   },
   {
    "duration": 13,
    "start_time": "2022-12-02T09:58:47.132Z"
   },
   {
    "duration": 8,
    "start_time": "2022-12-02T09:58:47.154Z"
   },
   {
    "duration": 6,
    "start_time": "2022-12-02T09:58:47.163Z"
   },
   {
    "duration": 7,
    "start_time": "2022-12-02T09:58:47.171Z"
   },
   {
    "duration": 99,
    "start_time": "2022-12-02T09:58:47.180Z"
   },
   {
    "duration": 16,
    "start_time": "2022-12-02T09:58:47.280Z"
   },
   {
    "duration": 5,
    "start_time": "2022-12-02T09:58:47.298Z"
   },
   {
    "duration": 16,
    "start_time": "2022-12-02T09:58:47.304Z"
   },
   {
    "duration": 8,
    "start_time": "2022-12-02T09:58:47.322Z"
   },
   {
    "duration": 323,
    "start_time": "2022-12-02T09:58:47.331Z"
   },
   {
    "duration": 239,
    "start_time": "2022-12-02T09:58:47.655Z"
   },
   {
    "duration": 222,
    "start_time": "2022-12-02T09:58:47.895Z"
   },
   {
    "duration": 52,
    "start_time": "2022-12-02T09:58:48.119Z"
   },
   {
    "duration": 226,
    "start_time": "2022-12-02T09:58:48.172Z"
   },
   {
    "duration": 55,
    "start_time": "2022-12-02T09:58:48.400Z"
   },
   {
    "duration": 6,
    "start_time": "2022-12-02T09:58:48.457Z"
   },
   {
    "duration": 182,
    "start_time": "2022-12-02T09:58:48.465Z"
   },
   {
    "duration": 9,
    "start_time": "2022-12-02T09:58:48.649Z"
   },
   {
    "duration": 173,
    "start_time": "2022-12-02T09:58:48.659Z"
   },
   {
    "duration": 4,
    "start_time": "2022-12-02T09:58:48.834Z"
   },
   {
    "duration": 17,
    "start_time": "2022-12-02T09:58:48.840Z"
   },
   {
    "duration": 151,
    "start_time": "2022-12-02T09:58:48.859Z"
   },
   {
    "duration": 6,
    "start_time": "2022-12-02T09:58:49.012Z"
   },
   {
    "duration": 162,
    "start_time": "2022-12-02T09:58:49.020Z"
   },
   {
    "duration": 5,
    "start_time": "2022-12-02T09:58:49.183Z"
   },
   {
    "duration": 10,
    "start_time": "2022-12-02T09:58:49.190Z"
   },
   {
    "duration": 189,
    "start_time": "2022-12-02T09:58:49.202Z"
   },
   {
    "duration": 5,
    "start_time": "2022-12-02T09:58:49.393Z"
   },
   {
    "duration": 238,
    "start_time": "2022-12-02T09:58:49.400Z"
   },
   {
    "duration": 5,
    "start_time": "2022-12-02T09:58:49.640Z"
   },
   {
    "duration": 10,
    "start_time": "2022-12-02T09:58:49.660Z"
   },
   {
    "duration": 12,
    "start_time": "2022-12-02T09:58:49.672Z"
   },
   {
    "duration": 26,
    "start_time": "2022-12-02T09:58:49.686Z"
   },
   {
    "duration": 200,
    "start_time": "2022-12-02T09:58:49.714Z"
   },
   {
    "duration": 14,
    "start_time": "2022-12-02T09:58:49.916Z"
   },
   {
    "duration": 7,
    "start_time": "2022-12-02T09:58:49.932Z"
   },
   {
    "duration": 203,
    "start_time": "2022-12-02T09:58:49.954Z"
   },
   {
    "duration": 13,
    "start_time": "2022-12-02T09:58:50.159Z"
   },
   {
    "duration": 7,
    "start_time": "2022-12-02T09:58:50.174Z"
   },
   {
    "duration": 6,
    "start_time": "2022-12-02T09:58:50.183Z"
   },
   {
    "duration": 11,
    "start_time": "2022-12-02T09:58:50.191Z"
   },
   {
    "duration": 5,
    "start_time": "2022-12-02T09:58:50.204Z"
   },
   {
    "duration": 6,
    "start_time": "2022-12-02T09:58:50.211Z"
   },
   {
    "duration": 44,
    "start_time": "2022-12-02T09:58:50.219Z"
   },
   {
    "duration": 7,
    "start_time": "2022-12-02T09:58:50.264Z"
   },
   {
    "duration": 141,
    "start_time": "2022-12-02T09:58:50.273Z"
   },
   {
    "duration": 14,
    "start_time": "2022-12-02T09:58:50.416Z"
   },
   {
    "duration": 9,
    "start_time": "2022-12-02T09:58:50.432Z"
   },
   {
    "duration": 12,
    "start_time": "2022-12-02T09:58:50.443Z"
   },
   {
    "duration": 8,
    "start_time": "2022-12-02T09:58:50.456Z"
   },
   {
    "duration": 14,
    "start_time": "2022-12-02T09:58:50.466Z"
   },
   {
    "duration": 152,
    "start_time": "2022-12-02T09:58:50.482Z"
   },
   {
    "duration": 24,
    "start_time": "2022-12-02T09:58:50.636Z"
   },
   {
    "duration": 3,
    "start_time": "2022-12-02T09:58:50.662Z"
   },
   {
    "duration": 11,
    "start_time": "2022-12-02T09:58:50.667Z"
   },
   {
    "duration": 8,
    "start_time": "2022-12-02T09:58:50.680Z"
   },
   {
    "duration": 18,
    "start_time": "2022-12-02T09:58:50.689Z"
   },
   {
    "duration": 149,
    "start_time": "2022-12-02T09:58:50.709Z"
   },
   {
    "duration": 362,
    "start_time": "2022-12-02T09:58:50.860Z"
   },
   {
    "duration": 13,
    "start_time": "2022-12-02T09:58:51.223Z"
   },
   {
    "duration": 17,
    "start_time": "2022-12-02T09:58:51.238Z"
   },
   {
    "duration": 2,
    "start_time": "2022-12-02T09:58:51.257Z"
   },
   {
    "duration": 6,
    "start_time": "2022-12-02T09:58:51.261Z"
   },
   {
    "duration": 5,
    "start_time": "2022-12-02T09:58:51.269Z"
   },
   {
    "duration": 15,
    "start_time": "2022-12-02T09:58:51.276Z"
   },
   {
    "duration": 148,
    "start_time": "2022-12-02T09:58:51.293Z"
   },
   {
    "duration": 20,
    "start_time": "2022-12-02T09:58:51.443Z"
   },
   {
    "duration": 5,
    "start_time": "2022-12-02T09:58:51.464Z"
   },
   {
    "duration": 6,
    "start_time": "2022-12-02T09:58:51.471Z"
   },
   {
    "duration": 6,
    "start_time": "2022-12-02T09:58:51.478Z"
   },
   {
    "duration": 14,
    "start_time": "2022-12-02T09:58:51.486Z"
   },
   {
    "duration": 144,
    "start_time": "2022-12-02T09:58:51.501Z"
   },
   {
    "duration": 18,
    "start_time": "2022-12-02T09:58:51.647Z"
   },
   {
    "duration": 5,
    "start_time": "2022-12-02T09:58:51.667Z"
   },
   {
    "duration": 9,
    "start_time": "2022-12-02T09:58:51.673Z"
   },
   {
    "duration": 7,
    "start_time": "2022-12-02T09:58:51.683Z"
   },
   {
    "duration": 14,
    "start_time": "2022-12-02T09:58:51.692Z"
   },
   {
    "duration": 147,
    "start_time": "2022-12-02T09:58:51.708Z"
   },
   {
    "duration": 408,
    "start_time": "2022-12-02T09:58:51.857Z"
   },
   {
    "duration": 13,
    "start_time": "2022-12-02T09:58:52.266Z"
   },
   {
    "duration": 8,
    "start_time": "2022-12-02T09:58:52.281Z"
   },
   {
    "duration": 143,
    "start_time": "2022-12-02T09:58:52.290Z"
   },
   {
    "duration": 20,
    "start_time": "2022-12-02T09:58:52.435Z"
   },
   {
    "duration": 6,
    "start_time": "2022-12-02T09:58:52.457Z"
   },
   {
    "duration": 133,
    "start_time": "2022-12-02T09:58:52.465Z"
   },
   {
    "duration": 13,
    "start_time": "2022-12-02T09:58:52.599Z"
   },
   {
    "duration": 7,
    "start_time": "2022-12-02T09:58:52.614Z"
   },
   {
    "duration": 149,
    "start_time": "2022-12-02T09:58:52.622Z"
   },
   {
    "duration": 324,
    "start_time": "2022-12-02T09:58:52.773Z"
   },
   {
    "duration": 8,
    "start_time": "2022-12-02T09:58:53.099Z"
   },
   {
    "duration": 6,
    "start_time": "2022-12-02T09:58:53.109Z"
   },
   {
    "duration": 15,
    "start_time": "2022-12-02T09:58:53.116Z"
   },
   {
    "duration": 24,
    "start_time": "2022-12-02T09:58:53.133Z"
   },
   {
    "duration": 55,
    "start_time": "2022-12-02T09:59:39.818Z"
   },
   {
    "duration": 69,
    "start_time": "2022-12-02T09:59:43.627Z"
   },
   {
    "duration": 13,
    "start_time": "2022-12-02T10:00:36.048Z"
   },
   {
    "duration": 17,
    "start_time": "2022-12-02T10:00:52.119Z"
   },
   {
    "duration": 1121,
    "start_time": "2022-12-02T11:17:19.286Z"
   },
   {
    "duration": 53,
    "start_time": "2022-12-02T11:17:20.408Z"
   },
   {
    "duration": 3,
    "start_time": "2022-12-02T11:17:20.463Z"
   },
   {
    "duration": 12,
    "start_time": "2022-12-02T11:17:20.468Z"
   },
   {
    "duration": 7,
    "start_time": "2022-12-02T11:17:20.481Z"
   },
   {
    "duration": 13,
    "start_time": "2022-12-02T11:17:20.490Z"
   },
   {
    "duration": 29,
    "start_time": "2022-12-02T11:17:20.504Z"
   },
   {
    "duration": 19,
    "start_time": "2022-12-02T11:17:20.534Z"
   },
   {
    "duration": 816,
    "start_time": "2022-12-02T11:17:20.555Z"
   },
   {
    "duration": 4,
    "start_time": "2022-12-02T11:17:21.374Z"
   },
   {
    "duration": 22,
    "start_time": "2022-12-02T11:17:21.379Z"
   },
   {
    "duration": 5,
    "start_time": "2022-12-02T11:17:21.403Z"
   },
   {
    "duration": 11,
    "start_time": "2022-12-02T11:17:21.409Z"
   },
   {
    "duration": 11,
    "start_time": "2022-12-02T11:17:21.422Z"
   },
   {
    "duration": 5,
    "start_time": "2022-12-02T11:17:21.455Z"
   },
   {
    "duration": 8,
    "start_time": "2022-12-02T11:17:21.462Z"
   },
   {
    "duration": 16,
    "start_time": "2022-12-02T11:17:21.471Z"
   },
   {
    "duration": 9,
    "start_time": "2022-12-02T11:17:21.488Z"
   },
   {
    "duration": 15,
    "start_time": "2022-12-02T11:17:21.498Z"
   },
   {
    "duration": 15,
    "start_time": "2022-12-02T11:17:21.515Z"
   },
   {
    "duration": 30,
    "start_time": "2022-12-02T11:17:21.532Z"
   },
   {
    "duration": 7,
    "start_time": "2022-12-02T11:17:21.564Z"
   },
   {
    "duration": 14,
    "start_time": "2022-12-02T11:17:21.573Z"
   },
   {
    "duration": 19,
    "start_time": "2022-12-02T11:17:21.588Z"
   },
   {
    "duration": 7,
    "start_time": "2022-12-02T11:17:21.609Z"
   },
   {
    "duration": 15,
    "start_time": "2022-12-02T11:17:21.618Z"
   },
   {
    "duration": 21,
    "start_time": "2022-12-02T11:17:21.635Z"
   },
   {
    "duration": 9,
    "start_time": "2022-12-02T11:17:21.661Z"
   },
   {
    "duration": 7,
    "start_time": "2022-12-02T11:17:21.672Z"
   },
   {
    "duration": 5,
    "start_time": "2022-12-02T11:17:21.681Z"
   },
   {
    "duration": 15,
    "start_time": "2022-12-02T11:17:21.688Z"
   },
   {
    "duration": 5,
    "start_time": "2022-12-02T11:17:21.705Z"
   },
   {
    "duration": 274,
    "start_time": "2022-12-02T11:17:21.711Z"
   },
   {
    "duration": 11,
    "start_time": "2022-12-02T11:17:21.987Z"
   },
   {
    "duration": 13,
    "start_time": "2022-12-02T11:17:22.000Z"
   },
   {
    "duration": 208,
    "start_time": "2022-12-02T11:17:22.014Z"
   },
   {
    "duration": 11,
    "start_time": "2022-12-02T11:17:22.224Z"
   },
   {
    "duration": 25,
    "start_time": "2022-12-02T11:17:22.237Z"
   },
   {
    "duration": 15,
    "start_time": "2022-12-02T11:17:22.264Z"
   },
   {
    "duration": 9,
    "start_time": "2022-12-02T11:17:22.281Z"
   },
   {
    "duration": 24,
    "start_time": "2022-12-02T11:17:22.292Z"
   },
   {
    "duration": 20,
    "start_time": "2022-12-02T11:17:22.318Z"
   },
   {
    "duration": 268,
    "start_time": "2022-12-02T11:17:22.339Z"
   },
   {
    "duration": 14,
    "start_time": "2022-12-02T11:17:22.609Z"
   },
   {
    "duration": 555,
    "start_time": "2022-12-02T11:17:22.624Z"
   },
   {
    "duration": 5,
    "start_time": "2022-12-02T11:17:23.181Z"
   },
   {
    "duration": 17,
    "start_time": "2022-12-02T11:17:23.188Z"
   },
   {
    "duration": 8,
    "start_time": "2022-12-02T11:17:23.207Z"
   },
   {
    "duration": 14,
    "start_time": "2022-12-02T11:17:23.216Z"
   },
   {
    "duration": 7,
    "start_time": "2022-12-02T11:17:23.232Z"
   },
   {
    "duration": 181,
    "start_time": "2022-12-02T11:17:23.241Z"
   },
   {
    "duration": 13,
    "start_time": "2022-12-02T11:17:23.424Z"
   },
   {
    "duration": 109,
    "start_time": "2022-12-02T11:17:23.439Z"
   },
   {
    "duration": 0,
    "start_time": "2022-12-02T11:17:23.640Z"
   },
   {
    "duration": 0,
    "start_time": "2022-12-02T11:17:23.642Z"
   },
   {
    "duration": 0,
    "start_time": "2022-12-02T11:17:23.656Z"
   },
   {
    "duration": 0,
    "start_time": "2022-12-02T11:17:23.657Z"
   },
   {
    "duration": 0,
    "start_time": "2022-12-02T11:17:23.658Z"
   },
   {
    "duration": 0,
    "start_time": "2022-12-02T11:17:23.659Z"
   },
   {
    "duration": 0,
    "start_time": "2022-12-02T11:17:23.660Z"
   },
   {
    "duration": 0,
    "start_time": "2022-12-02T11:17:23.662Z"
   },
   {
    "duration": 0,
    "start_time": "2022-12-02T11:17:23.663Z"
   },
   {
    "duration": 0,
    "start_time": "2022-12-02T11:17:23.665Z"
   },
   {
    "duration": 0,
    "start_time": "2022-12-02T11:17:23.666Z"
   },
   {
    "duration": 0,
    "start_time": "2022-12-02T11:17:23.668Z"
   },
   {
    "duration": 0,
    "start_time": "2022-12-02T11:17:23.668Z"
   },
   {
    "duration": 0,
    "start_time": "2022-12-02T11:17:23.670Z"
   },
   {
    "duration": 0,
    "start_time": "2022-12-02T11:17:23.672Z"
   },
   {
    "duration": 0,
    "start_time": "2022-12-02T11:17:23.673Z"
   },
   {
    "duration": 0,
    "start_time": "2022-12-02T11:17:23.674Z"
   },
   {
    "duration": 0,
    "start_time": "2022-12-02T11:17:23.677Z"
   },
   {
    "duration": 0,
    "start_time": "2022-12-02T11:17:23.678Z"
   },
   {
    "duration": 0,
    "start_time": "2022-12-02T11:17:23.680Z"
   },
   {
    "duration": 0,
    "start_time": "2022-12-02T11:17:23.681Z"
   },
   {
    "duration": 0,
    "start_time": "2022-12-02T11:17:23.683Z"
   },
   {
    "duration": 0,
    "start_time": "2022-12-02T11:17:23.684Z"
   },
   {
    "duration": 0,
    "start_time": "2022-12-02T11:17:23.686Z"
   },
   {
    "duration": 0,
    "start_time": "2022-12-02T11:17:23.688Z"
   },
   {
    "duration": 0,
    "start_time": "2022-12-02T11:17:23.690Z"
   },
   {
    "duration": 0,
    "start_time": "2022-12-02T11:17:23.691Z"
   },
   {
    "duration": 0,
    "start_time": "2022-12-02T11:17:23.692Z"
   },
   {
    "duration": 0,
    "start_time": "2022-12-02T11:17:23.694Z"
   },
   {
    "duration": 0,
    "start_time": "2022-12-02T11:17:23.755Z"
   },
   {
    "duration": 0,
    "start_time": "2022-12-02T11:17:23.756Z"
   },
   {
    "duration": 0,
    "start_time": "2022-12-02T11:17:23.758Z"
   },
   {
    "duration": 0,
    "start_time": "2022-12-02T11:17:23.760Z"
   },
   {
    "duration": 0,
    "start_time": "2022-12-02T11:17:23.761Z"
   },
   {
    "duration": 0,
    "start_time": "2022-12-02T11:17:23.763Z"
   },
   {
    "duration": 0,
    "start_time": "2022-12-02T11:17:23.765Z"
   },
   {
    "duration": 0,
    "start_time": "2022-12-02T11:17:23.766Z"
   },
   {
    "duration": 0,
    "start_time": "2022-12-02T11:17:23.768Z"
   },
   {
    "duration": 0,
    "start_time": "2022-12-02T11:17:23.769Z"
   },
   {
    "duration": 0,
    "start_time": "2022-12-02T11:17:23.770Z"
   },
   {
    "duration": 0,
    "start_time": "2022-12-02T11:17:23.772Z"
   },
   {
    "duration": 0,
    "start_time": "2022-12-02T11:17:23.773Z"
   },
   {
    "duration": 0,
    "start_time": "2022-12-02T11:17:23.774Z"
   },
   {
    "duration": 0,
    "start_time": "2022-12-02T11:17:23.775Z"
   },
   {
    "duration": 0,
    "start_time": "2022-12-02T11:17:23.776Z"
   },
   {
    "duration": 0,
    "start_time": "2022-12-02T11:17:23.777Z"
   },
   {
    "duration": 0,
    "start_time": "2022-12-02T11:17:23.779Z"
   },
   {
    "duration": 0,
    "start_time": "2022-12-02T11:17:23.780Z"
   },
   {
    "duration": 0,
    "start_time": "2022-12-02T11:17:23.781Z"
   },
   {
    "duration": 0,
    "start_time": "2022-12-02T11:17:23.782Z"
   },
   {
    "duration": 0,
    "start_time": "2022-12-02T11:17:23.783Z"
   },
   {
    "duration": 0,
    "start_time": "2022-12-02T11:17:23.785Z"
   },
   {
    "duration": 0,
    "start_time": "2022-12-02T11:17:23.786Z"
   },
   {
    "duration": 0,
    "start_time": "2022-12-02T11:17:23.788Z"
   },
   {
    "duration": 0,
    "start_time": "2022-12-02T11:17:23.789Z"
   },
   {
    "duration": 0,
    "start_time": "2022-12-02T11:17:23.790Z"
   },
   {
    "duration": 0,
    "start_time": "2022-12-02T11:17:23.791Z"
   },
   {
    "duration": 0,
    "start_time": "2022-12-02T11:17:23.854Z"
   },
   {
    "duration": 0,
    "start_time": "2022-12-02T11:17:23.856Z"
   },
   {
    "duration": 0,
    "start_time": "2022-12-02T11:17:23.857Z"
   },
   {
    "duration": 0,
    "start_time": "2022-12-02T11:17:23.858Z"
   },
   {
    "duration": 0,
    "start_time": "2022-12-02T11:17:23.859Z"
   },
   {
    "duration": 0,
    "start_time": "2022-12-02T11:17:23.860Z"
   },
   {
    "duration": 0,
    "start_time": "2022-12-02T11:17:23.861Z"
   },
   {
    "duration": 0,
    "start_time": "2022-12-02T11:17:23.863Z"
   },
   {
    "duration": 0,
    "start_time": "2022-12-02T11:17:23.864Z"
   },
   {
    "duration": 0,
    "start_time": "2022-12-02T11:17:23.865Z"
   },
   {
    "duration": 0,
    "start_time": "2022-12-02T11:17:23.866Z"
   },
   {
    "duration": 0,
    "start_time": "2022-12-02T11:17:23.867Z"
   },
   {
    "duration": 0,
    "start_time": "2022-12-02T11:17:23.868Z"
   },
   {
    "duration": 0,
    "start_time": "2022-12-02T11:17:23.869Z"
   },
   {
    "duration": 0,
    "start_time": "2022-12-02T11:17:23.870Z"
   },
   {
    "duration": 0,
    "start_time": "2022-12-02T11:17:23.871Z"
   },
   {
    "duration": 1,
    "start_time": "2022-12-02T11:17:23.871Z"
   },
   {
    "duration": 0,
    "start_time": "2022-12-02T11:17:23.872Z"
   },
   {
    "duration": 0,
    "start_time": "2022-12-02T11:17:23.874Z"
   },
   {
    "duration": 0,
    "start_time": "2022-12-02T11:17:23.875Z"
   },
   {
    "duration": 0,
    "start_time": "2022-12-02T11:17:23.876Z"
   },
   {
    "duration": 0,
    "start_time": "2022-12-02T11:17:23.877Z"
   },
   {
    "duration": 0,
    "start_time": "2022-12-02T11:17:23.878Z"
   },
   {
    "duration": 0,
    "start_time": "2022-12-02T11:17:23.879Z"
   },
   {
    "duration": 0,
    "start_time": "2022-12-02T11:17:23.880Z"
   },
   {
    "duration": 0,
    "start_time": "2022-12-02T11:17:23.881Z"
   },
   {
    "duration": 0,
    "start_time": "2022-12-02T11:17:23.882Z"
   },
   {
    "duration": 0,
    "start_time": "2022-12-02T11:17:23.884Z"
   },
   {
    "duration": 0,
    "start_time": "2022-12-02T11:17:23.884Z"
   },
   {
    "duration": 0,
    "start_time": "2022-12-02T11:17:23.885Z"
   },
   {
    "duration": 0,
    "start_time": "2022-12-02T11:17:23.886Z"
   },
   {
    "duration": 0,
    "start_time": "2022-12-02T11:17:23.887Z"
   },
   {
    "duration": 0,
    "start_time": "2022-12-02T11:17:23.889Z"
   },
   {
    "duration": 0,
    "start_time": "2022-12-02T11:17:23.889Z"
   },
   {
    "duration": 1210,
    "start_time": "2022-12-02T11:18:28.501Z"
   },
   {
    "duration": 52,
    "start_time": "2022-12-02T11:18:29.713Z"
   },
   {
    "duration": 3,
    "start_time": "2022-12-02T11:18:29.766Z"
   },
   {
    "duration": 11,
    "start_time": "2022-12-02T11:18:29.771Z"
   },
   {
    "duration": 8,
    "start_time": "2022-12-02T11:18:29.783Z"
   },
   {
    "duration": 8,
    "start_time": "2022-12-02T11:18:29.793Z"
   },
   {
    "duration": 20,
    "start_time": "2022-12-02T11:18:29.802Z"
   },
   {
    "duration": 32,
    "start_time": "2022-12-02T11:18:29.824Z"
   },
   {
    "duration": 759,
    "start_time": "2022-12-02T11:18:29.857Z"
   },
   {
    "duration": 5,
    "start_time": "2022-12-02T11:18:30.619Z"
   },
   {
    "duration": 38,
    "start_time": "2022-12-02T11:18:30.626Z"
   },
   {
    "duration": 9,
    "start_time": "2022-12-02T11:18:30.666Z"
   },
   {
    "duration": 16,
    "start_time": "2022-12-02T11:18:30.677Z"
   },
   {
    "duration": 32,
    "start_time": "2022-12-02T11:18:30.695Z"
   },
   {
    "duration": 21,
    "start_time": "2022-12-02T11:18:30.729Z"
   },
   {
    "duration": 18,
    "start_time": "2022-12-02T11:18:30.752Z"
   },
   {
    "duration": 45,
    "start_time": "2022-12-02T11:18:30.772Z"
   },
   {
    "duration": 20,
    "start_time": "2022-12-02T11:18:30.819Z"
   },
   {
    "duration": 34,
    "start_time": "2022-12-02T11:18:30.841Z"
   },
   {
    "duration": 72,
    "start_time": "2022-12-02T11:18:30.878Z"
   },
   {
    "duration": 45,
    "start_time": "2022-12-02T11:18:30.952Z"
   },
   {
    "duration": 122,
    "start_time": "2022-12-02T11:18:30.998Z"
   },
   {
    "duration": 29,
    "start_time": "2022-12-02T11:18:31.121Z"
   },
   {
    "duration": 30,
    "start_time": "2022-12-02T11:18:31.152Z"
   },
   {
    "duration": 26,
    "start_time": "2022-12-02T11:18:31.184Z"
   },
   {
    "duration": 10,
    "start_time": "2022-12-02T11:18:31.212Z"
   },
   {
    "duration": 10,
    "start_time": "2022-12-02T11:18:31.223Z"
   },
   {
    "duration": 9,
    "start_time": "2022-12-02T11:18:31.237Z"
   },
   {
    "duration": 9,
    "start_time": "2022-12-02T11:18:31.248Z"
   },
   {
    "duration": 42,
    "start_time": "2022-12-02T11:18:31.258Z"
   },
   {
    "duration": 23,
    "start_time": "2022-12-02T11:18:31.302Z"
   },
   {
    "duration": 15,
    "start_time": "2022-12-02T11:18:31.327Z"
   },
   {
    "duration": 245,
    "start_time": "2022-12-02T11:18:31.343Z"
   },
   {
    "duration": 11,
    "start_time": "2022-12-02T11:18:31.590Z"
   },
   {
    "duration": 14,
    "start_time": "2022-12-02T11:18:31.603Z"
   },
   {
    "duration": 209,
    "start_time": "2022-12-02T11:18:31.619Z"
   },
   {
    "duration": 14,
    "start_time": "2022-12-02T11:18:31.830Z"
   },
   {
    "duration": 13,
    "start_time": "2022-12-02T11:18:31.854Z"
   },
   {
    "duration": 9,
    "start_time": "2022-12-02T11:18:31.869Z"
   },
   {
    "duration": 20,
    "start_time": "2022-12-02T11:18:31.880Z"
   },
   {
    "duration": 25,
    "start_time": "2022-12-02T11:18:31.901Z"
   },
   {
    "duration": 17,
    "start_time": "2022-12-02T11:18:31.928Z"
   },
   {
    "duration": 281,
    "start_time": "2022-12-02T11:18:31.946Z"
   },
   {
    "duration": 14,
    "start_time": "2022-12-02T11:18:32.229Z"
   },
   {
    "duration": 531,
    "start_time": "2022-12-02T11:18:32.245Z"
   },
   {
    "duration": 5,
    "start_time": "2022-12-02T11:18:32.778Z"
   },
   {
    "duration": 17,
    "start_time": "2022-12-02T11:18:32.785Z"
   },
   {
    "duration": 7,
    "start_time": "2022-12-02T11:18:32.804Z"
   },
   {
    "duration": 73,
    "start_time": "2022-12-02T11:18:32.814Z"
   },
   {
    "duration": 16,
    "start_time": "2022-12-02T11:18:32.889Z"
   },
   {
    "duration": 197,
    "start_time": "2022-12-02T11:18:32.907Z"
   },
   {
    "duration": 13,
    "start_time": "2022-12-02T11:18:33.106Z"
   },
   {
    "duration": 9,
    "start_time": "2022-12-02T11:18:33.121Z"
   },
   {
    "duration": 5,
    "start_time": "2022-12-02T11:18:33.131Z"
   },
   {
    "duration": 7,
    "start_time": "2022-12-02T11:18:33.137Z"
   },
   {
    "duration": 104,
    "start_time": "2022-12-02T11:18:33.155Z"
   },
   {
    "duration": 16,
    "start_time": "2022-12-02T11:18:33.261Z"
   },
   {
    "duration": 5,
    "start_time": "2022-12-02T11:18:33.279Z"
   },
   {
    "duration": 17,
    "start_time": "2022-12-02T11:18:33.286Z"
   },
   {
    "duration": 9,
    "start_time": "2022-12-02T11:18:33.305Z"
   },
   {
    "duration": 296,
    "start_time": "2022-12-02T11:18:33.315Z"
   },
   {
    "duration": 355,
    "start_time": "2022-12-02T11:18:33.613Z"
   },
   {
    "duration": 339,
    "start_time": "2022-12-02T11:18:33.969Z"
   },
   {
    "duration": 53,
    "start_time": "2022-12-02T11:18:34.309Z"
   },
   {
    "duration": 267,
    "start_time": "2022-12-02T11:18:34.363Z"
   },
   {
    "duration": 60,
    "start_time": "2022-12-02T11:18:34.632Z"
   },
   {
    "duration": 8,
    "start_time": "2022-12-02T11:18:34.694Z"
   },
   {
    "duration": 195,
    "start_time": "2022-12-02T11:18:34.704Z"
   },
   {
    "duration": 5,
    "start_time": "2022-12-02T11:18:34.901Z"
   },
   {
    "duration": 169,
    "start_time": "2022-12-02T11:18:34.907Z"
   },
   {
    "duration": 5,
    "start_time": "2022-12-02T11:18:35.078Z"
   },
   {
    "duration": 13,
    "start_time": "2022-12-02T11:18:35.084Z"
   },
   {
    "duration": 154,
    "start_time": "2022-12-02T11:18:35.099Z"
   },
   {
    "duration": 6,
    "start_time": "2022-12-02T11:18:35.255Z"
   },
   {
    "duration": 143,
    "start_time": "2022-12-02T11:18:35.262Z"
   },
   {
    "duration": 5,
    "start_time": "2022-12-02T11:18:35.407Z"
   },
   {
    "duration": 11,
    "start_time": "2022-12-02T11:18:35.413Z"
   },
   {
    "duration": 173,
    "start_time": "2022-12-02T11:18:35.425Z"
   },
   {
    "duration": 6,
    "start_time": "2022-12-02T11:18:35.599Z"
   },
   {
    "duration": 254,
    "start_time": "2022-12-02T11:18:35.607Z"
   },
   {
    "duration": 6,
    "start_time": "2022-12-02T11:18:35.863Z"
   },
   {
    "duration": 11,
    "start_time": "2022-12-02T11:18:35.876Z"
   },
   {
    "duration": 16,
    "start_time": "2022-12-02T11:18:35.889Z"
   },
   {
    "duration": 19,
    "start_time": "2022-12-02T11:18:35.906Z"
   },
   {
    "duration": 204,
    "start_time": "2022-12-02T11:18:35.926Z"
   },
   {
    "duration": 23,
    "start_time": "2022-12-02T11:18:36.132Z"
   },
   {
    "duration": 8,
    "start_time": "2022-12-02T11:18:36.156Z"
   },
   {
    "duration": 245,
    "start_time": "2022-12-02T11:18:36.165Z"
   },
   {
    "duration": 14,
    "start_time": "2022-12-02T11:18:36.412Z"
   },
   {
    "duration": 14,
    "start_time": "2022-12-02T11:18:36.427Z"
   },
   {
    "duration": 5,
    "start_time": "2022-12-02T11:18:36.455Z"
   },
   {
    "duration": 15,
    "start_time": "2022-12-02T11:18:36.461Z"
   },
   {
    "duration": 21,
    "start_time": "2022-12-02T11:18:36.478Z"
   },
   {
    "duration": 13,
    "start_time": "2022-12-02T11:18:36.501Z"
   },
   {
    "duration": 19,
    "start_time": "2022-12-02T11:18:36.516Z"
   },
   {
    "duration": 15,
    "start_time": "2022-12-02T11:18:36.537Z"
   },
   {
    "duration": 142,
    "start_time": "2022-12-02T11:18:36.554Z"
   },
   {
    "duration": 12,
    "start_time": "2022-12-02T11:18:36.697Z"
   },
   {
    "duration": 7,
    "start_time": "2022-12-02T11:18:36.710Z"
   },
   {
    "duration": 15,
    "start_time": "2022-12-02T11:18:36.718Z"
   },
   {
    "duration": 17,
    "start_time": "2022-12-02T11:18:36.735Z"
   },
   {
    "duration": 17,
    "start_time": "2022-12-02T11:18:36.753Z"
   },
   {
    "duration": 140,
    "start_time": "2022-12-02T11:18:36.772Z"
   },
   {
    "duration": 13,
    "start_time": "2022-12-02T11:18:36.914Z"
   },
   {
    "duration": 9,
    "start_time": "2022-12-02T11:18:36.928Z"
   },
   {
    "duration": 18,
    "start_time": "2022-12-02T11:18:36.939Z"
   },
   {
    "duration": 29,
    "start_time": "2022-12-02T11:18:36.959Z"
   },
   {
    "duration": 29,
    "start_time": "2022-12-02T11:18:36.990Z"
   },
   {
    "duration": 136,
    "start_time": "2022-12-02T11:18:37.021Z"
   },
   {
    "duration": 315,
    "start_time": "2022-12-02T11:18:37.158Z"
   },
   {
    "duration": 13,
    "start_time": "2022-12-02T11:18:37.475Z"
   },
   {
    "duration": 10,
    "start_time": "2022-12-02T11:18:37.490Z"
   },
   {
    "duration": 6,
    "start_time": "2022-12-02T11:18:37.502Z"
   },
   {
    "duration": 9,
    "start_time": "2022-12-02T11:18:37.509Z"
   },
   {
    "duration": 6,
    "start_time": "2022-12-02T11:18:37.520Z"
   },
   {
    "duration": 34,
    "start_time": "2022-12-02T11:18:37.528Z"
   },
   {
    "duration": 137,
    "start_time": "2022-12-02T11:18:37.564Z"
   },
   {
    "duration": 11,
    "start_time": "2022-12-02T11:18:37.703Z"
   },
   {
    "duration": 3,
    "start_time": "2022-12-02T11:18:37.716Z"
   },
   {
    "duration": 11,
    "start_time": "2022-12-02T11:18:37.721Z"
   },
   {
    "duration": 9,
    "start_time": "2022-12-02T11:18:37.734Z"
   },
   {
    "duration": 23,
    "start_time": "2022-12-02T11:18:37.744Z"
   },
   {
    "duration": 151,
    "start_time": "2022-12-02T11:18:37.768Z"
   },
   {
    "duration": 13,
    "start_time": "2022-12-02T11:18:37.921Z"
   },
   {
    "duration": 3,
    "start_time": "2022-12-02T11:18:37.936Z"
   },
   {
    "duration": 14,
    "start_time": "2022-12-02T11:18:37.941Z"
   },
   {
    "duration": 5,
    "start_time": "2022-12-02T11:18:37.956Z"
   },
   {
    "duration": 18,
    "start_time": "2022-12-02T11:18:37.962Z"
   },
   {
    "duration": 146,
    "start_time": "2022-12-02T11:18:37.981Z"
   },
   {
    "duration": 406,
    "start_time": "2022-12-02T11:18:38.128Z"
   },
   {
    "duration": 23,
    "start_time": "2022-12-02T11:18:38.535Z"
   },
   {
    "duration": 7,
    "start_time": "2022-12-02T11:18:38.560Z"
   },
   {
    "duration": 121,
    "start_time": "2022-12-02T11:18:38.568Z"
   },
   {
    "duration": 12,
    "start_time": "2022-12-02T11:18:38.691Z"
   },
   {
    "duration": 7,
    "start_time": "2022-12-02T11:18:38.704Z"
   },
   {
    "duration": 124,
    "start_time": "2022-12-02T11:18:38.712Z"
   },
   {
    "duration": 20,
    "start_time": "2022-12-02T11:18:38.838Z"
   },
   {
    "duration": 5,
    "start_time": "2022-12-02T11:18:38.860Z"
   },
   {
    "duration": 117,
    "start_time": "2022-12-02T11:18:38.867Z"
   },
   {
    "duration": 284,
    "start_time": "2022-12-02T11:18:38.986Z"
   },
   {
    "duration": 8,
    "start_time": "2022-12-02T11:18:39.271Z"
   },
   {
    "duration": 8,
    "start_time": "2022-12-02T11:18:39.280Z"
   },
   {
    "duration": 33,
    "start_time": "2022-12-02T11:18:39.289Z"
   },
   {
    "duration": 12,
    "start_time": "2022-12-02T11:18:39.323Z"
   },
   {
    "duration": 872,
    "start_time": "2022-12-02T11:23:34.545Z"
   },
   {
    "duration": 173,
    "start_time": "2022-12-02T11:24:47.357Z"
   },
   {
    "duration": 170,
    "start_time": "2022-12-02T11:25:22.922Z"
   },
   {
    "duration": 2,
    "start_time": "2022-12-02T11:27:14.952Z"
   },
   {
    "duration": 8,
    "start_time": "2022-12-02T11:27:17.066Z"
   },
   {
    "duration": 15,
    "start_time": "2022-12-02T11:27:37.918Z"
   },
   {
    "duration": 6,
    "start_time": "2022-12-02T11:27:43.534Z"
   },
   {
    "duration": 12,
    "start_time": "2022-12-02T11:27:45.384Z"
   },
   {
    "duration": 12,
    "start_time": "2022-12-02T11:28:40.559Z"
   },
   {
    "duration": 8,
    "start_time": "2022-12-02T11:28:43.277Z"
   },
   {
    "duration": 154,
    "start_time": "2022-12-02T11:28:45.670Z"
   },
   {
    "duration": 3,
    "start_time": "2022-12-02T11:28:55.822Z"
   },
   {
    "duration": 8,
    "start_time": "2022-12-02T11:29:00.422Z"
   },
   {
    "duration": 17,
    "start_time": "2022-12-02T11:29:03.969Z"
   },
   {
    "duration": 6,
    "start_time": "2022-12-02T11:29:06.175Z"
   },
   {
    "duration": 12,
    "start_time": "2022-12-02T11:29:08.666Z"
   },
   {
    "duration": 380,
    "start_time": "2022-12-02T11:29:43.739Z"
   },
   {
    "duration": 13,
    "start_time": "2022-12-02T11:35:41.615Z"
   },
   {
    "duration": 7,
    "start_time": "2022-12-02T11:35:44.332Z"
   },
   {
    "duration": 14,
    "start_time": "2022-12-02T11:36:04.434Z"
   },
   {
    "duration": 7,
    "start_time": "2022-12-02T11:36:06.508Z"
   },
   {
    "duration": 1179,
    "start_time": "2022-12-02T11:39:23.516Z"
   },
   {
    "duration": 61,
    "start_time": "2022-12-02T11:39:24.698Z"
   },
   {
    "duration": 8,
    "start_time": "2022-12-02T11:39:24.761Z"
   },
   {
    "duration": 31,
    "start_time": "2022-12-02T11:39:24.776Z"
   },
   {
    "duration": 13,
    "start_time": "2022-12-02T11:39:24.809Z"
   },
   {
    "duration": 10,
    "start_time": "2022-12-02T11:39:24.824Z"
   },
   {
    "duration": 23,
    "start_time": "2022-12-02T11:39:24.836Z"
   },
   {
    "duration": 20,
    "start_time": "2022-12-02T11:39:24.861Z"
   },
   {
    "duration": 775,
    "start_time": "2022-12-02T11:39:24.883Z"
   },
   {
    "duration": 4,
    "start_time": "2022-12-02T11:39:25.662Z"
   },
   {
    "duration": 20,
    "start_time": "2022-12-02T11:39:25.668Z"
   },
   {
    "duration": 6,
    "start_time": "2022-12-02T11:39:25.690Z"
   },
   {
    "duration": 11,
    "start_time": "2022-12-02T11:39:25.698Z"
   },
   {
    "duration": 9,
    "start_time": "2022-12-02T11:39:25.711Z"
   },
   {
    "duration": 33,
    "start_time": "2022-12-02T11:39:25.722Z"
   },
   {
    "duration": 5,
    "start_time": "2022-12-02T11:39:25.757Z"
   },
   {
    "duration": 11,
    "start_time": "2022-12-02T11:39:25.763Z"
   },
   {
    "duration": 8,
    "start_time": "2022-12-02T11:39:25.776Z"
   },
   {
    "duration": 15,
    "start_time": "2022-12-02T11:39:25.786Z"
   },
   {
    "duration": 17,
    "start_time": "2022-12-02T11:39:25.803Z"
   },
   {
    "duration": 33,
    "start_time": "2022-12-02T11:39:25.822Z"
   },
   {
    "duration": 7,
    "start_time": "2022-12-02T11:39:25.857Z"
   },
   {
    "duration": 20,
    "start_time": "2022-12-02T11:39:25.866Z"
   },
   {
    "duration": 24,
    "start_time": "2022-12-02T11:39:25.887Z"
   },
   {
    "duration": 9,
    "start_time": "2022-12-02T11:39:25.913Z"
   },
   {
    "duration": 14,
    "start_time": "2022-12-02T11:39:25.923Z"
   },
   {
    "duration": 21,
    "start_time": "2022-12-02T11:39:25.939Z"
   },
   {
    "duration": 13,
    "start_time": "2022-12-02T11:39:25.964Z"
   },
   {
    "duration": 11,
    "start_time": "2022-12-02T11:39:25.978Z"
   },
   {
    "duration": 12,
    "start_time": "2022-12-02T11:39:25.991Z"
   },
   {
    "duration": 21,
    "start_time": "2022-12-02T11:39:26.005Z"
   },
   {
    "duration": 18,
    "start_time": "2022-12-02T11:39:26.027Z"
   },
   {
    "duration": 252,
    "start_time": "2022-12-02T11:39:26.046Z"
   },
   {
    "duration": 10,
    "start_time": "2022-12-02T11:39:26.300Z"
   },
   {
    "duration": 14,
    "start_time": "2022-12-02T11:39:26.312Z"
   },
   {
    "duration": 194,
    "start_time": "2022-12-02T11:39:26.328Z"
   },
   {
    "duration": 9,
    "start_time": "2022-12-02T11:39:26.524Z"
   },
   {
    "duration": 20,
    "start_time": "2022-12-02T11:39:26.535Z"
   },
   {
    "duration": 3,
    "start_time": "2022-12-02T11:39:26.557Z"
   },
   {
    "duration": 20,
    "start_time": "2022-12-02T11:39:26.561Z"
   },
   {
    "duration": 26,
    "start_time": "2022-12-02T11:39:26.583Z"
   },
   {
    "duration": 19,
    "start_time": "2022-12-02T11:39:26.610Z"
   },
   {
    "duration": 256,
    "start_time": "2022-12-02T11:39:26.630Z"
   },
   {
    "duration": 13,
    "start_time": "2022-12-02T11:39:26.888Z"
   },
   {
    "duration": 518,
    "start_time": "2022-12-02T11:39:26.902Z"
   },
   {
    "duration": 5,
    "start_time": "2022-12-02T11:39:27.422Z"
   },
   {
    "duration": 29,
    "start_time": "2022-12-02T11:39:27.428Z"
   },
   {
    "duration": 3,
    "start_time": "2022-12-02T11:39:27.459Z"
   },
   {
    "duration": 12,
    "start_time": "2022-12-02T11:39:27.463Z"
   },
   {
    "duration": 9,
    "start_time": "2022-12-02T11:39:27.476Z"
   },
   {
    "duration": 179,
    "start_time": "2022-12-02T11:39:27.486Z"
   },
   {
    "duration": 12,
    "start_time": "2022-12-02T11:39:27.666Z"
   },
   {
    "duration": 6,
    "start_time": "2022-12-02T11:39:27.680Z"
   },
   {
    "duration": 269,
    "start_time": "2022-12-02T11:39:27.688Z"
   },
   {
    "duration": 106,
    "start_time": "2022-12-02T11:39:27.959Z"
   },
   {
    "duration": 0,
    "start_time": "2022-12-02T11:39:28.068Z"
   },
   {
    "duration": 0,
    "start_time": "2022-12-02T11:39:28.070Z"
   },
   {
    "duration": 0,
    "start_time": "2022-12-02T11:39:28.071Z"
   },
   {
    "duration": 0,
    "start_time": "2022-12-02T11:39:28.073Z"
   },
   {
    "duration": 0,
    "start_time": "2022-12-02T11:39:28.074Z"
   },
   {
    "duration": 0,
    "start_time": "2022-12-02T11:39:28.076Z"
   },
   {
    "duration": 0,
    "start_time": "2022-12-02T11:39:28.077Z"
   },
   {
    "duration": 0,
    "start_time": "2022-12-02T11:39:28.079Z"
   },
   {
    "duration": 0,
    "start_time": "2022-12-02T11:39:28.080Z"
   },
   {
    "duration": 0,
    "start_time": "2022-12-02T11:39:28.081Z"
   },
   {
    "duration": 0,
    "start_time": "2022-12-02T11:39:28.082Z"
   },
   {
    "duration": 0,
    "start_time": "2022-12-02T11:39:28.083Z"
   },
   {
    "duration": 0,
    "start_time": "2022-12-02T11:39:28.084Z"
   },
   {
    "duration": 0,
    "start_time": "2022-12-02T11:39:28.085Z"
   },
   {
    "duration": 0,
    "start_time": "2022-12-02T11:39:28.086Z"
   },
   {
    "duration": 0,
    "start_time": "2022-12-02T11:39:28.088Z"
   },
   {
    "duration": 0,
    "start_time": "2022-12-02T11:39:28.089Z"
   },
   {
    "duration": 0,
    "start_time": "2022-12-02T11:39:28.090Z"
   },
   {
    "duration": 0,
    "start_time": "2022-12-02T11:39:28.092Z"
   },
   {
    "duration": 0,
    "start_time": "2022-12-02T11:39:28.093Z"
   },
   {
    "duration": 0,
    "start_time": "2022-12-02T11:39:28.094Z"
   },
   {
    "duration": 0,
    "start_time": "2022-12-02T11:39:28.095Z"
   },
   {
    "duration": 0,
    "start_time": "2022-12-02T11:39:28.096Z"
   },
   {
    "duration": 0,
    "start_time": "2022-12-02T11:39:28.097Z"
   },
   {
    "duration": 0,
    "start_time": "2022-12-02T11:39:28.098Z"
   },
   {
    "duration": 0,
    "start_time": "2022-12-02T11:39:28.099Z"
   },
   {
    "duration": 0,
    "start_time": "2022-12-02T11:39:28.155Z"
   },
   {
    "duration": 0,
    "start_time": "2022-12-02T11:39:28.157Z"
   },
   {
    "duration": 0,
    "start_time": "2022-12-02T11:39:28.158Z"
   },
   {
    "duration": 0,
    "start_time": "2022-12-02T11:39:28.159Z"
   },
   {
    "duration": 0,
    "start_time": "2022-12-02T11:39:28.160Z"
   },
   {
    "duration": 0,
    "start_time": "2022-12-02T11:39:28.162Z"
   },
   {
    "duration": 0,
    "start_time": "2022-12-02T11:39:28.163Z"
   },
   {
    "duration": 0,
    "start_time": "2022-12-02T11:39:28.164Z"
   },
   {
    "duration": 0,
    "start_time": "2022-12-02T11:39:28.165Z"
   },
   {
    "duration": 0,
    "start_time": "2022-12-02T11:39:28.166Z"
   },
   {
    "duration": 0,
    "start_time": "2022-12-02T11:39:28.167Z"
   },
   {
    "duration": 0,
    "start_time": "2022-12-02T11:39:28.168Z"
   },
   {
    "duration": 0,
    "start_time": "2022-12-02T11:39:28.169Z"
   },
   {
    "duration": 0,
    "start_time": "2022-12-02T11:39:28.170Z"
   },
   {
    "duration": 0,
    "start_time": "2022-12-02T11:39:28.171Z"
   },
   {
    "duration": 0,
    "start_time": "2022-12-02T11:39:28.172Z"
   },
   {
    "duration": 0,
    "start_time": "2022-12-02T11:39:28.173Z"
   },
   {
    "duration": 0,
    "start_time": "2022-12-02T11:39:28.173Z"
   },
   {
    "duration": 0,
    "start_time": "2022-12-02T11:39:28.175Z"
   },
   {
    "duration": 0,
    "start_time": "2022-12-02T11:39:28.176Z"
   },
   {
    "duration": 0,
    "start_time": "2022-12-02T11:39:28.177Z"
   },
   {
    "duration": 0,
    "start_time": "2022-12-02T11:39:28.178Z"
   },
   {
    "duration": 0,
    "start_time": "2022-12-02T11:39:28.179Z"
   },
   {
    "duration": 0,
    "start_time": "2022-12-02T11:39:28.181Z"
   },
   {
    "duration": 0,
    "start_time": "2022-12-02T11:39:28.182Z"
   },
   {
    "duration": 0,
    "start_time": "2022-12-02T11:39:28.183Z"
   },
   {
    "duration": 0,
    "start_time": "2022-12-02T11:39:28.185Z"
   },
   {
    "duration": 0,
    "start_time": "2022-12-02T11:39:28.186Z"
   },
   {
    "duration": 0,
    "start_time": "2022-12-02T11:39:28.187Z"
   },
   {
    "duration": 0,
    "start_time": "2022-12-02T11:39:28.189Z"
   },
   {
    "duration": 0,
    "start_time": "2022-12-02T11:39:28.190Z"
   },
   {
    "duration": 0,
    "start_time": "2022-12-02T11:39:28.191Z"
   },
   {
    "duration": 0,
    "start_time": "2022-12-02T11:39:28.193Z"
   },
   {
    "duration": 0,
    "start_time": "2022-12-02T11:39:28.254Z"
   },
   {
    "duration": 0,
    "start_time": "2022-12-02T11:39:28.256Z"
   },
   {
    "duration": 0,
    "start_time": "2022-12-02T11:39:28.258Z"
   },
   {
    "duration": 0,
    "start_time": "2022-12-02T11:39:28.259Z"
   },
   {
    "duration": 0,
    "start_time": "2022-12-02T11:39:28.260Z"
   },
   {
    "duration": 0,
    "start_time": "2022-12-02T11:39:28.261Z"
   },
   {
    "duration": 0,
    "start_time": "2022-12-02T11:39:28.262Z"
   },
   {
    "duration": 0,
    "start_time": "2022-12-02T11:39:28.263Z"
   },
   {
    "duration": 0,
    "start_time": "2022-12-02T11:39:28.264Z"
   },
   {
    "duration": 0,
    "start_time": "2022-12-02T11:39:28.264Z"
   },
   {
    "duration": 0,
    "start_time": "2022-12-02T11:39:28.266Z"
   },
   {
    "duration": 0,
    "start_time": "2022-12-02T11:39:28.267Z"
   },
   {
    "duration": 0,
    "start_time": "2022-12-02T11:39:28.268Z"
   },
   {
    "duration": 0,
    "start_time": "2022-12-02T11:39:28.269Z"
   },
   {
    "duration": 0,
    "start_time": "2022-12-02T11:39:28.270Z"
   },
   {
    "duration": 0,
    "start_time": "2022-12-02T11:39:28.271Z"
   },
   {
    "duration": 0,
    "start_time": "2022-12-02T11:39:28.273Z"
   },
   {
    "duration": 0,
    "start_time": "2022-12-02T11:39:28.274Z"
   },
   {
    "duration": 0,
    "start_time": "2022-12-02T11:39:28.275Z"
   },
   {
    "duration": 0,
    "start_time": "2022-12-02T11:39:28.276Z"
   },
   {
    "duration": 0,
    "start_time": "2022-12-02T11:39:28.277Z"
   },
   {
    "duration": 0,
    "start_time": "2022-12-02T11:39:28.278Z"
   },
   {
    "duration": 0,
    "start_time": "2022-12-02T11:39:28.279Z"
   },
   {
    "duration": 1,
    "start_time": "2022-12-02T11:39:28.279Z"
   },
   {
    "duration": 0,
    "start_time": "2022-12-02T11:39:28.280Z"
   },
   {
    "duration": 0,
    "start_time": "2022-12-02T11:39:28.281Z"
   },
   {
    "duration": 0,
    "start_time": "2022-12-02T11:39:28.282Z"
   },
   {
    "duration": 0,
    "start_time": "2022-12-02T11:39:28.283Z"
   },
   {
    "duration": 0,
    "start_time": "2022-12-02T11:39:28.284Z"
   },
   {
    "duration": 0,
    "start_time": "2022-12-02T11:39:28.285Z"
   },
   {
    "duration": 1166,
    "start_time": "2022-12-02T11:40:05.655Z"
   },
   {
    "duration": 59,
    "start_time": "2022-12-02T11:40:06.823Z"
   },
   {
    "duration": 6,
    "start_time": "2022-12-02T11:40:06.884Z"
   },
   {
    "duration": 24,
    "start_time": "2022-12-02T11:40:06.892Z"
   },
   {
    "duration": 11,
    "start_time": "2022-12-02T11:40:06.918Z"
   },
   {
    "duration": 12,
    "start_time": "2022-12-02T11:40:06.931Z"
   },
   {
    "duration": 20,
    "start_time": "2022-12-02T11:40:06.945Z"
   },
   {
    "duration": 23,
    "start_time": "2022-12-02T11:40:06.967Z"
   },
   {
    "duration": 778,
    "start_time": "2022-12-02T11:40:06.992Z"
   },
   {
    "duration": 5,
    "start_time": "2022-12-02T11:40:07.773Z"
   },
   {
    "duration": 35,
    "start_time": "2022-12-02T11:40:07.780Z"
   },
   {
    "duration": 6,
    "start_time": "2022-12-02T11:40:07.817Z"
   },
   {
    "duration": 26,
    "start_time": "2022-12-02T11:40:07.824Z"
   },
   {
    "duration": 14,
    "start_time": "2022-12-02T11:40:07.852Z"
   },
   {
    "duration": 6,
    "start_time": "2022-12-02T11:40:07.868Z"
   },
   {
    "duration": 8,
    "start_time": "2022-12-02T11:40:07.876Z"
   },
   {
    "duration": 27,
    "start_time": "2022-12-02T11:40:07.886Z"
   },
   {
    "duration": 6,
    "start_time": "2022-12-02T11:40:07.915Z"
   },
   {
    "duration": 22,
    "start_time": "2022-12-02T11:40:07.923Z"
   },
   {
    "duration": 14,
    "start_time": "2022-12-02T11:40:07.947Z"
   },
   {
    "duration": 12,
    "start_time": "2022-12-02T11:40:07.963Z"
   },
   {
    "duration": 7,
    "start_time": "2022-12-02T11:40:07.977Z"
   },
   {
    "duration": 13,
    "start_time": "2022-12-02T11:40:07.986Z"
   },
   {
    "duration": 25,
    "start_time": "2022-12-02T11:40:08.001Z"
   },
   {
    "duration": 30,
    "start_time": "2022-12-02T11:40:08.028Z"
   },
   {
    "duration": 32,
    "start_time": "2022-12-02T11:40:08.060Z"
   },
   {
    "duration": 8,
    "start_time": "2022-12-02T11:40:08.094Z"
   },
   {
    "duration": 19,
    "start_time": "2022-12-02T11:40:08.107Z"
   },
   {
    "duration": 3,
    "start_time": "2022-12-02T11:40:08.128Z"
   },
   {
    "duration": 14,
    "start_time": "2022-12-02T11:40:08.134Z"
   },
   {
    "duration": 21,
    "start_time": "2022-12-02T11:40:08.150Z"
   },
   {
    "duration": 7,
    "start_time": "2022-12-02T11:40:08.173Z"
   },
   {
    "duration": 240,
    "start_time": "2022-12-02T11:40:08.182Z"
   },
   {
    "duration": 10,
    "start_time": "2022-12-02T11:40:08.425Z"
   },
   {
    "duration": 7,
    "start_time": "2022-12-02T11:40:08.436Z"
   },
   {
    "duration": 201,
    "start_time": "2022-12-02T11:40:08.444Z"
   },
   {
    "duration": 15,
    "start_time": "2022-12-02T11:40:08.647Z"
   },
   {
    "duration": 13,
    "start_time": "2022-12-02T11:40:08.663Z"
   },
   {
    "duration": 8,
    "start_time": "2022-12-02T11:40:08.677Z"
   },
   {
    "duration": 8,
    "start_time": "2022-12-02T11:40:08.686Z"
   },
   {
    "duration": 13,
    "start_time": "2022-12-02T11:40:08.696Z"
   },
   {
    "duration": 15,
    "start_time": "2022-12-02T11:40:08.713Z"
   },
   {
    "duration": 284,
    "start_time": "2022-12-02T11:40:08.730Z"
   },
   {
    "duration": 14,
    "start_time": "2022-12-02T11:40:09.016Z"
   },
   {
    "duration": 541,
    "start_time": "2022-12-02T11:40:09.031Z"
   },
   {
    "duration": 4,
    "start_time": "2022-12-02T11:40:09.574Z"
   },
   {
    "duration": 11,
    "start_time": "2022-12-02T11:40:09.580Z"
   },
   {
    "duration": 6,
    "start_time": "2022-12-02T11:40:09.593Z"
   },
   {
    "duration": 11,
    "start_time": "2022-12-02T11:40:09.600Z"
   },
   {
    "duration": 7,
    "start_time": "2022-12-02T11:40:09.613Z"
   },
   {
    "duration": 218,
    "start_time": "2022-12-02T11:40:09.621Z"
   },
   {
    "duration": 20,
    "start_time": "2022-12-02T11:40:09.840Z"
   },
   {
    "duration": 9,
    "start_time": "2022-12-02T11:40:09.862Z"
   },
   {
    "duration": 270,
    "start_time": "2022-12-02T11:40:09.872Z"
   },
   {
    "duration": 2,
    "start_time": "2022-12-02T11:40:10.144Z"
   },
   {
    "duration": 15,
    "start_time": "2022-12-02T11:40:10.154Z"
   },
   {
    "duration": 30,
    "start_time": "2022-12-02T11:40:10.170Z"
   },
   {
    "duration": 118,
    "start_time": "2022-12-02T11:40:10.202Z"
   },
   {
    "duration": 0,
    "start_time": "2022-12-02T11:40:10.323Z"
   },
   {
    "duration": 0,
    "start_time": "2022-12-02T11:40:10.325Z"
   },
   {
    "duration": 0,
    "start_time": "2022-12-02T11:40:10.326Z"
   },
   {
    "duration": 0,
    "start_time": "2022-12-02T11:40:10.327Z"
   },
   {
    "duration": 0,
    "start_time": "2022-12-02T11:40:10.328Z"
   },
   {
    "duration": 0,
    "start_time": "2022-12-02T11:40:10.329Z"
   },
   {
    "duration": 0,
    "start_time": "2022-12-02T11:40:10.330Z"
   },
   {
    "duration": 0,
    "start_time": "2022-12-02T11:40:10.331Z"
   },
   {
    "duration": 0,
    "start_time": "2022-12-02T11:40:10.332Z"
   },
   {
    "duration": 0,
    "start_time": "2022-12-02T11:40:10.333Z"
   },
   {
    "duration": 0,
    "start_time": "2022-12-02T11:40:10.334Z"
   },
   {
    "duration": 0,
    "start_time": "2022-12-02T11:40:10.335Z"
   },
   {
    "duration": 0,
    "start_time": "2022-12-02T11:40:10.354Z"
   },
   {
    "duration": 0,
    "start_time": "2022-12-02T11:40:10.356Z"
   },
   {
    "duration": 0,
    "start_time": "2022-12-02T11:40:10.357Z"
   },
   {
    "duration": 0,
    "start_time": "2022-12-02T11:40:10.358Z"
   },
   {
    "duration": 1,
    "start_time": "2022-12-02T11:40:10.358Z"
   },
   {
    "duration": 0,
    "start_time": "2022-12-02T11:40:10.360Z"
   },
   {
    "duration": 0,
    "start_time": "2022-12-02T11:40:10.360Z"
   },
   {
    "duration": 0,
    "start_time": "2022-12-02T11:40:10.361Z"
   },
   {
    "duration": 0,
    "start_time": "2022-12-02T11:40:10.362Z"
   },
   {
    "duration": 0,
    "start_time": "2022-12-02T11:40:10.363Z"
   },
   {
    "duration": 0,
    "start_time": "2022-12-02T11:40:10.364Z"
   },
   {
    "duration": 0,
    "start_time": "2022-12-02T11:40:10.365Z"
   },
   {
    "duration": 0,
    "start_time": "2022-12-02T11:40:10.366Z"
   },
   {
    "duration": 0,
    "start_time": "2022-12-02T11:40:10.367Z"
   },
   {
    "duration": 0,
    "start_time": "2022-12-02T11:40:10.368Z"
   },
   {
    "duration": 0,
    "start_time": "2022-12-02T11:40:10.368Z"
   },
   {
    "duration": 0,
    "start_time": "2022-12-02T11:40:10.370Z"
   },
   {
    "duration": 0,
    "start_time": "2022-12-02T11:40:10.370Z"
   },
   {
    "duration": 0,
    "start_time": "2022-12-02T11:40:10.372Z"
   },
   {
    "duration": 0,
    "start_time": "2022-12-02T11:40:10.373Z"
   },
   {
    "duration": 0,
    "start_time": "2022-12-02T11:40:10.373Z"
   },
   {
    "duration": 0,
    "start_time": "2022-12-02T11:40:10.374Z"
   },
   {
    "duration": 0,
    "start_time": "2022-12-02T11:40:10.375Z"
   },
   {
    "duration": 0,
    "start_time": "2022-12-02T11:40:10.376Z"
   },
   {
    "duration": 0,
    "start_time": "2022-12-02T11:40:10.378Z"
   },
   {
    "duration": 0,
    "start_time": "2022-12-02T11:40:10.378Z"
   },
   {
    "duration": 0,
    "start_time": "2022-12-02T11:40:10.380Z"
   },
   {
    "duration": 0,
    "start_time": "2022-12-02T11:40:10.381Z"
   },
   {
    "duration": 0,
    "start_time": "2022-12-02T11:40:10.382Z"
   },
   {
    "duration": 0,
    "start_time": "2022-12-02T11:40:10.383Z"
   },
   {
    "duration": 0,
    "start_time": "2022-12-02T11:40:10.384Z"
   },
   {
    "duration": 0,
    "start_time": "2022-12-02T11:40:10.386Z"
   },
   {
    "duration": 0,
    "start_time": "2022-12-02T11:40:10.387Z"
   },
   {
    "duration": 0,
    "start_time": "2022-12-02T11:40:10.388Z"
   },
   {
    "duration": 0,
    "start_time": "2022-12-02T11:40:10.389Z"
   },
   {
    "duration": 0,
    "start_time": "2022-12-02T11:40:10.455Z"
   },
   {
    "duration": 0,
    "start_time": "2022-12-02T11:40:10.456Z"
   },
   {
    "duration": 0,
    "start_time": "2022-12-02T11:40:10.458Z"
   },
   {
    "duration": 0,
    "start_time": "2022-12-02T11:40:10.459Z"
   },
   {
    "duration": 0,
    "start_time": "2022-12-02T11:40:10.461Z"
   },
   {
    "duration": 0,
    "start_time": "2022-12-02T11:40:10.462Z"
   },
   {
    "duration": 0,
    "start_time": "2022-12-02T11:40:10.463Z"
   },
   {
    "duration": 0,
    "start_time": "2022-12-02T11:40:10.464Z"
   },
   {
    "duration": 0,
    "start_time": "2022-12-02T11:40:10.466Z"
   },
   {
    "duration": 0,
    "start_time": "2022-12-02T11:40:10.466Z"
   },
   {
    "duration": 0,
    "start_time": "2022-12-02T11:40:10.467Z"
   },
   {
    "duration": 0,
    "start_time": "2022-12-02T11:40:10.468Z"
   },
   {
    "duration": 0,
    "start_time": "2022-12-02T11:40:10.469Z"
   },
   {
    "duration": 0,
    "start_time": "2022-12-02T11:40:10.471Z"
   },
   {
    "duration": 0,
    "start_time": "2022-12-02T11:40:10.472Z"
   },
   {
    "duration": 0,
    "start_time": "2022-12-02T11:40:10.473Z"
   },
   {
    "duration": 0,
    "start_time": "2022-12-02T11:40:10.474Z"
   },
   {
    "duration": 0,
    "start_time": "2022-12-02T11:40:10.475Z"
   },
   {
    "duration": 0,
    "start_time": "2022-12-02T11:40:10.476Z"
   },
   {
    "duration": 0,
    "start_time": "2022-12-02T11:40:10.477Z"
   },
   {
    "duration": 0,
    "start_time": "2022-12-02T11:40:10.478Z"
   },
   {
    "duration": 0,
    "start_time": "2022-12-02T11:40:10.480Z"
   },
   {
    "duration": 0,
    "start_time": "2022-12-02T11:40:10.481Z"
   },
   {
    "duration": 0,
    "start_time": "2022-12-02T11:40:10.482Z"
   },
   {
    "duration": 0,
    "start_time": "2022-12-02T11:40:10.483Z"
   },
   {
    "duration": 0,
    "start_time": "2022-12-02T11:40:10.484Z"
   },
   {
    "duration": 0,
    "start_time": "2022-12-02T11:40:10.485Z"
   },
   {
    "duration": 0,
    "start_time": "2022-12-02T11:40:10.487Z"
   },
   {
    "duration": 0,
    "start_time": "2022-12-02T11:40:10.488Z"
   },
   {
    "duration": 0,
    "start_time": "2022-12-02T11:40:10.490Z"
   },
   {
    "duration": 0,
    "start_time": "2022-12-02T11:40:10.555Z"
   },
   {
    "duration": 0,
    "start_time": "2022-12-02T11:40:10.557Z"
   },
   {
    "duration": 0,
    "start_time": "2022-12-02T11:40:10.558Z"
   },
   {
    "duration": 0,
    "start_time": "2022-12-02T11:40:10.560Z"
   },
   {
    "duration": 0,
    "start_time": "2022-12-02T11:40:10.561Z"
   },
   {
    "duration": 0,
    "start_time": "2022-12-02T11:40:10.562Z"
   },
   {
    "duration": 0,
    "start_time": "2022-12-02T11:40:10.563Z"
   },
   {
    "duration": 0,
    "start_time": "2022-12-02T11:40:10.565Z"
   },
   {
    "duration": 0,
    "start_time": "2022-12-02T11:40:10.566Z"
   },
   {
    "duration": 1129,
    "start_time": "2022-12-02T11:40:59.182Z"
   },
   {
    "duration": 55,
    "start_time": "2022-12-02T11:41:00.313Z"
   },
   {
    "duration": 40,
    "start_time": "2022-12-02T11:41:00.369Z"
   },
   {
    "duration": 24,
    "start_time": "2022-12-02T11:41:00.412Z"
   },
   {
    "duration": 75,
    "start_time": "2022-12-02T11:41:00.438Z"
   },
   {
    "duration": 38,
    "start_time": "2022-12-02T11:41:00.515Z"
   },
   {
    "duration": 61,
    "start_time": "2022-12-02T11:41:00.555Z"
   },
   {
    "duration": 132,
    "start_time": "2022-12-02T11:41:00.618Z"
   },
   {
    "duration": 766,
    "start_time": "2022-12-02T11:41:00.752Z"
   },
   {
    "duration": 6,
    "start_time": "2022-12-02T11:41:01.521Z"
   },
   {
    "duration": 37,
    "start_time": "2022-12-02T11:41:01.529Z"
   },
   {
    "duration": 5,
    "start_time": "2022-12-02T11:41:01.568Z"
   },
   {
    "duration": 16,
    "start_time": "2022-12-02T11:41:01.575Z"
   },
   {
    "duration": 25,
    "start_time": "2022-12-02T11:41:01.592Z"
   },
   {
    "duration": 6,
    "start_time": "2022-12-02T11:41:01.619Z"
   },
   {
    "duration": 15,
    "start_time": "2022-12-02T11:41:01.627Z"
   },
   {
    "duration": 13,
    "start_time": "2022-12-02T11:41:01.644Z"
   },
   {
    "duration": 61,
    "start_time": "2022-12-02T11:41:01.659Z"
   },
   {
    "duration": 19,
    "start_time": "2022-12-02T11:41:01.722Z"
   },
   {
    "duration": 21,
    "start_time": "2022-12-02T11:41:01.743Z"
   },
   {
    "duration": 15,
    "start_time": "2022-12-02T11:41:01.766Z"
   },
   {
    "duration": 8,
    "start_time": "2022-12-02T11:41:01.783Z"
   },
   {
    "duration": 27,
    "start_time": "2022-12-02T11:41:01.793Z"
   },
   {
    "duration": 16,
    "start_time": "2022-12-02T11:41:01.822Z"
   },
   {
    "duration": 20,
    "start_time": "2022-12-02T11:41:01.840Z"
   },
   {
    "duration": 10,
    "start_time": "2022-12-02T11:41:01.862Z"
   },
   {
    "duration": 30,
    "start_time": "2022-12-02T11:41:01.874Z"
   },
   {
    "duration": 18,
    "start_time": "2022-12-02T11:41:01.909Z"
   },
   {
    "duration": 2,
    "start_time": "2022-12-02T11:41:01.929Z"
   },
   {
    "duration": 26,
    "start_time": "2022-12-02T11:41:01.933Z"
   },
   {
    "duration": 25,
    "start_time": "2022-12-02T11:41:01.961Z"
   },
   {
    "duration": 11,
    "start_time": "2022-12-02T11:41:01.987Z"
   },
   {
    "duration": 248,
    "start_time": "2022-12-02T11:41:02.000Z"
   },
   {
    "duration": 14,
    "start_time": "2022-12-02T11:41:02.249Z"
   },
   {
    "duration": 8,
    "start_time": "2022-12-02T11:41:02.264Z"
   },
   {
    "duration": 215,
    "start_time": "2022-12-02T11:41:02.273Z"
   },
   {
    "duration": 10,
    "start_time": "2022-12-02T11:41:02.490Z"
   },
   {
    "duration": 12,
    "start_time": "2022-12-02T11:41:02.501Z"
   },
   {
    "duration": 9,
    "start_time": "2022-12-02T11:41:02.515Z"
   },
   {
    "duration": 16,
    "start_time": "2022-12-02T11:41:02.526Z"
   },
   {
    "duration": 18,
    "start_time": "2022-12-02T11:41:02.544Z"
   },
   {
    "duration": 16,
    "start_time": "2022-12-02T11:41:02.564Z"
   },
   {
    "duration": 305,
    "start_time": "2022-12-02T11:41:02.581Z"
   },
   {
    "duration": 14,
    "start_time": "2022-12-02T11:41:02.888Z"
   },
   {
    "duration": 505,
    "start_time": "2022-12-02T11:41:02.903Z"
   },
   {
    "duration": 5,
    "start_time": "2022-12-02T11:41:03.409Z"
   },
   {
    "duration": 13,
    "start_time": "2022-12-02T11:41:03.416Z"
   },
   {
    "duration": 12,
    "start_time": "2022-12-02T11:41:03.431Z"
   },
   {
    "duration": 11,
    "start_time": "2022-12-02T11:41:03.454Z"
   },
   {
    "duration": 6,
    "start_time": "2022-12-02T11:41:03.466Z"
   },
   {
    "duration": 183,
    "start_time": "2022-12-02T11:41:03.474Z"
   },
   {
    "duration": 12,
    "start_time": "2022-12-02T11:41:03.659Z"
   },
   {
    "duration": 21,
    "start_time": "2022-12-02T11:41:03.673Z"
   },
   {
    "duration": 255,
    "start_time": "2022-12-02T11:41:03.696Z"
   },
   {
    "duration": 3,
    "start_time": "2022-12-02T11:41:03.954Z"
   },
   {
    "duration": 12,
    "start_time": "2022-12-02T11:41:03.959Z"
   },
   {
    "duration": 16,
    "start_time": "2022-12-02T11:41:03.973Z"
   },
   {
    "duration": 12,
    "start_time": "2022-12-02T11:41:03.990Z"
   },
   {
    "duration": 17,
    "start_time": "2022-12-02T11:41:04.003Z"
   },
   {
    "duration": 7,
    "start_time": "2022-12-02T11:41:04.022Z"
   },
   {
    "duration": 271,
    "start_time": "2022-12-02T11:41:04.030Z"
   },
   {
    "duration": 262,
    "start_time": "2022-12-02T11:41:04.303Z"
   },
   {
    "duration": 256,
    "start_time": "2022-12-02T11:41:04.567Z"
   },
   {
    "duration": 56,
    "start_time": "2022-12-02T11:41:04.825Z"
   },
   {
    "duration": 221,
    "start_time": "2022-12-02T11:41:04.883Z"
   },
   {
    "duration": 36,
    "start_time": "2022-12-02T11:41:05.106Z"
   },
   {
    "duration": 6,
    "start_time": "2022-12-02T11:41:05.154Z"
   },
   {
    "duration": 158,
    "start_time": "2022-12-02T11:41:05.161Z"
   },
   {
    "duration": 6,
    "start_time": "2022-12-02T11:41:05.322Z"
   },
   {
    "duration": 160,
    "start_time": "2022-12-02T11:41:05.330Z"
   },
   {
    "duration": 5,
    "start_time": "2022-12-02T11:41:05.493Z"
   },
   {
    "duration": 11,
    "start_time": "2022-12-02T11:41:05.499Z"
   },
   {
    "duration": 173,
    "start_time": "2022-12-02T11:41:05.511Z"
   },
   {
    "duration": 7,
    "start_time": "2022-12-02T11:41:05.686Z"
   },
   {
    "duration": 167,
    "start_time": "2022-12-02T11:41:05.695Z"
   },
   {
    "duration": 5,
    "start_time": "2022-12-02T11:41:05.864Z"
   },
   {
    "duration": 10,
    "start_time": "2022-12-02T11:41:05.871Z"
   },
   {
    "duration": 252,
    "start_time": "2022-12-02T11:41:05.883Z"
   },
   {
    "duration": 6,
    "start_time": "2022-12-02T11:41:06.137Z"
   },
   {
    "duration": 164,
    "start_time": "2022-12-02T11:41:06.145Z"
   },
   {
    "duration": 6,
    "start_time": "2022-12-02T11:41:06.311Z"
   },
   {
    "duration": 15,
    "start_time": "2022-12-02T11:41:06.324Z"
   },
   {
    "duration": 14,
    "start_time": "2022-12-02T11:41:06.355Z"
   },
   {
    "duration": 7,
    "start_time": "2022-12-02T11:41:06.370Z"
   },
   {
    "duration": 209,
    "start_time": "2022-12-02T11:41:06.379Z"
   },
   {
    "duration": 12,
    "start_time": "2022-12-02T11:41:06.590Z"
   },
   {
    "duration": 10,
    "start_time": "2022-12-02T11:41:06.603Z"
   },
   {
    "duration": 213,
    "start_time": "2022-12-02T11:41:06.615Z"
   },
   {
    "duration": 12,
    "start_time": "2022-12-02T11:41:06.829Z"
   },
   {
    "duration": 29,
    "start_time": "2022-12-02T11:41:06.843Z"
   },
   {
    "duration": 9,
    "start_time": "2022-12-02T11:41:06.873Z"
   },
   {
    "duration": 13,
    "start_time": "2022-12-02T11:41:06.884Z"
   },
   {
    "duration": 10,
    "start_time": "2022-12-02T11:41:06.898Z"
   },
   {
    "duration": 9,
    "start_time": "2022-12-02T11:41:06.909Z"
   },
   {
    "duration": 38,
    "start_time": "2022-12-02T11:41:06.920Z"
   },
   {
    "duration": 10,
    "start_time": "2022-12-02T11:41:06.960Z"
   },
   {
    "duration": 131,
    "start_time": "2022-12-02T11:41:06.972Z"
   },
   {
    "duration": 12,
    "start_time": "2022-12-02T11:41:07.105Z"
   },
   {
    "duration": 3,
    "start_time": "2022-12-02T11:41:07.119Z"
   },
   {
    "duration": 9,
    "start_time": "2022-12-02T11:41:07.124Z"
   },
   {
    "duration": 13,
    "start_time": "2022-12-02T11:41:07.134Z"
   },
   {
    "duration": 12,
    "start_time": "2022-12-02T11:41:07.154Z"
   },
   {
    "duration": 133,
    "start_time": "2022-12-02T11:41:07.168Z"
   },
   {
    "duration": 12,
    "start_time": "2022-12-02T11:41:07.302Z"
   },
   {
    "duration": 2,
    "start_time": "2022-12-02T11:41:07.316Z"
   },
   {
    "duration": 7,
    "start_time": "2022-12-02T11:41:07.320Z"
   },
   {
    "duration": 11,
    "start_time": "2022-12-02T11:41:07.329Z"
   },
   {
    "duration": 23,
    "start_time": "2022-12-02T11:41:07.341Z"
   },
   {
    "duration": 138,
    "start_time": "2022-12-02T11:41:07.366Z"
   },
   {
    "duration": 312,
    "start_time": "2022-12-02T11:41:07.506Z"
   },
   {
    "duration": 12,
    "start_time": "2022-12-02T11:41:07.819Z"
   },
   {
    "duration": 7,
    "start_time": "2022-12-02T11:41:07.833Z"
   },
   {
    "duration": 16,
    "start_time": "2022-12-02T11:41:07.841Z"
   },
   {
    "duration": 8,
    "start_time": "2022-12-02T11:41:07.858Z"
   },
   {
    "duration": 10,
    "start_time": "2022-12-02T11:41:07.868Z"
   },
   {
    "duration": 14,
    "start_time": "2022-12-02T11:41:07.879Z"
   },
   {
    "duration": 145,
    "start_time": "2022-12-02T11:41:07.894Z"
   },
   {
    "duration": 21,
    "start_time": "2022-12-02T11:41:08.042Z"
   },
   {
    "duration": 3,
    "start_time": "2022-12-02T11:41:08.065Z"
   },
   {
    "duration": 9,
    "start_time": "2022-12-02T11:41:08.069Z"
   },
   {
    "duration": 17,
    "start_time": "2022-12-02T11:41:08.080Z"
   },
   {
    "duration": 16,
    "start_time": "2022-12-02T11:41:08.099Z"
   },
   {
    "duration": 135,
    "start_time": "2022-12-02T11:41:08.117Z"
   },
   {
    "duration": 13,
    "start_time": "2022-12-02T11:41:08.254Z"
   },
   {
    "duration": 6,
    "start_time": "2022-12-02T11:41:08.269Z"
   },
   {
    "duration": 7,
    "start_time": "2022-12-02T11:41:08.277Z"
   },
   {
    "duration": 9,
    "start_time": "2022-12-02T11:41:08.286Z"
   },
   {
    "duration": 15,
    "start_time": "2022-12-02T11:41:08.296Z"
   },
   {
    "duration": 221,
    "start_time": "2022-12-02T11:41:08.312Z"
   },
   {
    "duration": 312,
    "start_time": "2022-12-02T11:41:08.535Z"
   },
   {
    "duration": 16,
    "start_time": "2022-12-02T11:41:08.848Z"
   },
   {
    "duration": 11,
    "start_time": "2022-12-02T11:41:08.866Z"
   },
   {
    "duration": 131,
    "start_time": "2022-12-02T11:41:08.878Z"
   },
   {
    "duration": 14,
    "start_time": "2022-12-02T11:41:09.011Z"
   },
   {
    "duration": 8,
    "start_time": "2022-12-02T11:41:09.026Z"
   },
   {
    "duration": 140,
    "start_time": "2022-12-02T11:41:09.035Z"
   },
   {
    "duration": 13,
    "start_time": "2022-12-02T11:41:09.177Z"
   },
   {
    "duration": 16,
    "start_time": "2022-12-02T11:41:09.191Z"
   },
   {
    "duration": 131,
    "start_time": "2022-12-02T11:41:09.208Z"
   },
   {
    "duration": 282,
    "start_time": "2022-12-02T11:41:09.341Z"
   },
   {
    "duration": 7,
    "start_time": "2022-12-02T11:41:09.625Z"
   },
   {
    "duration": 14,
    "start_time": "2022-12-02T11:41:09.634Z"
   },
   {
    "duration": 9,
    "start_time": "2022-12-02T11:41:09.654Z"
   },
   {
    "duration": 5,
    "start_time": "2022-12-02T11:41:09.664Z"
   },
   {
    "duration": 223,
    "start_time": "2022-12-02T11:55:41.005Z"
   },
   {
    "duration": 219,
    "start_time": "2022-12-02T12:06:26.838Z"
   },
   {
    "duration": 306,
    "start_time": "2022-12-02T12:06:40.247Z"
   },
   {
    "duration": 218,
    "start_time": "2022-12-02T12:07:57.370Z"
   },
   {
    "duration": 225,
    "start_time": "2022-12-02T12:08:24.579Z"
   },
   {
    "duration": 72,
    "start_time": "2022-12-02T12:09:13.883Z"
   },
   {
    "duration": 225,
    "start_time": "2022-12-02T12:11:40.782Z"
   },
   {
    "duration": 212,
    "start_time": "2022-12-02T12:11:59.444Z"
   },
   {
    "duration": 289,
    "start_time": "2022-12-02T12:12:09.845Z"
   },
   {
    "duration": 22,
    "start_time": "2022-12-02T12:15:04.503Z"
   },
   {
    "duration": 6,
    "start_time": "2022-12-02T12:15:32.101Z"
   },
   {
    "duration": 16,
    "start_time": "2022-12-02T12:15:36.443Z"
   },
   {
    "duration": 15,
    "start_time": "2022-12-02T12:16:03.403Z"
   },
   {
    "duration": 285,
    "start_time": "2022-12-02T12:16:22.053Z"
   },
   {
    "duration": 286,
    "start_time": "2022-12-02T12:18:00.318Z"
   },
   {
    "duration": 213,
    "start_time": "2022-12-02T12:18:21.413Z"
   },
   {
    "duration": 217,
    "start_time": "2022-12-02T12:19:22.259Z"
   },
   {
    "duration": 220,
    "start_time": "2022-12-02T12:22:54.163Z"
   },
   {
    "duration": 73,
    "start_time": "2022-12-02T12:31:34.670Z"
   },
   {
    "duration": 59,
    "start_time": "2022-12-02T12:32:01.562Z"
   },
   {
    "duration": 63,
    "start_time": "2022-12-02T12:34:45.383Z"
   },
   {
    "duration": 314,
    "start_time": "2022-12-02T12:34:53.228Z"
   },
   {
    "duration": 239,
    "start_time": "2022-12-02T12:35:02.727Z"
   },
   {
    "duration": 236,
    "start_time": "2022-12-02T12:35:09.755Z"
   },
   {
    "duration": 207,
    "start_time": "2022-12-02T12:36:43.209Z"
   },
   {
    "duration": 215,
    "start_time": "2022-12-02T12:36:49.699Z"
   },
   {
    "duration": 218,
    "start_time": "2022-12-02T12:37:05.086Z"
   },
   {
    "duration": 293,
    "start_time": "2022-12-02T12:37:18.425Z"
   },
   {
    "duration": 226,
    "start_time": "2022-12-02T12:38:43.891Z"
   },
   {
    "duration": 50,
    "start_time": "2022-12-02T12:43:00.776Z"
   },
   {
    "duration": 1214,
    "start_time": "2022-12-02T12:43:24.785Z"
   },
   {
    "duration": 56,
    "start_time": "2022-12-02T12:43:26.001Z"
   },
   {
    "duration": 3,
    "start_time": "2022-12-02T12:43:26.059Z"
   },
   {
    "duration": 9,
    "start_time": "2022-12-02T12:43:26.064Z"
   },
   {
    "duration": 7,
    "start_time": "2022-12-02T12:43:26.075Z"
   },
   {
    "duration": 10,
    "start_time": "2022-12-02T12:43:26.083Z"
   },
   {
    "duration": 20,
    "start_time": "2022-12-02T12:43:26.094Z"
   },
   {
    "duration": 18,
    "start_time": "2022-12-02T12:43:26.116Z"
   },
   {
    "duration": 820,
    "start_time": "2022-12-02T12:43:26.136Z"
   },
   {
    "duration": 5,
    "start_time": "2022-12-02T12:43:26.959Z"
   },
   {
    "duration": 22,
    "start_time": "2022-12-02T12:43:26.965Z"
   },
   {
    "duration": 5,
    "start_time": "2022-12-02T12:43:26.988Z"
   },
   {
    "duration": 9,
    "start_time": "2022-12-02T12:43:26.995Z"
   },
   {
    "duration": 11,
    "start_time": "2022-12-02T12:43:27.006Z"
   },
   {
    "duration": 5,
    "start_time": "2022-12-02T12:43:27.019Z"
   },
   {
    "duration": 9,
    "start_time": "2022-12-02T12:43:27.056Z"
   },
   {
    "duration": 10,
    "start_time": "2022-12-02T12:43:27.067Z"
   },
   {
    "duration": 6,
    "start_time": "2022-12-02T12:43:27.079Z"
   },
   {
    "duration": 8,
    "start_time": "2022-12-02T12:43:27.086Z"
   },
   {
    "duration": 20,
    "start_time": "2022-12-02T12:43:27.095Z"
   },
   {
    "duration": 40,
    "start_time": "2022-12-02T12:43:27.116Z"
   },
   {
    "duration": 7,
    "start_time": "2022-12-02T12:43:27.158Z"
   },
   {
    "duration": 12,
    "start_time": "2022-12-02T12:43:27.167Z"
   },
   {
    "duration": 17,
    "start_time": "2022-12-02T12:43:27.181Z"
   },
   {
    "duration": 8,
    "start_time": "2022-12-02T12:43:27.199Z"
   },
   {
    "duration": 8,
    "start_time": "2022-12-02T12:43:27.208Z"
   },
   {
    "duration": 39,
    "start_time": "2022-12-02T12:43:27.218Z"
   },
   {
    "duration": 9,
    "start_time": "2022-12-02T12:43:27.263Z"
   },
   {
    "duration": 13,
    "start_time": "2022-12-02T12:43:27.274Z"
   },
   {
    "duration": 35,
    "start_time": "2022-12-02T12:43:27.289Z"
   },
   {
    "duration": 14,
    "start_time": "2022-12-02T12:43:27.326Z"
   },
   {
    "duration": 10,
    "start_time": "2022-12-02T12:43:27.341Z"
   },
   {
    "duration": 270,
    "start_time": "2022-12-02T12:43:27.353Z"
   },
   {
    "duration": 12,
    "start_time": "2022-12-02T12:43:27.625Z"
   },
   {
    "duration": 17,
    "start_time": "2022-12-02T12:43:27.639Z"
   },
   {
    "duration": 215,
    "start_time": "2022-12-02T12:43:27.658Z"
   },
   {
    "duration": 11,
    "start_time": "2022-12-02T12:43:27.874Z"
   },
   {
    "duration": 10,
    "start_time": "2022-12-02T12:43:27.886Z"
   },
   {
    "duration": 9,
    "start_time": "2022-12-02T12:43:27.897Z"
   },
   {
    "duration": 14,
    "start_time": "2022-12-02T12:43:27.907Z"
   },
   {
    "duration": 25,
    "start_time": "2022-12-02T12:43:27.923Z"
   },
   {
    "duration": 17,
    "start_time": "2022-12-02T12:43:27.950Z"
   },
   {
    "duration": 277,
    "start_time": "2022-12-02T12:43:27.969Z"
   },
   {
    "duration": 15,
    "start_time": "2022-12-02T12:43:28.248Z"
   },
   {
    "duration": 635,
    "start_time": "2022-12-02T12:43:28.265Z"
   },
   {
    "duration": 5,
    "start_time": "2022-12-02T12:43:28.902Z"
   },
   {
    "duration": 15,
    "start_time": "2022-12-02T12:43:28.909Z"
   },
   {
    "duration": 9,
    "start_time": "2022-12-02T12:43:28.926Z"
   },
   {
    "duration": 24,
    "start_time": "2022-12-02T12:43:28.937Z"
   },
   {
    "duration": 13,
    "start_time": "2022-12-02T12:43:28.963Z"
   },
   {
    "duration": 187,
    "start_time": "2022-12-02T12:43:28.978Z"
   },
   {
    "duration": 15,
    "start_time": "2022-12-02T12:43:29.167Z"
   },
   {
    "duration": 10,
    "start_time": "2022-12-02T12:43:29.183Z"
   },
   {
    "duration": 183,
    "start_time": "2022-12-02T12:43:29.195Z"
   },
   {
    "duration": 2,
    "start_time": "2022-12-02T12:43:29.380Z"
   },
   {
    "duration": 12,
    "start_time": "2022-12-02T12:43:29.384Z"
   },
   {
    "duration": 23,
    "start_time": "2022-12-02T12:43:29.398Z"
   },
   {
    "duration": 5,
    "start_time": "2022-12-02T12:43:29.423Z"
   },
   {
    "duration": 25,
    "start_time": "2022-12-02T12:43:29.430Z"
   },
   {
    "duration": 284,
    "start_time": "2022-12-02T12:43:29.457Z"
   },
   {
    "duration": 230,
    "start_time": "2022-12-02T12:43:29.743Z"
   },
   {
    "duration": 8,
    "start_time": "2022-12-02T12:43:29.974Z"
   },
   {
    "duration": 91,
    "start_time": "2022-12-02T12:43:29.984Z"
   },
   {
    "duration": 0,
    "start_time": "2022-12-02T12:43:30.078Z"
   },
   {
    "duration": 1,
    "start_time": "2022-12-02T12:43:30.079Z"
   },
   {
    "duration": 0,
    "start_time": "2022-12-02T12:43:30.081Z"
   },
   {
    "duration": 0,
    "start_time": "2022-12-02T12:43:30.082Z"
   },
   {
    "duration": 0,
    "start_time": "2022-12-02T12:43:30.083Z"
   },
   {
    "duration": 0,
    "start_time": "2022-12-02T12:43:30.084Z"
   },
   {
    "duration": 0,
    "start_time": "2022-12-02T12:43:30.085Z"
   },
   {
    "duration": 0,
    "start_time": "2022-12-02T12:43:30.087Z"
   },
   {
    "duration": 0,
    "start_time": "2022-12-02T12:43:30.087Z"
   },
   {
    "duration": 0,
    "start_time": "2022-12-02T12:43:30.088Z"
   },
   {
    "duration": 0,
    "start_time": "2022-12-02T12:43:30.090Z"
   },
   {
    "duration": 0,
    "start_time": "2022-12-02T12:43:30.091Z"
   },
   {
    "duration": 0,
    "start_time": "2022-12-02T12:43:30.092Z"
   },
   {
    "duration": 0,
    "start_time": "2022-12-02T12:43:30.093Z"
   },
   {
    "duration": 0,
    "start_time": "2022-12-02T12:43:30.095Z"
   },
   {
    "duration": 0,
    "start_time": "2022-12-02T12:43:30.096Z"
   },
   {
    "duration": 0,
    "start_time": "2022-12-02T12:43:30.097Z"
   },
   {
    "duration": 0,
    "start_time": "2022-12-02T12:43:30.099Z"
   },
   {
    "duration": 0,
    "start_time": "2022-12-02T12:43:30.100Z"
   },
   {
    "duration": 0,
    "start_time": "2022-12-02T12:43:30.101Z"
   },
   {
    "duration": 0,
    "start_time": "2022-12-02T12:43:30.102Z"
   },
   {
    "duration": 0,
    "start_time": "2022-12-02T12:43:30.104Z"
   },
   {
    "duration": 0,
    "start_time": "2022-12-02T12:43:30.105Z"
   },
   {
    "duration": 0,
    "start_time": "2022-12-02T12:43:30.106Z"
   },
   {
    "duration": 0,
    "start_time": "2022-12-02T12:43:30.107Z"
   },
   {
    "duration": 0,
    "start_time": "2022-12-02T12:43:30.108Z"
   },
   {
    "duration": 0,
    "start_time": "2022-12-02T12:43:30.110Z"
   },
   {
    "duration": 0,
    "start_time": "2022-12-02T12:43:30.111Z"
   },
   {
    "duration": 0,
    "start_time": "2022-12-02T12:43:30.112Z"
   },
   {
    "duration": 0,
    "start_time": "2022-12-02T12:43:30.158Z"
   },
   {
    "duration": 0,
    "start_time": "2022-12-02T12:43:30.159Z"
   },
   {
    "duration": 0,
    "start_time": "2022-12-02T12:43:30.161Z"
   },
   {
    "duration": 0,
    "start_time": "2022-12-02T12:43:30.163Z"
   },
   {
    "duration": 0,
    "start_time": "2022-12-02T12:43:30.164Z"
   },
   {
    "duration": 1,
    "start_time": "2022-12-02T12:43:30.165Z"
   },
   {
    "duration": 0,
    "start_time": "2022-12-02T12:43:30.167Z"
   },
   {
    "duration": 0,
    "start_time": "2022-12-02T12:43:30.168Z"
   },
   {
    "duration": 0,
    "start_time": "2022-12-02T12:43:30.169Z"
   },
   {
    "duration": 0,
    "start_time": "2022-12-02T12:43:30.170Z"
   },
   {
    "duration": 0,
    "start_time": "2022-12-02T12:43:30.172Z"
   },
   {
    "duration": 0,
    "start_time": "2022-12-02T12:43:30.172Z"
   },
   {
    "duration": 0,
    "start_time": "2022-12-02T12:43:30.174Z"
   },
   {
    "duration": 0,
    "start_time": "2022-12-02T12:43:30.175Z"
   },
   {
    "duration": 0,
    "start_time": "2022-12-02T12:43:30.176Z"
   },
   {
    "duration": 0,
    "start_time": "2022-12-02T12:43:30.177Z"
   },
   {
    "duration": 0,
    "start_time": "2022-12-02T12:43:30.178Z"
   },
   {
    "duration": 0,
    "start_time": "2022-12-02T12:43:30.179Z"
   },
   {
    "duration": 0,
    "start_time": "2022-12-02T12:43:30.180Z"
   },
   {
    "duration": 0,
    "start_time": "2022-12-02T12:43:30.181Z"
   },
   {
    "duration": 0,
    "start_time": "2022-12-02T12:43:30.182Z"
   },
   {
    "duration": 0,
    "start_time": "2022-12-02T12:43:30.183Z"
   },
   {
    "duration": 0,
    "start_time": "2022-12-02T12:43:30.184Z"
   },
   {
    "duration": 0,
    "start_time": "2022-12-02T12:43:30.185Z"
   },
   {
    "duration": 0,
    "start_time": "2022-12-02T12:43:30.186Z"
   },
   {
    "duration": 0,
    "start_time": "2022-12-02T12:43:30.188Z"
   },
   {
    "duration": 0,
    "start_time": "2022-12-02T12:43:30.189Z"
   },
   {
    "duration": 0,
    "start_time": "2022-12-02T12:43:30.190Z"
   },
   {
    "duration": 0,
    "start_time": "2022-12-02T12:43:30.191Z"
   },
   {
    "duration": 0,
    "start_time": "2022-12-02T12:43:30.192Z"
   },
   {
    "duration": 0,
    "start_time": "2022-12-02T12:43:30.255Z"
   },
   {
    "duration": 0,
    "start_time": "2022-12-02T12:43:30.256Z"
   },
   {
    "duration": 0,
    "start_time": "2022-12-02T12:43:30.257Z"
   },
   {
    "duration": 0,
    "start_time": "2022-12-02T12:43:30.259Z"
   },
   {
    "duration": 0,
    "start_time": "2022-12-02T12:43:30.260Z"
   },
   {
    "duration": 0,
    "start_time": "2022-12-02T12:43:30.261Z"
   },
   {
    "duration": 0,
    "start_time": "2022-12-02T12:43:30.262Z"
   },
   {
    "duration": 0,
    "start_time": "2022-12-02T12:43:30.263Z"
   },
   {
    "duration": 0,
    "start_time": "2022-12-02T12:43:30.265Z"
   },
   {
    "duration": 0,
    "start_time": "2022-12-02T12:43:30.266Z"
   },
   {
    "duration": 0,
    "start_time": "2022-12-02T12:43:30.267Z"
   },
   {
    "duration": 0,
    "start_time": "2022-12-02T12:43:30.268Z"
   },
   {
    "duration": 0,
    "start_time": "2022-12-02T12:43:30.269Z"
   },
   {
    "duration": 0,
    "start_time": "2022-12-02T12:43:30.270Z"
   },
   {
    "duration": 0,
    "start_time": "2022-12-02T12:43:30.272Z"
   },
   {
    "duration": 0,
    "start_time": "2022-12-02T12:43:30.273Z"
   },
   {
    "duration": 0,
    "start_time": "2022-12-02T12:43:30.275Z"
   },
   {
    "duration": 0,
    "start_time": "2022-12-02T12:43:30.276Z"
   },
   {
    "duration": 0,
    "start_time": "2022-12-02T12:43:30.277Z"
   },
   {
    "duration": 0,
    "start_time": "2022-12-02T12:43:30.280Z"
   },
   {
    "duration": 0,
    "start_time": "2022-12-02T12:43:30.281Z"
   },
   {
    "duration": 0,
    "start_time": "2022-12-02T12:43:30.282Z"
   },
   {
    "duration": 0,
    "start_time": "2022-12-02T12:43:30.284Z"
   },
   {
    "duration": 246,
    "start_time": "2022-12-02T12:44:22.966Z"
   },
   {
    "duration": 245,
    "start_time": "2022-12-02T12:44:50.804Z"
   },
   {
    "duration": 272,
    "start_time": "2022-12-02T12:45:00.593Z"
   },
   {
    "duration": 1276,
    "start_time": "2022-12-02T12:46:02.995Z"
   },
   {
    "duration": 54,
    "start_time": "2022-12-02T12:46:04.272Z"
   },
   {
    "duration": 2,
    "start_time": "2022-12-02T12:46:04.328Z"
   },
   {
    "duration": 9,
    "start_time": "2022-12-02T12:46:04.333Z"
   },
   {
    "duration": 14,
    "start_time": "2022-12-02T12:46:04.344Z"
   },
   {
    "duration": 14,
    "start_time": "2022-12-02T12:46:04.359Z"
   },
   {
    "duration": 27,
    "start_time": "2022-12-02T12:46:04.374Z"
   },
   {
    "duration": 18,
    "start_time": "2022-12-02T12:46:04.402Z"
   },
   {
    "duration": 842,
    "start_time": "2022-12-02T12:46:04.422Z"
   },
   {
    "duration": 4,
    "start_time": "2022-12-02T12:46:05.266Z"
   },
   {
    "duration": 20,
    "start_time": "2022-12-02T12:46:05.272Z"
   },
   {
    "duration": 5,
    "start_time": "2022-12-02T12:46:05.293Z"
   },
   {
    "duration": 12,
    "start_time": "2022-12-02T12:46:05.300Z"
   },
   {
    "duration": 9,
    "start_time": "2022-12-02T12:46:05.313Z"
   },
   {
    "duration": 4,
    "start_time": "2022-12-02T12:46:05.324Z"
   },
   {
    "duration": 5,
    "start_time": "2022-12-02T12:46:05.354Z"
   },
   {
    "duration": 42,
    "start_time": "2022-12-02T12:46:05.360Z"
   },
   {
    "duration": 16,
    "start_time": "2022-12-02T12:46:05.404Z"
   },
   {
    "duration": 15,
    "start_time": "2022-12-02T12:46:05.422Z"
   },
   {
    "duration": 20,
    "start_time": "2022-12-02T12:46:05.439Z"
   },
   {
    "duration": 12,
    "start_time": "2022-12-02T12:46:05.461Z"
   },
   {
    "duration": 8,
    "start_time": "2022-12-02T12:46:05.475Z"
   },
   {
    "duration": 18,
    "start_time": "2022-12-02T12:46:05.484Z"
   },
   {
    "duration": 22,
    "start_time": "2022-12-02T12:46:05.504Z"
   },
   {
    "duration": 22,
    "start_time": "2022-12-02T12:46:05.527Z"
   },
   {
    "duration": 29,
    "start_time": "2022-12-02T12:46:05.551Z"
   },
   {
    "duration": 11,
    "start_time": "2022-12-02T12:46:05.582Z"
   },
   {
    "duration": 26,
    "start_time": "2022-12-02T12:46:05.597Z"
   },
   {
    "duration": 25,
    "start_time": "2022-12-02T12:46:05.624Z"
   },
   {
    "duration": 10,
    "start_time": "2022-12-02T12:46:05.651Z"
   },
   {
    "duration": 42,
    "start_time": "2022-12-02T12:46:05.663Z"
   },
   {
    "duration": 4,
    "start_time": "2022-12-02T12:46:05.707Z"
   },
   {
    "duration": 248,
    "start_time": "2022-12-02T12:46:05.713Z"
   },
   {
    "duration": 11,
    "start_time": "2022-12-02T12:46:05.962Z"
   },
   {
    "duration": 27,
    "start_time": "2022-12-02T12:46:05.974Z"
   },
   {
    "duration": 208,
    "start_time": "2022-12-02T12:46:06.002Z"
   },
   {
    "duration": 12,
    "start_time": "2022-12-02T12:46:06.212Z"
   },
   {
    "duration": 23,
    "start_time": "2022-12-02T12:46:06.226Z"
   },
   {
    "duration": 10,
    "start_time": "2022-12-02T12:46:06.251Z"
   },
   {
    "duration": 14,
    "start_time": "2022-12-02T12:46:06.262Z"
   },
   {
    "duration": 19,
    "start_time": "2022-12-02T12:46:06.278Z"
   },
   {
    "duration": 35,
    "start_time": "2022-12-02T12:46:06.299Z"
   },
   {
    "duration": 287,
    "start_time": "2022-12-02T12:46:06.335Z"
   },
   {
    "duration": 15,
    "start_time": "2022-12-02T12:46:06.625Z"
   },
   {
    "duration": 639,
    "start_time": "2022-12-02T12:46:06.642Z"
   },
   {
    "duration": 6,
    "start_time": "2022-12-02T12:46:07.283Z"
   },
   {
    "duration": 34,
    "start_time": "2022-12-02T12:46:07.290Z"
   },
   {
    "duration": 14,
    "start_time": "2022-12-02T12:46:07.326Z"
   },
   {
    "duration": 22,
    "start_time": "2022-12-02T12:46:07.342Z"
   },
   {
    "duration": 33,
    "start_time": "2022-12-02T12:46:07.366Z"
   },
   {
    "duration": 177,
    "start_time": "2022-12-02T12:46:07.401Z"
   },
   {
    "duration": 12,
    "start_time": "2022-12-02T12:46:07.580Z"
   },
   {
    "duration": 22,
    "start_time": "2022-12-02T12:46:07.594Z"
   },
   {
    "duration": 172,
    "start_time": "2022-12-02T12:46:07.618Z"
   },
   {
    "duration": 3,
    "start_time": "2022-12-02T12:46:07.792Z"
   },
   {
    "duration": 10,
    "start_time": "2022-12-02T12:46:07.796Z"
   },
   {
    "duration": 31,
    "start_time": "2022-12-02T12:46:07.808Z"
   },
   {
    "duration": 30,
    "start_time": "2022-12-02T12:46:07.840Z"
   },
   {
    "duration": 23,
    "start_time": "2022-12-02T12:46:07.871Z"
   },
   {
    "duration": 287,
    "start_time": "2022-12-02T12:46:07.896Z"
   },
   {
    "duration": 217,
    "start_time": "2022-12-02T12:46:08.185Z"
   },
   {
    "duration": 7,
    "start_time": "2022-12-02T12:46:08.403Z"
   },
   {
    "duration": 245,
    "start_time": "2022-12-02T12:46:08.411Z"
   },
   {
    "duration": 240,
    "start_time": "2022-12-02T12:46:08.658Z"
   },
   {
    "duration": 2,
    "start_time": "2022-12-02T12:46:08.900Z"
   },
   {
    "duration": 17,
    "start_time": "2022-12-02T12:46:08.903Z"
   },
   {
    "duration": 45,
    "start_time": "2022-12-02T12:46:08.922Z"
   },
   {
    "duration": 5,
    "start_time": "2022-12-02T12:46:08.969Z"
   },
   {
    "duration": 161,
    "start_time": "2022-12-02T12:46:08.976Z"
   },
   {
    "duration": 7,
    "start_time": "2022-12-02T12:46:09.140Z"
   },
   {
    "duration": 162,
    "start_time": "2022-12-02T12:46:09.154Z"
   },
   {
    "duration": 5,
    "start_time": "2022-12-02T12:46:09.317Z"
   },
   {
    "duration": 10,
    "start_time": "2022-12-02T12:46:09.324Z"
   },
   {
    "duration": 258,
    "start_time": "2022-12-02T12:46:09.335Z"
   },
   {
    "duration": 7,
    "start_time": "2022-12-02T12:46:09.594Z"
   },
   {
    "duration": 170,
    "start_time": "2022-12-02T12:46:09.602Z"
   },
   {
    "duration": 5,
    "start_time": "2022-12-02T12:46:09.774Z"
   },
   {
    "duration": 10,
    "start_time": "2022-12-02T12:46:09.781Z"
   },
   {
    "duration": 165,
    "start_time": "2022-12-02T12:46:09.792Z"
   },
   {
    "duration": 5,
    "start_time": "2022-12-02T12:46:09.959Z"
   },
   {
    "duration": 168,
    "start_time": "2022-12-02T12:46:09.965Z"
   },
   {
    "duration": 15,
    "start_time": "2022-12-02T12:46:10.141Z"
   },
   {
    "duration": 11,
    "start_time": "2022-12-02T12:46:10.160Z"
   },
   {
    "duration": 14,
    "start_time": "2022-12-02T12:46:10.173Z"
   },
   {
    "duration": 10,
    "start_time": "2022-12-02T12:46:10.188Z"
   },
   {
    "duration": 223,
    "start_time": "2022-12-02T12:46:10.200Z"
   },
   {
    "duration": 13,
    "start_time": "2022-12-02T12:46:10.425Z"
   },
   {
    "duration": 19,
    "start_time": "2022-12-02T12:46:10.439Z"
   },
   {
    "duration": 202,
    "start_time": "2022-12-02T12:46:10.460Z"
   },
   {
    "duration": 13,
    "start_time": "2022-12-02T12:46:10.663Z"
   },
   {
    "duration": 7,
    "start_time": "2022-12-02T12:46:10.678Z"
   },
   {
    "duration": 5,
    "start_time": "2022-12-02T12:46:10.687Z"
   },
   {
    "duration": 12,
    "start_time": "2022-12-02T12:46:10.693Z"
   },
   {
    "duration": 11,
    "start_time": "2022-12-02T12:46:10.707Z"
   },
   {
    "duration": 15,
    "start_time": "2022-12-02T12:46:10.720Z"
   },
   {
    "duration": 28,
    "start_time": "2022-12-02T12:46:10.737Z"
   },
   {
    "duration": 8,
    "start_time": "2022-12-02T12:46:10.766Z"
   },
   {
    "duration": 144,
    "start_time": "2022-12-02T12:46:10.775Z"
   },
   {
    "duration": 12,
    "start_time": "2022-12-02T12:46:10.921Z"
   },
   {
    "duration": 6,
    "start_time": "2022-12-02T12:46:10.935Z"
   },
   {
    "duration": 6,
    "start_time": "2022-12-02T12:46:10.954Z"
   },
   {
    "duration": 16,
    "start_time": "2022-12-02T12:46:10.961Z"
   },
   {
    "duration": 18,
    "start_time": "2022-12-02T12:46:10.979Z"
   },
   {
    "duration": 135,
    "start_time": "2022-12-02T12:46:10.999Z"
   },
   {
    "duration": 19,
    "start_time": "2022-12-02T12:46:11.136Z"
   },
   {
    "duration": 13,
    "start_time": "2022-12-02T12:46:11.157Z"
   },
   {
    "duration": 10,
    "start_time": "2022-12-02T12:46:11.172Z"
   },
   {
    "duration": 9,
    "start_time": "2022-12-02T12:46:11.184Z"
   },
   {
    "duration": 19,
    "start_time": "2022-12-02T12:46:11.195Z"
   },
   {
    "duration": 145,
    "start_time": "2022-12-02T12:46:11.216Z"
   },
   {
    "duration": 349,
    "start_time": "2022-12-02T12:46:11.363Z"
   },
   {
    "duration": 13,
    "start_time": "2022-12-02T12:46:11.714Z"
   },
   {
    "duration": 25,
    "start_time": "2022-12-02T12:46:11.729Z"
   },
   {
    "duration": 9,
    "start_time": "2022-12-02T12:46:11.757Z"
   },
   {
    "duration": 7,
    "start_time": "2022-12-02T12:46:11.768Z"
   },
   {
    "duration": 8,
    "start_time": "2022-12-02T12:46:11.777Z"
   },
   {
    "duration": 16,
    "start_time": "2022-12-02T12:46:11.787Z"
   },
   {
    "duration": 264,
    "start_time": "2022-12-02T12:46:11.806Z"
   },
   {
    "duration": 14,
    "start_time": "2022-12-02T12:46:12.072Z"
   },
   {
    "duration": 19,
    "start_time": "2022-12-02T12:46:12.088Z"
   },
   {
    "duration": 14,
    "start_time": "2022-12-02T12:46:12.109Z"
   },
   {
    "duration": 18,
    "start_time": "2022-12-02T12:46:12.125Z"
   },
   {
    "duration": 29,
    "start_time": "2022-12-02T12:46:12.145Z"
   },
   {
    "duration": 160,
    "start_time": "2022-12-02T12:46:12.176Z"
   },
   {
    "duration": 20,
    "start_time": "2022-12-02T12:46:12.338Z"
   },
   {
    "duration": 3,
    "start_time": "2022-12-02T12:46:12.360Z"
   },
   {
    "duration": 7,
    "start_time": "2022-12-02T12:46:12.364Z"
   },
   {
    "duration": 8,
    "start_time": "2022-12-02T12:46:12.373Z"
   },
   {
    "duration": 16,
    "start_time": "2022-12-02T12:46:12.382Z"
   },
   {
    "duration": 148,
    "start_time": "2022-12-02T12:46:12.400Z"
   },
   {
    "duration": 303,
    "start_time": "2022-12-02T12:46:12.555Z"
   },
   {
    "duration": 14,
    "start_time": "2022-12-02T12:46:12.860Z"
   },
   {
    "duration": 7,
    "start_time": "2022-12-02T12:46:12.876Z"
   },
   {
    "duration": 132,
    "start_time": "2022-12-02T12:46:12.884Z"
   },
   {
    "duration": 13,
    "start_time": "2022-12-02T12:46:13.018Z"
   },
   {
    "duration": 24,
    "start_time": "2022-12-02T12:46:13.032Z"
   },
   {
    "duration": 125,
    "start_time": "2022-12-02T12:46:13.059Z"
   },
   {
    "duration": 14,
    "start_time": "2022-12-02T12:46:13.186Z"
   },
   {
    "duration": 9,
    "start_time": "2022-12-02T12:46:13.202Z"
   },
   {
    "duration": 153,
    "start_time": "2022-12-02T12:46:13.213Z"
   },
   {
    "duration": 312,
    "start_time": "2022-12-02T12:46:13.368Z"
   },
   {
    "duration": 13,
    "start_time": "2022-12-02T12:46:13.682Z"
   },
   {
    "duration": 30,
    "start_time": "2022-12-02T12:46:13.698Z"
   },
   {
    "duration": 21,
    "start_time": "2022-12-02T12:46:13.730Z"
   },
   {
    "duration": 10,
    "start_time": "2022-12-02T12:46:13.753Z"
   },
   {
    "duration": 78,
    "start_time": "2022-12-02T14:13:50.245Z"
   },
   {
    "duration": 36,
    "start_time": "2022-12-02T14:14:38.191Z"
   },
   {
    "duration": 232,
    "start_time": "2022-12-02T14:20:31.911Z"
   },
   {
    "duration": 329,
    "start_time": "2022-12-02T14:21:21.362Z"
   },
   {
    "duration": 235,
    "start_time": "2022-12-02T14:21:32.032Z"
   },
   {
    "duration": 242,
    "start_time": "2022-12-02T14:21:56.650Z"
   },
   {
    "duration": 5,
    "start_time": "2022-12-02T14:33:42.287Z"
   },
   {
    "duration": 152,
    "start_time": "2022-12-02T14:33:44.226Z"
   },
   {
    "duration": 5,
    "start_time": "2022-12-02T14:33:53.815Z"
   },
   {
    "duration": 163,
    "start_time": "2022-12-02T14:34:19.272Z"
   },
   {
    "duration": 6,
    "start_time": "2022-12-02T14:34:25.722Z"
   },
   {
    "duration": 54,
    "start_time": "2022-12-02T14:35:31.345Z"
   },
   {
    "duration": 8,
    "start_time": "2022-12-02T14:36:08.286Z"
   },
   {
    "duration": 153,
    "start_time": "2022-12-02T14:36:13.368Z"
   },
   {
    "duration": 5,
    "start_time": "2022-12-02T14:36:21.556Z"
   },
   {
    "duration": 168,
    "start_time": "2022-12-02T14:36:32.908Z"
   },
   {
    "duration": 5,
    "start_time": "2022-12-02T14:36:39.166Z"
   },
   {
    "duration": 257,
    "start_time": "2022-12-02T14:50:06.026Z"
   },
   {
    "duration": 535,
    "start_time": "2022-12-02T14:50:22.602Z"
   },
   {
    "duration": 13,
    "start_time": "2022-12-02T14:53:00.516Z"
   },
   {
    "duration": 13,
    "start_time": "2022-12-02T14:53:12.420Z"
   },
   {
    "duration": 12,
    "start_time": "2022-12-02T14:53:14.399Z"
   },
   {
    "duration": 8,
    "start_time": "2022-12-02T14:53:19.874Z"
   },
   {
    "duration": 8,
    "start_time": "2022-12-02T14:53:28.884Z"
   },
   {
    "duration": 10,
    "start_time": "2022-12-02T14:55:36.907Z"
   },
   {
    "duration": 10,
    "start_time": "2022-12-02T14:55:54.011Z"
   },
   {
    "duration": 7,
    "start_time": "2022-12-02T14:56:05.105Z"
   },
   {
    "duration": 10,
    "start_time": "2022-12-02T14:56:24.409Z"
   },
   {
    "duration": 9,
    "start_time": "2022-12-02T14:56:28.645Z"
   },
   {
    "duration": 12,
    "start_time": "2022-12-02T14:57:24.737Z"
   },
   {
    "duration": 8,
    "start_time": "2022-12-02T14:57:28.463Z"
   },
   {
    "duration": 7,
    "start_time": "2022-12-02T14:57:33.200Z"
   },
   {
    "duration": 12,
    "start_time": "2022-12-02T14:58:07.351Z"
   },
   {
    "duration": 7,
    "start_time": "2022-12-02T14:58:10.480Z"
   },
   {
    "duration": 13,
    "start_time": "2022-12-02T14:59:02.887Z"
   },
   {
    "duration": 7,
    "start_time": "2022-12-02T14:59:06.391Z"
   },
   {
    "duration": 7,
    "start_time": "2022-12-02T14:59:09.153Z"
   },
   {
    "duration": 14,
    "start_time": "2022-12-02T15:01:07.362Z"
   },
   {
    "duration": 13,
    "start_time": "2022-12-02T15:01:12.324Z"
   },
   {
    "duration": 15,
    "start_time": "2022-12-02T15:01:27.619Z"
   },
   {
    "duration": 13,
    "start_time": "2022-12-02T15:15:10.594Z"
   },
   {
    "duration": 188,
    "start_time": "2022-12-02T15:16:13.948Z"
   },
   {
    "duration": 7,
    "start_time": "2022-12-02T15:23:54.505Z"
   },
   {
    "duration": 1174,
    "start_time": "2022-12-02T15:30:59.508Z"
   },
   {
    "duration": 54,
    "start_time": "2022-12-02T15:31:00.684Z"
   },
   {
    "duration": 3,
    "start_time": "2022-12-02T15:31:00.740Z"
   },
   {
    "duration": 33,
    "start_time": "2022-12-02T15:31:00.745Z"
   },
   {
    "duration": 47,
    "start_time": "2022-12-02T15:31:00.780Z"
   },
   {
    "duration": 47,
    "start_time": "2022-12-02T15:31:00.828Z"
   },
   {
    "duration": 35,
    "start_time": "2022-12-02T15:31:00.877Z"
   },
   {
    "duration": 63,
    "start_time": "2022-12-02T15:31:00.913Z"
   },
   {
    "duration": 764,
    "start_time": "2022-12-02T15:31:00.977Z"
   },
   {
    "duration": 4,
    "start_time": "2022-12-02T15:31:01.744Z"
   },
   {
    "duration": 29,
    "start_time": "2022-12-02T15:31:01.754Z"
   },
   {
    "duration": 4,
    "start_time": "2022-12-02T15:31:01.785Z"
   },
   {
    "duration": 12,
    "start_time": "2022-12-02T15:31:01.791Z"
   },
   {
    "duration": 18,
    "start_time": "2022-12-02T15:31:01.805Z"
   },
   {
    "duration": 10,
    "start_time": "2022-12-02T15:31:01.825Z"
   },
   {
    "duration": 16,
    "start_time": "2022-12-02T15:31:01.836Z"
   },
   {
    "duration": 14,
    "start_time": "2022-12-02T15:31:01.854Z"
   },
   {
    "duration": 11,
    "start_time": "2022-12-02T15:31:01.870Z"
   },
   {
    "duration": 11,
    "start_time": "2022-12-02T15:31:01.883Z"
   },
   {
    "duration": 20,
    "start_time": "2022-12-02T15:31:01.895Z"
   },
   {
    "duration": 19,
    "start_time": "2022-12-02T15:31:01.916Z"
   },
   {
    "duration": 15,
    "start_time": "2022-12-02T15:31:01.936Z"
   },
   {
    "duration": 24,
    "start_time": "2022-12-02T15:31:01.952Z"
   },
   {
    "duration": 24,
    "start_time": "2022-12-02T15:31:01.978Z"
   },
   {
    "duration": 14,
    "start_time": "2022-12-02T15:31:02.004Z"
   },
   {
    "duration": 42,
    "start_time": "2022-12-02T15:31:02.019Z"
   },
   {
    "duration": 14,
    "start_time": "2022-12-02T15:31:02.063Z"
   },
   {
    "duration": 10,
    "start_time": "2022-12-02T15:31:02.081Z"
   },
   {
    "duration": 13,
    "start_time": "2022-12-02T15:31:02.092Z"
   },
   {
    "duration": 8,
    "start_time": "2022-12-02T15:31:02.106Z"
   },
   {
    "duration": 20,
    "start_time": "2022-12-02T15:31:02.116Z"
   },
   {
    "duration": 5,
    "start_time": "2022-12-02T15:31:02.138Z"
   },
   {
    "duration": 242,
    "start_time": "2022-12-02T15:31:02.144Z"
   },
   {
    "duration": 12,
    "start_time": "2022-12-02T15:31:02.388Z"
   },
   {
    "duration": 10,
    "start_time": "2022-12-02T15:31:02.402Z"
   },
   {
    "duration": 209,
    "start_time": "2022-12-02T15:31:02.414Z"
   },
   {
    "duration": 10,
    "start_time": "2022-12-02T15:31:02.625Z"
   },
   {
    "duration": 22,
    "start_time": "2022-12-02T15:31:02.636Z"
   },
   {
    "duration": 6,
    "start_time": "2022-12-02T15:31:02.659Z"
   },
   {
    "duration": 12,
    "start_time": "2022-12-02T15:31:02.666Z"
   },
   {
    "duration": 16,
    "start_time": "2022-12-02T15:31:02.679Z"
   },
   {
    "duration": 16,
    "start_time": "2022-12-02T15:31:02.697Z"
   },
   {
    "duration": 272,
    "start_time": "2022-12-02T15:31:02.714Z"
   },
   {
    "duration": 14,
    "start_time": "2022-12-02T15:31:02.988Z"
   },
   {
    "duration": 574,
    "start_time": "2022-12-02T15:31:03.004Z"
   },
   {
    "duration": 6,
    "start_time": "2022-12-02T15:31:03.579Z"
   },
   {
    "duration": 25,
    "start_time": "2022-12-02T15:31:03.586Z"
   },
   {
    "duration": 6,
    "start_time": "2022-12-02T15:31:03.613Z"
   },
   {
    "duration": 21,
    "start_time": "2022-12-02T15:31:03.621Z"
   },
   {
    "duration": 9,
    "start_time": "2022-12-02T15:31:03.644Z"
   },
   {
    "duration": 200,
    "start_time": "2022-12-02T15:31:03.655Z"
   },
   {
    "duration": 13,
    "start_time": "2022-12-02T15:31:03.856Z"
   },
   {
    "duration": 6,
    "start_time": "2022-12-02T15:31:03.871Z"
   },
   {
    "duration": 179,
    "start_time": "2022-12-02T15:31:03.879Z"
   },
   {
    "duration": 4,
    "start_time": "2022-12-02T15:31:04.059Z"
   },
   {
    "duration": 12,
    "start_time": "2022-12-02T15:31:04.064Z"
   },
   {
    "duration": 17,
    "start_time": "2022-12-02T15:31:04.078Z"
   },
   {
    "duration": 6,
    "start_time": "2022-12-02T15:31:04.096Z"
   },
   {
    "duration": 15,
    "start_time": "2022-12-02T15:31:04.103Z"
   },
   {
    "duration": 301,
    "start_time": "2022-12-02T15:31:04.119Z"
   },
   {
    "duration": 290,
    "start_time": "2022-12-02T15:31:04.422Z"
   },
   {
    "duration": 6,
    "start_time": "2022-12-02T15:31:04.714Z"
   },
   {
    "duration": 242,
    "start_time": "2022-12-02T15:31:04.722Z"
   },
   {
    "duration": 245,
    "start_time": "2022-12-02T15:31:04.966Z"
   },
   {
    "duration": 6,
    "start_time": "2022-12-02T15:31:05.213Z"
   },
   {
    "duration": 159,
    "start_time": "2022-12-02T15:31:05.220Z"
   },
   {
    "duration": 5,
    "start_time": "2022-12-02T15:31:05.381Z"
   },
   {
    "duration": 155,
    "start_time": "2022-12-02T15:31:05.387Z"
   },
   {
    "duration": 12,
    "start_time": "2022-12-02T15:31:05.544Z"
   },
   {
    "duration": 7,
    "start_time": "2022-12-02T15:31:05.558Z"
   },
   {
    "duration": 248,
    "start_time": "2022-12-02T15:31:05.567Z"
   },
   {
    "duration": 5,
    "start_time": "2022-12-02T15:31:05.817Z"
   },
   {
    "duration": 153,
    "start_time": "2022-12-02T15:31:05.824Z"
   },
   {
    "duration": 4,
    "start_time": "2022-12-02T15:31:05.979Z"
   },
   {
    "duration": 8,
    "start_time": "2022-12-02T15:31:05.985Z"
   },
   {
    "duration": 172,
    "start_time": "2022-12-02T15:31:05.995Z"
   },
   {
    "duration": 5,
    "start_time": "2022-12-02T15:31:06.169Z"
   },
   {
    "duration": 157,
    "start_time": "2022-12-02T15:31:06.175Z"
   },
   {
    "duration": 5,
    "start_time": "2022-12-02T15:31:06.334Z"
   },
   {
    "duration": 23,
    "start_time": "2022-12-02T15:31:06.341Z"
   },
   {
    "duration": 13,
    "start_time": "2022-12-02T15:31:06.366Z"
   },
   {
    "duration": 6,
    "start_time": "2022-12-02T15:31:06.385Z"
   },
   {
    "duration": 206,
    "start_time": "2022-12-02T15:31:06.392Z"
   },
   {
    "duration": 12,
    "start_time": "2022-12-02T15:31:06.599Z"
   },
   {
    "duration": 204,
    "start_time": "2022-12-02T15:31:06.613Z"
   },
   {
    "duration": 13,
    "start_time": "2022-12-02T15:31:06.818Z"
   },
   {
    "duration": 7,
    "start_time": "2022-12-02T15:31:06.833Z"
   },
   {
    "duration": 3,
    "start_time": "2022-12-02T15:31:06.855Z"
   },
   {
    "duration": 15,
    "start_time": "2022-12-02T15:31:06.859Z"
   },
   {
    "duration": 5,
    "start_time": "2022-12-02T15:31:06.876Z"
   },
   {
    "duration": 6,
    "start_time": "2022-12-02T15:31:06.883Z"
   },
   {
    "duration": 23,
    "start_time": "2022-12-02T15:31:06.891Z"
   },
   {
    "duration": 9,
    "start_time": "2022-12-02T15:31:06.916Z"
   },
   {
    "duration": 157,
    "start_time": "2022-12-02T15:31:06.927Z"
   },
   {
    "duration": 14,
    "start_time": "2022-12-02T15:31:07.086Z"
   },
   {
    "duration": 3,
    "start_time": "2022-12-02T15:31:07.102Z"
   },
   {
    "duration": 13,
    "start_time": "2022-12-02T15:31:07.107Z"
   },
   {
    "duration": 7,
    "start_time": "2022-12-02T15:31:07.122Z"
   },
   {
    "duration": 33,
    "start_time": "2022-12-02T15:31:07.130Z"
   },
   {
    "duration": 139,
    "start_time": "2022-12-02T15:31:07.165Z"
   },
   {
    "duration": 11,
    "start_time": "2022-12-02T15:31:07.306Z"
   },
   {
    "duration": 3,
    "start_time": "2022-12-02T15:31:07.318Z"
   },
   {
    "duration": 19,
    "start_time": "2022-12-02T15:31:07.322Z"
   },
   {
    "duration": 34,
    "start_time": "2022-12-02T15:31:07.343Z"
   },
   {
    "duration": 20,
    "start_time": "2022-12-02T15:31:07.379Z"
   },
   {
    "duration": 126,
    "start_time": "2022-12-02T15:31:07.401Z"
   },
   {
    "duration": 311,
    "start_time": "2022-12-02T15:31:07.529Z"
   },
   {
    "duration": 19,
    "start_time": "2022-12-02T15:31:07.842Z"
   },
   {
    "duration": 13,
    "start_time": "2022-12-02T15:31:07.863Z"
   },
   {
    "duration": 10,
    "start_time": "2022-12-02T15:31:07.877Z"
   },
   {
    "duration": 12,
    "start_time": "2022-12-02T15:31:07.888Z"
   },
   {
    "duration": 7,
    "start_time": "2022-12-02T15:31:07.902Z"
   },
   {
    "duration": 23,
    "start_time": "2022-12-02T15:31:07.911Z"
   },
   {
    "duration": 218,
    "start_time": "2022-12-02T15:31:07.936Z"
   },
   {
    "duration": 13,
    "start_time": "2022-12-02T15:31:08.156Z"
   },
   {
    "duration": 3,
    "start_time": "2022-12-02T15:31:08.170Z"
   },
   {
    "duration": 6,
    "start_time": "2022-12-02T15:31:08.175Z"
   },
   {
    "duration": 7,
    "start_time": "2022-12-02T15:31:08.183Z"
   },
   {
    "duration": 15,
    "start_time": "2022-12-02T15:31:08.192Z"
   },
   {
    "duration": 146,
    "start_time": "2022-12-02T15:31:08.210Z"
   },
   {
    "duration": 12,
    "start_time": "2022-12-02T15:31:08.358Z"
   },
   {
    "duration": 4,
    "start_time": "2022-12-02T15:31:08.372Z"
   },
   {
    "duration": 6,
    "start_time": "2022-12-02T15:31:08.377Z"
   },
   {
    "duration": 12,
    "start_time": "2022-12-02T15:31:08.385Z"
   },
   {
    "duration": 15,
    "start_time": "2022-12-02T15:31:08.398Z"
   },
   {
    "duration": 158,
    "start_time": "2022-12-02T15:31:08.415Z"
   },
   {
    "duration": 317,
    "start_time": "2022-12-02T15:31:08.575Z"
   },
   {
    "duration": 13,
    "start_time": "2022-12-02T15:31:08.894Z"
   },
   {
    "duration": 7,
    "start_time": "2022-12-02T15:31:08.909Z"
   },
   {
    "duration": 145,
    "start_time": "2022-12-02T15:31:08.917Z"
   },
   {
    "duration": 12,
    "start_time": "2022-12-02T15:31:09.064Z"
   },
   {
    "duration": 6,
    "start_time": "2022-12-02T15:31:09.077Z"
   },
   {
    "duration": 127,
    "start_time": "2022-12-02T15:31:09.085Z"
   },
   {
    "duration": 12,
    "start_time": "2022-12-02T15:31:09.213Z"
   },
   {
    "duration": 19,
    "start_time": "2022-12-02T15:31:09.227Z"
   },
   {
    "duration": 126,
    "start_time": "2022-12-02T15:31:09.248Z"
   },
   {
    "duration": 273,
    "start_time": "2022-12-02T15:31:09.376Z"
   },
   {
    "duration": 8,
    "start_time": "2022-12-02T15:31:09.654Z"
   },
   {
    "duration": 5,
    "start_time": "2022-12-02T15:31:09.664Z"
   },
   {
    "duration": 18,
    "start_time": "2022-12-02T15:31:09.671Z"
   },
   {
    "duration": 6,
    "start_time": "2022-12-02T15:31:09.691Z"
   },
   {
    "duration": 10,
    "start_time": "2022-12-02T15:32:17.223Z"
   },
   {
    "duration": 6,
    "start_time": "2022-12-02T15:32:20.443Z"
   },
   {
    "duration": 9,
    "start_time": "2022-12-02T15:32:38.407Z"
   },
   {
    "duration": 6,
    "start_time": "2022-12-02T15:33:35.108Z"
   },
   {
    "duration": 5,
    "start_time": "2022-12-02T15:33:41.975Z"
   },
   {
    "duration": 6,
    "start_time": "2022-12-02T15:34:13.002Z"
   },
   {
    "duration": 4,
    "start_time": "2022-12-02T15:34:20.916Z"
   },
   {
    "duration": 109,
    "start_time": "2022-12-02T15:34:22.947Z"
   },
   {
    "duration": 10,
    "start_time": "2022-12-02T15:34:24.699Z"
   },
   {
    "duration": 1210,
    "start_time": "2022-12-02T15:34:58.459Z"
   },
   {
    "duration": 60,
    "start_time": "2022-12-02T15:34:59.670Z"
   },
   {
    "duration": 2,
    "start_time": "2022-12-02T15:34:59.732Z"
   },
   {
    "duration": 8,
    "start_time": "2022-12-02T15:34:59.736Z"
   },
   {
    "duration": 7,
    "start_time": "2022-12-02T15:34:59.746Z"
   },
   {
    "duration": 7,
    "start_time": "2022-12-02T15:34:59.754Z"
   },
   {
    "duration": 16,
    "start_time": "2022-12-02T15:34:59.763Z"
   },
   {
    "duration": 18,
    "start_time": "2022-12-02T15:34:59.780Z"
   },
   {
    "duration": 797,
    "start_time": "2022-12-02T15:34:59.799Z"
   },
   {
    "duration": 5,
    "start_time": "2022-12-02T15:35:00.598Z"
   },
   {
    "duration": 37,
    "start_time": "2022-12-02T15:35:00.604Z"
   },
   {
    "duration": 20,
    "start_time": "2022-12-02T15:35:00.643Z"
   },
   {
    "duration": 21,
    "start_time": "2022-12-02T15:35:00.665Z"
   },
   {
    "duration": 31,
    "start_time": "2022-12-02T15:35:00.688Z"
   },
   {
    "duration": 27,
    "start_time": "2022-12-02T15:35:00.721Z"
   },
   {
    "duration": 16,
    "start_time": "2022-12-02T15:35:00.750Z"
   },
   {
    "duration": 20,
    "start_time": "2022-12-02T15:35:00.768Z"
   },
   {
    "duration": 25,
    "start_time": "2022-12-02T15:35:00.790Z"
   },
   {
    "duration": 36,
    "start_time": "2022-12-02T15:35:00.816Z"
   },
   {
    "duration": 26,
    "start_time": "2022-12-02T15:35:00.854Z"
   },
   {
    "duration": 18,
    "start_time": "2022-12-02T15:35:00.882Z"
   },
   {
    "duration": 17,
    "start_time": "2022-12-02T15:35:00.903Z"
   },
   {
    "duration": 23,
    "start_time": "2022-12-02T15:35:00.922Z"
   },
   {
    "duration": 21,
    "start_time": "2022-12-02T15:35:00.947Z"
   },
   {
    "duration": 33,
    "start_time": "2022-12-02T15:35:00.970Z"
   },
   {
    "duration": 30,
    "start_time": "2022-12-02T15:35:01.005Z"
   },
   {
    "duration": 31,
    "start_time": "2022-12-02T15:35:01.037Z"
   },
   {
    "duration": 45,
    "start_time": "2022-12-02T15:35:01.072Z"
   },
   {
    "duration": 44,
    "start_time": "2022-12-02T15:35:01.119Z"
   },
   {
    "duration": 31,
    "start_time": "2022-12-02T15:35:01.165Z"
   },
   {
    "duration": 22,
    "start_time": "2022-12-02T15:35:01.198Z"
   },
   {
    "duration": 6,
    "start_time": "2022-12-02T15:35:01.221Z"
   },
   {
    "duration": 246,
    "start_time": "2022-12-02T15:35:01.229Z"
   },
   {
    "duration": 12,
    "start_time": "2022-12-02T15:35:01.476Z"
   },
   {
    "duration": 40,
    "start_time": "2022-12-02T15:35:01.489Z"
   },
   {
    "duration": 206,
    "start_time": "2022-12-02T15:35:01.531Z"
   },
   {
    "duration": 16,
    "start_time": "2022-12-02T15:35:01.739Z"
   },
   {
    "duration": 13,
    "start_time": "2022-12-02T15:35:01.757Z"
   },
   {
    "duration": 22,
    "start_time": "2022-12-02T15:35:01.771Z"
   },
   {
    "duration": 13,
    "start_time": "2022-12-02T15:35:01.795Z"
   },
   {
    "duration": 21,
    "start_time": "2022-12-02T15:35:01.810Z"
   },
   {
    "duration": 21,
    "start_time": "2022-12-02T15:35:01.832Z"
   },
   {
    "duration": 264,
    "start_time": "2022-12-02T15:35:01.855Z"
   },
   {
    "duration": 16,
    "start_time": "2022-12-02T15:35:02.121Z"
   },
   {
    "duration": 631,
    "start_time": "2022-12-02T15:35:02.139Z"
   },
   {
    "duration": 5,
    "start_time": "2022-12-02T15:35:02.771Z"
   },
   {
    "duration": 18,
    "start_time": "2022-12-02T15:35:02.778Z"
   },
   {
    "duration": 5,
    "start_time": "2022-12-02T15:35:02.798Z"
   },
   {
    "duration": 12,
    "start_time": "2022-12-02T15:35:02.804Z"
   },
   {
    "duration": 12,
    "start_time": "2022-12-02T15:35:02.818Z"
   },
   {
    "duration": 188,
    "start_time": "2022-12-02T15:35:02.831Z"
   },
   {
    "duration": 15,
    "start_time": "2022-12-02T15:35:03.021Z"
   },
   {
    "duration": 22,
    "start_time": "2022-12-02T15:35:03.037Z"
   },
   {
    "duration": 159,
    "start_time": "2022-12-02T15:35:03.061Z"
   },
   {
    "duration": 2,
    "start_time": "2022-12-02T15:35:03.222Z"
   },
   {
    "duration": 16,
    "start_time": "2022-12-02T15:35:03.226Z"
   },
   {
    "duration": 21,
    "start_time": "2022-12-02T15:35:03.243Z"
   },
   {
    "duration": 5,
    "start_time": "2022-12-02T15:35:03.266Z"
   },
   {
    "duration": 18,
    "start_time": "2022-12-02T15:35:03.273Z"
   },
   {
    "duration": 264,
    "start_time": "2022-12-02T15:35:03.292Z"
   },
   {
    "duration": 224,
    "start_time": "2022-12-02T15:35:03.558Z"
   },
   {
    "duration": 7,
    "start_time": "2022-12-02T15:35:03.784Z"
   },
   {
    "duration": 231,
    "start_time": "2022-12-02T15:35:03.792Z"
   },
   {
    "duration": 245,
    "start_time": "2022-12-02T15:35:04.025Z"
   },
   {
    "duration": 6,
    "start_time": "2022-12-02T15:35:04.271Z"
   },
   {
    "duration": 165,
    "start_time": "2022-12-02T15:35:04.279Z"
   },
   {
    "duration": 11,
    "start_time": "2022-12-02T15:35:04.445Z"
   },
   {
    "duration": 186,
    "start_time": "2022-12-02T15:35:04.458Z"
   },
   {
    "duration": 10,
    "start_time": "2022-12-02T15:35:04.647Z"
   },
   {
    "duration": 18,
    "start_time": "2022-12-02T15:35:04.659Z"
   },
   {
    "duration": 269,
    "start_time": "2022-12-02T15:35:04.679Z"
   },
   {
    "duration": 7,
    "start_time": "2022-12-02T15:35:04.949Z"
   },
   {
    "duration": 152,
    "start_time": "2022-12-02T15:35:04.958Z"
   },
   {
    "duration": 5,
    "start_time": "2022-12-02T15:35:05.112Z"
   },
   {
    "duration": 13,
    "start_time": "2022-12-02T15:35:05.118Z"
   },
   {
    "duration": 170,
    "start_time": "2022-12-02T15:35:05.132Z"
   },
   {
    "duration": 5,
    "start_time": "2022-12-02T15:35:05.304Z"
   },
   {
    "duration": 172,
    "start_time": "2022-12-02T15:35:05.310Z"
   },
   {
    "duration": 4,
    "start_time": "2022-12-02T15:35:05.484Z"
   },
   {
    "duration": 18,
    "start_time": "2022-12-02T15:35:05.490Z"
   },
   {
    "duration": 11,
    "start_time": "2022-12-02T15:35:05.510Z"
   },
   {
    "duration": 5,
    "start_time": "2022-12-02T15:35:05.528Z"
   },
   {
    "duration": 214,
    "start_time": "2022-12-02T15:35:05.534Z"
   },
   {
    "duration": 13,
    "start_time": "2022-12-02T15:35:05.754Z"
   },
   {
    "duration": 201,
    "start_time": "2022-12-02T15:35:05.768Z"
   },
   {
    "duration": 11,
    "start_time": "2022-12-02T15:35:05.971Z"
   },
   {
    "duration": 19,
    "start_time": "2022-12-02T15:35:05.984Z"
   },
   {
    "duration": 11,
    "start_time": "2022-12-02T15:35:06.005Z"
   },
   {
    "duration": 16,
    "start_time": "2022-12-02T15:35:06.017Z"
   },
   {
    "duration": 23,
    "start_time": "2022-12-02T15:35:06.035Z"
   },
   {
    "duration": 12,
    "start_time": "2022-12-02T15:35:06.060Z"
   },
   {
    "duration": 17,
    "start_time": "2022-12-02T15:35:06.073Z"
   },
   {
    "duration": 13,
    "start_time": "2022-12-02T15:35:06.092Z"
   },
   {
    "duration": 131,
    "start_time": "2022-12-02T15:35:06.106Z"
   },
   {
    "duration": 18,
    "start_time": "2022-12-02T15:35:06.239Z"
   },
   {
    "duration": 6,
    "start_time": "2022-12-02T15:35:06.258Z"
   },
   {
    "duration": 9,
    "start_time": "2022-12-02T15:35:06.266Z"
   },
   {
    "duration": 19,
    "start_time": "2022-12-02T15:35:06.276Z"
   },
   {
    "duration": 33,
    "start_time": "2022-12-02T15:35:06.296Z"
   },
   {
    "duration": 131,
    "start_time": "2022-12-02T15:35:06.331Z"
   },
   {
    "duration": 12,
    "start_time": "2022-12-02T15:35:06.464Z"
   },
   {
    "duration": 4,
    "start_time": "2022-12-02T15:35:06.478Z"
   },
   {
    "duration": 13,
    "start_time": "2022-12-02T15:35:06.484Z"
   },
   {
    "duration": 10,
    "start_time": "2022-12-02T15:35:06.499Z"
   },
   {
    "duration": 19,
    "start_time": "2022-12-02T15:35:06.511Z"
   },
   {
    "duration": 136,
    "start_time": "2022-12-02T15:35:06.531Z"
   },
   {
    "duration": 338,
    "start_time": "2022-12-02T15:35:06.669Z"
   },
   {
    "duration": 12,
    "start_time": "2022-12-02T15:35:07.009Z"
   },
   {
    "duration": 10,
    "start_time": "2022-12-02T15:35:07.023Z"
   },
   {
    "duration": 7,
    "start_time": "2022-12-02T15:35:07.034Z"
   },
   {
    "duration": 16,
    "start_time": "2022-12-02T15:35:07.042Z"
   },
   {
    "duration": 6,
    "start_time": "2022-12-02T15:35:07.060Z"
   },
   {
    "duration": 14,
    "start_time": "2022-12-02T15:35:07.068Z"
   },
   {
    "duration": 223,
    "start_time": "2022-12-02T15:35:07.084Z"
   },
   {
    "duration": 12,
    "start_time": "2022-12-02T15:35:07.309Z"
   },
   {
    "duration": 20,
    "start_time": "2022-12-02T15:35:07.323Z"
   },
   {
    "duration": 9,
    "start_time": "2022-12-02T15:35:07.344Z"
   },
   {
    "duration": 12,
    "start_time": "2022-12-02T15:35:07.355Z"
   },
   {
    "duration": 17,
    "start_time": "2022-12-02T15:35:07.368Z"
   },
   {
    "duration": 128,
    "start_time": "2022-12-02T15:35:07.386Z"
   },
   {
    "duration": 12,
    "start_time": "2022-12-02T15:35:07.516Z"
   },
   {
    "duration": 8,
    "start_time": "2022-12-02T15:35:07.529Z"
   },
   {
    "duration": 12,
    "start_time": "2022-12-02T15:35:07.538Z"
   },
   {
    "duration": 15,
    "start_time": "2022-12-02T15:35:07.551Z"
   },
   {
    "duration": 23,
    "start_time": "2022-12-02T15:35:07.567Z"
   },
   {
    "duration": 125,
    "start_time": "2022-12-02T15:35:07.592Z"
   },
   {
    "duration": 318,
    "start_time": "2022-12-02T15:35:07.718Z"
   },
   {
    "duration": 23,
    "start_time": "2022-12-02T15:35:08.037Z"
   },
   {
    "duration": 7,
    "start_time": "2022-12-02T15:35:08.062Z"
   },
   {
    "duration": 139,
    "start_time": "2022-12-02T15:35:08.070Z"
   },
   {
    "duration": 12,
    "start_time": "2022-12-02T15:35:08.211Z"
   },
   {
    "duration": 13,
    "start_time": "2022-12-02T15:35:08.224Z"
   },
   {
    "duration": 122,
    "start_time": "2022-12-02T15:35:08.239Z"
   },
   {
    "duration": 13,
    "start_time": "2022-12-02T15:35:08.362Z"
   },
   {
    "duration": 7,
    "start_time": "2022-12-02T15:35:08.376Z"
   },
   {
    "duration": 132,
    "start_time": "2022-12-02T15:35:08.385Z"
   },
   {
    "duration": 270,
    "start_time": "2022-12-02T15:35:08.519Z"
   },
   {
    "duration": 8,
    "start_time": "2022-12-02T15:35:08.791Z"
   },
   {
    "duration": 8,
    "start_time": "2022-12-02T15:35:08.801Z"
   },
   {
    "duration": 23,
    "start_time": "2022-12-02T15:35:08.810Z"
   },
   {
    "duration": 4,
    "start_time": "2022-12-02T15:35:08.835Z"
   },
   {
    "duration": 7,
    "start_time": "2022-12-02T15:35:08.840Z"
   },
   {
    "duration": 5,
    "start_time": "2022-12-02T15:35:08.854Z"
   },
   {
    "duration": 5,
    "start_time": "2022-12-02T15:36:02.430Z"
   },
   {
    "duration": 6,
    "start_time": "2022-12-02T15:36:12.764Z"
   },
   {
    "duration": 1181,
    "start_time": "2022-12-02T15:40:57.176Z"
   },
   {
    "duration": 52,
    "start_time": "2022-12-02T15:40:58.358Z"
   },
   {
    "duration": 3,
    "start_time": "2022-12-02T15:40:58.412Z"
   },
   {
    "duration": 17,
    "start_time": "2022-12-02T15:40:58.417Z"
   },
   {
    "duration": 16,
    "start_time": "2022-12-02T15:40:58.436Z"
   },
   {
    "duration": 13,
    "start_time": "2022-12-02T15:40:58.454Z"
   },
   {
    "duration": 18,
    "start_time": "2022-12-02T15:40:58.469Z"
   },
   {
    "duration": 20,
    "start_time": "2022-12-02T15:40:58.489Z"
   },
   {
    "duration": 771,
    "start_time": "2022-12-02T15:40:58.511Z"
   },
   {
    "duration": 4,
    "start_time": "2022-12-02T15:40:59.285Z"
   },
   {
    "duration": 21,
    "start_time": "2022-12-02T15:40:59.291Z"
   },
   {
    "duration": 4,
    "start_time": "2022-12-02T15:40:59.314Z"
   },
   {
    "duration": 10,
    "start_time": "2022-12-02T15:40:59.320Z"
   },
   {
    "duration": 23,
    "start_time": "2022-12-02T15:40:59.332Z"
   },
   {
    "duration": 4,
    "start_time": "2022-12-02T15:40:59.356Z"
   },
   {
    "duration": 8,
    "start_time": "2022-12-02T15:40:59.362Z"
   },
   {
    "duration": 13,
    "start_time": "2022-12-02T15:40:59.371Z"
   },
   {
    "duration": 9,
    "start_time": "2022-12-02T15:40:59.385Z"
   },
   {
    "duration": 9,
    "start_time": "2022-12-02T15:40:59.396Z"
   },
   {
    "duration": 13,
    "start_time": "2022-12-02T15:40:59.407Z"
   },
   {
    "duration": 35,
    "start_time": "2022-12-02T15:40:59.421Z"
   },
   {
    "duration": 8,
    "start_time": "2022-12-02T15:40:59.457Z"
   },
   {
    "duration": 26,
    "start_time": "2022-12-02T15:40:59.467Z"
   },
   {
    "duration": 15,
    "start_time": "2022-12-02T15:40:59.495Z"
   },
   {
    "duration": 6,
    "start_time": "2022-12-02T15:40:59.512Z"
   },
   {
    "duration": 13,
    "start_time": "2022-12-02T15:40:59.520Z"
   },
   {
    "duration": 7,
    "start_time": "2022-12-02T15:40:59.534Z"
   },
   {
    "duration": 8,
    "start_time": "2022-12-02T15:40:59.555Z"
   },
   {
    "duration": 3,
    "start_time": "2022-12-02T15:40:59.564Z"
   },
   {
    "duration": 9,
    "start_time": "2022-12-02T15:40:59.568Z"
   },
   {
    "duration": 12,
    "start_time": "2022-12-02T15:40:59.579Z"
   },
   {
    "duration": 3,
    "start_time": "2022-12-02T15:40:59.593Z"
   },
   {
    "duration": 236,
    "start_time": "2022-12-02T15:40:59.598Z"
   },
   {
    "duration": 20,
    "start_time": "2022-12-02T15:40:59.835Z"
   },
   {
    "duration": 8,
    "start_time": "2022-12-02T15:40:59.856Z"
   },
   {
    "duration": 199,
    "start_time": "2022-12-02T15:40:59.866Z"
   },
   {
    "duration": 11,
    "start_time": "2022-12-02T15:41:00.067Z"
   },
   {
    "duration": 18,
    "start_time": "2022-12-02T15:41:00.080Z"
   },
   {
    "duration": 8,
    "start_time": "2022-12-02T15:41:00.100Z"
   },
   {
    "duration": 35,
    "start_time": "2022-12-02T15:41:00.109Z"
   },
   {
    "duration": 38,
    "start_time": "2022-12-02T15:41:00.146Z"
   },
   {
    "duration": 29,
    "start_time": "2022-12-02T15:41:00.186Z"
   },
   {
    "duration": 270,
    "start_time": "2022-12-02T15:41:00.217Z"
   },
   {
    "duration": 14,
    "start_time": "2022-12-02T15:41:00.488Z"
   },
   {
    "duration": 625,
    "start_time": "2022-12-02T15:41:00.503Z"
   },
   {
    "duration": 6,
    "start_time": "2022-12-02T15:41:01.129Z"
   },
   {
    "duration": 53,
    "start_time": "2022-12-02T15:41:01.136Z"
   },
   {
    "duration": 42,
    "start_time": "2022-12-02T15:41:01.190Z"
   },
   {
    "duration": 59,
    "start_time": "2022-12-02T15:41:01.234Z"
   },
   {
    "duration": 40,
    "start_time": "2022-12-02T15:41:01.295Z"
   },
   {
    "duration": 197,
    "start_time": "2022-12-02T15:41:01.337Z"
   },
   {
    "duration": 24,
    "start_time": "2022-12-02T15:41:01.535Z"
   },
   {
    "duration": 19,
    "start_time": "2022-12-02T15:41:01.560Z"
   },
   {
    "duration": 179,
    "start_time": "2022-12-02T15:41:01.581Z"
   },
   {
    "duration": 3,
    "start_time": "2022-12-02T15:41:01.762Z"
   },
   {
    "duration": 26,
    "start_time": "2022-12-02T15:41:01.767Z"
   },
   {
    "duration": 39,
    "start_time": "2022-12-02T15:41:01.794Z"
   },
   {
    "duration": 17,
    "start_time": "2022-12-02T15:41:01.835Z"
   },
   {
    "duration": 45,
    "start_time": "2022-12-02T15:41:01.854Z"
   },
   {
    "duration": 290,
    "start_time": "2022-12-02T15:41:01.900Z"
   },
   {
    "duration": 229,
    "start_time": "2022-12-02T15:41:02.191Z"
   },
   {
    "duration": 6,
    "start_time": "2022-12-02T15:41:02.422Z"
   },
   {
    "duration": 249,
    "start_time": "2022-12-02T15:41:02.430Z"
   },
   {
    "duration": 248,
    "start_time": "2022-12-02T15:41:02.681Z"
   },
   {
    "duration": 8,
    "start_time": "2022-12-02T15:41:02.931Z"
   },
   {
    "duration": 204,
    "start_time": "2022-12-02T15:41:02.941Z"
   },
   {
    "duration": 12,
    "start_time": "2022-12-02T15:41:03.146Z"
   },
   {
    "duration": 160,
    "start_time": "2022-12-02T15:41:03.159Z"
   },
   {
    "duration": 5,
    "start_time": "2022-12-02T15:41:03.321Z"
   },
   {
    "duration": 44,
    "start_time": "2022-12-02T15:41:03.328Z"
   },
   {
    "duration": 263,
    "start_time": "2022-12-02T15:41:03.374Z"
   },
   {
    "duration": 6,
    "start_time": "2022-12-02T15:41:03.639Z"
   },
   {
    "duration": 204,
    "start_time": "2022-12-02T15:41:03.656Z"
   },
   {
    "duration": 5,
    "start_time": "2022-12-02T15:41:03.862Z"
   },
   {
    "duration": 9,
    "start_time": "2022-12-02T15:41:03.868Z"
   },
   {
    "duration": 166,
    "start_time": "2022-12-02T15:41:03.878Z"
   },
   {
    "duration": 12,
    "start_time": "2022-12-02T15:41:04.046Z"
   },
   {
    "duration": 177,
    "start_time": "2022-12-02T15:41:04.060Z"
   },
   {
    "duration": 6,
    "start_time": "2022-12-02T15:41:04.239Z"
   },
   {
    "duration": 28,
    "start_time": "2022-12-02T15:41:04.255Z"
   },
   {
    "duration": 18,
    "start_time": "2022-12-02T15:41:04.285Z"
   },
   {
    "duration": 6,
    "start_time": "2022-12-02T15:41:04.310Z"
   },
   {
    "duration": 187,
    "start_time": "2022-12-02T15:41:04.318Z"
   },
   {
    "duration": 12,
    "start_time": "2022-12-02T15:41:04.506Z"
   },
   {
    "duration": 269,
    "start_time": "2022-12-02T15:41:04.520Z"
   },
   {
    "duration": 14,
    "start_time": "2022-12-02T15:41:04.791Z"
   },
   {
    "duration": 12,
    "start_time": "2022-12-02T15:41:04.807Z"
   },
   {
    "duration": 22,
    "start_time": "2022-12-02T15:41:04.821Z"
   },
   {
    "duration": 14,
    "start_time": "2022-12-02T15:41:04.845Z"
   },
   {
    "duration": 9,
    "start_time": "2022-12-02T15:41:04.860Z"
   },
   {
    "duration": 8,
    "start_time": "2022-12-02T15:41:04.870Z"
   },
   {
    "duration": 22,
    "start_time": "2022-12-02T15:41:04.880Z"
   },
   {
    "duration": 7,
    "start_time": "2022-12-02T15:41:04.903Z"
   },
   {
    "duration": 132,
    "start_time": "2022-12-02T15:41:04.911Z"
   },
   {
    "duration": 18,
    "start_time": "2022-12-02T15:41:05.045Z"
   },
   {
    "duration": 20,
    "start_time": "2022-12-02T15:41:05.064Z"
   },
   {
    "duration": 52,
    "start_time": "2022-12-02T15:41:05.086Z"
   },
   {
    "duration": 97,
    "start_time": "2022-12-02T15:41:05.139Z"
   },
   {
    "duration": 28,
    "start_time": "2022-12-02T15:41:05.238Z"
   },
   {
    "duration": 128,
    "start_time": "2022-12-02T15:41:05.268Z"
   },
   {
    "duration": 12,
    "start_time": "2022-12-02T15:41:05.398Z"
   },
   {
    "duration": 25,
    "start_time": "2022-12-02T15:41:05.411Z"
   },
   {
    "duration": 9,
    "start_time": "2022-12-02T15:41:05.438Z"
   },
   {
    "duration": 14,
    "start_time": "2022-12-02T15:41:05.449Z"
   },
   {
    "duration": 46,
    "start_time": "2022-12-02T15:41:05.465Z"
   },
   {
    "duration": 128,
    "start_time": "2022-12-02T15:41:05.513Z"
   },
   {
    "duration": 303,
    "start_time": "2022-12-02T15:41:05.643Z"
   },
   {
    "duration": 18,
    "start_time": "2022-12-02T15:41:05.947Z"
   },
   {
    "duration": 10,
    "start_time": "2022-12-02T15:41:05.966Z"
   },
   {
    "duration": 13,
    "start_time": "2022-12-02T15:41:05.977Z"
   },
   {
    "duration": 10,
    "start_time": "2022-12-02T15:41:05.992Z"
   },
   {
    "duration": 19,
    "start_time": "2022-12-02T15:41:06.003Z"
   },
   {
    "duration": 15,
    "start_time": "2022-12-02T15:41:06.024Z"
   },
   {
    "duration": 223,
    "start_time": "2022-12-02T15:41:06.041Z"
   },
   {
    "duration": 11,
    "start_time": "2022-12-02T15:41:06.265Z"
   },
   {
    "duration": 4,
    "start_time": "2022-12-02T15:41:06.278Z"
   },
   {
    "duration": 8,
    "start_time": "2022-12-02T15:41:06.284Z"
   },
   {
    "duration": 11,
    "start_time": "2022-12-02T15:41:06.293Z"
   },
   {
    "duration": 17,
    "start_time": "2022-12-02T15:41:06.305Z"
   },
   {
    "duration": 139,
    "start_time": "2022-12-02T15:41:06.324Z"
   },
   {
    "duration": 13,
    "start_time": "2022-12-02T15:41:06.465Z"
   },
   {
    "duration": 5,
    "start_time": "2022-12-02T15:41:06.479Z"
   },
   {
    "duration": 10,
    "start_time": "2022-12-02T15:41:06.486Z"
   },
   {
    "duration": 16,
    "start_time": "2022-12-02T15:41:06.498Z"
   },
   {
    "duration": 17,
    "start_time": "2022-12-02T15:41:06.515Z"
   },
   {
    "duration": 148,
    "start_time": "2022-12-02T15:41:06.534Z"
   },
   {
    "duration": 317,
    "start_time": "2022-12-02T15:41:06.684Z"
   },
   {
    "duration": 12,
    "start_time": "2022-12-02T15:41:07.003Z"
   },
   {
    "duration": 27,
    "start_time": "2022-12-02T15:41:07.017Z"
   },
   {
    "duration": 264,
    "start_time": "2022-12-02T15:41:07.046Z"
   },
   {
    "duration": 12,
    "start_time": "2022-12-02T15:41:07.312Z"
   },
   {
    "duration": 8,
    "start_time": "2022-12-02T15:41:07.325Z"
   },
   {
    "duration": 120,
    "start_time": "2022-12-02T15:41:07.334Z"
   },
   {
    "duration": 11,
    "start_time": "2022-12-02T15:41:07.456Z"
   },
   {
    "duration": 7,
    "start_time": "2022-12-02T15:41:07.469Z"
   },
   {
    "duration": 133,
    "start_time": "2022-12-02T15:41:07.477Z"
   },
   {
    "duration": 277,
    "start_time": "2022-12-02T15:41:07.612Z"
   },
   {
    "duration": 7,
    "start_time": "2022-12-02T15:41:07.891Z"
   },
   {
    "duration": 11,
    "start_time": "2022-12-02T15:41:07.900Z"
   },
   {
    "duration": 15,
    "start_time": "2022-12-02T15:41:07.913Z"
   },
   {
    "duration": 6,
    "start_time": "2022-12-02T15:41:07.929Z"
   },
   {
    "duration": 7,
    "start_time": "2022-12-02T15:41:40.064Z"
   },
   {
    "duration": 207,
    "start_time": "2022-12-02T16:00:18.019Z"
   },
   {
    "duration": 15,
    "start_time": "2022-12-02T16:26:21.028Z"
   },
   {
    "duration": 23,
    "start_time": "2022-12-02T16:27:11.474Z"
   },
   {
    "duration": 17,
    "start_time": "2022-12-02T16:29:37.466Z"
   },
   {
    "duration": 18,
    "start_time": "2022-12-02T16:29:40.778Z"
   },
   {
    "duration": 3,
    "start_time": "2022-12-02T17:23:06.350Z"
   },
   {
    "duration": 103,
    "start_time": "2022-12-02T17:23:44.122Z"
   },
   {
    "duration": 23,
    "start_time": "2022-12-02T17:23:54.728Z"
   },
   {
    "duration": 4,
    "start_time": "2022-12-02T17:24:27.523Z"
   },
   {
    "duration": 16,
    "start_time": "2022-12-02T17:24:32.697Z"
   },
   {
    "duration": 16,
    "start_time": "2022-12-02T17:25:20.762Z"
   },
   {
    "duration": 56,
    "start_time": "2022-12-02T17:28:18.633Z"
   },
   {
    "duration": 10,
    "start_time": "2022-12-02T17:28:28.834Z"
   },
   {
    "duration": 4,
    "start_time": "2022-12-02T17:28:50.085Z"
   },
   {
    "duration": 205,
    "start_time": "2022-12-02T17:28:52.713Z"
   },
   {
    "duration": 126,
    "start_time": "2022-12-02T17:29:10.505Z"
   },
   {
    "duration": 3,
    "start_time": "2022-12-02T17:30:10.068Z"
   },
   {
    "duration": 120,
    "start_time": "2022-12-02T17:30:12.784Z"
   },
   {
    "duration": 4,
    "start_time": "2022-12-02T17:31:22.031Z"
   },
   {
    "duration": 146,
    "start_time": "2022-12-02T17:31:24.569Z"
   },
   {
    "duration": 5,
    "start_time": "2022-12-02T17:35:38.001Z"
   },
   {
    "duration": 764,
    "start_time": "2022-12-02T17:35:59.996Z"
   },
   {
    "duration": 5,
    "start_time": "2022-12-02T17:36:29.433Z"
   },
   {
    "duration": 831,
    "start_time": "2022-12-02T17:36:31.505Z"
   },
   {
    "duration": 46,
    "start_time": "2022-12-02T18:58:08.547Z"
   },
   {
    "duration": 1299,
    "start_time": "2022-12-02T19:23:17.967Z"
   },
   {
    "duration": 54,
    "start_time": "2022-12-02T19:23:19.268Z"
   },
   {
    "duration": 3,
    "start_time": "2022-12-02T19:23:19.324Z"
   },
   {
    "duration": 11,
    "start_time": "2022-12-02T19:23:19.328Z"
   },
   {
    "duration": 7,
    "start_time": "2022-12-02T19:23:19.341Z"
   },
   {
    "duration": 9,
    "start_time": "2022-12-02T19:23:19.349Z"
   },
   {
    "duration": 28,
    "start_time": "2022-12-02T19:23:19.361Z"
   },
   {
    "duration": 19,
    "start_time": "2022-12-02T19:23:19.391Z"
   },
   {
    "duration": 788,
    "start_time": "2022-12-02T19:23:19.412Z"
   },
   {
    "duration": 5,
    "start_time": "2022-12-02T19:23:20.201Z"
   },
   {
    "duration": 17,
    "start_time": "2022-12-02T19:23:20.208Z"
   },
   {
    "duration": 4,
    "start_time": "2022-12-02T19:23:20.227Z"
   },
   {
    "duration": 12,
    "start_time": "2022-12-02T19:23:20.256Z"
   },
   {
    "duration": 10,
    "start_time": "2022-12-02T19:23:20.272Z"
   },
   {
    "duration": 3,
    "start_time": "2022-12-02T19:23:20.284Z"
   },
   {
    "duration": 11,
    "start_time": "2022-12-02T19:23:20.288Z"
   },
   {
    "duration": 8,
    "start_time": "2022-12-02T19:23:20.300Z"
   },
   {
    "duration": 8,
    "start_time": "2022-12-02T19:23:20.310Z"
   },
   {
    "duration": 7,
    "start_time": "2022-12-02T19:23:20.320Z"
   },
   {
    "duration": 41,
    "start_time": "2022-12-02T19:23:20.328Z"
   },
   {
    "duration": 12,
    "start_time": "2022-12-02T19:23:20.371Z"
   },
   {
    "duration": 7,
    "start_time": "2022-12-02T19:23:20.385Z"
   },
   {
    "duration": 12,
    "start_time": "2022-12-02T19:23:20.394Z"
   },
   {
    "duration": 15,
    "start_time": "2022-12-02T19:23:20.408Z"
   },
   {
    "duration": 7,
    "start_time": "2022-12-02T19:23:20.424Z"
   },
   {
    "duration": 35,
    "start_time": "2022-12-02T19:23:20.433Z"
   },
   {
    "duration": 9,
    "start_time": "2022-12-02T19:23:20.470Z"
   },
   {
    "duration": 15,
    "start_time": "2022-12-02T19:23:20.480Z"
   },
   {
    "duration": 13,
    "start_time": "2022-12-02T19:23:20.496Z"
   },
   {
    "duration": 7,
    "start_time": "2022-12-02T19:23:20.510Z"
   },
   {
    "duration": 254,
    "start_time": "2022-12-02T19:23:20.519Z"
   },
   {
    "duration": 10,
    "start_time": "2022-12-02T19:23:20.775Z"
   },
   {
    "duration": 8,
    "start_time": "2022-12-02T19:23:20.786Z"
   },
   {
    "duration": 211,
    "start_time": "2022-12-02T19:23:20.795Z"
   },
   {
    "duration": 11,
    "start_time": "2022-12-02T19:23:21.008Z"
   },
   {
    "duration": 9,
    "start_time": "2022-12-02T19:23:21.020Z"
   },
   {
    "duration": 5,
    "start_time": "2022-12-02T19:23:21.030Z"
   },
   {
    "duration": 28,
    "start_time": "2022-12-02T19:23:21.036Z"
   },
   {
    "duration": 23,
    "start_time": "2022-12-02T19:23:21.066Z"
   },
   {
    "duration": 18,
    "start_time": "2022-12-02T19:23:21.090Z"
   },
   {
    "duration": 284,
    "start_time": "2022-12-02T19:23:21.114Z"
   },
   {
    "duration": 14,
    "start_time": "2022-12-02T19:23:21.400Z"
   },
   {
    "duration": 630,
    "start_time": "2022-12-02T19:23:21.416Z"
   },
   {
    "duration": 5,
    "start_time": "2022-12-02T19:23:22.047Z"
   },
   {
    "duration": 29,
    "start_time": "2022-12-02T19:23:22.054Z"
   },
   {
    "duration": 18,
    "start_time": "2022-12-02T19:23:22.085Z"
   },
   {
    "duration": 21,
    "start_time": "2022-12-02T19:23:22.105Z"
   },
   {
    "duration": 12,
    "start_time": "2022-12-02T19:23:22.127Z"
   },
   {
    "duration": 195,
    "start_time": "2022-12-02T19:23:22.140Z"
   },
   {
    "duration": 12,
    "start_time": "2022-12-02T19:23:22.337Z"
   },
   {
    "duration": 24,
    "start_time": "2022-12-02T19:23:22.354Z"
   },
   {
    "duration": 173,
    "start_time": "2022-12-02T19:23:22.380Z"
   },
   {
    "duration": 14,
    "start_time": "2022-12-02T19:23:22.554Z"
   },
   {
    "duration": 19,
    "start_time": "2022-12-02T19:23:22.570Z"
   },
   {
    "duration": 33,
    "start_time": "2022-12-02T19:23:22.590Z"
   },
   {
    "duration": 5,
    "start_time": "2022-12-02T19:23:22.627Z"
   },
   {
    "duration": 35,
    "start_time": "2022-12-02T19:23:22.634Z"
   },
   {
    "duration": 287,
    "start_time": "2022-12-02T19:23:22.671Z"
   },
   {
    "duration": 220,
    "start_time": "2022-12-02T19:23:22.965Z"
   },
   {
    "duration": 7,
    "start_time": "2022-12-02T19:23:23.186Z"
   },
   {
    "duration": 241,
    "start_time": "2022-12-02T19:23:23.194Z"
   },
   {
    "duration": 288,
    "start_time": "2022-12-02T19:23:23.437Z"
   },
   {
    "duration": 6,
    "start_time": "2022-12-02T19:23:23.728Z"
   },
   {
    "duration": 164,
    "start_time": "2022-12-02T19:23:23.736Z"
   },
   {
    "duration": 7,
    "start_time": "2022-12-02T19:23:23.901Z"
   },
   {
    "duration": 164,
    "start_time": "2022-12-02T19:23:23.909Z"
   },
   {
    "duration": 6,
    "start_time": "2022-12-02T19:23:24.074Z"
   },
   {
    "duration": 22,
    "start_time": "2022-12-02T19:23:24.081Z"
   },
   {
    "duration": 250,
    "start_time": "2022-12-02T19:23:24.105Z"
   },
   {
    "duration": 5,
    "start_time": "2022-12-02T19:23:24.366Z"
   },
   {
    "duration": 168,
    "start_time": "2022-12-02T19:23:24.373Z"
   },
   {
    "duration": 15,
    "start_time": "2022-12-02T19:23:24.543Z"
   },
   {
    "duration": 23,
    "start_time": "2022-12-02T19:23:24.560Z"
   },
   {
    "duration": 195,
    "start_time": "2022-12-02T19:23:24.585Z"
   },
   {
    "duration": 6,
    "start_time": "2022-12-02T19:23:24.781Z"
   },
   {
    "duration": 176,
    "start_time": "2022-12-02T19:23:24.788Z"
   },
   {
    "duration": 5,
    "start_time": "2022-12-02T19:23:24.965Z"
   },
   {
    "duration": 30,
    "start_time": "2022-12-02T19:23:24.973Z"
   },
   {
    "duration": 12,
    "start_time": "2022-12-02T19:23:25.005Z"
   },
   {
    "duration": 9,
    "start_time": "2022-12-02T19:23:25.019Z"
   },
   {
    "duration": 199,
    "start_time": "2022-12-02T19:23:25.029Z"
   },
   {
    "duration": 11,
    "start_time": "2022-12-02T19:23:25.230Z"
   },
   {
    "duration": 223,
    "start_time": "2022-12-02T19:23:25.243Z"
   },
   {
    "duration": 13,
    "start_time": "2022-12-02T19:23:25.468Z"
   },
   {
    "duration": 14,
    "start_time": "2022-12-02T19:23:25.483Z"
   },
   {
    "duration": 5,
    "start_time": "2022-12-02T19:23:25.499Z"
   },
   {
    "duration": 13,
    "start_time": "2022-12-02T19:23:25.506Z"
   },
   {
    "duration": 7,
    "start_time": "2022-12-02T19:23:25.521Z"
   },
   {
    "duration": 7,
    "start_time": "2022-12-02T19:23:25.530Z"
   },
   {
    "duration": 39,
    "start_time": "2022-12-02T19:23:25.539Z"
   },
   {
    "duration": 9,
    "start_time": "2022-12-02T19:23:25.580Z"
   },
   {
    "duration": 143,
    "start_time": "2022-12-02T19:23:25.591Z"
   },
   {
    "duration": 14,
    "start_time": "2022-12-02T19:23:25.735Z"
   },
   {
    "duration": 3,
    "start_time": "2022-12-02T19:23:25.757Z"
   },
   {
    "duration": 16,
    "start_time": "2022-12-02T19:23:25.771Z"
   },
   {
    "duration": 20,
    "start_time": "2022-12-02T19:23:25.789Z"
   },
   {
    "duration": 17,
    "start_time": "2022-12-02T19:23:25.811Z"
   },
   {
    "duration": 140,
    "start_time": "2022-12-02T19:23:25.830Z"
   },
   {
    "duration": 12,
    "start_time": "2022-12-02T19:23:25.972Z"
   },
   {
    "duration": 6,
    "start_time": "2022-12-02T19:23:25.986Z"
   },
   {
    "duration": 7,
    "start_time": "2022-12-02T19:23:25.993Z"
   },
   {
    "duration": 8,
    "start_time": "2022-12-02T19:23:26.002Z"
   },
   {
    "duration": 14,
    "start_time": "2022-12-02T19:23:26.012Z"
   },
   {
    "duration": 142,
    "start_time": "2022-12-02T19:23:26.027Z"
   },
   {
    "duration": 321,
    "start_time": "2022-12-02T19:23:26.173Z"
   },
   {
    "duration": 12,
    "start_time": "2022-12-02T19:23:26.496Z"
   },
   {
    "duration": 8,
    "start_time": "2022-12-02T19:23:26.510Z"
   },
   {
    "duration": 10,
    "start_time": "2022-12-02T19:23:26.519Z"
   },
   {
    "duration": 5,
    "start_time": "2022-12-02T19:23:26.531Z"
   },
   {
    "duration": 29,
    "start_time": "2022-12-02T19:23:26.538Z"
   },
   {
    "duration": 19,
    "start_time": "2022-12-02T19:23:26.569Z"
   },
   {
    "duration": 222,
    "start_time": "2022-12-02T19:23:26.590Z"
   },
   {
    "duration": 12,
    "start_time": "2022-12-02T19:23:26.814Z"
   },
   {
    "duration": 9,
    "start_time": "2022-12-02T19:23:26.828Z"
   },
   {
    "duration": 22,
    "start_time": "2022-12-02T19:23:26.839Z"
   },
   {
    "duration": 7,
    "start_time": "2022-12-02T19:23:26.866Z"
   },
   {
    "duration": 17,
    "start_time": "2022-12-02T19:23:26.874Z"
   },
   {
    "duration": 146,
    "start_time": "2022-12-02T19:23:26.892Z"
   },
   {
    "duration": 31,
    "start_time": "2022-12-02T19:23:27.039Z"
   },
   {
    "duration": 3,
    "start_time": "2022-12-02T19:23:27.072Z"
   },
   {
    "duration": 8,
    "start_time": "2022-12-02T19:23:27.077Z"
   },
   {
    "duration": 5,
    "start_time": "2022-12-02T19:23:27.092Z"
   },
   {
    "duration": 18,
    "start_time": "2022-12-02T19:23:27.098Z"
   },
   {
    "duration": 155,
    "start_time": "2022-12-02T19:23:27.117Z"
   },
   {
    "duration": 314,
    "start_time": "2022-12-02T19:23:27.274Z"
   },
   {
    "duration": 13,
    "start_time": "2022-12-02T19:23:27.590Z"
   },
   {
    "duration": 6,
    "start_time": "2022-12-02T19:23:27.605Z"
   },
   {
    "duration": 155,
    "start_time": "2022-12-02T19:23:27.613Z"
   },
   {
    "duration": 12,
    "start_time": "2022-12-02T19:23:27.770Z"
   },
   {
    "duration": 8,
    "start_time": "2022-12-02T19:23:27.784Z"
   },
   {
    "duration": 118,
    "start_time": "2022-12-02T19:23:27.793Z"
   },
   {
    "duration": 13,
    "start_time": "2022-12-02T19:23:27.913Z"
   },
   {
    "duration": 7,
    "start_time": "2022-12-02T19:23:27.928Z"
   },
   {
    "duration": 143,
    "start_time": "2022-12-02T19:23:27.936Z"
   },
   {
    "duration": 306,
    "start_time": "2022-12-02T19:23:28.081Z"
   },
   {
    "duration": 8,
    "start_time": "2022-12-02T19:23:28.389Z"
   },
   {
    "duration": 8,
    "start_time": "2022-12-02T19:23:28.399Z"
   },
   {
    "duration": 14,
    "start_time": "2022-12-02T19:23:28.409Z"
   },
   {
    "duration": 8,
    "start_time": "2022-12-02T19:23:28.425Z"
   },
   {
    "duration": 1418,
    "start_time": "2022-12-03T06:41:52.197Z"
   },
   {
    "duration": 193,
    "start_time": "2022-12-03T06:41:53.617Z"
   },
   {
    "duration": 2,
    "start_time": "2022-12-03T06:41:53.812Z"
   },
   {
    "duration": 21,
    "start_time": "2022-12-03T06:41:53.816Z"
   },
   {
    "duration": 7,
    "start_time": "2022-12-03T06:41:53.839Z"
   },
   {
    "duration": 14,
    "start_time": "2022-12-03T06:41:53.848Z"
   },
   {
    "duration": 21,
    "start_time": "2022-12-03T06:41:53.864Z"
   },
   {
    "duration": 19,
    "start_time": "2022-12-03T06:41:53.886Z"
   },
   {
    "duration": 1270,
    "start_time": "2022-12-03T06:41:53.907Z"
   },
   {
    "duration": 4,
    "start_time": "2022-12-03T06:41:55.180Z"
   },
   {
    "duration": 55,
    "start_time": "2022-12-03T06:41:55.185Z"
   },
   {
    "duration": 5,
    "start_time": "2022-12-03T06:41:55.242Z"
   },
   {
    "duration": 18,
    "start_time": "2022-12-03T06:41:55.249Z"
   },
   {
    "duration": 8,
    "start_time": "2022-12-03T06:41:55.269Z"
   },
   {
    "duration": 3,
    "start_time": "2022-12-03T06:41:55.279Z"
   },
   {
    "duration": 10,
    "start_time": "2022-12-03T06:41:55.284Z"
   },
   {
    "duration": 43,
    "start_time": "2022-12-03T06:41:55.296Z"
   },
   {
    "duration": 5,
    "start_time": "2022-12-03T06:41:55.341Z"
   },
   {
    "duration": 11,
    "start_time": "2022-12-03T06:41:55.348Z"
   },
   {
    "duration": 19,
    "start_time": "2022-12-03T06:41:55.360Z"
   },
   {
    "duration": 11,
    "start_time": "2022-12-03T06:41:55.381Z"
   },
   {
    "duration": 8,
    "start_time": "2022-12-03T06:41:55.394Z"
   },
   {
    "duration": 27,
    "start_time": "2022-12-03T06:41:55.403Z"
   },
   {
    "duration": 16,
    "start_time": "2022-12-03T06:41:55.438Z"
   },
   {
    "duration": 7,
    "start_time": "2022-12-03T06:41:55.455Z"
   },
   {
    "duration": 8,
    "start_time": "2022-12-03T06:41:55.463Z"
   },
   {
    "duration": 6,
    "start_time": "2022-12-03T06:41:55.473Z"
   },
   {
    "duration": 8,
    "start_time": "2022-12-03T06:41:55.484Z"
   },
   {
    "duration": 39,
    "start_time": "2022-12-03T06:41:55.494Z"
   },
   {
    "duration": 8,
    "start_time": "2022-12-03T06:41:55.538Z"
   },
   {
    "duration": 259,
    "start_time": "2022-12-03T06:41:55.547Z"
   },
   {
    "duration": 14,
    "start_time": "2022-12-03T06:41:55.808Z"
   },
   {
    "duration": 27,
    "start_time": "2022-12-03T06:41:55.824Z"
   },
   {
    "duration": 208,
    "start_time": "2022-12-03T06:41:55.855Z"
   },
   {
    "duration": 14,
    "start_time": "2022-12-03T06:41:56.066Z"
   },
   {
    "duration": 12,
    "start_time": "2022-12-03T06:41:56.082Z"
   },
   {
    "duration": 30,
    "start_time": "2022-12-03T06:41:56.095Z"
   },
   {
    "duration": 10,
    "start_time": "2022-12-03T06:41:56.130Z"
   },
   {
    "duration": 16,
    "start_time": "2022-12-03T06:41:56.142Z"
   },
   {
    "duration": 15,
    "start_time": "2022-12-03T06:41:56.160Z"
   },
   {
    "duration": 277,
    "start_time": "2022-12-03T06:41:56.177Z"
   },
   {
    "duration": 15,
    "start_time": "2022-12-03T06:41:56.456Z"
   },
   {
    "duration": 646,
    "start_time": "2022-12-03T06:41:56.472Z"
   },
   {
    "duration": 6,
    "start_time": "2022-12-03T06:41:57.125Z"
   },
   {
    "duration": 31,
    "start_time": "2022-12-03T06:41:57.133Z"
   },
   {
    "duration": 10,
    "start_time": "2022-12-03T06:41:57.166Z"
   },
   {
    "duration": 19,
    "start_time": "2022-12-03T06:41:57.179Z"
   },
   {
    "duration": 7,
    "start_time": "2022-12-03T06:41:57.201Z"
   },
   {
    "duration": 201,
    "start_time": "2022-12-03T06:41:57.210Z"
   },
   {
    "duration": 26,
    "start_time": "2022-12-03T06:41:57.413Z"
   },
   {
    "duration": 19,
    "start_time": "2022-12-03T06:41:57.441Z"
   },
   {
    "duration": 215,
    "start_time": "2022-12-03T06:41:57.462Z"
   },
   {
    "duration": 3,
    "start_time": "2022-12-03T06:41:57.679Z"
   },
   {
    "duration": 13,
    "start_time": "2022-12-03T06:41:57.684Z"
   },
   {
    "duration": 37,
    "start_time": "2022-12-03T06:41:57.699Z"
   },
   {
    "duration": 6,
    "start_time": "2022-12-03T06:41:57.741Z"
   },
   {
    "duration": 17,
    "start_time": "2022-12-03T06:41:57.749Z"
   },
   {
    "duration": 273,
    "start_time": "2022-12-03T06:41:57.768Z"
   },
   {
    "duration": 229,
    "start_time": "2022-12-03T06:41:58.044Z"
   },
   {
    "duration": 6,
    "start_time": "2022-12-03T06:41:58.275Z"
   },
   {
    "duration": 266,
    "start_time": "2022-12-03T06:41:58.282Z"
   },
   {
    "duration": 251,
    "start_time": "2022-12-03T06:41:58.550Z"
   },
   {
    "duration": 5,
    "start_time": "2022-12-03T06:41:58.803Z"
   },
   {
    "duration": 187,
    "start_time": "2022-12-03T06:41:58.810Z"
   },
   {
    "duration": 5,
    "start_time": "2022-12-03T06:41:58.999Z"
   },
   {
    "duration": 231,
    "start_time": "2022-12-03T06:41:59.007Z"
   },
   {
    "duration": 5,
    "start_time": "2022-12-03T06:41:59.239Z"
   },
   {
    "duration": 7,
    "start_time": "2022-12-03T06:41:59.246Z"
   },
   {
    "duration": 257,
    "start_time": "2022-12-03T06:41:59.255Z"
   },
   {
    "duration": 17,
    "start_time": "2022-12-03T06:41:59.513Z"
   },
   {
    "duration": 160,
    "start_time": "2022-12-03T06:41:59.531Z"
   },
   {
    "duration": 6,
    "start_time": "2022-12-03T06:41:59.693Z"
   },
   {
    "duration": 10,
    "start_time": "2022-12-03T06:41:59.700Z"
   },
   {
    "duration": 197,
    "start_time": "2022-12-03T06:41:59.711Z"
   },
   {
    "duration": 5,
    "start_time": "2022-12-03T06:41:59.910Z"
   },
   {
    "duration": 192,
    "start_time": "2022-12-03T06:41:59.917Z"
   },
   {
    "duration": 5,
    "start_time": "2022-12-03T06:42:00.111Z"
   },
   {
    "duration": 29,
    "start_time": "2022-12-03T06:42:00.123Z"
   },
   {
    "duration": 19,
    "start_time": "2022-12-03T06:42:00.154Z"
   },
   {
    "duration": 6,
    "start_time": "2022-12-03T06:42:00.175Z"
   },
   {
    "duration": 204,
    "start_time": "2022-12-03T06:42:00.183Z"
   },
   {
    "duration": 13,
    "start_time": "2022-12-03T06:42:00.393Z"
   },
   {
    "duration": 237,
    "start_time": "2022-12-03T06:42:00.408Z"
   },
   {
    "duration": 12,
    "start_time": "2022-12-03T06:42:00.647Z"
   },
   {
    "duration": 16,
    "start_time": "2022-12-03T06:42:00.660Z"
   },
   {
    "duration": 16,
    "start_time": "2022-12-03T06:42:00.677Z"
   },
   {
    "duration": 35,
    "start_time": "2022-12-03T06:42:00.694Z"
   },
   {
    "duration": 25,
    "start_time": "2022-12-03T06:42:00.733Z"
   },
   {
    "duration": 14,
    "start_time": "2022-12-03T06:42:00.760Z"
   },
   {
    "duration": 33,
    "start_time": "2022-12-03T06:42:00.776Z"
   },
   {
    "duration": 8,
    "start_time": "2022-12-03T06:42:00.811Z"
   },
   {
    "duration": 157,
    "start_time": "2022-12-03T06:42:00.820Z"
   },
   {
    "duration": 14,
    "start_time": "2022-12-03T06:42:00.978Z"
   },
   {
    "duration": 12,
    "start_time": "2022-12-03T06:42:00.993Z"
   },
   {
    "duration": 38,
    "start_time": "2022-12-03T06:42:01.007Z"
   },
   {
    "duration": 18,
    "start_time": "2022-12-03T06:42:01.047Z"
   },
   {
    "duration": 17,
    "start_time": "2022-12-03T06:42:01.067Z"
   },
   {
    "duration": 144,
    "start_time": "2022-12-03T06:42:01.086Z"
   },
   {
    "duration": 13,
    "start_time": "2022-12-03T06:42:01.240Z"
   },
   {
    "duration": 6,
    "start_time": "2022-12-03T06:42:01.255Z"
   },
   {
    "duration": 16,
    "start_time": "2022-12-03T06:42:01.263Z"
   },
   {
    "duration": 23,
    "start_time": "2022-12-03T06:42:01.281Z"
   },
   {
    "duration": 21,
    "start_time": "2022-12-03T06:42:01.306Z"
   },
   {
    "duration": 190,
    "start_time": "2022-12-03T06:42:01.329Z"
   },
   {
    "duration": 351,
    "start_time": "2022-12-03T06:42:01.523Z"
   },
   {
    "duration": 16,
    "start_time": "2022-12-03T06:42:01.876Z"
   },
   {
    "duration": 9,
    "start_time": "2022-12-03T06:42:01.895Z"
   },
   {
    "duration": 2,
    "start_time": "2022-12-03T06:42:01.931Z"
   },
   {
    "duration": 10,
    "start_time": "2022-12-03T06:42:01.935Z"
   },
   {
    "duration": 11,
    "start_time": "2022-12-03T06:42:01.947Z"
   },
   {
    "duration": 18,
    "start_time": "2022-12-03T06:42:01.960Z"
   },
   {
    "duration": 219,
    "start_time": "2022-12-03T06:42:01.980Z"
   },
   {
    "duration": 26,
    "start_time": "2022-12-03T06:42:02.200Z"
   },
   {
    "duration": 17,
    "start_time": "2022-12-03T06:42:02.227Z"
   },
   {
    "duration": 28,
    "start_time": "2022-12-03T06:42:02.246Z"
   },
   {
    "duration": 12,
    "start_time": "2022-12-03T06:42:02.276Z"
   },
   {
    "duration": 28,
    "start_time": "2022-12-03T06:42:02.291Z"
   },
   {
    "duration": 150,
    "start_time": "2022-12-03T06:42:02.321Z"
   },
   {
    "duration": 15,
    "start_time": "2022-12-03T06:42:02.472Z"
   },
   {
    "duration": 7,
    "start_time": "2022-12-03T06:42:02.489Z"
   },
   {
    "duration": 27,
    "start_time": "2022-12-03T06:42:02.498Z"
   },
   {
    "duration": 49,
    "start_time": "2022-12-03T06:42:02.528Z"
   },
   {
    "duration": 28,
    "start_time": "2022-12-03T06:42:02.579Z"
   },
   {
    "duration": 182,
    "start_time": "2022-12-03T06:42:02.609Z"
   },
   {
    "duration": 355,
    "start_time": "2022-12-03T06:42:02.792Z"
   },
   {
    "duration": 18,
    "start_time": "2022-12-03T06:42:03.148Z"
   },
   {
    "duration": 10,
    "start_time": "2022-12-03T06:42:03.168Z"
   },
   {
    "duration": 172,
    "start_time": "2022-12-03T06:42:03.180Z"
   },
   {
    "duration": 11,
    "start_time": "2022-12-03T06:42:03.353Z"
   },
   {
    "duration": 6,
    "start_time": "2022-12-03T06:42:03.366Z"
   },
   {
    "duration": 133,
    "start_time": "2022-12-03T06:42:03.373Z"
   },
   {
    "duration": 34,
    "start_time": "2022-12-03T06:42:03.508Z"
   },
   {
    "duration": 8,
    "start_time": "2022-12-03T06:42:03.546Z"
   },
   {
    "duration": 123,
    "start_time": "2022-12-03T06:42:03.556Z"
   },
   {
    "duration": 305,
    "start_time": "2022-12-03T06:42:03.680Z"
   },
   {
    "duration": 8,
    "start_time": "2022-12-03T06:42:03.987Z"
   },
   {
    "duration": 7,
    "start_time": "2022-12-03T06:42:03.997Z"
   },
   {
    "duration": 39,
    "start_time": "2022-12-03T06:42:04.005Z"
   },
   {
    "duration": 13,
    "start_time": "2022-12-03T06:42:04.047Z"
   },
   {
    "duration": 14,
    "start_time": "2022-12-03T06:44:29.872Z"
   },
   {
    "duration": 8,
    "start_time": "2022-12-03T06:45:50.348Z"
   },
   {
    "duration": 6,
    "start_time": "2022-12-03T06:46:02.013Z"
   },
   {
    "duration": 5,
    "start_time": "2022-12-03T06:46:13.958Z"
   },
   {
    "duration": 7,
    "start_time": "2022-12-03T06:47:00.502Z"
   },
   {
    "duration": 8,
    "start_time": "2022-12-03T06:47:18.681Z"
   },
   {
    "duration": 107,
    "start_time": "2022-12-03T06:48:14.797Z"
   },
   {
    "duration": 11,
    "start_time": "2022-12-03T06:48:18.289Z"
   },
   {
    "duration": 6,
    "start_time": "2022-12-03T06:48:58.246Z"
   },
   {
    "duration": 36,
    "start_time": "2022-12-03T06:50:08.420Z"
   },
   {
    "duration": 22,
    "start_time": "2022-12-03T06:50:51.968Z"
   },
   {
    "duration": 16,
    "start_time": "2022-12-03T06:51:30.062Z"
   },
   {
    "duration": 23,
    "start_time": "2022-12-03T06:52:04.528Z"
   },
   {
    "duration": 31,
    "start_time": "2022-12-03T06:56:27.271Z"
   }
  ],
  "kernelspec": {
   "display_name": "Python 3 (ipykernel)",
   "language": "python",
   "name": "python3"
  },
  "language_info": {
   "codemirror_mode": {
    "name": "ipython",
    "version": 3
   },
   "file_extension": ".py",
   "mimetype": "text/x-python",
   "name": "python",
   "nbconvert_exporter": "python",
   "pygments_lexer": "ipython3",
   "version": "3.9.12"
  },
  "toc": {
   "base_numbering": 1,
   "nav_menu": {},
   "number_sections": true,
   "sideBar": true,
   "skip_h1_title": true,
   "title_cell": "Table of Contents",
   "title_sidebar": "Contents",
   "toc_cell": true,
   "toc_position": {
    "height": "calc(100% - 180px)",
    "left": "10px",
    "top": "150px",
    "width": "384px"
   },
   "toc_section_display": true,
   "toc_window_display": false
  }
 },
 "nbformat": 4,
 "nbformat_minor": 2
}
