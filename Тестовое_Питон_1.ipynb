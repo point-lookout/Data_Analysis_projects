{
 "cells": [
  {
   "cell_type": "markdown",
   "id": "9ab569c3",
   "metadata": {
    "toc": true
   },
   "source": [
    "<h1>Table of Contents<span class=\"tocSkip\"></span></h1>\n",
    "<div class=\"toc\"><ul class=\"toc-item\"><li><span><a href=\"#Вычислите-общую-выручку-за-июль-2021-по-тем-сделкам,-приход-денежных-средств-которых-не-просрочен.\" data-toc-modified-id=\"Вычислите-общую-выручку-за-июль-2021-по-тем-сделкам,-приход-денежных-средств-которых-не-просрочен.-1\"><span class=\"toc-item-num\">1&nbsp;&nbsp;</span>Вычислите общую выручку за июль 2021 по тем сделкам, приход денежных средств которых не просрочен.</a></span></li><li><span><a href=\"#Как-изменялась-выручка-компании-за-рассматриваемый-период?-Проиллюстрируйте-графиком.\" data-toc-modified-id=\"Как-изменялась-выручка-компании-за-рассматриваемый-период?-Проиллюстрируйте-графиком.-2\"><span class=\"toc-item-num\">2&nbsp;&nbsp;</span>Как изменялась выручка компании за рассматриваемый период? Проиллюстрируйте графиком.</a></span></li><li><span><a href=\"#Кто-из-менеджеров-привлек-для-компании-больше-всего-денежных-средств-в-сентябре-2021?\" data-toc-modified-id=\"Кто-из-менеджеров-привлек-для-компании-больше-всего-денежных-средств-в-сентябре-2021?-3\"><span class=\"toc-item-num\">3&nbsp;&nbsp;</span>Кто из менеджеров привлек для компании больше всего денежных средств в сентябре 2021?</a></span></li><li><span><a href=\"#Какой-тип-сделок-(новая/текущая)-был-преобладающим-в-октябре-2021?\" data-toc-modified-id=\"Какой-тип-сделок-(новая/текущая)-был-преобладающим-в-октябре-2021?-4\"><span class=\"toc-item-num\">4&nbsp;&nbsp;</span>Какой тип сделок (новая/текущая) был преобладающим в октябре 2021?</a></span></li><li><span><a href=\"#Сколько-оригиналов-договора-по-майским-сделкам-было-получено-в-июне-2021?\" data-toc-modified-id=\"Сколько-оригиналов-договора-по-майским-сделкам-было-получено-в-июне-2021?-5\"><span class=\"toc-item-num\">5&nbsp;&nbsp;</span>Сколько оригиналов договора по майским сделкам было получено в июне 2021?</a></span></li><li><span><a href=\"#Вычислите-остаток-каждого-из-менеджеров-на-01.07.2021\" data-toc-modified-id=\"Вычислите-остаток-каждого-из-менеджеров-на-01.07.2021-6\"><span class=\"toc-item-num\">6&nbsp;&nbsp;</span>Вычислите остаток каждого из менеджеров на 01.07.2021</a></span></li></ul></div>"
   ]
  },
  {
   "cell_type": "markdown",
   "id": "0b342b1b",
   "metadata": {},
   "source": [
    "<font size=\"5\"><b>ЗАДАЧИ НА ЛОГИКУ</b></font>\n",
    "\n",
    "\n",
    "**1) Рекламная кампания стартовала вчера с дневным бюджетом 40 $. Половина бюджета была израсходована к полудню, а 80 процентов оставшегося бюджета былопотрачено между полуднем и временем закрытия. Сколько долларов не было потрачено?**  \n",
    "Ответ: 80 процентов от оставшихся 20 долларов - это 16 долларов\n",
    "20-16 = 4 доллара\n",
    ">Ответ:  \n",
    "4 доллара не было потрачено\n",
    "\n",
    "\n",
    "**2) 5 идентичных рекламных кампаний работали 24 дня по 6 часов в день,потрачено было 120 долларов. Сколько дней они работали бы на 216 долларов,если бы 9 одинаковых кампаний работали бы по 8 часов в день?**  \n",
    ">Из первого утверждения получаем:  каждая компания за 24*6 часов получает 120/5=24 доллара.  \n",
    "Из второго утверждения мы понимаем, что каждая компания за х*8 часов получает 216/9=24 доллара.  \n",
    "Вычисляем:  24*6/8 = 18 дней\n",
    "\n",
    "**3) Дизайнеры создали 200 рекламных баннеров для двух рекламных кампаний. 80 из них не использовались ни в кампании №1, ни в кампании №2, 60 использовались только в кампании №1. И для каждого рекламного баннера,который использовался в обеих кампаниях, приходится 3 баннера, которые использовались только в кампании №2. Сколько баннеров было использовано в\n",
    "обеих рекламных кампаниях?**  \n",
    ">Получим сначала общее количество баннеров, которые использовали рекламные кампании:200 - 80 = 120.  \n",
    "60 из них использовались в кампании №1, стало быть оставшиеся 60 – это кампания №2 плюс какое-то количество общих баннеров.  \n",
    "При этом, мы знаем, что на один общий баннер приходится 3 баннера кампании №2. Соответственно, исходя из это пропорции, число общих баннеров должно быть 15, а вторых – 45.  \n",
    "В итоге, получаем результаты: первая кампания – 60 баннеров, вторая – 45, общих баннеров – 15 штук.\n",
    "\n",
    "\n",
    "**4) Энн использует Instagram, но не Facebook, а Джон использует Youtube и Facebook. Кейт использует Youtube, но не Instagram, а Том использует Facebook, но не Youtube. Если каждый человек использует две из трех социальных сетей,\n",
    "у кого предпочтения совпадают?**  \n",
    ">предпочтения совпадают у Кейт и Джона, - они оба пользуются Youtub’ом и Facebook’ом.\n",
    "\n",
    "\n",
    "**5) Средний итоговый балл стажера по 4 модулям составляет 78 баллов. Сколько баллов должен получить стажер за 5-й модуль, чтобы средний балл по всему заданию составил 80?**  \n",
    "Исходя из условий задачи:  \n",
    "(4*78+х) /5=80  \n",
    "Значит:  \n",
    "х=80*5-4*78 = 88  \n",
    "Ответ - 88\n",
    "\n",
    "**6) Заказанные в приложении товары доставляются на автомобиле. Автомобиль проезжает 260 км со средней скоростью 80 км / ч. На обратном пути машина движется со средней скоростью 100 км / ч. Насколько быстрее был обратный путь? Ответ указать в минутах.**  \n",
    ">Посчитаем первое время: 260/80 = 3,25 часа  \n",
    "Посчитаем втрое время: 260/100 – 2,6 часа  \n",
    "Посчитаем итоговое время: (3,25-2,6) *60 = 39 минут"
   ]
  },
  {
   "cell_type": "code",
   "execution_count": null,
   "id": "e6b291c0",
   "metadata": {},
   "outputs": [],
   "source": []
  },
  {
   "cell_type": "code",
   "execution_count": null,
   "id": "3a29c303",
   "metadata": {},
   "outputs": [],
   "source": []
  },
  {
   "cell_type": "markdown",
   "id": "4cee01ce",
   "metadata": {},
   "source": [
    "<div class=\"alert alert-info\"> \n",
    "    \n",
    "\n",
    "<font size=\"5\"><b>ЗНАКОМСТВО С ДАННЫМИ</b></font>"
   ]
  },
  {
   "cell_type": "code",
   "execution_count": 1,
   "id": "a9ebc3f2",
   "metadata": {},
   "outputs": [],
   "source": [
    "#загрузим необходимые библиотеки\n",
    "\n",
    "import pandas as pd\n",
    "import datetime as dt\n",
    "import seaborn as sns\n",
    "import numpy as np\n",
    "import matplotlib.pyplot as plt\n",
    "from matplotlib.figure import Figure"
   ]
  },
  {
   "cell_type": "code",
   "execution_count": 2,
   "id": "ee9181db",
   "metadata": {},
   "outputs": [],
   "source": [
    "#загрузим датасет\n",
    "\n",
    "URL = \"https://docs.google.com/spreadsheets/d/1t2Bl9Jc0JCWOaeFgADJ2bVdoLdjDTWno/export\"\n",
    "df = pd.read_excel(URL)"
   ]
  },
  {
   "cell_type": "code",
   "execution_count": 3,
   "id": "1cf5ac77",
   "metadata": {},
   "outputs": [
    {
     "data": {
      "text/html": [
       "<div>\n",
       "<style scoped>\n",
       "    .dataframe tbody tr th:only-of-type {\n",
       "        vertical-align: middle;\n",
       "    }\n",
       "\n",
       "    .dataframe tbody tr th {\n",
       "        vertical-align: top;\n",
       "    }\n",
       "\n",
       "    .dataframe thead th {\n",
       "        text-align: right;\n",
       "    }\n",
       "</style>\n",
       "<table border=\"1\" class=\"dataframe\">\n",
       "  <thead>\n",
       "    <tr style=\"text-align: right;\">\n",
       "      <th></th>\n",
       "      <th>client_id</th>\n",
       "      <th>sum</th>\n",
       "      <th>status</th>\n",
       "      <th>sale</th>\n",
       "      <th>new/current</th>\n",
       "      <th>Unnamed: 5</th>\n",
       "      <th>document</th>\n",
       "      <th>receiving_date</th>\n",
       "    </tr>\n",
       "  </thead>\n",
       "  <tbody>\n",
       "    <tr>\n",
       "      <th>0</th>\n",
       "      <td>NaN</td>\n",
       "      <td>NaN</td>\n",
       "      <td>Май 2021</td>\n",
       "      <td>NaN</td>\n",
       "      <td>NaN</td>\n",
       "      <td>NaN</td>\n",
       "      <td>NaN</td>\n",
       "      <td>NaN</td>\n",
       "    </tr>\n",
       "    <tr>\n",
       "      <th>1</th>\n",
       "      <td>6.0</td>\n",
       "      <td>11693.7</td>\n",
       "      <td>ВНУТРЕННИЙ</td>\n",
       "      <td>-</td>\n",
       "      <td>-</td>\n",
       "      <td>NaN</td>\n",
       "      <td>-</td>\n",
       "      <td>-</td>\n",
       "    </tr>\n",
       "    <tr>\n",
       "      <th>2</th>\n",
       "      <td>14.0</td>\n",
       "      <td>5452.7</td>\n",
       "      <td>ОПЛАЧЕНО</td>\n",
       "      <td>Петрова</td>\n",
       "      <td>новая</td>\n",
       "      <td>NaN</td>\n",
       "      <td>оригинал</td>\n",
       "      <td>2021-07-26 00:00:00</td>\n",
       "    </tr>\n",
       "    <tr>\n",
       "      <th>3</th>\n",
       "      <td>15.0</td>\n",
       "      <td>13991.7</td>\n",
       "      <td>ОПЛАЧЕНО</td>\n",
       "      <td>Иванов</td>\n",
       "      <td>текущая</td>\n",
       "      <td>NaN</td>\n",
       "      <td>оригинал</td>\n",
       "      <td>2021-06-08 00:00:00</td>\n",
       "    </tr>\n",
       "    <tr>\n",
       "      <th>4</th>\n",
       "      <td>16.0</td>\n",
       "      <td>719.7</td>\n",
       "      <td>ОПЛАЧЕНО</td>\n",
       "      <td>Иванов</td>\n",
       "      <td>текущая</td>\n",
       "      <td>NaN</td>\n",
       "      <td>оригинал</td>\n",
       "      <td>2021-06-08 00:00:00</td>\n",
       "    </tr>\n",
       "    <tr>\n",
       "      <th>5</th>\n",
       "      <td>18.0</td>\n",
       "      <td>4253.7</td>\n",
       "      <td>ОПЛАЧЕНО</td>\n",
       "      <td>Иванов</td>\n",
       "      <td>текущая</td>\n",
       "      <td>NaN</td>\n",
       "      <td>оригинал</td>\n",
       "      <td>2021-07-07 00:00:00</td>\n",
       "    </tr>\n",
       "    <tr>\n",
       "      <th>6</th>\n",
       "      <td>20.0</td>\n",
       "      <td>5796.7</td>\n",
       "      <td>ОПЛАЧЕНО</td>\n",
       "      <td>Кузнецова</td>\n",
       "      <td>текущая</td>\n",
       "      <td>NaN</td>\n",
       "      <td>оригинал</td>\n",
       "      <td>2021-07-15 00:00:00</td>\n",
       "    </tr>\n",
       "    <tr>\n",
       "      <th>7</th>\n",
       "      <td>21.0</td>\n",
       "      <td>3613.7</td>\n",
       "      <td>ОПЛАЧЕНО</td>\n",
       "      <td>Кузнецова</td>\n",
       "      <td>текущая</td>\n",
       "      <td>NaN</td>\n",
       "      <td>оригинал</td>\n",
       "      <td>2021-10-13 00:00:00</td>\n",
       "    </tr>\n",
       "    <tr>\n",
       "      <th>8</th>\n",
       "      <td>23.0</td>\n",
       "      <td>8511.7</td>\n",
       "      <td>ОПЛАЧЕНО</td>\n",
       "      <td>Андреев</td>\n",
       "      <td>текущая</td>\n",
       "      <td>NaN</td>\n",
       "      <td>оригинал</td>\n",
       "      <td>2021-06-08 00:00:00</td>\n",
       "    </tr>\n",
       "    <tr>\n",
       "      <th>9</th>\n",
       "      <td>24.0</td>\n",
       "      <td>16347.7</td>\n",
       "      <td>ОПЛАЧЕНО</td>\n",
       "      <td>Андреев</td>\n",
       "      <td>новая</td>\n",
       "      <td>NaN</td>\n",
       "      <td>оригинал</td>\n",
       "      <td>2021-06-23 00:00:00</td>\n",
       "    </tr>\n",
       "  </tbody>\n",
       "</table>\n",
       "</div>"
      ],
      "text/plain": [
       "   client_id      sum      status       sale new/current  Unnamed: 5  \\\n",
       "0        NaN      NaN    Май 2021        NaN         NaN         NaN   \n",
       "1        6.0  11693.7  ВНУТРЕННИЙ          -           -         NaN   \n",
       "2       14.0   5452.7    ОПЛАЧЕНО    Петрова       новая         NaN   \n",
       "3       15.0  13991.7    ОПЛАЧЕНО     Иванов     текущая         NaN   \n",
       "4       16.0    719.7    ОПЛАЧЕНО     Иванов     текущая         NaN   \n",
       "5       18.0   4253.7    ОПЛАЧЕНО     Иванов     текущая         NaN   \n",
       "6       20.0   5796.7    ОПЛАЧЕНО  Кузнецова     текущая         NaN   \n",
       "7       21.0   3613.7    ОПЛАЧЕНО  Кузнецова     текущая         NaN   \n",
       "8       23.0   8511.7    ОПЛАЧЕНО    Андреев     текущая         NaN   \n",
       "9       24.0  16347.7    ОПЛАЧЕНО    Андреев       новая         NaN   \n",
       "\n",
       "   document       receiving_date  \n",
       "0       NaN                  NaN  \n",
       "1         -                    -  \n",
       "2  оригинал  2021-07-26 00:00:00  \n",
       "3  оригинал  2021-06-08 00:00:00  \n",
       "4  оригинал  2021-06-08 00:00:00  \n",
       "5  оригинал  2021-07-07 00:00:00  \n",
       "6  оригинал  2021-07-15 00:00:00  \n",
       "7  оригинал  2021-10-13 00:00:00  \n",
       "8  оригинал  2021-06-08 00:00:00  \n",
       "9  оригинал  2021-06-23 00:00:00  "
      ]
     },
     "execution_count": 3,
     "metadata": {},
     "output_type": "execute_result"
    }
   ],
   "source": [
    "#ознакомимся с данными\n",
    "\n",
    "df.head(10)"
   ]
  },
  {
   "cell_type": "code",
   "execution_count": 4,
   "id": "d973e6b9",
   "metadata": {},
   "outputs": [
    {
     "data": {
      "text/plain": [
       "array(['Май 2021', 'ВНУТРЕННИЙ', 'ОПЛАЧЕНО', 'ПРОСРОЧЕНО', 'Июнь 2021',\n",
       "       'Июль 2021', 'Август 2021', 'В РАБОТЕ', 'Сентябрь 2021',\n",
       "       'Октябрь 2021', 'НА ПОДПИСАНИИ'], dtype=object)"
      ]
     },
     "execution_count": 4,
     "metadata": {},
     "output_type": "execute_result"
    }
   ],
   "source": [
    "#посмотрим уникальные значения колнки status\n",
    "\n",
    "df.status.unique()"
   ]
  },
  {
   "cell_type": "markdown",
   "id": "89c1f787",
   "metadata": {},
   "source": [
    "**Как видим, месяц оплаты находится в той же колонке status, что и статус платежа.  \n",
    "Сделаем дополнительную колонку, куда вынесем месяц каждой транзакции:**"
   ]
  },
  {
   "cell_type": "code",
   "execution_count": 5,
   "id": "cb2e3640",
   "metadata": {},
   "outputs": [],
   "source": [
    "#создадим новую колонку для названия месяца\n",
    "\n",
    "df['payed_month'] = ''"
   ]
  },
  {
   "cell_type": "code",
   "execution_count": 6,
   "id": "4e2c4684",
   "metadata": {
    "scrolled": true
   },
   "outputs": [
    {
     "name": "stderr",
     "output_type": "stream",
     "text": [
      "C:\\Users\\amon2\\AppData\\Local\\Temp\\ipykernel_7900\\3123374160.py:8: SettingWithCopyWarning: \n",
      "A value is trying to be set on a copy of a slice from a DataFrame\n",
      "\n",
      "See the caveats in the documentation: https://pandas.pydata.org/pandas-docs/stable/user_guide/indexing.html#returning-a-view-versus-a-copy\n",
      "  df.loc[:, 'payed_month'][q] = qwe\n"
     ]
    }
   ],
   "source": [
    "#циклом заполним новую колонку соответствующими значениями:\n",
    "\n",
    "q = 0\n",
    "qwe = []\n",
    "for i in range(len(df)):\n",
    "    if df['status'][i][-4:] == '2021':\n",
    "        qwe = df['status'][i]\n",
    "    df.loc[:, 'payed_month'][q] = qwe\n",
    "    q = i+1"
   ]
  },
  {
   "cell_type": "code",
   "execution_count": 7,
   "id": "3f65175d",
   "metadata": {},
   "outputs": [],
   "source": [
    "#заменим значения на первое число каждого месяца\n",
    "\n",
    "month_dict = {'Май 2021': '2021-05-01', 'Июнь 2021': '2021-06-01', 'Июль 2021': '2021-07-01', 'Август 2021': '2021-08-01', 'Сентябрь 2021': '2021-09-01','Октябрь 2021': '2021-10-01'}\n",
    "df['payed_month'] = df['payed_month'].map(month_dict)"
   ]
  },
  {
   "cell_type": "code",
   "execution_count": 8,
   "id": "42435414",
   "metadata": {},
   "outputs": [
    {
     "data": {
      "text/html": [
       "<div>\n",
       "<style scoped>\n",
       "    .dataframe tbody tr th:only-of-type {\n",
       "        vertical-align: middle;\n",
       "    }\n",
       "\n",
       "    .dataframe tbody tr th {\n",
       "        vertical-align: top;\n",
       "    }\n",
       "\n",
       "    .dataframe thead th {\n",
       "        text-align: right;\n",
       "    }\n",
       "</style>\n",
       "<table border=\"1\" class=\"dataframe\">\n",
       "  <thead>\n",
       "    <tr style=\"text-align: right;\">\n",
       "      <th></th>\n",
       "      <th>client_id</th>\n",
       "      <th>sum</th>\n",
       "      <th>status</th>\n",
       "      <th>sale</th>\n",
       "      <th>new/current</th>\n",
       "      <th>Unnamed: 5</th>\n",
       "      <th>document</th>\n",
       "      <th>receiving_date</th>\n",
       "      <th>payed_month</th>\n",
       "    </tr>\n",
       "  </thead>\n",
       "  <tbody>\n",
       "    <tr>\n",
       "      <th>0</th>\n",
       "      <td>NaN</td>\n",
       "      <td>NaN</td>\n",
       "      <td>Май 2021</td>\n",
       "      <td>NaN</td>\n",
       "      <td>NaN</td>\n",
       "      <td>NaN</td>\n",
       "      <td>NaN</td>\n",
       "      <td>NaN</td>\n",
       "      <td>2021-05-01</td>\n",
       "    </tr>\n",
       "    <tr>\n",
       "      <th>1</th>\n",
       "      <td>6.0</td>\n",
       "      <td>11693.7</td>\n",
       "      <td>ВНУТРЕННИЙ</td>\n",
       "      <td>-</td>\n",
       "      <td>-</td>\n",
       "      <td>NaN</td>\n",
       "      <td>-</td>\n",
       "      <td>-</td>\n",
       "      <td>2021-05-01</td>\n",
       "    </tr>\n",
       "    <tr>\n",
       "      <th>2</th>\n",
       "      <td>14.0</td>\n",
       "      <td>5452.7</td>\n",
       "      <td>ОПЛАЧЕНО</td>\n",
       "      <td>Петрова</td>\n",
       "      <td>новая</td>\n",
       "      <td>NaN</td>\n",
       "      <td>оригинал</td>\n",
       "      <td>2021-07-26 00:00:00</td>\n",
       "      <td>2021-05-01</td>\n",
       "    </tr>\n",
       "    <tr>\n",
       "      <th>3</th>\n",
       "      <td>15.0</td>\n",
       "      <td>13991.7</td>\n",
       "      <td>ОПЛАЧЕНО</td>\n",
       "      <td>Иванов</td>\n",
       "      <td>текущая</td>\n",
       "      <td>NaN</td>\n",
       "      <td>оригинал</td>\n",
       "      <td>2021-06-08 00:00:00</td>\n",
       "      <td>2021-05-01</td>\n",
       "    </tr>\n",
       "    <tr>\n",
       "      <th>4</th>\n",
       "      <td>16.0</td>\n",
       "      <td>719.7</td>\n",
       "      <td>ОПЛАЧЕНО</td>\n",
       "      <td>Иванов</td>\n",
       "      <td>текущая</td>\n",
       "      <td>NaN</td>\n",
       "      <td>оригинал</td>\n",
       "      <td>2021-06-08 00:00:00</td>\n",
       "      <td>2021-05-01</td>\n",
       "    </tr>\n",
       "    <tr>\n",
       "      <th>5</th>\n",
       "      <td>18.0</td>\n",
       "      <td>4253.7</td>\n",
       "      <td>ОПЛАЧЕНО</td>\n",
       "      <td>Иванов</td>\n",
       "      <td>текущая</td>\n",
       "      <td>NaN</td>\n",
       "      <td>оригинал</td>\n",
       "      <td>2021-07-07 00:00:00</td>\n",
       "      <td>2021-05-01</td>\n",
       "    </tr>\n",
       "    <tr>\n",
       "      <th>6</th>\n",
       "      <td>20.0</td>\n",
       "      <td>5796.7</td>\n",
       "      <td>ОПЛАЧЕНО</td>\n",
       "      <td>Кузнецова</td>\n",
       "      <td>текущая</td>\n",
       "      <td>NaN</td>\n",
       "      <td>оригинал</td>\n",
       "      <td>2021-07-15 00:00:00</td>\n",
       "      <td>2021-05-01</td>\n",
       "    </tr>\n",
       "    <tr>\n",
       "      <th>7</th>\n",
       "      <td>21.0</td>\n",
       "      <td>3613.7</td>\n",
       "      <td>ОПЛАЧЕНО</td>\n",
       "      <td>Кузнецова</td>\n",
       "      <td>текущая</td>\n",
       "      <td>NaN</td>\n",
       "      <td>оригинал</td>\n",
       "      <td>2021-10-13 00:00:00</td>\n",
       "      <td>2021-05-01</td>\n",
       "    </tr>\n",
       "    <tr>\n",
       "      <th>8</th>\n",
       "      <td>23.0</td>\n",
       "      <td>8511.7</td>\n",
       "      <td>ОПЛАЧЕНО</td>\n",
       "      <td>Андреев</td>\n",
       "      <td>текущая</td>\n",
       "      <td>NaN</td>\n",
       "      <td>оригинал</td>\n",
       "      <td>2021-06-08 00:00:00</td>\n",
       "      <td>2021-05-01</td>\n",
       "    </tr>\n",
       "    <tr>\n",
       "      <th>9</th>\n",
       "      <td>24.0</td>\n",
       "      <td>16347.7</td>\n",
       "      <td>ОПЛАЧЕНО</td>\n",
       "      <td>Андреев</td>\n",
       "      <td>новая</td>\n",
       "      <td>NaN</td>\n",
       "      <td>оригинал</td>\n",
       "      <td>2021-06-23 00:00:00</td>\n",
       "      <td>2021-05-01</td>\n",
       "    </tr>\n",
       "  </tbody>\n",
       "</table>\n",
       "</div>"
      ],
      "text/plain": [
       "   client_id      sum      status       sale new/current  Unnamed: 5  \\\n",
       "0        NaN      NaN    Май 2021        NaN         NaN         NaN   \n",
       "1        6.0  11693.7  ВНУТРЕННИЙ          -           -         NaN   \n",
       "2       14.0   5452.7    ОПЛАЧЕНО    Петрова       новая         NaN   \n",
       "3       15.0  13991.7    ОПЛАЧЕНО     Иванов     текущая         NaN   \n",
       "4       16.0    719.7    ОПЛАЧЕНО     Иванов     текущая         NaN   \n",
       "5       18.0   4253.7    ОПЛАЧЕНО     Иванов     текущая         NaN   \n",
       "6       20.0   5796.7    ОПЛАЧЕНО  Кузнецова     текущая         NaN   \n",
       "7       21.0   3613.7    ОПЛАЧЕНО  Кузнецова     текущая         NaN   \n",
       "8       23.0   8511.7    ОПЛАЧЕНО    Андреев     текущая         NaN   \n",
       "9       24.0  16347.7    ОПЛАЧЕНО    Андреев       новая         NaN   \n",
       "\n",
       "   document       receiving_date payed_month  \n",
       "0       NaN                  NaN  2021-05-01  \n",
       "1         -                    -  2021-05-01  \n",
       "2  оригинал  2021-07-26 00:00:00  2021-05-01  \n",
       "3  оригинал  2021-06-08 00:00:00  2021-05-01  \n",
       "4  оригинал  2021-06-08 00:00:00  2021-05-01  \n",
       "5  оригинал  2021-07-07 00:00:00  2021-05-01  \n",
       "6  оригинал  2021-07-15 00:00:00  2021-05-01  \n",
       "7  оригинал  2021-10-13 00:00:00  2021-05-01  \n",
       "8  оригинал  2021-06-08 00:00:00  2021-05-01  \n",
       "9  оригинал  2021-06-23 00:00:00  2021-05-01  "
      ]
     },
     "execution_count": 8,
     "metadata": {},
     "output_type": "execute_result"
    }
   ],
   "source": [
    "#оценим результат\n",
    "\n",
    "df.head(10)"
   ]
  },
  {
   "cell_type": "code",
   "execution_count": null,
   "id": "f552f5d3",
   "metadata": {},
   "outputs": [],
   "source": []
  },
  {
   "cell_type": "code",
   "execution_count": null,
   "id": "3d21f11e",
   "metadata": {},
   "outputs": [],
   "source": []
  },
  {
   "cell_type": "markdown",
   "id": "9878eebc",
   "metadata": {},
   "source": [
    "<div class=\"alert alert-info\"> \n",
    "    \n",
    "\n",
    "<font size=\"5\"><b>ПРАКТИЧЕСКИЕ ЗАДАНИЯ</b></font>"
   ]
  },
  {
   "cell_type": "markdown",
   "id": "7644e009",
   "metadata": {},
   "source": [
    "## Вычислите общую выручку за июль 2021 по тем сделкам, приход денежных средств которых не просрочен."
   ]
  },
  {
   "cell_type": "code",
   "execution_count": 9,
   "id": "ede028c3",
   "metadata": {},
   "outputs": [
    {
     "name": "stdout",
     "output_type": "stream",
     "text": [
      "Общая выручка за июль 2021 по тем сделкам, приход денежных средств которых не просрочен, равна 859896.47 условных единиц\n"
     ]
    }
   ],
   "source": [
    "#посмотрим общую выручку за июль\n",
    "\n",
    "print('Общая выручка за июль 2021 по тем сделкам, приход денежных средств которых не просрочен, равна {} условных единиц'.format(round(df.loc[(df['payed_month'] == '2021-07-01') \\\n",
    "                                                                                                                                              & (df['status'] != 'ПРОСРОЧЕНО')]['sum'].sum(),2)))"
   ]
  },
  {
   "cell_type": "code",
   "execution_count": null,
   "id": "99b1d394",
   "metadata": {},
   "outputs": [],
   "source": []
  },
  {
   "cell_type": "markdown",
   "id": "19bf8927",
   "metadata": {},
   "source": [
    "## Как изменялась выручка компании за рассматриваемый период? Проиллюстрируйте графиком."
   ]
  },
  {
   "cell_type": "code",
   "execution_count": 10,
   "id": "3c4df2e1",
   "metadata": {},
   "outputs": [
    {
     "data": {
      "text/html": [
       "<div>\n",
       "<style scoped>\n",
       "    .dataframe tbody tr th:only-of-type {\n",
       "        vertical-align: middle;\n",
       "    }\n",
       "\n",
       "    .dataframe tbody tr th {\n",
       "        vertical-align: top;\n",
       "    }\n",
       "\n",
       "    .dataframe thead th {\n",
       "        text-align: right;\n",
       "    }\n",
       "</style>\n",
       "<table border=\"1\" class=\"dataframe\">\n",
       "  <thead>\n",
       "    <tr style=\"text-align: right;\">\n",
       "      <th></th>\n",
       "      <th>revenue</th>\n",
       "    </tr>\n",
       "    <tr>\n",
       "      <th>payed_month</th>\n",
       "      <th></th>\n",
       "    </tr>\n",
       "  </thead>\n",
       "  <tbody>\n",
       "    <tr>\n",
       "      <th>2021-05-01</th>\n",
       "      <td>800668.49</td>\n",
       "    </tr>\n",
       "    <tr>\n",
       "      <th>2021-06-01</th>\n",
       "      <td>801442.41</td>\n",
       "    </tr>\n",
       "    <tr>\n",
       "      <th>2021-07-01</th>\n",
       "      <td>859896.47</td>\n",
       "    </tr>\n",
       "    <tr>\n",
       "      <th>2021-08-01</th>\n",
       "      <td>785467.99</td>\n",
       "    </tr>\n",
       "    <tr>\n",
       "      <th>2021-09-01</th>\n",
       "      <td>783616.78</td>\n",
       "    </tr>\n",
       "    <tr>\n",
       "      <th>2021-10-01</th>\n",
       "      <td>708690.24</td>\n",
       "    </tr>\n",
       "  </tbody>\n",
       "</table>\n",
       "</div>"
      ],
      "text/plain": [
       "               revenue\n",
       "payed_month           \n",
       "2021-05-01   800668.49\n",
       "2021-06-01   801442.41\n",
       "2021-07-01   859896.47\n",
       "2021-08-01   785467.99\n",
       "2021-09-01   783616.78\n",
       "2021-10-01   708690.24"
      ]
     },
     "execution_count": 10,
     "metadata": {},
     "output_type": "execute_result"
    }
   ],
   "source": [
    "#построим сводную таблицу общей выручки по месяцам\n",
    "\n",
    "df_revenue = df.query('status != \"ПРОСРОЧЕНО\"').groupby('payed_month').agg({'sum':\"sum\"}).rename(columns={'sum':'revenue'})\n",
    "df_revenue"
   ]
  },
  {
   "cell_type": "code",
   "execution_count": 11,
   "id": "90b1d0ad",
   "metadata": {},
   "outputs": [
    {
     "data": {
      "image/png": "[encoded data removed]",
      "text/plain": [
       "<Figure size 1080x720 with 1 Axes>"
      ]
     },
     "metadata": {
      "needs_background": "light"
     },
     "output_type": "display_data"
    }
   ],
   "source": [
    "#отобразим в виде графика\n",
    "\n",
    "plt.figure(figsize=(15, 10)) \n",
    "plt.plot(df_revenue.index, df_revenue['revenue'])\n",
    "\n",
    "plt.title('Изменение выручки компании за рассматриваемый период', fontsize= 20)\n",
    "plt.xlabel('Даты наблюдения', fontsize= 15)\n",
    "plt.ylabel('Суммарная выручка', fontsize= 15)\n",
    "plt.xticks(rotation=45) \n",
    "plt.grid (True)\n",
    "plt.show()"
   ]
  },
  {
   "cell_type": "markdown",
   "id": "e44ee58c",
   "metadata": {},
   "source": [
    "**Как видим, суммарная выручка компании показала очень хорошую динамику, начиная с июня, с выходом на плато в июле.  \n",
    "Затем, начиная с августа прослеживается резкий спад выручки**  \n",
    "**Самое первое и очевидное предположение - коммерческая деятельность организации характеризуется выраженной сезонностью, хотя возможны и другие факторы (нужно анализировать дополнительно).**"
   ]
  },
  {
   "cell_type": "code",
   "execution_count": null,
   "id": "09e6d6fb",
   "metadata": {},
   "outputs": [],
   "source": []
  },
  {
   "cell_type": "markdown",
   "id": "28fa5f5b",
   "metadata": {},
   "source": [
    "## Кто из менеджеров привлек для компании больше всего денежных средств в сентябре 2021?"
   ]
  },
  {
   "cell_type": "code",
   "execution_count": 12,
   "id": "6d7b6ed1",
   "metadata": {},
   "outputs": [
    {
     "data": {
      "text/plain": [
       "array(['Май 2021', 'ВНУТРЕННИЙ', 'ОПЛАЧЕНО', 'ПРОСРОЧЕНО', 'Июнь 2021',\n",
       "       'Июль 2021', 'Август 2021', 'В РАБОТЕ', 'Сентябрь 2021',\n",
       "       'Октябрь 2021', 'НА ПОДПИСАНИИ'], dtype=object)"
      ]
     },
     "execution_count": 12,
     "metadata": {},
     "output_type": "execute_result"
    }
   ],
   "source": [
    "#ещё раз посмотрим уникальные значения статусов оплаты\n",
    "\n",
    "df.status.unique()"
   ]
  },
  {
   "cell_type": "markdown",
   "id": "55297ced",
   "metadata": {},
   "source": [
    "**Оплаты со статусом \"ПРОСРОЧЕНО\", очевидно относятся к просроченной дебиторской задолженности - их из рассмотрения необходимо исключить.**"
   ]
  },
  {
   "cell_type": "code",
   "execution_count": 13,
   "id": "35ef9307",
   "metadata": {},
   "outputs": [
    {
     "data": {
      "text/html": [
       "<div>\n",
       "<style scoped>\n",
       "    .dataframe tbody tr th:only-of-type {\n",
       "        vertical-align: middle;\n",
       "    }\n",
       "\n",
       "    .dataframe tbody tr th {\n",
       "        vertical-align: top;\n",
       "    }\n",
       "\n",
       "    .dataframe thead th {\n",
       "        text-align: right;\n",
       "    }\n",
       "</style>\n",
       "<table border=\"1\" class=\"dataframe\">\n",
       "  <thead>\n",
       "    <tr style=\"text-align: right;\">\n",
       "      <th></th>\n",
       "      <th>sept_revenue</th>\n",
       "    </tr>\n",
       "    <tr>\n",
       "      <th>sale</th>\n",
       "      <th></th>\n",
       "    </tr>\n",
       "  </thead>\n",
       "  <tbody>\n",
       "    <tr>\n",
       "      <th>Смирнов</th>\n",
       "      <td>221525.70</td>\n",
       "    </tr>\n",
       "    <tr>\n",
       "      <th>Андреев</th>\n",
       "      <td>130983.80</td>\n",
       "    </tr>\n",
       "    <tr>\n",
       "      <th>Петрова</th>\n",
       "      <td>119724.86</td>\n",
       "    </tr>\n",
       "    <tr>\n",
       "      <th>Иванов</th>\n",
       "      <td>94770.60</td>\n",
       "    </tr>\n",
       "    <tr>\n",
       "      <th>Кузнецова</th>\n",
       "      <td>72228.40</td>\n",
       "    </tr>\n",
       "    <tr>\n",
       "      <th>Филимонова</th>\n",
       "      <td>59514.47</td>\n",
       "    </tr>\n",
       "    <tr>\n",
       "      <th>Васильев</th>\n",
       "      <td>45416.75</td>\n",
       "    </tr>\n",
       "    <tr>\n",
       "      <th>Соколов</th>\n",
       "      <td>35183.50</td>\n",
       "    </tr>\n",
       "    <tr>\n",
       "      <th>Михайлов</th>\n",
       "      <td>4268.70</td>\n",
       "    </tr>\n",
       "  </tbody>\n",
       "</table>\n",
       "</div>"
      ],
      "text/plain": [
       "            sept_revenue\n",
       "sale                    \n",
       "Смирнов        221525.70\n",
       "Андреев        130983.80\n",
       "Петрова        119724.86\n",
       "Иванов          94770.60\n",
       "Кузнецова       72228.40\n",
       "Филимонова      59514.47\n",
       "Васильев        45416.75\n",
       "Соколов         35183.50\n",
       "Михайлов         4268.70"
      ]
     },
     "execution_count": 13,
     "metadata": {},
     "output_type": "execute_result"
    }
   ],
   "source": [
    "df.query('status != \"ПРОСРОЧЕНО\" and payed_month == \"2021-09-01\"'). \\\n",
    "groupby('sale').agg({'sum':'sum'}).sort_values(by='sum',ascending=False).rename(columns={'sum':'sept_revenue'})"
   ]
  },
  {
   "cell_type": "code",
   "execution_count": 14,
   "id": "9456e2c5",
   "metadata": {},
   "outputs": [
    {
     "data": {
      "text/html": [
       "<div>\n",
       "<style scoped>\n",
       "    .dataframe tbody tr th:only-of-type {\n",
       "        vertical-align: middle;\n",
       "    }\n",
       "\n",
       "    .dataframe tbody tr th {\n",
       "        vertical-align: top;\n",
       "    }\n",
       "\n",
       "    .dataframe thead th {\n",
       "        text-align: right;\n",
       "    }\n",
       "</style>\n",
       "<table border=\"1\" class=\"dataframe\">\n",
       "  <thead>\n",
       "    <tr style=\"text-align: right;\">\n",
       "      <th></th>\n",
       "      <th>sept_revenue</th>\n",
       "    </tr>\n",
       "    <tr>\n",
       "      <th>sale</th>\n",
       "      <th></th>\n",
       "    </tr>\n",
       "  </thead>\n",
       "  <tbody>\n",
       "    <tr>\n",
       "      <th>Смирнов</th>\n",
       "      <td>221525.7</td>\n",
       "    </tr>\n",
       "  </tbody>\n",
       "</table>\n",
       "</div>"
      ],
      "text/plain": [
       "         sept_revenue\n",
       "sale                 \n",
       "Смирнов      221525.7"
      ]
     },
     "execution_count": 14,
     "metadata": {},
     "output_type": "execute_result"
    }
   ],
   "source": [
    "#выведем менеджера - лидера\n",
    "\n",
    "df.query('status != \"ПРОСРОЧЕНО\" and payed_month == \"2021-09-01\"'). \\\n",
    "groupby('sale').agg({'sum':'sum'}).sort_values(by='sum',ascending=False).rename(columns={'sum':'sept_revenue'})[:1]"
   ]
  },
  {
   "cell_type": "markdown",
   "id": "307fedef",
   "metadata": {},
   "source": [
    "**Менеджер-победитель - Смирнов, с суммой 221525,7 условных единиц.**"
   ]
  },
  {
   "cell_type": "code",
   "execution_count": null,
   "id": "69ace188",
   "metadata": {},
   "outputs": [],
   "source": []
  },
  {
   "cell_type": "markdown",
   "id": "0f494387",
   "metadata": {},
   "source": [
    "## Какой тип сделок (новая/текущая) был преобладающим в октябре 2021?"
   ]
  },
  {
   "cell_type": "code",
   "execution_count": 15,
   "id": "f6aec2e1",
   "metadata": {},
   "outputs": [
    {
     "data": {
      "text/html": [
       "<div>\n",
       "<style scoped>\n",
       "    .dataframe tbody tr th:only-of-type {\n",
       "        vertical-align: middle;\n",
       "    }\n",
       "\n",
       "    .dataframe tbody tr th {\n",
       "        vertical-align: top;\n",
       "    }\n",
       "\n",
       "    .dataframe thead th {\n",
       "        text-align: right;\n",
       "    }\n",
       "</style>\n",
       "<table border=\"1\" class=\"dataframe\">\n",
       "  <thead>\n",
       "    <tr style=\"text-align: right;\">\n",
       "      <th></th>\n",
       "      <th>total_cnt</th>\n",
       "    </tr>\n",
       "    <tr>\n",
       "      <th>new/current</th>\n",
       "      <th></th>\n",
       "    </tr>\n",
       "  </thead>\n",
       "  <tbody>\n",
       "    <tr>\n",
       "      <th>текущая</th>\n",
       "      <td>99</td>\n",
       "    </tr>\n",
       "    <tr>\n",
       "      <th>новая</th>\n",
       "      <td>36</td>\n",
       "    </tr>\n",
       "  </tbody>\n",
       "</table>\n",
       "</div>"
      ],
      "text/plain": [
       "             total_cnt\n",
       "new/current           \n",
       "текущая             99\n",
       "новая               36"
      ]
     },
     "execution_count": 15,
     "metadata": {},
     "output_type": "execute_result"
    }
   ],
   "source": [
    "df.query('payed_month == \"2021-10-01\"'). \\\n",
    "groupby('new/current').agg({'sum':'count'}).sort_values(by='sum',ascending=False).rename(columns={'sum':'total_cnt'})"
   ]
  },
  {
   "cell_type": "markdown",
   "id": "02c84ebe",
   "metadata": {},
   "source": [
    "**В октябре текущих сделок (99) было явно больше, чем новых (36).**"
   ]
  },
  {
   "cell_type": "code",
   "execution_count": null,
   "id": "00777f19",
   "metadata": {},
   "outputs": [],
   "source": []
  },
  {
   "cell_type": "markdown",
   "id": "2517d576",
   "metadata": {},
   "source": [
    "## Сколько оригиналов договора по майским сделкам было получено в июне 2021?"
   ]
  },
  {
   "cell_type": "markdown",
   "id": "40e5873e",
   "metadata": {},
   "source": [
    "**Для ответа на этот вопрос, нам потребуется работа с датой получения оригинального договора.  \n",
    "Посмотрим, в каком формате находится поле receiving_date и, при необходимости, приведём его в корректный формат:**"
   ]
  },
  {
   "cell_type": "code",
   "execution_count": 16,
   "id": "bc943898",
   "metadata": {},
   "outputs": [
    {
     "data": {
      "text/plain": [
       "array([nan, '-', datetime.datetime(2021, 7, 26, 0, 0),\n",
       "       datetime.datetime(2021, 6, 8, 0, 0),\n",
       "       datetime.datetime(2021, 7, 7, 0, 0),\n",
       "       datetime.datetime(2021, 7, 15, 0, 0),\n",
       "       datetime.datetime(2021, 10, 13, 0, 0),\n",
       "       datetime.datetime(2021, 6, 23, 0, 0),\n",
       "       datetime.datetime(2021, 6, 16, 0, 0),\n",
       "       datetime.datetime(2021, 6, 21, 0, 0),\n",
       "       datetime.datetime(2021, 7, 9, 0, 0),\n",
       "       datetime.datetime(2021, 6, 4, 0, 0),\n",
       "       datetime.datetime(2021, 6, 15, 0, 0),\n",
       "       datetime.datetime(2021, 7, 27, 0, 0),\n",
       "       datetime.datetime(2021, 9, 23, 0, 0),\n",
       "       datetime.datetime(2021, 10, 8, 0, 0),\n",
       "       datetime.datetime(2021, 6, 22, 0, 0),\n",
       "       datetime.datetime(2021, 7, 19, 0, 0),\n",
       "       datetime.datetime(2021, 6, 3, 0, 0),\n",
       "       datetime.datetime(2021, 7, 13, 0, 0),\n",
       "       datetime.datetime(2021, 6, 9, 0, 0),\n",
       "       datetime.datetime(2021, 6, 17, 0, 0),\n",
       "       datetime.datetime(2021, 7, 28, 0, 0),\n",
       "       datetime.datetime(2021, 5, 18, 0, 0),\n",
       "       datetime.datetime(2021, 7, 16, 0, 0),\n",
       "       datetime.datetime(2021, 6, 7, 0, 0),\n",
       "       datetime.datetime(2021, 6, 18, 0, 0),\n",
       "       datetime.datetime(2021, 7, 12, 0, 0),\n",
       "       datetime.datetime(2021, 6, 10, 0, 0),\n",
       "       datetime.datetime(2021, 6, 11, 0, 0),\n",
       "       datetime.datetime(2021, 6, 28, 0, 0),\n",
       "       datetime.datetime(2021, 6, 29, 0, 0),\n",
       "       datetime.datetime(2021, 7, 23, 0, 0),\n",
       "       datetime.datetime(2021, 7, 21, 0, 0),\n",
       "       datetime.datetime(2021, 7, 1, 0, 0),\n",
       "       datetime.datetime(2021, 7, 5, 0, 0),\n",
       "       datetime.datetime(2021, 7, 6, 0, 0),\n",
       "       datetime.datetime(2021, 8, 26, 0, 0),\n",
       "       datetime.datetime(2021, 6, 2, 0, 0),\n",
       "       datetime.datetime(2021, 6, 1, 0, 0),\n",
       "       datetime.datetime(2021, 7, 14, 0, 0),\n",
       "       datetime.datetime(2021, 5, 31, 0, 0),\n",
       "       datetime.datetime(2021, 8, 9, 0, 0),\n",
       "       datetime.datetime(2021, 9, 9, 0, 0),\n",
       "       datetime.datetime(2021, 9, 17, 0, 0),\n",
       "       datetime.datetime(2021, 7, 22, 0, 0),\n",
       "       datetime.datetime(2021, 7, 30, 0, 0),\n",
       "       datetime.datetime(2021, 9, 27, 0, 0),\n",
       "       datetime.datetime(2021, 10, 12, 0, 0),\n",
       "       datetime.datetime(2021, 8, 13, 0, 0),\n",
       "       datetime.datetime(2021, 7, 8, 0, 0),\n",
       "       datetime.datetime(2021, 9, 6, 0, 0),\n",
       "       datetime.datetime(2021, 8, 18, 0, 0),\n",
       "       datetime.datetime(2021, 8, 5, 0, 0),\n",
       "       datetime.datetime(2021, 8, 24, 0, 0),\n",
       "       datetime.datetime(2021, 9, 1, 0, 0),\n",
       "       datetime.datetime(2021, 8, 6, 0, 0),\n",
       "       datetime.datetime(2021, 7, 2, 0, 0),\n",
       "       datetime.datetime(2021, 8, 20, 0, 0),\n",
       "       datetime.datetime(2021, 8, 30, 0, 0),\n",
       "       datetime.datetime(2021, 8, 27, 0, 0),\n",
       "       datetime.datetime(2021, 7, 20, 0, 0),\n",
       "       datetime.datetime(2021, 8, 16, 0, 0),\n",
       "       datetime.datetime(2021, 8, 10, 0, 0),\n",
       "       datetime.datetime(2021, 8, 3, 0, 0),\n",
       "       datetime.datetime(2021, 9, 3, 0, 0),\n",
       "       datetime.datetime(2021, 9, 8, 0, 0),\n",
       "       datetime.datetime(2021, 8, 12, 0, 0),\n",
       "       datetime.datetime(2021, 8, 19, 0, 0),\n",
       "       datetime.datetime(2021, 8, 4, 0, 0),\n",
       "       datetime.datetime(2021, 9, 7, 0, 0),\n",
       "       datetime.datetime(2021, 9, 28, 0, 0),\n",
       "       datetime.datetime(2021, 9, 30, 0, 0),\n",
       "       datetime.datetime(2021, 8, 23, 0, 0),\n",
       "       datetime.datetime(2021, 9, 16, 0, 0),\n",
       "       datetime.datetime(2021, 8, 11, 0, 0),\n",
       "       datetime.datetime(2021, 8, 31, 0, 0),\n",
       "       datetime.datetime(2021, 10, 4, 0, 0),\n",
       "       datetime.datetime(2021, 10, 6, 0, 0),\n",
       "       datetime.datetime(2021, 9, 21, 0, 0),\n",
       "       datetime.datetime(2021, 10, 14, 0, 0),\n",
       "       datetime.datetime(2021, 9, 22, 0, 0),\n",
       "       datetime.datetime(2021, 11, 1, 0, 0),\n",
       "       datetime.datetime(2021, 9, 10, 0, 0),\n",
       "       datetime.datetime(2021, 9, 15, 0, 0),\n",
       "       datetime.datetime(2021, 10, 19, 0, 0),\n",
       "       datetime.datetime(2021, 10, 11, 0, 0),\n",
       "       datetime.datetime(2021, 9, 13, 0, 0),\n",
       "       datetime.datetime(2021, 9, 24, 0, 0),\n",
       "       datetime.datetime(2021, 9, 20, 0, 0),\n",
       "       datetime.datetime(2021, 10, 22, 0, 0),\n",
       "       datetime.datetime(2021, 9, 14, 0, 0),\n",
       "       datetime.datetime(2021, 10, 20, 0, 0),\n",
       "       datetime.datetime(2021, 9, 2, 0, 0),\n",
       "       datetime.datetime(2021, 10, 21, 0, 0),\n",
       "       datetime.datetime(2021, 10, 1, 0, 0),\n",
       "       datetime.datetime(2021, 10, 28, 0, 0),\n",
       "       datetime.datetime(2021, 10, 15, 0, 0),\n",
       "       datetime.datetime(2021, 10, 7, 0, 0),\n",
       "       datetime.datetime(2021, 10, 5, 0, 0),\n",
       "       datetime.datetime(2021, 11, 2, 0, 0),\n",
       "       datetime.datetime(2021, 10, 25, 0, 0),\n",
       "       datetime.datetime(2021, 10, 27, 0, 0),\n",
       "       datetime.datetime(2021, 10, 26, 0, 0),\n",
       "       datetime.datetime(2021, 10, 29, 0, 0),\n",
       "       datetime.datetime(2021, 11, 8, 0, 0),\n",
       "       datetime.datetime(2021, 11, 11, 0, 0),\n",
       "       datetime.datetime(2021, 11, 12, 0, 0),\n",
       "       datetime.datetime(2021, 11, 9, 0, 0),\n",
       "       datetime.datetime(2021, 11, 3, 0, 0),\n",
       "       datetime.datetime(2021, 11, 15, 0, 0),\n",
       "       datetime.datetime(2021, 11, 10, 0, 0)], dtype=object)"
      ]
     },
     "execution_count": 16,
     "metadata": {},
     "output_type": "execute_result"
    }
   ],
   "source": [
    "#посмотрим список уникальных значений колонки receiving_date\n",
    "\n",
    "df.receiving_date.unique()"
   ]
  },
  {
   "cell_type": "markdown",
   "id": "019cf71c",
   "metadata": {},
   "source": [
    "**Как видим, поле receiving_date содержит значение '-', которое помешает переводу значений в формат даты.  \n",
    "Сделаем копию датасета, чтобы не удалять данные из основного, и исправим это:**"
   ]
  },
  {
   "cell_type": "code",
   "execution_count": 17,
   "id": "713ea10f",
   "metadata": {},
   "outputs": [],
   "source": [
    "#чтобы не удалять данные из датасета, сделаем его копию\n",
    "\n",
    "df1 = df.copy()"
   ]
  },
  {
   "cell_type": "code",
   "execution_count": 18,
   "id": "2421420a",
   "metadata": {},
   "outputs": [],
   "source": [
    "#уберём значение '-'\n",
    "\n",
    "df1 = df.loc[~(df['receiving_date'] == '-')]"
   ]
  },
  {
   "cell_type": "code",
   "execution_count": 19,
   "id": "944ce664",
   "metadata": {},
   "outputs": [
    {
     "name": "stderr",
     "output_type": "stream",
     "text": [
      "C:\\Users\\amon2\\AppData\\Local\\Temp\\ipykernel_7900\\931738703.py:3: SettingWithCopyWarning: \n",
      "A value is trying to be set on a copy of a slice from a DataFrame.\n",
      "Try using .loc[row_indexer,col_indexer] = value instead\n",
      "\n",
      "See the caveats in the documentation: https://pandas.pydata.org/pandas-docs/stable/user_guide/indexing.html#returning-a-view-versus-a-copy\n",
      "  df1['receiving_date'] = pd.to_datetime(df1['receiving_date'])\n"
     ]
    }
   ],
   "source": [
    "#приведём нужную колонку к формату даты\n",
    "\n",
    "df1['receiving_date'] = pd.to_datetime(df1['receiving_date'])"
   ]
  },
  {
   "cell_type": "code",
   "execution_count": 20,
   "id": "13ef41eb",
   "metadata": {},
   "outputs": [
    {
     "data": {
      "text/plain": [
       "client_id                float64\n",
       "sum                      float64\n",
       "status                    object\n",
       "sale                      object\n",
       "new/current               object\n",
       "Unnamed: 5               float64\n",
       "document                  object\n",
       "receiving_date    datetime64[ns]\n",
       "payed_month               object\n",
       "dtype: object"
      ]
     },
     "execution_count": 20,
     "metadata": {},
     "output_type": "execute_result"
    }
   ],
   "source": [
    "df1.dtypes"
   ]
  },
  {
   "cell_type": "markdown",
   "id": "82279166",
   "metadata": {},
   "source": [
    "**Даты приведены к корректному формату, теперь с ними можно работать.**"
   ]
  },
  {
   "cell_type": "code",
   "execution_count": 21,
   "id": "4b9d0443",
   "metadata": {},
   "outputs": [
    {
     "data": {
      "text/html": [
       "<div>\n",
       "<style scoped>\n",
       "    .dataframe tbody tr th:only-of-type {\n",
       "        vertical-align: middle;\n",
       "    }\n",
       "\n",
       "    .dataframe tbody tr th {\n",
       "        vertical-align: top;\n",
       "    }\n",
       "\n",
       "    .dataframe thead th {\n",
       "        text-align: right;\n",
       "    }\n",
       "</style>\n",
       "<table border=\"1\" class=\"dataframe\">\n",
       "  <thead>\n",
       "    <tr style=\"text-align: right;\">\n",
       "      <th></th>\n",
       "      <th>client_id</th>\n",
       "      <th>sum</th>\n",
       "      <th>status</th>\n",
       "      <th>sale</th>\n",
       "      <th>new/current</th>\n",
       "      <th>Unnamed: 5</th>\n",
       "      <th>document</th>\n",
       "      <th>receiving_date</th>\n",
       "      <th>payed_month</th>\n",
       "    </tr>\n",
       "  </thead>\n",
       "  <tbody>\n",
       "    <tr>\n",
       "      <th>9</th>\n",
       "      <td>24.0</td>\n",
       "      <td>16347.70</td>\n",
       "      <td>ОПЛАЧЕНО</td>\n",
       "      <td>Андреев</td>\n",
       "      <td>новая</td>\n",
       "      <td>NaN</td>\n",
       "      <td>оригинал</td>\n",
       "      <td>2021-06-23</td>\n",
       "      <td>2021-05-01</td>\n",
       "    </tr>\n",
       "    <tr>\n",
       "      <th>47</th>\n",
       "      <td>87.0</td>\n",
       "      <td>9948.70</td>\n",
       "      <td>ОПЛАЧЕНО</td>\n",
       "      <td>Смирнов</td>\n",
       "      <td>новая</td>\n",
       "      <td>NaN</td>\n",
       "      <td>NaN</td>\n",
       "      <td>2021-06-17</td>\n",
       "      <td>2021-05-01</td>\n",
       "    </tr>\n",
       "    <tr>\n",
       "      <th>56</th>\n",
       "      <td>100.0</td>\n",
       "      <td>503.70</td>\n",
       "      <td>ОПЛАЧЕНО</td>\n",
       "      <td>Васильев</td>\n",
       "      <td>новая</td>\n",
       "      <td>NaN</td>\n",
       "      <td>оригинал</td>\n",
       "      <td>2021-06-21</td>\n",
       "      <td>2021-05-01</td>\n",
       "    </tr>\n",
       "    <tr>\n",
       "      <th>58</th>\n",
       "      <td>108.0</td>\n",
       "      <td>6059.03</td>\n",
       "      <td>ОПЛАЧЕНО</td>\n",
       "      <td>Кузнецова</td>\n",
       "      <td>новая</td>\n",
       "      <td>NaN</td>\n",
       "      <td>оригинал</td>\n",
       "      <td>2021-06-04</td>\n",
       "      <td>2021-05-01</td>\n",
       "    </tr>\n",
       "    <tr>\n",
       "      <th>89</th>\n",
       "      <td>189.0</td>\n",
       "      <td>11003.70</td>\n",
       "      <td>ОПЛАЧЕНО</td>\n",
       "      <td>Петрова</td>\n",
       "      <td>новая</td>\n",
       "      <td>NaN</td>\n",
       "      <td>оригинал</td>\n",
       "      <td>2021-06-23</td>\n",
       "      <td>2021-05-01</td>\n",
       "    </tr>\n",
       "  </tbody>\n",
       "</table>\n",
       "</div>"
      ],
      "text/plain": [
       "    client_id       sum    status       sale new/current  Unnamed: 5  \\\n",
       "9        24.0  16347.70  ОПЛАЧЕНО    Андреев       новая         NaN   \n",
       "47       87.0   9948.70  ОПЛАЧЕНО    Смирнов       новая         NaN   \n",
       "56      100.0    503.70  ОПЛАЧЕНО   Васильев       новая         NaN   \n",
       "58      108.0   6059.03  ОПЛАЧЕНО  Кузнецова       новая         NaN   \n",
       "89      189.0  11003.70  ОПЛАЧЕНО    Петрова       новая         NaN   \n",
       "\n",
       "    document receiving_date payed_month  \n",
       "9   оригинал     2021-06-23  2021-05-01  \n",
       "47       NaN     2021-06-17  2021-05-01  \n",
       "56  оригинал     2021-06-21  2021-05-01  \n",
       "58  оригинал     2021-06-04  2021-05-01  \n",
       "89  оригинал     2021-06-23  2021-05-01  "
      ]
     },
     "execution_count": 21,
     "metadata": {},
     "output_type": "execute_result"
    }
   ],
   "source": [
    "#сделаем срез данных для новых майских сделок, наличие оригинала для которых датировано июнем\n",
    "\n",
    "df1.loc[(df1['receiving_date'] >= '2021-06-01') & (df1['receiving_date'] <= '2021-06-30') \\\n",
    "       & (df1['new/current'] == 'новая') & (df1['payed_month'] == '2021-05-01')]"
   ]
  },
  {
   "cell_type": "markdown",
   "id": "08e54865",
   "metadata": {},
   "source": [
    "**В полученном срезе данных видим сделку (для клиента под номером 87), у которой не проставлено ничего в графе document, но при этом стоит дата поступления оригинала.  \n",
    "Вероятнее всего, забыли проставить значение в графу document.**"
   ]
  },
  {
   "cell_type": "code",
   "execution_count": null,
   "id": "8cc071dc",
   "metadata": {},
   "outputs": [],
   "source": []
  },
  {
   "cell_type": "code",
   "execution_count": null,
   "id": "6e8b8dd1",
   "metadata": {},
   "outputs": [],
   "source": []
  },
  {
   "cell_type": "markdown",
   "id": "dec3d901",
   "metadata": {},
   "source": [
    "## Вычислите остаток каждого из менеджеров на 01.07.2021"
   ]
  },
  {
   "cell_type": "code",
   "execution_count": 22,
   "id": "374ac288",
   "metadata": {},
   "outputs": [],
   "source": [
    "#для расчётов возьмём ту часть сделок, по которым уже есть оригиналы\n",
    "\n",
    "df2 = df1.loc[~df['receiving_date'].isna()]"
   ]
  },
  {
   "cell_type": "code",
   "execution_count": 23,
   "id": "5ced31b5",
   "metadata": {},
   "outputs": [],
   "source": [
    "#напишем функция для строки, которая будем считать бонус для каждого менеджера по каждой сделке\n",
    "\n",
    "def bonus(row):\n",
    "    if row['new/current'] == \"новая\" and row['status'] == \"ОПЛАЧЕНО\":\n",
    "        return row['sum']*0.07\n",
    "    elif row['new/current'] == \"текущая\" and row['status'] != \"ПРОСРОЧЕНО\" and row['sum'] > 10000:\n",
    "        return row['sum']*0.05\n",
    "    elif row['new/current'] == \"текущая\" and row['status'] != \"ПРОСРОЧЕНО\" and row['sum'] < 10000:\n",
    "        return row['sum']*0.03"
   ]
  },
  {
   "cell_type": "code",
   "execution_count": 24,
   "id": "a470e23f",
   "metadata": {},
   "outputs": [
    {
     "name": "stderr",
     "output_type": "stream",
     "text": [
      "C:\\Users\\amon2\\AppData\\Local\\Temp\\ipykernel_7900\\3068579008.py:3: SettingWithCopyWarning: \n",
      "A value is trying to be set on a copy of a slice from a DataFrame.\n",
      "Try using .loc[row_indexer,col_indexer] = value instead\n",
      "\n",
      "See the caveats in the documentation: https://pandas.pydata.org/pandas-docs/stable/user_guide/indexing.html#returning-a-view-versus-a-copy\n",
      "  df2['bonus'] = df2.apply(bonus, axis=1)\n"
     ]
    }
   ],
   "source": [
    "#рассчитаем бонусы для каждого менеджера по каждой сделке\n",
    "\n",
    "df2['bonus'] = df2.apply(bonus, axis=1)"
   ]
  },
  {
   "cell_type": "code",
   "execution_count": 25,
   "id": "d23e40a4",
   "metadata": {},
   "outputs": [
    {
     "name": "stderr",
     "output_type": "stream",
     "text": [
      "C:\\Users\\amon2\\AppData\\Local\\Temp\\ipykernel_7900\\1223008226.py:3: SettingWithCopyWarning: \n",
      "A value is trying to be set on a copy of a slice from a DataFrame.\n",
      "Try using .loc[row_indexer,col_indexer] = value instead\n",
      "\n",
      "See the caveats in the documentation: https://pandas.pydata.org/pandas-docs/stable/user_guide/indexing.html#returning-a-view-versus-a-copy\n",
      "  df2['payed_month'] = pd.to_datetime(df2['payed_month'])\n"
     ]
    }
   ],
   "source": [
    "#переведём поле payed_month в формат даты, для последующего сравнения дат\n",
    "\n",
    "df2['payed_month'] = pd.to_datetime(df2['payed_month'])"
   ]
  },
  {
   "cell_type": "code",
   "execution_count": 26,
   "id": "a8c73040",
   "metadata": {},
   "outputs": [
    {
     "data": {
      "text/html": [
       "<div>\n",
       "<style scoped>\n",
       "    .dataframe tbody tr th:only-of-type {\n",
       "        vertical-align: middle;\n",
       "    }\n",
       "\n",
       "    .dataframe tbody tr th {\n",
       "        vertical-align: top;\n",
       "    }\n",
       "\n",
       "    .dataframe thead th {\n",
       "        text-align: right;\n",
       "    }\n",
       "</style>\n",
       "<table border=\"1\" class=\"dataframe\">\n",
       "  <thead>\n",
       "    <tr style=\"text-align: right;\">\n",
       "      <th></th>\n",
       "      <th>bonus</th>\n",
       "    </tr>\n",
       "    <tr>\n",
       "      <th>sale</th>\n",
       "      <th></th>\n",
       "    </tr>\n",
       "  </thead>\n",
       "  <tbody>\n",
       "    <tr>\n",
       "      <th>Петрова</th>\n",
       "      <td>17799.5494</td>\n",
       "    </tr>\n",
       "    <tr>\n",
       "      <th>Смирнов</th>\n",
       "      <td>12176.9550</td>\n",
       "    </tr>\n",
       "    <tr>\n",
       "      <th>Андреев</th>\n",
       "      <td>8752.9944</td>\n",
       "    </tr>\n",
       "    <tr>\n",
       "      <th>Иванов</th>\n",
       "      <td>8495.2910</td>\n",
       "    </tr>\n",
       "    <tr>\n",
       "      <th>Кузнецова</th>\n",
       "      <td>7101.6217</td>\n",
       "    </tr>\n",
       "    <tr>\n",
       "      <th>Селиванов</th>\n",
       "      <td>5651.0120</td>\n",
       "    </tr>\n",
       "    <tr>\n",
       "      <th>Филимонова</th>\n",
       "      <td>2727.6409</td>\n",
       "    </tr>\n",
       "    <tr>\n",
       "      <th>Васильев</th>\n",
       "      <td>1376.2800</td>\n",
       "    </tr>\n",
       "    <tr>\n",
       "      <th>Соколов</th>\n",
       "      <td>269.2110</td>\n",
       "    </tr>\n",
       "  </tbody>\n",
       "</table>\n",
       "</div>"
      ],
      "text/plain": [
       "                 bonus\n",
       "sale                  \n",
       "Петрова     17799.5494\n",
       "Смирнов     12176.9550\n",
       "Андреев      8752.9944\n",
       "Иванов       8495.2910\n",
       "Кузнецова    7101.6217\n",
       "Селиванов    5651.0120\n",
       "Филимонова   2727.6409\n",
       "Васильев     1376.2800\n",
       "Соколов       269.2110"
      ]
     },
     "execution_count": 26,
     "metadata": {},
     "output_type": "execute_result"
    }
   ],
   "source": [
    "#вычислим остаток каждого менеджера по состоянию на 01.07.2021г.\n",
    "\n",
    "df2_bonus = df2.query('payed_month < \"2021-07-01\"').groupby('sale').agg({'bonus':'sum'}).sort_values(by='bonus', ascending=False)\n",
    "df2_bonus"
   ]
  },
  {
   "cell_type": "code",
   "execution_count": 27,
   "id": "f9b98283",
   "metadata": {},
   "outputs": [
    {
     "data": {
      "image/png": "[encoded data removed]",
      "text/plain": [
       "<Figure size 1080x576 with 1 Axes>"
      ]
     },
     "metadata": {},
     "output_type": "display_data"
    }
   ],
   "source": [
    "#отобразим в виде столбчатой диаграммы ту же информацию\n",
    "\n",
    "sns.set_style('darkgrid')\n",
    "plt.figure(figsize=(15, 8))\n",
    "sns.barplot(x=df2_bonus.index, y=df2_bonus['bonus'], data=df2_bonus)\n",
    "\n",
    "plt.title('Суммы бонусов менеджеров на 01.07.2021г.', fontsize=20)\n",
    "plt.xlabel('Менеджер', fontsize=15)\n",
    "plt.ylabel('Сумма бонуса', fontsize=15)\n",
    "\n",
    "plt.xticks(rotation=45, fontsize=12)\n",
    "plt.grid()\n",
    "\n",
    "plt.show()"
   ]
  },
  {
   "cell_type": "markdown",
   "id": "eba18847",
   "metadata": {},
   "source": [
    "**Таким образом, мы получили остаток по менеджерам (если под остатком мы понимаем сумму бонусов, накопленную до рассматриваемой даты, с начала наблюдаемого периода).  \n",
    "Явным лидером, с большим отрывом, здесь выступают менеджеры Петрова и Смирнов.  \n",
    "В числе явных аутсайдеров - Соколова, Васильева и Филимонова.**"
   ]
  },
  {
   "cell_type": "code",
   "execution_count": null,
   "id": "1ae97792",
   "metadata": {},
   "outputs": [],
   "source": []
  },
  {
   "cell_type": "code",
   "execution_count": null,
   "id": "6d725a11",
   "metadata": {},
   "outputs": [],
   "source": []
  }
 ],
 "metadata": {
  "kernelspec": {
   "display_name": "Python 3 (ipykernel)",
   "language": "python",
   "name": "python3"
  },
  "language_info": {
   "codemirror_mode": {
    "name": "ipython",
    "version": 3
   },
   "file_extension": ".py",
   "mimetype": "text/x-python",
   "name": "python",
   "nbconvert_exporter": "python",
   "pygments_lexer": "ipython3",
   "version": "3.9.12"
  },
  "toc": {
   "base_numbering": 1,
   "nav_menu": {},
   "number_sections": true,
   "sideBar": true,
   "skip_h1_title": true,
   "title_cell": "Table of Contents",
   "title_sidebar": "Contents",
   "toc_cell": true,
   "toc_position": {
    "height": "calc(100% - 180px)",
    "left": "10px",
    "top": "150px",
    "width": "384px"
   },
   "toc_section_display": true,
   "toc_window_display": false
  }
 },
 "nbformat": 4,
 "nbformat_minor": 5
}
