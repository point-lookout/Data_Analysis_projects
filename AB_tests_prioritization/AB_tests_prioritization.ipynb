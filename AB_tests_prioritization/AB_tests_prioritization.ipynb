{
 "cells": [
  {
   "cell_type": "markdown",
   "metadata": {},
   "source": [
    "<div class=\"alert alert-info\"> \n",
    "    \n",
    "\n",
    "<font size=\"5\"><b>ПОДГОТОВКА К ПРОВЕДЕНИЮ И АНАЛИЗ РЕЗУЛЬТАТОВ А/В ТЕСТА</b></font>"
   ]
  },
  {
   "cell_type": "markdown",
   "metadata": {},
   "source": [
    "<div style=\"border:solid green 2px; paddind: 20px\">\n",
    "    \n",
    "\n",
    "    \n",
    ">**Целями настоящего исследования являются приоритизация гипотез для увеличения выручки интернет-магазина, а также последующий запуск А/В теста и анализ его результатов.**\n",
    "\n",
    ">**Перед нами стоят четыре основные задачи (они же выступают в качестве этапов работы):**\n",
    "\n",
    ">**1) знакомство с данными, проверка их полноты, корректности, в целях дальнейшей обработки;**  \n",
    ">**2) приоритизация гипотез, с целью понимания того, какие из них нуждаются в первоочередной проверке. При этом необходимо учитывать как важность самой гипотезы (её потенциальное влияние на ключевую метрику - выручку), так и наличие необходимых ресурсов для её реализации (достижение разумного паритета между важностью и \"стоимостью\" проверки);**  \n",
    ">**3) анализ результатов, выводы, их графическая визуализация и проверка статистической значимости.**  \n",
    ">**4) формулирование общего вывода, формирование рекомендаций по итогам проведения А/В теста**"
   ]
  },
  {
   "cell_type": "markdown",
   "metadata": {
    "toc": true
   },
   "source": [
    "<h1>Table of Contents<span class=\"tocSkip\"></span></h1>\n",
    "<div class=\"toc\"><ul class=\"toc-item\"><li><span><a href=\"#Знакомство-с-данными.\" data-toc-modified-id=\"Знакомство-с-данными.-1\"><span class=\"toc-item-num\">1&nbsp;&nbsp;</span>Знакомство с данными.</a></span></li><li><span><a href=\"#Приоритизация-гипотез.\" data-toc-modified-id=\"Приоритизация-гипотез.-2\"><span class=\"toc-item-num\">2&nbsp;&nbsp;</span>Приоритизация гипотез.</a></span><ul class=\"toc-item\"><li><span><a href=\"#Используем-фреймворки-ICE-и-RICE-для-приоритизации-гипотез.\" data-toc-modified-id=\"Используем-фреймворки-ICE-и-RICE-для-приоритизации-гипотез.-2.1\"><span class=\"toc-item-num\">2.1&nbsp;&nbsp;</span>Используем фреймворки ICE и RICE для приоритизации гипотез.</a></span></li></ul></li><li><span><a href=\"#Анализ-A/B-теста.\" data-toc-modified-id=\"Анализ-A/B-теста.-3\"><span class=\"toc-item-num\">3&nbsp;&nbsp;</span>Анализ A/B-теста.</a></span><ul class=\"toc-item\"><li><span><a href=\"#Построим-график-кумулятивной-выручки-по-группам.\" data-toc-modified-id=\"Построим-график-кумулятивной-выручки-по-группам.-3.1\"><span class=\"toc-item-num\">3.1&nbsp;&nbsp;</span>Построим график кумулятивной выручки по группам.</a></span></li><li><span><a href=\"#Построим-график-кумулятивного-среднего-чека-по-группам.\" data-toc-modified-id=\"Построим-график-кумулятивного-среднего-чека-по-группам.-3.2\"><span class=\"toc-item-num\">3.2&nbsp;&nbsp;</span>Построим график кумулятивного среднего чека по группам.</a></span></li><li><span><a href=\"#Построим-график-относительного-изменения-кумулятивного-среднего-чека-группы-B-к-группе-A.\" data-toc-modified-id=\"Построим-график-относительного-изменения-кумулятивного-среднего-чека-группы-B-к-группе-A.-3.3\"><span class=\"toc-item-num\">3.3&nbsp;&nbsp;</span>Построим график относительного изменения кумулятивного среднего чека группы B к группе A.</a></span></li><li><span><a href=\"#Построим-график-кумулятивного-среднего-количества-заказов-на-посетителя-по-группам.\" data-toc-modified-id=\"Построим-график-кумулятивного-среднего-количества-заказов-на-посетителя-по-группам.-3.4\"><span class=\"toc-item-num\">3.4&nbsp;&nbsp;</span>Построим график кумулятивного среднего количества заказов на посетителя по группам.</a></span></li><li><span><a href=\"#Построим-график-относительного-изменения-кумулятивного-среднего-количества-заказов-на-посетителя-группы-B-к-группе-A.\" data-toc-modified-id=\"Построим-график-относительного-изменения-кумулятивного-среднего-количества-заказов-на-посетителя-группы-B-к-группе-A.-3.5\"><span class=\"toc-item-num\">3.5&nbsp;&nbsp;</span>Построим график относительного изменения кумулятивного среднего количества заказов на посетителя группы B к группе A.</a></span></li><li><span><a href=\"#Построим-точечный-график-количества-заказов-по-пользователям.\" data-toc-modified-id=\"Построим-точечный-график-количества-заказов-по-пользователям.-3.6\"><span class=\"toc-item-num\">3.6&nbsp;&nbsp;</span>Построим точечный график количества заказов по пользователям.</a></span></li><li><span><a href=\"#Посчитаем-95-й-и-99-й-перцентили-количества-заказов-на-пользователя.\" data-toc-modified-id=\"Посчитаем-95-й-и-99-й-перцентили-количества-заказов-на-пользователя.-3.7\"><span class=\"toc-item-num\">3.7&nbsp;&nbsp;</span>Посчитаем 95-й и 99-й перцентили количества заказов на пользователя.</a></span></li><li><span><a href=\"#Построим-точечный-график-стоимостей-заказов.\" data-toc-modified-id=\"Построим-точечный-график-стоимостей-заказов.-3.8\"><span class=\"toc-item-num\">3.8&nbsp;&nbsp;</span>Построим точечный график стоимостей заказов.</a></span></li><li><span><a href=\"#Посчитаем-95-й-и-99-й-перцентили-стоимости-заказов.\" data-toc-modified-id=\"Посчитаем-95-й-и-99-й-перцентили-стоимости-заказов.-3.9\"><span class=\"toc-item-num\">3.9&nbsp;&nbsp;</span>Посчитаем 95-й и 99-й перцентили стоимости заказов.</a></span></li><li><span><a href=\"#Посчитаем-статистическую-значимость-различий-в-среднем-количестве-заказов-на-посетителя-между-группами-по-«сырым»-данным.\" data-toc-modified-id=\"Посчитаем-статистическую-значимость-различий-в-среднем-количестве-заказов-на-посетителя-между-группами-по-«сырым»-данным.-3.10\"><span class=\"toc-item-num\">3.10&nbsp;&nbsp;</span>Посчитаем статистическую значимость различий в среднем количестве заказов на посетителя между группами по «сырым» данным.</a></span></li><li><span><a href=\"#Посчитаем-статистическую-значимость-различий-в-среднем-чеке-заказа-между-группами-по-«сырым»-данным.\" data-toc-modified-id=\"Посчитаем-статистическую-значимость-различий-в-среднем-чеке-заказа-между-группами-по-«сырым»-данным.-3.11\"><span class=\"toc-item-num\">3.11&nbsp;&nbsp;</span>Посчитаем статистическую значимость различий в среднем чеке заказа между группами по «сырым» данным.</a></span></li><li><span><a href=\"#Посчитаем-статистическую-значимость-различий-в-среднем-количестве-заказов-на-посетителя-между-группами-по-«очищенным»-данным.\" data-toc-modified-id=\"Посчитаем-статистическую-значимость-различий-в-среднем-количестве-заказов-на-посетителя-между-группами-по-«очищенным»-данным.-3.12\"><span class=\"toc-item-num\">3.12&nbsp;&nbsp;</span>Посчитаем статистическую значимость различий в среднем количестве заказов на посетителя между группами по «очищенным» данным.</a></span></li><li><span><a href=\"#Посчитаем-статистическую-значимость-различий-в-среднем-чеке-заказа-между-группами-по-«очищенным»-данным.\" data-toc-modified-id=\"Посчитаем-статистическую-значимость-различий-в-среднем-чеке-заказа-между-группами-по-«очищенным»-данным.-3.13\"><span class=\"toc-item-num\">3.13&nbsp;&nbsp;</span>Посчитаем статистическую значимость различий в среднем чеке заказа между группами по «очищенным» данным.</a></span></li></ul></li><li><span><a href=\"#Общие-выводы-и-рекомендации.\" data-toc-modified-id=\"Общие-выводы-и-рекомендации.-4\"><span class=\"toc-item-num\">4&nbsp;&nbsp;</span>Общие выводы и рекомендации.</a></span></li></ul></div>"
   ]
  },
  {
   "cell_type": "markdown",
   "metadata": {},
   "source": [
    "<div class=\"alert alert-info\">\n",
    "<a id='an_dan'></a>\n",
    "    \n",
    "## Знакомство с данными.\n"
   ]
  },
  {
   "cell_type": "code",
   "execution_count": 1,
   "metadata": {},
   "outputs": [],
   "source": [
    "#импортируем нужные библиотеки\n",
    "\n",
    "import pandas as pd\n",
    "import scipy.stats as stats\n",
    "import datetime as dt\n",
    "import numpy as np\n",
    "import matplotlib.pyplot as plt\n",
    "from matplotlib.figure import Figure"
   ]
  },
  {
   "cell_type": "code",
   "execution_count": 2,
   "metadata": {},
   "outputs": [],
   "source": [
    "#загружаем данные\n",
    "\n",
    "hypothesis, orders, visitors = (\n",
    "        pd.read_csv (r'D:\\Datasets_for_Git\\hypothesis.csv'),\n",
    "        pd.read_csv (r'D:\\Datasets_for_Git\\orders.csv'),\n",
    "        pd.read_csv (r'D:\\Datasets_for_Git\\visitors.csv'))"
   ]
  },
  {
   "cell_type": "markdown",
   "metadata": {},
   "source": [
    "**Ознакомимся с полученными датасетами:**"
   ]
  },
  {
   "cell_type": "code",
   "execution_count": 3,
   "metadata": {
    "scrolled": true
   },
   "outputs": [
    {
     "data": {
      "text/html": [
       "<div>\n",
       "<style scoped>\n",
       "    .dataframe tbody tr th:only-of-type {\n",
       "        vertical-align: middle;\n",
       "    }\n",
       "\n",
       "    .dataframe tbody tr th {\n",
       "        vertical-align: top;\n",
       "    }\n",
       "\n",
       "    .dataframe thead th {\n",
       "        text-align: right;\n",
       "    }\n",
       "</style>\n",
       "<table border=\"1\" class=\"dataframe\">\n",
       "  <thead>\n",
       "    <tr style=\"text-align: right;\">\n",
       "      <th></th>\n",
       "      <th>Hypothesis</th>\n",
       "      <th>Reach</th>\n",
       "      <th>Impact</th>\n",
       "      <th>Confidence</th>\n",
       "      <th>Efforts</th>\n",
       "    </tr>\n",
       "  </thead>\n",
       "  <tbody>\n",
       "    <tr>\n",
       "      <th>0</th>\n",
       "      <td>Добавить два новых канала привлечения трафика,...</td>\n",
       "      <td>3</td>\n",
       "      <td>10</td>\n",
       "      <td>8</td>\n",
       "      <td>6</td>\n",
       "    </tr>\n",
       "    <tr>\n",
       "      <th>1</th>\n",
       "      <td>Запустить собственную службу доставки, что сок...</td>\n",
       "      <td>2</td>\n",
       "      <td>5</td>\n",
       "      <td>4</td>\n",
       "      <td>10</td>\n",
       "    </tr>\n",
       "    <tr>\n",
       "      <th>2</th>\n",
       "      <td>Добавить блоки рекомендаций товаров на сайт ин...</td>\n",
       "      <td>8</td>\n",
       "      <td>3</td>\n",
       "      <td>7</td>\n",
       "      <td>3</td>\n",
       "    </tr>\n",
       "    <tr>\n",
       "      <th>3</th>\n",
       "      <td>Изменить структура категорий, что увеличит кон...</td>\n",
       "      <td>8</td>\n",
       "      <td>3</td>\n",
       "      <td>3</td>\n",
       "      <td>8</td>\n",
       "    </tr>\n",
       "    <tr>\n",
       "      <th>4</th>\n",
       "      <td>Изменить цвет фона главной страницы, чтобы уве...</td>\n",
       "      <td>3</td>\n",
       "      <td>1</td>\n",
       "      <td>1</td>\n",
       "      <td>1</td>\n",
       "    </tr>\n",
       "    <tr>\n",
       "      <th>5</th>\n",
       "      <td>Добавить страницу отзывов клиентов о магазине,...</td>\n",
       "      <td>3</td>\n",
       "      <td>2</td>\n",
       "      <td>2</td>\n",
       "      <td>3</td>\n",
       "    </tr>\n",
       "    <tr>\n",
       "      <th>6</th>\n",
       "      <td>Показать на главной странице баннеры с актуаль...</td>\n",
       "      <td>5</td>\n",
       "      <td>3</td>\n",
       "      <td>8</td>\n",
       "      <td>3</td>\n",
       "    </tr>\n",
       "    <tr>\n",
       "      <th>7</th>\n",
       "      <td>Добавить форму подписки на все основные страни...</td>\n",
       "      <td>10</td>\n",
       "      <td>7</td>\n",
       "      <td>8</td>\n",
       "      <td>5</td>\n",
       "    </tr>\n",
       "    <tr>\n",
       "      <th>8</th>\n",
       "      <td>Запустить акцию, дающую скидку на товар в день...</td>\n",
       "      <td>1</td>\n",
       "      <td>9</td>\n",
       "      <td>9</td>\n",
       "      <td>5</td>\n",
       "    </tr>\n",
       "  </tbody>\n",
       "</table>\n",
       "</div>"
      ],
      "text/plain": [
       "                                          Hypothesis  Reach  Impact  \\\n",
       "0  Добавить два новых канала привлечения трафика,...      3      10   \n",
       "1  Запустить собственную службу доставки, что сок...      2       5   \n",
       "2  Добавить блоки рекомендаций товаров на сайт ин...      8       3   \n",
       "3  Изменить структура категорий, что увеличит кон...      8       3   \n",
       "4  Изменить цвет фона главной страницы, чтобы уве...      3       1   \n",
       "5  Добавить страницу отзывов клиентов о магазине,...      3       2   \n",
       "6  Показать на главной странице баннеры с актуаль...      5       3   \n",
       "7  Добавить форму подписки на все основные страни...     10       7   \n",
       "8  Запустить акцию, дающую скидку на товар в день...      1       9   \n",
       "\n",
       "   Confidence  Efforts  \n",
       "0           8        6  \n",
       "1           4       10  \n",
       "2           7        3  \n",
       "3           3        8  \n",
       "4           1        1  \n",
       "5           2        3  \n",
       "6           8        3  \n",
       "7           8        5  \n",
       "8           9        5  "
      ]
     },
     "execution_count": 3,
     "metadata": {},
     "output_type": "execute_result"
    }
   ],
   "source": [
    "#для начала озанкомимся с hypothesis\n",
    "\n",
    "hypothesis"
   ]
  },
  {
   "cell_type": "code",
   "execution_count": 4,
   "metadata": {
    "scrolled": true
   },
   "outputs": [
    {
     "data": {
      "text/plain": [
       "Hypothesis    object\n",
       "Reach          int64\n",
       "Impact         int64\n",
       "Confidence     int64\n",
       "Efforts        int64\n",
       "dtype: object"
      ]
     },
     "execution_count": 4,
     "metadata": {},
     "output_type": "execute_result"
    }
   ],
   "source": [
    "hypothesis.dtypes"
   ]
  },
  {
   "cell_type": "code",
   "execution_count": 5,
   "metadata": {
    "scrolled": true
   },
   "outputs": [
    {
     "data": {
      "text/plain": [
       "(9, 5)"
      ]
     },
     "execution_count": 5,
     "metadata": {},
     "output_type": "execute_result"
    }
   ],
   "source": [
    "hypothesis.shape"
   ]
  },
  {
   "cell_type": "markdown",
   "metadata": {},
   "source": [
    "**Датасет hypothesis выглядит корректно.  \n",
    "Перейдём к orders:**"
   ]
  },
  {
   "cell_type": "code",
   "execution_count": 6,
   "metadata": {
    "scrolled": true
   },
   "outputs": [
    {
     "data": {
      "text/html": [
       "<div>\n",
       "<style scoped>\n",
       "    .dataframe tbody tr th:only-of-type {\n",
       "        vertical-align: middle;\n",
       "    }\n",
       "\n",
       "    .dataframe tbody tr th {\n",
       "        vertical-align: top;\n",
       "    }\n",
       "\n",
       "    .dataframe thead th {\n",
       "        text-align: right;\n",
       "    }\n",
       "</style>\n",
       "<table border=\"1\" class=\"dataframe\">\n",
       "  <thead>\n",
       "    <tr style=\"text-align: right;\">\n",
       "      <th></th>\n",
       "      <th>transactionId</th>\n",
       "      <th>visitorId</th>\n",
       "      <th>date</th>\n",
       "      <th>revenue</th>\n",
       "      <th>group</th>\n",
       "    </tr>\n",
       "  </thead>\n",
       "  <tbody>\n",
       "    <tr>\n",
       "      <th>0</th>\n",
       "      <td>3667963787</td>\n",
       "      <td>3312258926</td>\n",
       "      <td>2019-08-15</td>\n",
       "      <td>1650</td>\n",
       "      <td>B</td>\n",
       "    </tr>\n",
       "    <tr>\n",
       "      <th>1</th>\n",
       "      <td>2804400009</td>\n",
       "      <td>3642806036</td>\n",
       "      <td>2019-08-15</td>\n",
       "      <td>730</td>\n",
       "      <td>B</td>\n",
       "    </tr>\n",
       "    <tr>\n",
       "      <th>2</th>\n",
       "      <td>2961555356</td>\n",
       "      <td>4069496402</td>\n",
       "      <td>2019-08-15</td>\n",
       "      <td>400</td>\n",
       "      <td>A</td>\n",
       "    </tr>\n",
       "    <tr>\n",
       "      <th>3</th>\n",
       "      <td>3797467345</td>\n",
       "      <td>1196621759</td>\n",
       "      <td>2019-08-15</td>\n",
       "      <td>9759</td>\n",
       "      <td>B</td>\n",
       "    </tr>\n",
       "    <tr>\n",
       "      <th>4</th>\n",
       "      <td>2282983706</td>\n",
       "      <td>2322279887</td>\n",
       "      <td>2019-08-15</td>\n",
       "      <td>2308</td>\n",
       "      <td>B</td>\n",
       "    </tr>\n",
       "  </tbody>\n",
       "</table>\n",
       "</div>"
      ],
      "text/plain": [
       "   transactionId   visitorId        date  revenue group\n",
       "0     3667963787  3312258926  2019-08-15     1650     B\n",
       "1     2804400009  3642806036  2019-08-15      730     B\n",
       "2     2961555356  4069496402  2019-08-15      400     A\n",
       "3     3797467345  1196621759  2019-08-15     9759     B\n",
       "4     2282983706  2322279887  2019-08-15     2308     B"
      ]
     },
     "execution_count": 6,
     "metadata": {},
     "output_type": "execute_result"
    }
   ],
   "source": [
    "orders.head()"
   ]
  },
  {
   "cell_type": "code",
   "execution_count": 7,
   "metadata": {},
   "outputs": [
    {
     "data": {
      "text/plain": [
       "transactionId     int64\n",
       "visitorId         int64\n",
       "date             object\n",
       "revenue           int64\n",
       "group            object\n",
       "dtype: object"
      ]
     },
     "execution_count": 7,
     "metadata": {},
     "output_type": "execute_result"
    }
   ],
   "source": [
    "orders.dtypes"
   ]
  },
  {
   "cell_type": "code",
   "execution_count": 8,
   "metadata": {},
   "outputs": [
    {
     "data": {
      "text/plain": [
       "(1197, 5)"
      ]
     },
     "execution_count": 8,
     "metadata": {},
     "output_type": "execute_result"
    }
   ],
   "source": [
    "orders.shape"
   ]
  },
  {
   "cell_type": "code",
   "execution_count": 9,
   "metadata": {},
   "outputs": [
    {
     "name": "stdout",
     "output_type": "stream",
     "text": [
      "<class 'pandas.core.frame.DataFrame'>\n",
      "RangeIndex: 1197 entries, 0 to 1196\n",
      "Data columns (total 5 columns):\n",
      " #   Column         Non-Null Count  Dtype \n",
      "---  ------         --------------  ----- \n",
      " 0   transactionId  1197 non-null   int64 \n",
      " 1   visitorId      1197 non-null   int64 \n",
      " 2   date           1197 non-null   object\n",
      " 3   revenue        1197 non-null   int64 \n",
      " 4   group          1197 non-null   object\n",
      "dtypes: int64(3), object(2)\n",
      "memory usage: 46.9+ KB\n"
     ]
    }
   ],
   "source": [
    "orders.info()"
   ]
  },
  {
   "cell_type": "markdown",
   "metadata": {},
   "source": [
    "**Формат колонки с датой представлен в формате object.  \n",
    "Приведём формат даты к корректному:**"
   ]
  },
  {
   "cell_type": "code",
   "execution_count": 10,
   "metadata": {},
   "outputs": [],
   "source": [
    "orders['date'] = pd.to_datetime(orders['date'])"
   ]
  },
  {
   "cell_type": "markdown",
   "metadata": {},
   "source": [
    "**Метод info показывает отсутствие пропусков в датасете. Убедимся, так ли это на самом деле:**"
   ]
  },
  {
   "cell_type": "code",
   "execution_count": 11,
   "metadata": {},
   "outputs": [
    {
     "data": {
      "text/plain": [
       "transactionId    0\n",
       "visitorId        0\n",
       "date             0\n",
       "revenue          0\n",
       "group            0\n",
       "dtype: int64"
      ]
     },
     "execution_count": 11,
     "metadata": {},
     "output_type": "execute_result"
    }
   ],
   "source": [
    "orders.isna().sum()"
   ]
  },
  {
   "cell_type": "markdown",
   "metadata": {},
   "source": [
    "**Пропущенные значения отсутствуют, можно идти дальше.  \n",
    "Проверим наличие дубликатов:**"
   ]
  },
  {
   "cell_type": "code",
   "execution_count": 12,
   "metadata": {},
   "outputs": [
    {
     "data": {
      "text/plain": [
       "0"
      ]
     },
     "execution_count": 12,
     "metadata": {},
     "output_type": "execute_result"
    }
   ],
   "source": [
    "#для начала проверим наличие явных дубликатов\n",
    "\n",
    "orders.duplicated().sum()"
   ]
  },
  {
   "cell_type": "markdown",
   "metadata": {},
   "source": [
    "**Далее, учитывая специфику А/В теста, проверим, не встречаются ли одни и те же пользователи одновременно и в контрольной и в испытуемой группах:**"
   ]
  },
  {
   "cell_type": "code",
   "execution_count": 13,
   "metadata": {},
   "outputs": [],
   "source": [
    "#сформируем срез строк с участниками группы А\n",
    "\n",
    "users_group_A = orders.loc[orders['group'] == 'A']"
   ]
  },
  {
   "cell_type": "code",
   "execution_count": 14,
   "metadata": {},
   "outputs": [],
   "source": [
    "#сформируем список visitorId участников группы В \n",
    "\n",
    "users_group_B = orders.loc[orders['group'] == 'B']['visitorId']"
   ]
  },
  {
   "cell_type": "code",
   "execution_count": 15,
   "metadata": {},
   "outputs": [],
   "source": [
    "#сформируем список участников обеих групп одновременно\n",
    "\n",
    "A_B_users = users_group_A[users_group_A['visitorId'].isin(users_group_B)]['visitorId'].unique()"
   ]
  },
  {
   "cell_type": "code",
   "execution_count": 16,
   "metadata": {},
   "outputs": [
    {
     "data": {
      "text/plain": [
       "array([4069496402,  199603092, 3803269165, 2378935119,  237748145,\n",
       "       4256040402, 2038680547, 1738359350, 2458001652, 3891541246,\n",
       "       2716752286, 3656415546, 2686716486, 2954449915, 2927087541,\n",
       "       3234906277,  457167155, 2579882178, 3957174400, 1648269707,\n",
       "       2780786433,  818047933, 2044997962, 1959144690, 3202540741,\n",
       "       1333886533,  351125977, 3951559397,  393266494, 3984495233,\n",
       "       4120364173, 4266935830, 1230306981, 1294878855, 1614305549,\n",
       "          8300375,  477780734, 1668030113, 3717692402, 3766097110,\n",
       "       3941795274,  471551937, 1316129916, 1801183820, 1602967004,\n",
       "       2587333274, 2600415354,  232979603, 3972127743, 1404934699,\n",
       "        276558944, 3062433592, 2654030115, 3963646447, 4186807279,\n",
       "       2712142231, 2949041841,  963407295], dtype=int64)"
      ]
     },
     "execution_count": 16,
     "metadata": {},
     "output_type": "execute_result"
    }
   ],
   "source": [
    "A_B_users"
   ]
  },
  {
   "cell_type": "code",
   "execution_count": 17,
   "metadata": {},
   "outputs": [
    {
     "data": {
      "text/plain": [
       "58"
      ]
     },
     "execution_count": 17,
     "metadata": {},
     "output_type": "execute_result"
    }
   ],
   "source": [
    "len(A_B_users)"
   ]
  },
  {
   "cell_type": "markdown",
   "metadata": {},
   "source": [
    "**Получился довольно внушительный список из 58 участников.**"
   ]
  },
  {
   "cell_type": "code",
   "execution_count": 18,
   "metadata": {},
   "outputs": [
    {
     "data": {
      "text/html": [
       "<div>\n",
       "<style scoped>\n",
       "    .dataframe tbody tr th:only-of-type {\n",
       "        vertical-align: middle;\n",
       "    }\n",
       "\n",
       "    .dataframe tbody tr th {\n",
       "        vertical-align: top;\n",
       "    }\n",
       "\n",
       "    .dataframe thead th {\n",
       "        text-align: right;\n",
       "    }\n",
       "</style>\n",
       "<table border=\"1\" class=\"dataframe\">\n",
       "  <thead>\n",
       "    <tr style=\"text-align: right;\">\n",
       "      <th></th>\n",
       "      <th>transactionId</th>\n",
       "      <th>visitorId</th>\n",
       "      <th>date</th>\n",
       "      <th>revenue</th>\n",
       "      <th>group</th>\n",
       "    </tr>\n",
       "  </thead>\n",
       "  <tbody>\n",
       "    <tr>\n",
       "      <th>703</th>\n",
       "      <td>4293855558</td>\n",
       "      <td>8300375</td>\n",
       "      <td>2019-08-07</td>\n",
       "      <td>1790</td>\n",
       "      <td>A</td>\n",
       "    </tr>\n",
       "    <tr>\n",
       "      <th>71</th>\n",
       "      <td>3679129301</td>\n",
       "      <td>8300375</td>\n",
       "      <td>2019-08-01</td>\n",
       "      <td>10510</td>\n",
       "      <td>B</td>\n",
       "    </tr>\n",
       "    <tr>\n",
       "      <th>823</th>\n",
       "      <td>2971973105</td>\n",
       "      <td>199603092</td>\n",
       "      <td>2019-08-27</td>\n",
       "      <td>2790</td>\n",
       "      <td>A</td>\n",
       "    </tr>\n",
       "    <tr>\n",
       "      <th>246</th>\n",
       "      <td>437656952</td>\n",
       "      <td>199603092</td>\n",
       "      <td>2019-08-02</td>\n",
       "      <td>3488</td>\n",
       "      <td>B</td>\n",
       "    </tr>\n",
       "    <tr>\n",
       "      <th>26</th>\n",
       "      <td>2223239646</td>\n",
       "      <td>199603092</td>\n",
       "      <td>2019-08-15</td>\n",
       "      <td>3488</td>\n",
       "      <td>A</td>\n",
       "    </tr>\n",
       "    <tr>\n",
       "      <th>...</th>\n",
       "      <td>...</td>\n",
       "      <td>...</td>\n",
       "      <td>...</td>\n",
       "      <td>...</td>\n",
       "      <td>...</td>\n",
       "    </tr>\n",
       "    <tr>\n",
       "      <th>187</th>\n",
       "      <td>2048878902</td>\n",
       "      <td>4256040402</td>\n",
       "      <td>2019-08-17</td>\n",
       "      <td>1550</td>\n",
       "      <td>A</td>\n",
       "    </tr>\n",
       "    <tr>\n",
       "      <th>114</th>\n",
       "      <td>1120327437</td>\n",
       "      <td>4256040402</td>\n",
       "      <td>2019-08-01</td>\n",
       "      <td>5800</td>\n",
       "      <td>A</td>\n",
       "    </tr>\n",
       "    <tr>\n",
       "      <th>60</th>\n",
       "      <td>1421016313</td>\n",
       "      <td>4256040402</td>\n",
       "      <td>2019-08-16</td>\n",
       "      <td>56650</td>\n",
       "      <td>B</td>\n",
       "    </tr>\n",
       "    <tr>\n",
       "      <th>662</th>\n",
       "      <td>1811671147</td>\n",
       "      <td>4266935830</td>\n",
       "      <td>2019-08-29</td>\n",
       "      <td>78990</td>\n",
       "      <td>A</td>\n",
       "    </tr>\n",
       "    <tr>\n",
       "      <th>682</th>\n",
       "      <td>1216533772</td>\n",
       "      <td>4266935830</td>\n",
       "      <td>2019-08-29</td>\n",
       "      <td>78990</td>\n",
       "      <td>B</td>\n",
       "    </tr>\n",
       "  </tbody>\n",
       "</table>\n",
       "<p>181 rows × 5 columns</p>\n",
       "</div>"
      ],
      "text/plain": [
       "     transactionId   visitorId       date  revenue group\n",
       "703     4293855558     8300375 2019-08-07     1790     A\n",
       "71      3679129301     8300375 2019-08-01    10510     B\n",
       "823     2971973105   199603092 2019-08-27     2790     A\n",
       "246      437656952   199603092 2019-08-02     3488     B\n",
       "26      2223239646   199603092 2019-08-15     3488     A\n",
       "..             ...         ...        ...      ...   ...\n",
       "187     2048878902  4256040402 2019-08-17     1550     A\n",
       "114     1120327437  4256040402 2019-08-01     5800     A\n",
       "60      1421016313  4256040402 2019-08-16    56650     B\n",
       "662     1811671147  4266935830 2019-08-29    78990     A\n",
       "682     1216533772  4266935830 2019-08-29    78990     B\n",
       "\n",
       "[181 rows x 5 columns]"
      ]
     },
     "execution_count": 18,
     "metadata": {},
     "output_type": "execute_result"
    }
   ],
   "source": [
    "#для дополнительной проверки, выведем срез данных с предположительными участниками обеих групп\n",
    "\n",
    "orders[orders['visitorId'].isin(A_B_users)].sort_values(by='visitorId')"
   ]
  },
  {
   "cell_type": "markdown",
   "metadata": {},
   "source": [
    "**Удалим из orders пользователей, оказавшихся в обеих группах:**"
   ]
  },
  {
   "cell_type": "code",
   "execution_count": 19,
   "metadata": {},
   "outputs": [],
   "source": [
    "orders = orders[np.logical_not(orders['visitorId'].isin(A_B_users))]"
   ]
  },
  {
   "cell_type": "markdown",
   "metadata": {},
   "source": [
    "**Проверим, исчезли ли задвоения:**"
   ]
  },
  {
   "cell_type": "code",
   "execution_count": 20,
   "metadata": {},
   "outputs": [
    {
     "data": {
      "text/html": [
       "<div>\n",
       "<style scoped>\n",
       "    .dataframe tbody tr th:only-of-type {\n",
       "        vertical-align: middle;\n",
       "    }\n",
       "\n",
       "    .dataframe tbody tr th {\n",
       "        vertical-align: top;\n",
       "    }\n",
       "\n",
       "    .dataframe thead th {\n",
       "        text-align: right;\n",
       "    }\n",
       "</style>\n",
       "<table border=\"1\" class=\"dataframe\">\n",
       "  <thead>\n",
       "    <tr style=\"text-align: right;\">\n",
       "      <th></th>\n",
       "      <th>transactionId</th>\n",
       "      <th>visitorId</th>\n",
       "      <th>date</th>\n",
       "      <th>revenue</th>\n",
       "      <th>group</th>\n",
       "    </tr>\n",
       "  </thead>\n",
       "  <tbody>\n",
       "  </tbody>\n",
       "</table>\n",
       "</div>"
      ],
      "text/plain": [
       "Empty DataFrame\n",
       "Columns: [transactionId, visitorId, date, revenue, group]\n",
       "Index: []"
      ]
     },
     "execution_count": 20,
     "metadata": {},
     "output_type": "execute_result"
    }
   ],
   "source": [
    "orders[orders['visitorId'].isin(A_B_users)].sort_values(by='visitorId')"
   ]
  },
  {
   "cell_type": "markdown",
   "metadata": {},
   "source": [
    "**Задвоенных пользователей убрали, можно двигаться дальше.  \n",
    "Рассмотрим теперь датасет visitors:**"
   ]
  },
  {
   "cell_type": "code",
   "execution_count": 21,
   "metadata": {
    "scrolled": true
   },
   "outputs": [
    {
     "data": {
      "text/html": [
       "<div>\n",
       "<style scoped>\n",
       "    .dataframe tbody tr th:only-of-type {\n",
       "        vertical-align: middle;\n",
       "    }\n",
       "\n",
       "    .dataframe tbody tr th {\n",
       "        vertical-align: top;\n",
       "    }\n",
       "\n",
       "    .dataframe thead th {\n",
       "        text-align: right;\n",
       "    }\n",
       "</style>\n",
       "<table border=\"1\" class=\"dataframe\">\n",
       "  <thead>\n",
       "    <tr style=\"text-align: right;\">\n",
       "      <th></th>\n",
       "      <th>date</th>\n",
       "      <th>group</th>\n",
       "      <th>visitors</th>\n",
       "    </tr>\n",
       "  </thead>\n",
       "  <tbody>\n",
       "    <tr>\n",
       "      <th>0</th>\n",
       "      <td>2019-08-01</td>\n",
       "      <td>A</td>\n",
       "      <td>719</td>\n",
       "    </tr>\n",
       "    <tr>\n",
       "      <th>1</th>\n",
       "      <td>2019-08-02</td>\n",
       "      <td>A</td>\n",
       "      <td>619</td>\n",
       "    </tr>\n",
       "    <tr>\n",
       "      <th>2</th>\n",
       "      <td>2019-08-03</td>\n",
       "      <td>A</td>\n",
       "      <td>507</td>\n",
       "    </tr>\n",
       "    <tr>\n",
       "      <th>3</th>\n",
       "      <td>2019-08-04</td>\n",
       "      <td>A</td>\n",
       "      <td>717</td>\n",
       "    </tr>\n",
       "    <tr>\n",
       "      <th>4</th>\n",
       "      <td>2019-08-05</td>\n",
       "      <td>A</td>\n",
       "      <td>756</td>\n",
       "    </tr>\n",
       "  </tbody>\n",
       "</table>\n",
       "</div>"
      ],
      "text/plain": [
       "         date group  visitors\n",
       "0  2019-08-01     A       719\n",
       "1  2019-08-02     A       619\n",
       "2  2019-08-03     A       507\n",
       "3  2019-08-04     A       717\n",
       "4  2019-08-05     A       756"
      ]
     },
     "execution_count": 21,
     "metadata": {},
     "output_type": "execute_result"
    }
   ],
   "source": [
    "visitors.head()"
   ]
  },
  {
   "cell_type": "code",
   "execution_count": 22,
   "metadata": {},
   "outputs": [
    {
     "data": {
      "text/plain": [
       "date        object\n",
       "group       object\n",
       "visitors     int64\n",
       "dtype: object"
      ]
     },
     "execution_count": 22,
     "metadata": {},
     "output_type": "execute_result"
    }
   ],
   "source": [
    "visitors.dtypes"
   ]
  },
  {
   "cell_type": "code",
   "execution_count": 23,
   "metadata": {},
   "outputs": [
    {
     "data": {
      "text/plain": [
       "(62, 3)"
      ]
     },
     "execution_count": 23,
     "metadata": {},
     "output_type": "execute_result"
    }
   ],
   "source": [
    "visitors.shape"
   ]
  },
  {
   "cell_type": "code",
   "execution_count": 24,
   "metadata": {},
   "outputs": [
    {
     "name": "stdout",
     "output_type": "stream",
     "text": [
      "<class 'pandas.core.frame.DataFrame'>\n",
      "RangeIndex: 62 entries, 0 to 61\n",
      "Data columns (total 3 columns):\n",
      " #   Column    Non-Null Count  Dtype \n",
      "---  ------    --------------  ----- \n",
      " 0   date      62 non-null     object\n",
      " 1   group     62 non-null     object\n",
      " 2   visitors  62 non-null     int64 \n",
      "dtypes: int64(1), object(2)\n",
      "memory usage: 1.6+ KB\n"
     ]
    }
   ],
   "source": [
    "visitors.info()"
   ]
  },
  {
   "cell_type": "code",
   "execution_count": 25,
   "metadata": {},
   "outputs": [
    {
     "data": {
      "text/plain": [
       "date        0\n",
       "group       0\n",
       "visitors    0\n",
       "dtype: int64"
      ]
     },
     "execution_count": 25,
     "metadata": {},
     "output_type": "execute_result"
    }
   ],
   "source": [
    "#проверим пропуски\n",
    "\n",
    "visitors.isna().sum()"
   ]
  },
  {
   "cell_type": "code",
   "execution_count": 26,
   "metadata": {},
   "outputs": [
    {
     "data": {
      "text/plain": [
       "0"
      ]
     },
     "execution_count": 26,
     "metadata": {},
     "output_type": "execute_result"
    }
   ],
   "source": [
    "#проверим наличие явных дубликатов\n",
    "\n",
    "visitors.duplicated().sum()"
   ]
  },
  {
   "cell_type": "code",
   "execution_count": 27,
   "metadata": {},
   "outputs": [],
   "source": [
    "#приведём колонку с датой к корректному формату\n",
    "\n",
    "visitors['date'] = pd.to_datetime(visitors['date'])"
   ]
  },
  {
   "cell_type": "markdown",
   "metadata": {},
   "source": [
    "**Данные проверены на наличие пропусков, дубликатов и соответствующим образом обработаны (колонки с датами приведены к корректным форматам, исключены пользователи, оказавшиеся сразу в обеих тестовых группах).  \n",
    "Можно приступать к обработке данных.**"
   ]
  },
  {
   "cell_type": "code",
   "execution_count": null,
   "metadata": {},
   "outputs": [],
   "source": []
  },
  {
   "cell_type": "code",
   "execution_count": null,
   "metadata": {},
   "outputs": [],
   "source": []
  },
  {
   "cell_type": "markdown",
   "metadata": {},
   "source": [
    "<div class=\"alert alert-info\"> \n",
    "<a id='prior'></a>\n",
    "\n",
    "## Приоритизация гипотез."
   ]
  },
  {
   "cell_type": "markdown",
   "metadata": {},
   "source": [
    "<div style=\"border:solid green 2px; paddind: 20px\">\n",
    "    \n",
    ">### Используем фреймворки ICE и RICE для приоритизации гипотез."
   ]
  },
  {
   "cell_type": "code",
   "execution_count": 28,
   "metadata": {},
   "outputs": [
    {
     "data": {
      "text/html": [
       "<div>\n",
       "<style scoped>\n",
       "    .dataframe tbody tr th:only-of-type {\n",
       "        vertical-align: middle;\n",
       "    }\n",
       "\n",
       "    .dataframe tbody tr th {\n",
       "        vertical-align: top;\n",
       "    }\n",
       "\n",
       "    .dataframe thead th {\n",
       "        text-align: right;\n",
       "    }\n",
       "</style>\n",
       "<table border=\"1\" class=\"dataframe\">\n",
       "  <thead>\n",
       "    <tr style=\"text-align: right;\">\n",
       "      <th></th>\n",
       "      <th>Hypothesis</th>\n",
       "      <th>Reach</th>\n",
       "      <th>Impact</th>\n",
       "      <th>Confidence</th>\n",
       "      <th>Efforts</th>\n",
       "    </tr>\n",
       "  </thead>\n",
       "  <tbody>\n",
       "    <tr>\n",
       "      <th>0</th>\n",
       "      <td>Добавить два новых канала привлечения трафика, что позволит привлекать на 30% больше пользователей</td>\n",
       "      <td>3</td>\n",
       "      <td>10</td>\n",
       "      <td>8</td>\n",
       "      <td>6</td>\n",
       "    </tr>\n",
       "    <tr>\n",
       "      <th>1</th>\n",
       "      <td>Запустить собственную службу доставки, что сократит срок доставки заказов</td>\n",
       "      <td>2</td>\n",
       "      <td>5</td>\n",
       "      <td>4</td>\n",
       "      <td>10</td>\n",
       "    </tr>\n",
       "    <tr>\n",
       "      <th>2</th>\n",
       "      <td>Добавить блоки рекомендаций товаров на сайт интернет магазина, чтобы повысить конверсию и средний чек заказа</td>\n",
       "      <td>8</td>\n",
       "      <td>3</td>\n",
       "      <td>7</td>\n",
       "      <td>3</td>\n",
       "    </tr>\n",
       "    <tr>\n",
       "      <th>3</th>\n",
       "      <td>Изменить структура категорий, что увеличит конверсию, т.к. пользователи быстрее найдут нужный товар</td>\n",
       "      <td>8</td>\n",
       "      <td>3</td>\n",
       "      <td>3</td>\n",
       "      <td>8</td>\n",
       "    </tr>\n",
       "    <tr>\n",
       "      <th>4</th>\n",
       "      <td>Изменить цвет фона главной страницы, чтобы увеличить вовлеченность пользователей</td>\n",
       "      <td>3</td>\n",
       "      <td>1</td>\n",
       "      <td>1</td>\n",
       "      <td>1</td>\n",
       "    </tr>\n",
       "  </tbody>\n",
       "</table>\n",
       "</div>"
      ],
      "text/plain": [
       "                                                                                                     Hypothesis  \\\n",
       "0  Добавить два новых канала привлечения трафика, что позволит привлекать на 30% больше пользователей             \n",
       "1  Запустить собственную службу доставки, что сократит срок доставки заказов                                      \n",
       "2  Добавить блоки рекомендаций товаров на сайт интернет магазина, чтобы повысить конверсию и средний чек заказа   \n",
       "3  Изменить структура категорий, что увеличит конверсию, т.к. пользователи быстрее найдут нужный товар            \n",
       "4  Изменить цвет фона главной страницы, чтобы увеличить вовлеченность пользователей                               \n",
       "\n",
       "   Reach  Impact  Confidence  Efforts  \n",
       "0  3      10      8           6        \n",
       "1  2      5       4           10       \n",
       "2  8      3       7           3        \n",
       "3  8      3       3           8        \n",
       "4  3      1       1           1        "
      ]
     },
     "execution_count": 28,
     "metadata": {},
     "output_type": "execute_result"
    }
   ],
   "source": [
    "#посмотрим ещё раз на датасет hypothesis\n",
    "#ширину стоблбцов увеличим для полного отображения информации\n",
    "\n",
    "pd.options.display.max_colwidth = 1\n",
    "hypothesis.head()"
   ]
  },
  {
   "cell_type": "markdown",
   "metadata": {},
   "source": [
    "<div style=\"border:solid green 2px; paddind: 20px\">\n",
    "    \n",
    ">**Изучим фреймворк ICE. Формула расчёта \"ICE SCORE = Impact * Confidence / Efforts\".  \n",
    "Рассчитаем по формуле:**"
   ]
  },
  {
   "cell_type": "code",
   "execution_count": 29,
   "metadata": {},
   "outputs": [],
   "source": [
    "hypothesis['ICE'] = round (hypothesis['Impact'] * hypothesis['Confidence'] / hypothesis['Efforts'], 3)"
   ]
  },
  {
   "cell_type": "code",
   "execution_count": 30,
   "metadata": {},
   "outputs": [
    {
     "data": {
      "text/html": [
       "<div>\n",
       "<style scoped>\n",
       "    .dataframe tbody tr th:only-of-type {\n",
       "        vertical-align: middle;\n",
       "    }\n",
       "\n",
       "    .dataframe tbody tr th {\n",
       "        vertical-align: top;\n",
       "    }\n",
       "\n",
       "    .dataframe thead th {\n",
       "        text-align: right;\n",
       "    }\n",
       "</style>\n",
       "<table border=\"1\" class=\"dataframe\">\n",
       "  <thead>\n",
       "    <tr style=\"text-align: right;\">\n",
       "      <th></th>\n",
       "      <th>Hypothesis</th>\n",
       "      <th>Reach</th>\n",
       "      <th>Impact</th>\n",
       "      <th>Confidence</th>\n",
       "      <th>Efforts</th>\n",
       "      <th>ICE</th>\n",
       "    </tr>\n",
       "  </thead>\n",
       "  <tbody>\n",
       "    <tr>\n",
       "      <th>0</th>\n",
       "      <td>Добавить два новых канала привлечения трафика, что позволит привлекать на 30% больше пользователей</td>\n",
       "      <td>3</td>\n",
       "      <td>10</td>\n",
       "      <td>8</td>\n",
       "      <td>6</td>\n",
       "      <td>13.333</td>\n",
       "    </tr>\n",
       "    <tr>\n",
       "      <th>1</th>\n",
       "      <td>Запустить собственную службу доставки, что сократит срок доставки заказов</td>\n",
       "      <td>2</td>\n",
       "      <td>5</td>\n",
       "      <td>4</td>\n",
       "      <td>10</td>\n",
       "      <td>2.000</td>\n",
       "    </tr>\n",
       "    <tr>\n",
       "      <th>2</th>\n",
       "      <td>Добавить блоки рекомендаций товаров на сайт интернет магазина, чтобы повысить конверсию и средний чек заказа</td>\n",
       "      <td>8</td>\n",
       "      <td>3</td>\n",
       "      <td>7</td>\n",
       "      <td>3</td>\n",
       "      <td>7.000</td>\n",
       "    </tr>\n",
       "    <tr>\n",
       "      <th>3</th>\n",
       "      <td>Изменить структура категорий, что увеличит конверсию, т.к. пользователи быстрее найдут нужный товар</td>\n",
       "      <td>8</td>\n",
       "      <td>3</td>\n",
       "      <td>3</td>\n",
       "      <td>8</td>\n",
       "      <td>1.125</td>\n",
       "    </tr>\n",
       "    <tr>\n",
       "      <th>4</th>\n",
       "      <td>Изменить цвет фона главной страницы, чтобы увеличить вовлеченность пользователей</td>\n",
       "      <td>3</td>\n",
       "      <td>1</td>\n",
       "      <td>1</td>\n",
       "      <td>1</td>\n",
       "      <td>1.000</td>\n",
       "    </tr>\n",
       "  </tbody>\n",
       "</table>\n",
       "</div>"
      ],
      "text/plain": [
       "                                                                                                     Hypothesis  \\\n",
       "0  Добавить два новых канала привлечения трафика, что позволит привлекать на 30% больше пользователей             \n",
       "1  Запустить собственную службу доставки, что сократит срок доставки заказов                                      \n",
       "2  Добавить блоки рекомендаций товаров на сайт интернет магазина, чтобы повысить конверсию и средний чек заказа   \n",
       "3  Изменить структура категорий, что увеличит конверсию, т.к. пользователи быстрее найдут нужный товар            \n",
       "4  Изменить цвет фона главной страницы, чтобы увеличить вовлеченность пользователей                               \n",
       "\n",
       "   Reach  Impact  Confidence  Efforts     ICE  \n",
       "0  3      10      8           6        13.333  \n",
       "1  2      5       4           10       2.000   \n",
       "2  8      3       7           3        7.000   \n",
       "3  8      3       3           8        1.125   \n",
       "4  3      1       1           1        1.000   "
      ]
     },
     "execution_count": 30,
     "metadata": {},
     "output_type": "execute_result"
    }
   ],
   "source": [
    "hypothesis.head()"
   ]
  },
  {
   "cell_type": "code",
   "execution_count": 31,
   "metadata": {},
   "outputs": [
    {
     "data": {
      "text/html": [
       "<div>\n",
       "<style scoped>\n",
       "    .dataframe tbody tr th:only-of-type {\n",
       "        vertical-align: middle;\n",
       "    }\n",
       "\n",
       "    .dataframe tbody tr th {\n",
       "        vertical-align: top;\n",
       "    }\n",
       "\n",
       "    .dataframe thead th {\n",
       "        text-align: right;\n",
       "    }\n",
       "</style>\n",
       "<table border=\"1\" class=\"dataframe\">\n",
       "  <thead>\n",
       "    <tr style=\"text-align: right;\">\n",
       "      <th></th>\n",
       "      <th>Hypothesis</th>\n",
       "      <th>Reach</th>\n",
       "      <th>Impact</th>\n",
       "      <th>Confidence</th>\n",
       "      <th>Efforts</th>\n",
       "      <th>ICE</th>\n",
       "    </tr>\n",
       "  </thead>\n",
       "  <tbody>\n",
       "    <tr>\n",
       "      <th>8</th>\n",
       "      <td>Запустить акцию, дающую скидку на товар в день рождения</td>\n",
       "      <td>1</td>\n",
       "      <td>9</td>\n",
       "      <td>9</td>\n",
       "      <td>5</td>\n",
       "      <td>16.200</td>\n",
       "    </tr>\n",
       "    <tr>\n",
       "      <th>0</th>\n",
       "      <td>Добавить два новых канала привлечения трафика, что позволит привлекать на 30% больше пользователей</td>\n",
       "      <td>3</td>\n",
       "      <td>10</td>\n",
       "      <td>8</td>\n",
       "      <td>6</td>\n",
       "      <td>13.333</td>\n",
       "    </tr>\n",
       "    <tr>\n",
       "      <th>7</th>\n",
       "      <td>Добавить форму подписки на все основные страницы, чтобы собрать базу клиентов для email-рассылок</td>\n",
       "      <td>10</td>\n",
       "      <td>7</td>\n",
       "      <td>8</td>\n",
       "      <td>5</td>\n",
       "      <td>11.200</td>\n",
       "    </tr>\n",
       "    <tr>\n",
       "      <th>6</th>\n",
       "      <td>Показать на главной странице баннеры с актуальными акциями и распродажами, чтобы увеличить конверсию</td>\n",
       "      <td>5</td>\n",
       "      <td>3</td>\n",
       "      <td>8</td>\n",
       "      <td>3</td>\n",
       "      <td>8.000</td>\n",
       "    </tr>\n",
       "    <tr>\n",
       "      <th>2</th>\n",
       "      <td>Добавить блоки рекомендаций товаров на сайт интернет магазина, чтобы повысить конверсию и средний чек заказа</td>\n",
       "      <td>8</td>\n",
       "      <td>3</td>\n",
       "      <td>7</td>\n",
       "      <td>3</td>\n",
       "      <td>7.000</td>\n",
       "    </tr>\n",
       "    <tr>\n",
       "      <th>1</th>\n",
       "      <td>Запустить собственную службу доставки, что сократит срок доставки заказов</td>\n",
       "      <td>2</td>\n",
       "      <td>5</td>\n",
       "      <td>4</td>\n",
       "      <td>10</td>\n",
       "      <td>2.000</td>\n",
       "    </tr>\n",
       "    <tr>\n",
       "      <th>5</th>\n",
       "      <td>Добавить страницу отзывов клиентов о магазине, что позволит увеличить количество заказов</td>\n",
       "      <td>3</td>\n",
       "      <td>2</td>\n",
       "      <td>2</td>\n",
       "      <td>3</td>\n",
       "      <td>1.333</td>\n",
       "    </tr>\n",
       "    <tr>\n",
       "      <th>3</th>\n",
       "      <td>Изменить структура категорий, что увеличит конверсию, т.к. пользователи быстрее найдут нужный товар</td>\n",
       "      <td>8</td>\n",
       "      <td>3</td>\n",
       "      <td>3</td>\n",
       "      <td>8</td>\n",
       "      <td>1.125</td>\n",
       "    </tr>\n",
       "    <tr>\n",
       "      <th>4</th>\n",
       "      <td>Изменить цвет фона главной страницы, чтобы увеличить вовлеченность пользователей</td>\n",
       "      <td>3</td>\n",
       "      <td>1</td>\n",
       "      <td>1</td>\n",
       "      <td>1</td>\n",
       "      <td>1.000</td>\n",
       "    </tr>\n",
       "  </tbody>\n",
       "</table>\n",
       "</div>"
      ],
      "text/plain": [
       "                                                                                                     Hypothesis  \\\n",
       "8  Запустить акцию, дающую скидку на товар в день рождения                                                        \n",
       "0  Добавить два новых канала привлечения трафика, что позволит привлекать на 30% больше пользователей             \n",
       "7  Добавить форму подписки на все основные страницы, чтобы собрать базу клиентов для email-рассылок               \n",
       "6  Показать на главной странице баннеры с актуальными акциями и распродажами, чтобы увеличить конверсию           \n",
       "2  Добавить блоки рекомендаций товаров на сайт интернет магазина, чтобы повысить конверсию и средний чек заказа   \n",
       "1  Запустить собственную службу доставки, что сократит срок доставки заказов                                      \n",
       "5  Добавить страницу отзывов клиентов о магазине, что позволит увеличить количество заказов                       \n",
       "3  Изменить структура категорий, что увеличит конверсию, т.к. пользователи быстрее найдут нужный товар            \n",
       "4  Изменить цвет фона главной страницы, чтобы увеличить вовлеченность пользователей                               \n",
       "\n",
       "   Reach  Impact  Confidence  Efforts     ICE  \n",
       "8  1      9       9           5        16.200  \n",
       "0  3      10      8           6        13.333  \n",
       "7  10     7       8           5        11.200  \n",
       "6  5      3       8           3        8.000   \n",
       "2  8      3       7           3        7.000   \n",
       "1  2      5       4           10       2.000   \n",
       "5  3      2       2           3        1.333   \n",
       "3  8      3       3           8        1.125   \n",
       "4  3      1       1           1        1.000   "
      ]
     },
     "execution_count": 31,
     "metadata": {},
     "output_type": "execute_result"
    }
   ],
   "source": [
    "#отсортируем по убыванию приоритета\n",
    "\n",
    "hypothesis.sort_values(by='ICE', ascending=False)"
   ]
  },
  {
   "cell_type": "markdown",
   "metadata": {},
   "source": [
    "**По результатам использования ICE мы видим три явных лидера - гипотезы под номерами 8, 0 и 7 .**"
   ]
  },
  {
   "cell_type": "code",
   "execution_count": null,
   "metadata": {},
   "outputs": [],
   "source": []
  },
  {
   "cell_type": "markdown",
   "metadata": {},
   "source": [
    "<div style=\"border:solid green 2px; paddind: 20px\">\n",
    "    \n",
    ">**Теперь используем фреймворк RICE. Формула для его расчёта: \"RICE = (Reach * Impact * Confidence) / Efforts\".**"
   ]
  },
  {
   "cell_type": "code",
   "execution_count": 32,
   "metadata": {},
   "outputs": [],
   "source": [
    "hypothesis['RICE'] = (hypothesis['Reach'] * hypothesis['Impact'] * hypothesis['Confidence']) / hypothesis['Efforts']"
   ]
  },
  {
   "cell_type": "code",
   "execution_count": 33,
   "metadata": {},
   "outputs": [
    {
     "data": {
      "text/html": [
       "<div>\n",
       "<style scoped>\n",
       "    .dataframe tbody tr th:only-of-type {\n",
       "        vertical-align: middle;\n",
       "    }\n",
       "\n",
       "    .dataframe tbody tr th {\n",
       "        vertical-align: top;\n",
       "    }\n",
       "\n",
       "    .dataframe thead th {\n",
       "        text-align: right;\n",
       "    }\n",
       "</style>\n",
       "<table border=\"1\" class=\"dataframe\">\n",
       "  <thead>\n",
       "    <tr style=\"text-align: right;\">\n",
       "      <th></th>\n",
       "      <th>Hypothesis</th>\n",
       "      <th>Reach</th>\n",
       "      <th>Impact</th>\n",
       "      <th>Confidence</th>\n",
       "      <th>Efforts</th>\n",
       "      <th>ICE</th>\n",
       "      <th>RICE</th>\n",
       "    </tr>\n",
       "  </thead>\n",
       "  <tbody>\n",
       "    <tr>\n",
       "      <th>7</th>\n",
       "      <td>Добавить форму подписки на все основные страницы, чтобы собрать базу клиентов для email-рассылок</td>\n",
       "      <td>10</td>\n",
       "      <td>7</td>\n",
       "      <td>8</td>\n",
       "      <td>5</td>\n",
       "      <td>11.200</td>\n",
       "      <td>112.0</td>\n",
       "    </tr>\n",
       "    <tr>\n",
       "      <th>2</th>\n",
       "      <td>Добавить блоки рекомендаций товаров на сайт интернет магазина, чтобы повысить конверсию и средний чек заказа</td>\n",
       "      <td>8</td>\n",
       "      <td>3</td>\n",
       "      <td>7</td>\n",
       "      <td>3</td>\n",
       "      <td>7.000</td>\n",
       "      <td>56.0</td>\n",
       "    </tr>\n",
       "    <tr>\n",
       "      <th>0</th>\n",
       "      <td>Добавить два новых канала привлечения трафика, что позволит привлекать на 30% больше пользователей</td>\n",
       "      <td>3</td>\n",
       "      <td>10</td>\n",
       "      <td>8</td>\n",
       "      <td>6</td>\n",
       "      <td>13.333</td>\n",
       "      <td>40.0</td>\n",
       "    </tr>\n",
       "    <tr>\n",
       "      <th>6</th>\n",
       "      <td>Показать на главной странице баннеры с актуальными акциями и распродажами, чтобы увеличить конверсию</td>\n",
       "      <td>5</td>\n",
       "      <td>3</td>\n",
       "      <td>8</td>\n",
       "      <td>3</td>\n",
       "      <td>8.000</td>\n",
       "      <td>40.0</td>\n",
       "    </tr>\n",
       "    <tr>\n",
       "      <th>8</th>\n",
       "      <td>Запустить акцию, дающую скидку на товар в день рождения</td>\n",
       "      <td>1</td>\n",
       "      <td>9</td>\n",
       "      <td>9</td>\n",
       "      <td>5</td>\n",
       "      <td>16.200</td>\n",
       "      <td>16.2</td>\n",
       "    </tr>\n",
       "    <tr>\n",
       "      <th>3</th>\n",
       "      <td>Изменить структура категорий, что увеличит конверсию, т.к. пользователи быстрее найдут нужный товар</td>\n",
       "      <td>8</td>\n",
       "      <td>3</td>\n",
       "      <td>3</td>\n",
       "      <td>8</td>\n",
       "      <td>1.125</td>\n",
       "      <td>9.0</td>\n",
       "    </tr>\n",
       "    <tr>\n",
       "      <th>1</th>\n",
       "      <td>Запустить собственную службу доставки, что сократит срок доставки заказов</td>\n",
       "      <td>2</td>\n",
       "      <td>5</td>\n",
       "      <td>4</td>\n",
       "      <td>10</td>\n",
       "      <td>2.000</td>\n",
       "      <td>4.0</td>\n",
       "    </tr>\n",
       "    <tr>\n",
       "      <th>5</th>\n",
       "      <td>Добавить страницу отзывов клиентов о магазине, что позволит увеличить количество заказов</td>\n",
       "      <td>3</td>\n",
       "      <td>2</td>\n",
       "      <td>2</td>\n",
       "      <td>3</td>\n",
       "      <td>1.333</td>\n",
       "      <td>4.0</td>\n",
       "    </tr>\n",
       "    <tr>\n",
       "      <th>4</th>\n",
       "      <td>Изменить цвет фона главной страницы, чтобы увеличить вовлеченность пользователей</td>\n",
       "      <td>3</td>\n",
       "      <td>1</td>\n",
       "      <td>1</td>\n",
       "      <td>1</td>\n",
       "      <td>1.000</td>\n",
       "      <td>3.0</td>\n",
       "    </tr>\n",
       "  </tbody>\n",
       "</table>\n",
       "</div>"
      ],
      "text/plain": [
       "                                                                                                     Hypothesis  \\\n",
       "7  Добавить форму подписки на все основные страницы, чтобы собрать базу клиентов для email-рассылок               \n",
       "2  Добавить блоки рекомендаций товаров на сайт интернет магазина, чтобы повысить конверсию и средний чек заказа   \n",
       "0  Добавить два новых канала привлечения трафика, что позволит привлекать на 30% больше пользователей             \n",
       "6  Показать на главной странице баннеры с актуальными акциями и распродажами, чтобы увеличить конверсию           \n",
       "8  Запустить акцию, дающую скидку на товар в день рождения                                                        \n",
       "3  Изменить структура категорий, что увеличит конверсию, т.к. пользователи быстрее найдут нужный товар            \n",
       "1  Запустить собственную службу доставки, что сократит срок доставки заказов                                      \n",
       "5  Добавить страницу отзывов клиентов о магазине, что позволит увеличить количество заказов                       \n",
       "4  Изменить цвет фона главной страницы, чтобы увеличить вовлеченность пользователей                               \n",
       "\n",
       "   Reach  Impact  Confidence  Efforts     ICE   RICE  \n",
       "7  10     7       8           5        11.200  112.0  \n",
       "2  8      3       7           3        7.000   56.0   \n",
       "0  3      10      8           6        13.333  40.0   \n",
       "6  5      3       8           3        8.000   40.0   \n",
       "8  1      9       9           5        16.200  16.2   \n",
       "3  8      3       3           8        1.125   9.0    \n",
       "1  2      5       4           10       2.000   4.0    \n",
       "5  3      2       2           3        1.333   4.0    \n",
       "4  3      1       1           1        1.000   3.0    "
      ]
     },
     "execution_count": 33,
     "metadata": {},
     "output_type": "execute_result"
    }
   ],
   "source": [
    "#отсортируем по убыванию параметра RICE\n",
    "\n",
    "hypothesis.sort_values(by='RICE', ascending=False)"
   ]
  },
  {
   "cell_type": "markdown",
   "metadata": {},
   "source": [
    "**Явным лидером с большим отрывом здесь выступает гипотеза 7, за ней, с приблизительно равными рейтингами в порядке убывания следуют 2, 0 и 6**"
   ]
  },
  {
   "cell_type": "markdown",
   "metadata": {},
   "source": [
    "**Как мы можем видеть, результаты использования ICE и RICE совпадают лишь отчасти. Так, в тройке лидеров обоих рейтингов присутствует лишь гипотеза под номером 7.  \n",
    "Если брать первые четыре строки - добавляется общая гипотеза под номером 0.\n",
    "Разница, очевидно, объясняется присутствием в RICE параметра Reach, характеризующего степень охвата аудитории.  \n",
    "Таким образом, без учёта охвата аудитории лидерами выступают 8,0,7,6, а с учётом - 7,2,6,0.\n",
    "Использовать ли ICE или RICE в каждом конкретном случае определяет конкретная ситуация, но в общем и целом параметр RICE представляется предпочтительным, ввиду учёта столь существенного дополнительного фактора как охват аудитории.**\n",
    "\n",
    "\n",
    "**Аустайдеров рейтингов рассматривать не будем, т.к.явно мы не будем учитывать их при проведении исследований в дальнейшем.**\n"
   ]
  },
  {
   "cell_type": "code",
   "execution_count": null,
   "metadata": {},
   "outputs": [],
   "source": []
  },
  {
   "cell_type": "code",
   "execution_count": null,
   "metadata": {},
   "outputs": [],
   "source": []
  },
  {
   "cell_type": "markdown",
   "metadata": {},
   "source": [
    "<div class=\"alert alert-info\"> \n",
    "<a id='test'></a>\n",
    "\n",
    "## Анализ A/B-теста."
   ]
  },
  {
   "cell_type": "markdown",
   "metadata": {},
   "source": [
    "<div style=\"border:solid green 2px; paddind: 20px\">\n",
    "    \n",
    ">### Построим график кумулятивной выручки по группам."
   ]
  },
  {
   "cell_type": "code",
   "execution_count": 34,
   "metadata": {},
   "outputs": [],
   "source": [
    "# создаем массив уникальных пар значений дат и групп теста\n",
    "datesGroups = orders[['date','group']].drop_duplicates() "
   ]
  },
  {
   "cell_type": "code",
   "execution_count": 35,
   "metadata": {},
   "outputs": [
    {
     "data": {
      "text/html": [
       "<div>\n",
       "<style scoped>\n",
       "    .dataframe tbody tr th:only-of-type {\n",
       "        vertical-align: middle;\n",
       "    }\n",
       "\n",
       "    .dataframe tbody tr th {\n",
       "        vertical-align: top;\n",
       "    }\n",
       "\n",
       "    .dataframe thead th {\n",
       "        text-align: right;\n",
       "    }\n",
       "</style>\n",
       "<table border=\"1\" class=\"dataframe\">\n",
       "  <thead>\n",
       "    <tr style=\"text-align: right;\">\n",
       "      <th></th>\n",
       "      <th>transactionId</th>\n",
       "      <th>visitorId</th>\n",
       "      <th>date</th>\n",
       "      <th>revenue</th>\n",
       "      <th>group</th>\n",
       "    </tr>\n",
       "  </thead>\n",
       "  <tbody>\n",
       "    <tr>\n",
       "      <th>0</th>\n",
       "      <td>3667963787</td>\n",
       "      <td>3312258926</td>\n",
       "      <td>2019-08-15</td>\n",
       "      <td>1650</td>\n",
       "      <td>B</td>\n",
       "    </tr>\n",
       "    <tr>\n",
       "      <th>1</th>\n",
       "      <td>2804400009</td>\n",
       "      <td>3642806036</td>\n",
       "      <td>2019-08-15</td>\n",
       "      <td>730</td>\n",
       "      <td>B</td>\n",
       "    </tr>\n",
       "    <tr>\n",
       "      <th>3</th>\n",
       "      <td>3797467345</td>\n",
       "      <td>1196621759</td>\n",
       "      <td>2019-08-15</td>\n",
       "      <td>9759</td>\n",
       "      <td>B</td>\n",
       "    </tr>\n",
       "    <tr>\n",
       "      <th>4</th>\n",
       "      <td>2282983706</td>\n",
       "      <td>2322279887</td>\n",
       "      <td>2019-08-15</td>\n",
       "      <td>2308</td>\n",
       "      <td>B</td>\n",
       "    </tr>\n",
       "    <tr>\n",
       "      <th>5</th>\n",
       "      <td>182168103</td>\n",
       "      <td>935554773</td>\n",
       "      <td>2019-08-15</td>\n",
       "      <td>2210</td>\n",
       "      <td>B</td>\n",
       "    </tr>\n",
       "  </tbody>\n",
       "</table>\n",
       "</div>"
      ],
      "text/plain": [
       "   transactionId   visitorId       date  revenue group\n",
       "0  3667963787     3312258926 2019-08-15  1650     B   \n",
       "1  2804400009     3642806036 2019-08-15  730      B   \n",
       "3  3797467345     1196621759 2019-08-15  9759     B   \n",
       "4  2282983706     2322279887 2019-08-15  2308     B   \n",
       "5  182168103      935554773  2019-08-15  2210     B   "
      ]
     },
     "execution_count": 35,
     "metadata": {},
     "output_type": "execute_result"
    }
   ],
   "source": [
    "orders.head()"
   ]
  },
  {
   "cell_type": "code",
   "execution_count": 36,
   "metadata": {},
   "outputs": [],
   "source": [
    "#соберём агрегированные кумулятивные по дням данные о заказах \n",
    "\n",
    "ordersAggregated = datesGroups. \\\n",
    "apply(lambda x: orders[np.logical_and(orders['date'] <= x['date'], orders['group'] == x['group'])] \\\n",
    ".agg({'date' : 'max', 'group' : 'max', 'transactionId' : 'nunique', 'visitorId' : 'nunique', 'revenue' : 'sum'}), axis=1).\\\n",
    "sort_values(by=['date','group'])"
   ]
  },
  {
   "cell_type": "code",
   "execution_count": 37,
   "metadata": {},
   "outputs": [],
   "source": [
    "#аналогично получим агрегированные кумулятивные по дням данные о посетителях интернет-магазина\n",
    "\n",
    "visitorsAggregated = datesGroups. \\\n",
    "apply(lambda x: visitors[np.logical_and(visitors['date'] <= x['date'], \n",
    "                                        visitors['group'] == x['group'])]. \\\n",
    "      agg({'date' : 'max', 'group' : 'max', 'visitors' : 'sum'}), \n",
    "      axis=1).sort_values(by=['date','group'])"
   ]
  },
  {
   "cell_type": "code",
   "execution_count": 38,
   "metadata": {
    "scrolled": true
   },
   "outputs": [
    {
     "data": {
      "text/html": [
       "<div>\n",
       "<style scoped>\n",
       "    .dataframe tbody tr th:only-of-type {\n",
       "        vertical-align: middle;\n",
       "    }\n",
       "\n",
       "    .dataframe tbody tr th {\n",
       "        vertical-align: top;\n",
       "    }\n",
       "\n",
       "    .dataframe thead th {\n",
       "        text-align: right;\n",
       "    }\n",
       "</style>\n",
       "<table border=\"1\" class=\"dataframe\">\n",
       "  <thead>\n",
       "    <tr style=\"text-align: right;\">\n",
       "      <th></th>\n",
       "      <th>date</th>\n",
       "      <th>group</th>\n",
       "      <th>orders</th>\n",
       "      <th>buyers</th>\n",
       "      <th>revenue</th>\n",
       "      <th>visitors</th>\n",
       "    </tr>\n",
       "  </thead>\n",
       "  <tbody>\n",
       "    <tr>\n",
       "      <th>0</th>\n",
       "      <td>2019-08-01</td>\n",
       "      <td>A</td>\n",
       "      <td>23</td>\n",
       "      <td>19</td>\n",
       "      <td>142779</td>\n",
       "      <td>719</td>\n",
       "    </tr>\n",
       "    <tr>\n",
       "      <th>1</th>\n",
       "      <td>2019-08-01</td>\n",
       "      <td>B</td>\n",
       "      <td>17</td>\n",
       "      <td>17</td>\n",
       "      <td>59758</td>\n",
       "      <td>713</td>\n",
       "    </tr>\n",
       "    <tr>\n",
       "      <th>2</th>\n",
       "      <td>2019-08-02</td>\n",
       "      <td>A</td>\n",
       "      <td>42</td>\n",
       "      <td>36</td>\n",
       "      <td>234381</td>\n",
       "      <td>1338</td>\n",
       "    </tr>\n",
       "    <tr>\n",
       "      <th>3</th>\n",
       "      <td>2019-08-02</td>\n",
       "      <td>B</td>\n",
       "      <td>40</td>\n",
       "      <td>39</td>\n",
       "      <td>221801</td>\n",
       "      <td>1294</td>\n",
       "    </tr>\n",
       "    <tr>\n",
       "      <th>4</th>\n",
       "      <td>2019-08-03</td>\n",
       "      <td>A</td>\n",
       "      <td>66</td>\n",
       "      <td>60</td>\n",
       "      <td>346854</td>\n",
       "      <td>1845</td>\n",
       "    </tr>\n",
       "  </tbody>\n",
       "</table>\n",
       "</div>"
      ],
      "text/plain": [
       "        date group  orders  buyers  revenue  visitors\n",
       "0 2019-08-01  A     23      19      142779   719     \n",
       "1 2019-08-01  B     17      17      59758    713     \n",
       "2 2019-08-02  A     42      36      234381   1338    \n",
       "3 2019-08-02  B     40      39      221801   1294    \n",
       "4 2019-08-03  A     66      60      346854   1845    "
      ]
     },
     "metadata": {},
     "output_type": "display_data"
    }
   ],
   "source": [
    "# объединяем кумулятивные данные в одной таблице и присваиваем ее столбцам понятные названия\n",
    "cumulativeData = ordersAggregated.merge(visitorsAggregated, left_on=['date', 'group'], right_on=['date', 'group'])\n",
    "cumulativeData.columns = ['date', 'group', 'orders', 'buyers', 'revenue', 'visitors']\n",
    "\n",
    "display(cumulativeData.head(5))\n"
   ]
  },
  {
   "cell_type": "code",
   "execution_count": 39,
   "metadata": {},
   "outputs": [],
   "source": [
    "# датафрейм с кумулятивным количеством заказов и кумулятивной выручкой по дням в группе А\n",
    "cumulativeRevenueA = cumulativeData[cumulativeData['group']=='A'][['date','revenue', 'orders']]\n",
    "\n",
    "# датафрейм с кумулятивным количеством заказов и кумулятивной выручкой по дням в группе B\n",
    "cumulativeRevenueB = cumulativeData[cumulativeData['group']=='B'][['date','revenue', 'orders']]"
   ]
  },
  {
   "cell_type": "code",
   "execution_count": 40,
   "metadata": {},
   "outputs": [
    {
     "data": {
      "image/png": "[encoded data removed]",
      "text/plain": [
       "<Figure size 1080x720 with 1 Axes>"
      ]
     },
     "metadata": {
      "needs_background": "light"
     },
     "output_type": "display_data"
    }
   ],
   "source": [
    "#задаём размеры графика\n",
    "plt.figure(figsize=(15, 10)) \n",
    "\n",
    "# Строим график выручки группы А\n",
    "plt.plot(cumulativeRevenueA['date'], cumulativeRevenueA['revenue'], label='A')\n",
    "\n",
    "# Строим график выручки группы B\n",
    "plt.plot(cumulativeRevenueB['date'], cumulativeRevenueB['revenue'], label='B')\n",
    "\n",
    "plt.legend()\n",
    "plt.title('Кумулятивная выручка с разбивкой по группам', fontsize= 20)\n",
    "plt.xlabel('Даты наблюдения')\n",
    "plt.ylabel('Кумулятивная сумма выручки')\n",
    "plt.xticks(rotation=45) \n",
    "plt.grid (True)\n",
    "plt.show()"
   ]
  },
  {
   "cell_type": "markdown",
   "metadata": {},
   "source": [
    "**Как видим по данному графику, кумулятивная выручка группы В демонстрирует лучшие показатели, чем выручка группы А.  \n",
    "При этом, примерно 19.08.2021г. видно резкое увеличение прибыли в группе В, что потенциально может свидетельствовать об аномалии в данных, искажающей общую каритину, например об очень дорогой покупке.  \n",
    "Впрочем, это также может свидетельствовать о всплеске количества заказов.  \n",
    "В общем и целом, выручка увеличивается по обеим группам, что является хорошим знаком.**"
   ]
  },
  {
   "cell_type": "code",
   "execution_count": null,
   "metadata": {},
   "outputs": [],
   "source": []
  },
  {
   "cell_type": "markdown",
   "metadata": {},
   "source": [
    "<div style=\"border:solid green 2px; paddind: 20px\">\n",
    "    \n",
    ">### Построим график кумулятивного среднего чека по группам."
   ]
  },
  {
   "cell_type": "code",
   "execution_count": 41,
   "metadata": {},
   "outputs": [
    {
     "data": {
      "image/png": "[encoded data removed]",
      "text/plain": [
       "<Figure size 1080x720 with 1 Axes>"
      ]
     },
     "metadata": {
      "needs_background": "light"
     },
     "output_type": "display_data"
    }
   ],
   "source": [
    "#построим графики среднего чека по группам — разделим кумулятивную выручку на кумулятивное число заказов:\n",
    "\n",
    "plt.figure(figsize=(15, 10)) \n",
    "\n",
    "\n",
    "plt.plot(cumulativeRevenueA['date'], cumulativeRevenueA['revenue']/cumulativeRevenueA['orders'], label='A')\n",
    "\n",
    "\n",
    "plt.plot(cumulativeRevenueB['date'], cumulativeRevenueB['revenue']/cumulativeRevenueB['orders'], label='B')\n",
    "\n",
    "\n",
    "\n",
    "plt.legend()\n",
    "plt.title('Кумулятивное среднее чека с разбивкой по группам', fontsize= 20)\n",
    "plt.xlabel('Даты наблюдения')\n",
    "plt.ylabel('Кумулятивное среднее чека')\n",
    "plt.xticks(rotation=45) \n",
    "plt.grid (True)\n",
    "plt.show()"
   ]
  },
  {
   "cell_type": "markdown",
   "metadata": {},
   "source": [
    "**Здесь мы видим в целом преобладание суммы среднего чека в группе В на первом этапе (до 11.08.2019), затем вперёд вырывается чек группы А (резкий пик, свидетельствующий, скорее всего о какой-то крупной покупке), после чего опять видно доминирование суммы чека группы В, сохраняющееся до конца рассматриваемого периода.  \n",
    "Обращает на себя внимание также резкий пик кумулятивного среднего чека в группе В, приходящийся на 19.08.2019, что совпадает с резким ростом кумулятивный выручки группы В именно в этот день, отображённом на предыдущем графике.**\n",
    "\n",
    "**Если говорить о картине в целом, то суммы средних чеков обеих групп идут бок о бок друг с другом, через череду сравнительно планых подьёмов и спадов, примерно с 02.08.2019г. до 19.08.2019г., когда средний чек группы В резко выврывается вперёд, после чего идёт плавное снижение, а чекгруппы А окончательно выравнивается вокруг суммы в 700000 у.е. и продолжает так следовать до конца наблюдаемого периода.**\n",
    "\n",
    "**При этом более высокая сумма чека в группе В обусловлена, в основном, именно резким пиком 19.08.2019г.**"
   ]
  },
  {
   "cell_type": "code",
   "execution_count": null,
   "metadata": {},
   "outputs": [],
   "source": []
  },
  {
   "cell_type": "markdown",
   "metadata": {},
   "source": [
    "<div style=\"border:solid green 2px; paddind: 20px\">\n",
    "    \n",
    ">### Построим график относительного изменения кумулятивного среднего чека группы B к группе A."
   ]
  },
  {
   "cell_type": "code",
   "execution_count": 42,
   "metadata": {},
   "outputs": [],
   "source": [
    "# собираем данные в одном датафрейме\n",
    "mergedCumulativeRevenue = cumulativeRevenueA.merge(cumulativeRevenueB,\n",
    "                                                   left_on='date', right_on='date',\n",
    "                                                   how='left', suffixes=['A', 'B'])"
   ]
  },
  {
   "cell_type": "code",
   "execution_count": 43,
   "metadata": {},
   "outputs": [
    {
     "data": {
      "image/png": "[encoded data removed]",
      "text/plain": [
       "<Figure size 1080x720 with 1 Axes>"
      ]
     },
     "metadata": {
      "needs_background": "light"
     },
     "output_type": "display_data"
    }
   ],
   "source": [
    "# cтроим отношение средних чеков\n",
    "plt.figure(figsize=(15, 10)) \n",
    "plt.plot(mergedCumulativeRevenue['date'],\n",
    "         (mergedCumulativeRevenue['revenueB']/mergedCumulativeRevenue['ordersB'])/(mergedCumulativeRevenue['revenueA']/mergedCumulativeRevenue['ordersA'])-1)\n",
    "\n",
    "# добавляем ось X\n",
    "plt.axhline(y=0, color='black', linestyle='--')\n",
    "\n",
    "plt.title('Относительное изменение кумулятивного среднего чека группы B к группе A', fontsize= 20)\n",
    "plt.xlabel('Даты наблюдения')\n",
    "plt.ylabel('Отношение среднего чека группы А к группе В')\n",
    "plt.xticks(rotation=45) \n",
    "plt.grid (True)\n",
    "plt.show()\n"
   ]
  },
  {
   "cell_type": "markdown",
   "metadata": {},
   "source": [
    "**График нестабилен, данные характеризуются наличием 'пиков' и 'провалов'.  \n",
    "До 07 августа средний чек группы В демонстрирует в целом лучшие показатели, чем в группе А, после чего ситуация меняется на обратную - резкий обвал с пиком 13 августа (доминирует чек группы А).  \n",
    "Затем - уже знакомый нам резкий взлёт группы В, произошедший 19 августа, после чего - плавное снижение чека в пользу группы А до конца исследуемого периода.  \n",
    "Общая картина свидетельствует о наличии аномалий - отдельных крупных покупках, либо об их массовых всплесках в отдельные периоды.**"
   ]
  },
  {
   "cell_type": "code",
   "execution_count": null,
   "metadata": {},
   "outputs": [],
   "source": []
  },
  {
   "cell_type": "markdown",
   "metadata": {},
   "source": [
    "<div style=\"border:solid green 2px; paddind: 20px\">\n",
    "    \n",
    ">### Построим график кумулятивного среднего количества заказов на посетителя по группам."
   ]
  },
  {
   "cell_type": "code",
   "execution_count": 44,
   "metadata": {},
   "outputs": [],
   "source": [
    "# датафрейм с кумулятивным количеством заказов и кумулятивным количеством посетителей по дням в группе А\n",
    "cumulativeOrdBye_A = cumulativeData[cumulativeData['group']=='A'][['date', 'orders', 'visitors']]\n",
    "\n",
    "# датафрейм с кумулятивным количеством заказов и кумулятивным количеством посетителей по дням в группе В\n",
    "cumulativeOrdBye_B = cumulativeData[cumulativeData['group']=='B'][['date', 'orders', 'visitors']]"
   ]
  },
  {
   "cell_type": "code",
   "execution_count": 45,
   "metadata": {},
   "outputs": [],
   "source": [
    "#добавим столбец с показателем среднего количества заказов на посетителя по группам\n",
    "\n",
    "cumulativeOrdBye_A['average_orders'] = cumulativeOrdBye_A['orders'] / cumulativeOrdBye_A['visitors']\n",
    "\n",
    "cumulativeOrdBye_B['average_orders'] = cumulativeOrdBye_B['orders'] / cumulativeOrdBye_B['visitors']"
   ]
  },
  {
   "cell_type": "code",
   "execution_count": 46,
   "metadata": {},
   "outputs": [
    {
     "data": {
      "image/png": "[encoded data removed]",
      "text/plain": [
       "<Figure size 1080x720 with 1 Axes>"
      ]
     },
     "metadata": {
      "needs_background": "light"
     },
     "output_type": "display_data"
    }
   ],
   "source": [
    "#построим график кумулятивного среднего количества заказов на посетителя по группам\n",
    "\n",
    "plt.figure(figsize=(15, 10)) \n",
    "\n",
    "\n",
    "plt.plot(cumulativeOrdBye_A['date'], cumulativeOrdBye_A['average_orders'], label='A')\n",
    "\n",
    "\n",
    "plt.plot(cumulativeOrdBye_B['date'], cumulativeOrdBye_B['average_orders'], label='B')\n",
    "\n",
    "\n",
    "\n",
    "plt.legend()\n",
    "plt.title('Кумулятивное среднее количества заказов на посетителя по группам', fontsize= 20)\n",
    "plt.xlabel('Даты наблюдения')\n",
    "plt.ylabel('Кумулятивное среднее количества заказов')\n",
    "plt.xticks(rotation=45) \n",
    "plt.grid (True)\n",
    "plt.show()\n",
    "\n"
   ]
  },
  {
   "cell_type": "markdown",
   "metadata": {},
   "source": [
    "**На получившемся графике мы видим синхронный всплеск среднего количества заказов на начальном этапе у обеих групп, приходящийся на 2 и 3 августа, соответственно, после чего столь же синхронное падение.  \n",
    "У группы В этот спад продлился до 4 августа, сменившись стремительным подъёмом, группа А же продолжила падение аж до 15 августа, посе чего траектория и стала демонстрировать рисунок \"зубьев пилы\" - небольшие взлёты, сменяющиеся небольшими провалами.**\n",
    "\n",
    "**До шестого августа лучшие результаты по среднему количеству заказов демонстрировала группа А, но начиная с 6 августа, после резкого взлёта, группа В последовательно демонстрировала более высокие показатели до конца наблюдаемого периода.**\n",
    "\n",
    "**Можно предположить, что резкие колебания на начальном этапе могут быть объяснены недостаточным объёмом накопленных кумулятивных данных, демонcтрируя, таким образом, \"проблему подглядывания\" - выраженную динамику показателей на первых этапах эксперимента (в пользу этой версии свидетельствует и выровняшийся впоследствии рисунок линии у обеих групп).  \n",
    "Вместе с тем, это может быть объяснено и всплесками покупок, совпашими с проведением, маркетинговой кампании, к примеру, хотя подобные кампании должны изучаться отдельно.**\n",
    "\n",
    "**Отдельно стоит отметить тот факт, что мы не видим резкого всплеска покупок в группе В в районе 19.08.2019г.  \n",
    "Это позволяет нам, исключить влияние этого фактора на резкий пик кумулятивного среднего чека группы В в этот период, который мы наблюадали ранее. Причина, возможно, в крупной (или нескольких крупных, произошедших синхронно) единоразовой покупке.**"
   ]
  },
  {
   "cell_type": "code",
   "execution_count": null,
   "metadata": {},
   "outputs": [],
   "source": []
  },
  {
   "cell_type": "markdown",
   "metadata": {},
   "source": [
    "<div style=\"border:solid green 2px; paddind: 20px\">\n",
    "    \n",
    ">### Построим график относительного изменения кумулятивного среднего количества заказов на посетителя группы B к группе A."
   ]
  },
  {
   "cell_type": "code",
   "execution_count": 47,
   "metadata": {},
   "outputs": [
    {
     "data": {
      "image/png": "[encoded data removed]",
      "text/plain": [
       "<Figure size 1296x864 with 1 Axes>"
      ]
     },
     "metadata": {
      "needs_background": "light"
     },
     "output_type": "display_data"
    }
   ],
   "source": [
    "#построим график относительного различия кумулятивных средних двух групп:\n",
    "\n",
    "mergedCumulativeOrdBye = cumulativeOrdBye_A[['date','average_orders']]. \\\n",
    "merge(cumulativeOrdBye_B[['date','average_orders']], \\\n",
    "      left_on='date', right_on='date', how='left', suffixes=['A', 'B'])\n",
    "\n",
    "\n",
    "plt.figure(figsize=(18, 12))\n",
    "\n",
    "plt.plot(mergedCumulativeOrdBye['date'],\n",
    "         mergedCumulativeOrdBye['average_ordersB']/mergedCumulativeOrdBye['average_ordersA']-1,\n",
    "         label=\"Относительный прирост среднего группы B относительно группы A\")\n",
    "\n",
    "plt.legend()\n",
    "\n",
    "plt.axhline(y=0, color='black', linestyle='--')\n",
    "plt.title('Относительное изменение кумулятивного среднего количества заказов на посетителя группы B к группе A',\n",
    "          fontsize= 20)\n",
    "plt.xlabel('Даты наблюдения')\n",
    "plt.ylabel('Отношение среднего количесвта заазов группы А к группе В')\n",
    "\n",
    "plt.xticks(rotation=45) \n",
    "plt.grid (True)\n",
    "plt.show()\n",
    "\n"
   ]
  },
  {
   "cell_type": "markdown",
   "metadata": {},
   "source": [
    "**На представленном графике мы можем видеть описанную выше картину, но в более наглядном исполнении.  \n",
    "До 2 августа группа В демонстрировала лучшие результаты, после чего более последовал провал до 4 августа. Затем стремитеьный рост показателей группы В.  \n",
    "Начиная с 10.08.2019 г. график стабилизировался и до конца периода группа В демонстрировала неизменно более высокий уровень заказов на одного посетителя.**"
   ]
  },
  {
   "cell_type": "code",
   "execution_count": null,
   "metadata": {},
   "outputs": [],
   "source": []
  },
  {
   "cell_type": "markdown",
   "metadata": {},
   "source": [
    "<div style=\"border:solid green 2px; paddind: 20px\">\n",
    "    \n",
    ">### Построим точечный график количества заказов по пользователям."
   ]
  },
  {
   "cell_type": "code",
   "execution_count": 48,
   "metadata": {},
   "outputs": [],
   "source": [
    "#построим таблицу с количеством заказов для каждого пользователя\n",
    "\n",
    "number_of_orders = orders.groupby('visitorId').agg(count_orders=('transactionId', 'count'))"
   ]
  },
  {
   "cell_type": "code",
   "execution_count": 49,
   "metadata": {},
   "outputs": [
    {
     "data": {
      "image/png": "[encoded data removed]",
      "text/plain": [
       "<Figure size 1080x720 with 1 Axes>"
      ]
     },
     "metadata": {
      "needs_background": "light"
     },
     "output_type": "display_data"
    }
   ],
   "source": [
    "#в переменную x_values внесём значения от 0 до размера получившейся выше таблицы и определим переменную в ось Х\n",
    "\n",
    "x_values = pd.Series(range(0,len(number_of_orders['count_orders'])))\n",
    "\n",
    "plt.figure(figsize=(15, 10))\n",
    "plt.scatter(x_values, number_of_orders['count_orders']) \n",
    "\n",
    "plt.title('Количество заказов по пользователям (общие данные)', fontsize= 20)\n",
    "plt.xlabel('Пользователи')\n",
    "plt.ylabel('Количество заказов')\n",
    "plt.show()"
   ]
  },
  {
   "cell_type": "markdown",
   "metadata": {},
   "source": [
    "**На получившемся графике явственно можем видеть, что подавляющее большинство пользователей сделало один заказ, ощутимо меньшее количество - два заказа и всего несколько пользователей - три заказа.  \n",
    "Можно сделать вывод, что в плане удержания пользователей интернет-магазину есть над чем работать.**"
   ]
  },
  {
   "cell_type": "code",
   "execution_count": null,
   "metadata": {},
   "outputs": [],
   "source": []
  },
  {
   "cell_type": "markdown",
   "metadata": {},
   "source": [
    "<div style=\"border:solid green 2px; paddind: 20px\">\n",
    "    \n",
    ">### Посчитаем 95-й и 99-й перцентили количества заказов на пользователя."
   ]
  },
  {
   "cell_type": "markdown",
   "metadata": {},
   "source": [
    "**Для вычисления перцентилей используем метод percentile() библиотеки Numpy:**"
   ]
  },
  {
   "cell_type": "code",
   "execution_count": 50,
   "metadata": {},
   "outputs": [
    {
     "name": "stdout",
     "output_type": "stream",
     "text": [
      "Девяносто пятый перцентиль равен 1.0\n",
      "Девяносто девятый перцентиль равен 2.0\n"
     ]
    }
   ],
   "source": [
    "print('Девяносто пятый перцентиль равен {}'.format(np.percentile(number_of_orders['count_orders'], 95)))\n",
    "print('Девяносто девятый перцентиль равен {}'.format(np.percentile(number_of_orders['count_orders'], 99)))"
   ]
  },
  {
   "cell_type": "markdown",
   "metadata": {},
   "source": [
    "**Таким образом свыше одного заказа делают лишь 5% пользователей, а свыше  двух - лишь один процент.**"
   ]
  },
  {
   "cell_type": "code",
   "execution_count": null,
   "metadata": {},
   "outputs": [],
   "source": []
  },
  {
   "cell_type": "markdown",
   "metadata": {},
   "source": [
    "<div style=\"border:solid green 2px; paddind: 20px\">\n",
    "    \n",
    ">### Построим точечный график стоимостей заказов."
   ]
  },
  {
   "cell_type": "code",
   "execution_count": 51,
   "metadata": {
    "scrolled": false
   },
   "outputs": [
    {
     "data": {
      "image/png": "[encoded data removed]",
      "text/plain": [
       "<Figure size 1080x720 with 1 Axes>"
      ]
     },
     "metadata": {
      "needs_background": "light"
     },
     "output_type": "display_data"
    }
   ],
   "source": [
    "x_values = pd.Series(range(0,len(orders['revenue'])))\n",
    "\n",
    "plt.figure(figsize=(15, 10))\n",
    "plt.scatter(x_values, orders['revenue'])\n",
    "\n",
    "plt.title('Стоимости заказов по общим данным', fontsize= 20)\n",
    "plt.xlabel('Пользователи')\n",
    "plt.ylabel('Стоимость заказов')\n",
    "\n",
    "plt.show()"
   ]
  },
  {
   "cell_type": "markdown",
   "metadata": {},
   "source": [
    "**Видим явные выбросы на фоне основной массы покупок - один заказ на 200 000, и один на 1 300 000.**\n",
    "\n",
    "**Посмотрим, к какой группе относились покупатели, совершившие столь крупные покупки:**"
   ]
  },
  {
   "cell_type": "code",
   "execution_count": 52,
   "metadata": {},
   "outputs": [
    {
     "data": {
      "text/html": [
       "<div>\n",
       "<style scoped>\n",
       "    .dataframe tbody tr th:only-of-type {\n",
       "        vertical-align: middle;\n",
       "    }\n",
       "\n",
       "    .dataframe tbody tr th {\n",
       "        vertical-align: top;\n",
       "    }\n",
       "\n",
       "    .dataframe thead th {\n",
       "        text-align: right;\n",
       "    }\n",
       "</style>\n",
       "<table border=\"1\" class=\"dataframe\">\n",
       "  <thead>\n",
       "    <tr style=\"text-align: right;\">\n",
       "      <th></th>\n",
       "      <th>transactionId</th>\n",
       "      <th>visitorId</th>\n",
       "      <th>date</th>\n",
       "      <th>revenue</th>\n",
       "      <th>group</th>\n",
       "    </tr>\n",
       "  </thead>\n",
       "  <tbody>\n",
       "    <tr>\n",
       "      <th>425</th>\n",
       "      <td>590470918</td>\n",
       "      <td>1920142716</td>\n",
       "      <td>2019-08-19</td>\n",
       "      <td>1294500</td>\n",
       "      <td>B</td>\n",
       "    </tr>\n",
       "    <tr>\n",
       "      <th>1196</th>\n",
       "      <td>3936777065</td>\n",
       "      <td>2108080724</td>\n",
       "      <td>2019-08-15</td>\n",
       "      <td>202740</td>\n",
       "      <td>B</td>\n",
       "    </tr>\n",
       "  </tbody>\n",
       "</table>\n",
       "</div>"
      ],
      "text/plain": [
       "      transactionId   visitorId       date  revenue group\n",
       "425   590470918      1920142716 2019-08-19  1294500  B   \n",
       "1196  3936777065     2108080724 2019-08-15  202740   B   "
      ]
     },
     "execution_count": 52,
     "metadata": {},
     "output_type": "execute_result"
    }
   ],
   "source": [
    "orders[orders['revenue'] > 150000]"
   ]
  },
  {
   "cell_type": "markdown",
   "metadata": {},
   "source": [
    "**Как видим, оба \"аномальных\" покупателя относятся к группе В.  \n",
    "Дата совершения самой крупной покупки в 1 294 500 у.е. при этом совпадает с резким скачком кумулятивного показателя среднего чека в группе В, а именно - 19.08.2019г., который мы наблюдали ранее на графиках.  \n",
    "Учитывая то, что мы ранее исключили обусловленность данного скачка резким всплеском продаж, вероятно именно данная покупка столь существенно изказила данные.  \n",
    "Учтём этот факт для дальнейшего анализа.**"
   ]
  },
  {
   "cell_type": "code",
   "execution_count": 53,
   "metadata": {},
   "outputs": [
    {
     "data": {
      "image/png": "[encoded data removed]",
      "text/plain": [
       "<Figure size 1080x720 with 1 Axes>"
      ]
     },
     "metadata": {
      "needs_background": "light"
     },
     "output_type": "display_data"
    }
   ],
   "source": [
    "#уменьшим диапазон рассматриваемой стоимости для большей наглядности\n",
    "\n",
    "x_values = pd.Series(range(0,len(orders['revenue'])))\n",
    "\n",
    "plt.figure(figsize=(15, 10))\n",
    "plt.scatter(x_values, orders['revenue'])\n",
    "\n",
    "plt.title('Стоимости заказов по общим данным', fontsize= 20)\n",
    "plt.xlabel('Пользователи')\n",
    "plt.ylabel('Стоимость заказов')\n",
    "plt.ylim ([0, 100000])\n",
    "plt.show()"
   ]
  },
  {
   "cell_type": "markdown",
   "metadata": {},
   "source": [
    "**Визуально можем отметить, что подавляющая масса покупок не превышает сумму в 20000 условных единиц.**"
   ]
  },
  {
   "cell_type": "code",
   "execution_count": null,
   "metadata": {},
   "outputs": [],
   "source": []
  },
  {
   "cell_type": "markdown",
   "metadata": {},
   "source": [
    "<div style=\"border:solid green 2px; paddind: 20px\">\n",
    "    \n",
    ">### Посчитаем 95-й и 99-й перцентили стоимости заказов."
   ]
  },
  {
   "cell_type": "code",
   "execution_count": 54,
   "metadata": {},
   "outputs": [
    {
     "name": "stdout",
     "output_type": "stream",
     "text": [
      "Девяносто пятый перцентиль равен 26785.0\n",
      "Девяносто девятый перцентиль равен 53904.0\n"
     ]
    }
   ],
   "source": [
    "print('Девяносто пятый перцентиль равен {}'.format(np.percentile(orders['revenue'], 95)))\n",
    "print('Девяносто девятый перцентиль равен {}'.format(np.percentile(orders['revenue'], 99)))"
   ]
  },
  {
   "cell_type": "markdown",
   "metadata": {},
   "source": [
    "**Итак, сумма заказа свыше 26785 у.е.присутствует не более, чем у 5% покупателей, а сумма свыше 53904 у.е. - не более, чем у 1%.**"
   ]
  },
  {
   "cell_type": "code",
   "execution_count": null,
   "metadata": {},
   "outputs": [],
   "source": []
  },
  {
   "cell_type": "markdown",
   "metadata": {},
   "source": [
    "<div style=\"border:solid green 2px; paddind: 20px\">\n",
    "    \n",
    ">### Посчитаем статистическую значимость различий в среднем количестве заказов на посетителя между группами по «сырым» данным."
   ]
  },
  {
   "cell_type": "markdown",
   "metadata": {},
   "source": [
    "**Для начала обработаем данные из датасетов visitors и orders, сделаем ряд преобразований и сформируем результаты в одну сводную таблицу, с целью дальнейшего анализа получившихся данных:**"
   ]
  },
  {
   "cell_type": "code",
   "execution_count": 55,
   "metadata": {},
   "outputs": [],
   "source": [
    "#сформируем таблицу с датами и количеством посетителей для группы 'A'\n",
    "\n",
    "visitorsADaily = visitors[visitors['group'] == 'A'][['date', 'visitors']]\n",
    "visitorsADaily.columns = ['date', 'visitorsPerDateA']"
   ]
  },
  {
   "cell_type": "code",
   "execution_count": 56,
   "metadata": {},
   "outputs": [],
   "source": [
    "#сформируем таблицу с датами и соответствующим показателем кумулятивного количества посетителей на каждую дату\n",
    "#для группы 'A'\n",
    "\n",
    "visitorsACummulative = visitorsADaily.apply(\n",
    "    lambda x: visitorsADaily[visitorsADaily['date'] <= x['date']].agg(\n",
    "        {'date': 'max', 'visitorsPerDateA': 'sum'}\n",
    "    ),\n",
    "    axis=1,\n",
    ")\n",
    "visitorsACummulative.columns = ['date', 'visitorsCummulativeA']"
   ]
  },
  {
   "cell_type": "code",
   "execution_count": 57,
   "metadata": {},
   "outputs": [],
   "source": [
    "#сформируем таблицу с датами и количеством посетителей для группы 'A'\n",
    "\n",
    "visitorsBDaily = visitors[visitors['group'] == 'B'][['date', 'visitors']]\n",
    "visitorsBDaily.columns = ['date', 'visitorsPerDateB']"
   ]
  },
  {
   "cell_type": "code",
   "execution_count": 58,
   "metadata": {},
   "outputs": [],
   "source": [
    "#сформируем таблицу с датами и соответствующим показателем кумулятивного количества посетителей на каждую дату\n",
    "#для группы 'B'\n",
    "\n",
    "visitorsBCummulative = visitorsBDaily.apply(\n",
    "    lambda x: visitorsBDaily[visitorsBDaily['date'] <= x['date']].agg(\n",
    "        {'date': 'max', 'visitorsPerDateB': 'sum'}\n",
    "    ),\n",
    "    axis=1,\n",
    ")\n",
    "visitorsBCummulative.columns = ['date', 'visitorsCummulativeB']"
   ]
  },
  {
   "cell_type": "code",
   "execution_count": 59,
   "metadata": {},
   "outputs": [],
   "source": [
    "#сформируем таблицу с датами, количеством покупок и суммой покупок для кажой даты для группы 'А'\n",
    "\n",
    "ordersADaily = (\n",
    "    orders[orders['group'] == 'A'][['date', 'transactionId', 'visitorId', 'revenue']]\n",
    "    .groupby('date', as_index=False)\n",
    "    .agg({'transactionId': pd.Series.nunique, 'revenue': 'sum'})\n",
    ")\n",
    "ordersADaily.columns = ['date', 'ordersPerDateA', 'revenuePerDateA']"
   ]
  },
  {
   "cell_type": "code",
   "execution_count": 60,
   "metadata": {},
   "outputs": [],
   "source": [
    "#сформируем таблицу с датами и соответствующими показателями кумулятивного количества покупок\n",
    "#и кумулятивной суммой на каждую дату для группы 'A'\n",
    "\n",
    "ordersACummulative = ordersADaily.apply(\n",
    "    lambda x: ordersADaily[ordersADaily['date'] <= x['date']].agg(\n",
    "        {'date': 'max', 'ordersPerDateA': 'sum', 'revenuePerDateA': 'sum'}\n",
    "    ),\n",
    "    axis=1,\n",
    ").sort_values(by=['date'])\n",
    "ordersACummulative.columns = [\n",
    "    'date',\n",
    "    'ordersCummulativeA',\n",
    "    'revenueCummulativeA',\n",
    "]"
   ]
  },
  {
   "cell_type": "code",
   "execution_count": 61,
   "metadata": {},
   "outputs": [],
   "source": [
    "#сформируем таблицу с датами, количеством покупок и суммой покупок для кажой даты для группы 'В'\n",
    "\n",
    "ordersBDaily = (\n",
    "    orders[orders['group'] == 'B'][['date', 'transactionId', 'visitorId', 'revenue']]\n",
    "    .groupby('date', as_index=False)\n",
    "    .agg({'transactionId': pd.Series.nunique, 'revenue': 'sum'})\n",
    ")\n",
    "ordersBDaily.columns = ['date', 'ordersPerDateB', 'revenuePerDateB']"
   ]
  },
  {
   "cell_type": "code",
   "execution_count": 62,
   "metadata": {},
   "outputs": [],
   "source": [
    "#сформируем таблицу с датами и соответствующими показателями кумулятивного количества покупок\n",
    "#и кумулятивной суммой на каждую дату для группы 'В'\n",
    "\n",
    "ordersBCummulative = ordersBDaily.apply(\n",
    "    lambda x: ordersBDaily[ordersBDaily['date'] <= x['date']].agg(\n",
    "        {'date': 'max', 'ordersPerDateB': 'sum', 'revenuePerDateB': 'sum'}\n",
    "    ),\n",
    "    axis=1,\n",
    ").sort_values(by=['date'])\n",
    "ordersBCummulative.columns = [\n",
    "    'date',\n",
    "    'ordersCummulativeB',\n",
    "    'revenueCummulativeB',\n",
    "]"
   ]
  },
  {
   "cell_type": "code",
   "execution_count": 63,
   "metadata": {},
   "outputs": [
    {
     "data": {
      "text/html": [
       "<div>\n",
       "<style scoped>\n",
       "    .dataframe tbody tr th:only-of-type {\n",
       "        vertical-align: middle;\n",
       "    }\n",
       "\n",
       "    .dataframe tbody tr th {\n",
       "        vertical-align: top;\n",
       "    }\n",
       "\n",
       "    .dataframe thead th {\n",
       "        text-align: right;\n",
       "    }\n",
       "</style>\n",
       "<table border=\"1\" class=\"dataframe\">\n",
       "  <thead>\n",
       "    <tr style=\"text-align: right;\">\n",
       "      <th></th>\n",
       "      <th>date</th>\n",
       "      <th>ordersPerDateA</th>\n",
       "      <th>revenuePerDateA</th>\n",
       "      <th>ordersPerDateB</th>\n",
       "      <th>revenuePerDateB</th>\n",
       "      <th>ordersCummulativeA</th>\n",
       "      <th>revenueCummulativeA</th>\n",
       "      <th>ordersCummulativeB</th>\n",
       "      <th>revenueCummulativeB</th>\n",
       "      <th>visitorsPerDateA</th>\n",
       "      <th>visitorsPerDateB</th>\n",
       "      <th>visitorsCummulativeA</th>\n",
       "      <th>visitorsCummulativeB</th>\n",
       "    </tr>\n",
       "  </thead>\n",
       "  <tbody>\n",
       "    <tr>\n",
       "      <th>0</th>\n",
       "      <td>2019-08-01</td>\n",
       "      <td>23</td>\n",
       "      <td>142779</td>\n",
       "      <td>17</td>\n",
       "      <td>59758</td>\n",
       "      <td>23</td>\n",
       "      <td>142779</td>\n",
       "      <td>17</td>\n",
       "      <td>59758</td>\n",
       "      <td>719</td>\n",
       "      <td>713</td>\n",
       "      <td>719</td>\n",
       "      <td>713</td>\n",
       "    </tr>\n",
       "    <tr>\n",
       "      <th>1</th>\n",
       "      <td>2019-08-02</td>\n",
       "      <td>19</td>\n",
       "      <td>91602</td>\n",
       "      <td>23</td>\n",
       "      <td>162043</td>\n",
       "      <td>42</td>\n",
       "      <td>234381</td>\n",
       "      <td>40</td>\n",
       "      <td>221801</td>\n",
       "      <td>619</td>\n",
       "      <td>581</td>\n",
       "      <td>1338</td>\n",
       "      <td>1294</td>\n",
       "    </tr>\n",
       "    <tr>\n",
       "      <th>2</th>\n",
       "      <td>2019-08-03</td>\n",
       "      <td>24</td>\n",
       "      <td>112473</td>\n",
       "      <td>14</td>\n",
       "      <td>67049</td>\n",
       "      <td>66</td>\n",
       "      <td>346854</td>\n",
       "      <td>54</td>\n",
       "      <td>288850</td>\n",
       "      <td>507</td>\n",
       "      <td>509</td>\n",
       "      <td>1845</td>\n",
       "      <td>1803</td>\n",
       "    </tr>\n",
       "    <tr>\n",
       "      <th>3</th>\n",
       "      <td>2019-08-04</td>\n",
       "      <td>11</td>\n",
       "      <td>41176</td>\n",
       "      <td>14</td>\n",
       "      <td>96890</td>\n",
       "      <td>77</td>\n",
       "      <td>388030</td>\n",
       "      <td>68</td>\n",
       "      <td>385740</td>\n",
       "      <td>717</td>\n",
       "      <td>770</td>\n",
       "      <td>2562</td>\n",
       "      <td>2573</td>\n",
       "    </tr>\n",
       "    <tr>\n",
       "      <th>4</th>\n",
       "      <td>2019-08-05</td>\n",
       "      <td>22</td>\n",
       "      <td>86383</td>\n",
       "      <td>21</td>\n",
       "      <td>89908</td>\n",
       "      <td>99</td>\n",
       "      <td>474413</td>\n",
       "      <td>89</td>\n",
       "      <td>475648</td>\n",
       "      <td>756</td>\n",
       "      <td>707</td>\n",
       "      <td>3318</td>\n",
       "      <td>3280</td>\n",
       "    </tr>\n",
       "  </tbody>\n",
       "</table>\n",
       "</div>"
      ],
      "text/plain": [
       "        date  ordersPerDateA  revenuePerDateA  ordersPerDateB  \\\n",
       "0 2019-08-01  23              142779           17               \n",
       "1 2019-08-02  19              91602            23               \n",
       "2 2019-08-03  24              112473           14               \n",
       "3 2019-08-04  11              41176            14               \n",
       "4 2019-08-05  22              86383            21               \n",
       "\n",
       "   revenuePerDateB  ordersCummulativeA  revenueCummulativeA  \\\n",
       "0  59758            23                  142779                \n",
       "1  162043           42                  234381                \n",
       "2  67049            66                  346854                \n",
       "3  96890            77                  388030                \n",
       "4  89908            99                  474413                \n",
       "\n",
       "   ordersCummulativeB  revenueCummulativeB  visitorsPerDateA  \\\n",
       "0  17                  59758                719                \n",
       "1  40                  221801               619                \n",
       "2  54                  288850               507                \n",
       "3  68                  385740               717                \n",
       "4  89                  475648               756                \n",
       "\n",
       "   visitorsPerDateB  visitorsCummulativeA  visitorsCummulativeB  \n",
       "0  713               719                   713                   \n",
       "1  581               1338                  1294                  \n",
       "2  509               1845                  1803                  \n",
       "3  770               2562                  2573                  \n",
       "4  707               3318                  3280                  "
      ]
     },
     "metadata": {},
     "output_type": "display_data"
    }
   ],
   "source": [
    "#объединим все получившиеся таблицы в одну сводную по датам и посмотрим её первые строки\n",
    "\n",
    "data = (\n",
    "    ordersADaily.merge(\n",
    "        ordersBDaily, left_on='date', right_on='date', how='left'\n",
    "    )\n",
    "    .merge(ordersACummulative, left_on='date', right_on='date', how='left')\n",
    "    .merge(ordersBCummulative, left_on='date', right_on='date', how='left')\n",
    "    .merge(visitorsADaily, left_on='date', right_on='date', how='left')\n",
    "    .merge(visitorsBDaily, left_on='date', right_on='date', how='left')\n",
    "    .merge(visitorsACummulative, left_on='date', right_on='date', how='left')\n",
    "    .merge(visitorsBCummulative, left_on='date', right_on='date', how='left')\n",
    ")\n",
    "\n",
    "display(data.head())"
   ]
  },
  {
   "cell_type": "markdown",
   "metadata": {},
   "source": [
    "**Создадим переменные ordersByUsersA и ordersByUsersB. В них для пользователей, которые заказывали хотя бы 1 раз, укажем число совершённых заказов:**"
   ]
  },
  {
   "cell_type": "code",
   "execution_count": 64,
   "metadata": {},
   "outputs": [],
   "source": [
    "ordersByUsersA = (\n",
    "    orders[orders['group'] == 'A']\n",
    "    .groupby('visitorId', as_index=False)\n",
    "    .agg({'transactionId': pd.Series.nunique})\n",
    ")\n",
    "ordersByUsersA.columns = ['userId', 'orders']\n",
    "\n",
    "ordersByUsersB = (\n",
    "    orders[orders['group'] == 'B']\n",
    "    .groupby('visitorId', as_index=False)\n",
    "    .agg({'transactionId': pd.Series.nunique})\n",
    ")\n",
    "ordersByUsersB.columns = ['userId', 'orders']"
   ]
  },
  {
   "cell_type": "markdown",
   "metadata": {},
   "source": [
    "**Объявим переменные sampleA и sampleB, в которых пользователям из разных групп будет соответствовать количество заказов. Тем, кто ничего не заказал, будут соответствовать нули. Это нужно, чтобы подготовить выборки к проверке критерием Манна-Уитни.**"
   ]
  },
  {
   "cell_type": "code",
   "execution_count": 65,
   "metadata": {},
   "outputs": [],
   "source": [
    "#формируем списки посетителей, который ничего не заказали, выставляем им нули в количестве заказов\n",
    "#затем соединяем посредством pd.concat с ранее полученными списками клиентов с ненулевым количеством заказов\n",
    "\n",
    "sampleA = pd.concat([ordersByUsersA['orders'],\n",
    "                     pd.Series(0, index=np.arange(data['visitorsPerDateA'].sum() - len(ordersByUsersA['orders'])),\n",
    "                               name='orders')],axis=0)\n",
    "\n",
    "sampleB = pd.concat([ordersByUsersB['orders'],\n",
    "                     pd.Series(0, index=np.arange(data['visitorsPerDateB'].sum() - len(ordersByUsersB['orders'])),\n",
    "                               name='orders')],axis=0)"
   ]
  },
  {
   "cell_type": "markdown",
   "metadata": {},
   "source": [
    "**Затем применим критерий Манна-Уитни для проверки статистической значимости возможных различий групп А и Б.**\n",
    "\n",
    "**В качестве нулевой гипотезы (H₀) возьмём предположение о том, что различий в среднем числе заказов между группами нет. Альтернативная гипотеза: различия в среднем числе заказов между группами есть.**\n",
    "\n",
    "**Определим уровень статистической значимости alpha в 0,05.**\n",
    "\n",
    "**Чтобы получить среднее число заказов на пользователя, поделим сумму заказов на число пользователей — найдём среднее в выборке sampleA методом mean(). Аналогично найдём среднее группы B:**"
   ]
  },
  {
   "cell_type": "code",
   "execution_count": 66,
   "metadata": {},
   "outputs": [
    {
     "name": "stdout",
     "output_type": "stream",
     "text": [
      "P-value равно 0.011\n",
      "Относительный прирост равен 0.160\n"
     ]
    }
   ],
   "source": [
    "print(\"P-value равно {0:.3f}\".format(stats.mannwhitneyu(sampleA, sampleB)[1]))\n",
    "\n",
    "print(\"Относительный прирост равен {0:.3f}\".format(sampleB.mean() / sampleA.mean() - 1))"
   ]
  },
  {
   "cell_type": "markdown",
   "metadata": {},
   "source": [
    "**По «сырым» обнаружены различия в среднем числе заказов групп A и B. \n",
    "Первое число — p-value = 0.011 меньше 0.05. Значит, нулевую гипотезу о том, что статистически значимых различий в среднем числе заказов между группами нет, мы отвергаем.  \n",
    "Относительный выигрыш группы B равен 16% — достаточно значимый показатель.**\n",
    "\n",
    "**Нужно учитывать, что анализируемые данные здесь не очищены от выбросов, способных существенно повлиять на общую картину. Ими мы займёмся далее.**"
   ]
  },
  {
   "cell_type": "code",
   "execution_count": null,
   "metadata": {},
   "outputs": [],
   "source": []
  },
  {
   "cell_type": "markdown",
   "metadata": {},
   "source": [
    "<div style=\"border:solid green 2px; paddind: 20px\">\n",
    "    \n",
    ">### Посчитаем статистическую значимость различий в среднем чеке заказа между группами по «сырым» данным."
   ]
  },
  {
   "cell_type": "markdown",
   "metadata": {},
   "source": [
    "**Чтобы рассчитать статистическую значимость различий в среднем чеке, передадим критерию mannwhitneyu() данные о выручке с заказов.**\n",
    "\n",
    "**В качестве нулевой гипотезы (H₀) возьмём предположение о том, что различий в среднем чеке между группами нет. Альтернативная гипотеза: различия в среднем чеке между группами есть.**\n",
    "\n",
    "**Определим уровень статистической значимости alpha в 0,05.**\n",
    "**Также найдём относительные различия в среднем чеке между группами.**"
   ]
  },
  {
   "cell_type": "code",
   "execution_count": 67,
   "metadata": {},
   "outputs": [
    {
     "name": "stdout",
     "output_type": "stream",
     "text": [
      "P-value равно 0.829\n",
      "Относительный прирост равен 0.287\n"
     ]
    }
   ],
   "source": [
    "print('P-value равно {0:.3f}'.format(stats.mannwhitneyu(orders[orders['group']=='A']['revenue'],\n",
    "                                          orders[orders['group']=='B']['revenue'])[1]))\n",
    "\n",
    "print('Относительный прирост равен {0:.3f}'.format(orders[orders['group']=='B']['revenue'].mean()/orders[orders['group']=='A']['revenue'].mean()-1))"
   ]
  },
  {
   "cell_type": "markdown",
   "metadata": {},
   "source": [
    "**P-value значительно больше 0.05. Значит, причин отвергать нулевую гипотезу и считать, что в среднем чеке есть различия, нет.  \n",
    "При этом, средний чек группы B выше среднего чека группы A (почти на 29%).**"
   ]
  },
  {
   "cell_type": "code",
   "execution_count": null,
   "metadata": {},
   "outputs": [],
   "source": []
  },
  {
   "cell_type": "markdown",
   "metadata": {},
   "source": [
    "<div style=\"border:solid green 2px; paddind: 20px\">\n",
    "    \n",
    ">### Посчитаем статистическую значимость различий в среднем количестве заказов на посетителя между группами по «очищенным» данным."
   ]
  },
  {
   "cell_type": "markdown",
   "metadata": {},
   "source": [
    "**Найденные нами ранее 95-й и 99-й перцентили средних чеков равны 26785 и 53904 условных единиц. А 95-й и 99-й перцентили количества заказов на одного пользователя равны 1 и 2 заказа на пользователя, соответственно.**\n",
    "\n",
    "**Примем за аномальных пользователей тех, кто совершил от 2 заказов или совершил заказ дороже 27 000 у.е. Так мы уберём 5% пользователей с наибольшим числом заказов и от 1% до 5% пользователей с дорогими заказами.  \n",
    "Сделаем срезы пользователей с числом заказов больше 2 — usersWithManyOrders и пользователей, совершивших заказы дороже 30 000 — usersWithExpensiveOrders. Объединим их в таблице abnormalUsers.**"
   ]
  },
  {
   "cell_type": "code",
   "execution_count": 68,
   "metadata": {},
   "outputs": [
    {
     "data": {
      "text/html": [
       "<div>\n",
       "<style scoped>\n",
       "    .dataframe tbody tr th:only-of-type {\n",
       "        vertical-align: middle;\n",
       "    }\n",
       "\n",
       "    .dataframe tbody tr th {\n",
       "        vertical-align: top;\n",
       "    }\n",
       "\n",
       "    .dataframe thead th {\n",
       "        text-align: right;\n",
       "    }\n",
       "</style>\n",
       "<table border=\"1\" class=\"dataframe\">\n",
       "  <thead>\n",
       "    <tr style=\"text-align: right;\">\n",
       "      <th></th>\n",
       "      <th>transactionId</th>\n",
       "      <th>visitorId</th>\n",
       "      <th>date</th>\n",
       "      <th>revenue</th>\n",
       "      <th>group</th>\n",
       "    </tr>\n",
       "  </thead>\n",
       "  <tbody>\n",
       "    <tr>\n",
       "      <th>0</th>\n",
       "      <td>3667963787</td>\n",
       "      <td>3312258926</td>\n",
       "      <td>2019-08-15</td>\n",
       "      <td>1650</td>\n",
       "      <td>B</td>\n",
       "    </tr>\n",
       "    <tr>\n",
       "      <th>1</th>\n",
       "      <td>2804400009</td>\n",
       "      <td>3642806036</td>\n",
       "      <td>2019-08-15</td>\n",
       "      <td>730</td>\n",
       "      <td>B</td>\n",
       "    </tr>\n",
       "    <tr>\n",
       "      <th>3</th>\n",
       "      <td>3797467345</td>\n",
       "      <td>1196621759</td>\n",
       "      <td>2019-08-15</td>\n",
       "      <td>9759</td>\n",
       "      <td>B</td>\n",
       "    </tr>\n",
       "    <tr>\n",
       "      <th>4</th>\n",
       "      <td>2282983706</td>\n",
       "      <td>2322279887</td>\n",
       "      <td>2019-08-15</td>\n",
       "      <td>2308</td>\n",
       "      <td>B</td>\n",
       "    </tr>\n",
       "    <tr>\n",
       "      <th>5</th>\n",
       "      <td>182168103</td>\n",
       "      <td>935554773</td>\n",
       "      <td>2019-08-15</td>\n",
       "      <td>2210</td>\n",
       "      <td>B</td>\n",
       "    </tr>\n",
       "  </tbody>\n",
       "</table>\n",
       "</div>"
      ],
      "text/plain": [
       "   transactionId   visitorId       date  revenue group\n",
       "0  3667963787     3312258926 2019-08-15  1650     B   \n",
       "1  2804400009     3642806036 2019-08-15  730      B   \n",
       "3  3797467345     1196621759 2019-08-15  9759     B   \n",
       "4  2282983706     2322279887 2019-08-15  2308     B   \n",
       "5  182168103      935554773  2019-08-15  2210     B   "
      ]
     },
     "execution_count": 68,
     "metadata": {},
     "output_type": "execute_result"
    }
   ],
   "source": [
    "orders.head()"
   ]
  },
  {
   "cell_type": "code",
   "execution_count": 69,
   "metadata": {},
   "outputs": [
    {
     "name": "stdout",
     "output_type": "stream",
     "text": [
      "568     113298937\n",
      "1099    148427295\n",
      "928     204675465\n",
      "33      249864742\n",
      "684     358944393\n",
      "dtype: int64\n",
      "Общее количество \"аномальных\" пользователей 86\n"
     ]
    }
   ],
   "source": [
    "usersWithManyOrders = pd.concat(\n",
    "    [\n",
    "        ordersByUsersA[ordersByUsersA['orders'] > 1]['userId'],\n",
    "        ordersByUsersB[ordersByUsersB['orders'] > 1]['userId'],\n",
    "    ],\n",
    "    axis=0,\n",
    ")\n",
    "usersWithExpensiveOrders = orders[orders['revenue'] > 27000]['visitorId']\n",
    "abnormalUsers = (\n",
    "    pd.concat([usersWithManyOrders, usersWithExpensiveOrders], axis=0)\n",
    "    .drop_duplicates()\n",
    "    .sort_values()\n",
    ")\n",
    "\n",
    "#выведем первые 5 строк полученного списка\n",
    "print(abnormalUsers.head(5))\n",
    "\n",
    "#посмотрим, сколько всего таких пользователей\n",
    "print(f'Общее количество \"аномальных\" пользователей {abnormalUsers.shape[0]}')"
   ]
  },
  {
   "cell_type": "code",
   "execution_count": 70,
   "metadata": {},
   "outputs": [],
   "source": [
    "#исключим из анализируемых данным участников \"аномельного\" списка\n",
    "\n",
    "sampleAFiltered = pd.concat(\n",
    "    [\n",
    "        ordersByUsersA[\n",
    "            np.logical_not(ordersByUsersA['userId'].isin(abnormalUsers))\n",
    "        ]['orders'],\n",
    "        pd.Series(\n",
    "            0,\n",
    "            index=np.arange(\n",
    "                data['visitorsPerDateA'].sum() - len(ordersByUsersA['orders'])\n",
    "            ),\n",
    "            name='orders',\n",
    "        ),\n",
    "    ],\n",
    "    axis=0,\n",
    ")\n",
    "\n",
    "sampleBFiltered = pd.concat(\n",
    "    [\n",
    "        ordersByUsersB[\n",
    "            np.logical_not(ordersByUsersB['userId'].isin(abnormalUsers))\n",
    "        ]['orders'],\n",
    "        pd.Series(\n",
    "            0,\n",
    "            index=np.arange(\n",
    "                data['visitorsPerDateB'].sum() - len(ordersByUsersB['orders'])\n",
    "            ),\n",
    "            name='orders',\n",
    "        ),\n",
    "    ],\n",
    "    axis=0,)"
   ]
  },
  {
   "cell_type": "code",
   "execution_count": 71,
   "metadata": {},
   "outputs": [
    {
     "name": "stdout",
     "output_type": "stream",
     "text": [
      "P-value равно 0.016\n",
      "Относительный прирост равен 0.174\n"
     ]
    }
   ],
   "source": [
    "#применим статистический критерий Манна-Уитни к полученным выборкам\n",
    "\n",
    "print('P-value равно {0:.3f}'.format(stats.mannwhitneyu(sampleAFiltered, sampleBFiltered)[1]))\n",
    "print('Относительный прирост равен {0:.3f}'.format(sampleBFiltered.mean()/sampleAFiltered.mean()-1))"
   ]
  },
  {
   "cell_type": "markdown",
   "metadata": {},
   "source": [
    "**Ранее, без фильтрации аномальных пользователей, этот тест выдавал нам p-value 0.011 и относительное различие в среднем числе заказов групп - 0.16.  \n",
    "Значит, нулевую гипотезу о том, что статистически значимых различий в среднем числе заказов между группами нет, мы по прежнему отвергаем.\n",
    "Относительный выигрыш группы B на очищенных данных увеличился до 17%.**"
   ]
  },
  {
   "cell_type": "code",
   "execution_count": null,
   "metadata": {},
   "outputs": [],
   "source": []
  },
  {
   "cell_type": "markdown",
   "metadata": {},
   "source": [
    "<div style=\"border:solid green 2px; paddind: 20px\">\n",
    "    \n",
    ">### Посчитаем статистическую значимость различий в среднем чеке заказа между группами по «очищенным» данным."
   ]
  },
  {
   "cell_type": "code",
   "execution_count": 72,
   "metadata": {},
   "outputs": [
    {
     "name": "stdout",
     "output_type": "stream",
     "text": [
      "P-value равно 0.727\n",
      "Относительный прирост равен -0.034\n"
     ]
    }
   ],
   "source": [
    "print(\n",
    "    'P-value равно {0:.3f}'.format(\n",
    "        stats.mannwhitneyu(\n",
    "            orders[\n",
    "                np.logical_and(\n",
    "                    orders['group'] == 'A',\n",
    "                    np.logical_not(orders['visitorId'].isin(abnormalUsers)),\n",
    "                )\n",
    "            ]['revenue'],\n",
    "            orders[\n",
    "                np.logical_and(\n",
    "                    orders['group'] == 'B',\n",
    "                    np.logical_not(orders['visitorId'].isin(abnormalUsers)),\n",
    "                )\n",
    "            ]['revenue'],\n",
    "        )[1]\n",
    "    )\n",
    ")\n",
    "\n",
    "print(\n",
    "    \"Относительный прирост равен {0:.3f}\".format(\n",
    "        orders[\n",
    "            np.logical_and(\n",
    "                orders['group'] == 'B',\n",
    "                np.logical_not(orders['visitorId'].isin(abnormalUsers)),\n",
    "            )\n",
    "        ]['revenue'].mean()\n",
    "        / orders[\n",
    "            np.logical_and(\n",
    "                orders['group'] == 'A',\n",
    "                np.logical_not(orders['visitorId'].isin(abnormalUsers)),\n",
    "            )\n",
    "        ]['revenue'].mean()\n",
    "        - 1\n",
    "    )\n",
    ")"
   ]
  },
  {
   "cell_type": "markdown",
   "metadata": {},
   "source": [
    "**P-value уменьшился с 0.829 до 0,727, но он по прежнему значительно больше 0.05. Значит, причин отвергать нулевую гипотезу и считать, что в среднем чеке есть различия, нет.  \n",
    "При этом, прирост среднего чека группы B уменьшился с 0,287 до -0,034 (на целых 32%). Вероятно, сказались те самые выбросы, которые мы видели ранее на графиках (две крупные покупки на сумму 202 740 и 1 294 500 условных единиц).**\n",
    "\n",
    "**В свете новых данных, показатель среднего чека группы В теперь даже уступает аналогичному показателю в группе А.**"
   ]
  },
  {
   "cell_type": "code",
   "execution_count": null,
   "metadata": {},
   "outputs": [],
   "source": []
  },
  {
   "cell_type": "markdown",
   "metadata": {},
   "source": [
    "<div class=\"alert alert-info\"> \n",
    "\n",
    "## Общие выводы и рекомендации."
   ]
  },
  {
   "cell_type": "markdown",
   "metadata": {},
   "source": [
    "<div class=\"alert alert-info\"> \n",
    "\n",
    "    \n",
    "<font size=\"4\"><b>Знакомство с данными</b></font>  \n",
    "    **Нами были [рассмотрены](#an_dan) исходные данные о ранжировании гипотез по параметрам, необходимым для их приоритизации в рамках фреймов ICE и RICE.  \n",
    "Также мы ознакомились с результатами проведения самого А/В теста, по результатам чего данные были приведены к коректным форматам, а также исключены пользователи, по ошибке попавшие в обе контрольные группы.** \n",
    "    \n",
    "---    \n",
    "    \n",
    "<font size=\"4\"><b>Приоритизация гипотез</b></font>  \n",
    "    **На этапе [приоритизации](#prior) гипотез мы оценили каждую из них через призму фреймов ICE и RICE, вследствие чего пришли к выводам о приоритетности гипотезы под номером 7, поскольку она фигурирует в тройке лидеров обоих фреймов и выступает как разумный компромисс достаточно высокой значимости и приемлемых трудозатрат (суть гипотезы в тестировнии эффекта от добавки формы подписки на все основные страницы, чтобы собрать базу клиентов для email-рассылок).  \n",
    "    В четвёрке лидеров обоих фреймов также фигурирует гипотеза под номером 0 (добавление двух новых каналов привлечения трафика, что позволит привлекать на 30% больше пользователей).\n",
    "    Если вопрос недостатка ресурсов стоит не слишком остро, можно запустить гипотезу 0 (как вероятно более значимую, но и более ресурсоёмкую), либо обе гипотезы - 0 и 7. Если ситуация этого не позволяет - предлагаем протестировать гипотезу 7.**\n",
    "    \n",
    "---\n",
    "\n",
    "<font size=\"4\"><b>Результаты А/В теста</b></font>  \n",
    "    **До и после очистки [данных](#test) статистически значимых оснований говорить о различии средних чеков двух групп не выявлено. При этом, если в неочищенных данных всё же было видно доминирование группы В (две аномально высокие покупки в группе В, показали больший средний чек, чем в группе А), то после очистки картина показала даже меньшие показатели среднего чека, чем в группе А.  \n",
    "    В то же время, мы можем говорить о статистически значимом преобладании среднего числа заказов группы В над группой А. После очистки данных это превосходство даже выросло.  \n",
    "Вероятно, это как раз объясняет более высокий уровень кумулятивной выручки. Последняя демонстрировала более высокие результаты, по сравнению с группой А. После очистки данных, ситуация несколько поменялась, но в целом кумулятивная выручка группы В визуально осталась выше на всём протяжении периода исследования.  Это, видимо и достигалось именно за счёт преобладания среднего количества заказов на посетителя.  \n",
    "Таким образом, можно предположить наличие более высокой конверсии посетителя в покупателя в группе В.**\n",
    "\n",
    "****\n",
    "\n",
    "\n",
    "    \n",
    "<font size=\"4\"><b>Рекомендации:</b></font>  \n",
    "    **В части приоритизации гипотез: если вопрос недостатка ресурсов стоит не слишком остро, можно запустить гипотезу 0 (как вероятно более значимую, но и более ресурсоёмкую), либо обе гипотезы - 0 и 7. Если ситуация этого не позволяет - предлагаем протестировать гипотезу 7 как оптимальный компромисс значимости и \"стоимости\".  \n",
    "    Что касается самого А/В теста, мы бы предложили остановить тест и сообщить о победе одной из групп. По количеству среднего числа заказов на посетителя группа В продемонстрировала лучшие показатели, чем группа А. При этом, показатели среднего чека не показали роста. При столь выраженной динамике этих двух показателей за исследуемый период, маловероятны кардинальные их изменения в дальнейшем.  \n",
    "    Дополнительно рекомендуется провести исследование динамики конверсии в группах А и Б.**"
   ]
  },
  {
   "cell_type": "code",
   "execution_count": null,
   "metadata": {},
   "outputs": [],
   "source": []
  },
  {
   "cell_type": "code",
   "execution_count": null,
   "metadata": {},
   "outputs": [],
   "source": []
  }
 ],
 "metadata": {
  "ExecuteTimeLog": [
   {
    "duration": 1306,
    "start_time": "2023-02-03T10:01:25.062Z"
   },
   {
    "duration": 185,
    "start_time": "2023-02-03T10:03:13.807Z"
   },
   {
    "duration": 12,
    "start_time": "2023-02-03T10:08:05.858Z"
   },
   {
    "duration": 9,
    "start_time": "2023-02-03T10:08:24.002Z"
   },
   {
    "duration": 8,
    "start_time": "2023-02-03T10:09:00.556Z"
   },
   {
    "duration": 5,
    "start_time": "2023-02-03T10:11:11.165Z"
   },
   {
    "duration": 5,
    "start_time": "2023-02-03T10:11:40.836Z"
   },
   {
    "duration": 6,
    "start_time": "2023-02-03T10:12:13.244Z"
   },
   {
    "duration": 96,
    "start_time": "2023-02-03T10:15:43.572Z"
   },
   {
    "duration": 535,
    "start_time": "2023-02-03T10:16:33.669Z"
   },
   {
    "duration": 497,
    "start_time": "2023-02-03T10:18:07.632Z"
   },
   {
    "duration": 425,
    "start_time": "2023-02-03T10:20:30.062Z"
   },
   {
    "duration": 2,
    "start_time": "2023-02-03T10:21:10.613Z"
   },
   {
    "duration": 407,
    "start_time": "2023-02-03T10:21:17.003Z"
   },
   {
    "duration": 3,
    "start_time": "2023-02-03T10:21:35.338Z"
   },
   {
    "duration": 3,
    "start_time": "2023-02-03T10:21:39.403Z"
   },
   {
    "duration": 448,
    "start_time": "2023-02-03T10:21:45.060Z"
   },
   {
    "duration": 3,
    "start_time": "2023-02-03T10:22:04.314Z"
   },
   {
    "duration": 3,
    "start_time": "2023-02-03T10:22:09.015Z"
   },
   {
    "duration": 459,
    "start_time": "2023-02-03T10:22:12.926Z"
   },
   {
    "duration": 404,
    "start_time": "2023-02-03T10:22:37.226Z"
   },
   {
    "duration": 4,
    "start_time": "2023-02-03T10:24:36.407Z"
   },
   {
    "duration": 11,
    "start_time": "2023-02-03T10:24:44.045Z"
   },
   {
    "duration": 3,
    "start_time": "2023-02-03T10:25:11.475Z"
   },
   {
    "duration": 87,
    "start_time": "2023-02-03T10:25:13.973Z"
   },
   {
    "duration": 10,
    "start_time": "2023-02-03T10:25:16.497Z"
   },
   {
    "duration": 6,
    "start_time": "2023-02-03T10:25:19.398Z"
   },
   {
    "duration": 9,
    "start_time": "2023-02-03T10:25:22.161Z"
   },
   {
    "duration": 5,
    "start_time": "2023-02-03T10:25:24.972Z"
   },
   {
    "duration": 437,
    "start_time": "2023-02-03T10:25:28.102Z"
   },
   {
    "duration": 4,
    "start_time": "2023-02-03T10:26:35.411Z"
   },
   {
    "duration": 1422,
    "start_time": "2023-02-03T10:26:38.633Z"
   },
   {
    "duration": 12,
    "start_time": "2023-02-03T10:27:19.494Z"
   },
   {
    "duration": 12,
    "start_time": "2023-02-03T10:27:29.026Z"
   },
   {
    "duration": 6,
    "start_time": "2023-02-03T10:30:17.230Z"
   },
   {
    "duration": 8,
    "start_time": "2023-02-03T10:30:23.859Z"
   },
   {
    "duration": 5,
    "start_time": "2023-02-03T10:30:27.212Z"
   },
   {
    "duration": 5,
    "start_time": "2023-02-03T10:32:04.069Z"
   },
   {
    "duration": 4,
    "start_time": "2023-02-03T10:32:06.786Z"
   },
   {
    "duration": 11,
    "start_time": "2023-02-03T10:45:47.221Z"
   },
   {
    "duration": 5,
    "start_time": "2023-02-03T10:58:16.324Z"
   },
   {
    "duration": 10,
    "start_time": "2023-02-03T10:58:24.373Z"
   },
   {
    "duration": 4,
    "start_time": "2023-02-03T11:00:28.798Z"
   },
   {
    "duration": 11,
    "start_time": "2023-02-03T11:00:35.711Z"
   },
   {
    "duration": 10,
    "start_time": "2023-02-03T11:00:50.862Z"
   },
   {
    "duration": 4,
    "start_time": "2023-02-03T11:16:05.568Z"
   },
   {
    "duration": 5,
    "start_time": "2023-02-03T11:16:11.547Z"
   },
   {
    "duration": 4,
    "start_time": "2023-02-03T11:16:14.592Z"
   },
   {
    "duration": 11,
    "start_time": "2023-02-03T11:17:09.857Z"
   },
   {
    "duration": 13,
    "start_time": "2023-02-03T11:22:17.104Z"
   },
   {
    "duration": 11,
    "start_time": "2023-02-03T11:22:31.390Z"
   },
   {
    "duration": 5,
    "start_time": "2023-02-03T11:27:53.799Z"
   },
   {
    "duration": 1037,
    "start_time": "2023-02-07T04:16:24.909Z"
   },
   {
    "duration": 121,
    "start_time": "2023-02-07T04:16:25.948Z"
   },
   {
    "duration": 10,
    "start_time": "2023-02-07T04:16:26.070Z"
   },
   {
    "duration": 6,
    "start_time": "2023-02-07T04:16:26.082Z"
   },
   {
    "duration": 6,
    "start_time": "2023-02-07T04:16:26.089Z"
   },
   {
    "duration": 9,
    "start_time": "2023-02-07T04:16:26.096Z"
   },
   {
    "duration": 15,
    "start_time": "2023-02-07T04:16:26.107Z"
   },
   {
    "duration": 5,
    "start_time": "2023-02-07T04:16:26.124Z"
   },
   {
    "duration": 16,
    "start_time": "2023-02-07T04:16:26.131Z"
   },
   {
    "duration": 15,
    "start_time": "2023-02-07T04:16:26.150Z"
   },
   {
    "duration": 8,
    "start_time": "2023-02-07T04:16:26.166Z"
   },
   {
    "duration": 5,
    "start_time": "2023-02-07T04:16:26.175Z"
   },
   {
    "duration": 11,
    "start_time": "2023-02-07T04:16:26.181Z"
   },
   {
    "duration": 8,
    "start_time": "2023-02-07T04:16:26.193Z"
   },
   {
    "duration": 12,
    "start_time": "2023-02-07T04:16:26.202Z"
   },
   {
    "duration": 36,
    "start_time": "2023-02-07T04:16:26.216Z"
   },
   {
    "duration": 10,
    "start_time": "2023-02-07T04:16:26.254Z"
   },
   {
    "duration": 17,
    "start_time": "2023-02-07T04:16:26.265Z"
   },
   {
    "duration": 17,
    "start_time": "2023-02-07T04:16:26.284Z"
   },
   {
    "duration": 8,
    "start_time": "2023-02-07T04:16:26.303Z"
   },
   {
    "duration": 17,
    "start_time": "2023-02-07T04:16:26.312Z"
   },
   {
    "duration": 199,
    "start_time": "2023-02-07T04:16:26.331Z"
   },
   {
    "duration": 133,
    "start_time": "2023-02-07T04:16:26.531Z"
   },
   {
    "duration": 11,
    "start_time": "2023-02-07T04:16:26.666Z"
   },
   {
    "duration": 7,
    "start_time": "2023-02-07T04:16:26.678Z"
   },
   {
    "duration": 321,
    "start_time": "2023-02-07T04:16:26.687Z"
   },
   {
    "duration": 247,
    "start_time": "2023-02-07T04:16:27.010Z"
   },
   {
    "duration": 7,
    "start_time": "2023-02-07T04:16:27.262Z"
   },
   {
    "duration": 347,
    "start_time": "2023-02-07T04:16:27.270Z"
   },
   {
    "duration": 6,
    "start_time": "2023-02-07T04:16:27.619Z"
   },
   {
    "duration": 21,
    "start_time": "2023-02-07T04:16:27.627Z"
   },
   {
    "duration": 261,
    "start_time": "2023-02-07T04:16:27.650Z"
   },
   {
    "duration": 426,
    "start_time": "2023-02-07T04:16:27.912Z"
   },
   {
    "duration": 13,
    "start_time": "2023-02-07T04:16:28.340Z"
   },
   {
    "duration": 167,
    "start_time": "2023-02-07T04:16:28.355Z"
   },
   {
    "duration": 5,
    "start_time": "2023-02-07T04:16:28.524Z"
   },
   {
    "duration": 178,
    "start_time": "2023-02-07T04:16:28.530Z"
   },
   {
    "duration": 8,
    "start_time": "2023-02-07T04:16:28.710Z"
   },
   {
    "duration": 182,
    "start_time": "2023-02-07T04:16:28.720Z"
   },
   {
    "duration": 5,
    "start_time": "2023-02-07T04:16:28.903Z"
   },
   {
    "duration": 9,
    "start_time": "2023-02-07T04:16:28.910Z"
   },
   {
    "duration": 67,
    "start_time": "2023-02-07T04:16:28.921Z"
   },
   {
    "duration": 9,
    "start_time": "2023-02-07T04:16:28.989Z"
   },
   {
    "duration": 54,
    "start_time": "2023-02-07T04:16:28.999Z"
   },
   {
    "duration": 14,
    "start_time": "2023-02-07T04:16:29.054Z"
   },
   {
    "duration": 47,
    "start_time": "2023-02-07T04:16:29.069Z"
   },
   {
    "duration": 32,
    "start_time": "2023-02-07T04:16:29.118Z"
   },
   {
    "duration": 46,
    "start_time": "2023-02-07T04:16:29.152Z"
   },
   {
    "duration": 33,
    "start_time": "2023-02-07T04:16:29.200Z"
   },
   {
    "duration": 148,
    "start_time": "2023-02-07T04:16:29.234Z"
   },
   {
    "duration": 7,
    "start_time": "2023-02-07T04:16:29.384Z"
   },
   {
    "duration": 26,
    "start_time": "2023-02-07T04:16:29.393Z"
   },
   {
    "duration": 28,
    "start_time": "2023-02-07T04:16:29.421Z"
   },
   {
    "duration": 7,
    "start_time": "2023-02-07T04:16:29.451Z"
   },
   {
    "duration": 9,
    "start_time": "2023-02-07T04:16:29.460Z"
   },
   {
    "duration": 7,
    "start_time": "2023-02-07T04:16:29.471Z"
   },
   {
    "duration": 23,
    "start_time": "2023-02-07T04:16:29.480Z"
   },
   {
    "duration": 47,
    "start_time": "2023-02-07T04:16:29.504Z"
   },
   {
    "duration": 67,
    "start_time": "2023-02-07T04:46:07.308Z"
   },
   {
    "duration": 1174,
    "start_time": "2023-02-07T05:03:01.234Z"
   },
   {
    "duration": 126,
    "start_time": "2023-02-07T05:03:02.410Z"
   },
   {
    "duration": 11,
    "start_time": "2023-02-07T05:03:02.537Z"
   },
   {
    "duration": 26,
    "start_time": "2023-02-07T05:03:02.550Z"
   },
   {
    "duration": 17,
    "start_time": "2023-02-07T05:03:02.578Z"
   },
   {
    "duration": 11,
    "start_time": "2023-02-07T05:03:02.597Z"
   },
   {
    "duration": 7,
    "start_time": "2023-02-07T05:03:02.610Z"
   },
   {
    "duration": 11,
    "start_time": "2023-02-07T05:03:02.619Z"
   },
   {
    "duration": 10,
    "start_time": "2023-02-07T05:03:02.632Z"
   },
   {
    "duration": 9,
    "start_time": "2023-02-07T05:03:02.648Z"
   },
   {
    "duration": 10,
    "start_time": "2023-02-07T05:03:02.659Z"
   },
   {
    "duration": 7,
    "start_time": "2023-02-07T05:03:02.671Z"
   },
   {
    "duration": 6,
    "start_time": "2023-02-07T05:03:02.680Z"
   },
   {
    "duration": 14,
    "start_time": "2023-02-07T05:03:02.688Z"
   },
   {
    "duration": 7,
    "start_time": "2023-02-07T05:03:02.703Z"
   },
   {
    "duration": 10,
    "start_time": "2023-02-07T05:03:02.711Z"
   },
   {
    "duration": 32,
    "start_time": "2023-02-07T05:03:02.722Z"
   },
   {
    "duration": 6,
    "start_time": "2023-02-07T05:03:02.755Z"
   },
   {
    "duration": 11,
    "start_time": "2023-02-07T05:03:02.763Z"
   },
   {
    "duration": 7,
    "start_time": "2023-02-07T05:03:02.776Z"
   },
   {
    "duration": 15,
    "start_time": "2023-02-07T05:03:02.785Z"
   },
   {
    "duration": 174,
    "start_time": "2023-02-07T05:03:02.801Z"
   },
   {
    "duration": 155,
    "start_time": "2023-02-07T05:03:02.977Z"
   },
   {
    "duration": 21,
    "start_time": "2023-02-07T05:03:03.133Z"
   },
   {
    "duration": 11,
    "start_time": "2023-02-07T05:03:03.156Z"
   },
   {
    "duration": 361,
    "start_time": "2023-02-07T05:03:03.168Z"
   },
   {
    "duration": 250,
    "start_time": "2023-02-07T05:03:03.530Z"
   },
   {
    "duration": 6,
    "start_time": "2023-02-07T05:03:03.784Z"
   },
   {
    "duration": 345,
    "start_time": "2023-02-07T05:03:03.792Z"
   },
   {
    "duration": 13,
    "start_time": "2023-02-07T05:03:04.140Z"
   },
   {
    "duration": 16,
    "start_time": "2023-02-07T05:03:04.155Z"
   },
   {
    "duration": 269,
    "start_time": "2023-02-07T05:03:04.173Z"
   },
   {
    "duration": 406,
    "start_time": "2023-02-07T05:03:04.449Z"
   },
   {
    "duration": 11,
    "start_time": "2023-02-07T05:03:04.858Z"
   },
   {
    "duration": 167,
    "start_time": "2023-02-07T05:03:04.870Z"
   },
   {
    "duration": 12,
    "start_time": "2023-02-07T05:03:05.039Z"
   },
   {
    "duration": 186,
    "start_time": "2023-02-07T05:03:05.053Z"
   },
   {
    "duration": 14,
    "start_time": "2023-02-07T05:03:05.241Z"
   },
   {
    "duration": 192,
    "start_time": "2023-02-07T05:03:05.256Z"
   },
   {
    "duration": 5,
    "start_time": "2023-02-07T05:03:05.450Z"
   },
   {
    "duration": 8,
    "start_time": "2023-02-07T05:03:05.456Z"
   },
   {
    "duration": 46,
    "start_time": "2023-02-07T05:03:05.466Z"
   },
   {
    "duration": 9,
    "start_time": "2023-02-07T05:03:05.514Z"
   },
   {
    "duration": 47,
    "start_time": "2023-02-07T05:03:05.548Z"
   },
   {
    "duration": 16,
    "start_time": "2023-02-07T05:03:05.597Z"
   },
   {
    "duration": 68,
    "start_time": "2023-02-07T05:03:05.614Z"
   },
   {
    "duration": 19,
    "start_time": "2023-02-07T05:03:05.683Z"
   },
   {
    "duration": 72,
    "start_time": "2023-02-07T05:03:05.705Z"
   },
   {
    "duration": 32,
    "start_time": "2023-02-07T05:03:05.779Z"
   },
   {
    "duration": 164,
    "start_time": "2023-02-07T05:03:05.813Z"
   },
   {
    "duration": 8,
    "start_time": "2023-02-07T05:03:05.979Z"
   },
   {
    "duration": 26,
    "start_time": "2023-02-07T05:03:05.989Z"
   },
   {
    "duration": 34,
    "start_time": "2023-02-07T05:03:06.017Z"
   },
   {
    "duration": 9,
    "start_time": "2023-02-07T05:03:06.053Z"
   },
   {
    "duration": 11,
    "start_time": "2023-02-07T05:03:06.064Z"
   },
   {
    "duration": 10,
    "start_time": "2023-02-07T05:03:06.077Z"
   },
   {
    "duration": 23,
    "start_time": "2023-02-07T05:03:06.088Z"
   },
   {
    "duration": 51,
    "start_time": "2023-02-07T05:03:06.113Z"
   },
   {
    "duration": 9,
    "start_time": "2023-02-07T07:35:50.339Z"
   },
   {
    "duration": 44,
    "start_time": "2023-02-07T08:35:03.241Z"
   },
   {
    "duration": 1282,
    "start_time": "2023-02-07T08:35:24.736Z"
   },
   {
    "duration": 342,
    "start_time": "2023-02-07T08:35:26.021Z"
   },
   {
    "duration": 13,
    "start_time": "2023-02-07T08:35:26.364Z"
   },
   {
    "duration": 5,
    "start_time": "2023-02-07T08:35:26.379Z"
   },
   {
    "duration": 6,
    "start_time": "2023-02-07T08:35:26.385Z"
   },
   {
    "duration": 19,
    "start_time": "2023-02-07T08:35:26.393Z"
   },
   {
    "duration": 12,
    "start_time": "2023-02-07T08:35:26.414Z"
   },
   {
    "duration": 14,
    "start_time": "2023-02-07T08:35:26.428Z"
   },
   {
    "duration": 17,
    "start_time": "2023-02-07T08:35:26.443Z"
   },
   {
    "duration": 14,
    "start_time": "2023-02-07T08:35:26.463Z"
   },
   {
    "duration": 7,
    "start_time": "2023-02-07T08:35:26.479Z"
   },
   {
    "duration": 11,
    "start_time": "2023-02-07T08:35:26.487Z"
   },
   {
    "duration": 12,
    "start_time": "2023-02-07T08:35:26.500Z"
   },
   {
    "duration": 13,
    "start_time": "2023-02-07T08:35:26.513Z"
   },
   {
    "duration": 7,
    "start_time": "2023-02-07T08:35:26.527Z"
   },
   {
    "duration": 17,
    "start_time": "2023-02-07T08:35:26.535Z"
   },
   {
    "duration": 12,
    "start_time": "2023-02-07T08:35:26.554Z"
   },
   {
    "duration": 9,
    "start_time": "2023-02-07T08:35:26.568Z"
   },
   {
    "duration": 31,
    "start_time": "2023-02-07T08:35:26.579Z"
   },
   {
    "duration": 12,
    "start_time": "2023-02-07T08:35:26.612Z"
   },
   {
    "duration": 13,
    "start_time": "2023-02-07T08:35:26.625Z"
   },
   {
    "duration": 178,
    "start_time": "2023-02-07T08:35:26.639Z"
   },
   {
    "duration": 130,
    "start_time": "2023-02-07T08:35:26.819Z"
   },
   {
    "duration": 14,
    "start_time": "2023-02-07T08:35:26.951Z"
   },
   {
    "duration": 30,
    "start_time": "2023-02-07T08:35:26.967Z"
   },
   {
    "duration": 342,
    "start_time": "2023-02-07T08:35:26.999Z"
   },
   {
    "duration": 278,
    "start_time": "2023-02-07T08:35:27.343Z"
   },
   {
    "duration": 6,
    "start_time": "2023-02-07T08:35:27.624Z"
   },
   {
    "duration": 427,
    "start_time": "2023-02-07T08:35:27.631Z"
   },
   {
    "duration": 7,
    "start_time": "2023-02-07T08:35:28.060Z"
   },
   {
    "duration": 15,
    "start_time": "2023-02-07T08:35:28.069Z"
   },
   {
    "duration": 324,
    "start_time": "2023-02-07T08:35:28.085Z"
   },
   {
    "duration": 428,
    "start_time": "2023-02-07T08:35:28.411Z"
   },
   {
    "duration": 11,
    "start_time": "2023-02-07T08:35:28.841Z"
   },
   {
    "duration": 198,
    "start_time": "2023-02-07T08:35:28.854Z"
   },
   {
    "duration": 5,
    "start_time": "2023-02-07T08:35:29.054Z"
   },
   {
    "duration": 259,
    "start_time": "2023-02-07T08:35:29.061Z"
   },
   {
    "duration": 9,
    "start_time": "2023-02-07T08:35:29.323Z"
   },
   {
    "duration": 210,
    "start_time": "2023-02-07T08:35:29.334Z"
   },
   {
    "duration": 4,
    "start_time": "2023-02-07T08:35:29.546Z"
   },
   {
    "duration": 10,
    "start_time": "2023-02-07T08:35:29.552Z"
   },
   {
    "duration": 65,
    "start_time": "2023-02-07T08:35:29.564Z"
   },
   {
    "duration": 17,
    "start_time": "2023-02-07T08:35:29.630Z"
   },
   {
    "duration": 46,
    "start_time": "2023-02-07T08:35:29.649Z"
   },
   {
    "duration": 18,
    "start_time": "2023-02-07T08:35:29.697Z"
   },
   {
    "duration": 62,
    "start_time": "2023-02-07T08:35:29.717Z"
   },
   {
    "duration": 53,
    "start_time": "2023-02-07T08:35:29.781Z"
   },
   {
    "duration": 50,
    "start_time": "2023-02-07T08:35:29.836Z"
   },
   {
    "duration": 35,
    "start_time": "2023-02-07T08:35:29.888Z"
   },
   {
    "duration": 207,
    "start_time": "2023-02-07T08:35:29.925Z"
   },
   {
    "duration": 8,
    "start_time": "2023-02-07T08:35:30.134Z"
   },
   {
    "duration": 77,
    "start_time": "2023-02-07T08:35:30.144Z"
   },
   {
    "duration": 37,
    "start_time": "2023-02-07T08:35:30.223Z"
   },
   {
    "duration": 36,
    "start_time": "2023-02-07T08:35:30.262Z"
   },
   {
    "duration": 56,
    "start_time": "2023-02-07T08:35:30.300Z"
   },
   {
    "duration": 82,
    "start_time": "2023-02-07T08:35:30.358Z"
   },
   {
    "duration": 83,
    "start_time": "2023-02-07T08:35:30.441Z"
   },
   {
    "duration": 98,
    "start_time": "2023-02-07T08:35:30.526Z"
   },
   {
    "duration": 10,
    "start_time": "2023-02-07T08:36:47.520Z"
   },
   {
    "duration": 11,
    "start_time": "2023-02-07T08:38:27.709Z"
   },
   {
    "duration": 7,
    "start_time": "2023-02-07T08:43:32.370Z"
   },
   {
    "duration": 6,
    "start_time": "2023-02-07T08:45:29.069Z"
   },
   {
    "duration": 5,
    "start_time": "2023-02-07T08:49:00.422Z"
   },
   {
    "duration": 14,
    "start_time": "2023-02-07T08:54:03.272Z"
   },
   {
    "duration": 8,
    "start_time": "2023-02-07T08:55:47.420Z"
   },
   {
    "duration": 14,
    "start_time": "2023-02-07T08:55:59.318Z"
   },
   {
    "duration": 7,
    "start_time": "2023-02-07T08:56:11.338Z"
   },
   {
    "duration": 5,
    "start_time": "2023-02-07T08:56:28.238Z"
   },
   {
    "duration": 4,
    "start_time": "2023-02-07T08:57:34.361Z"
   },
   {
    "duration": 5,
    "start_time": "2023-02-07T08:57:38.917Z"
   },
   {
    "duration": 8,
    "start_time": "2023-02-07T08:57:50.870Z"
   },
   {
    "duration": 13,
    "start_time": "2023-02-07T08:57:52.582Z"
   },
   {
    "duration": 4,
    "start_time": "2023-02-07T08:57:58.471Z"
   },
   {
    "duration": 7,
    "start_time": "2023-02-07T08:58:41.602Z"
   },
   {
    "duration": 108,
    "start_time": "2023-02-07T08:58:51.456Z"
   },
   {
    "duration": 15,
    "start_time": "2023-02-07T08:59:11.820Z"
   },
   {
    "duration": 7,
    "start_time": "2023-02-07T09:00:19.466Z"
   },
   {
    "duration": 6,
    "start_time": "2023-02-07T09:00:44.428Z"
   },
   {
    "duration": 4,
    "start_time": "2023-02-07T09:01:31.763Z"
   },
   {
    "duration": 4,
    "start_time": "2023-02-07T09:01:33.923Z"
   },
   {
    "duration": 13,
    "start_time": "2023-02-07T09:01:40.924Z"
   },
   {
    "duration": 4,
    "start_time": "2023-02-07T09:02:19.619Z"
   },
   {
    "duration": 13,
    "start_time": "2023-02-07T09:02:27.030Z"
   },
   {
    "duration": 7,
    "start_time": "2023-02-07T09:03:22.318Z"
   },
   {
    "duration": 4,
    "start_time": "2023-02-07T09:06:27.835Z"
   },
   {
    "duration": 5,
    "start_time": "2023-02-07T09:06:33.068Z"
   },
   {
    "duration": 5,
    "start_time": "2023-02-07T09:06:39.735Z"
   },
   {
    "duration": 15,
    "start_time": "2023-02-07T09:08:30.281Z"
   },
   {
    "duration": 15,
    "start_time": "2023-02-07T09:08:53.965Z"
   },
   {
    "duration": 15,
    "start_time": "2023-02-07T09:10:02.571Z"
   },
   {
    "duration": 8,
    "start_time": "2023-02-07T09:20:45.866Z"
   },
   {
    "duration": 4,
    "start_time": "2023-02-07T09:20:51.765Z"
   },
   {
    "duration": 14,
    "start_time": "2023-02-07T09:21:01.620Z"
   },
   {
    "duration": 17,
    "start_time": "2023-02-07T09:21:07.202Z"
   },
   {
    "duration": 11,
    "start_time": "2023-02-07T09:21:48.001Z"
   },
   {
    "duration": 2,
    "start_time": "2023-02-07T09:21:56.962Z"
   },
   {
    "duration": 13,
    "start_time": "2023-02-07T09:22:37.422Z"
   },
   {
    "duration": 4,
    "start_time": "2023-02-07T09:23:14.999Z"
   },
   {
    "duration": 4,
    "start_time": "2023-02-07T09:23:17.537Z"
   },
   {
    "duration": 4,
    "start_time": "2023-02-07T09:23:19.745Z"
   },
   {
    "duration": 16,
    "start_time": "2023-02-07T09:23:30.601Z"
   },
   {
    "duration": 5,
    "start_time": "2023-02-07T09:24:04.390Z"
   },
   {
    "duration": 15,
    "start_time": "2023-02-07T09:24:07.210Z"
   },
   {
    "duration": 4,
    "start_time": "2023-02-07T09:24:13.552Z"
   },
   {
    "duration": 5,
    "start_time": "2023-02-07T09:24:18.431Z"
   },
   {
    "duration": 4,
    "start_time": "2023-02-07T09:24:34.428Z"
   },
   {
    "duration": 4,
    "start_time": "2023-02-07T09:24:36.365Z"
   },
   {
    "duration": 4,
    "start_time": "2023-02-07T09:24:38.120Z"
   },
   {
    "duration": 6,
    "start_time": "2023-02-07T09:24:40.196Z"
   },
   {
    "duration": 1004,
    "start_time": "2023-02-07T09:25:28.602Z"
   },
   {
    "duration": 130,
    "start_time": "2023-02-07T09:25:29.608Z"
   },
   {
    "duration": 12,
    "start_time": "2023-02-07T09:25:29.740Z"
   },
   {
    "duration": 9,
    "start_time": "2023-02-07T09:25:29.754Z"
   },
   {
    "duration": 10,
    "start_time": "2023-02-07T09:25:29.765Z"
   },
   {
    "duration": 14,
    "start_time": "2023-02-07T09:25:29.776Z"
   },
   {
    "duration": 28,
    "start_time": "2023-02-07T09:25:29.793Z"
   },
   {
    "duration": 9,
    "start_time": "2023-02-07T09:25:29.823Z"
   },
   {
    "duration": 13,
    "start_time": "2023-02-07T09:25:29.834Z"
   },
   {
    "duration": 7,
    "start_time": "2023-02-07T09:25:29.849Z"
   },
   {
    "duration": 14,
    "start_time": "2023-02-07T09:25:29.857Z"
   },
   {
    "duration": 7,
    "start_time": "2023-02-07T09:25:29.872Z"
   },
   {
    "duration": 3,
    "start_time": "2023-02-07T09:25:29.881Z"
   },
   {
    "duration": 9,
    "start_time": "2023-02-07T09:25:29.885Z"
   },
   {
    "duration": 14,
    "start_time": "2023-02-07T09:25:29.896Z"
   },
   {
    "duration": 13,
    "start_time": "2023-02-07T09:25:29.911Z"
   },
   {
    "duration": 4,
    "start_time": "2023-02-07T09:25:42.480Z"
   },
   {
    "duration": 4,
    "start_time": "2023-02-07T09:25:45.014Z"
   },
   {
    "duration": 4,
    "start_time": "2023-02-07T09:25:52.791Z"
   },
   {
    "duration": 5,
    "start_time": "2023-02-07T09:26:22.404Z"
   },
   {
    "duration": 4,
    "start_time": "2023-02-07T09:26:24.567Z"
   },
   {
    "duration": 4,
    "start_time": "2023-02-07T09:26:33.971Z"
   },
   {
    "duration": 4,
    "start_time": "2023-02-07T09:26:36.069Z"
   },
   {
    "duration": 6,
    "start_time": "2023-02-07T09:26:44.898Z"
   },
   {
    "duration": 7,
    "start_time": "2023-02-07T09:26:46.974Z"
   },
   {
    "duration": 4,
    "start_time": "2023-02-07T09:26:56.633Z"
   },
   {
    "duration": 4,
    "start_time": "2023-02-07T09:26:58.770Z"
   },
   {
    "duration": 4,
    "start_time": "2023-02-07T09:27:16.131Z"
   },
   {
    "duration": 106,
    "start_time": "2023-02-07T09:30:11.277Z"
   },
   {
    "duration": 14,
    "start_time": "2023-02-07T09:30:42.965Z"
   },
   {
    "duration": 5,
    "start_time": "2023-02-07T09:31:00.027Z"
   },
   {
    "duration": 13,
    "start_time": "2023-02-07T09:31:50.032Z"
   },
   {
    "duration": 8,
    "start_time": "2023-02-07T09:32:03.468Z"
   },
   {
    "duration": 1078,
    "start_time": "2023-02-07T09:32:42.787Z"
   },
   {
    "duration": 139,
    "start_time": "2023-02-07T09:32:43.867Z"
   },
   {
    "duration": 13,
    "start_time": "2023-02-07T09:32:44.010Z"
   },
   {
    "duration": 5,
    "start_time": "2023-02-07T09:32:44.025Z"
   },
   {
    "duration": 12,
    "start_time": "2023-02-07T09:32:44.031Z"
   },
   {
    "duration": 19,
    "start_time": "2023-02-07T09:32:44.045Z"
   },
   {
    "duration": 10,
    "start_time": "2023-02-07T09:32:44.066Z"
   },
   {
    "duration": 9,
    "start_time": "2023-02-07T09:32:44.077Z"
   },
   {
    "duration": 18,
    "start_time": "2023-02-07T09:32:44.087Z"
   },
   {
    "duration": 10,
    "start_time": "2023-02-07T09:32:44.109Z"
   },
   {
    "duration": 9,
    "start_time": "2023-02-07T09:32:44.121Z"
   },
   {
    "duration": 10,
    "start_time": "2023-02-07T09:32:44.132Z"
   },
   {
    "duration": 7,
    "start_time": "2023-02-07T09:32:44.143Z"
   },
   {
    "duration": 10,
    "start_time": "2023-02-07T09:32:44.151Z"
   },
   {
    "duration": 4,
    "start_time": "2023-02-07T09:32:44.164Z"
   },
   {
    "duration": 6,
    "start_time": "2023-02-07T09:32:44.170Z"
   },
   {
    "duration": 4,
    "start_time": "2023-02-07T09:32:44.193Z"
   },
   {
    "duration": 22,
    "start_time": "2023-02-07T09:32:44.199Z"
   },
   {
    "duration": 4,
    "start_time": "2023-02-07T09:32:44.223Z"
   },
   {
    "duration": 12,
    "start_time": "2023-02-07T09:32:44.228Z"
   },
   {
    "duration": 15,
    "start_time": "2023-02-07T09:32:44.241Z"
   },
   {
    "duration": 9,
    "start_time": "2023-02-07T09:32:44.258Z"
   },
   {
    "duration": 8,
    "start_time": "2023-02-07T09:32:44.269Z"
   },
   {
    "duration": 16,
    "start_time": "2023-02-07T09:32:44.278Z"
   },
   {
    "duration": 21,
    "start_time": "2023-02-07T09:32:44.296Z"
   },
   {
    "duration": 9,
    "start_time": "2023-02-07T09:32:44.318Z"
   },
   {
    "duration": 15,
    "start_time": "2023-02-07T09:32:44.329Z"
   },
   {
    "duration": 10,
    "start_time": "2023-02-07T09:32:44.348Z"
   },
   {
    "duration": 10,
    "start_time": "2023-02-07T09:32:44.360Z"
   },
   {
    "duration": 20,
    "start_time": "2023-02-07T09:32:44.372Z"
   },
   {
    "duration": 6,
    "start_time": "2023-02-07T09:32:44.393Z"
   },
   {
    "duration": 24,
    "start_time": "2023-02-07T09:32:44.401Z"
   },
   {
    "duration": 171,
    "start_time": "2023-02-07T09:32:44.427Z"
   },
   {
    "duration": 129,
    "start_time": "2023-02-07T09:32:44.600Z"
   },
   {
    "duration": 13,
    "start_time": "2023-02-07T09:32:44.731Z"
   },
   {
    "duration": 10,
    "start_time": "2023-02-07T09:32:44.746Z"
   },
   {
    "duration": 372,
    "start_time": "2023-02-07T09:32:44.758Z"
   },
   {
    "duration": 296,
    "start_time": "2023-02-07T09:32:45.132Z"
   },
   {
    "duration": 6,
    "start_time": "2023-02-07T09:32:45.429Z"
   },
   {
    "duration": 370,
    "start_time": "2023-02-07T09:32:45.437Z"
   },
   {
    "duration": 8,
    "start_time": "2023-02-07T09:32:45.809Z"
   },
   {
    "duration": 10,
    "start_time": "2023-02-07T09:32:45.819Z"
   },
   {
    "duration": 331,
    "start_time": "2023-02-07T09:32:45.830Z"
   },
   {
    "duration": 444,
    "start_time": "2023-02-07T09:32:46.163Z"
   },
   {
    "duration": 11,
    "start_time": "2023-02-07T09:32:46.609Z"
   },
   {
    "duration": 186,
    "start_time": "2023-02-07T09:32:46.621Z"
   },
   {
    "duration": 5,
    "start_time": "2023-02-07T09:32:46.809Z"
   },
   {
    "duration": 178,
    "start_time": "2023-02-07T09:32:46.816Z"
   },
   {
    "duration": 13,
    "start_time": "2023-02-07T09:32:46.996Z"
   },
   {
    "duration": 181,
    "start_time": "2023-02-07T09:32:47.011Z"
   },
   {
    "duration": 4,
    "start_time": "2023-02-07T09:32:47.209Z"
   },
   {
    "duration": 18,
    "start_time": "2023-02-07T09:32:47.216Z"
   },
   {
    "duration": 47,
    "start_time": "2023-02-07T09:32:47.236Z"
   },
   {
    "duration": 20,
    "start_time": "2023-02-07T09:32:47.285Z"
   },
   {
    "duration": 47,
    "start_time": "2023-02-07T09:32:47.307Z"
   },
   {
    "duration": 22,
    "start_time": "2023-02-07T09:32:47.356Z"
   },
   {
    "duration": 58,
    "start_time": "2023-02-07T09:32:47.379Z"
   },
   {
    "duration": 14,
    "start_time": "2023-02-07T09:32:47.439Z"
   },
   {
    "duration": 72,
    "start_time": "2023-02-07T09:32:47.455Z"
   },
   {
    "duration": 32,
    "start_time": "2023-02-07T09:32:47.529Z"
   },
   {
    "duration": 138,
    "start_time": "2023-02-07T09:32:47.563Z"
   },
   {
    "duration": 9,
    "start_time": "2023-02-07T09:32:47.703Z"
   },
   {
    "duration": 28,
    "start_time": "2023-02-07T09:32:47.714Z"
   },
   {
    "duration": 20,
    "start_time": "2023-02-07T09:32:47.744Z"
   },
   {
    "duration": 17,
    "start_time": "2023-02-07T09:32:47.766Z"
   },
   {
    "duration": 27,
    "start_time": "2023-02-07T09:32:47.785Z"
   },
   {
    "duration": 14,
    "start_time": "2023-02-07T09:32:47.814Z"
   },
   {
    "duration": 22,
    "start_time": "2023-02-07T09:32:47.830Z"
   },
   {
    "duration": 14,
    "start_time": "2023-02-07T09:32:47.854Z"
   },
   {
    "duration": 4,
    "start_time": "2023-02-07T09:37:44.428Z"
   },
   {
    "duration": 18,
    "start_time": "2023-02-07T09:38:12.886Z"
   },
   {
    "duration": 12,
    "start_time": "2023-02-07T09:38:30.871Z"
   },
   {
    "duration": 1013,
    "start_time": "2023-02-07T09:39:38.325Z"
   },
   {
    "duration": 134,
    "start_time": "2023-02-07T09:39:39.340Z"
   },
   {
    "duration": 13,
    "start_time": "2023-02-07T09:39:39.475Z"
   },
   {
    "duration": 12,
    "start_time": "2023-02-07T09:39:39.490Z"
   },
   {
    "duration": 11,
    "start_time": "2023-02-07T09:39:39.504Z"
   },
   {
    "duration": 12,
    "start_time": "2023-02-07T09:39:39.517Z"
   },
   {
    "duration": 8,
    "start_time": "2023-02-07T09:39:39.531Z"
   },
   {
    "duration": 9,
    "start_time": "2023-02-07T09:39:39.541Z"
   },
   {
    "duration": 18,
    "start_time": "2023-02-07T09:39:39.551Z"
   },
   {
    "duration": 6,
    "start_time": "2023-02-07T09:39:39.572Z"
   },
   {
    "duration": 20,
    "start_time": "2023-02-07T09:39:39.580Z"
   },
   {
    "duration": 7,
    "start_time": "2023-02-07T09:39:39.602Z"
   },
   {
    "duration": 10,
    "start_time": "2023-02-07T09:39:39.611Z"
   },
   {
    "duration": 6,
    "start_time": "2023-02-07T09:39:39.623Z"
   },
   {
    "duration": 6,
    "start_time": "2023-02-07T09:39:39.631Z"
   },
   {
    "duration": 5,
    "start_time": "2023-02-07T09:39:39.639Z"
   },
   {
    "duration": 5,
    "start_time": "2023-02-07T09:39:39.645Z"
   },
   {
    "duration": 15,
    "start_time": "2023-02-07T09:39:39.651Z"
   },
   {
    "duration": 25,
    "start_time": "2023-02-07T09:39:39.667Z"
   },
   {
    "duration": 8,
    "start_time": "2023-02-07T09:39:39.695Z"
   },
   {
    "duration": 14,
    "start_time": "2023-02-07T09:39:39.704Z"
   },
   {
    "duration": 15,
    "start_time": "2023-02-07T09:39:39.719Z"
   },
   {
    "duration": 8,
    "start_time": "2023-02-07T09:39:39.736Z"
   },
   {
    "duration": 5,
    "start_time": "2023-02-07T09:39:39.746Z"
   },
   {
    "duration": 9,
    "start_time": "2023-02-07T09:39:39.752Z"
   },
   {
    "duration": 24,
    "start_time": "2023-02-07T09:39:39.763Z"
   },
   {
    "duration": 10,
    "start_time": "2023-02-07T09:39:39.792Z"
   },
   {
    "duration": 12,
    "start_time": "2023-02-07T09:39:39.809Z"
   },
   {
    "duration": 11,
    "start_time": "2023-02-07T09:39:39.823Z"
   },
   {
    "duration": 9,
    "start_time": "2023-02-07T09:39:39.836Z"
   },
   {
    "duration": 12,
    "start_time": "2023-02-07T09:39:39.846Z"
   },
   {
    "duration": 9,
    "start_time": "2023-02-07T09:39:39.860Z"
   },
   {
    "duration": 26,
    "start_time": "2023-02-07T09:39:39.871Z"
   },
   {
    "duration": 178,
    "start_time": "2023-02-07T09:39:39.899Z"
   },
   {
    "duration": 148,
    "start_time": "2023-02-07T09:39:40.079Z"
   },
   {
    "duration": 14,
    "start_time": "2023-02-07T09:39:40.229Z"
   },
   {
    "duration": 16,
    "start_time": "2023-02-07T09:39:40.245Z"
   },
   {
    "duration": 363,
    "start_time": "2023-02-07T09:39:40.263Z"
   },
   {
    "duration": 278,
    "start_time": "2023-02-07T09:39:40.629Z"
   },
   {
    "duration": 7,
    "start_time": "2023-02-07T09:39:40.909Z"
   },
   {
    "duration": 357,
    "start_time": "2023-02-07T09:39:40.918Z"
   },
   {
    "duration": 6,
    "start_time": "2023-02-07T09:39:41.277Z"
   },
   {
    "duration": 6,
    "start_time": "2023-02-07T09:39:41.292Z"
   },
   {
    "duration": 314,
    "start_time": "2023-02-07T09:39:41.299Z"
   },
   {
    "duration": 404,
    "start_time": "2023-02-07T09:39:41.615Z"
   },
   {
    "duration": 10,
    "start_time": "2023-02-07T09:39:42.021Z"
   },
   {
    "duration": 204,
    "start_time": "2023-02-07T09:39:42.032Z"
   },
   {
    "duration": 6,
    "start_time": "2023-02-07T09:39:42.238Z"
   },
   {
    "duration": 198,
    "start_time": "2023-02-07T09:39:42.246Z"
   },
   {
    "duration": 10,
    "start_time": "2023-02-07T09:39:42.446Z"
   },
   {
    "duration": 206,
    "start_time": "2023-02-07T09:39:42.458Z"
   },
   {
    "duration": 5,
    "start_time": "2023-02-07T09:39:42.666Z"
   },
   {
    "duration": 16,
    "start_time": "2023-02-07T09:39:42.672Z"
   },
   {
    "duration": 55,
    "start_time": "2023-02-07T09:39:42.690Z"
   },
   {
    "duration": 7,
    "start_time": "2023-02-07T09:39:42.747Z"
   },
   {
    "duration": 54,
    "start_time": "2023-02-07T09:39:42.755Z"
   },
   {
    "duration": 33,
    "start_time": "2023-02-07T09:39:42.811Z"
   },
   {
    "duration": 48,
    "start_time": "2023-02-07T09:39:42.846Z"
   },
   {
    "duration": 19,
    "start_time": "2023-02-07T09:39:42.897Z"
   },
   {
    "duration": 49,
    "start_time": "2023-02-07T09:39:42.918Z"
   },
   {
    "duration": 44,
    "start_time": "2023-02-07T09:39:42.968Z"
   },
   {
    "duration": 143,
    "start_time": "2023-02-07T09:39:43.014Z"
   },
   {
    "duration": 6,
    "start_time": "2023-02-07T09:39:43.159Z"
   },
   {
    "duration": 40,
    "start_time": "2023-02-07T09:39:43.167Z"
   },
   {
    "duration": 11,
    "start_time": "2023-02-07T09:39:43.209Z"
   },
   {
    "duration": 11,
    "start_time": "2023-02-07T09:39:43.222Z"
   },
   {
    "duration": 25,
    "start_time": "2023-02-07T09:39:43.235Z"
   },
   {
    "duration": 19,
    "start_time": "2023-02-07T09:39:43.269Z"
   },
   {
    "duration": 39,
    "start_time": "2023-02-07T09:39:43.290Z"
   },
   {
    "duration": 15,
    "start_time": "2023-02-07T09:39:43.331Z"
   },
   {
    "duration": 15,
    "start_time": "2023-02-07T09:43:01.919Z"
   },
   {
    "duration": 103,
    "start_time": "2023-02-07T09:44:53.299Z"
   },
   {
    "duration": 6,
    "start_time": "2023-02-07T09:44:59.272Z"
   },
   {
    "duration": 5,
    "start_time": "2023-02-07T09:45:48.232Z"
   },
   {
    "duration": 4,
    "start_time": "2023-02-07T09:49:48.528Z"
   },
   {
    "duration": 26,
    "start_time": "2023-02-07T09:49:50.557Z"
   },
   {
    "duration": 5,
    "start_time": "2023-02-07T09:51:15.902Z"
   },
   {
    "duration": 12,
    "start_time": "2023-02-07T09:59:21.089Z"
   },
   {
    "duration": 4,
    "start_time": "2023-02-07T10:01:39.571Z"
   },
   {
    "duration": 14,
    "start_time": "2023-02-07T10:01:41.695Z"
   },
   {
    "duration": 9,
    "start_time": "2023-02-07T10:03:06.964Z"
   },
   {
    "duration": 972,
    "start_time": "2023-02-07T10:04:39.045Z"
   },
   {
    "duration": 135,
    "start_time": "2023-02-07T10:04:40.019Z"
   },
   {
    "duration": 12,
    "start_time": "2023-02-07T10:04:40.155Z"
   },
   {
    "duration": 5,
    "start_time": "2023-02-07T10:04:40.169Z"
   },
   {
    "duration": 20,
    "start_time": "2023-02-07T10:04:40.176Z"
   },
   {
    "duration": 16,
    "start_time": "2023-02-07T10:04:40.198Z"
   },
   {
    "duration": 16,
    "start_time": "2023-02-07T10:04:40.216Z"
   },
   {
    "duration": 6,
    "start_time": "2023-02-07T10:04:40.233Z"
   },
   {
    "duration": 19,
    "start_time": "2023-02-07T10:04:40.241Z"
   },
   {
    "duration": 7,
    "start_time": "2023-02-07T10:04:40.264Z"
   },
   {
    "duration": 8,
    "start_time": "2023-02-07T10:04:40.272Z"
   },
   {
    "duration": 8,
    "start_time": "2023-02-07T10:04:40.293Z"
   },
   {
    "duration": 9,
    "start_time": "2023-02-07T10:04:40.303Z"
   },
   {
    "duration": 5,
    "start_time": "2023-02-07T10:04:40.317Z"
   },
   {
    "duration": 9,
    "start_time": "2023-02-07T10:04:40.324Z"
   },
   {
    "duration": 5,
    "start_time": "2023-02-07T10:04:40.335Z"
   },
   {
    "duration": 13,
    "start_time": "2023-02-07T10:04:40.341Z"
   },
   {
    "duration": 15,
    "start_time": "2023-02-07T10:04:40.355Z"
   },
   {
    "duration": 20,
    "start_time": "2023-02-07T10:04:40.372Z"
   },
   {
    "duration": 21,
    "start_time": "2023-02-07T10:04:40.395Z"
   },
   {
    "duration": 10,
    "start_time": "2023-02-07T10:04:40.418Z"
   },
   {
    "duration": 8,
    "start_time": "2023-02-07T10:04:40.429Z"
   },
   {
    "duration": 10,
    "start_time": "2023-02-07T10:04:40.438Z"
   },
   {
    "duration": 14,
    "start_time": "2023-02-07T10:04:40.449Z"
   },
   {
    "duration": 8,
    "start_time": "2023-02-07T10:04:40.465Z"
   },
   {
    "duration": 24,
    "start_time": "2023-02-07T10:04:40.474Z"
   },
   {
    "duration": 5,
    "start_time": "2023-02-07T10:04:40.502Z"
   },
   {
    "duration": 12,
    "start_time": "2023-02-07T10:04:40.512Z"
   },
   {
    "duration": 10,
    "start_time": "2023-02-07T10:04:40.525Z"
   },
   {
    "duration": 8,
    "start_time": "2023-02-07T10:04:40.537Z"
   },
   {
    "duration": 35,
    "start_time": "2023-02-07T10:04:40.546Z"
   },
   {
    "duration": 9,
    "start_time": "2023-02-07T10:04:40.582Z"
   },
   {
    "duration": 19,
    "start_time": "2023-02-07T10:04:40.594Z"
   },
   {
    "duration": 9,
    "start_time": "2023-02-07T10:04:40.617Z"
   },
   {
    "duration": 10,
    "start_time": "2023-02-07T10:04:40.628Z"
   },
   {
    "duration": 200,
    "start_time": "2023-02-07T10:04:40.640Z"
   },
   {
    "duration": 143,
    "start_time": "2023-02-07T10:04:40.842Z"
   },
   {
    "duration": 18,
    "start_time": "2023-02-07T10:04:40.987Z"
   },
   {
    "duration": 13,
    "start_time": "2023-02-07T10:04:41.007Z"
   },
   {
    "duration": 367,
    "start_time": "2023-02-07T10:04:41.021Z"
   },
   {
    "duration": 281,
    "start_time": "2023-02-07T10:04:41.390Z"
   },
   {
    "duration": 6,
    "start_time": "2023-02-07T10:04:41.673Z"
   },
   {
    "duration": 356,
    "start_time": "2023-02-07T10:04:41.680Z"
   },
   {
    "duration": 6,
    "start_time": "2023-02-07T10:04:42.038Z"
   },
   {
    "duration": 8,
    "start_time": "2023-02-07T10:04:42.045Z"
   },
   {
    "duration": 299,
    "start_time": "2023-02-07T10:04:42.054Z"
   },
   {
    "duration": 388,
    "start_time": "2023-02-07T10:04:42.355Z"
   },
   {
    "duration": 10,
    "start_time": "2023-02-07T10:04:42.744Z"
   },
   {
    "duration": 185,
    "start_time": "2023-02-07T10:04:42.755Z"
   },
   {
    "duration": 4,
    "start_time": "2023-02-07T10:04:42.942Z"
   },
   {
    "duration": 176,
    "start_time": "2023-02-07T10:04:42.948Z"
   },
   {
    "duration": 9,
    "start_time": "2023-02-07T10:04:43.126Z"
   },
   {
    "duration": 191,
    "start_time": "2023-02-07T10:04:43.137Z"
   },
   {
    "duration": 4,
    "start_time": "2023-02-07T10:04:43.329Z"
   },
   {
    "duration": 6,
    "start_time": "2023-02-07T10:04:43.335Z"
   },
   {
    "duration": 62,
    "start_time": "2023-02-07T10:04:43.342Z"
   },
   {
    "duration": 17,
    "start_time": "2023-02-07T10:04:43.406Z"
   },
   {
    "duration": 53,
    "start_time": "2023-02-07T10:04:43.425Z"
   },
   {
    "duration": 16,
    "start_time": "2023-02-07T10:04:43.480Z"
   },
   {
    "duration": 57,
    "start_time": "2023-02-07T10:04:43.498Z"
   },
   {
    "duration": 35,
    "start_time": "2023-02-07T10:04:43.557Z"
   },
   {
    "duration": 55,
    "start_time": "2023-02-07T10:04:43.594Z"
   },
   {
    "duration": 44,
    "start_time": "2023-02-07T10:04:43.651Z"
   },
   {
    "duration": 155,
    "start_time": "2023-02-07T10:04:43.696Z"
   },
   {
    "duration": 6,
    "start_time": "2023-02-07T10:04:43.853Z"
   },
   {
    "duration": 39,
    "start_time": "2023-02-07T10:04:43.860Z"
   },
   {
    "duration": 13,
    "start_time": "2023-02-07T10:04:43.901Z"
   },
   {
    "duration": 15,
    "start_time": "2023-02-07T10:04:43.916Z"
   },
   {
    "duration": 15,
    "start_time": "2023-02-07T10:04:43.933Z"
   },
   {
    "duration": 10,
    "start_time": "2023-02-07T10:04:43.949Z"
   },
   {
    "duration": 37,
    "start_time": "2023-02-07T10:04:43.961Z"
   },
   {
    "duration": 15,
    "start_time": "2023-02-07T10:04:44.000Z"
   },
   {
    "duration": 264,
    "start_time": "2023-02-07T10:09:33.420Z"
   },
   {
    "duration": 345,
    "start_time": "2023-02-07T10:10:34.817Z"
   },
   {
    "duration": 395,
    "start_time": "2023-02-07T10:14:49.367Z"
   },
   {
    "duration": 340,
    "start_time": "2023-02-07T10:15:07.577Z"
   },
   {
    "duration": 321,
    "start_time": "2023-02-07T10:15:15.444Z"
   },
   {
    "duration": 317,
    "start_time": "2023-02-07T10:15:45.225Z"
   },
   {
    "duration": 13,
    "start_time": "2023-02-07T10:16:04.908Z"
   },
   {
    "duration": 5,
    "start_time": "2023-02-07T10:16:26.853Z"
   },
   {
    "duration": 6,
    "start_time": "2023-02-07T10:16:40.095Z"
   },
   {
    "duration": 6,
    "start_time": "2023-02-07T10:16:47.118Z"
   },
   {
    "duration": 5,
    "start_time": "2023-02-07T10:16:55.283Z"
   },
   {
    "duration": 306,
    "start_time": "2023-02-07T10:17:59.247Z"
   },
   {
    "duration": 375,
    "start_time": "2023-02-07T10:18:05.743Z"
   },
   {
    "duration": 391,
    "start_time": "2023-02-07T10:18:36.109Z"
   },
   {
    "duration": 355,
    "start_time": "2023-02-07T10:18:43.610Z"
   },
   {
    "duration": 431,
    "start_time": "2023-02-07T10:18:52.953Z"
   },
   {
    "duration": 347,
    "start_time": "2023-02-07T10:26:57.183Z"
   },
   {
    "duration": 337,
    "start_time": "2023-02-07T10:27:31.694Z"
   },
   {
    "duration": 427,
    "start_time": "2023-02-07T10:28:37.006Z"
   },
   {
    "duration": 363,
    "start_time": "2023-02-07T10:29:13.438Z"
   },
   {
    "duration": 537,
    "start_time": "2023-02-07T10:30:22.759Z"
   },
   {
    "duration": 10,
    "start_time": "2023-02-07T10:33:46.434Z"
   },
   {
    "duration": 227,
    "start_time": "2023-02-07T10:34:21.141Z"
   },
   {
    "duration": 228,
    "start_time": "2023-02-07T10:34:46.381Z"
   },
   {
    "duration": 215,
    "start_time": "2023-02-07T10:36:14.472Z"
   },
   {
    "duration": 1054,
    "start_time": "2023-02-07T10:37:12.972Z"
   },
   {
    "duration": 139,
    "start_time": "2023-02-07T10:37:14.027Z"
   },
   {
    "duration": 11,
    "start_time": "2023-02-07T10:37:14.168Z"
   },
   {
    "duration": 6,
    "start_time": "2023-02-07T10:37:14.181Z"
   },
   {
    "duration": 7,
    "start_time": "2023-02-07T10:37:14.188Z"
   },
   {
    "duration": 16,
    "start_time": "2023-02-07T10:37:14.197Z"
   },
   {
    "duration": 10,
    "start_time": "2023-02-07T10:37:14.215Z"
   },
   {
    "duration": 15,
    "start_time": "2023-02-07T10:37:14.227Z"
   },
   {
    "duration": 12,
    "start_time": "2023-02-07T10:37:14.243Z"
   },
   {
    "duration": 7,
    "start_time": "2023-02-07T10:37:14.257Z"
   },
   {
    "duration": 7,
    "start_time": "2023-02-07T10:37:14.266Z"
   },
   {
    "duration": 22,
    "start_time": "2023-02-07T10:37:14.275Z"
   },
   {
    "duration": 20,
    "start_time": "2023-02-07T10:37:14.299Z"
   },
   {
    "duration": 7,
    "start_time": "2023-02-07T10:37:14.321Z"
   },
   {
    "duration": 9,
    "start_time": "2023-02-07T10:37:14.330Z"
   },
   {
    "duration": 5,
    "start_time": "2023-02-07T10:37:14.340Z"
   },
   {
    "duration": 5,
    "start_time": "2023-02-07T10:37:14.347Z"
   },
   {
    "duration": 14,
    "start_time": "2023-02-07T10:37:14.353Z"
   },
   {
    "duration": 4,
    "start_time": "2023-02-07T10:37:14.368Z"
   },
   {
    "duration": 25,
    "start_time": "2023-02-07T10:37:14.374Z"
   },
   {
    "duration": 28,
    "start_time": "2023-02-07T10:37:14.401Z"
   },
   {
    "duration": 6,
    "start_time": "2023-02-07T10:37:14.431Z"
   },
   {
    "duration": 5,
    "start_time": "2023-02-07T10:37:14.438Z"
   },
   {
    "duration": 11,
    "start_time": "2023-02-07T10:37:14.444Z"
   },
   {
    "duration": 8,
    "start_time": "2023-02-07T10:37:14.456Z"
   },
   {
    "duration": 8,
    "start_time": "2023-02-07T10:37:14.465Z"
   },
   {
    "duration": 21,
    "start_time": "2023-02-07T10:37:14.475Z"
   },
   {
    "duration": 9,
    "start_time": "2023-02-07T10:37:14.501Z"
   },
   {
    "duration": 12,
    "start_time": "2023-02-07T10:37:14.512Z"
   },
   {
    "duration": 10,
    "start_time": "2023-02-07T10:37:14.526Z"
   },
   {
    "duration": 10,
    "start_time": "2023-02-07T10:37:14.537Z"
   },
   {
    "duration": 6,
    "start_time": "2023-02-07T10:37:14.549Z"
   },
   {
    "duration": 14,
    "start_time": "2023-02-07T10:37:14.557Z"
   },
   {
    "duration": 25,
    "start_time": "2023-02-07T10:37:14.573Z"
   },
   {
    "duration": 10,
    "start_time": "2023-02-07T10:37:14.600Z"
   },
   {
    "duration": 163,
    "start_time": "2023-02-07T10:37:14.612Z"
   },
   {
    "duration": 135,
    "start_time": "2023-02-07T10:37:14.776Z"
   },
   {
    "duration": 15,
    "start_time": "2023-02-07T10:37:14.913Z"
   },
   {
    "duration": 8,
    "start_time": "2023-02-07T10:37:14.929Z"
   },
   {
    "duration": 370,
    "start_time": "2023-02-07T10:37:14.939Z"
   },
   {
    "duration": 284,
    "start_time": "2023-02-07T10:37:15.310Z"
   },
   {
    "duration": 9,
    "start_time": "2023-02-07T10:37:15.596Z"
   },
   {
    "duration": 372,
    "start_time": "2023-02-07T10:37:15.609Z"
   },
   {
    "duration": 15,
    "start_time": "2023-02-07T10:37:15.984Z"
   },
   {
    "duration": 26,
    "start_time": "2023-02-07T10:37:16.002Z"
   },
   {
    "duration": 335,
    "start_time": "2023-02-07T10:37:16.030Z"
   },
   {
    "duration": 491,
    "start_time": "2023-02-07T10:37:16.367Z"
   },
   {
    "duration": 12,
    "start_time": "2023-02-07T10:37:16.860Z"
   },
   {
    "duration": 224,
    "start_time": "2023-02-07T10:37:16.874Z"
   },
   {
    "duration": 9,
    "start_time": "2023-02-07T10:37:17.100Z"
   },
   {
    "duration": 209,
    "start_time": "2023-02-07T10:37:17.111Z"
   },
   {
    "duration": 8,
    "start_time": "2023-02-07T10:37:17.322Z"
   },
   {
    "duration": 215,
    "start_time": "2023-02-07T10:37:17.332Z"
   },
   {
    "duration": 5,
    "start_time": "2023-02-07T10:37:17.548Z"
   },
   {
    "duration": 15,
    "start_time": "2023-02-07T10:37:17.555Z"
   },
   {
    "duration": 66,
    "start_time": "2023-02-07T10:37:17.572Z"
   },
   {
    "duration": 9,
    "start_time": "2023-02-07T10:37:17.640Z"
   },
   {
    "duration": 67,
    "start_time": "2023-02-07T10:37:17.651Z"
   },
   {
    "duration": 19,
    "start_time": "2023-02-07T10:37:17.720Z"
   },
   {
    "duration": 76,
    "start_time": "2023-02-07T10:37:17.741Z"
   },
   {
    "duration": 20,
    "start_time": "2023-02-07T10:37:17.818Z"
   },
   {
    "duration": 92,
    "start_time": "2023-02-07T10:37:17.840Z"
   },
   {
    "duration": 29,
    "start_time": "2023-02-07T10:37:17.934Z"
   },
   {
    "duration": 168,
    "start_time": "2023-02-07T10:37:17.965Z"
   },
   {
    "duration": 7,
    "start_time": "2023-02-07T10:37:18.135Z"
   },
   {
    "duration": 35,
    "start_time": "2023-02-07T10:37:18.144Z"
   },
   {
    "duration": 16,
    "start_time": "2023-02-07T10:37:18.180Z"
   },
   {
    "duration": 21,
    "start_time": "2023-02-07T10:37:18.197Z"
   },
   {
    "duration": 37,
    "start_time": "2023-02-07T10:37:18.220Z"
   },
   {
    "duration": 14,
    "start_time": "2023-02-07T10:37:18.259Z"
   },
   {
    "duration": 28,
    "start_time": "2023-02-07T10:37:18.275Z"
   },
   {
    "duration": 17,
    "start_time": "2023-02-07T10:37:18.307Z"
   },
   {
    "duration": 355,
    "start_time": "2023-02-07T10:37:55.616Z"
   },
   {
    "duration": 21,
    "start_time": "2023-02-07T11:13:22.122Z"
   },
   {
    "duration": 22,
    "start_time": "2023-02-07T11:13:36.033Z"
   },
   {
    "duration": 11,
    "start_time": "2023-02-07T11:18:22.138Z"
   },
   {
    "duration": 14,
    "start_time": "2023-02-07T11:23:23.750Z"
   },
   {
    "duration": 13,
    "start_time": "2023-02-07T11:23:30.379Z"
   },
   {
    "duration": 26,
    "start_time": "2023-02-07T11:23:33.877Z"
   },
   {
    "duration": 23,
    "start_time": "2023-02-07T11:25:25.008Z"
   },
   {
    "duration": 13,
    "start_time": "2023-02-07T11:25:34.430Z"
   },
   {
    "duration": 14,
    "start_time": "2023-02-07T11:26:08.822Z"
   },
   {
    "duration": 1066,
    "start_time": "2023-02-07T11:34:10.564Z"
   },
   {
    "duration": 150,
    "start_time": "2023-02-07T11:34:11.632Z"
   },
   {
    "duration": 13,
    "start_time": "2023-02-07T11:34:11.784Z"
   },
   {
    "duration": 27,
    "start_time": "2023-02-07T11:34:11.800Z"
   },
   {
    "duration": 5,
    "start_time": "2023-02-07T11:34:11.829Z"
   },
   {
    "duration": 12,
    "start_time": "2023-02-07T11:34:11.836Z"
   },
   {
    "duration": 6,
    "start_time": "2023-02-07T11:34:11.850Z"
   },
   {
    "duration": 4,
    "start_time": "2023-02-07T11:34:11.858Z"
   },
   {
    "duration": 13,
    "start_time": "2023-02-07T11:34:11.863Z"
   },
   {
    "duration": 23,
    "start_time": "2023-02-07T11:34:11.878Z"
   },
   {
    "duration": 7,
    "start_time": "2023-02-07T11:34:11.902Z"
   },
   {
    "duration": 6,
    "start_time": "2023-02-07T11:34:11.910Z"
   },
   {
    "duration": 8,
    "start_time": "2023-02-07T11:34:11.918Z"
   },
   {
    "duration": 6,
    "start_time": "2023-02-07T11:34:11.927Z"
   },
   {
    "duration": 6,
    "start_time": "2023-02-07T11:34:11.934Z"
   },
   {
    "duration": 5,
    "start_time": "2023-02-07T11:34:11.941Z"
   },
   {
    "duration": 5,
    "start_time": "2023-02-07T11:34:11.947Z"
   },
   {
    "duration": 41,
    "start_time": "2023-02-07T11:34:11.954Z"
   },
   {
    "duration": 14,
    "start_time": "2023-02-07T11:34:11.997Z"
   },
   {
    "duration": 29,
    "start_time": "2023-02-07T11:34:12.013Z"
   },
   {
    "duration": 9,
    "start_time": "2023-02-07T11:34:12.044Z"
   },
   {
    "duration": 10,
    "start_time": "2023-02-07T11:34:12.054Z"
   },
   {
    "duration": 16,
    "start_time": "2023-02-07T11:34:12.066Z"
   },
   {
    "duration": 18,
    "start_time": "2023-02-07T11:34:12.083Z"
   },
   {
    "duration": 9,
    "start_time": "2023-02-07T11:34:12.103Z"
   },
   {
    "duration": 18,
    "start_time": "2023-02-07T11:34:12.117Z"
   },
   {
    "duration": 10,
    "start_time": "2023-02-07T11:34:12.137Z"
   },
   {
    "duration": 8,
    "start_time": "2023-02-07T11:34:12.151Z"
   },
   {
    "duration": 5,
    "start_time": "2023-02-07T11:34:12.161Z"
   },
   {
    "duration": 9,
    "start_time": "2023-02-07T11:34:12.168Z"
   },
   {
    "duration": 23,
    "start_time": "2023-02-07T11:34:12.179Z"
   },
   {
    "duration": 30,
    "start_time": "2023-02-07T11:34:12.203Z"
   },
   {
    "duration": 18,
    "start_time": "2023-02-07T11:34:12.235Z"
   },
   {
    "duration": 6,
    "start_time": "2023-02-07T11:34:12.255Z"
   },
   {
    "duration": 10,
    "start_time": "2023-02-07T11:34:12.263Z"
   },
   {
    "duration": 189,
    "start_time": "2023-02-07T11:34:12.274Z"
   },
   {
    "duration": 141,
    "start_time": "2023-02-07T11:34:12.465Z"
   },
   {
    "duration": 15,
    "start_time": "2023-02-07T11:34:12.610Z"
   },
   {
    "duration": 9,
    "start_time": "2023-02-07T11:34:12.626Z"
   },
   {
    "duration": 390,
    "start_time": "2023-02-07T11:34:12.637Z"
   },
   {
    "duration": 301,
    "start_time": "2023-02-07T11:34:13.029Z"
   },
   {
    "duration": 6,
    "start_time": "2023-02-07T11:34:13.332Z"
   },
   {
    "duration": 450,
    "start_time": "2023-02-07T11:34:13.339Z"
   },
   {
    "duration": 8,
    "start_time": "2023-02-07T11:34:13.791Z"
   },
   {
    "duration": 22,
    "start_time": "2023-02-07T11:34:13.803Z"
   },
   {
    "duration": 342,
    "start_time": "2023-02-07T11:34:13.827Z"
   },
   {
    "duration": 452,
    "start_time": "2023-02-07T11:34:14.171Z"
   },
   {
    "duration": 12,
    "start_time": "2023-02-07T11:34:14.625Z"
   },
   {
    "duration": 236,
    "start_time": "2023-02-07T11:34:14.639Z"
   },
   {
    "duration": 5,
    "start_time": "2023-02-07T11:34:14.877Z"
   },
   {
    "duration": 213,
    "start_time": "2023-02-07T11:34:14.891Z"
   },
   {
    "duration": 12,
    "start_time": "2023-02-07T11:34:15.106Z"
   },
   {
    "duration": 241,
    "start_time": "2023-02-07T11:34:15.119Z"
   },
   {
    "duration": 5,
    "start_time": "2023-02-07T11:34:15.362Z"
   },
   {
    "duration": 28,
    "start_time": "2023-02-07T11:34:15.369Z"
   },
   {
    "duration": 77,
    "start_time": "2023-02-07T11:34:15.399Z"
   },
   {
    "duration": 10,
    "start_time": "2023-02-07T11:34:15.478Z"
   },
   {
    "duration": 83,
    "start_time": "2023-02-07T11:34:15.489Z"
   },
   {
    "duration": 65,
    "start_time": "2023-02-07T11:34:15.574Z"
   },
   {
    "duration": 53,
    "start_time": "2023-02-07T11:34:15.642Z"
   },
   {
    "duration": 45,
    "start_time": "2023-02-07T11:34:15.697Z"
   },
   {
    "duration": 62,
    "start_time": "2023-02-07T11:34:15.744Z"
   },
   {
    "duration": 65,
    "start_time": "2023-02-07T11:34:15.807Z"
   },
   {
    "duration": 182,
    "start_time": "2023-02-07T11:34:15.874Z"
   },
   {
    "duration": 7,
    "start_time": "2023-02-07T11:34:16.060Z"
   },
   {
    "duration": 40,
    "start_time": "2023-02-07T11:34:16.069Z"
   },
   {
    "duration": 31,
    "start_time": "2023-02-07T11:34:16.110Z"
   },
   {
    "duration": 20,
    "start_time": "2023-02-07T11:34:16.143Z"
   },
   {
    "duration": 19,
    "start_time": "2023-02-07T11:34:16.168Z"
   },
   {
    "duration": 54,
    "start_time": "2023-02-07T11:34:16.189Z"
   },
   {
    "duration": 29,
    "start_time": "2023-02-07T11:34:16.247Z"
   },
   {
    "duration": 22,
    "start_time": "2023-02-07T11:34:16.278Z"
   },
   {
    "duration": 1101,
    "start_time": "2023-02-07T12:20:43.898Z"
   },
   {
    "duration": 136,
    "start_time": "2023-02-07T12:20:45.002Z"
   },
   {
    "duration": 14,
    "start_time": "2023-02-07T12:20:45.140Z"
   },
   {
    "duration": 5,
    "start_time": "2023-02-07T12:20:45.157Z"
   },
   {
    "duration": 6,
    "start_time": "2023-02-07T12:20:45.164Z"
   },
   {
    "duration": 11,
    "start_time": "2023-02-07T12:20:45.172Z"
   },
   {
    "duration": 13,
    "start_time": "2023-02-07T12:20:45.185Z"
   },
   {
    "duration": 23,
    "start_time": "2023-02-07T12:20:45.200Z"
   },
   {
    "duration": 13,
    "start_time": "2023-02-07T12:20:45.228Z"
   },
   {
    "duration": 14,
    "start_time": "2023-02-07T12:20:45.243Z"
   },
   {
    "duration": 10,
    "start_time": "2023-02-07T12:20:45.259Z"
   },
   {
    "duration": 12,
    "start_time": "2023-02-07T12:20:45.270Z"
   },
   {
    "duration": 6,
    "start_time": "2023-02-07T12:20:45.284Z"
   },
   {
    "duration": 10,
    "start_time": "2023-02-07T12:20:45.291Z"
   },
   {
    "duration": 10,
    "start_time": "2023-02-07T12:20:45.303Z"
   },
   {
    "duration": 5,
    "start_time": "2023-02-07T12:20:45.316Z"
   },
   {
    "duration": 5,
    "start_time": "2023-02-07T12:20:45.323Z"
   },
   {
    "duration": 17,
    "start_time": "2023-02-07T12:20:45.330Z"
   },
   {
    "duration": 8,
    "start_time": "2023-02-07T12:20:45.349Z"
   },
   {
    "duration": 11,
    "start_time": "2023-02-07T12:20:45.358Z"
   },
   {
    "duration": 28,
    "start_time": "2023-02-07T12:20:45.371Z"
   },
   {
    "duration": 14,
    "start_time": "2023-02-07T12:20:45.400Z"
   },
   {
    "duration": 6,
    "start_time": "2023-02-07T12:20:45.417Z"
   },
   {
    "duration": 12,
    "start_time": "2023-02-07T12:20:45.425Z"
   },
   {
    "duration": 7,
    "start_time": "2023-02-07T12:20:45.439Z"
   },
   {
    "duration": 8,
    "start_time": "2023-02-07T12:20:45.447Z"
   },
   {
    "duration": 5,
    "start_time": "2023-02-07T12:20:45.457Z"
   },
   {
    "duration": 15,
    "start_time": "2023-02-07T12:20:45.491Z"
   },
   {
    "duration": 8,
    "start_time": "2023-02-07T12:20:45.508Z"
   },
   {
    "duration": 12,
    "start_time": "2023-02-07T12:20:45.518Z"
   },
   {
    "duration": 12,
    "start_time": "2023-02-07T12:20:45.531Z"
   },
   {
    "duration": 8,
    "start_time": "2023-02-07T12:20:45.544Z"
   },
   {
    "duration": 16,
    "start_time": "2023-02-07T12:20:45.553Z"
   },
   {
    "duration": 28,
    "start_time": "2023-02-07T12:20:45.570Z"
   },
   {
    "duration": 16,
    "start_time": "2023-02-07T12:20:45.600Z"
   },
   {
    "duration": 177,
    "start_time": "2023-02-07T12:20:45.618Z"
   },
   {
    "duration": 133,
    "start_time": "2023-02-07T12:20:45.797Z"
   },
   {
    "duration": 14,
    "start_time": "2023-02-07T12:20:45.932Z"
   },
   {
    "duration": 7,
    "start_time": "2023-02-07T12:20:45.948Z"
   },
   {
    "duration": 438,
    "start_time": "2023-02-07T12:20:45.957Z"
   },
   {
    "duration": 289,
    "start_time": "2023-02-07T12:20:46.397Z"
   },
   {
    "duration": 6,
    "start_time": "2023-02-07T12:20:46.692Z"
   },
   {
    "duration": 369,
    "start_time": "2023-02-07T12:20:46.700Z"
   },
   {
    "duration": 6,
    "start_time": "2023-02-07T12:20:47.071Z"
   },
   {
    "duration": 18,
    "start_time": "2023-02-07T12:20:47.078Z"
   },
   {
    "duration": 319,
    "start_time": "2023-02-07T12:20:47.098Z"
   },
   {
    "duration": 421,
    "start_time": "2023-02-07T12:20:47.419Z"
   },
   {
    "duration": 9,
    "start_time": "2023-02-07T12:20:47.842Z"
   },
   {
    "duration": 214,
    "start_time": "2023-02-07T12:20:47.853Z"
   },
   {
    "duration": 7,
    "start_time": "2023-02-07T12:20:48.068Z"
   },
   {
    "duration": 205,
    "start_time": "2023-02-07T12:20:48.077Z"
   },
   {
    "duration": 24,
    "start_time": "2023-02-07T12:20:48.284Z"
   },
   {
    "duration": 196,
    "start_time": "2023-02-07T12:20:48.310Z"
   },
   {
    "duration": 6,
    "start_time": "2023-02-07T12:20:48.508Z"
   },
   {
    "duration": 15,
    "start_time": "2023-02-07T12:20:48.515Z"
   },
   {
    "duration": 48,
    "start_time": "2023-02-07T12:20:48.532Z"
   },
   {
    "duration": 14,
    "start_time": "2023-02-07T12:20:48.582Z"
   },
   {
    "duration": 52,
    "start_time": "2023-02-07T12:20:48.598Z"
   },
   {
    "duration": 18,
    "start_time": "2023-02-07T12:20:48.652Z"
   },
   {
    "duration": 70,
    "start_time": "2023-02-07T12:20:48.671Z"
   },
   {
    "duration": 22,
    "start_time": "2023-02-07T12:20:48.744Z"
   },
   {
    "duration": 69,
    "start_time": "2023-02-07T12:20:48.769Z"
   },
   {
    "duration": 34,
    "start_time": "2023-02-07T12:20:48.840Z"
   },
   {
    "duration": 190,
    "start_time": "2023-02-07T12:20:48.876Z"
   },
   {
    "duration": 8,
    "start_time": "2023-02-07T12:20:49.068Z"
   },
   {
    "duration": 73,
    "start_time": "2023-02-07T12:20:49.078Z"
   },
   {
    "duration": 13,
    "start_time": "2023-02-07T12:20:49.153Z"
   },
   {
    "duration": 9,
    "start_time": "2023-02-07T12:20:49.168Z"
   },
   {
    "duration": 23,
    "start_time": "2023-02-07T12:20:49.179Z"
   },
   {
    "duration": 32,
    "start_time": "2023-02-07T12:20:49.204Z"
   },
   {
    "duration": 27,
    "start_time": "2023-02-07T12:20:49.238Z"
   },
   {
    "duration": 20,
    "start_time": "2023-02-07T12:20:49.267Z"
   },
   {
    "duration": 1063,
    "start_time": "2023-02-07T18:20:37.538Z"
   },
   {
    "duration": 139,
    "start_time": "2023-02-07T18:20:38.603Z"
   },
   {
    "duration": 17,
    "start_time": "2023-02-07T18:20:38.752Z"
   },
   {
    "duration": 20,
    "start_time": "2023-02-07T18:20:38.770Z"
   },
   {
    "duration": 6,
    "start_time": "2023-02-07T18:20:38.792Z"
   },
   {
    "duration": 10,
    "start_time": "2023-02-07T18:20:38.799Z"
   },
   {
    "duration": 10,
    "start_time": "2023-02-07T18:20:38.810Z"
   },
   {
    "duration": 6,
    "start_time": "2023-02-07T18:20:38.821Z"
   },
   {
    "duration": 13,
    "start_time": "2023-02-07T18:20:38.828Z"
   },
   {
    "duration": 32,
    "start_time": "2023-02-07T18:20:38.843Z"
   },
   {
    "duration": 12,
    "start_time": "2023-02-07T18:20:38.877Z"
   },
   {
    "duration": 12,
    "start_time": "2023-02-07T18:20:38.891Z"
   },
   {
    "duration": 5,
    "start_time": "2023-02-07T18:20:38.904Z"
   },
   {
    "duration": 15,
    "start_time": "2023-02-07T18:20:38.912Z"
   },
   {
    "duration": 8,
    "start_time": "2023-02-07T18:20:38.929Z"
   },
   {
    "duration": 10,
    "start_time": "2023-02-07T18:20:38.938Z"
   },
   {
    "duration": 21,
    "start_time": "2023-02-07T18:20:38.949Z"
   },
   {
    "duration": 20,
    "start_time": "2023-02-07T18:20:38.973Z"
   },
   {
    "duration": 4,
    "start_time": "2023-02-07T18:20:38.994Z"
   },
   {
    "duration": 13,
    "start_time": "2023-02-07T18:20:38.999Z"
   },
   {
    "duration": 16,
    "start_time": "2023-02-07T18:20:39.014Z"
   },
   {
    "duration": 10,
    "start_time": "2023-02-07T18:20:39.032Z"
   },
   {
    "duration": 24,
    "start_time": "2023-02-07T18:20:39.043Z"
   },
   {
    "duration": 15,
    "start_time": "2023-02-07T18:20:39.069Z"
   },
   {
    "duration": 7,
    "start_time": "2023-02-07T18:20:39.085Z"
   },
   {
    "duration": 8,
    "start_time": "2023-02-07T18:20:39.093Z"
   },
   {
    "duration": 6,
    "start_time": "2023-02-07T18:20:39.103Z"
   },
   {
    "duration": 55,
    "start_time": "2023-02-07T18:20:39.110Z"
   },
   {
    "duration": 8,
    "start_time": "2023-02-07T18:20:39.167Z"
   },
   {
    "duration": 15,
    "start_time": "2023-02-07T18:20:39.177Z"
   },
   {
    "duration": 16,
    "start_time": "2023-02-07T18:20:39.195Z"
   },
   {
    "duration": 17,
    "start_time": "2023-02-07T18:20:39.212Z"
   },
   {
    "duration": 13,
    "start_time": "2023-02-07T18:20:39.231Z"
   },
   {
    "duration": 20,
    "start_time": "2023-02-07T18:20:39.247Z"
   },
   {
    "duration": 12,
    "start_time": "2023-02-07T18:20:39.269Z"
   },
   {
    "duration": 174,
    "start_time": "2023-02-07T18:20:39.282Z"
   },
   {
    "duration": 141,
    "start_time": "2023-02-07T18:20:39.461Z"
   },
   {
    "duration": 11,
    "start_time": "2023-02-07T18:20:39.603Z"
   },
   {
    "duration": 9,
    "start_time": "2023-02-07T18:20:39.615Z"
   },
   {
    "duration": 320,
    "start_time": "2023-02-07T18:20:39.625Z"
   },
   {
    "duration": 249,
    "start_time": "2023-02-07T18:20:39.953Z"
   },
   {
    "duration": 6,
    "start_time": "2023-02-07T18:20:40.203Z"
   },
   {
    "duration": 371,
    "start_time": "2023-02-07T18:20:40.210Z"
   },
   {
    "duration": 6,
    "start_time": "2023-02-07T18:20:40.582Z"
   },
   {
    "duration": 10,
    "start_time": "2023-02-07T18:20:40.589Z"
   },
   {
    "duration": 286,
    "start_time": "2023-02-07T18:20:40.601Z"
   },
   {
    "duration": 368,
    "start_time": "2023-02-07T18:20:40.888Z"
   },
   {
    "duration": 9,
    "start_time": "2023-02-07T18:20:41.260Z"
   },
   {
    "duration": 179,
    "start_time": "2023-02-07T18:20:41.271Z"
   },
   {
    "duration": 5,
    "start_time": "2023-02-07T18:20:41.456Z"
   },
   {
    "duration": 178,
    "start_time": "2023-02-07T18:20:41.464Z"
   },
   {
    "duration": 16,
    "start_time": "2023-02-07T18:20:41.648Z"
   },
   {
    "duration": 216,
    "start_time": "2023-02-07T18:20:41.666Z"
   },
   {
    "duration": 7,
    "start_time": "2023-02-07T18:20:41.884Z"
   },
   {
    "duration": 10,
    "start_time": "2023-02-07T18:20:41.893Z"
   },
   {
    "duration": 50,
    "start_time": "2023-02-07T18:20:41.904Z"
   },
   {
    "duration": 19,
    "start_time": "2023-02-07T18:20:41.959Z"
   },
   {
    "duration": 45,
    "start_time": "2023-02-07T18:20:41.979Z"
   },
   {
    "duration": 20,
    "start_time": "2023-02-07T18:20:42.025Z"
   },
   {
    "duration": 62,
    "start_time": "2023-02-07T18:20:42.050Z"
   },
   {
    "duration": 17,
    "start_time": "2023-02-07T18:20:42.114Z"
   },
   {
    "duration": 48,
    "start_time": "2023-02-07T18:20:42.133Z"
   },
   {
    "duration": 36,
    "start_time": "2023-02-07T18:20:42.182Z"
   },
   {
    "duration": 140,
    "start_time": "2023-02-07T18:20:42.219Z"
   },
   {
    "duration": 7,
    "start_time": "2023-02-07T18:20:42.360Z"
   },
   {
    "duration": 40,
    "start_time": "2023-02-07T18:20:42.368Z"
   },
   {
    "duration": 8,
    "start_time": "2023-02-07T18:20:42.410Z"
   },
   {
    "duration": 11,
    "start_time": "2023-02-07T18:20:42.419Z"
   },
   {
    "duration": 11,
    "start_time": "2023-02-07T18:20:42.432Z"
   },
   {
    "duration": 31,
    "start_time": "2023-02-07T18:20:42.446Z"
   },
   {
    "duration": 23,
    "start_time": "2023-02-07T18:20:42.479Z"
   },
   {
    "duration": 11,
    "start_time": "2023-02-07T18:20:42.503Z"
   }
  ],
  "kernelspec": {
   "display_name": "Python 3 (ipykernel)",
   "language": "python",
   "name": "python3"
  },
  "language_info": {
   "codemirror_mode": {
    "name": "ipython",
    "version": 3
   },
   "file_extension": ".py",
   "mimetype": "text/x-python",
   "name": "python",
   "nbconvert_exporter": "python",
   "pygments_lexer": "ipython3",
   "version": "3.9.12"
  },
  "toc": {
   "base_numbering": 1,
   "nav_menu": {},
   "number_sections": true,
   "sideBar": true,
   "skip_h1_title": true,
   "title_cell": "Table of Contents",
   "title_sidebar": "Contents",
   "toc_cell": true,
   "toc_position": {
    "height": "calc(100% - 180px)",
    "left": "10px",
    "top": "150px",
    "width": "384px"
   },
   "toc_section_display": true,
   "toc_window_display": false
  }
 },
 "nbformat": 4,
 "nbformat_minor": 2
}
